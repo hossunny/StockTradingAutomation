{
 "cells": [
  {
   "cell_type": "markdown",
   "metadata": {},
   "source": [
    "# Delisted & Suspended Stocks Filtering\n",
    "\n",
    "* Price Loader에서 Filtering을 해줄 수 있지만 추가로 정보를 보려면 KRX 공개 정보를 확인하면 된다."
   ]
  },
  {
   "cell_type": "code",
   "execution_count": 1,
   "metadata": {},
   "outputs": [],
   "source": [
    "import logging, os, pickle\n",
    "import requests, glob\n",
    "from datetime import datetime\n",
    "from bs4 import BeautifulSoup\n",
    "from datetime import datetime\n",
    "import pandas as pd\n",
    "import time\n",
    "from datetime import date\n",
    "import urllib.request\n",
    "from selenium.webdriver import Chrome\n",
    "import json, re, sys, h5py\n",
    "from selenium.webdriver.chrome.options import Options\n",
    "from selenium.webdriver.common.keys import Keys\n",
    "import datetime as dt\n",
    "import pymysql\n",
    "import matplotlib.pyplot as plt\n",
    "from selenium.webdriver.support.ui import WebDriverWait\n",
    "from selenium.webdriver.support import expected_conditions as EC\n",
    "from selenium.webdriver.common.by import By\n",
    "from pykrx import stock\n",
    "import warnings\n",
    "warnings.filterwarnings(action='ignore')\n",
    "import shutil\n",
    "from matplotlib.pyplot import cm\n",
    "import numpy as np\n",
    "import scipy.stats as stats\n",
    "from scipy import stats\n",
    "import pyautogui\n",
    "from statsmodels.tsa.stattools import coint, adfuller\n",
    "from sklearn.linear_model import LinearRegression\n",
    "import matplotlib.font_manager as fm\n",
    "import sys\n",
    "import seaborn as sns\n",
    "%matplotlib inline\n",
    "plt.rcParams['font.family'] = 'NanumSquare_ac'\n",
    "sys.path.append('C:\\\\Users\\Bae Kyungmo\\OneDrive\\Desktop\\StockTraidingAutomation\\DataModeling')\n",
    "from Loader_v2 import Loader\n",
    "ldr = Loader(pwd='z')"
   ]
  },
  {
   "cell_type": "code",
   "execution_count": 11,
   "metadata": {},
   "outputs": [
    {
     "data": {
      "text/plain": [
       "['../FullCache\\\\매매거래정지종목_2021.csv', '../FullCache\\\\상장폐지종목_2010_2021.csv']"
      ]
     },
     "execution_count": 11,
     "metadata": {},
     "output_type": "execute_result"
    }
   ],
   "source": [
    "files = glob.glob(\"../FullCache/*.csv\")\n",
    "files"
   ]
  },
  {
   "cell_type": "code",
   "execution_count": 13,
   "metadata": {},
   "outputs": [],
   "source": [
    "def DelistTransfer(df):\n",
    "    transfer = df.copy()\n",
    "    code_format = []\n",
    "    for e in transfer['이전상장후_종목코드'].values:\n",
    "        try :\n",
    "            code_format.append('{:06d}'.format(int(e)))\n",
    "        except :\n",
    "            code_format.append(np.nan)\n",
    "    transfer['이전상장후_종목코드'] = code_format\n",
    "    transfer.drop(['번호','증권구분','주식종류','업종','액면가','상장주식수'],axis=1,inplace=True)\n",
    "    transfer['상장일'] = transfer['상장일'].map(lambda x : x.replace('/','-'))\n",
    "    transfer['폐지일'] = transfer['폐지일'].map(lambda x : x.replace('/','-'))\n",
    "    transfer['정리매매기간_시작일'] = transfer['정리매매기간_시작일'].map(lambda x : x.replace('/','-') if type(x)==str else x)\n",
    "    transfer['정리매매기간_종료일'] = transfer['정리매매기간_종료일'].map(lambda x : x.replace('/','-') if type(x)==str else x)\n",
    "    return transfer"
   ]
  },
  {
   "cell_type": "code",
   "execution_count": 14,
   "metadata": {},
   "outputs": [],
   "source": [
    "delist = pd.read_csv(files[1],encoding='cp949')\n",
    "qq = DelistTransfer(delist)"
   ]
  },
  {
   "cell_type": "code",
   "execution_count": 197,
   "metadata": {},
   "outputs": [],
   "source": [
    "def DelistComplement():\n",
    "    pr1 = ldr.GetPricelv1('2010-01-01','2021-03-10')\n",
    "    pr1 = pr1[lambda x : x['volume']==0]\n",
    "    dl_codes = list(set(pr1.CODE.values))\n",
    "    delist_dict = {}\n",
    "    for cd in dl_codes:\n",
    "        tmp = pr1[pr1.CODE==cd].sort_values(by=['DATE'])\n",
    "        delist_dict[cd] = tmp.DATE.to_list()\n",
    "    return delist_dict"
   ]
  },
  {
   "cell_type": "code",
   "execution_count": 198,
   "metadata": {},
   "outputs": [
    {
     "name": "stdout",
     "output_type": "stream",
     "text": [
      "Wall time: 41.9 s\n"
     ]
    }
   ],
   "source": [
    "%%time\n",
    "rst = DelistComplement()"
   ]
  },
  {
   "cell_type": "code",
   "execution_count": null,
   "metadata": {},
   "outputs": [],
   "source": []
  },
  {
   "cell_type": "code",
   "execution_count": null,
   "metadata": {},
   "outputs": [],
   "source": []
  }
 ],
 "metadata": {
  "kernelspec": {
   "display_name": "Python 3",
   "language": "python",
   "name": "python3"
  },
  "language_info": {
   "codemirror_mode": {
    "name": "ipython",
    "version": 3
   },
   "file_extension": ".py",
   "mimetype": "text/x-python",
   "name": "python",
   "nbconvert_exporter": "python",
   "pygments_lexer": "ipython3",
   "version": "3.8.5"
  }
 },
 "nbformat": 4,
 "nbformat_minor": 4
}
