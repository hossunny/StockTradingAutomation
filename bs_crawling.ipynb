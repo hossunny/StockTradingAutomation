{
 "cells": [
  {
   "cell_type": "markdown",
   "metadata": {},
   "source": [
    "# Financial Balance Sheet Crawling"
   ]
  },
  {
   "cell_type": "code",
   "execution_count": 23,
   "metadata": {},
   "outputs": [],
   "source": [
    "import json\n",
    "import requests, os\n",
    "from bs4 import BeautifulSoup\n",
    "import pandas as pd"
   ]
  },
  {
   "cell_type": "code",
   "execution_count": 2,
   "metadata": {},
   "outputs": [],
   "source": [
    "url = \"https://finance.naver.com/item/coinfo.nhn?code=000060\""
   ]
  },
  {
   "cell_type": "code",
   "execution_count": 3,
   "metadata": {},
   "outputs": [],
   "source": [
    "response = requests.get(url)"
   ]
  },
  {
   "cell_type": "code",
   "execution_count": 4,
   "metadata": {},
   "outputs": [
    {
     "data": {
      "text/plain": [
       "<Response [200]>"
      ]
     },
     "execution_count": 4,
     "metadata": {},
     "output_type": "execute_result"
    }
   ],
   "source": [
    "response"
   ]
  },
  {
   "cell_type": "code",
   "execution_count": 7,
   "metadata": {},
   "outputs": [],
   "source": [
    "bs = BeautifulSoup(response.text, \"lxml\")"
   ]
  },
  {
   "cell_type": "code",
   "execution_count": 19,
   "metadata": {},
   "outputs": [
    {
     "data": {
      "text/plain": [
       "'https://ssl.pstatic.net/imgstock/static.pc/20210107200133/css/finance_header.css'"
      ]
     },
     "execution_count": 19,
     "metadata": {},
     "output_type": "execute_result"
    }
   ],
   "source": [
    "bs.find(\"link\").get(\"href\")"
   ]
  },
  {
   "cell_type": "code",
   "execution_count": 22,
   "metadata": {},
   "outputs": [],
   "source": [
    "bs.find(\"div\",{\"class\":\"cBk\"})"
   ]
  },
  {
   "cell_type": "code",
   "execution_count": 24,
   "metadata": {},
   "outputs": [],
   "source": [
    "url_tmpl = 'http://media.kisline.com/highlight/mainHighlight.nice?nav=1&paper_stock=%s'\n"
   ]
  },
  {
   "cell_type": "code",
   "execution_count": 27,
   "metadata": {},
   "outputs": [],
   "source": [
    "url = url_tmpl % ('005930')\n",
    "tables = pd.read_html(url,encoding='euc-kr')"
   ]
  },
  {
   "cell_type": "code",
   "execution_count": 28,
   "metadata": {},
   "outputs": [
    {
     "data": {
      "text/plain": [
       "[    0   1\n",
       " 0 NaN NaN\n",
       " 1 NaN NaN]"
      ]
     },
     "execution_count": 28,
     "metadata": {},
     "output_type": "execute_result"
    }
   ],
   "source": [
    "tables"
   ]
  },
  {
   "cell_type": "code",
   "execution_count": 29,
   "metadata": {},
   "outputs": [],
   "source": [
    "url_tmpl = 'https://finance.naver.com/item/main.nhn?code=%s'\n",
    "url = url_tmpl % ('005930')\n",
    "tables = pd.read_html(url,encoding='euc-kr')"
   ]
  },
  {
   "cell_type": "code",
   "execution_count": 37,
   "metadata": {},
   "outputs": [
    {
     "data": {
      "text/html": [
       "<div>\n",
       "<style scoped>\n",
       "    .dataframe tbody tr th:only-of-type {\n",
       "        vertical-align: middle;\n",
       "    }\n",
       "\n",
       "    .dataframe tbody tr th {\n",
       "        vertical-align: top;\n",
       "    }\n",
       "\n",
       "    .dataframe thead tr th {\n",
       "        text-align: left;\n",
       "    }\n",
       "</style>\n",
       "<table border=\"1\" class=\"dataframe\">\n",
       "  <thead>\n",
       "    <tr>\n",
       "      <th></th>\n",
       "      <th>주요재무정보</th>\n",
       "      <th colspan=\"4\" halign=\"left\">최근 연간 실적</th>\n",
       "      <th colspan=\"6\" halign=\"left\">최근 분기 실적</th>\n",
       "    </tr>\n",
       "    <tr>\n",
       "      <th></th>\n",
       "      <th>주요재무정보</th>\n",
       "      <th>2017.12</th>\n",
       "      <th>2018.12</th>\n",
       "      <th>2019.12</th>\n",
       "      <th>2020.12(E)</th>\n",
       "      <th>2019.09</th>\n",
       "      <th>2019.12</th>\n",
       "      <th>2020.03</th>\n",
       "      <th>2020.06</th>\n",
       "      <th>2020.09</th>\n",
       "      <th>2020.12(E)</th>\n",
       "    </tr>\n",
       "    <tr>\n",
       "      <th></th>\n",
       "      <th>주요재무정보</th>\n",
       "      <th>IFRS연결</th>\n",
       "      <th>IFRS연결</th>\n",
       "      <th>IFRS연결</th>\n",
       "      <th>IFRS연결</th>\n",
       "      <th>IFRS연결</th>\n",
       "      <th>IFRS연결</th>\n",
       "      <th>IFRS연결</th>\n",
       "      <th>IFRS연결</th>\n",
       "      <th>IFRS연결</th>\n",
       "      <th>IFRS연결</th>\n",
       "    </tr>\n",
       "  </thead>\n",
       "  <tbody>\n",
       "    <tr>\n",
       "      <th>0</th>\n",
       "      <td>매출액</td>\n",
       "      <td>2395754.00</td>\n",
       "      <td>2437714.00</td>\n",
       "      <td>2304009.00</td>\n",
       "      <td>2363386.00</td>\n",
       "      <td>620035.00</td>\n",
       "      <td>598848.00</td>\n",
       "      <td>553252.00</td>\n",
       "      <td>529661.00</td>\n",
       "      <td>669642.00</td>\n",
       "      <td>610660.00</td>\n",
       "    </tr>\n",
       "    <tr>\n",
       "      <th>1</th>\n",
       "      <td>영업이익</td>\n",
       "      <td>536450.00</td>\n",
       "      <td>588867.00</td>\n",
       "      <td>277685.00</td>\n",
       "      <td>362889.00</td>\n",
       "      <td>77779.00</td>\n",
       "      <td>71603.00</td>\n",
       "      <td>64473.00</td>\n",
       "      <td>81463.00</td>\n",
       "      <td>123532.00</td>\n",
       "      <td>93461.00</td>\n",
       "    </tr>\n",
       "    <tr>\n",
       "      <th>2</th>\n",
       "      <td>당기순이익</td>\n",
       "      <td>421867.00</td>\n",
       "      <td>443449.00</td>\n",
       "      <td>217389.00</td>\n",
       "      <td>273242.00</td>\n",
       "      <td>62877.00</td>\n",
       "      <td>52270.00</td>\n",
       "      <td>48849.00</td>\n",
       "      <td>55551.00</td>\n",
       "      <td>93607.00</td>\n",
       "      <td>74130.00</td>\n",
       "    </tr>\n",
       "    <tr>\n",
       "      <th>3</th>\n",
       "      <td>영업이익률</td>\n",
       "      <td>22.39</td>\n",
       "      <td>24.16</td>\n",
       "      <td>12.05</td>\n",
       "      <td>15.35</td>\n",
       "      <td>12.54</td>\n",
       "      <td>11.96</td>\n",
       "      <td>11.65</td>\n",
       "      <td>15.38</td>\n",
       "      <td>18.45</td>\n",
       "      <td>15.30</td>\n",
       "    </tr>\n",
       "    <tr>\n",
       "      <th>4</th>\n",
       "      <td>순이익률</td>\n",
       "      <td>17.61</td>\n",
       "      <td>18.19</td>\n",
       "      <td>9.44</td>\n",
       "      <td>11.56</td>\n",
       "      <td>10.14</td>\n",
       "      <td>8.73</td>\n",
       "      <td>8.83</td>\n",
       "      <td>10.49</td>\n",
       "      <td>13.98</td>\n",
       "      <td>12.14</td>\n",
       "    </tr>\n",
       "    <tr>\n",
       "      <th>5</th>\n",
       "      <td>ROE(지배주주)</td>\n",
       "      <td>21.01</td>\n",
       "      <td>19.63</td>\n",
       "      <td>8.69</td>\n",
       "      <td>10.29</td>\n",
       "      <td>10.05</td>\n",
       "      <td>8.69</td>\n",
       "      <td>8.45</td>\n",
       "      <td>8.49</td>\n",
       "      <td>9.51</td>\n",
       "      <td>NaN</td>\n",
       "    </tr>\n",
       "    <tr>\n",
       "      <th>6</th>\n",
       "      <td>부채비율</td>\n",
       "      <td>40.68</td>\n",
       "      <td>36.97</td>\n",
       "      <td>34.12</td>\n",
       "      <td>NaN</td>\n",
       "      <td>34.14</td>\n",
       "      <td>34.12</td>\n",
       "      <td>34.19</td>\n",
       "      <td>32.67</td>\n",
       "      <td>36.09</td>\n",
       "      <td>NaN</td>\n",
       "    </tr>\n",
       "    <tr>\n",
       "      <th>7</th>\n",
       "      <td>당좌비율</td>\n",
       "      <td>181.61</td>\n",
       "      <td>204.12</td>\n",
       "      <td>233.57</td>\n",
       "      <td>NaN</td>\n",
       "      <td>235.80</td>\n",
       "      <td>233.57</td>\n",
       "      <td>237.80</td>\n",
       "      <td>250.04</td>\n",
       "      <td>229.69</td>\n",
       "      <td>NaN</td>\n",
       "    </tr>\n",
       "    <tr>\n",
       "      <th>8</th>\n",
       "      <td>유보율</td>\n",
       "      <td>24536.12</td>\n",
       "      <td>27531.92</td>\n",
       "      <td>28856.02</td>\n",
       "      <td>NaN</td>\n",
       "      <td>28541.64</td>\n",
       "      <td>28856.02</td>\n",
       "      <td>29134.12</td>\n",
       "      <td>29477.97</td>\n",
       "      <td>30242.29</td>\n",
       "      <td>NaN</td>\n",
       "    </tr>\n",
       "    <tr>\n",
       "      <th>9</th>\n",
       "      <td>EPS(원)</td>\n",
       "      <td>5421.00</td>\n",
       "      <td>6024.00</td>\n",
       "      <td>3166.00</td>\n",
       "      <td>3988.00</td>\n",
       "      <td>899.00</td>\n",
       "      <td>770.00</td>\n",
       "      <td>720.00</td>\n",
       "      <td>808.00</td>\n",
       "      <td>1364.00</td>\n",
       "      <td>1052.00</td>\n",
       "    </tr>\n",
       "    <tr>\n",
       "      <th>10</th>\n",
       "      <td>PER(배)</td>\n",
       "      <td>9.40</td>\n",
       "      <td>6.42</td>\n",
       "      <td>17.63</td>\n",
       "      <td>20.79</td>\n",
       "      <td>13.73</td>\n",
       "      <td>17.63</td>\n",
       "      <td>15.24</td>\n",
       "      <td>16.52</td>\n",
       "      <td>15.89</td>\n",
       "      <td>78.82</td>\n",
       "    </tr>\n",
       "    <tr>\n",
       "      <th>11</th>\n",
       "      <td>BPS(원)</td>\n",
       "      <td>30427.00</td>\n",
       "      <td>35342.00</td>\n",
       "      <td>37528.00</td>\n",
       "      <td>40028.00</td>\n",
       "      <td>37600.00</td>\n",
       "      <td>37528.00</td>\n",
       "      <td>38053.00</td>\n",
       "      <td>38534.00</td>\n",
       "      <td>39446.00</td>\n",
       "      <td>40028.00</td>\n",
       "    </tr>\n",
       "    <tr>\n",
       "      <th>12</th>\n",
       "      <td>PBR(배)</td>\n",
       "      <td>1.67</td>\n",
       "      <td>1.09</td>\n",
       "      <td>1.49</td>\n",
       "      <td>2.07</td>\n",
       "      <td>1.30</td>\n",
       "      <td>1.49</td>\n",
       "      <td>1.25</td>\n",
       "      <td>1.37</td>\n",
       "      <td>1.48</td>\n",
       "      <td>2.07</td>\n",
       "    </tr>\n",
       "    <tr>\n",
       "      <th>13</th>\n",
       "      <td>주당배당금(원)</td>\n",
       "      <td>850.00</td>\n",
       "      <td>1416.00</td>\n",
       "      <td>1416.00</td>\n",
       "      <td>1830.00</td>\n",
       "      <td>NaN</td>\n",
       "      <td>NaN</td>\n",
       "      <td>NaN</td>\n",
       "      <td>NaN</td>\n",
       "      <td>NaN</td>\n",
       "      <td>NaN</td>\n",
       "    </tr>\n",
       "    <tr>\n",
       "      <th>14</th>\n",
       "      <td>시가배당률(%)</td>\n",
       "      <td>1.67</td>\n",
       "      <td>3.66</td>\n",
       "      <td>2.54</td>\n",
       "      <td>NaN</td>\n",
       "      <td>NaN</td>\n",
       "      <td>NaN</td>\n",
       "      <td>NaN</td>\n",
       "      <td>NaN</td>\n",
       "      <td>NaN</td>\n",
       "      <td>NaN</td>\n",
       "    </tr>\n",
       "    <tr>\n",
       "      <th>15</th>\n",
       "      <td>배당성향(%)</td>\n",
       "      <td>14.09</td>\n",
       "      <td>21.92</td>\n",
       "      <td>44.73</td>\n",
       "      <td>NaN</td>\n",
       "      <td>NaN</td>\n",
       "      <td>NaN</td>\n",
       "      <td>NaN</td>\n",
       "      <td>NaN</td>\n",
       "      <td>NaN</td>\n",
       "      <td>NaN</td>\n",
       "    </tr>\n",
       "  </tbody>\n",
       "</table>\n",
       "</div>"
      ],
      "text/plain": [
       "       주요재무정보    최근 연간 실적                                       최근 분기 실적  \\\n",
       "       주요재무정보     2017.12     2018.12     2019.12  2020.12(E)    2019.09   \n",
       "       주요재무정보      IFRS연결      IFRS연결      IFRS연결      IFRS연결     IFRS연결   \n",
       "0         매출액  2395754.00  2437714.00  2304009.00  2363386.00  620035.00   \n",
       "1        영업이익   536450.00   588867.00   277685.00   362889.00   77779.00   \n",
       "2       당기순이익   421867.00   443449.00   217389.00   273242.00   62877.00   \n",
       "3       영업이익률       22.39       24.16       12.05       15.35      12.54   \n",
       "4        순이익률       17.61       18.19        9.44       11.56      10.14   \n",
       "5   ROE(지배주주)       21.01       19.63        8.69       10.29      10.05   \n",
       "6        부채비율       40.68       36.97       34.12         NaN      34.14   \n",
       "7        당좌비율      181.61      204.12      233.57         NaN     235.80   \n",
       "8         유보율    24536.12    27531.92    28856.02         NaN   28541.64   \n",
       "9      EPS(원)     5421.00     6024.00     3166.00     3988.00     899.00   \n",
       "10     PER(배)        9.40        6.42       17.63       20.79      13.73   \n",
       "11     BPS(원)    30427.00    35342.00    37528.00    40028.00   37600.00   \n",
       "12     PBR(배)        1.67        1.09        1.49        2.07       1.30   \n",
       "13   주당배당금(원)      850.00     1416.00     1416.00     1830.00        NaN   \n",
       "14   시가배당률(%)        1.67        3.66        2.54         NaN        NaN   \n",
       "15    배당성향(%)       14.09       21.92       44.73         NaN        NaN   \n",
       "\n",
       "                                                           \n",
       "      2019.12    2020.03    2020.06    2020.09 2020.12(E)  \n",
       "       IFRS연결     IFRS연결     IFRS연결     IFRS연결     IFRS연결  \n",
       "0   598848.00  553252.00  529661.00  669642.00  610660.00  \n",
       "1    71603.00   64473.00   81463.00  123532.00   93461.00  \n",
       "2    52270.00   48849.00   55551.00   93607.00   74130.00  \n",
       "3       11.96      11.65      15.38      18.45      15.30  \n",
       "4        8.73       8.83      10.49      13.98      12.14  \n",
       "5        8.69       8.45       8.49       9.51        NaN  \n",
       "6       34.12      34.19      32.67      36.09        NaN  \n",
       "7      233.57     237.80     250.04     229.69        NaN  \n",
       "8    28856.02   29134.12   29477.97   30242.29        NaN  \n",
       "9      770.00     720.00     808.00    1364.00    1052.00  \n",
       "10      17.63      15.24      16.52      15.89      78.82  \n",
       "11   37528.00   38053.00   38534.00   39446.00   40028.00  \n",
       "12       1.49       1.25       1.37       1.48       2.07  \n",
       "13        NaN        NaN        NaN        NaN        NaN  \n",
       "14        NaN        NaN        NaN        NaN        NaN  \n",
       "15        NaN        NaN        NaN        NaN        NaN  "
      ]
     },
     "execution_count": 37,
     "metadata": {},
     "output_type": "execute_result"
    }
   ],
   "source": [
    "tables[3]"
   ]
  },
  {
   "cell_type": "code",
   "execution_count": 50,
   "metadata": {},
   "outputs": [
    {
     "data": {
      "text/plain": [
       "(16, 11)"
      ]
     },
     "execution_count": 50,
     "metadata": {},
     "output_type": "execute_result"
    }
   ],
   "source": [
    "tables[3].shape"
   ]
  },
  {
   "cell_type": "code",
   "execution_count": 51,
   "metadata": {},
   "outputs": [
    {
     "data": {
      "text/plain": [
       "MultiIndex([(  '주요재무정보',     '주요재무정보', '주요재무정보'),\n",
       "            ('최근 연간 실적',    '2017.12', 'IFRS연결'),\n",
       "            ('최근 연간 실적',    '2018.12', 'IFRS연결'),\n",
       "            ('최근 연간 실적',    '2019.12', 'IFRS연결'),\n",
       "            ('최근 연간 실적', '2020.12(E)', 'IFRS연결'),\n",
       "            ('최근 분기 실적',    '2019.09', 'IFRS연결'),\n",
       "            ('최근 분기 실적',    '2019.12', 'IFRS연결'),\n",
       "            ('최근 분기 실적',    '2020.03', 'IFRS연결'),\n",
       "            ('최근 분기 실적',    '2020.06', 'IFRS연결'),\n",
       "            ('최근 분기 실적',    '2020.09', 'IFRS연결'),\n",
       "            ('최근 분기 실적', '2020.12(E)', 'IFRS연결')],\n",
       "           )"
      ]
     },
     "execution_count": 51,
     "metadata": {},
     "output_type": "execute_result"
    }
   ],
   "source": [
    "tables[3].columns"
   ]
  },
  {
   "cell_type": "code",
   "execution_count": 52,
   "metadata": {},
   "outputs": [],
   "source": [
    "url = \"https://finance.naver.com/item/main.nhn?code=005930\""
   ]
  },
  {
   "cell_type": "code",
   "execution_count": 53,
   "metadata": {},
   "outputs": [],
   "source": [
    "sss = requests.get(url)"
   ]
  },
  {
   "cell_type": "code",
   "execution_count": 56,
   "metadata": {},
   "outputs": [],
   "source": [
    "html = sss.text"
   ]
  },
  {
   "cell_type": "code",
   "execution_count": 58,
   "metadata": {},
   "outputs": [],
   "source": [
    "soup = BeautifulSoup(html,'html.parser')"
   ]
  },
  {
   "cell_type": "code",
   "execution_count": null,
   "metadata": {},
   "outputs": [],
   "source": [
    "soup"
   ]
  },
  {
   "cell_type": "code",
   "execution_count": 66,
   "metadata": {},
   "outputs": [],
   "source": [
    "finance_html = soup.select('div.section.cop_analysis div.sub_section')[0]"
   ]
  },
  {
   "cell_type": "code",
   "execution_count": 67,
   "metadata": {},
   "outputs": [],
   "source": [
    "th_data = [item.get_text().strip() for item in finance_html.select('thead th')]"
   ]
  },
  {
   "cell_type": "code",
   "execution_count": 69,
   "metadata": {},
   "outputs": [],
   "source": [
    "annual_date = th_data[3:7]\n",
    "quarter_date = th_data[7:13]"
   ]
  },
  {
   "cell_type": "code",
   "execution_count": 71,
   "metadata": {},
   "outputs": [
    {
     "data": {
      "text/plain": [
       "['2019.09', '2019.12', '2020.03', '2020.06', '2020.09', '2020.12(E)']"
      ]
     },
     "execution_count": 71,
     "metadata": {},
     "output_type": "execute_result"
    }
   ],
   "source": [
    "quarter_date"
   ]
  },
  {
   "cell_type": "code",
   "execution_count": 76,
   "metadata": {},
   "outputs": [],
   "source": [
    "soup.find(\"th\",{\"class\":\"r03c01 bg\"})"
   ]
  },
  {
   "cell_type": "code",
   "execution_count": 77,
   "metadata": {},
   "outputs": [
    {
     "data": {
      "text/plain": [
       "[]"
      ]
     },
     "execution_count": 77,
     "metadata": {},
     "output_type": "execute_result"
    }
   ],
   "source": [
    "soup.select('div.section.blind')"
   ]
  },
  {
   "cell_type": "code",
   "execution_count": 78,
   "metadata": {},
   "outputs": [],
   "source": [
    "url = 'https://navercomp.wisereport.co.kr/v2/company/ajax/cF1001.aspx?cmp_cd=005930&fin_typ=0&freq_typ=Y&encparam=b1lzMTAyZDlneG9BaXpaM0tzdDltdz09&id=VGVTbkwxZ2'"
   ]
  },
  {
   "cell_type": "code",
   "execution_count": 86,
   "metadata": {},
   "outputs": [],
   "source": [
    "rr = requests.get(url)"
   ]
  },
  {
   "cell_type": "code",
   "execution_count": 84,
   "metadata": {},
   "outputs": [
    {
     "ename": "FeatureNotFound",
     "evalue": "Couldn't find a tree builder with the features you requested: xml.parser. Do you need to install a parser library?",
     "output_type": "error",
     "traceback": [
      "\u001b[1;31m---------------------------------------------------------------------------\u001b[0m",
      "\u001b[1;31mFeatureNotFound\u001b[0m                           Traceback (most recent call last)",
      "\u001b[1;32m<ipython-input-84-79d0f9e7156a>\u001b[0m in \u001b[0;36m<module>\u001b[1;34m\u001b[0m\n\u001b[1;32m----> 1\u001b[1;33m \u001b[0msp\u001b[0m \u001b[1;33m=\u001b[0m \u001b[0mBeautifulSoup\u001b[0m\u001b[1;33m(\u001b[0m\u001b[0mrr\u001b[0m\u001b[1;33m,\u001b[0m\u001b[1;34m'xml.parser'\u001b[0m\u001b[1;33m)\u001b[0m\u001b[1;33m\u001b[0m\u001b[1;33m\u001b[0m\u001b[0m\n\u001b[0m",
      "\u001b[1;32mC:\\Users\\Bae Kyungmo\\AppData\\Roaming\\Python\\Python36\\site-packages\\bs4\\__init__.py\u001b[0m in \u001b[0;36m__init__\u001b[1;34m(self, markup, features, builder, parse_only, from_encoding, exclude_encodings, **kwargs)\u001b[0m\n\u001b[0;32m    163\u001b[0m                     \u001b[1;34m\"Couldn't find a tree builder with the features you \"\u001b[0m\u001b[1;33m\u001b[0m\u001b[1;33m\u001b[0m\u001b[0m\n\u001b[0;32m    164\u001b[0m                     \u001b[1;34m\"requested: %s. Do you need to install a parser library?\"\u001b[0m\u001b[1;33m\u001b[0m\u001b[1;33m\u001b[0m\u001b[0m\n\u001b[1;32m--> 165\u001b[1;33m                     % \",\".join(features))\n\u001b[0m\u001b[0;32m    166\u001b[0m             \u001b[0mbuilder\u001b[0m \u001b[1;33m=\u001b[0m \u001b[0mbuilder_class\u001b[0m\u001b[1;33m(\u001b[0m\u001b[1;33m)\u001b[0m\u001b[1;33m\u001b[0m\u001b[1;33m\u001b[0m\u001b[0m\n\u001b[0;32m    167\u001b[0m             if not (original_features == builder.NAME or\n",
      "\u001b[1;31mFeatureNotFound\u001b[0m: Couldn't find a tree builder with the features you requested: xml.parser. Do you need to install a parser library?"
     ]
    }
   ],
   "source": [
    "sp = BeautifulSoup(rr,'xml.parser')"
   ]
  },
  {
   "cell_type": "code",
   "execution_count": 88,
   "metadata": {},
   "outputs": [],
   "source": [
    "import xmltodict,json"
   ]
  },
  {
   "cell_type": "code",
   "execution_count": 89,
   "metadata": {},
   "outputs": [
    {
     "ename": "ExpatError",
     "evalue": "no element found: line 1, column 0",
     "output_type": "error",
     "traceback": [
      "\u001b[1;31m---------------------------------------------------------------------------\u001b[0m",
      "\u001b[1;31mExpatError\u001b[0m                                Traceback (most recent call last)",
      "\u001b[1;32m<ipython-input-89-22f22ab36155>\u001b[0m in \u001b[0;36m<module>\u001b[1;34m\u001b[0m\n\u001b[0;32m      1\u001b[0m \u001b[0mrs\u001b[0m \u001b[1;33m=\u001b[0m \u001b[0mrequests\u001b[0m\u001b[1;33m.\u001b[0m\u001b[0mget\u001b[0m\u001b[1;33m(\u001b[0m\u001b[0murl\u001b[0m\u001b[1;33m)\u001b[0m\u001b[1;33m\u001b[0m\u001b[1;33m\u001b[0m\u001b[0m\n\u001b[1;32m----> 2\u001b[1;33m \u001b[0mdt\u001b[0m \u001b[1;33m=\u001b[0m \u001b[0mxmltodict\u001b[0m\u001b[1;33m.\u001b[0m\u001b[0mparse\u001b[0m\u001b[1;33m(\u001b[0m\u001b[0mrs\u001b[0m\u001b[1;33m.\u001b[0m\u001b[0mtext\u001b[0m\u001b[1;33m)\u001b[0m\u001b[1;33m\u001b[0m\u001b[1;33m\u001b[0m\u001b[0m\n\u001b[0m\u001b[0;32m      3\u001b[0m \u001b[0mjs\u001b[0m \u001b[1;33m=\u001b[0m \u001b[0mjson\u001b[0m\u001b[1;33m.\u001b[0m\u001b[0mdumps\u001b[0m\u001b[1;33m(\u001b[0m\u001b[0mdt\u001b[0m\u001b[1;33m,\u001b[0m\u001b[0mindent\u001b[0m\u001b[1;33m=\u001b[0m\u001b[1;36m4\u001b[0m\u001b[1;33m)\u001b[0m\u001b[1;33m\u001b[0m\u001b[1;33m\u001b[0m\u001b[0m\n\u001b[0;32m      4\u001b[0m \u001b[0mjs\u001b[0m \u001b[1;33m=\u001b[0m \u001b[0mjson\u001b[0m\u001b[1;33m.\u001b[0m\u001b[0mloads\u001b[0m\u001b[1;33m(\u001b[0m\u001b[0mjs\u001b[0m\u001b[1;33m)\u001b[0m\u001b[1;33m\u001b[0m\u001b[1;33m\u001b[0m\u001b[0m\n",
      "\u001b[1;32mc:\\python\\python36\\lib\\site-packages\\xmltodict.py\u001b[0m in \u001b[0;36mparse\u001b[1;34m(xml_input, encoding, expat, process_namespaces, namespace_separator, disable_entities, **kwargs)\u001b[0m\n\u001b[0;32m    325\u001b[0m         \u001b[0mparser\u001b[0m\u001b[1;33m.\u001b[0m\u001b[0mParseFile\u001b[0m\u001b[1;33m(\u001b[0m\u001b[0mxml_input\u001b[0m\u001b[1;33m)\u001b[0m\u001b[1;33m\u001b[0m\u001b[1;33m\u001b[0m\u001b[0m\n\u001b[0;32m    326\u001b[0m     \u001b[1;32melse\u001b[0m\u001b[1;33m:\u001b[0m\u001b[1;33m\u001b[0m\u001b[1;33m\u001b[0m\u001b[0m\n\u001b[1;32m--> 327\u001b[1;33m         \u001b[0mparser\u001b[0m\u001b[1;33m.\u001b[0m\u001b[0mParse\u001b[0m\u001b[1;33m(\u001b[0m\u001b[0mxml_input\u001b[0m\u001b[1;33m,\u001b[0m \u001b[1;32mTrue\u001b[0m\u001b[1;33m)\u001b[0m\u001b[1;33m\u001b[0m\u001b[1;33m\u001b[0m\u001b[0m\n\u001b[0m\u001b[0;32m    328\u001b[0m     \u001b[1;32mreturn\u001b[0m \u001b[0mhandler\u001b[0m\u001b[1;33m.\u001b[0m\u001b[0mitem\u001b[0m\u001b[1;33m\u001b[0m\u001b[1;33m\u001b[0m\u001b[0m\n\u001b[0;32m    329\u001b[0m \u001b[1;33m\u001b[0m\u001b[0m\n",
      "\u001b[1;31mExpatError\u001b[0m: no element found: line 1, column 0"
     ]
    }
   ],
   "source": [
    "rs = requests.get(url)\n",
    "dt = xmltodict.parse(rs.text)\n",
    "js = json.dumps(dt,indent=4)\n",
    "js = json.loads(js)"
   ]
  },
  {
   "cell_type": "code",
   "execution_count": 93,
   "metadata": {},
   "outputs": [
    {
     "data": {
      "text/plain": [
       "''"
      ]
     },
     "execution_count": 93,
     "metadata": {},
     "output_type": "execute_result"
    }
   ],
   "source": [
    "rs.text"
   ]
  },
  {
   "cell_type": "markdown",
   "metadata": {},
   "source": [
    "* https://nbviewer.jupyter.org/github/FinanceData/marcap/blob/master/marcap-tutorial.ipynb\n",
    "* https://github.com/matplotlib/mplfinance\n",
    "* https://github.com/seoweon/dart_reports/blob/master/README.md#%EC%A0%84%EC%9E%90%EA%B3%B5%EC%8B%9C%EC%8B%9C%EC%8A%A4%ED%85%9C-%ED%81%AC%EB%A1%A4%EB%A7%81%EC%9C%BC%EB%A1%9C-%ED%95%9C-%ED%9A%8C%EC%82%AC%EC%9D%98-%EC%97%AD%EB%8C%80-%EC%82%AC%EC%97%85%EB%B3%B4%EA%B3%A0%EC%84%9C-%EB%8B%A4%EC%9A%B4%EB%B0%9B%EA%B8%B0-%EB%B0%8F-%ED%8A%B8%EB%A0%8C%EB%93%9C-%ED%99%95%EC%9D%B8%ED%95%98%EA%B8%B0\n",
    "* "
   ]
  },
  {
   "cell_type": "code",
   "execution_count": null,
   "metadata": {},
   "outputs": [],
   "source": []
  },
  {
   "cell_type": "code",
   "execution_count": null,
   "metadata": {},
   "outputs": [],
   "source": []
  }
 ],
 "metadata": {
  "kernelspec": {
   "display_name": "Python 3",
   "language": "python",
   "name": "python3"
  },
  "language_info": {
   "codemirror_mode": {
    "name": "ipython",
    "version": 3
   },
   "file_extension": ".py",
   "mimetype": "text/x-python",
   "name": "python",
   "nbconvert_exporter": "python",
   "pygments_lexer": "ipython3",
   "version": "3.6.8"
  }
 },
 "nbformat": 4,
 "nbformat_minor": 4
}
