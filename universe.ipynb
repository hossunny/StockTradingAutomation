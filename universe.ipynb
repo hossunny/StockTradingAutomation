{
 "cells": [
  {
   "cell_type": "markdown",
   "metadata": {},
   "source": [
    "# Universe Screener\n",
    "\n",
    "* Testing first"
   ]
  },
  {
   "cell_type": "code",
   "execution_count": 1,
   "metadata": {},
   "outputs": [],
   "source": [
    "import pandas as pd\n",
    "import numpy as np\n",
    "import glob\n",
    "import pymysql\n",
    "import matplotlib.pyplot as plt"
   ]
  },
  {
   "cell_type": "code",
   "execution_count": 2,
   "metadata": {},
   "outputs": [],
   "source": [
    "connection = pymysql.connect(host='localhost',port=3306, db='INVESTAR',user='root',passwd='tlqkfdk2',autocommit=True)\n",
    "cursor = connection.cursor()\n",
    "#cursor.execute(\"SELECT VERSION();\")\n",
    "#result = cursor.fetchone()\n",
    "#connection.close()"
   ]
  },
  {
   "cell_type": "code",
   "execution_count": 7,
   "metadata": {},
   "outputs": [],
   "source": [
    "comps = pd.read_sql(\"SELECT * FROM company_info\",connection)"
   ]
  },
  {
   "cell_type": "code",
   "execution_count": 8,
   "metadata": {},
   "outputs": [
    {
     "data": {
      "text/html": [
       "<div>\n",
       "<style scoped>\n",
       "    .dataframe tbody tr th:only-of-type {\n",
       "        vertical-align: middle;\n",
       "    }\n",
       "\n",
       "    .dataframe tbody tr th {\n",
       "        vertical-align: top;\n",
       "    }\n",
       "\n",
       "    .dataframe thead th {\n",
       "        text-align: right;\n",
       "    }\n",
       "</style>\n",
       "<table border=\"1\" class=\"dataframe\">\n",
       "  <thead>\n",
       "    <tr style=\"text-align: right;\">\n",
       "      <th></th>\n",
       "      <th>code</th>\n",
       "      <th>company</th>\n",
       "      <th>last_update</th>\n",
       "    </tr>\n",
       "  </thead>\n",
       "  <tbody>\n",
       "    <tr>\n",
       "      <th>0</th>\n",
       "      <td>000020</td>\n",
       "      <td>동화약품</td>\n",
       "      <td>2021-01-06</td>\n",
       "    </tr>\n",
       "    <tr>\n",
       "      <th>1</th>\n",
       "      <td>000040</td>\n",
       "      <td>KR모터스</td>\n",
       "      <td>2021-01-06</td>\n",
       "    </tr>\n",
       "    <tr>\n",
       "      <th>2</th>\n",
       "      <td>000050</td>\n",
       "      <td>경방</td>\n",
       "      <td>2021-01-06</td>\n",
       "    </tr>\n",
       "    <tr>\n",
       "      <th>3</th>\n",
       "      <td>000060</td>\n",
       "      <td>메리츠화재</td>\n",
       "      <td>2021-01-06</td>\n",
       "    </tr>\n",
       "    <tr>\n",
       "      <th>4</th>\n",
       "      <td>000070</td>\n",
       "      <td>삼양홀딩스</td>\n",
       "      <td>2021-01-06</td>\n",
       "    </tr>\n",
       "    <tr>\n",
       "      <th>...</th>\n",
       "      <td>...</td>\n",
       "      <td>...</td>\n",
       "      <td>...</td>\n",
       "    </tr>\n",
       "    <tr>\n",
       "      <th>2406</th>\n",
       "      <td>950160</td>\n",
       "      <td>코오롱티슈진</td>\n",
       "      <td>2021-01-06</td>\n",
       "    </tr>\n",
       "    <tr>\n",
       "      <th>2407</th>\n",
       "      <td>950170</td>\n",
       "      <td>JTC</td>\n",
       "      <td>2021-01-06</td>\n",
       "    </tr>\n",
       "    <tr>\n",
       "      <th>2408</th>\n",
       "      <td>950180</td>\n",
       "      <td>SNK</td>\n",
       "      <td>2021-01-06</td>\n",
       "    </tr>\n",
       "    <tr>\n",
       "      <th>2409</th>\n",
       "      <td>950190</td>\n",
       "      <td>미투젠</td>\n",
       "      <td>2021-01-06</td>\n",
       "    </tr>\n",
       "    <tr>\n",
       "      <th>2410</th>\n",
       "      <td>950200</td>\n",
       "      <td>소마젠</td>\n",
       "      <td>2021-01-06</td>\n",
       "    </tr>\n",
       "  </tbody>\n",
       "</table>\n",
       "<p>2411 rows × 3 columns</p>\n",
       "</div>"
      ],
      "text/plain": [
       "        code company last_update\n",
       "0     000020    동화약품  2021-01-06\n",
       "1     000040   KR모터스  2021-01-06\n",
       "2     000050      경방  2021-01-06\n",
       "3     000060   메리츠화재  2021-01-06\n",
       "4     000070   삼양홀딩스  2021-01-06\n",
       "...      ...     ...         ...\n",
       "2406  950160  코오롱티슈진  2021-01-06\n",
       "2407  950170     JTC  2021-01-06\n",
       "2408  950180     SNK  2021-01-06\n",
       "2409  950190     미투젠  2021-01-06\n",
       "2410  950200     소마젠  2021-01-06\n",
       "\n",
       "[2411 rows x 3 columns]"
      ]
     },
     "execution_count": 8,
     "metadata": {},
     "output_type": "execute_result"
    }
   ],
   "source": [
    "comps"
   ]
  },
  {
   "cell_type": "code",
   "execution_count": 5,
   "metadata": {},
   "outputs": [],
   "source": [
    "cursor.execute(\"SELECT COUNT(*) FROM daily_price;\")\n",
    "rst = cursor.fetchone()"
   ]
  },
  {
   "cell_type": "code",
   "execution_count": 6,
   "metadata": {},
   "outputs": [
    {
     "data": {
      "text/plain": [
       "(179808,)"
      ]
     },
     "execution_count": 6,
     "metadata": {},
     "output_type": "execute_result"
    }
   ],
   "source": [
    "rst"
   ]
  },
  {
   "cell_type": "code",
   "execution_count": 76,
   "metadata": {},
   "outputs": [
    {
     "data": {
      "text/plain": [
       "(datetime.date(2002, 7, 9),)"
      ]
     },
     "execution_count": 76,
     "metadata": {},
     "output_type": "execute_result"
    }
   ],
   "source": [
    "cursor.execute(\"SELECT MIN(DATE) FROM daily_price;\")\n",
    "cursor.fetchone()"
   ]
  },
  {
   "cell_type": "code",
   "execution_count": null,
   "metadata": {},
   "outputs": [],
   "source": []
  },
  {
   "cell_type": "code",
   "execution_count": null,
   "metadata": {},
   "outputs": [],
   "source": []
  },
  {
   "cell_type": "code",
   "execution_count": 9,
   "metadata": {},
   "outputs": [],
   "source": [
    "df = pd.read_sql(\"SELECT * FROM daily_price where code='000020'\",connection)"
   ]
  },
  {
   "cell_type": "code",
   "execution_count": 12,
   "metadata": {},
   "outputs": [],
   "source": [
    "sub = df.drop('CODE',axis=1)"
   ]
  },
  {
   "cell_type": "code",
   "execution_count": 14,
   "metadata": {},
   "outputs": [
    {
     "data": {
      "text/plain": [
       "<matplotlib.axes._subplots.AxesSubplot at 0x1c98fbf3390>"
      ]
     },
     "execution_count": 14,
     "metadata": {},
     "output_type": "execute_result"
    },
    {
     "data": {
      "image/png": "[encoded data removed]",
      "text/plain": [
       "<Figure size 432x288 with 1 Axes>"
      ]
     },
     "metadata": {
      "needs_background": "light"
     },
     "output_type": "display_data"
    }
   ],
   "source": [
    "sub['OPEN'].hist()"
   ]
  },
  {
   "cell_type": "code",
   "execution_count": 16,
   "metadata": {},
   "outputs": [],
   "source": [
    "sub1 = sub[['DATE','close']]"
   ]
  },
  {
   "cell_type": "code",
   "execution_count": 22,
   "metadata": {},
   "outputs": [
    {
     "data": {
      "text/html": [
       "<div>\n",
       "<style scoped>\n",
       "    .dataframe tbody tr th:only-of-type {\n",
       "        vertical-align: middle;\n",
       "    }\n",
       "\n",
       "    .dataframe tbody tr th {\n",
       "        vertical-align: top;\n",
       "    }\n",
       "\n",
       "    .dataframe thead th {\n",
       "        text-align: right;\n",
       "    }\n",
       "</style>\n",
       "<table border=\"1\" class=\"dataframe\">\n",
       "  <thead>\n",
       "    <tr style=\"text-align: right;\">\n",
       "      <th></th>\n",
       "      <th>DATE</th>\n",
       "      <th>close</th>\n",
       "    </tr>\n",
       "  </thead>\n",
       "  <tbody>\n",
       "    <tr>\n",
       "      <th>0</th>\n",
       "      <td>2016-12-08</td>\n",
       "      <td>7480</td>\n",
       "    </tr>\n",
       "    <tr>\n",
       "      <th>1</th>\n",
       "      <td>2016-12-09</td>\n",
       "      <td>7540</td>\n",
       "    </tr>\n",
       "    <tr>\n",
       "      <th>2</th>\n",
       "      <td>2016-12-12</td>\n",
       "      <td>7740</td>\n",
       "    </tr>\n",
       "    <tr>\n",
       "      <th>3</th>\n",
       "      <td>2016-12-13</td>\n",
       "      <td>7820</td>\n",
       "    </tr>\n",
       "    <tr>\n",
       "      <th>4</th>\n",
       "      <td>2016-12-14</td>\n",
       "      <td>7900</td>\n",
       "    </tr>\n",
       "  </tbody>\n",
       "</table>\n",
       "</div>"
      ],
      "text/plain": [
       "         DATE  close\n",
       "0  2016-12-08   7480\n",
       "1  2016-12-09   7540\n",
       "2  2016-12-12   7740\n",
       "3  2016-12-13   7820\n",
       "4  2016-12-14   7900"
      ]
     },
     "execution_count": 22,
     "metadata": {},
     "output_type": "execute_result"
    }
   ],
   "source": [
    "sub1.head()"
   ]
  },
  {
   "cell_type": "code",
   "execution_count": 24,
   "metadata": {},
   "outputs": [],
   "source": [
    "t1 = np.array([5,12,14])\n",
    "t2 = np.array([2,3,7])"
   ]
  },
  {
   "cell_type": "code",
   "execution_count": 25,
   "metadata": {},
   "outputs": [
    {
     "data": {
      "text/plain": [
       "array([2.5, 4. , 2. ])"
      ]
     },
     "execution_count": 25,
     "metadata": {},
     "output_type": "execute_result"
    }
   ],
   "source": [
    "t1/t2"
   ]
  },
  {
   "cell_type": "code",
   "execution_count": 27,
   "metadata": {},
   "outputs": [
    {
     "data": {
      "text/html": [
       "<div>\n",
       "<style scoped>\n",
       "    .dataframe tbody tr th:only-of-type {\n",
       "        vertical-align: middle;\n",
       "    }\n",
       "\n",
       "    .dataframe tbody tr th {\n",
       "        vertical-align: top;\n",
       "    }\n",
       "\n",
       "    .dataframe thead th {\n",
       "        text-align: right;\n",
       "    }\n",
       "</style>\n",
       "<table border=\"1\" class=\"dataframe\">\n",
       "  <thead>\n",
       "    <tr style=\"text-align: right;\">\n",
       "      <th></th>\n",
       "      <th>DATE</th>\n",
       "      <th>close</th>\n",
       "    </tr>\n",
       "  </thead>\n",
       "  <tbody>\n",
       "    <tr>\n",
       "      <th>0</th>\n",
       "      <td>NaN</td>\n",
       "      <td>NaN</td>\n",
       "    </tr>\n",
       "    <tr>\n",
       "      <th>1</th>\n",
       "      <td>2016-12-08</td>\n",
       "      <td>7480.0</td>\n",
       "    </tr>\n",
       "    <tr>\n",
       "      <th>2</th>\n",
       "      <td>2016-12-09</td>\n",
       "      <td>7540.0</td>\n",
       "    </tr>\n",
       "    <tr>\n",
       "      <th>3</th>\n",
       "      <td>2016-12-12</td>\n",
       "      <td>7740.0</td>\n",
       "    </tr>\n",
       "    <tr>\n",
       "      <th>4</th>\n",
       "      <td>2016-12-13</td>\n",
       "      <td>7820.0</td>\n",
       "    </tr>\n",
       "  </tbody>\n",
       "</table>\n",
       "</div>"
      ],
      "text/plain": [
       "         DATE   close\n",
       "0         NaN     NaN\n",
       "1  2016-12-08  7480.0\n",
       "2  2016-12-09  7540.0\n",
       "3  2016-12-12  7740.0\n",
       "4  2016-12-13  7820.0"
      ]
     },
     "execution_count": 27,
     "metadata": {},
     "output_type": "execute_result"
    }
   ],
   "source": [
    "sub1.shift(1).head()"
   ]
  },
  {
   "cell_type": "code",
   "execution_count": 33,
   "metadata": {},
   "outputs": [],
   "source": [
    "tt = pd.DataFrame(np.array(sub1['close']) / np.array(sub1.shift(1)['close']) -1)"
   ]
  },
  {
   "cell_type": "code",
   "execution_count": 34,
   "metadata": {},
   "outputs": [
    {
     "data": {
      "text/html": [
       "<div>\n",
       "<style scoped>\n",
       "    .dataframe tbody tr th:only-of-type {\n",
       "        vertical-align: middle;\n",
       "    }\n",
       "\n",
       "    .dataframe tbody tr th {\n",
       "        vertical-align: top;\n",
       "    }\n",
       "\n",
       "    .dataframe thead th {\n",
       "        text-align: right;\n",
       "    }\n",
       "</style>\n",
       "<table border=\"1\" class=\"dataframe\">\n",
       "  <thead>\n",
       "    <tr style=\"text-align: right;\">\n",
       "      <th></th>\n",
       "      <th>0</th>\n",
       "    </tr>\n",
       "  </thead>\n",
       "  <tbody>\n",
       "    <tr>\n",
       "      <th>0</th>\n",
       "      <td>NaN</td>\n",
       "    </tr>\n",
       "    <tr>\n",
       "      <th>1</th>\n",
       "      <td>0.008021</td>\n",
       "    </tr>\n",
       "    <tr>\n",
       "      <th>2</th>\n",
       "      <td>0.026525</td>\n",
       "    </tr>\n",
       "    <tr>\n",
       "      <th>3</th>\n",
       "      <td>0.010336</td>\n",
       "    </tr>\n",
       "    <tr>\n",
       "      <th>4</th>\n",
       "      <td>0.010230</td>\n",
       "    </tr>\n",
       "  </tbody>\n",
       "</table>\n",
       "</div>"
      ],
      "text/plain": [
       "          0\n",
       "0       NaN\n",
       "1  0.008021\n",
       "2  0.026525\n",
       "3  0.010336\n",
       "4  0.010230"
      ]
     },
     "execution_count": 34,
     "metadata": {},
     "output_type": "execute_result"
    }
   ],
   "source": [
    "tt.head()"
   ]
  },
  {
   "cell_type": "code",
   "execution_count": 35,
   "metadata": {},
   "outputs": [
    {
     "data": {
      "text/html": [
       "<div>\n",
       "<style scoped>\n",
       "    .dataframe tbody tr th:only-of-type {\n",
       "        vertical-align: middle;\n",
       "    }\n",
       "\n",
       "    .dataframe tbody tr th {\n",
       "        vertical-align: top;\n",
       "    }\n",
       "\n",
       "    .dataframe thead th {\n",
       "        text-align: right;\n",
       "    }\n",
       "</style>\n",
       "<table border=\"1\" class=\"dataframe\">\n",
       "  <thead>\n",
       "    <tr style=\"text-align: right;\">\n",
       "      <th></th>\n",
       "      <th>0</th>\n",
       "    </tr>\n",
       "  </thead>\n",
       "  <tbody>\n",
       "    <tr>\n",
       "      <th>count</th>\n",
       "      <td>999.000000</td>\n",
       "    </tr>\n",
       "    <tr>\n",
       "      <th>mean</th>\n",
       "      <td>0.001441</td>\n",
       "    </tr>\n",
       "    <tr>\n",
       "      <th>std</th>\n",
       "      <td>0.031682</td>\n",
       "    </tr>\n",
       "    <tr>\n",
       "      <th>min</th>\n",
       "      <td>-0.194719</td>\n",
       "    </tr>\n",
       "    <tr>\n",
       "      <th>25%</th>\n",
       "      <td>-0.012591</td>\n",
       "    </tr>\n",
       "    <tr>\n",
       "      <th>50%</th>\n",
       "      <td>0.000000</td>\n",
       "    </tr>\n",
       "    <tr>\n",
       "      <th>75%</th>\n",
       "      <td>0.012775</td>\n",
       "    </tr>\n",
       "    <tr>\n",
       "      <th>max</th>\n",
       "      <td>0.299559</td>\n",
       "    </tr>\n",
       "  </tbody>\n",
       "</table>\n",
       "</div>"
      ],
      "text/plain": [
       "                0\n",
       "count  999.000000\n",
       "mean     0.001441\n",
       "std      0.031682\n",
       "min     -0.194719\n",
       "25%     -0.012591\n",
       "50%      0.000000\n",
       "75%      0.012775\n",
       "max      0.299559"
      ]
     },
     "execution_count": 35,
     "metadata": {},
     "output_type": "execute_result"
    }
   ],
   "source": [
    "tt.describe()"
   ]
  },
  {
   "cell_type": "code",
   "execution_count": 41,
   "metadata": {},
   "outputs": [],
   "source": [
    "s1 = pd.read_sql(\"SELECT * FROM daily_price where code='000070'\",connection)"
   ]
  },
  {
   "cell_type": "code",
   "execution_count": 42,
   "metadata": {},
   "outputs": [],
   "source": [
    "tt2 = pd.DataFrame(np.array(s1['close']) / np.array(s1.shift(1)['close']) -1)"
   ]
  },
  {
   "cell_type": "code",
   "execution_count": 43,
   "metadata": {},
   "outputs": [
    {
     "data": {
      "text/html": [
       "<div>\n",
       "<style scoped>\n",
       "    .dataframe tbody tr th:only-of-type {\n",
       "        vertical-align: middle;\n",
       "    }\n",
       "\n",
       "    .dataframe tbody tr th {\n",
       "        vertical-align: top;\n",
       "    }\n",
       "\n",
       "    .dataframe thead th {\n",
       "        text-align: right;\n",
       "    }\n",
       "</style>\n",
       "<table border=\"1\" class=\"dataframe\">\n",
       "  <thead>\n",
       "    <tr style=\"text-align: right;\">\n",
       "      <th></th>\n",
       "      <th>0</th>\n",
       "    </tr>\n",
       "  </thead>\n",
       "  <tbody>\n",
       "    <tr>\n",
       "      <th>count</th>\n",
       "      <td>999.000000</td>\n",
       "    </tr>\n",
       "    <tr>\n",
       "      <th>mean</th>\n",
       "      <td>-0.000163</td>\n",
       "    </tr>\n",
       "    <tr>\n",
       "      <th>std</th>\n",
       "      <td>0.025472</td>\n",
       "    </tr>\n",
       "    <tr>\n",
       "      <th>min</th>\n",
       "      <td>-0.164948</td>\n",
       "    </tr>\n",
       "    <tr>\n",
       "      <th>25%</th>\n",
       "      <td>-0.012510</td>\n",
       "    </tr>\n",
       "    <tr>\n",
       "      <th>50%</th>\n",
       "      <td>0.000000</td>\n",
       "    </tr>\n",
       "    <tr>\n",
       "      <th>75%</th>\n",
       "      <td>0.010856</td>\n",
       "    </tr>\n",
       "    <tr>\n",
       "      <th>max</th>\n",
       "      <td>0.298762</td>\n",
       "    </tr>\n",
       "  </tbody>\n",
       "</table>\n",
       "</div>"
      ],
      "text/plain": [
       "                0\n",
       "count  999.000000\n",
       "mean    -0.000163\n",
       "std      0.025472\n",
       "min     -0.164948\n",
       "25%     -0.012510\n",
       "50%      0.000000\n",
       "75%      0.010856\n",
       "max      0.298762"
      ]
     },
     "execution_count": 43,
     "metadata": {},
     "output_type": "execute_result"
    }
   ],
   "source": [
    "tt2.describe()"
   ]
  },
  {
   "cell_type": "code",
   "execution_count": 51,
   "metadata": {},
   "outputs": [
    {
     "data": {
      "image/png": "[encoded data removed]",
      "text/plain": [
       "<Figure size 648x360 with 1 Axes>"
      ]
     },
     "metadata": {
      "needs_background": "light"
     },
     "output_type": "display_data"
    }
   ],
   "source": [
    "plt.figure(figsize=(9,5))\n",
    "plt.plot(sub1.DATE, tt[0], 'r--', label='동화약품')\n",
    "#plt.plot(kospi.index, kospi.Close, 'b', label='KOSPI')\n",
    "#plt.grid(True)\n",
    "#plt.legend(loc='best')\n",
    "plt.show()"
   ]
  },
  {
   "cell_type": "code",
   "execution_count": 55,
   "metadata": {},
   "outputs": [
    {
     "data": {
      "text/html": [
       "<div>\n",
       "<style scoped>\n",
       "    .dataframe tbody tr th:only-of-type {\n",
       "        vertical-align: middle;\n",
       "    }\n",
       "\n",
       "    .dataframe tbody tr th {\n",
       "        vertical-align: top;\n",
       "    }\n",
       "\n",
       "    .dataframe thead th {\n",
       "        text-align: right;\n",
       "    }\n",
       "</style>\n",
       "<table border=\"1\" class=\"dataframe\">\n",
       "  <thead>\n",
       "    <tr style=\"text-align: right;\">\n",
       "      <th></th>\n",
       "      <th>DATE</th>\n",
       "      <th>OPEN</th>\n",
       "      <th>high</th>\n",
       "      <th>low</th>\n",
       "      <th>close</th>\n",
       "      <th>diff</th>\n",
       "      <th>volume</th>\n",
       "    </tr>\n",
       "  </thead>\n",
       "  <tbody>\n",
       "    <tr>\n",
       "      <th>0</th>\n",
       "      <td>2016-12-08</td>\n",
       "      <td>7620</td>\n",
       "      <td>7620</td>\n",
       "      <td>7450</td>\n",
       "      <td>7480</td>\n",
       "      <td>10</td>\n",
       "      <td>37690</td>\n",
       "    </tr>\n",
       "    <tr>\n",
       "      <th>1</th>\n",
       "      <td>2016-12-09</td>\n",
       "      <td>7530</td>\n",
       "      <td>7580</td>\n",
       "      <td>7460</td>\n",
       "      <td>7540</td>\n",
       "      <td>60</td>\n",
       "      <td>39179</td>\n",
       "    </tr>\n",
       "    <tr>\n",
       "      <th>2</th>\n",
       "      <td>2016-12-12</td>\n",
       "      <td>7570</td>\n",
       "      <td>7810</td>\n",
       "      <td>7540</td>\n",
       "      <td>7740</td>\n",
       "      <td>200</td>\n",
       "      <td>54245</td>\n",
       "    </tr>\n",
       "    <tr>\n",
       "      <th>3</th>\n",
       "      <td>2016-12-13</td>\n",
       "      <td>7780</td>\n",
       "      <td>7890</td>\n",
       "      <td>7710</td>\n",
       "      <td>7820</td>\n",
       "      <td>80</td>\n",
       "      <td>125368</td>\n",
       "    </tr>\n",
       "    <tr>\n",
       "      <th>4</th>\n",
       "      <td>2016-12-14</td>\n",
       "      <td>7880</td>\n",
       "      <td>7970</td>\n",
       "      <td>7730</td>\n",
       "      <td>7900</td>\n",
       "      <td>80</td>\n",
       "      <td>93743</td>\n",
       "    </tr>\n",
       "    <tr>\n",
       "      <th>...</th>\n",
       "      <td>...</td>\n",
       "      <td>...</td>\n",
       "      <td>...</td>\n",
       "      <td>...</td>\n",
       "      <td>...</td>\n",
       "      <td>...</td>\n",
       "      <td>...</td>\n",
       "    </tr>\n",
       "    <tr>\n",
       "      <th>995</th>\n",
       "      <td>2020-12-29</td>\n",
       "      <td>18750</td>\n",
       "      <td>19400</td>\n",
       "      <td>18750</td>\n",
       "      <td>19150</td>\n",
       "      <td>500</td>\n",
       "      <td>471430</td>\n",
       "    </tr>\n",
       "    <tr>\n",
       "      <th>996</th>\n",
       "      <td>2020-12-30</td>\n",
       "      <td>19100</td>\n",
       "      <td>19800</td>\n",
       "      <td>18800</td>\n",
       "      <td>19650</td>\n",
       "      <td>500</td>\n",
       "      <td>623218</td>\n",
       "    </tr>\n",
       "    <tr>\n",
       "      <th>997</th>\n",
       "      <td>2021-01-04</td>\n",
       "      <td>19750</td>\n",
       "      <td>19900</td>\n",
       "      <td>18850</td>\n",
       "      <td>19100</td>\n",
       "      <td>550</td>\n",
       "      <td>719076</td>\n",
       "    </tr>\n",
       "    <tr>\n",
       "      <th>998</th>\n",
       "      <td>2021-01-05</td>\n",
       "      <td>19000</td>\n",
       "      <td>19500</td>\n",
       "      <td>18650</td>\n",
       "      <td>19400</td>\n",
       "      <td>300</td>\n",
       "      <td>660993</td>\n",
       "    </tr>\n",
       "    <tr>\n",
       "      <th>999</th>\n",
       "      <td>2021-01-06</td>\n",
       "      <td>19350</td>\n",
       "      <td>19600</td>\n",
       "      <td>19000</td>\n",
       "      <td>19500</td>\n",
       "      <td>100</td>\n",
       "      <td>365451</td>\n",
       "    </tr>\n",
       "  </tbody>\n",
       "</table>\n",
       "<p>1000 rows × 7 columns</p>\n",
       "</div>"
      ],
      "text/plain": [
       "           DATE   OPEN   high    low  close  diff  volume\n",
       "0    2016-12-08   7620   7620   7450   7480    10   37690\n",
       "1    2016-12-09   7530   7580   7460   7540    60   39179\n",
       "2    2016-12-12   7570   7810   7540   7740   200   54245\n",
       "3    2016-12-13   7780   7890   7710   7820    80  125368\n",
       "4    2016-12-14   7880   7970   7730   7900    80   93743\n",
       "..          ...    ...    ...    ...    ...   ...     ...\n",
       "995  2020-12-29  18750  19400  18750  19150   500  471430\n",
       "996  2020-12-30  19100  19800  18800  19650   500  623218\n",
       "997  2021-01-04  19750  19900  18850  19100   550  719076\n",
       "998  2021-01-05  19000  19500  18650  19400   300  660993\n",
       "999  2021-01-06  19350  19600  19000  19500   100  365451\n",
       "\n",
       "[1000 rows x 7 columns]"
      ]
     },
     "execution_count": 55,
     "metadata": {},
     "output_type": "execute_result"
    }
   ],
   "source": [
    "tt1 = "
   ]
  },
  {
   "cell_type": "markdown",
   "metadata": {},
   "source": [
    "---"
   ]
  },
  {
   "cell_type": "markdown",
   "metadata": {},
   "source": [
    "### DART FSS "
   ]
  },
  {
   "cell_type": "code",
   "execution_count": 2,
   "metadata": {},
   "outputs": [],
   "source": [
    "import dart_fss as dart"
   ]
  },
  {
   "cell_type": "code",
   "execution_count": 3,
   "metadata": {},
   "outputs": [],
   "source": [
    "api_key = '34498c52b5674a6014154edbaa30d2739f265da7'"
   ]
  },
  {
   "cell_type": "code",
   "execution_count": 4,
   "metadata": {},
   "outputs": [
    {
     "data": {
      "text/plain": [
       "'34498c52b5674a6014154edbaa30d2739f265da7'"
      ]
     },
     "execution_count": 4,
     "metadata": {},
     "output_type": "execute_result"
    }
   ],
   "source": [
    "dart.set_api_key(api_key=api_key)"
   ]
  },
  {
   "cell_type": "code",
   "execution_count": 8,
   "metadata": {},
   "outputs": [
    {
     "data": {
      "application/vnd.jupyter.widget-view+json": {
       "model_id": "ef0cd05ef48f41cf8fdd373dc1ee7bac",
       "version_major": 2,
       "version_minor": 0
      },
      "text/plain": [
       "Output()"
      ]
     },
     "metadata": {},
     "output_type": "display_data"
    },
    {
     "data": {
      "application/vnd.jupyter.widget-view+json": {
       "model_id": "d8388516c93146f5b3103c9ca22e6045",
       "version_major": 2,
       "version_minor": 0
      },
      "text/plain": [
       "Output()"
      ]
     },
     "metadata": {},
     "output_type": "display_data"
    },
    {
     "data": {
      "application/vnd.jupyter.widget-view+json": {
       "model_id": "b4c9a8da0c2b492b9c8a18f65d526de0",
       "version_major": 2,
       "version_minor": 0
      },
      "text/plain": [
       "Output()"
      ]
     },
     "metadata": {},
     "output_type": "display_data"
    }
   ],
   "source": [
    "corp_list = dartfss.get_corp_list()"
   ]
  },
  {
   "cell_type": "code",
   "execution_count": 9,
   "metadata": {},
   "outputs": [
    {
     "data": {
      "text/plain": [
       "Number of companies: 83303"
      ]
     },
     "execution_count": 9,
     "metadata": {},
     "output_type": "execute_result"
    }
   ],
   "source": [
    "corp_list"
   ]
  },
  {
   "cell_type": "code",
   "execution_count": 10,
   "metadata": {},
   "outputs": [],
   "source": [
    "merits = corp_list.find_by_corp_name('메리츠화재',exactly=True)[0]"
   ]
  },
  {
   "cell_type": "code",
   "execution_count": 11,
   "metadata": {},
   "outputs": [
    {
     "data": {
      "text/html": [
       "\n",
       "    <style scoped>\n",
       "        .dart-table tbody tr th {\n",
       "            vertical-align: top;\n",
       "            text-overflow: ellipsis;\n",
       "        }\n",
       "        .dart-table thead th {\n",
       "            text-align: right;\n",
       "            text-overflow: ellipsis;\n",
       "        }\n",
       "    </style>\n",
       "    <table border=\"1\" class=\"dart-table\"><thead><tr style=\"text-align: right;\"><th>Label</th><th>Data</th></tr></thead><tbody><tr><th>corp_code</th><td>00117744</td></tr><tr><th>corp_name</th><td>메리츠화재</td></tr><tr><th>stock_code</th><td>000060</td></tr><tr><th>modify_date</th><td>20201215</td></tr><tr><th>sector</th><td>보험업</td></tr><tr><th>product</th><td>손해보험(화재,해상,운송보험)</td></tr><tr><th>corp_cls</th><td>Y</td></tr></tbody></table>"
      ],
      "text/plain": [
       "[00117744]메리츠화재"
      ]
     },
     "execution_count": 11,
     "metadata": {},
     "output_type": "execute_result"
    }
   ],
   "source": [
    "merits"
   ]
  },
  {
   "cell_type": "code",
   "execution_count": null,
   "metadata": {},
   "outputs": [],
   "source": []
  },
  {
   "cell_type": "code",
   "execution_count": null,
   "metadata": {},
   "outputs": [],
   "source": []
  },
  {
   "cell_type": "code",
   "execution_count": null,
   "metadata": {},
   "outputs": [],
   "source": []
  },
  {
   "cell_type": "code",
   "execution_count": 7,
   "metadata": {},
   "outputs": [],
   "source": [
    "samsung = corp_list.find_by_corp_name('삼성전자', exactly=True)[0]"
   ]
  },
  {
   "cell_type": "code",
   "execution_count": 8,
   "metadata": {},
   "outputs": [
    {
     "data": {
      "application/vnd.jupyter.widget-view+json": {
       "model_id": "60da3127f41c4a889ecc22f5777f0460",
       "version_major": 2,
       "version_minor": 0
      },
      "text/plain": [
       "Annual reports:   0%|          | 0/2 [00:00<?, ?report/s]"
      ]
     },
     "metadata": {},
     "output_type": "display_data"
    }
   ],
   "source": [
    "fs = samsung.extract_fs(bgn_de='20190101')"
   ]
  },
  {
   "cell_type": "code",
   "execution_count": 12,
   "metadata": {},
   "outputs": [
    {
     "data": {
      "text/plain": [
       "4"
      ]
     },
     "execution_count": 12,
     "metadata": {},
     "output_type": "execute_result"
    }
   ],
   "source": [
    "len(fs)"
   ]
  },
  {
   "cell_type": "code",
   "execution_count": 85,
   "metadata": {},
   "outputs": [
    {
     "data": {
      "text/html": [
       "\n",
       "    <style scoped>\n",
       "        .dart-table tbody tr th {\n",
       "            vertical-align: top;\n",
       "            text-overflow: ellipsis;\n",
       "        }\n",
       "        .dart-table thead th {\n",
       "            text-align: right;\n",
       "            text-overflow: ellipsis;\n",
       "        }\n",
       "    </style>\n",
       "    <table border=\"1\" class=\"dart-table\"><thead><tr style=\"text-align: right;\"><th>Label</th><th>Data</th></tr></thead><tbody><tr><th>corp_code</th><td>00668956</td></tr><tr><th>corp_name</th><td>위드비전</td></tr><tr><th>stock_code</th><td>None</td></tr><tr><th>modify_date</th><td>20170630</td></tr></tbody></table>"
      ],
      "text/plain": [
       "[00668956]위드비전"
      ]
     },
     "execution_count": 85,
     "metadata": {},
     "output_type": "execute_result"
    }
   ],
   "source": [
    "corp_list[9000]"
   ]
  },
  {
   "cell_type": "code",
   "execution_count": 266,
   "metadata": {},
   "outputs": [
    {
     "data": {
      "application/vnd.jupyter.widget-view+json": {
       "model_id": "0bcb05f2e5844b44b815c415c91e71c1",
       "version_major": 2,
       "version_minor": 0
      },
      "text/plain": [
       "Annual reports:   0%|          | 0/5 [00:00<?, ?report/s]"
      ]
     },
     "metadata": {},
     "output_type": "display_data"
    }
   ],
   "source": [
    "merits = corp_list.find_by_corp_name('메리츠화재',exactly=False)[0]\n",
    "ss = merits.extract_fs(bgn_de='20160101')"
   ]
  },
  {
   "cell_type": "code",
   "execution_count": 267,
   "metadata": {},
   "outputs": [
    {
     "data": {
      "text/plain": [
       "4"
      ]
     },
     "execution_count": 267,
     "metadata": {},
     "output_type": "execute_result"
    }
   ],
   "source": [
    "len(ss)"
   ]
  },
  {
   "cell_type": "code",
   "execution_count": 268,
   "metadata": {},
   "outputs": [],
   "source": [
    "items=[]\n",
    "for i in range(len(ss)):\n",
    "    try :\n",
    "        for k in range(len(ss[i])):\n",
    "            items.append(ss[i].iloc[k,1])\n",
    "    except :\n",
    "        pass\n",
    "for k in items:\n",
    "    if '이익' in k :\n",
    "        print(k)"
   ]
  },
  {
   "cell_type": "code",
   "execution_count": 269,
   "metadata": {},
   "outputs": [],
   "source": [
    "ss[1]"
   ]
  },
  {
   "cell_type": "code",
   "execution_count": null,
   "metadata": {},
   "outputs": [],
   "source": [
    "import dart_fss as dart"
   ]
  },
  {
   "cell_type": "code",
   "execution_count": null,
   "metadata": {},
   "outputs": [],
   "source": [
    "import dart_fss_classifier"
   ]
  },
  {
   "cell_type": "code",
   "execution_count": null,
   "metadata": {},
   "outputs": [],
   "source": [
    "assert dart_fss_classifier.attached_plugin() == True"
   ]
  },
  {
   "cell_type": "code",
   "execution_count": null,
   "metadata": {},
   "outputs": [],
   "source": [
    "api_key = '34498c52b5674a6014154edbaa30d2739f265da7'\n",
    "dart.set_api_key(api_key=api_key)"
   ]
  },
  {
   "cell_type": "code",
   "execution_count": 5,
   "metadata": {},
   "outputs": [
    {
     "data": {
      "application/vnd.jupyter.widget-view+json": {
       "model_id": "c6103402fbe243ffa635d799c0337547",
       "version_major": 2,
       "version_minor": 0
      },
      "text/plain": [
       "Output()"
      ]
     },
     "metadata": {},
     "output_type": "display_data"
    },
    {
     "data": {
      "application/vnd.jupyter.widget-view+json": {
       "model_id": "466433f026414cf883c1fc6c3351aa07",
       "version_major": 2,
       "version_minor": 0
      },
      "text/plain": [
       "Output()"
      ]
     },
     "metadata": {},
     "output_type": "display_data"
    },
    {
     "data": {
      "application/vnd.jupyter.widget-view+json": {
       "model_id": "bf3b0924ffa54b438a31abfd5aa5cf95",
       "version_major": 2,
       "version_minor": 0
      },
      "text/plain": [
       "Output()"
      ]
     },
     "metadata": {},
     "output_type": "display_data"
    }
   ],
   "source": [
    "corp_list = dart.get_corp_list()"
   ]
  },
  {
   "cell_type": "code",
   "execution_count": 6,
   "metadata": {},
   "outputs": [],
   "source": [
    "merits = corp_list.find_by_corp_name(corp_name='메리츠화재', exactly=True)[0]"
   ]
  },
  {
   "cell_type": "code",
   "execution_count": 7,
   "metadata": {},
   "outputs": [
    {
     "data": {
      "application/vnd.jupyter.widget-view+json": {
       "model_id": "35c48b1d6fc04aecbcef00a5fa15b398",
       "version_major": 2,
       "version_minor": 0
      },
      "text/plain": [
       "Annual reports:   0%|          | 0/5 [00:00<?, ?report/s]"
      ]
     },
     "metadata": {},
     "output_type": "display_data"
    },
    {
     "ename": "SystemError",
     "evalue": "('java.nio.file.InvalidPathException: Illegal char <*> at index 79: C:\\\\Users\\\\Bae Kyungmo\\\\AppData\\\\Roaming\\\\Python\\\\Python36\\\\site-packages\\\\konlpy\\\\java\\\\*', \"An error occurred while fetching or analyzing {'rcp_no': '20190401003290', 'corp_code': '00117744', 'corp_name': '메리츠화재', 'stock_code': '000060', 'corp_cls': 'Y', 'report_nm': '사업보고서 (2018.12)', 'flr_nm': '메리츠화재', 'rcept_dt': '20190401', 'rm': '연'}.\")",
     "output_type": "error",
     "traceback": [
      "\u001b[1;31m---------------------------------------------------------------------------\u001b[0m",
      "\u001b[1;31mSystemError\u001b[0m                               Traceback (most recent call last)",
      "\u001b[1;32m<ipython-input-7-102e47f3e18c>\u001b[0m in \u001b[0;36m<module>\u001b[1;34m\u001b[0m\n\u001b[1;32m----> 1\u001b[1;33m \u001b[0mfs\u001b[0m \u001b[1;33m=\u001b[0m \u001b[0mmerits\u001b[0m\u001b[1;33m.\u001b[0m\u001b[0mextract_fs\u001b[0m\u001b[1;33m(\u001b[0m\u001b[0mbgn_de\u001b[0m\u001b[1;33m=\u001b[0m\u001b[1;34m'20160101'\u001b[0m\u001b[1;33m)\u001b[0m\u001b[1;33m\u001b[0m\u001b[1;33m\u001b[0m\u001b[0m\n\u001b[0m",
      "\u001b[1;32mc:\\python\\python36\\lib\\site-packages\\dart_fss\\corp\\corp.py\u001b[0m in \u001b[0;36mextract_fs\u001b[1;34m(self, bgn_de, end_de, fs_tp, separate, report_tp, lang, separator, dataset)\u001b[0m\n\u001b[0;32m    231\u001b[0m \u001b[1;33m\u001b[0m\u001b[0m\n\u001b[0;32m    232\u001b[0m          \"\"\"\n\u001b[1;32m--> 233\u001b[1;33m         \u001b[1;32mreturn\u001b[0m \u001b[0mextract\u001b[0m\u001b[1;33m(\u001b[0m\u001b[0mself\u001b[0m\u001b[1;33m.\u001b[0m\u001b[0mcorp_code\u001b[0m\u001b[1;33m,\u001b[0m \u001b[0mbgn_de\u001b[0m\u001b[1;33m,\u001b[0m \u001b[0mend_de\u001b[0m\u001b[1;33m,\u001b[0m \u001b[0mfs_tp\u001b[0m\u001b[1;33m,\u001b[0m \u001b[0mseparate\u001b[0m\u001b[1;33m,\u001b[0m \u001b[0mreport_tp\u001b[0m\u001b[1;33m,\u001b[0m \u001b[0mlang\u001b[0m\u001b[1;33m,\u001b[0m \u001b[0mseparator\u001b[0m\u001b[1;33m,\u001b[0m \u001b[0mdataset\u001b[0m\u001b[1;33m)\u001b[0m\u001b[1;33m\u001b[0m\u001b[1;33m\u001b[0m\u001b[0m\n\u001b[0m",
      "\u001b[1;32mc:\\python\\python36\\lib\\site-packages\\dart_fss\\fs\\extract.py\u001b[0m in \u001b[0;36mextract\u001b[1;34m(corp_code, bgn_de, end_de, fs_tp, separate, report_tp, lang, separator, dataset)\u001b[0m\n\u001b[0;32m   1292\u001b[0m             \u001b[0mmsg\u001b[0m \u001b[1;33m=\u001b[0m \u001b[1;34m'Unexpected Error'\u001b[0m\u001b[1;33m\u001b[0m\u001b[1;33m\u001b[0m\u001b[0m\n\u001b[0;32m   1293\u001b[0m         \u001b[0me\u001b[0m\u001b[1;33m.\u001b[0m\u001b[0margs\u001b[0m \u001b[1;33m=\u001b[0m \u001b[1;33m(\u001b[0m\u001b[1;33m*\u001b[0m\u001b[0me\u001b[0m\u001b[1;33m.\u001b[0m\u001b[0margs\u001b[0m\u001b[1;33m,\u001b[0m \u001b[0mmsg\u001b[0m\u001b[1;33m,\u001b[0m \u001b[1;33m)\u001b[0m\u001b[1;33m\u001b[0m\u001b[1;33m\u001b[0m\u001b[0m\n\u001b[1;32m-> 1294\u001b[1;33m         \u001b[1;32mraise\u001b[0m \u001b[0me\u001b[0m\u001b[1;33m\u001b[0m\u001b[1;33m\u001b[0m\u001b[0m\n\u001b[0m\u001b[0;32m   1295\u001b[0m     \u001b[1;32mfinally\u001b[0m\u001b[1;33m:\u001b[0m\u001b[1;33m\u001b[0m\u001b[1;33m\u001b[0m\u001b[0m\n\u001b[0;32m   1296\u001b[0m         \u001b[0mdart\u001b[0m\u001b[1;33m.\u001b[0m\u001b[0mutils\u001b[0m\u001b[1;33m.\u001b[0m\u001b[0mspinner\u001b[0m\u001b[1;33m.\u001b[0m\u001b[0mspinner_enable\u001b[0m \u001b[1;33m=\u001b[0m \u001b[1;32mTrue\u001b[0m\u001b[1;33m\u001b[0m\u001b[1;33m\u001b[0m\u001b[0m\n",
      "\u001b[1;32mc:\\python\\python36\\lib\\site-packages\\dart_fss\\fs\\extract.py\u001b[0m in \u001b[0;36mextract\u001b[1;34m(corp_code, bgn_de, end_de, fs_tp, separate, report_tp, lang, separator, dataset)\u001b[0m\n\u001b[0;32m   1266\u001b[0m                                                      \u001b[0mseparator\u001b[0m\u001b[1;33m=\u001b[0m\u001b[0mseparator\u001b[0m\u001b[1;33m,\u001b[0m\u001b[1;33m\u001b[0m\u001b[1;33m\u001b[0m\u001b[0m\n\u001b[0;32m   1267\u001b[0m                                                      dataset=dataset)\n\u001b[1;32m-> 1268\u001b[1;33m                         \u001b[0mstatements\u001b[0m\u001b[1;33m,\u001b[0m \u001b[0mlabel_df\u001b[0m \u001b[1;33m=\u001b[0m \u001b[0mmerge_fs\u001b[0m\u001b[1;33m(\u001b[0m\u001b[0mstatements\u001b[0m\u001b[1;33m,\u001b[0m \u001b[0mnstatements\u001b[0m\u001b[1;33m,\u001b[0m \u001b[0mfs_tp\u001b[0m\u001b[1;33m=\u001b[0m\u001b[0mfs_tp\u001b[0m\u001b[1;33m,\u001b[0m \u001b[0mlabel_df\u001b[0m\u001b[1;33m=\u001b[0m\u001b[0mlabel_df\u001b[0m\u001b[1;33m)\u001b[0m\u001b[1;33m\u001b[0m\u001b[1;33m\u001b[0m\u001b[0m\n\u001b[0m\u001b[0;32m   1269\u001b[0m \u001b[1;33m\u001b[0m\u001b[0m\n\u001b[0;32m   1270\u001b[0m         \u001b[0mstatements\u001b[0m \u001b[1;33m=\u001b[0m \u001b[0mdrop_empty_columns\u001b[0m\u001b[1;33m(\u001b[0m\u001b[0mstatements\u001b[0m\u001b[1;33m)\u001b[0m\u001b[1;33m\u001b[0m\u001b[1;33m\u001b[0m\u001b[0m\n",
      "\u001b[1;32mc:\\python\\python36\\lib\\site-packages\\dart_fss\\fs\\extract.py\u001b[0m in \u001b[0;36mmerge_fs\u001b[1;34m(fs_df, nfs_df, label_df, fs_tp)\u001b[0m\n\u001b[0;32m    941\u001b[0m \u001b[1;33m\u001b[0m\u001b[0m\n\u001b[0;32m    942\u001b[0m                 \u001b[1;32mfor\u001b[0m \u001b[0mcompare_func\u001b[0m \u001b[1;32min\u001b[0m \u001b[0madditional_comparison_function\u001b[0m\u001b[1;33m:\u001b[0m\u001b[1;33m\u001b[0m\u001b[1;33m\u001b[0m\u001b[0m\n\u001b[1;32m--> 943\u001b[1;33m                     \u001b[0mndata\u001b[0m\u001b[1;33m,\u001b[0m \u001b[0mnlabels\u001b[0m \u001b[1;33m=\u001b[0m \u001b[0mcompare_func\u001b[0m\u001b[1;33m(\u001b[0m\u001b[0mcolumn\u001b[0m\u001b[1;33m,\u001b[0m \u001b[0mdf\u001b[0m\u001b[1;33m,\u001b[0m \u001b[0mndf\u001b[0m\u001b[1;33m,\u001b[0m \u001b[0mlabel_df\u001b[0m\u001b[1;33m[\u001b[0m\u001b[0mtp\u001b[0m\u001b[1;33m]\u001b[0m\u001b[1;33m,\u001b[0m \u001b[0mndata\u001b[0m\u001b[1;33m,\u001b[0m \u001b[0mnlabels\u001b[0m\u001b[1;33m)\u001b[0m\u001b[1;33m\u001b[0m\u001b[1;33m\u001b[0m\u001b[0m\n\u001b[0m\u001b[0;32m    944\u001b[0m \u001b[1;33m\u001b[0m\u001b[0m\n\u001b[0;32m    945\u001b[0m                 \u001b[0mlabel_df\u001b[0m\u001b[1;33m[\u001b[0m\u001b[0mtp\u001b[0m\u001b[1;33m]\u001b[0m\u001b[1;33m[\u001b[0m\u001b[0mcolumn\u001b[0m\u001b[1;33m]\u001b[0m \u001b[1;33m=\u001b[0m \u001b[0mnlabels\u001b[0m\u001b[1;33m\u001b[0m\u001b[1;33m\u001b[0m\u001b[0m\n",
      "\u001b[1;32mc:\\python\\python36\\lib\\site-packages\\dart_fss_classifier\\fs_search.py\u001b[0m in \u001b[0;36mcompare_df_and_ndf_cnn\u001b[1;34m(column, df, ndf, ldf, ndata, nlabels)\u001b[0m\n\u001b[0;32m     96\u001b[0m             \u001b[0mconcept_id\u001b[0m \u001b[1;33m=\u001b[0m \u001b[0mdf\u001b[0m\u001b[1;33m[\u001b[0m\u001b[0mdf_concept_column\u001b[0m\u001b[1;33m]\u001b[0m\u001b[1;33m.\u001b[0m\u001b[0miloc\u001b[0m\u001b[1;33m[\u001b[0m\u001b[0midx\u001b[0m\u001b[1;33m]\u001b[0m\u001b[1;33m\u001b[0m\u001b[1;33m\u001b[0m\u001b[0m\n\u001b[0;32m     97\u001b[0m         \u001b[1;32melse\u001b[0m\u001b[1;33m:\u001b[0m\u001b[1;33m\u001b[0m\u001b[1;33m\u001b[0m\u001b[0m\n\u001b[1;32m---> 98\u001b[1;33m             \u001b[0mconcept_id\u001b[0m \u001b[1;33m=\u001b[0m \u001b[0mguess_concept_id\u001b[0m\u001b[1;33m(\u001b[0m\u001b[0mlabel\u001b[0m\u001b[1;33m)\u001b[0m\u001b[1;33m\u001b[0m\u001b[1;33m\u001b[0m\u001b[0m\n\u001b[0m\u001b[0;32m     99\u001b[0m \u001b[1;33m\u001b[0m\u001b[0m\n\u001b[0;32m    100\u001b[0m         \u001b[1;32mif\u001b[0m \u001b[0mconcept_id\u001b[0m \u001b[1;32mis\u001b[0m \u001b[1;32mnot\u001b[0m \u001b[1;32mNone\u001b[0m\u001b[1;33m:\u001b[0m\u001b[1;33m\u001b[0m\u001b[1;33m\u001b[0m\u001b[0m\n",
      "\u001b[1;32mc:\\python\\python36\\lib\\site-packages\\dart_fss_classifier\\fs_search.py\u001b[0m in \u001b[0;36mguess_concept_id\u001b[1;34m(text)\u001b[0m\n\u001b[0;32m     38\u001b[0m         \u001b[0m추측된\u001b[0m \u001b[0mConcept_id\u001b[0m\u001b[1;33m\u001b[0m\u001b[1;33m\u001b[0m\u001b[0m\n\u001b[0;32m     39\u001b[0m     \"\"\"\n\u001b[1;32m---> 40\u001b[1;33m     \u001b[1;32mreturn\u001b[0m \u001b[0mguess\u001b[0m\u001b[1;33m(\u001b[0m\u001b[0mtext\u001b[0m\u001b[1;33m)\u001b[0m\u001b[1;33m\u001b[0m\u001b[1;33m\u001b[0m\u001b[0m\n\u001b[0m\u001b[0;32m     41\u001b[0m \u001b[1;33m\u001b[0m\u001b[0m\n\u001b[0;32m     42\u001b[0m \u001b[1;33m\u001b[0m\u001b[0m\n",
      "\u001b[1;32mc:\\python\\python36\\lib\\site-packages\\dart_fss_classifier\\classifier.py\u001b[0m in \u001b[0;36mguess\u001b[1;34m(text)\u001b[0m\n\u001b[0;32m     28\u001b[0m \u001b[1;33m\u001b[0m\u001b[0m\n\u001b[0;32m     29\u001b[0m     \"\"\"\n\u001b[1;32m---> 30\u001b[1;33m     \u001b[0mc\u001b[0m \u001b[1;33m=\u001b[0m \u001b[0mClassifier\u001b[0m\u001b[1;33m(\u001b[0m\u001b[1;33m)\u001b[0m\u001b[1;33m\u001b[0m\u001b[1;33m\u001b[0m\u001b[0m\n\u001b[0m\u001b[0;32m     31\u001b[0m     \u001b[1;32mreturn\u001b[0m \u001b[0mc\u001b[0m\u001b[1;33m.\u001b[0m\u001b[0mguess\u001b[0m\u001b[1;33m(\u001b[0m\u001b[0mtext\u001b[0m\u001b[1;33m)\u001b[0m\u001b[1;33m\u001b[0m\u001b[1;33m\u001b[0m\u001b[0m\n\u001b[0;32m     32\u001b[0m \u001b[1;33m\u001b[0m\u001b[0m\n",
      "\u001b[1;32mc:\\python\\python36\\lib\\site-packages\\dart_fss\\utils\\singleton.py\u001b[0m in \u001b[0;36m__call__\u001b[1;34m(cls, *args, **kwargs)\u001b[0m\n\u001b[0;32m      6\u001b[0m     \u001b[1;32mdef\u001b[0m \u001b[0m__call__\u001b[0m\u001b[1;33m(\u001b[0m\u001b[0mcls\u001b[0m\u001b[1;33m,\u001b[0m \u001b[1;33m*\u001b[0m\u001b[0margs\u001b[0m\u001b[1;33m,\u001b[0m \u001b[1;33m**\u001b[0m\u001b[0mkwargs\u001b[0m\u001b[1;33m)\u001b[0m\u001b[1;33m:\u001b[0m\u001b[1;33m\u001b[0m\u001b[1;33m\u001b[0m\u001b[0m\n\u001b[0;32m      7\u001b[0m         \u001b[1;32mif\u001b[0m \u001b[0mcls\u001b[0m \u001b[1;32mnot\u001b[0m \u001b[1;32min\u001b[0m \u001b[0mcls\u001b[0m\u001b[1;33m.\u001b[0m\u001b[0m_instances\u001b[0m\u001b[1;33m:\u001b[0m\u001b[1;33m\u001b[0m\u001b[1;33m\u001b[0m\u001b[0m\n\u001b[1;32m----> 8\u001b[1;33m             \u001b[0mcls\u001b[0m\u001b[1;33m.\u001b[0m\u001b[0m_instances\u001b[0m\u001b[1;33m[\u001b[0m\u001b[0mcls\u001b[0m\u001b[1;33m]\u001b[0m \u001b[1;33m=\u001b[0m \u001b[0msuper\u001b[0m\u001b[1;33m(\u001b[0m\u001b[0mSingleton\u001b[0m\u001b[1;33m,\u001b[0m \u001b[0mcls\u001b[0m\u001b[1;33m)\u001b[0m\u001b[1;33m.\u001b[0m\u001b[0m__call__\u001b[0m\u001b[1;33m(\u001b[0m\u001b[1;33m*\u001b[0m\u001b[0margs\u001b[0m\u001b[1;33m,\u001b[0m \u001b[1;33m**\u001b[0m\u001b[0mkwargs\u001b[0m\u001b[1;33m)\u001b[0m\u001b[1;33m\u001b[0m\u001b[1;33m\u001b[0m\u001b[0m\n\u001b[0m\u001b[0;32m      9\u001b[0m         \u001b[1;32mreturn\u001b[0m \u001b[0mcls\u001b[0m\u001b[1;33m.\u001b[0m\u001b[0m_instances\u001b[0m\u001b[1;33m[\u001b[0m\u001b[0mcls\u001b[0m\u001b[1;33m]\u001b[0m\u001b[1;33m\u001b[0m\u001b[1;33m\u001b[0m\u001b[0m\n",
      "\u001b[1;32mc:\\python\\python36\\lib\\site-packages\\dart_fss_classifier\\classifier.py\u001b[0m in \u001b[0;36m__init__\u001b[1;34m(self)\u001b[0m\n\u001b[0;32m    130\u001b[0m     \"\"\"\n\u001b[0;32m    131\u001b[0m     \u001b[1;32mdef\u001b[0m \u001b[0m__init__\u001b[0m\u001b[1;33m(\u001b[0m\u001b[0mself\u001b[0m\u001b[1;33m)\u001b[0m\u001b[1;33m:\u001b[0m\u001b[1;33m\u001b[0m\u001b[1;33m\u001b[0m\u001b[0m\n\u001b[1;32m--> 132\u001b[1;33m         \u001b[0mself\u001b[0m\u001b[1;33m.\u001b[0m\u001b[0mkonlpy\u001b[0m \u001b[1;33m=\u001b[0m \u001b[0mKkma\u001b[0m\u001b[1;33m(\u001b[0m\u001b[1;33m)\u001b[0m\u001b[1;33m\u001b[0m\u001b[1;33m\u001b[0m\u001b[0m\n\u001b[0m\u001b[0;32m    133\u001b[0m         \u001b[0mself\u001b[0m\u001b[1;33m.\u001b[0m\u001b[0m_dataset\u001b[0m \u001b[1;33m=\u001b[0m \u001b[1;32mNone\u001b[0m\u001b[1;33m\u001b[0m\u001b[1;33m\u001b[0m\u001b[0m\n\u001b[0;32m    134\u001b[0m         \u001b[0mself\u001b[0m\u001b[1;33m.\u001b[0m\u001b[0mword_dict\u001b[0m \u001b[1;33m=\u001b[0m \u001b[1;32mNone\u001b[0m\u001b[1;33m\u001b[0m\u001b[1;33m\u001b[0m\u001b[0m\n",
      "\u001b[1;32mC:\\Users\\Bae Kyungmo\\AppData\\Roaming\\Python\\Python36\\site-packages\\konlpy\\tag\\_kkma.py\u001b[0m in \u001b[0;36m__init__\u001b[1;34m(self, jvmpath, max_heap_size)\u001b[0m\n\u001b[0;32m     93\u001b[0m     \u001b[1;32mdef\u001b[0m \u001b[0m__init__\u001b[0m\u001b[1;33m(\u001b[0m\u001b[0mself\u001b[0m\u001b[1;33m,\u001b[0m \u001b[0mjvmpath\u001b[0m\u001b[1;33m=\u001b[0m\u001b[1;32mNone\u001b[0m\u001b[1;33m,\u001b[0m \u001b[0mmax_heap_size\u001b[0m\u001b[1;33m=\u001b[0m\u001b[1;36m1024\u001b[0m\u001b[1;33m)\u001b[0m\u001b[1;33m:\u001b[0m\u001b[1;33m\u001b[0m\u001b[1;33m\u001b[0m\u001b[0m\n\u001b[0;32m     94\u001b[0m         \u001b[1;32mif\u001b[0m \u001b[1;32mnot\u001b[0m \u001b[0mjpype\u001b[0m\u001b[1;33m.\u001b[0m\u001b[0misJVMStarted\u001b[0m\u001b[1;33m(\u001b[0m\u001b[1;33m)\u001b[0m\u001b[1;33m:\u001b[0m\u001b[1;33m\u001b[0m\u001b[1;33m\u001b[0m\u001b[0m\n\u001b[1;32m---> 95\u001b[1;33m             \u001b[0mjvm\u001b[0m\u001b[1;33m.\u001b[0m\u001b[0minit_jvm\u001b[0m\u001b[1;33m(\u001b[0m\u001b[0mjvmpath\u001b[0m\u001b[1;33m,\u001b[0m \u001b[0mmax_heap_size\u001b[0m\u001b[1;33m)\u001b[0m\u001b[1;33m\u001b[0m\u001b[1;33m\u001b[0m\u001b[0m\n\u001b[0m\u001b[0;32m     96\u001b[0m \u001b[1;33m\u001b[0m\u001b[0m\n\u001b[0;32m     97\u001b[0m         \u001b[0mkkmaJavaPackage\u001b[0m \u001b[1;33m=\u001b[0m \u001b[0mjpype\u001b[0m\u001b[1;33m.\u001b[0m\u001b[0mJPackage\u001b[0m\u001b[1;33m(\u001b[0m\u001b[1;34m'kr.lucypark.kkma'\u001b[0m\u001b[1;33m)\u001b[0m\u001b[1;33m\u001b[0m\u001b[1;33m\u001b[0m\u001b[0m\n",
      "\u001b[1;32mC:\\Users\\Bae Kyungmo\\AppData\\Roaming\\Python\\Python36\\site-packages\\konlpy\\jvm.py\u001b[0m in \u001b[0;36minit_jvm\u001b[1;34m(jvmpath, max_heap_size)\u001b[0m\n\u001b[0;32m     65\u001b[0m                                 \u001b[1;34m'-Dfile.encoding=UTF8'\u001b[0m\u001b[1;33m,\u001b[0m\u001b[1;33m\u001b[0m\u001b[1;33m\u001b[0m\u001b[0m\n\u001b[0;32m     66\u001b[0m                                 \u001b[1;34m'-ea'\u001b[0m\u001b[1;33m,\u001b[0m \u001b[1;34m'-Xmx{}m'\u001b[0m\u001b[1;33m.\u001b[0m\u001b[0mformat\u001b[0m\u001b[1;33m(\u001b[0m\u001b[0mmax_heap_size\u001b[0m\u001b[1;33m)\u001b[0m\u001b[1;33m,\u001b[0m\u001b[1;33m\u001b[0m\u001b[1;33m\u001b[0m\u001b[0m\n\u001b[1;32m---> 67\u001b[1;33m                                 convertStrings=True)\n\u001b[0m\u001b[0;32m     68\u001b[0m     \u001b[1;32melse\u001b[0m\u001b[1;33m:\u001b[0m\u001b[1;33m\u001b[0m\u001b[1;33m\u001b[0m\u001b[0m\n\u001b[0;32m     69\u001b[0m         \u001b[1;32mraise\u001b[0m \u001b[0mValueError\u001b[0m\u001b[1;33m(\u001b[0m\u001b[1;34m\"Please specify the JVM path.\"\u001b[0m\u001b[1;33m)\u001b[0m\u001b[1;33m\u001b[0m\u001b[1;33m\u001b[0m\u001b[0m\n",
      "\u001b[1;32mC:\\Users\\Bae Kyungmo\\AppData\\Roaming\\Python\\Python36\\site-packages\\jpype\\_core.py\u001b[0m in \u001b[0;36mstartJVM\u001b[1;34m(*args, **kwargs)\u001b[0m\n\u001b[0;32m    220\u001b[0m     \u001b[1;32mtry\u001b[0m\u001b[1;33m:\u001b[0m\u001b[1;33m\u001b[0m\u001b[1;33m\u001b[0m\u001b[0m\n\u001b[0;32m    221\u001b[0m         _jpype.startup(jvmpath, tuple(args),\n\u001b[1;32m--> 222\u001b[1;33m                        ignoreUnrecognized, convertStrings, interrupt)\n\u001b[0m\u001b[0;32m    223\u001b[0m         \u001b[0minitializeResources\u001b[0m\u001b[1;33m(\u001b[0m\u001b[1;33m)\u001b[0m\u001b[1;33m\u001b[0m\u001b[1;33m\u001b[0m\u001b[0m\n\u001b[0;32m    224\u001b[0m     \u001b[1;32mexcept\u001b[0m \u001b[0mRuntimeError\u001b[0m \u001b[1;32mas\u001b[0m \u001b[0mex\u001b[0m\u001b[1;33m:\u001b[0m\u001b[1;33m\u001b[0m\u001b[1;33m\u001b[0m\u001b[0m\n",
      "\u001b[1;31mSystemError\u001b[0m: ('java.nio.file.InvalidPathException: Illegal char <*> at index 79: C:\\\\Users\\\\Bae Kyungmo\\\\AppData\\\\Roaming\\\\Python\\\\Python36\\\\site-packages\\\\konlpy\\\\java\\\\*', \"An error occurred while fetching or analyzing {'rcp_no': '20190401003290', 'corp_code': '00117744', 'corp_name': '메리츠화재', 'stock_code': '000060', 'corp_cls': 'Y', 'report_nm': '사업보고서 (2018.12)', 'flr_nm': '메리츠화재', 'rcept_dt': '20190401', 'rm': '연'}.\")"
     ]
    }
   ],
   "source": [
    "fs = merits.extract_fs(bgn_de='20160101')"
   ]
  },
  {
   "cell_type": "code",
   "execution_count": null,
   "metadata": {},
   "outputs": [],
   "source": [
    "len(fs)"
   ]
  },
  {
   "cell_type": "code",
   "execution_count": null,
   "metadata": {},
   "outputs": [],
   "source": []
  },
  {
   "cell_type": "code",
   "execution_count": null,
   "metadata": {},
   "outputs": [],
   "source": []
  },
  {
   "cell_type": "code",
   "execution_count": 10,
   "metadata": {},
   "outputs": [],
   "source": [
    "import platform"
   ]
  },
  {
   "cell_type": "code",
   "execution_count": 11,
   "metadata": {},
   "outputs": [
    {
     "name": "stdout",
     "output_type": "stream",
     "text": [
      "('64bit', 'WindowsPE')\n"
     ]
    }
   ],
   "source": [
    "print(platform.architecture())"
   ]
  },
  {
   "cell_type": "code",
   "execution_count": null,
   "metadata": {},
   "outputs": [],
   "source": []
  },
  {
   "cell_type": "code",
   "execution_count": null,
   "metadata": {},
   "outputs": [],
   "source": []
  },
  {
   "cell_type": "code",
   "execution_count": 252,
   "metadata": {},
   "outputs": [],
   "source": [
    "rp = merits.search_filings(bgn_de='20160101',pblntf_detail_ty='a001')"
   ]
  },
  {
   "cell_type": "code",
   "execution_count": 255,
   "metadata": {},
   "outputs": [],
   "source": [
    "rp0 = rp[0]"
   ]
  },
  {
   "cell_type": "code",
   "execution_count": 265,
   "metadata": {},
   "outputs": [],
   "source": [
    "items=[]\n",
    "for i in range(len(rp)):\n",
    "    try :\n",
    "        for k in range(len(rp[i])):\n",
    "            items.append(rp[i].iloc[k,1])\n",
    "    except :\n",
    "        pass\n",
    "for k in items:\n",
    "    if '이익' in k :\n",
    "        print(k)"
   ]
  },
  {
   "cell_type": "code",
   "execution_count": null,
   "metadata": {},
   "outputs": [],
   "source": []
  },
  {
   "cell_type": "code",
   "execution_count": null,
   "metadata": {},
   "outputs": [],
   "source": []
  },
  {
   "cell_type": "code",
   "execution_count": null,
   "metadata": {},
   "outputs": [],
   "source": []
  },
  {
   "cell_type": "code",
   "execution_count": null,
   "metadata": {},
   "outputs": [],
   "source": []
  },
  {
   "cell_type": "code",
   "execution_count": 25,
   "metadata": {},
   "outputs": [
    {
     "data": {
      "text/plain": [
       "55"
      ]
     },
     "execution_count": 25,
     "metadata": {},
     "output_type": "execute_result"
    }
   ],
   "source": [
    "len(fs[0])"
   ]
  },
  {
   "cell_type": "code",
   "execution_count": 37,
   "metadata": {},
   "outputs": [
    {
     "data": {
      "text/plain": [
       "'영업활동 현금흐름'"
      ]
     },
     "execution_count": 37,
     "metadata": {},
     "output_type": "execute_result"
    }
   ],
   "source": [
    "fs[3].iloc[0,1]"
   ]
  },
  {
   "cell_type": "code",
   "execution_count": null,
   "metadata": {},
   "outputs": [],
   "source": []
  },
  {
   "cell_type": "code",
   "execution_count": 42,
   "metadata": {},
   "outputs": [],
   "source": [
    "items=[]\n",
    "for i in range(len(fs)):\n",
    "    for k in range(len(fs[i])):\n",
    "        items.append(fs[i].iloc[k,1])"
   ]
  },
  {
   "cell_type": "code",
   "execution_count": 46,
   "metadata": {},
   "outputs": [
    {
     "name": "stdout",
     "output_type": "stream",
     "text": [
      "이익잉여금(결손금)\n",
      "매출총이익\n",
      "영업이익(손실)\n",
      "지분법이익\n",
      "법인세비용차감전순이익(손실)\n",
      "계속영업이익(손실)\n",
      "당기순이익(손실)\n",
      "지배기업의 소유주에게 귀속되는 당기순이익(손실)\n",
      "비지배지분에 귀속되는 당기순이익(손실)\n",
      "기본주당이익(손실)\n",
      "희석주당이익(손실)\n",
      "당기순이익(손실)\n",
      "당기순이익\n"
     ]
    }
   ],
   "source": [
    "for k in items:\n",
    "    if '이익' in k :\n",
    "        print(k)"
   ]
  },
  {
   "cell_type": "code",
   "execution_count": 49,
   "metadata": {},
   "outputs": [
    {
     "data": {
      "text/html": [
       "<div>\n",
       "<style scoped>\n",
       "    .dataframe tbody tr th:only-of-type {\n",
       "        vertical-align: middle;\n",
       "    }\n",
       "\n",
       "    .dataframe tbody tr th {\n",
       "        vertical-align: top;\n",
       "    }\n",
       "\n",
       "    .dataframe thead tr th {\n",
       "        text-align: left;\n",
       "    }\n",
       "</style>\n",
       "<table border=\"1\" class=\"dataframe\">\n",
       "  <thead>\n",
       "    <tr>\n",
       "      <th></th>\n",
       "      <th colspan=\"6\" halign=\"left\">[D310000] Income statement, by function of expense - Consolidated financial statements (Unit: KRW)</th>\n",
       "      <th>20190101-20191231</th>\n",
       "      <th>20180101-20181231</th>\n",
       "      <th>20170101-20171231</th>\n",
       "      <th>20160101-20161231</th>\n",
       "    </tr>\n",
       "    <tr>\n",
       "      <th></th>\n",
       "      <th>concept_id</th>\n",
       "      <th>label_ko</th>\n",
       "      <th>label_en</th>\n",
       "      <th>class0</th>\n",
       "      <th>class1</th>\n",
       "      <th>class2</th>\n",
       "      <th>(연결재무제표,)</th>\n",
       "      <th>(연결재무제표,)</th>\n",
       "      <th>(연결재무제표,)</th>\n",
       "      <th>(연결재무제표,)</th>\n",
       "    </tr>\n",
       "  </thead>\n",
       "  <tbody>\n",
       "    <tr>\n",
       "      <th>0</th>\n",
       "      <td>ifrs-full_Revenue</td>\n",
       "      <td>수익(매출액)</td>\n",
       "      <td>Revenue(Sales)</td>\n",
       "      <td>손익계산서 [abstract]</td>\n",
       "      <td>수익(매출액)</td>\n",
       "      <td>None</td>\n",
       "      <td>230,400,881,000,000.0</td>\n",
       "      <td>243,771,415,000,000.0</td>\n",
       "      <td>239,575,376,000,000.0</td>\n",
       "      <td>201,866,745,000,000.0</td>\n",
       "    </tr>\n",
       "    <tr>\n",
       "      <th>1</th>\n",
       "      <td>ifrs-full_CostOfSales</td>\n",
       "      <td>매출원가</td>\n",
       "      <td>Cost of sales</td>\n",
       "      <td>손익계산서 [abstract]</td>\n",
       "      <td>매출원가</td>\n",
       "      <td>None</td>\n",
       "      <td>147,239,549,000,000.0</td>\n",
       "      <td>132,394,411,000,000.0</td>\n",
       "      <td>129,290,661,000,000.0</td>\n",
       "      <td>120,277,715,000,000.0</td>\n",
       "    </tr>\n",
       "    <tr>\n",
       "      <th>2</th>\n",
       "      <td>ifrs-full_GrossProfit</td>\n",
       "      <td>매출총이익</td>\n",
       "      <td>Gross profit</td>\n",
       "      <td>손익계산서 [abstract]</td>\n",
       "      <td>매출총이익</td>\n",
       "      <td>None</td>\n",
       "      <td>83,161,332,000,000.0</td>\n",
       "      <td>111,377,004,000,000.0</td>\n",
       "      <td>110,284,715,000,000.0</td>\n",
       "      <td>81,589,030,000,000.0</td>\n",
       "    </tr>\n",
       "    <tr>\n",
       "      <th>3</th>\n",
       "      <td>dart_TotalSellingGeneralAdministrativeExpenses</td>\n",
       "      <td>판매비와관리비</td>\n",
       "      <td>Selling general administrative expenses</td>\n",
       "      <td>손익계산서 [abstract]</td>\n",
       "      <td>판매비와관리비</td>\n",
       "      <td>None</td>\n",
       "      <td>55,392,823,000,000.0</td>\n",
       "      <td>52,490,335,000,000.0</td>\n",
       "      <td>56,639,677,000,000.0</td>\n",
       "      <td>52,348,358,000,000.0</td>\n",
       "    </tr>\n",
       "    <tr>\n",
       "      <th>4</th>\n",
       "      <td>dart_OperatingIncomeLoss</td>\n",
       "      <td>영업이익(손실)</td>\n",
       "      <td>Operating income(loss)</td>\n",
       "      <td>손익계산서 [abstract]</td>\n",
       "      <td>영업이익(손실)</td>\n",
       "      <td>None</td>\n",
       "      <td>27,768,509,000,000.0</td>\n",
       "      <td>58,886,669,000,000.0</td>\n",
       "      <td>53,645,038,000,000.0</td>\n",
       "      <td>29,240,672,000,000.0</td>\n",
       "    </tr>\n",
       "    <tr>\n",
       "      <th>5</th>\n",
       "      <td>dart_OtherGains</td>\n",
       "      <td>기타수익</td>\n",
       "      <td>Other gains</td>\n",
       "      <td>손익계산서 [abstract]</td>\n",
       "      <td>기타수익</td>\n",
       "      <td>None</td>\n",
       "      <td>1,778,666,000,000.0</td>\n",
       "      <td>1,485,037,000,000.0</td>\n",
       "      <td>3,010,657,000,000.0</td>\n",
       "      <td>3,238,261,000,000.0</td>\n",
       "    </tr>\n",
       "    <tr>\n",
       "      <th>6</th>\n",
       "      <td>dart_OtherLosses</td>\n",
       "      <td>기타비용</td>\n",
       "      <td>Other losses</td>\n",
       "      <td>손익계산서 [abstract]</td>\n",
       "      <td>기타비용</td>\n",
       "      <td>None</td>\n",
       "      <td>1,414,707,000,000.0</td>\n",
       "      <td>1,142,018,000,000.0</td>\n",
       "      <td>1,419,648,000,000.0</td>\n",
       "      <td>2,463,814,000,000.0</td>\n",
       "    </tr>\n",
       "    <tr>\n",
       "      <th>7</th>\n",
       "      <td>entity00126380_udf_IS_2017102191515184_IncomeS...</td>\n",
       "      <td>지분법이익</td>\n",
       "      <td>Share of profit (loss) of associates and joint...</td>\n",
       "      <td>손익계산서 [abstract]</td>\n",
       "      <td>지분법이익</td>\n",
       "      <td>None</td>\n",
       "      <td>412,960,000,000.0</td>\n",
       "      <td>539,845,000,000.0</td>\n",
       "      <td>201,442,000,000.0</td>\n",
       "      <td>19,501,000,000.0</td>\n",
       "    </tr>\n",
       "    <tr>\n",
       "      <th>8</th>\n",
       "      <td>ifrs-full_FinanceIncome</td>\n",
       "      <td>금융수익</td>\n",
       "      <td>Finance income</td>\n",
       "      <td>손익계산서 [abstract]</td>\n",
       "      <td>금융수익</td>\n",
       "      <td>None</td>\n",
       "      <td>10,161,632,000,000.0</td>\n",
       "      <td>9,999,321,000,000.0</td>\n",
       "      <td>9,737,391,000,000.0</td>\n",
       "      <td>11,385,645,000,000.0</td>\n",
       "    </tr>\n",
       "    <tr>\n",
       "      <th>9</th>\n",
       "      <td>entity00126380_udf_IS_2017102191643789_IncomeS...</td>\n",
       "      <td>금융비용</td>\n",
       "      <td>Finance expense</td>\n",
       "      <td>손익계산서 [abstract]</td>\n",
       "      <td>금융비용</td>\n",
       "      <td>None</td>\n",
       "      <td>8,274,871,000,000.0</td>\n",
       "      <td>8,608,896,000,000.0</td>\n",
       "      <td>8,978,913,000,000.0</td>\n",
       "      <td>10,706,613,000,000.0</td>\n",
       "    </tr>\n",
       "    <tr>\n",
       "      <th>10</th>\n",
       "      <td>ifrs-full_ProfitLossBeforeTax</td>\n",
       "      <td>법인세비용차감전순이익(손실)</td>\n",
       "      <td>Profit (loss) before tax</td>\n",
       "      <td>손익계산서 [abstract]</td>\n",
       "      <td>법인세비용차감전순이익(손실)</td>\n",
       "      <td>None</td>\n",
       "      <td>30,432,189,000,000.0</td>\n",
       "      <td>61,159,958,000,000.0</td>\n",
       "      <td>56,195,967,000,000.0</td>\n",
       "      <td>30,713,652,000,000.0</td>\n",
       "    </tr>\n",
       "    <tr>\n",
       "      <th>11</th>\n",
       "      <td>ifrs-full_IncomeTaxExpenseContinuingOperations</td>\n",
       "      <td>법인세비용</td>\n",
       "      <td>Income tax expense</td>\n",
       "      <td>손익계산서 [abstract]</td>\n",
       "      <td>법인세비용</td>\n",
       "      <td>None</td>\n",
       "      <td>8,693,324,000,000.0</td>\n",
       "      <td>16,815,101,000,000.0</td>\n",
       "      <td>14,009,220,000,000.0</td>\n",
       "      <td>7,987,560,000,000.0</td>\n",
       "    </tr>\n",
       "    <tr>\n",
       "      <th>12</th>\n",
       "      <td>ifrs-full_ProfitLossFromContinuingOperations</td>\n",
       "      <td>계속영업이익(손실)</td>\n",
       "      <td>Profit (loss) from continuing operations</td>\n",
       "      <td>손익계산서 [abstract]</td>\n",
       "      <td>계속영업이익(손실)</td>\n",
       "      <td>None</td>\n",
       "      <td>21,738,865,000,000.0</td>\n",
       "      <td>44,344,857,000,000.0</td>\n",
       "      <td>42,186,747,000,000.0</td>\n",
       "      <td>22,726,092,000,000.0</td>\n",
       "    </tr>\n",
       "    <tr>\n",
       "      <th>13</th>\n",
       "      <td>ifrs-full_ProfitLoss</td>\n",
       "      <td>당기순이익(손실)</td>\n",
       "      <td>Profit (loss)</td>\n",
       "      <td>손익계산서 [abstract]</td>\n",
       "      <td>당기순이익(손실)</td>\n",
       "      <td>None</td>\n",
       "      <td>21,738,865,000,000.0</td>\n",
       "      <td>44,344,857,000,000.0</td>\n",
       "      <td>42,186,747,000,000.0</td>\n",
       "      <td>22,726,092,000,000.0</td>\n",
       "    </tr>\n",
       "    <tr>\n",
       "      <th>14</th>\n",
       "      <td>ifrs-full_ProfitLossAttributableToOwnersOfParent</td>\n",
       "      <td>지배기업의 소유주에게 귀속되는 당기순이익(손실)</td>\n",
       "      <td>Profit (loss), attributable to owners of parent</td>\n",
       "      <td>손익계산서 [abstract]</td>\n",
       "      <td>당기순이익(손실)의 귀속 [abstract]</td>\n",
       "      <td>지배기업의 소유주에게 귀속되는 당기순이익(손실)</td>\n",
       "      <td>21,505,054,000,000.0</td>\n",
       "      <td>43,890,877,000,000.0</td>\n",
       "      <td>41,344,569,000,000.0</td>\n",
       "      <td>22,415,655,000,000.0</td>\n",
       "    </tr>\n",
       "    <tr>\n",
       "      <th>15</th>\n",
       "      <td>ifrs-full_ProfitLossAttributableToNoncontrolli...</td>\n",
       "      <td>비지배지분에 귀속되는 당기순이익(손실)</td>\n",
       "      <td>Profit (loss), attributable to non-controlling...</td>\n",
       "      <td>손익계산서 [abstract]</td>\n",
       "      <td>당기순이익(손실)의 귀속 [abstract]</td>\n",
       "      <td>비지배지분에 귀속되는 당기순이익(손실)</td>\n",
       "      <td>233,811,000,000.0</td>\n",
       "      <td>453,980,000,000.0</td>\n",
       "      <td>842,178,000,000.0</td>\n",
       "      <td>310,437,000,000.0</td>\n",
       "    </tr>\n",
       "    <tr>\n",
       "      <th>16</th>\n",
       "      <td>ifrs-full_BasicEarningsLossPerShare</td>\n",
       "      <td>기본주당이익(손실)</td>\n",
       "      <td>Basic earnings (loss) per share</td>\n",
       "      <td>손익계산서 [abstract]</td>\n",
       "      <td>주당이익 [abstract]</td>\n",
       "      <td>기본주당이익(손실)</td>\n",
       "      <td>3,166.0</td>\n",
       "      <td>6,461.0</td>\n",
       "      <td>5,997.0</td>\n",
       "      <td>3,159.0</td>\n",
       "    </tr>\n",
       "    <tr>\n",
       "      <th>17</th>\n",
       "      <td>ifrs-full_DilutedEarningsLossPerShare</td>\n",
       "      <td>희석주당이익(손실)</td>\n",
       "      <td>Diluted earnings (loss) per share</td>\n",
       "      <td>손익계산서 [abstract]</td>\n",
       "      <td>주당이익 [abstract]</td>\n",
       "      <td>희석주당이익(손실)</td>\n",
       "      <td>3,166.0</td>\n",
       "      <td>6,461.0</td>\n",
       "      <td>5,997.0</td>\n",
       "      <td>3,159.0</td>\n",
       "    </tr>\n",
       "  </tbody>\n",
       "</table>\n",
       "</div>"
      ],
      "text/plain": [
       "   [D310000] Income statement, by function of expense - Consolidated financial statements (Unit: KRW)  \\\n",
       "                                                                                           concept_id   \n",
       "0                                   ifrs-full_Revenue                                                   \n",
       "1                               ifrs-full_CostOfSales                                                   \n",
       "2                               ifrs-full_GrossProfit                                                   \n",
       "3      dart_TotalSellingGeneralAdministrativeExpenses                                                   \n",
       "4                            dart_OperatingIncomeLoss                                                   \n",
       "5                                     dart_OtherGains                                                   \n",
       "6                                    dart_OtherLosses                                                   \n",
       "7   entity00126380_udf_IS_2017102191515184_IncomeS...                                                   \n",
       "8                             ifrs-full_FinanceIncome                                                   \n",
       "9   entity00126380_udf_IS_2017102191643789_IncomeS...                                                   \n",
       "10                      ifrs-full_ProfitLossBeforeTax                                                   \n",
       "11     ifrs-full_IncomeTaxExpenseContinuingOperations                                                   \n",
       "12       ifrs-full_ProfitLossFromContinuingOperations                                                   \n",
       "13                               ifrs-full_ProfitLoss                                                   \n",
       "14   ifrs-full_ProfitLossAttributableToOwnersOfParent                                                   \n",
       "15  ifrs-full_ProfitLossAttributableToNoncontrolli...                                                   \n",
       "16                ifrs-full_BasicEarningsLossPerShare                                                   \n",
       "17              ifrs-full_DilutedEarningsLossPerShare                                                   \n",
       "\n",
       "                                \\\n",
       "                      label_ko   \n",
       "0                      수익(매출액)   \n",
       "1                         매출원가   \n",
       "2                        매출총이익   \n",
       "3                      판매비와관리비   \n",
       "4                     영업이익(손실)   \n",
       "5                         기타수익   \n",
       "6                         기타비용   \n",
       "7                        지분법이익   \n",
       "8                         금융수익   \n",
       "9                         금융비용   \n",
       "10             법인세비용차감전순이익(손실)   \n",
       "11                       법인세비용   \n",
       "12                  계속영업이익(손실)   \n",
       "13                   당기순이익(손실)   \n",
       "14  지배기업의 소유주에게 귀속되는 당기순이익(손실)   \n",
       "15       비지배지분에 귀속되는 당기순이익(손실)   \n",
       "16                  기본주당이익(손실)   \n",
       "17                  희석주당이익(손실)   \n",
       "\n",
       "                                                                         \\\n",
       "                                             label_en            class0   \n",
       "0                                      Revenue(Sales)  손익계산서 [abstract]   \n",
       "1                                       Cost of sales  손익계산서 [abstract]   \n",
       "2                                        Gross profit  손익계산서 [abstract]   \n",
       "3             Selling general administrative expenses  손익계산서 [abstract]   \n",
       "4                              Operating income(loss)  손익계산서 [abstract]   \n",
       "5                                         Other gains  손익계산서 [abstract]   \n",
       "6                                        Other losses  손익계산서 [abstract]   \n",
       "7   Share of profit (loss) of associates and joint...  손익계산서 [abstract]   \n",
       "8                                      Finance income  손익계산서 [abstract]   \n",
       "9                                     Finance expense  손익계산서 [abstract]   \n",
       "10                           Profit (loss) before tax  손익계산서 [abstract]   \n",
       "11                                 Income tax expense  손익계산서 [abstract]   \n",
       "12           Profit (loss) from continuing operations  손익계산서 [abstract]   \n",
       "13                                      Profit (loss)  손익계산서 [abstract]   \n",
       "14    Profit (loss), attributable to owners of parent  손익계산서 [abstract]   \n",
       "15  Profit (loss), attributable to non-controlling...  손익계산서 [abstract]   \n",
       "16                    Basic earnings (loss) per share  손익계산서 [abstract]   \n",
       "17                  Diluted earnings (loss) per share  손익계산서 [abstract]   \n",
       "\n",
       "                                                          \\\n",
       "                      class1                      class2   \n",
       "0                    수익(매출액)                        None   \n",
       "1                       매출원가                        None   \n",
       "2                      매출총이익                        None   \n",
       "3                    판매비와관리비                        None   \n",
       "4                   영업이익(손실)                        None   \n",
       "5                       기타수익                        None   \n",
       "6                       기타비용                        None   \n",
       "7                      지분법이익                        None   \n",
       "8                       금융수익                        None   \n",
       "9                       금융비용                        None   \n",
       "10           법인세비용차감전순이익(손실)                        None   \n",
       "11                     법인세비용                        None   \n",
       "12                계속영업이익(손실)                        None   \n",
       "13                 당기순이익(손실)                        None   \n",
       "14  당기순이익(손실)의 귀속 [abstract]  지배기업의 소유주에게 귀속되는 당기순이익(손실)   \n",
       "15  당기순이익(손실)의 귀속 [abstract]       비지배지분에 귀속되는 당기순이익(손실)   \n",
       "16           주당이익 [abstract]                  기본주당이익(손실)   \n",
       "17           주당이익 [abstract]                  희석주당이익(손실)   \n",
       "\n",
       "       20190101-20191231     20180101-20181231     20170101-20171231  \\\n",
       "               (연결재무제표,)             (연결재무제표,)             (연결재무제표,)   \n",
       "0  230,400,881,000,000.0 243,771,415,000,000.0 239,575,376,000,000.0   \n",
       "1  147,239,549,000,000.0 132,394,411,000,000.0 129,290,661,000,000.0   \n",
       "2   83,161,332,000,000.0 111,377,004,000,000.0 110,284,715,000,000.0   \n",
       "3   55,392,823,000,000.0  52,490,335,000,000.0  56,639,677,000,000.0   \n",
       "4   27,768,509,000,000.0  58,886,669,000,000.0  53,645,038,000,000.0   \n",
       "5    1,778,666,000,000.0   1,485,037,000,000.0   3,010,657,000,000.0   \n",
       "6    1,414,707,000,000.0   1,142,018,000,000.0   1,419,648,000,000.0   \n",
       "7      412,960,000,000.0     539,845,000,000.0     201,442,000,000.0   \n",
       "8   10,161,632,000,000.0   9,999,321,000,000.0   9,737,391,000,000.0   \n",
       "9    8,274,871,000,000.0   8,608,896,000,000.0   8,978,913,000,000.0   \n",
       "10  30,432,189,000,000.0  61,159,958,000,000.0  56,195,967,000,000.0   \n",
       "11   8,693,324,000,000.0  16,815,101,000,000.0  14,009,220,000,000.0   \n",
       "12  21,738,865,000,000.0  44,344,857,000,000.0  42,186,747,000,000.0   \n",
       "13  21,738,865,000,000.0  44,344,857,000,000.0  42,186,747,000,000.0   \n",
       "14  21,505,054,000,000.0  43,890,877,000,000.0  41,344,569,000,000.0   \n",
       "15     233,811,000,000.0     453,980,000,000.0     842,178,000,000.0   \n",
       "16               3,166.0               6,461.0               5,997.0   \n",
       "17               3,166.0               6,461.0               5,997.0   \n",
       "\n",
       "       20160101-20161231  \n",
       "               (연결재무제표,)  \n",
       "0  201,866,745,000,000.0  \n",
       "1  120,277,715,000,000.0  \n",
       "2   81,589,030,000,000.0  \n",
       "3   52,348,358,000,000.0  \n",
       "4   29,240,672,000,000.0  \n",
       "5    3,238,261,000,000.0  \n",
       "6    2,463,814,000,000.0  \n",
       "7       19,501,000,000.0  \n",
       "8   11,385,645,000,000.0  \n",
       "9   10,706,613,000,000.0  \n",
       "10  30,713,652,000,000.0  \n",
       "11   7,987,560,000,000.0  \n",
       "12  22,726,092,000,000.0  \n",
       "13  22,726,092,000,000.0  \n",
       "14  22,415,655,000,000.0  \n",
       "15     310,437,000,000.0  \n",
       "16               3,159.0  \n",
       "17               3,159.0  "
      ]
     },
     "execution_count": 49,
     "metadata": {},
     "output_type": "execute_result"
    }
   ],
   "source": [
    "fs[1]"
   ]
  },
  {
   "cell_type": "markdown",
   "metadata": {},
   "source": [
    "### 참고사이트\n",
    "\n",
    "* https://blog.naver.com/PostView.nhn?blogId=freed0om&logNo=221971659619&parentCategoryNo=64&categoryNo=67&viewDate=&isShowPopularPosts=false&from=postList\n",
    "\n",
    "* https://github.com/Kisgnues/OpenDartReader"
   ]
  },
  {
   "cell_type": "code",
   "execution_count": 5,
   "metadata": {},
   "outputs": [],
   "source": [
    "import OpenDartReader\n",
    "\n",
    "\n",
    "api_key = api_key\n",
    "\n",
    "dart = OpenDartReader(api_key) "
   ]
  },
  {
   "cell_type": "code",
   "execution_count": null,
   "metadata": {},
   "outputs": [],
   "source": []
  },
  {
   "cell_type": "code",
   "execution_count": 57,
   "metadata": {},
   "outputs": [],
   "source": [
    "def finance(company, From, To) : \n",
    "\n",
    "    ### Dictionary\n",
    "    df_info = {}\n",
    "     \n",
    "    for year in range(From, To+1) : \n",
    "\n",
    "        ### 재무제표\n",
    "        fs = dart.finstate(company, year, reprt_code='11011') # 재무제표(전체)\n",
    "        \"\"\"\n",
    "        reprt_code : '11013' = 1분기보고서, '11012' = 반기보고서, '11014' = 3분기보고서, '11011' = 사업보고서\n",
    "        \"\"\"\n",
    "        fs_is = fs[fs['sj_div'].str.contains('IS')] # 재무제표(전체) > 손익계산서\n",
    "        fs_bs = fs[fs['sj_div'].str.contains('BS')] # 재무제표(전체) > 재무제표\n",
    "        fs_equity = fs_bs[fs_bs['account_nm'].str.contains('자본총계')] # 재무제표(전체) > 재무제표 > 자본총계\n",
    "        fs_assets = fs_bs[fs_bs['account_nm'].str.contains('자산총계')] # 재무제표(전체) > 재무제표 > 자산총계\n",
    "        fs_revenue = fs_is[fs_is['account_nm'].str.contains('매출액')] # 재무제표(전체) > 손익계산서 > 매출액\n",
    "        fs_income = fs_is[fs_is['account_nm'].str.contains('영업이익')] # 재무제표(전체) > 손익계산서 > 영업이익\n",
    "        fs_profit = fs_is[fs_is['account_nm'].str.contains('당기순이익')] # 재무제표(전체) > 손익계산서 > 당기순이익\n",
    "\n",
    "        ### 재무제표 전체(재무상태표, 손익계산서, 자본변동표, 현금흐름표 등)\n",
    "        fs_all = dart.finstate_all(company, year) # 재무제표(전체)\n",
    "        fs_cf = fs_all[fs_all['sj_div'].str.contains('CF')] # 재무제표(전체) > 현금흐름표\n",
    "        fs_OCF = fs_cf[fs_cf['account_id'].str.contains('CashFlowsFromUsedInOperatingActivities')] # 재무제표(전체) > 현금흐름표 > 영업활동현금흐름\n",
    "        fs_aucqusition = fs_cf[fs_cf['account_nm'].str.contains('취득')] # 재무제표(전체) > 현금흐름표 >  '취득'\n",
    "        fs_CAPEX_P = fs_aucqusition[fs_aucqusition['account_nm'].str.contains('유형자산')] # 재무제표(전체) > 현금흐름표 >  유형자산의취득\n",
    "        fs_CAPEX_I = fs_aucqusition[fs_aucqusition['account_nm'].str.contains('무형자산')] # 재무제표(전체) > 현금흐름표 >  무형자산의취득\n",
    "\n",
    "        ### 배당에 관한 사항\n",
    "        dv = dart.report(company, '배당', year) # 배당에 관한 사항\n",
    "        dv_dps = dv[ dv['se'] == '주당 현금배당금(원)' ] # 배당에 관한 사항 > 주당 배당금\n",
    "        dv_eps = dv[ dv['se'].str.contains('주당순이익') ] # 배당에 관한 사항 > 주당 순이익\n",
    "        dv_yield = dv[ dv['se'].str.contains('현금배당수익률') ] # 배당에 관한 사항 > 배당수익률\n",
    "        dv_TD = dv[ dv['se'].str.contains('현금배당금총액') ] # 배당에 관한 사항 > 배당금 총액\n",
    "\n",
    "   \n",
    "        equity_this = int(fs_equity[['thstrm_amount']].iloc[0,0].replace(',', '').strip()) # 당해년도 자본총계\n",
    "        equity_last = int(fs_equity[['frmtrm_amount']].iloc[0,0].replace(',', '').strip()) # 직전년도 자본총계\n",
    "        equity = (equity_this + equity_last ) / 2 # 평균자본총계 \n",
    "        assets_this = int(fs_assets[['thstrm_amount']].iloc[0,0].replace(',', '').strip()) # 당해년도 자본총계\n",
    "        assets_last = int(fs_assets[['frmtrm_amount']].iloc[0,0].replace(',', '').strip()) # 직전년도 자본총계\n",
    "        assets = (assets_this + assets_last ) / 2 # 평균자산총계\n",
    "        revenue = int(fs_revenue[['thstrm_amount']].iloc[0,0].replace(',', '')) # 매출액\n",
    "        income = int(fs_income[['thstrm_amount']].iloc[0,0].replace(',', '')) # 영업이익\n",
    "        profit = int(fs_profit[['thstrm_amount']].iloc[0,0].replace(',', '')) # 순이익\n",
    "        DPS = int( dv_dps[ ['thstrm'] ].iloc[0, 0].replace(',', '').strip() ) # 주당 배당금\n",
    "        EPS = int( dv_eps[ ['thstrm'] ].iloc[0, 0].replace(',', '').strip() ) # 주당 순이익\n",
    "        Yield = int( dv_yield[ ['thstrm'] ].iloc[0, 0].replace('.', '').strip() ) / 10000 # 배당수익률\n",
    "        TD = int( dv_TD[ ['thstrm'] ].iloc[0, 0].replace(',', '').strip() ) # 배당금 총액\n",
    "        OCF = int(fs_OCF[['thstrm_amount']].iloc[0,0]) # 당해년도\n",
    "        CAPEX_P = int(fs_CAPEX_P[['thstrm_amount']].iloc[0,0]) # 유형자산의취득\n",
    "        CAPEX_I = int(fs_CAPEX_I[['thstrm_amount']].iloc[0,0]) #  무형자산의취득\n",
    "        CAPEX = CAPEX_P + CAPEX_I\n",
    "        ROE = profit / equity # 자기자본수익률\n",
    "        ROA = profit / assets # 자산수익률\n",
    "        FCF = OCF - CAPEX # 잉여현금흐름\n",
    "        OPM = income / revenue # 영업이익률\n",
    "        NPM = profit / revenue # 순이익률\n",
    "        PR = DPS / EPS # 배당성향\n",
    "        \n",
    "        ### dictionary에 담기\n",
    "        df_info[str(year)] = \\\n",
    "        f'{revenue:,}'[:-8], \\\n",
    "        f'{income:,}'[:-8], \\\n",
    "        f'{profit:,}'[:-8], \\\n",
    "        f'{OCF:,}'[:-8], \\\n",
    "        f'{FCF:,}'[:-8], \\\n",
    "        f'{TD:,}', \\\n",
    "        f'{OPM:.1%}', \\\n",
    "        f'{NPM:.1%}', \\\n",
    "        f'{ROE:.1%}', \\\n",
    "        f'{ROA:.1%}', \\\n",
    "        f'{EPS:,}', \\\n",
    "        f'{DPS:,}', \\\n",
    "        f'{PR:.1%}', \\\n",
    "        f'{Yield:.1%}', \\\n",
    "        # f'{value:,}'[:-8] : ###,, / f'{value:.1%}' : #.#%\n",
    "        \n",
    "    ### 출력 ###\n",
    "    df = pd.DataFrame(data = df_info, \\\n",
    "                      index = ['Revenue', 'Operating Profit', 'Net Profit', \n",
    "                               'Operating Cash Flow', 'Free Cash Flow', 'Total Dividend',\n",
    "                               'Operating Profit Margin', 'Net Profit Margin', \n",
    "                               'Return on Equity', 'Return on Assets', \n",
    "                              'EPS', 'DPS', 'Payout Ratio', 'Yield'])\n",
    "\n",
    "    company_nm = dart.company(company)['stock_name'] # 종목명\n",
    "    company_nm_eng = dart.company(company)['corp_name_eng'] # 회사 영문명\n",
    "    company_stock_code = dart.company(company)['stock_code'] # 종목코드    \n",
    "    print(company_nm, company_nm_eng, company_stock_code, '(단위 : %, 백만원, 원)')\n",
    "    return df"
   ]
  },
  {
   "cell_type": "code",
   "execution_count": 60,
   "metadata": {},
   "outputs": [
    {
     "name": "stdout",
     "output_type": "stream",
     "text": [
      "삼성전자 SAMSUNG ELECTRONICS CO,.LTD 005930 (단위 : %, 백만원, 원)\n",
      "Wall time: 1.85 s\n"
     ]
    }
   ],
   "source": [
    "%%time\n",
    "\n",
    "q1 = finance('삼성전자',2015,2019)"
   ]
  },
  {
   "cell_type": "code",
   "execution_count": 61,
   "metadata": {},
   "outputs": [
    {
     "data": {
      "text/html": [
       "<div>\n",
       "<style scoped>\n",
       "    .dataframe tbody tr th:only-of-type {\n",
       "        vertical-align: middle;\n",
       "    }\n",
       "\n",
       "    .dataframe tbody tr th {\n",
       "        vertical-align: top;\n",
       "    }\n",
       "\n",
       "    .dataframe thead th {\n",
       "        text-align: right;\n",
       "    }\n",
       "</style>\n",
       "<table border=\"1\" class=\"dataframe\">\n",
       "  <thead>\n",
       "    <tr style=\"text-align: right;\">\n",
       "      <th></th>\n",
       "      <th>2015</th>\n",
       "      <th>2016</th>\n",
       "      <th>2017</th>\n",
       "      <th>2018</th>\n",
       "      <th>2019</th>\n",
       "    </tr>\n",
       "  </thead>\n",
       "  <tbody>\n",
       "    <tr>\n",
       "      <th>Revenue</th>\n",
       "      <td>200,653,482</td>\n",
       "      <td>201,866,745</td>\n",
       "      <td>239,575,376</td>\n",
       "      <td>243,771,415</td>\n",
       "      <td>230,400,881</td>\n",
       "    </tr>\n",
       "    <tr>\n",
       "      <th>Operating Profit</th>\n",
       "      <td>26,413,442</td>\n",
       "      <td>29,240,672</td>\n",
       "      <td>53,645,038</td>\n",
       "      <td>58,886,669</td>\n",
       "      <td>27,768,509</td>\n",
       "    </tr>\n",
       "    <tr>\n",
       "      <th>Net Profit</th>\n",
       "      <td>19,060,144</td>\n",
       "      <td>22,726,092</td>\n",
       "      <td>42,186,747</td>\n",
       "      <td>44,344,857</td>\n",
       "      <td>21,738,865</td>\n",
       "    </tr>\n",
       "    <tr>\n",
       "      <th>Operating Cash Flow</th>\n",
       "      <td>40,061,761</td>\n",
       "      <td>47,385,644</td>\n",
       "      <td>62,162,041</td>\n",
       "      <td>67,031,863</td>\n",
       "      <td>45,382,915</td>\n",
       "    </tr>\n",
       "    <tr>\n",
       "      <th>Free Cash Flow</th>\n",
       "      <td>12,679,658</td>\n",
       "      <td>22,195,003</td>\n",
       "      <td>18,386,067</td>\n",
       "      <td>36,454,940</td>\n",
       "      <td>16,765,245</td>\n",
       "    </tr>\n",
       "    <tr>\n",
       "      <th>Total Dividend</th>\n",
       "      <td>3,068,737</td>\n",
       "      <td>3,991,892</td>\n",
       "      <td>5,826,302</td>\n",
       "      <td>9,619,243</td>\n",
       "      <td>9,619,243</td>\n",
       "    </tr>\n",
       "    <tr>\n",
       "      <th>Operating Profit Margin</th>\n",
       "      <td>13.2%</td>\n",
       "      <td>14.5%</td>\n",
       "      <td>22.4%</td>\n",
       "      <td>24.2%</td>\n",
       "      <td>12.1%</td>\n",
       "    </tr>\n",
       "    <tr>\n",
       "      <th>Net Profit Margin</th>\n",
       "      <td>9.5%</td>\n",
       "      <td>11.3%</td>\n",
       "      <td>17.6%</td>\n",
       "      <td>18.2%</td>\n",
       "      <td>9.4%</td>\n",
       "    </tr>\n",
       "    <tr>\n",
       "      <th>Return on Equity</th>\n",
       "      <td>11.0%</td>\n",
       "      <td>12.2%</td>\n",
       "      <td>20.7%</td>\n",
       "      <td>19.2%</td>\n",
       "      <td>8.5%</td>\n",
       "    </tr>\n",
       "    <tr>\n",
       "      <th>Return on Assets</th>\n",
       "      <td>8.1%</td>\n",
       "      <td>9.0%</td>\n",
       "      <td>15.0%</td>\n",
       "      <td>13.8%</td>\n",
       "      <td>6.3%</td>\n",
       "    </tr>\n",
       "    <tr>\n",
       "      <th>EPS</th>\n",
       "      <td>126,305</td>\n",
       "      <td>157,967</td>\n",
       "      <td>299,868</td>\n",
       "      <td>6,461</td>\n",
       "      <td>3,166</td>\n",
       "    </tr>\n",
       "    <tr>\n",
       "      <th>DPS</th>\n",
       "      <td>21,000</td>\n",
       "      <td>28,500</td>\n",
       "      <td>42,500</td>\n",
       "      <td>1,416</td>\n",
       "      <td>1,416</td>\n",
       "    </tr>\n",
       "    <tr>\n",
       "      <th>Payout Ratio</th>\n",
       "      <td>16.6%</td>\n",
       "      <td>18.0%</td>\n",
       "      <td>14.2%</td>\n",
       "      <td>21.9%</td>\n",
       "      <td>44.7%</td>\n",
       "    </tr>\n",
       "    <tr>\n",
       "      <th>Yield</th>\n",
       "      <td>1.6%</td>\n",
       "      <td>1.6%</td>\n",
       "      <td>1.7%</td>\n",
       "      <td>3.7%</td>\n",
       "      <td>2.6%</td>\n",
       "    </tr>\n",
       "  </tbody>\n",
       "</table>\n",
       "</div>"
      ],
      "text/plain": [
       "                                2015         2016         2017         2018  \\\n",
       "Revenue                  200,653,482  201,866,745  239,575,376  243,771,415   \n",
       "Operating Profit          26,413,442   29,240,672   53,645,038   58,886,669   \n",
       "Net Profit                19,060,144   22,726,092   42,186,747   44,344,857   \n",
       "Operating Cash Flow       40,061,761   47,385,644   62,162,041   67,031,863   \n",
       "Free Cash Flow            12,679,658   22,195,003   18,386,067   36,454,940   \n",
       "Total Dividend             3,068,737    3,991,892    5,826,302    9,619,243   \n",
       "Operating Profit Margin        13.2%        14.5%        22.4%        24.2%   \n",
       "Net Profit Margin               9.5%        11.3%        17.6%        18.2%   \n",
       "Return on Equity               11.0%        12.2%        20.7%        19.2%   \n",
       "Return on Assets                8.1%         9.0%        15.0%        13.8%   \n",
       "EPS                          126,305      157,967      299,868        6,461   \n",
       "DPS                           21,000       28,500       42,500        1,416   \n",
       "Payout Ratio                   16.6%        18.0%        14.2%        21.9%   \n",
       "Yield                           1.6%         1.6%         1.7%         3.7%   \n",
       "\n",
       "                                2019  \n",
       "Revenue                  230,400,881  \n",
       "Operating Profit          27,768,509  \n",
       "Net Profit                21,738,865  \n",
       "Operating Cash Flow       45,382,915  \n",
       "Free Cash Flow            16,765,245  \n",
       "Total Dividend             9,619,243  \n",
       "Operating Profit Margin        12.1%  \n",
       "Net Profit Margin               9.4%  \n",
       "Return on Equity                8.5%  \n",
       "Return on Assets                6.3%  \n",
       "EPS                            3,166  \n",
       "DPS                            1,416  \n",
       "Payout Ratio                   44.7%  \n",
       "Yield                           2.6%  "
      ]
     },
     "execution_count": 61,
     "metadata": {},
     "output_type": "execute_result"
    }
   ],
   "source": [
    "q1"
   ]
  },
  {
   "cell_type": "code",
   "execution_count": 96,
   "metadata": {},
   "outputs": [],
   "source": [
    "def finance_1Q(company, year) : \n",
    "\n",
    "    ### Dictionary\n",
    "    df_info = {}\n",
    "    df_info2 = {}\n",
    "\n",
    "    ### 재무제표\n",
    "    fs = dart.finstate(company, year, reprt_code='11013') # 재무제표(전체)\n",
    "    \"\"\"\n",
    "    reprt_code : '11013' = 1분기보고서, '11012' = 반기보고서, '11014' = 3분기보고서, '11011' = 사업보고서\n",
    "    \"\"\"\n",
    "    fs_cfs = fs[fs['fs_div'].str.contains('CFS')] # 재무제표(전체) > 연결\n",
    "    fs_is = fs_cfs[fs_cfs['sj_div'].str.contains('IS')] # 재무제표(전체) > 손익계산서\n",
    "    fs_bs = fs_cfs[fs_cfs['sj_div'].str.contains('BS')] # 재무제표(전체) > 재무제표\n",
    "    fs_equity = fs_bs[fs_bs['account_nm'].str.contains('자본총계')] # 재무제표(전체) > 재무제표 > 자본총계\n",
    "    fs_assets = fs_bs[fs_bs['account_nm'].str.contains('자산총계')] # 재무제표(전체) > 재무제표 > 자산총계\n",
    "    fs_debt = fs_bs[fs_bs['account_nm'].str.contains('부채총계')] # 재무제표(전체) > 연결 > 재무상태표 > 부채총계\n",
    "    fs_current_liabilities = fs_bs[fs_bs['account_nm']==('유동부채')]\n",
    "    fs_current_assets = fs_bs[fs_bs['account_nm']==('유동자산')]\n",
    "    \n",
    "    \n",
    "    ### 재무제표 전체(재무상태표, 손익계산서, 자본변동표, 현금흐름표 등)\n",
    "    fs_all = dart.finstate_all(company, year, reprt_code = '11013') # 1분기 보고서 재무제표(전체)\n",
    "    fs_revenue = fs_all[fs_all['account_nm'].str.contains('매출액|영업수익')] # 재무제표(전체) > 손익계산서 > 매출액\n",
    "    fs_income = fs_all[fs_all['account_id']=='dart_OperatingIncomeLoss'] # 재무제표(전체) > 손익계산서 > 영업이익\n",
    "    fs_profit = fs_all[fs_all['account_id']=='ifrs-full_ProfitLoss'] # 재무제표(전체) > 손익계산서 > 당기순이익\n",
    "    fs_CostOfSales = fs_all[fs_all['account_id']=='ifrs-full_CostOfSales']\n",
    "    fs_CostOfMgnt = fs_all[fs_all['account_nm'].str.contains('판매비와관리비|영업비용')]\n",
    "    fs_IncomeOfFin = fs_all[fs_all['account_nm'].str.contains('금융수익|금융이익')]\n",
    "    fs_CostOfFin = fs_all[fs_all['account_nm'].str.contains('금융비용|금융손실|금융원가')]\n",
    "    fs_IncomeOfEtc = fs_all[fs_all['account_nm'].str.contains('기타수익|기타이익|기타영업외수익')]\n",
    "    fs_CostOfEtc = fs_all[fs_all['account_nm'].str.contains('기타비용|기타손실|기타원가|기타영업외비용')]\n",
    "    \n",
    "    fs_cf = fs_all[fs_all['sj_div'].str.contains('CF')] # 재무제표(전체) > 현금흐름표\n",
    "    fs_OCF = fs_cf[fs_cf['account_id'].str.contains('CashFlowsFromUsedInOperatingActivities')] # 재무제표(전체) > 현금흐름표 > 영업활동현금흐름\n",
    "    fs_aucqusition = fs_cf[fs_cf['account_nm'].str.contains('취득')] # 재무제표(전체) > 현금흐름표 >  '취득'\n",
    "    fs_CAPEX_P = fs_aucqusition[fs_aucqusition['account_nm'].str.contains('유형자산')] # 재무제표(전체) > 현금흐름표 >  유형자산의취득\n",
    "    fs_CAPEX_I = fs_aucqusition[fs_aucqusition['account_nm'].str.contains('무형자산')] # 재무제표(전체) > 현금흐름표 >  무형자산의취득\n",
    "    \n",
    "    for i in (0, 1):\n",
    "        equity = int(fs_equity[['thstrm_amount', 'frmtrm_amount']].iloc[0,i].replace(',','').strip())\n",
    "        assets = int(fs_assets[['thstrm_amount', 'frmtrm_amount']].iloc[0,i].replace(',', '').strip())\n",
    "        debt = int(fs_debt[['thstrm_amount','frmtrm_amount']].iloc[0,i].replace(',','').strip())\n",
    "        current_liabilities = int(fs_current_liabilities[['thstrm_amount', 'frmtrm_amount']].iloc[0,i].replace(',','').strip())\n",
    "        current_assets = int(fs_current_assets[['thstrm_amount', 'frmtrm_amount']].iloc[0,i].replace(',','').strip())\n",
    "        revenue = int(fs_revenue[['thstrm_amount','frmtrm_q_amount']].iloc[0,i].replace(',', '')) # 매출액\n",
    "        income = int(fs_income[['thstrm_amount','frmtrm_q_amount']].iloc[0,i].replace(',', '')) # 영업이익\n",
    "        profit = int(fs_profit[['thstrm_amount','frmtrm_q_amount']].iloc[0,i].replace(',', '')) # 순이익\n",
    "        IncomeOfFin = abs(int(fs_IncomeOfFin[['thstrm_amount','frmtrm_q_amount']].iloc[0,i].replace(',',''))) \\\n",
    "                    - abs(int(fs_CostOfFin[['thstrm_amount','frmtrm_q_amount']].iloc[0,i].replace(',',''))) # 금융손익\n",
    "        IncomeOfEtc = abs(int(fs_IncomeOfEtc[['thstrm_amount','frmtrm_q_amount']].iloc[0,i].replace(',',''))) \\\n",
    "                    - abs(int(fs_CostOfEtc[['thstrm_amount','frmtrm_q_amount']].iloc[0,i].replace(',',''))) # 금융손익\n",
    "        \n",
    "        \n",
    "        \n",
    "        try :\n",
    "            CostOfSales = abs(int(fs_CostOfSales[['thstrm_amount','frmtrm_q_amount']].iloc[0,i].replace(',','')))\n",
    "            CostOfMgnt = abs(int(fs_CostOfMgnt[['thstrm_amount','frmtrm_q_amount']].iloc[0,i].replace(',','')))\n",
    "        except :\n",
    "            CostOfSales = 0\n",
    "            CostOfMgnt = abs(int(fs_CostOfMgnt[['thstrm_amount','frmtrm_q_amount']].iloc[0,i].replace(',','')))\n",
    "        \n",
    "        OCF = int(fs_OCF[['thstrm_amount','frmtrm_q_amount']].iloc[0,i]) # 당해년도\n",
    "        CAPEX_P = int(fs_CAPEX_P[['thstrm_amount','frmtrm_q_amount']].iloc[0,i]) # 유형자산의취득\n",
    "        CAPEX_I = int(fs_CAPEX_I[['thstrm_amount','frmtrm_q_amount']].iloc[0,i]) #  무형자산의취득\n",
    "        CAPEX = CAPEX_P + CAPEX_I\n",
    "        FCF = OCF - CAPEX # 잉여현금흐름\n",
    "        OPM = income / revenue # 영업이익률\n",
    "        NPM = profit / revenue # 순이익률\n",
    "        DR = debt / equity # 부채비율\n",
    "        CR = current_assets / current_liabilities # Current Ratio, 유동비율\n",
    "        ROE = profit / equity # 자기자본수익률\n",
    "        ROA = profit / assets # 자산수익률\n",
    "        #EPS = int( dv_eps[ ['thstrm'] ].iloc[0, 0].replace(',', '').strip() )\n",
    "        \n",
    "        \n",
    "        ### dictionary에 담기\n",
    "        df_info[str(year-i)+' 1Q'] = \\\n",
    "        f'{revenue:,}'[:-8], \\\n",
    "        f'{CostOfSales:,}'[:-8], \\\n",
    "        f'{CostOfMgnt:,}'[:-8], \\\n",
    "        f'{income:,}'[:-8], \\\n",
    "        f'{IncomeOfFin:,}'[:-8], \\\n",
    "        f'{IncomeOfEtc:,}'[:-8], \\\n",
    "        f'{profit:,}'[:-8], \\\n",
    "        f'{OCF:,}'[:-8], \\\n",
    "        f'{FCF:,}'[:-8], \\\n",
    "        f'{OPM:.1%}', \\\n",
    "        f'{NPM:.1%}', \\\n",
    "        f'{DR:,}', \\\n",
    "        f'{CR:.1%}', \\\n",
    "        f'{ROE:.1%}', \\\n",
    "        f'{ROA:.1%}', \\\n",
    "        # f'{value:,}'[:-8] : ###,, / f'{value:.1%}' : #.#%\n",
    "        \n",
    "        df_info2[str(year-i)+' 1Q'] = revenue, CostOfSales, CostOfMgnt, income, IncomeOfFin, IncomeOfEtc, profit, OCF, FCF, OPM, NPM, DR, CR, ROE, ROA # YoY 계산 용도\n",
    "        \n",
    "    ### 출력 ###\n",
    "    df = pd.DataFrame(data = df_info, \\\n",
    "                      index = ['Revenue', '(-) Cost Of Revenue', '(-) Cost Of Mgnt', 'Operating Profit',\n",
    "                               '(+) Financial Profit','(+) Etc. Profit','Net Profit', \n",
    "                               'Operating Cash Flow', 'Free Cash Flow',\n",
    "                               'Operating Profit Margin', 'Net Profit Margin', \n",
    "                                'Debt Ratio', 'Current Ratio',\n",
    "                              'Return on Equity', 'Return on Assets'])\n",
    "\n",
    "    df2 = pd.DataFrame(data = df_info2, \\\n",
    "                      index = ['Revenue', '(-) Cost Of Revenue', '(-) Cost Of Mgnt','Operating Profit', \n",
    "                               '(+) Financial Profit','(+) Etc. Profit','Net Profit',\n",
    "                              'Operating Cash Flow', 'Free Cash Flow',\n",
    "                               'Operating Profit Margin', 'Net Profit Margin', \n",
    "                                'Debt Ratio', 'Current Ratio',\n",
    "                              'Return on Equity', 'Return on Assets'])\n",
    "    \n",
    "    df['YoY'] = (df2[str(year)+' 1Q'] - df2[str(year-1) +' 1Q']) / abs(df2[str(year-1)+' 1Q']) # YoY\n",
    "    df['YoY'] = df['YoY'].apply(lambda x: '{:.1%}'.format(float(x))) # column data formatting\n",
    "    \n",
    "    \n",
    "    company_nm = dart.company(company)['stock_name'] # 종목명\n",
    "    company_nm_eng = dart.company(company)['corp_name_eng'] # 회사 영문명\n",
    "    company_stock_code = dart.company(company)['stock_code'] # 종목코드    \n",
    "    print(company_nm, company_nm_eng, company_stock_code, '(단위 : %, 백만원, 원)')\n",
    "    \n",
    "    def color_negative_red(val):\n",
    "        \"\"\"\n",
    "        Takes a scalar and returns a string with\n",
    "        the css property 'color : red' for negative\n",
    "        strings, black otherwise.\n",
    "        \"\"\"\n",
    "        color = 'red' if val[0:1] == '-' else 'white'\n",
    "        return 'color: %s' % color\n",
    "    \n",
    "    df = df.style.applymap(color_negative_red) # start with '-' then color Red\n",
    "    df = df.set_table_styles([dict(selector='th', props=[('text-align','left')])])\n",
    "    \n",
    "    \n",
    "    return df"
   ]
  },
  {
   "cell_type": "code",
   "execution_count": 125,
   "metadata": {},
   "outputs": [
    {
     "name": "stdout",
     "output_type": "stream",
     "text": [
      "삼성전자 SAMSUNG ELECTRONICS CO,.LTD 005930 (단위 : %, 백만원, 원)\n"
     ]
    },
    {
     "data": {
      "text/html": [
       "<style  type=\"text/css\" >\n",
       "    #T_68806538_5015_11eb_a11c_c01d9822db43 th {\n",
       "          text-align: left;\n",
       "    }    #T_68806538_5015_11eb_a11c_c01d9822db43row0_col0 {\n",
       "            color:  white;\n",
       "        }    #T_68806538_5015_11eb_a11c_c01d9822db43row0_col1 {\n",
       "            color:  white;\n",
       "        }    #T_68806538_5015_11eb_a11c_c01d9822db43row0_col2 {\n",
       "            color:  white;\n",
       "        }    #T_68806538_5015_11eb_a11c_c01d9822db43row1_col0 {\n",
       "            color:  white;\n",
       "        }    #T_68806538_5015_11eb_a11c_c01d9822db43row1_col1 {\n",
       "            color:  white;\n",
       "        }    #T_68806538_5015_11eb_a11c_c01d9822db43row1_col2 {\n",
       "            color:  white;\n",
       "        }    #T_68806538_5015_11eb_a11c_c01d9822db43row2_col0 {\n",
       "            color:  white;\n",
       "        }    #T_68806538_5015_11eb_a11c_c01d9822db43row2_col1 {\n",
       "            color:  white;\n",
       "        }    #T_68806538_5015_11eb_a11c_c01d9822db43row2_col2 {\n",
       "            color:  white;\n",
       "        }    #T_68806538_5015_11eb_a11c_c01d9822db43row3_col0 {\n",
       "            color:  white;\n",
       "        }    #T_68806538_5015_11eb_a11c_c01d9822db43row3_col1 {\n",
       "            color:  white;\n",
       "        }    #T_68806538_5015_11eb_a11c_c01d9822db43row3_col2 {\n",
       "            color:  white;\n",
       "        }    #T_68806538_5015_11eb_a11c_c01d9822db43row4_col0 {\n",
       "            color:  white;\n",
       "        }    #T_68806538_5015_11eb_a11c_c01d9822db43row4_col1 {\n",
       "            color:  white;\n",
       "        }    #T_68806538_5015_11eb_a11c_c01d9822db43row4_col2 {\n",
       "            color:  red;\n",
       "        }    #T_68806538_5015_11eb_a11c_c01d9822db43row5_col0 {\n",
       "            color:  red;\n",
       "        }    #T_68806538_5015_11eb_a11c_c01d9822db43row5_col1 {\n",
       "            color:  white;\n",
       "        }    #T_68806538_5015_11eb_a11c_c01d9822db43row5_col2 {\n",
       "            color:  red;\n",
       "        }    #T_68806538_5015_11eb_a11c_c01d9822db43row6_col0 {\n",
       "            color:  white;\n",
       "        }    #T_68806538_5015_11eb_a11c_c01d9822db43row6_col1 {\n",
       "            color:  white;\n",
       "        }    #T_68806538_5015_11eb_a11c_c01d9822db43row6_col2 {\n",
       "            color:  red;\n",
       "        }    #T_68806538_5015_11eb_a11c_c01d9822db43row7_col0 {\n",
       "            color:  white;\n",
       "        }    #T_68806538_5015_11eb_a11c_c01d9822db43row7_col1 {\n",
       "            color:  white;\n",
       "        }    #T_68806538_5015_11eb_a11c_c01d9822db43row7_col2 {\n",
       "            color:  white;\n",
       "        }    #T_68806538_5015_11eb_a11c_c01d9822db43row8_col0 {\n",
       "            color:  white;\n",
       "        }    #T_68806538_5015_11eb_a11c_c01d9822db43row8_col1 {\n",
       "            color:  white;\n",
       "        }    #T_68806538_5015_11eb_a11c_c01d9822db43row8_col2 {\n",
       "            color:  white;\n",
       "        }    #T_68806538_5015_11eb_a11c_c01d9822db43row9_col0 {\n",
       "            color:  white;\n",
       "        }    #T_68806538_5015_11eb_a11c_c01d9822db43row9_col1 {\n",
       "            color:  white;\n",
       "        }    #T_68806538_5015_11eb_a11c_c01d9822db43row9_col2 {\n",
       "            color:  red;\n",
       "        }    #T_68806538_5015_11eb_a11c_c01d9822db43row10_col0 {\n",
       "            color:  white;\n",
       "        }    #T_68806538_5015_11eb_a11c_c01d9822db43row10_col1 {\n",
       "            color:  white;\n",
       "        }    #T_68806538_5015_11eb_a11c_c01d9822db43row10_col2 {\n",
       "            color:  red;\n",
       "        }    #T_68806538_5015_11eb_a11c_c01d9822db43row11_col0 {\n",
       "            color:  white;\n",
       "        }    #T_68806538_5015_11eb_a11c_c01d9822db43row11_col1 {\n",
       "            color:  white;\n",
       "        }    #T_68806538_5015_11eb_a11c_c01d9822db43row11_col2 {\n",
       "            color:  white;\n",
       "        }    #T_68806538_5015_11eb_a11c_c01d9822db43row12_col0 {\n",
       "            color:  white;\n",
       "        }    #T_68806538_5015_11eb_a11c_c01d9822db43row12_col1 {\n",
       "            color:  white;\n",
       "        }    #T_68806538_5015_11eb_a11c_c01d9822db43row12_col2 {\n",
       "            color:  white;\n",
       "        }    #T_68806538_5015_11eb_a11c_c01d9822db43row13_col0 {\n",
       "            color:  white;\n",
       "        }    #T_68806538_5015_11eb_a11c_c01d9822db43row13_col1 {\n",
       "            color:  white;\n",
       "        }    #T_68806538_5015_11eb_a11c_c01d9822db43row13_col2 {\n",
       "            color:  red;\n",
       "        }    #T_68806538_5015_11eb_a11c_c01d9822db43row14_col0 {\n",
       "            color:  white;\n",
       "        }    #T_68806538_5015_11eb_a11c_c01d9822db43row14_col1 {\n",
       "            color:  white;\n",
       "        }    #T_68806538_5015_11eb_a11c_c01d9822db43row14_col2 {\n",
       "            color:  red;\n",
       "        }</style><table id=\"T_68806538_5015_11eb_a11c_c01d9822db43\" ><thead>    <tr>        <th class=\"blank level0\" ></th>        <th class=\"col_heading level0 col0\" >2020 1Q</th>        <th class=\"col_heading level0 col1\" >2019 1Q</th>        <th class=\"col_heading level0 col2\" >YoY</th>    </tr></thead><tbody>\n",
       "                <tr>\n",
       "                        <th id=\"T_68806538_5015_11eb_a11c_c01d9822db43level0_row0\" class=\"row_heading level0 row0\" >Revenue</th>\n",
       "                        <td id=\"T_68806538_5015_11eb_a11c_c01d9822db43row0_col0\" class=\"data row0 col0\" >55,325,178</td>\n",
       "                        <td id=\"T_68806538_5015_11eb_a11c_c01d9822db43row0_col1\" class=\"data row0 col1\" >52,385,546</td>\n",
       "                        <td id=\"T_68806538_5015_11eb_a11c_c01d9822db43row0_col2\" class=\"data row0 col2\" >5.6%</td>\n",
       "            </tr>\n",
       "            <tr>\n",
       "                        <th id=\"T_68806538_5015_11eb_a11c_c01d9822db43level0_row1\" class=\"row_heading level0 row1\" >(-) Cost Of Revenue</th>\n",
       "                        <td id=\"T_68806538_5015_11eb_a11c_c01d9822db43row1_col0\" class=\"data row1 col0\" >34,806,694</td>\n",
       "                        <td id=\"T_68806538_5015_11eb_a11c_c01d9822db43row1_col1\" class=\"data row1 col1\" >32,746,452</td>\n",
       "                        <td id=\"T_68806538_5015_11eb_a11c_c01d9822db43row1_col2\" class=\"data row1 col2\" >6.3%</td>\n",
       "            </tr>\n",
       "            <tr>\n",
       "                        <th id=\"T_68806538_5015_11eb_a11c_c01d9822db43level0_row2\" class=\"row_heading level0 row2\" >(-) Cost Of Mgnt</th>\n",
       "                        <td id=\"T_68806538_5015_11eb_a11c_c01d9822db43row2_col0\" class=\"data row2 col0\" >14,071,139</td>\n",
       "                        <td id=\"T_68806538_5015_11eb_a11c_c01d9822db43row2_col1\" class=\"data row2 col1\" >13,405,812</td>\n",
       "                        <td id=\"T_68806538_5015_11eb_a11c_c01d9822db43row2_col2\" class=\"data row2 col2\" >5.0%</td>\n",
       "            </tr>\n",
       "            <tr>\n",
       "                        <th id=\"T_68806538_5015_11eb_a11c_c01d9822db43level0_row3\" class=\"row_heading level0 row3\" >Operating Profit</th>\n",
       "                        <td id=\"T_68806538_5015_11eb_a11c_c01d9822db43row3_col0\" class=\"data row3 col0\" >6,447,345</td>\n",
       "                        <td id=\"T_68806538_5015_11eb_a11c_c01d9822db43row3_col1\" class=\"data row3 col1\" >6,233,282</td>\n",
       "                        <td id=\"T_68806538_5015_11eb_a11c_c01d9822db43row3_col2\" class=\"data row3 col2\" >3.4%</td>\n",
       "            </tr>\n",
       "            <tr>\n",
       "                        <th id=\"T_68806538_5015_11eb_a11c_c01d9822db43level0_row4\" class=\"row_heading level0 row4\" >(+) Financial Profit</th>\n",
       "                        <td id=\"T_68806538_5015_11eb_a11c_c01d9822db43row4_col0\" class=\"data row4 col0\" >297,412</td>\n",
       "                        <td id=\"T_68806538_5015_11eb_a11c_c01d9822db43row4_col1\" class=\"data row4 col1\" >537,364</td>\n",
       "                        <td id=\"T_68806538_5015_11eb_a11c_c01d9822db43row4_col2\" class=\"data row4 col2\" >-44.7%</td>\n",
       "            </tr>\n",
       "            <tr>\n",
       "                        <th id=\"T_68806538_5015_11eb_a11c_c01d9822db43level0_row5\" class=\"row_heading level0 row5\" >(+) Etc. Profit</th>\n",
       "                        <td id=\"T_68806538_5015_11eb_a11c_c01d9822db43row5_col0\" class=\"data row5 col0\" >-48,549</td>\n",
       "                        <td id=\"T_68806538_5015_11eb_a11c_c01d9822db43row5_col1\" class=\"data row5 col1\" >64,651</td>\n",
       "                        <td id=\"T_68806538_5015_11eb_a11c_c01d9822db43row5_col2\" class=\"data row5 col2\" >-175.1%</td>\n",
       "            </tr>\n",
       "            <tr>\n",
       "                        <th id=\"T_68806538_5015_11eb_a11c_c01d9822db43level0_row6\" class=\"row_heading level0 row6\" >Net Profit</th>\n",
       "                        <td id=\"T_68806538_5015_11eb_a11c_c01d9822db43row6_col0\" class=\"data row6 col0\" >4,884,926</td>\n",
       "                        <td id=\"T_68806538_5015_11eb_a11c_c01d9822db43row6_col1\" class=\"data row6 col1\" >5,043,585</td>\n",
       "                        <td id=\"T_68806538_5015_11eb_a11c_c01d9822db43row6_col2\" class=\"data row6 col2\" >-3.1%</td>\n",
       "            </tr>\n",
       "            <tr>\n",
       "                        <th id=\"T_68806538_5015_11eb_a11c_c01d9822db43level0_row7\" class=\"row_heading level0 row7\" >Operating Cash Flow</th>\n",
       "                        <td id=\"T_68806538_5015_11eb_a11c_c01d9822db43row7_col0\" class=\"data row7 col0\" >11,829,879</td>\n",
       "                        <td id=\"T_68806538_5015_11eb_a11c_c01d9822db43row7_col1\" class=\"data row7 col1\" >5,244,311</td>\n",
       "                        <td id=\"T_68806538_5015_11eb_a11c_c01d9822db43row7_col2\" class=\"data row7 col2\" >125.6%</td>\n",
       "            </tr>\n",
       "            <tr>\n",
       "                        <th id=\"T_68806538_5015_11eb_a11c_c01d9822db43level0_row8\" class=\"row_heading level0 row8\" >Free Cash Flow</th>\n",
       "                        <td id=\"T_68806538_5015_11eb_a11c_c01d9822db43row8_col0\" class=\"data row8 col0\" >2,296,406</td>\n",
       "                        <td id=\"T_68806538_5015_11eb_a11c_c01d9822db43row8_col1\" class=\"data row8 col1\" >779,543</td>\n",
       "                        <td id=\"T_68806538_5015_11eb_a11c_c01d9822db43row8_col2\" class=\"data row8 col2\" >194.6%</td>\n",
       "            </tr>\n",
       "            <tr>\n",
       "                        <th id=\"T_68806538_5015_11eb_a11c_c01d9822db43level0_row9\" class=\"row_heading level0 row9\" >Operating Profit Margin</th>\n",
       "                        <td id=\"T_68806538_5015_11eb_a11c_c01d9822db43row9_col0\" class=\"data row9 col0\" >11.7%</td>\n",
       "                        <td id=\"T_68806538_5015_11eb_a11c_c01d9822db43row9_col1\" class=\"data row9 col1\" >11.9%</td>\n",
       "                        <td id=\"T_68806538_5015_11eb_a11c_c01d9822db43row9_col2\" class=\"data row9 col2\" >-2.1%</td>\n",
       "            </tr>\n",
       "            <tr>\n",
       "                        <th id=\"T_68806538_5015_11eb_a11c_c01d9822db43level0_row10\" class=\"row_heading level0 row10\" >Net Profit Margin</th>\n",
       "                        <td id=\"T_68806538_5015_11eb_a11c_c01d9822db43row10_col0\" class=\"data row10 col0\" >8.8%</td>\n",
       "                        <td id=\"T_68806538_5015_11eb_a11c_c01d9822db43row10_col1\" class=\"data row10 col1\" >9.6%</td>\n",
       "                        <td id=\"T_68806538_5015_11eb_a11c_c01d9822db43row10_col2\" class=\"data row10 col2\" >-8.3%</td>\n",
       "            </tr>\n",
       "            <tr>\n",
       "                        <th id=\"T_68806538_5015_11eb_a11c_c01d9822db43level0_row11\" class=\"row_heading level0 row11\" >Debt Ratio</th>\n",
       "                        <td id=\"T_68806538_5015_11eb_a11c_c01d9822db43row11_col0\" class=\"data row11 col0\" >0.34186940364365065</td>\n",
       "                        <td id=\"T_68806538_5015_11eb_a11c_c01d9822db43row11_col1\" class=\"data row11 col1\" >0.34115920713623626</td>\n",
       "                        <td id=\"T_68806538_5015_11eb_a11c_c01d9822db43row11_col2\" class=\"data row11 col2\" >0.2%</td>\n",
       "            </tr>\n",
       "            <tr>\n",
       "                        <th id=\"T_68806538_5015_11eb_a11c_c01d9822db43level0_row12\" class=\"row_heading level0 row12\" >Current Ratio</th>\n",
       "                        <td id=\"T_68806538_5015_11eb_a11c_c01d9822db43row12_col0\" class=\"data row12 col0\" >288.3%</td>\n",
       "                        <td id=\"T_68806538_5015_11eb_a11c_c01d9822db43row12_col1\" class=\"data row12 col1\" >284.4%</td>\n",
       "                        <td id=\"T_68806538_5015_11eb_a11c_c01d9822db43row12_col2\" class=\"data row12 col2\" >1.4%</td>\n",
       "            </tr>\n",
       "            <tr>\n",
       "                        <th id=\"T_68806538_5015_11eb_a11c_c01d9822db43level0_row13\" class=\"row_heading level0 row13\" >Return on Equity</th>\n",
       "                        <td id=\"T_68806538_5015_11eb_a11c_c01d9822db43row13_col0\" class=\"data row13 col0\" >1.8%</td>\n",
       "                        <td id=\"T_68806538_5015_11eb_a11c_c01d9822db43row13_col1\" class=\"data row13 col1\" >1.9%</td>\n",
       "                        <td id=\"T_68806538_5015_11eb_a11c_c01d9822db43row13_col2\" class=\"data row13 col2\" >-4.4%</td>\n",
       "            </tr>\n",
       "            <tr>\n",
       "                        <th id=\"T_68806538_5015_11eb_a11c_c01d9822db43level0_row14\" class=\"row_heading level0 row14\" >Return on Assets</th>\n",
       "                        <td id=\"T_68806538_5015_11eb_a11c_c01d9822db43row14_col0\" class=\"data row14 col0\" >1.4%</td>\n",
       "                        <td id=\"T_68806538_5015_11eb_a11c_c01d9822db43row14_col1\" class=\"data row14 col1\" >1.4%</td>\n",
       "                        <td id=\"T_68806538_5015_11eb_a11c_c01d9822db43row14_col2\" class=\"data row14 col2\" >-4.5%</td>\n",
       "            </tr>\n",
       "    </tbody></table>"
      ],
      "text/plain": [
       "<pandas.io.formats.style.Styler at 0x19f8717b828>"
      ]
     },
     "execution_count": 125,
     "metadata": {},
     "output_type": "execute_result"
    }
   ],
   "source": [
    "finance_1Q('삼성전자',2020)"
   ]
  },
  {
   "cell_type": "code",
   "execution_count": null,
   "metadata": {},
   "outputs": [],
   "source": []
  },
  {
   "cell_type": "markdown",
   "metadata": {},
   "source": [
    "---"
   ]
  },
  {
   "cell_type": "markdown",
   "metadata": {},
   "source": [
    "### Extracting only one quarter bs info"
   ]
  },
  {
   "cell_type": "code",
   "execution_count": 43,
   "metadata": {},
   "outputs": [],
   "source": [
    "def finance_QQ1(company, year) : \n",
    "\n",
    "    ### Dictionary\n",
    "    df_info = {}\n",
    "    df_info2 = {}\n",
    "\n",
    "    ### 재무제표\n",
    "    fs = dart.finstate(company, year, reprt_code='11013') # 재무제표(전체)\n",
    "    \"\"\"\n",
    "    reprt_code : '11013' = 1분기보고서, '11012' = 반기보고서, '11014' = 3분기보고서, '11011' = 사업보고서\n",
    "    \"\"\"\n",
    "    fs_cfs = fs[fs['fs_div'].str.contains('CFS')] # 재무제표(전체) > 연결\n",
    "    fs_is = fs_cfs[fs_cfs['sj_div'].str.contains('IS')] # 재무제표(전체) > 손익계산서\n",
    "    fs_bs = fs_cfs[fs_cfs['sj_div'].str.contains('BS')] # 재무제표(전체) > 재무제표\n",
    "    fs_equity = fs_bs[fs_bs['account_nm'].str.contains('자본총계')] # 재무제표(전체) > 재무제표 > 자본총계\n",
    "    fs_assets = fs_bs[fs_bs['account_nm'].str.contains('자산총계')] # 재무제표(전체) > 재무제표 > 자산총계\n",
    "    fs_debt = fs_bs[fs_bs['account_nm'].str.contains('부채총계')] # 재무제표(전체) > 연결 > 재무상태표 > 부채총계\n",
    "    fs_current_liabilities = fs_bs[fs_bs['account_nm']==('유동부채')]\n",
    "    fs_current_assets = fs_bs[fs_bs['account_nm']==('유동자산')]\n",
    "    \n",
    "    \n",
    "    ### 재무제표 전체(재무상태표, 손익계산서, 자본변동표, 현금흐름표 등)\n",
    "    fs_all = dart.finstate_all(company, year, reprt_code = '11013') # 1분기 보고서 재무제표(전체)\n",
    "    fs_revenue = fs_all[fs_all['account_nm'].str.contains('매출액|영업수익')] # 재무제표(전체) > 손익계산서 > 매출액\n",
    "    fs_income = fs_all[fs_all['account_id']=='dart_OperatingIncomeLoss'] # 재무제표(전체) > 손익계산서 > 영업이익\n",
    "    fs_profit = fs_all[fs_all['account_id']=='ifrs-full_ProfitLoss'] # 재무제표(전체) > 손익계산서 > 당기순이익\n",
    "    print(fs_profit)\n",
    "    fs_CostOfSales = fs_all[fs_all['account_id']=='ifrs-full_CostOfSales']\n",
    "    fs_CostOfMgnt = fs_all[fs_all['account_nm'].str.contains('판매비와관리비|영업비용')]\n",
    "    fs_IncomeOfFin = fs_all[fs_all['account_nm'].str.contains('금융수익|금융이익')]\n",
    "    fs_CostOfFin = fs_all[fs_all['account_nm'].str.contains('금융비용|금융손실|금융원가')]\n",
    "    fs_IncomeOfEtc = fs_all[fs_all['account_nm'].str.contains('기타수익|기타이익|기타영업외수익')]\n",
    "    fs_CostOfEtc = fs_all[fs_all['account_nm'].str.contains('기타비용|기타손실|기타원가|기타영업외비용')]\n",
    "    \n",
    "    fs_cf = fs_all[fs_all['sj_div'].str.contains('CF')] # 재무제표(전체) > 현금흐름표\n",
    "    fs_OCF = fs_cf[fs_cf['account_id'].str.contains('CashFlowsFromUsedInOperatingActivities')] # 재무제표(전체) > 현금흐름표 > 영업활동현금흐름\n",
    "    fs_aucqusition = fs_cf[fs_cf['account_nm'].str.contains('취득')] # 재무제표(전체) > 현금흐름표 >  '취득'\n",
    "    fs_CAPEX_P = fs_aucqusition[fs_aucqusition['account_nm'].str.contains('유형자산')] # 재무제표(전체) > 현금흐름표 >  유형자산의취득\n",
    "    fs_CAPEX_I = fs_aucqusition[fs_aucqusition['account_nm'].str.contains('무형자산')] # 재무제표(전체) > 현금흐름표 >  무형자산의취득\n",
    "    \n",
    "    equity = int(fs_equity[['thstrm_amount']].iloc[0,0].replace(',','').strip())\n",
    "    assets = int(fs_assets[['thstrm_amount']].iloc[0,0].replace(',', '').strip())\n",
    "    debt = int(fs_debt[['thstrm_amount']].iloc[0,0].replace(',','').strip())\n",
    "    current_liabilities = int(fs_current_liabilities[['thstrm_amount']].iloc[0,0].replace(',','').strip())\n",
    "    current_assets = int(fs_current_assets[['thstrm_amount']].iloc[0,0].replace(',','').strip())\n",
    "    revenue = int(fs_revenue[['thstrm_amount']].iloc[0,0].replace(',', '')) # 매출액\n",
    "    income = int(fs_income[['thstrm_amount']].iloc[0,0].replace(',', '')) # 영업이익\n",
    "    profit = int(fs_profit[['thstrm_amount']].iloc[0,0].replace(',', '')) # 순이익\n",
    "    IncomeOfFin = abs(int(fs_IncomeOfFin[['thstrm_amount']].iloc[0,0].replace(',',''))) \\\n",
    "                - abs(int(fs_CostOfFin[['thstrm_amount']].iloc[0,0].replace(',',''))) # 금융손익\n",
    "    IncomeOfEtc = abs(int(fs_IncomeOfEtc[['thstrm_amount']].iloc[0,0].replace(',',''))) \\\n",
    "                - abs(int(fs_CostOfEtc[['thstrm_amount']].iloc[0,0].replace(',',''))) # 금융손익\n",
    "\n",
    "\n",
    "\n",
    "    try :\n",
    "        CostOfSales = abs(int(fs_CostOfSales[['thstrm_amount']].iloc[0,0].replace(',','')))\n",
    "        CostOfMgnt = abs(int(fs_CostOfMgnt[['thstrm_amount']].iloc[0,0].replace(',','')))\n",
    "    except :\n",
    "        CostOfSales = 0\n",
    "        CostOfMgnt = abs(int(fs_CostOfMgnt[['thstrm_amount']].iloc[0,0].replace(',','')))\n",
    "\n",
    "    OCF = int(fs_OCF[['thstrm_amount']].iloc[0,0]) # 당해년도\n",
    "    CAPEX_P = int(fs_CAPEX_P[['thstrm_amount']].iloc[0,0]) # 유형자산의취득\n",
    "    CAPEX_I = int(fs_CAPEX_I[['thstrm_amount']].iloc[0,0]) #  무형자산의취득\n",
    "    CAPEX = CAPEX_P + CAPEX_I\n",
    "    FCF = OCF - CAPEX # 잉여현금흐름\n",
    "    OPM = income / revenue # 영업이익률\n",
    "    NPM = profit / revenue # 순이익률\n",
    "    DR = debt / equity # 부채비율\n",
    "    CR = current_assets / current_liabilities # Current Ratio, 유동비율\n",
    "    ROE = profit / equity # 자기자본수익률\n",
    "    ROA = profit / assets # 자산수익률\n",
    "    #EPS = int( dv_eps[ ['thstrm'] ].iloc[0, 0].replace(',', '').strip() )\n",
    "\n",
    "\n",
    "    ### dictionary에 담기\n",
    "    df_info[str(year)+' 1Q'] = \\\n",
    "    f'{revenue:,}'[:-8], \\\n",
    "    f'{CostOfSales:,}'[:-8], \\\n",
    "    f'{CostOfMgnt:,}'[:-8], \\\n",
    "    f'{income:,}'[:-8], \\\n",
    "    f'{IncomeOfFin:,}'[:-8], \\\n",
    "    f'{IncomeOfEtc:,}'[:-8], \\\n",
    "    f'{profit:,}'[:-8], \\\n",
    "    f'{OCF:,}'[:-8], \\\n",
    "    f'{FCF:,}'[:-8], \\\n",
    "    f'{OPM:.1%}', \\\n",
    "    f'{NPM:.1%}', \\\n",
    "    f'{DR:,}', \\\n",
    "    f'{CR:.1%}', \\\n",
    "    f'{ROE:.1%}', \\\n",
    "    f'{ROA:.1%}', \\\n",
    "    # f'{value:,}'[:-8] : ###,, / f'{value:.1%}' : #.#%\n",
    "        \n",
    "    ### 출력 ###\n",
    "    df = pd.DataFrame(data = df_info, \\\n",
    "                      index = ['Revenue', '(-) Cost Of Revenue', '(-) Cost Of Mgnt', 'Operating Profit',\n",
    "                               '(+) Financial Profit','(+) Etc. Profit','Net Profit', \n",
    "                               'Operating Cash Flow', 'Free Cash Flow',\n",
    "                               'Operating Profit Margin', 'Net Profit Margin', \n",
    "                                'Debt Ratio', 'Current Ratio',\n",
    "                              'Return on Equity', 'Return on Assets'])\n",
    "\n",
    "    company_nm = dart.company(company)['stock_name'] # 종목명\n",
    "    company_nm_eng = dart.company(company)['corp_name_eng'] # 회사 영문명\n",
    "    company_stock_code = dart.company(company)['stock_code'] # 종목코드    \n",
    "    print(company_nm, company_nm_eng, company_stock_code, '(단위 : %, 백만원, 원)')\n",
    "    \n",
    "    return df"
   ]
  },
  {
   "cell_type": "code",
   "execution_count": 17,
   "metadata": {},
   "outputs": [
    {
     "name": "stdout",
     "output_type": "stream",
     "text": [
      "삼성전자 SAMSUNG ELECTRONICS CO,.LTD 005930 (단위 : %, 백만원, 원)\n"
     ]
    },
    {
     "data": {
      "text/html": [
       "<div>\n",
       "<style scoped>\n",
       "    .dataframe tbody tr th:only-of-type {\n",
       "        vertical-align: middle;\n",
       "    }\n",
       "\n",
       "    .dataframe tbody tr th {\n",
       "        vertical-align: top;\n",
       "    }\n",
       "\n",
       "    .dataframe thead th {\n",
       "        text-align: right;\n",
       "    }\n",
       "</style>\n",
       "<table border=\"1\" class=\"dataframe\">\n",
       "  <thead>\n",
       "    <tr style=\"text-align: right;\">\n",
       "      <th></th>\n",
       "      <th>2020 1Q</th>\n",
       "    </tr>\n",
       "  </thead>\n",
       "  <tbody>\n",
       "    <tr>\n",
       "      <th>Revenue</th>\n",
       "      <td>55,325,178</td>\n",
       "    </tr>\n",
       "    <tr>\n",
       "      <th>(-) Cost Of Revenue</th>\n",
       "      <td>34,806,694</td>\n",
       "    </tr>\n",
       "    <tr>\n",
       "      <th>(-) Cost Of Mgnt</th>\n",
       "      <td>14,071,139</td>\n",
       "    </tr>\n",
       "    <tr>\n",
       "      <th>Operating Profit</th>\n",
       "      <td>6,447,345</td>\n",
       "    </tr>\n",
       "    <tr>\n",
       "      <th>(+) Financial Profit</th>\n",
       "      <td>297,412</td>\n",
       "    </tr>\n",
       "    <tr>\n",
       "      <th>(+) Etc. Profit</th>\n",
       "      <td>-48,549</td>\n",
       "    </tr>\n",
       "    <tr>\n",
       "      <th>Net Profit</th>\n",
       "      <td>4,884,926</td>\n",
       "    </tr>\n",
       "    <tr>\n",
       "      <th>Operating Cash Flow</th>\n",
       "      <td>11,829,879</td>\n",
       "    </tr>\n",
       "    <tr>\n",
       "      <th>Free Cash Flow</th>\n",
       "      <td>2,296,406</td>\n",
       "    </tr>\n",
       "    <tr>\n",
       "      <th>Operating Profit Margin</th>\n",
       "      <td>11.7%</td>\n",
       "    </tr>\n",
       "    <tr>\n",
       "      <th>Net Profit Margin</th>\n",
       "      <td>8.8%</td>\n",
       "    </tr>\n",
       "    <tr>\n",
       "      <th>Debt Ratio</th>\n",
       "      <td>0.34186940364365065</td>\n",
       "    </tr>\n",
       "    <tr>\n",
       "      <th>Current Ratio</th>\n",
       "      <td>288.3%</td>\n",
       "    </tr>\n",
       "    <tr>\n",
       "      <th>Return on Equity</th>\n",
       "      <td>1.8%</td>\n",
       "    </tr>\n",
       "    <tr>\n",
       "      <th>Return on Assets</th>\n",
       "      <td>1.4%</td>\n",
       "    </tr>\n",
       "  </tbody>\n",
       "</table>\n",
       "</div>"
      ],
      "text/plain": [
       "                                     2020 1Q\n",
       "Revenue                           55,325,178\n",
       "(-) Cost Of Revenue               34,806,694\n",
       "(-) Cost Of Mgnt                  14,071,139\n",
       "Operating Profit                   6,447,345\n",
       "(+) Financial Profit                 297,412\n",
       "(+) Etc. Profit                      -48,549\n",
       "Net Profit                         4,884,926\n",
       "Operating Cash Flow               11,829,879\n",
       "Free Cash Flow                     2,296,406\n",
       "Operating Profit Margin                11.7%\n",
       "Net Profit Margin                       8.8%\n",
       "Debt Ratio               0.34186940364365065\n",
       "Current Ratio                         288.3%\n",
       "Return on Equity                        1.8%\n",
       "Return on Assets                        1.4%"
      ]
     },
     "execution_count": 17,
     "metadata": {},
     "output_type": "execute_result"
    }
   ],
   "source": [
    "finance_QQ('삼성전자',2020)"
   ]
  },
  {
   "cell_type": "code",
   "execution_count": 94,
   "metadata": {},
   "outputs": [],
   "source": [
    "def finance_QQ(company, From, To, byUnit='1Q') : \n",
    "\n",
    "    ### Parsing byUnit\n",
    "    if byUnit == '1Q':\n",
    "        RptCode = '11013'\n",
    "    elif byUnit == '2Q':\n",
    "        RptCode = '11012'\n",
    "    elif byUnit == '3Q':\n",
    "        RptCode = '11014'\n",
    "    else :\n",
    "        raise ValueError(\"Invalid Unit type !!!\")\n",
    "    \n",
    "\n",
    "    total_df = pd.DataFrame()\n",
    "    for year in range(From, To+1):\n",
    "        \n",
    "        ### Dictionary\n",
    "        df_info = {}\n",
    "\n",
    "        ### 재무제표\n",
    "        fs = dart.finstate(company, year, reprt_code=RptCode) # 재무제표(전체)\n",
    "        \"\"\"\n",
    "        reprt_code : '11013' = 1분기보고서, '11012' = 반기보고서, '11014' = 3분기보고서, '11011' = 사업보고서\n",
    "        \"\"\"\n",
    "        fs_cfs = fs[fs['fs_div'].str.contains('CFS')] # 재무제표(전체) > 연결\n",
    "        fs_is = fs_cfs[fs_cfs['sj_div'].str.contains('IS')] # 재무제표(전체) > 손익계산서\n",
    "        fs_bs = fs_cfs[fs_cfs['sj_div'].str.contains('BS')] # 재무제표(전체) > 재무제표\n",
    "        fs_equity = fs_bs[fs_bs['account_nm'].str.contains('자본총계')] # 재무제표(전체) > 재무제표 > 자본총계\n",
    "        fs_assets = fs_bs[fs_bs['account_nm'].str.contains('자산총계')] # 재무제표(전체) > 재무제표 > 자산총계\n",
    "        fs_debt = fs_bs[fs_bs['account_nm'].str.contains('부채총계')] # 재무제표(전체) > 연결 > 재무상태표 > 부채총계\n",
    "        fs_current_liabilities = fs_bs[fs_bs['account_nm']==('유동부채')]\n",
    "        fs_current_assets = fs_bs[fs_bs['account_nm']==('유동자산')]\n",
    "\n",
    "\n",
    "        ### 재무제표 전체(재무상태표, 손익계산서, 자본변동표, 현금흐름표 등)\n",
    "        fs_all = dart.finstate_all(company, year, reprt_code = RptCode) # 1분기 보고서 재무제표(전체)\n",
    "        fs_revenue = fs_all[fs_all['account_nm'].str.contains('매출액|영업수익')] # 재무제표(전체) > 손익계산서 > 매출액\n",
    "        fs_income = fs_all[fs_all['account_id']=='dart_OperatingIncomeLoss'] # 재무제표(전체) > 손익계산서 > 영업이익\n",
    "        fs_profit = fs_all[fs_all['account_id']=='ifrs-full_ProfitLoss'] # 재무제표(전체) > 손익계산서 > 당기순이익\n",
    "        if len(fs_profit) == 0 :\n",
    "            fs_profit = fs_all[fs_all['account_nm'].str.contains('당기순이익')]\n",
    "            if len(fs_profit) == 0 :\n",
    "                raise ValueError('Profit(당기순이익) is not found.')\n",
    "        \n",
    "        fs_CostOfSales = fs_all[fs_all['account_id']=='ifrs-full_CostOfSales']\n",
    "        if len(fs_CostOfSales) == 0 :\n",
    "            fs_CostOfSales = fs_all[fs_all['account_nm'].str.contains('매출원가')]\n",
    "            if len(fs_CostOfSales) == 0 :\n",
    "                raise ValueError(\"CostOfSales(매출원가) is not found\")\n",
    "                \n",
    "        fs_CostOfMgnt = fs_all[fs_all['account_nm'].str.contains('판매비와관리비|영업비용')]\n",
    "        fs_IncomeOfFin = fs_all[fs_all['account_nm'].str.contains('금융수익|금융이익')]\n",
    "        fs_CostOfFin = fs_all[fs_all['account_nm'].str.contains('금융비용|금융손실|금융원가')]\n",
    "        fs_IncomeOfEtc = fs_all[fs_all['account_nm'].str.contains('기타수익|기타이익|기타영업외수익')]\n",
    "        fs_CostOfEtc = fs_all[fs_all['account_nm'].str.contains('기타비용|기타손실|기타원가|기타영업외비용')]\n",
    "\n",
    "        fs_cf = fs_all[fs_all['sj_div'].str.contains('CF')] # 재무제표(전체) > 현금흐름표\n",
    "        fs_OCF = fs_cf[fs_cf['account_id'].str.contains('CashFlowsFromUsedInOperatingActivities')] # 재무제표(전체) > 현금흐름표 > 영업활동현금흐름\n",
    "        fs_aucqusition = fs_cf[fs_cf['account_nm'].str.contains('취득')] # 재무제표(전체) > 현금흐름표 >  '취득'\n",
    "        fs_CAPEX_P = fs_aucqusition[fs_aucqusition['account_nm'].str.contains('유형자산')] # 재무제표(전체) > 현금흐름표 >  유형자산의취득\n",
    "        fs_CAPEX_I = fs_aucqusition[fs_aucqusition['account_nm'].str.contains('무형자산')] # 재무제표(전체) > 현금흐름표 >  무형자산의취득\n",
    "\n",
    "        equity = int(fs_equity[['thstrm_amount']].iloc[0,0].replace(',','').strip())\n",
    "        assets = int(fs_assets[['thstrm_amount']].iloc[0,0].replace(',', '').strip())\n",
    "        debt = int(fs_debt[['thstrm_amount']].iloc[0,0].replace(',','').strip())\n",
    "        current_liabilities = int(fs_current_liabilities[['thstrm_amount']].iloc[0,0].replace(',','').strip())\n",
    "        current_assets = int(fs_current_assets[['thstrm_amount']].iloc[0,0].replace(',','').strip())\n",
    "        revenue = int(fs_revenue[['thstrm_amount']].iloc[0,0].replace(',', '')) # 매출액\n",
    "        income = int(fs_income[['thstrm_amount']].iloc[0,0].replace(',', '')) # 영업이익\n",
    "        profit = int(fs_profit[['thstrm_amount']].iloc[0,0].replace(',', '')) # 순이익\n",
    "        IncomeOfFin = abs(int(fs_IncomeOfFin[['thstrm_amount']].iloc[0,0].replace(',',''))) \\\n",
    "                    - abs(int(fs_CostOfFin[['thstrm_amount']].iloc[0,0].replace(',',''))) # 금융손익\n",
    "        IncomeOfEtc = abs(int(fs_IncomeOfEtc[['thstrm_amount']].iloc[0,0].replace(',',''))) \\\n",
    "                    - abs(int(fs_CostOfEtc[['thstrm_amount']].iloc[0,0].replace(',',''))) # 금융손익\n",
    "\n",
    "        try :\n",
    "            CostOfSales = abs(int(fs_CostOfSales[['thstrm_amount']].iloc[0,0].replace(',','')))\n",
    "            CostOfMgnt = abs(int(fs_CostOfMgnt[['thstrm_amount']].iloc[0,0].replace(',','')))\n",
    "        except :\n",
    "            CostOfSales = 0\n",
    "            CostOfMgnt = abs(int(fs_CostOfMgnt[['thstrm_amount']].iloc[0,0].replace(',','')))\n",
    "\n",
    "        OCF = int(fs_OCF[['thstrm_amount']].iloc[0,0]) # 당해년도\n",
    "        CAPEX_P = int(fs_CAPEX_P[['thstrm_amount']].iloc[0,0]) # 유형자산의취득\n",
    "        CAPEX_I = int(fs_CAPEX_I[['thstrm_amount']].iloc[0,0]) #  무형자산의취득\n",
    "        CAPEX = CAPEX_P + CAPEX_I\n",
    "        FCF = OCF - CAPEX # 잉여현금흐름\n",
    "        OPM = income / revenue # 영업이익률\n",
    "        NPM = profit / revenue # 순이익률\n",
    "        DR = debt / equity # 부채비율\n",
    "        CR = current_assets / current_liabilities # Current Ratio, 유동비율\n",
    "        ROE = profit / equity # 자기자본수익률\n",
    "        ROA = profit / assets # 자산수익률\n",
    "        #EPS = int( dv_eps[ ['thstrm'] ].iloc[0, 0].replace(',', '').strip() )\n",
    "\n",
    "\n",
    "        ### dictionary에 담기\n",
    "        df_info[str(year)+' 1Q'] = \\\n",
    "        f'{revenue:,}'[:-8], \\\n",
    "        f'{CostOfSales:,}'[:-8], \\\n",
    "        f'{CostOfMgnt:,}'[:-8], \\\n",
    "        f'{income:,}'[:-8], \\\n",
    "        f'{IncomeOfFin:,}'[:-8], \\\n",
    "        f'{IncomeOfEtc:,}'[:-8], \\\n",
    "        f'{profit:,}'[:-8], \\\n",
    "        f'{OCF:,}'[:-8], \\\n",
    "        f'{FCF:,}'[:-8], \\\n",
    "        f'{OPM:.1%}', \\\n",
    "        f'{NPM:.1%}', \\\n",
    "        f'{DR:,}', \\\n",
    "        f'{CR:.1%}', \\\n",
    "        f'{ROE:.1%}', \\\n",
    "        f'{ROA:.1%}', \\\n",
    "        # f'{value:,}'[:-8] : ###,, / f'{value:.1%}' : #.#%\n",
    "\n",
    "        ### 출력 ###\n",
    "        df = pd.DataFrame(data = df_info, \\\n",
    "                          index = ['Revenue', '(-) Cost Of Revenue', '(-) Cost Of Mgnt', 'Operating Profit',\n",
    "                                   '(+) Financial Profit','(+) Etc. Profit','Net Profit', \n",
    "                                   'Operating Cash Flow', 'Free Cash Flow',\n",
    "                                   'Operating Profit Margin', 'Net Profit Margin', \n",
    "                                    'Debt Ratio', 'Current Ratio',\n",
    "                                  'ROE-Return on Equity', 'ROA-Return on Assets'])\n",
    "        total_df = pd.concat([total_df, df],axis=1)\n",
    "\n",
    "    company_nm = dart.company(company)['stock_name'] # 종목명\n",
    "    company_nm_eng = dart.company(company)['corp_name_eng'] # 회사 영문명\n",
    "    company_stock_code = dart.company(company)['stock_code'] # 종목코드    \n",
    "    print(company_nm, company_nm_eng, company_stock_code, '(단위 : %, 백만원, 원)')\n",
    "    \n",
    "    return total_df"
   ]
  },
  {
   "cell_type": "code",
   "execution_count": 95,
   "metadata": {},
   "outputs": [
    {
     "name": "stdout",
     "output_type": "stream",
     "text": [
      "삼성전자 SAMSUNG ELECTRONICS CO,.LTD 005930 (단위 : %, 백만원, 원)\n"
     ]
    },
    {
     "data": {
      "text/html": [
       "<div>\n",
       "<style scoped>\n",
       "    .dataframe tbody tr th:only-of-type {\n",
       "        vertical-align: middle;\n",
       "    }\n",
       "\n",
       "    .dataframe tbody tr th {\n",
       "        vertical-align: top;\n",
       "    }\n",
       "\n",
       "    .dataframe thead th {\n",
       "        text-align: right;\n",
       "    }\n",
       "</style>\n",
       "<table border=\"1\" class=\"dataframe\">\n",
       "  <thead>\n",
       "    <tr style=\"text-align: right;\">\n",
       "      <th></th>\n",
       "      <th>2018 1Q</th>\n",
       "      <th>2019 1Q</th>\n",
       "      <th>2020 1Q</th>\n",
       "    </tr>\n",
       "  </thead>\n",
       "  <tbody>\n",
       "    <tr>\n",
       "      <th>Revenue</th>\n",
       "      <td>60,563,714</td>\n",
       "      <td>52,385,546</td>\n",
       "      <td>55,325,178</td>\n",
       "    </tr>\n",
       "    <tr>\n",
       "      <th>(-) Cost Of Revenue</th>\n",
       "      <td>31,909,472</td>\n",
       "      <td>32,746,452</td>\n",
       "      <td>34,806,694</td>\n",
       "    </tr>\n",
       "    <tr>\n",
       "      <th>(-) Cost Of Mgnt</th>\n",
       "      <td>13,012,072</td>\n",
       "      <td>13,405,812</td>\n",
       "      <td>14,071,139</td>\n",
       "    </tr>\n",
       "    <tr>\n",
       "      <th>Operating Profit</th>\n",
       "      <td>15,642,170</td>\n",
       "      <td>6,233,282</td>\n",
       "      <td>6,447,345</td>\n",
       "    </tr>\n",
       "    <tr>\n",
       "      <th>(+) Financial Profit</th>\n",
       "      <td>343,660</td>\n",
       "      <td>537,364</td>\n",
       "      <td>297,412</td>\n",
       "    </tr>\n",
       "    <tr>\n",
       "      <th>(+) Etc. Profit</th>\n",
       "      <td>125,713</td>\n",
       "      <td>64,651</td>\n",
       "      <td>-48,549</td>\n",
       "    </tr>\n",
       "    <tr>\n",
       "      <th>Net Profit</th>\n",
       "      <td>11,688,544</td>\n",
       "      <td>5,043,585</td>\n",
       "      <td>4,884,926</td>\n",
       "    </tr>\n",
       "    <tr>\n",
       "      <th>Operating Cash Flow</th>\n",
       "      <td>15,616,352</td>\n",
       "      <td>5,244,311</td>\n",
       "      <td>11,829,879</td>\n",
       "    </tr>\n",
       "    <tr>\n",
       "      <th>Free Cash Flow</th>\n",
       "      <td>5,564,019</td>\n",
       "      <td>779,543</td>\n",
       "      <td>2,296,406</td>\n",
       "    </tr>\n",
       "    <tr>\n",
       "      <th>Operating Profit Margin</th>\n",
       "      <td>25.8%</td>\n",
       "      <td>11.9%</td>\n",
       "      <td>11.7%</td>\n",
       "    </tr>\n",
       "    <tr>\n",
       "      <th>Net Profit Margin</th>\n",
       "      <td>19.3%</td>\n",
       "      <td>9.6%</td>\n",
       "      <td>8.8%</td>\n",
       "    </tr>\n",
       "    <tr>\n",
       "      <th>Debt Ratio</th>\n",
       "      <td>0.39959366187959966</td>\n",
       "      <td>0.36274579794002926</td>\n",
       "      <td>0.34186940364365065</td>\n",
       "    </tr>\n",
       "    <tr>\n",
       "      <th>Current Ratio</th>\n",
       "      <td>226.9%</td>\n",
       "      <td>263.4%</td>\n",
       "      <td>288.3%</td>\n",
       "    </tr>\n",
       "    <tr>\n",
       "      <th>ROE-Return on Equity</th>\n",
       "      <td>5.2%</td>\n",
       "      <td>2.0%</td>\n",
       "      <td>1.8%</td>\n",
       "    </tr>\n",
       "    <tr>\n",
       "      <th>ROA-Return on Assets</th>\n",
       "      <td>3.7%</td>\n",
       "      <td>1.5%</td>\n",
       "      <td>1.4%</td>\n",
       "    </tr>\n",
       "  </tbody>\n",
       "</table>\n",
       "</div>"
      ],
      "text/plain": [
       "                                     2018 1Q              2019 1Q  \\\n",
       "Revenue                           60,563,714           52,385,546   \n",
       "(-) Cost Of Revenue               31,909,472           32,746,452   \n",
       "(-) Cost Of Mgnt                  13,012,072           13,405,812   \n",
       "Operating Profit                  15,642,170            6,233,282   \n",
       "(+) Financial Profit                 343,660              537,364   \n",
       "(+) Etc. Profit                      125,713               64,651   \n",
       "Net Profit                        11,688,544            5,043,585   \n",
       "Operating Cash Flow               15,616,352            5,244,311   \n",
       "Free Cash Flow                     5,564,019              779,543   \n",
       "Operating Profit Margin                25.8%                11.9%   \n",
       "Net Profit Margin                      19.3%                 9.6%   \n",
       "Debt Ratio               0.39959366187959966  0.36274579794002926   \n",
       "Current Ratio                         226.9%               263.4%   \n",
       "ROE-Return on Equity                    5.2%                 2.0%   \n",
       "ROA-Return on Assets                    3.7%                 1.5%   \n",
       "\n",
       "                                     2020 1Q  \n",
       "Revenue                           55,325,178  \n",
       "(-) Cost Of Revenue               34,806,694  \n",
       "(-) Cost Of Mgnt                  14,071,139  \n",
       "Operating Profit                   6,447,345  \n",
       "(+) Financial Profit                 297,412  \n",
       "(+) Etc. Profit                      -48,549  \n",
       "Net Profit                         4,884,926  \n",
       "Operating Cash Flow               11,829,879  \n",
       "Free Cash Flow                     2,296,406  \n",
       "Operating Profit Margin                11.7%  \n",
       "Net Profit Margin                       8.8%  \n",
       "Debt Ratio               0.34186940364365065  \n",
       "Current Ratio                         288.3%  \n",
       "ROE-Return on Equity                    1.8%  \n",
       "ROA-Return on Assets                    1.4%  "
      ]
     },
     "execution_count": 95,
     "metadata": {},
     "output_type": "execute_result"
    }
   ],
   "source": [
    "finance_QQ('삼성전자',2018,2020,'1Q')"
   ]
  },
  {
   "cell_type": "code",
   "execution_count": 87,
   "metadata": {},
   "outputs": [],
   "source": [
    "fs_all = dart.finstate_all('삼성전자', 2019, reprt_code = '11013')"
   ]
  },
  {
   "cell_type": "code",
   "execution_count": 91,
   "metadata": {},
   "outputs": [
    {
     "data": {
      "text/html": [
       "<div>\n",
       "<style scoped>\n",
       "    .dataframe tbody tr th:only-of-type {\n",
       "        vertical-align: middle;\n",
       "    }\n",
       "\n",
       "    .dataframe tbody tr th {\n",
       "        vertical-align: top;\n",
       "    }\n",
       "\n",
       "    .dataframe thead th {\n",
       "        text-align: right;\n",
       "    }\n",
       "</style>\n",
       "<table border=\"1\" class=\"dataframe\">\n",
       "  <thead>\n",
       "    <tr style=\"text-align: right;\">\n",
       "      <th></th>\n",
       "      <th>rcept_no</th>\n",
       "      <th>reprt_code</th>\n",
       "      <th>bsns_year</th>\n",
       "      <th>corp_code</th>\n",
       "      <th>sj_div</th>\n",
       "      <th>sj_nm</th>\n",
       "      <th>account_id</th>\n",
       "      <th>account_nm</th>\n",
       "      <th>account_detail</th>\n",
       "      <th>thstrm_nm</th>\n",
       "      <th>thstrm_amount</th>\n",
       "      <th>frmtrm_nm</th>\n",
       "      <th>frmtrm_amount</th>\n",
       "      <th>ord</th>\n",
       "      <th>thstrm_add_amount</th>\n",
       "      <th>frmtrm_q_nm</th>\n",
       "      <th>frmtrm_q_amount</th>\n",
       "      <th>frmtrm_add_amount</th>\n",
       "    </tr>\n",
       "  </thead>\n",
       "  <tbody>\n",
       "    <tr>\n",
       "      <th>54</th>\n",
       "      <td>20190515001605</td>\n",
       "      <td>11013</td>\n",
       "      <td>2019</td>\n",
       "      <td>00126380</td>\n",
       "      <td>IS</td>\n",
       "      <td>손익계산서</td>\n",
       "      <td>ifrs_CostOfSales</td>\n",
       "      <td>매출원가</td>\n",
       "      <td>-</td>\n",
       "      <td>제 51 기 1분기</td>\n",
       "      <td>32746452000000</td>\n",
       "      <td>NaN</td>\n",
       "      <td>NaN</td>\n",
       "      <td>1</td>\n",
       "      <td>32746452000000</td>\n",
       "      <td>제 50 기 1분기</td>\n",
       "      <td>31909472000000</td>\n",
       "      <td>31909472000000</td>\n",
       "    </tr>\n",
       "  </tbody>\n",
       "</table>\n",
       "</div>"
      ],
      "text/plain": [
       "          rcept_no reprt_code bsns_year corp_code sj_div  sj_nm  \\\n",
       "54  20190515001605      11013      2019  00126380     IS  손익계산서   \n",
       "\n",
       "          account_id account_nm account_detail   thstrm_nm   thstrm_amount  \\\n",
       "54  ifrs_CostOfSales       매출원가              -  제 51 기 1분기  32746452000000   \n",
       "\n",
       "   frmtrm_nm frmtrm_amount ord thstrm_add_amount frmtrm_q_nm frmtrm_q_amount  \\\n",
       "54       NaN           NaN   1    32746452000000  제 50 기 1분기  31909472000000   \n",
       "\n",
       "   frmtrm_add_amount  \n",
       "54    31909472000000  "
      ]
     },
     "execution_count": 91,
     "metadata": {},
     "output_type": "execute_result"
    }
   ],
   "source": [
    "#fs_all #        fs_CostOfSales = fs_all[fs_all['account_id']=='ifrs-full_CostOfSales']\n",
    "fs_all[fs_all['account_id'].str.contains('CostOfSales')]"
   ]
  },
  {
   "cell_type": "code",
   "execution_count": 6,
   "metadata": {},
   "outputs": [],
   "source": [
    "def finance_QQ_v2(company, From, To, byUnit='1Q') : \n",
    "\n",
    "    ### Parsing byUnit\n",
    "    if byUnit == '1Q':\n",
    "        RptCode = '11013'\n",
    "    elif byUnit == '2Q':\n",
    "        RptCode = '11012'\n",
    "    elif byUnit == '3Q':\n",
    "        RptCode = '11014'\n",
    "    else :\n",
    "        raise ValueError(\"Invalid Unit type !!!\")\n",
    "    \n",
    "\n",
    "    total_df = pd.DataFrame()\n",
    "    for year in range(From, To+1):\n",
    "        \n",
    "        ### Dictionary\n",
    "        df_info = {}\n",
    "\n",
    "        ### 재무제표\n",
    "        fs = dart.finstate(company, year, reprt_code=RptCode) # 재무제표(전체)\n",
    "        \"\"\"\n",
    "        reprt_code : '11013' = 1분기보고서, '11012' = 반기보고서, '11014' = 3분기보고서, '11011' = 사업보고서\n",
    "        \"\"\"\n",
    "        fs_cfs = fs[fs['fs_div'].str.contains('CFS')] # 재무제표(전체) > 연결\n",
    "        fs_is = fs_cfs[fs_cfs['sj_div'].str.contains('IS')] # 재무제표(전체) > 손익계산서\n",
    "        fs_bs = fs_cfs[fs_cfs['sj_div'].str.contains('BS')] # 재무제표(전체) > 재무제표\n",
    "        fs_equity = fs_bs[fs_bs['account_nm'].str.contains('자본총계')] # 재무제표(전체) > 재무제표 > 자본총계\n",
    "        fs_assets = fs_bs[fs_bs['account_nm'].str.contains('자산총계')] # 재무제표(전체) > 재무제표 > 자산총계\n",
    "        fs_debt = fs_bs[fs_bs['account_nm'].str.contains('부채총계')] # 재무제표(전체) > 연결 > 재무상태표 > 부채총계\n",
    "        fs_current_liabilities = fs_bs[fs_bs['account_nm']==('유동부채')]\n",
    "        fs_current_assets = fs_bs[fs_bs['account_nm']==('유동자산')]\n",
    "\n",
    "\n",
    "        ### 재무제표 전체(재무상태표, 손익계산서, 자본변동표, 현금흐름표 등)\n",
    "        fs_all = dart.finstate_all(company, year, reprt_code = RptCode) # 1분기 보고서 재무제표(전체)\n",
    "        fs_revenue = fs_all[fs_all['account_nm'].str.contains('매출액|영업수익')] # 재무제표(전체) > 손익계산서 > 매출액\n",
    "        fs_income = fs_all[fs_all['account_id']=='dart_OperatingIncomeLoss'] # 재무제표(전체) > 손익계산서 > 영업이익\n",
    "        fs_profit = fs_all[fs_all['account_id']=='ifrs-full_ProfitLoss'] # 재무제표(전체) > 손익계산서 > 당기순이익\n",
    "        if len(fs_profit) == 0 :\n",
    "            fs_profit = fs_all[fs_all['account_nm'].str.contains('당기순이익')]\n",
    "            if len(fs_profit) == 0 :\n",
    "                fs_profit = fs_all[fs_all['account_nm'].str.contains('분기순이익')]\n",
    "                if len(fs_profit) == 0 :\n",
    "                    raise ValueError('Profit(당기순이익) is not found.')\n",
    "        \n",
    "        fs_CostOfSales = fs_all[fs_all['account_id']=='ifrs-full_CostOfSales']\n",
    "        if len(fs_CostOfSales) == 0 :\n",
    "            fs_CostOfSales = fs_all[fs_all['account_nm'].str.contains('매출원가')]\n",
    "            if len(fs_CostOfSales) == 0 :\n",
    "                raise ValueError(\"CostOfSales(매출원가) is not found\")\n",
    "                \n",
    "        fs_CostOfMgnt = fs_all[fs_all['account_nm'].str.contains('판매비와관리비|영업비용')]\n",
    "        fs_IncomeOfFin = fs_all[fs_all['account_nm'].str.contains('금융수익|금융이익')]\n",
    "        fs_CostOfFin = fs_all[fs_all['account_nm'].str.contains('금융비용|금융손실|금융원가')]\n",
    "        fs_IncomeOfEtc = fs_all[fs_all['account_nm'].str.contains('기타수익|기타이익|기타영업외수익')]\n",
    "        fs_CostOfEtc = fs_all[fs_all['account_nm'].str.contains('기타비용|기타손실|기타원가|기타영업외비용')]\n",
    "\n",
    "        fs_cf = fs_all[fs_all['sj_div'].str.contains('CF')] # 재무제표(전체) > 현금흐름표\n",
    "        fs_OCF = fs_cf[fs_cf['account_id'].str.contains('CashFlowsFromUsedInOperatingActivities')] # 재무제표(전체) > 현금흐름표 > 영업활동현금흐름\n",
    "        fs_aucqusition = fs_cf[fs_cf['account_nm'].str.contains('취득')] # 재무제표(전체) > 현금흐름표 >  '취득'\n",
    "        fs_CAPEX_P = fs_aucqusition[fs_aucqusition['account_nm'].str.contains('유형자산')] # 재무제표(전체) > 현금흐름표 >  유형자산의취득\n",
    "        fs_CAPEX_I = fs_aucqusition[fs_aucqusition['account_nm'].str.contains('무형자산')] # 재무제표(전체) > 현금흐름표 >  무형자산의취득\n",
    "        \n",
    "        ### 배당 dv2 = dart.report('삼성전자','배당',2020,'11012')\n",
    "        dv = dart.report(company, '배당', year, RptCode)\n",
    "        dv_eps = dv[ dv['se'].str.contains('주당순이익') ]\n",
    "\n",
    "        equity = int(fs_equity[['thstrm_amount']].iloc[0,0].replace(',','').strip())\n",
    "        assets = int(fs_assets[['thstrm_amount']].iloc[0,0].replace(',', '').strip())\n",
    "        debt = int(fs_debt[['thstrm_amount']].iloc[0,0].replace(',','').strip())\n",
    "        current_liabilities = int(fs_current_liabilities[['thstrm_amount']].iloc[0,0].replace(',','').strip())\n",
    "        current_assets = int(fs_current_assets[['thstrm_amount']].iloc[0,0].replace(',','').strip())\n",
    "        revenue = int(fs_revenue[['thstrm_amount']].iloc[0,0].replace(',', '')) # 매출액\n",
    "        income = int(fs_income[['thstrm_amount']].iloc[0,0].replace(',', '')) # 영업이익\n",
    "        profit = int(fs_profit[['thstrm_amount']].iloc[0,0].replace(',', '')) # 순이익\n",
    "        IncomeOfFin = abs(int(fs_IncomeOfFin[['thstrm_amount']].iloc[0,0].replace(',',''))) \\\n",
    "                    - abs(int(fs_CostOfFin[['thstrm_amount']].iloc[0,0].replace(',',''))) # 금융손익\n",
    "        IncomeOfEtc = abs(int(fs_IncomeOfEtc[['thstrm_amount']].iloc[0,0].replace(',',''))) \\\n",
    "                    - abs(int(fs_CostOfEtc[['thstrm_amount']].iloc[0,0].replace(',',''))) # 금융손익\n",
    "\n",
    "        try :\n",
    "            CostOfSales = abs(int(fs_CostOfSales[['thstrm_amount']].iloc[0,0].replace(',','')))\n",
    "            CostOfMgnt = abs(int(fs_CostOfMgnt[['thstrm_amount']].iloc[0,0].replace(',','')))\n",
    "        except :\n",
    "            CostOfSales = 0\n",
    "            CostOfMgnt = abs(int(fs_CostOfMgnt[['thstrm_amount']].iloc[0,0].replace(',','')))\n",
    "\n",
    "        OCF = int(fs_OCF[['thstrm_amount']].iloc[0,0]) # 당해년도\n",
    "        CAPEX_P = int(fs_CAPEX_P[['thstrm_amount']].iloc[0,0]) # 유형자산의취득\n",
    "        CAPEX_I = int(fs_CAPEX_I[['thstrm_amount']].iloc[0,0]) #  무형자산의취득\n",
    "        CAPEX = CAPEX_P + CAPEX_I\n",
    "        FCF = OCF - CAPEX # 잉여현금흐름\n",
    "        OPM = income / revenue # 영업이익률\n",
    "        NPM = profit / revenue # 순이익률\n",
    "        DR = debt / equity # 부채비율\n",
    "        CR = current_assets / current_liabilities # Current Ratio, 유동비율\n",
    "        ROE = profit / equity # 자기자본수익률\n",
    "        ROA = profit / assets # 자산수익률\n",
    "        try :\n",
    "            EPS = int( dv_eps[ ['thstrm'] ].iloc[0, 0].replace(',', '').strip() )\n",
    "        except :\n",
    "            EPS = 0\n",
    "\n",
    "\n",
    "        ### dictionary에 담기\n",
    "        df_info[str(year)+' 1Q'] = \\\n",
    "        f'{revenue:,}'[:-8], \\\n",
    "        f'{CostOfSales:,}'[:-8], \\\n",
    "        f'{CostOfMgnt:,}'[:-8], \\\n",
    "        f'{income:,}'[:-8], \\\n",
    "        f'{IncomeOfFin:,}'[:-8], \\\n",
    "        f'{IncomeOfEtc:,}'[:-8], \\\n",
    "        f'{profit:,}'[:-8], \\\n",
    "        f'{OCF:,}'[:-8], \\\n",
    "        f'{FCF:,}'[:-8], \\\n",
    "        f'{OPM:.1%}', \\\n",
    "        f'{NPM:.1%}', \\\n",
    "        f'{DR:,}', \\\n",
    "        f'{CR:.1%}', \\\n",
    "        f'{ROE:.1%}', \\\n",
    "        f'{ROA:.1%}', \\\n",
    "        f'{EPS:,}', \\\n",
    "        # f'{value:,}'[:-8] : ###,, / f'{value:.1%}' : #.#%\n",
    "\n",
    "        ### 출력 ###\n",
    "        df = pd.DataFrame(data = df_info, \\\n",
    "                          index = ['Revenue', '(-) Cost Of Revenue', '(-) Cost Of Mgnt', 'Operating Profit',\n",
    "                                   '(+) Financial Profit','(+) Etc. Profit','Net Profit', \n",
    "                                   'Operating Cash Flow', 'Free Cash Flow',\n",
    "                                   'Operating Profit Margin', 'Net Profit Margin', \n",
    "                                    'Debt Ratio', 'Current Ratio',\n",
    "                                  'ROE-Return on Equity', 'ROA-Return on Assets', 'EPS-Earnings Per Share'])\n",
    "        total_df = pd.concat([total_df, df],axis=1)\n",
    "\n",
    "    company_nm = dart.company(company)['stock_name'] # 종목명\n",
    "    company_nm_eng = dart.company(company)['corp_name_eng'] # 회사 영문명\n",
    "    company_stock_code = dart.company(company)['stock_code'] # 종목코드    \n",
    "    print(company_nm, company_nm_eng, company_stock_code, '(단위 : %, 백만원, 원)')\n",
    "    \n",
    "    return total_df"
   ]
  },
  {
   "cell_type": "code",
   "execution_count": 7,
   "metadata": {},
   "outputs": [
    {
     "name": "stdout",
     "output_type": "stream",
     "text": [
      "LG전자 LG ELECTRONICS INC. 066570 (단위 : %, 백만원, 원)\n"
     ]
    },
    {
     "data": {
      "text/html": [
       "<div>\n",
       "<style scoped>\n",
       "    .dataframe tbody tr th:only-of-type {\n",
       "        vertical-align: middle;\n",
       "    }\n",
       "\n",
       "    .dataframe tbody tr th {\n",
       "        vertical-align: top;\n",
       "    }\n",
       "\n",
       "    .dataframe thead th {\n",
       "        text-align: right;\n",
       "    }\n",
       "</style>\n",
       "<table border=\"1\" class=\"dataframe\">\n",
       "  <thead>\n",
       "    <tr style=\"text-align: right;\">\n",
       "      <th></th>\n",
       "      <th>2018 1Q</th>\n",
       "      <th>2019 1Q</th>\n",
       "      <th>2020 1Q</th>\n",
       "    </tr>\n",
       "  </thead>\n",
       "  <tbody>\n",
       "    <tr>\n",
       "      <th>Revenue</th>\n",
       "      <td>15,427,050</td>\n",
       "      <td>15,700,645</td>\n",
       "      <td>16,919,559</td>\n",
       "    </tr>\n",
       "    <tr>\n",
       "      <th>(-) Cost Of Revenue</th>\n",
       "      <td>11,560,721</td>\n",
       "      <td>11,592,474</td>\n",
       "      <td>12,340,959</td>\n",
       "    </tr>\n",
       "    <tr>\n",
       "      <th>(-) Cost Of Mgnt</th>\n",
       "      <td>3,117,540</td>\n",
       "      <td>3,326,710</td>\n",
       "      <td>3,619,619</td>\n",
       "    </tr>\n",
       "    <tr>\n",
       "      <th>Operating Profit</th>\n",
       "      <td>748,789</td>\n",
       "      <td>781,461</td>\n",
       "      <td>958,981</td>\n",
       "    </tr>\n",
       "    <tr>\n",
       "      <th>(+) Financial Profit</th>\n",
       "      <td>-91,017</td>\n",
       "      <td>-56,104</td>\n",
       "      <td>-103,996</td>\n",
       "    </tr>\n",
       "    <tr>\n",
       "      <th>(+) Etc. Profit</th>\n",
       "      <td>-47,427</td>\n",
       "      <td>-140,402</td>\n",
       "      <td>-97,938</td>\n",
       "    </tr>\n",
       "    <tr>\n",
       "      <th>Net Profit</th>\n",
       "      <td>497,108</td>\n",
       "      <td>345,700</td>\n",
       "      <td>649,225</td>\n",
       "    </tr>\n",
       "    <tr>\n",
       "      <th>Operating Cash Flow</th>\n",
       "      <td>3,184,989</td>\n",
       "      <td>2,546,225</td>\n",
       "      <td>3,099,079</td>\n",
       "    </tr>\n",
       "    <tr>\n",
       "      <th>Free Cash Flow</th>\n",
       "      <td>399,610</td>\n",
       "      <td>680,520</td>\n",
       "      <td>1,180,253</td>\n",
       "    </tr>\n",
       "    <tr>\n",
       "      <th>Operating Profit Margin</th>\n",
       "      <td>4.9%</td>\n",
       "      <td>5.0%</td>\n",
       "      <td>5.7%</td>\n",
       "    </tr>\n",
       "    <tr>\n",
       "      <th>Net Profit Margin</th>\n",
       "      <td>3.2%</td>\n",
       "      <td>2.2%</td>\n",
       "      <td>3.8%</td>\n",
       "    </tr>\n",
       "    <tr>\n",
       "      <th>Debt Ratio</th>\n",
       "      <td>1.740387251054544</td>\n",
       "      <td>1.7049888355494718</td>\n",
       "      <td>1.779428296003251</td>\n",
       "    </tr>\n",
       "    <tr>\n",
       "      <th>Current Ratio</th>\n",
       "      <td>116.1%</td>\n",
       "      <td>119.3%</td>\n",
       "      <td>120.5%</td>\n",
       "    </tr>\n",
       "    <tr>\n",
       "      <th>ROE-Return on Equity</th>\n",
       "      <td>3.0%</td>\n",
       "      <td>2.0%</td>\n",
       "      <td>3.7%</td>\n",
       "    </tr>\n",
       "    <tr>\n",
       "      <th>ROA-Return on Assets</th>\n",
       "      <td>1.1%</td>\n",
       "      <td>0.7%</td>\n",
       "      <td>1.3%</td>\n",
       "    </tr>\n",
       "    <tr>\n",
       "      <th>EPS-Earnings Per Share</th>\n",
       "      <td>7,829</td>\n",
       "      <td>5,032</td>\n",
       "      <td>9,482</td>\n",
       "    </tr>\n",
       "  </tbody>\n",
       "</table>\n",
       "</div>"
      ],
      "text/plain": [
       "                                   2018 1Q             2019 1Q  \\\n",
       "Revenue                         15,427,050          15,700,645   \n",
       "(-) Cost Of Revenue             11,560,721          11,592,474   \n",
       "(-) Cost Of Mgnt                 3,117,540           3,326,710   \n",
       "Operating Profit                   748,789             781,461   \n",
       "(+) Financial Profit               -91,017             -56,104   \n",
       "(+) Etc. Profit                    -47,427            -140,402   \n",
       "Net Profit                         497,108             345,700   \n",
       "Operating Cash Flow              3,184,989           2,546,225   \n",
       "Free Cash Flow                     399,610             680,520   \n",
       "Operating Profit Margin               4.9%                5.0%   \n",
       "Net Profit Margin                     3.2%                2.2%   \n",
       "Debt Ratio               1.740387251054544  1.7049888355494718   \n",
       "Current Ratio                       116.1%              119.3%   \n",
       "ROE-Return on Equity                  3.0%                2.0%   \n",
       "ROA-Return on Assets                  1.1%                0.7%   \n",
       "EPS-Earnings Per Share               7,829               5,032   \n",
       "\n",
       "                                   2020 1Q  \n",
       "Revenue                         16,919,559  \n",
       "(-) Cost Of Revenue             12,340,959  \n",
       "(-) Cost Of Mgnt                 3,619,619  \n",
       "Operating Profit                   958,981  \n",
       "(+) Financial Profit              -103,996  \n",
       "(+) Etc. Profit                    -97,938  \n",
       "Net Profit                         649,225  \n",
       "Operating Cash Flow              3,099,079  \n",
       "Free Cash Flow                   1,180,253  \n",
       "Operating Profit Margin               5.7%  \n",
       "Net Profit Margin                     3.8%  \n",
       "Debt Ratio               1.779428296003251  \n",
       "Current Ratio                       120.5%  \n",
       "ROE-Return on Equity                  3.7%  \n",
       "ROA-Return on Assets                  1.3%  \n",
       "EPS-Earnings Per Share               9,482  "
      ]
     },
     "execution_count": 7,
     "metadata": {},
     "output_type": "execute_result"
    }
   ],
   "source": [
    "finance_QQ_v2('LG전자',2018,2020,'3Q')"
   ]
  },
  {
   "cell_type": "code",
   "execution_count": 24,
   "metadata": {},
   "outputs": [
    {
     "ename": "TypeError",
     "evalue": "argument of type 'NoneType' is not iterable",
     "output_type": "error",
     "traceback": [
      "\u001b[1;31m---------------------------------------------------------------------------\u001b[0m",
      "\u001b[1;31mTypeError\u001b[0m                                 Traceback (most recent call last)",
      "\u001b[1;32m<ipython-input-24-3da60d3528e8>\u001b[0m in \u001b[0;36m<module>\u001b[1;34m\u001b[0m\n\u001b[1;32m----> 1\u001b[1;33m \u001b[0mfinance_QQ_v2\u001b[0m\u001b[1;33m(\u001b[0m\u001b[1;34m'삼성화재'\u001b[0m\u001b[1;33m,\u001b[0m\u001b[1;36m2018\u001b[0m\u001b[1;33m,\u001b[0m\u001b[1;36m2020\u001b[0m\u001b[1;33m,\u001b[0m\u001b[1;34m'3Q'\u001b[0m\u001b[1;33m)\u001b[0m\u001b[1;33m\u001b[0m\u001b[1;33m\u001b[0m\u001b[0m\n\u001b[0m",
      "\u001b[1;32m<ipython-input-6-0a18bdf5cf8a>\u001b[0m in \u001b[0;36mfinance_QQ_v2\u001b[1;34m(company, From, To, byUnit)\u001b[0m\n\u001b[0;32m     19\u001b[0m \u001b[1;33m\u001b[0m\u001b[0m\n\u001b[0;32m     20\u001b[0m         \u001b[1;31m### 재무제표\u001b[0m\u001b[1;33m\u001b[0m\u001b[1;33m\u001b[0m\u001b[1;33m\u001b[0m\u001b[0m\n\u001b[1;32m---> 21\u001b[1;33m         \u001b[0mfs\u001b[0m \u001b[1;33m=\u001b[0m \u001b[0mdart\u001b[0m\u001b[1;33m.\u001b[0m\u001b[0mfinstate\u001b[0m\u001b[1;33m(\u001b[0m\u001b[0mcompany\u001b[0m\u001b[1;33m,\u001b[0m \u001b[0myear\u001b[0m\u001b[1;33m,\u001b[0m \u001b[0mreprt_code\u001b[0m\u001b[1;33m=\u001b[0m\u001b[0mRptCode\u001b[0m\u001b[1;33m)\u001b[0m \u001b[1;31m# 재무제표(전체)\u001b[0m\u001b[1;33m\u001b[0m\u001b[1;33m\u001b[0m\u001b[0m\n\u001b[0m\u001b[0;32m     22\u001b[0m         \"\"\"\n\u001b[0;32m     23\u001b[0m         \u001b[0mreprt_code\u001b[0m \u001b[1;33m:\u001b[0m \u001b[1;34m'11013'\u001b[0m \u001b[1;33m=\u001b[0m \u001b[1;36m1\u001b[0m\u001b[0m분기보고서\u001b[0m\u001b[1;33m,\u001b[0m \u001b[1;34m'11012'\u001b[0m \u001b[1;33m=\u001b[0m \u001b[0m반기보고서\u001b[0m\u001b[1;33m,\u001b[0m \u001b[1;34m'11014'\u001b[0m \u001b[1;33m=\u001b[0m \u001b[1;36m3\u001b[0m\u001b[0m분기보고서\u001b[0m\u001b[1;33m,\u001b[0m \u001b[1;34m'11011'\u001b[0m \u001b[1;33m=\u001b[0m \u001b[0m사업보고서\u001b[0m\u001b[1;33m\u001b[0m\u001b[1;33m\u001b[0m\u001b[0m\n",
      "\u001b[1;32mc:\\python\\python36\\lib\\site-packages\\OpenDartReader\\dart.py\u001b[0m in \u001b[0;36mfinstate\u001b[1;34m(self, corp, bsns_year, reprt_code)\u001b[0m\n\u001b[0;32m     83\u001b[0m         \u001b[1;32melse\u001b[0m\u001b[1;33m:\u001b[0m\u001b[1;33m\u001b[0m\u001b[1;33m\u001b[0m\u001b[0m\n\u001b[0;32m     84\u001b[0m             \u001b[0mcorp_code\u001b[0m \u001b[1;33m=\u001b[0m \u001b[0mself\u001b[0m\u001b[1;33m.\u001b[0m\u001b[0mfind_corp_code\u001b[0m\u001b[1;33m(\u001b[0m\u001b[0mcorp\u001b[0m\u001b[1;33m)\u001b[0m\u001b[1;33m\u001b[0m\u001b[1;33m\u001b[0m\u001b[0m\n\u001b[1;32m---> 85\u001b[1;33m         \u001b[1;32mreturn\u001b[0m \u001b[0mdart_finstate\u001b[0m\u001b[1;33m.\u001b[0m\u001b[0mfinstate\u001b[0m\u001b[1;33m(\u001b[0m\u001b[0mself\u001b[0m\u001b[1;33m.\u001b[0m\u001b[0mapi_key\u001b[0m\u001b[1;33m,\u001b[0m \u001b[0mcorp_code\u001b[0m\u001b[1;33m,\u001b[0m \u001b[0mbsns_year\u001b[0m\u001b[1;33m,\u001b[0m \u001b[0mreprt_code\u001b[0m\u001b[1;33m)\u001b[0m\u001b[1;33m\u001b[0m\u001b[1;33m\u001b[0m\u001b[0m\n\u001b[0m\u001b[0;32m     86\u001b[0m \u001b[1;33m\u001b[0m\u001b[0m\n\u001b[0;32m     87\u001b[0m     \u001b[1;31m# 3-3. 재무제표 원본파일(XBRL)\u001b[0m\u001b[1;33m\u001b[0m\u001b[1;33m\u001b[0m\u001b[1;33m\u001b[0m\u001b[0m\n",
      "\u001b[1;32mc:\\python\\python36\\lib\\site-packages\\OpenDartReader\\dart_finstate.py\u001b[0m in \u001b[0;36mfinstate\u001b[1;34m(api_key, corp_code, bsns_year, reprt_code)\u001b[0m\n\u001b[0;32m     19\u001b[0m \u001b[1;32mdef\u001b[0m \u001b[0mfinstate\u001b[0m\u001b[1;33m(\u001b[0m\u001b[0mapi_key\u001b[0m\u001b[1;33m,\u001b[0m \u001b[0mcorp_code\u001b[0m\u001b[1;33m,\u001b[0m \u001b[0mbsns_year\u001b[0m\u001b[1;33m,\u001b[0m \u001b[0mreprt_code\u001b[0m\u001b[1;33m=\u001b[0m\u001b[1;34m'11011'\u001b[0m\u001b[1;33m)\u001b[0m\u001b[1;33m:\u001b[0m\u001b[1;33m\u001b[0m\u001b[1;33m\u001b[0m\u001b[0m\n\u001b[0;32m     20\u001b[0m     \u001b[0murl\u001b[0m \u001b[1;33m=\u001b[0m \u001b[1;34m'https://opendart.fss.or.kr/api/'\u001b[0m\u001b[1;33m\u001b[0m\u001b[1;33m\u001b[0m\u001b[0m\n\u001b[1;32m---> 21\u001b[1;33m     \u001b[0murl\u001b[0m \u001b[1;33m+=\u001b[0m \u001b[1;34m'fnlttMultiAcnt.json'\u001b[0m \u001b[1;32mif\u001b[0m \u001b[1;34m','\u001b[0m \u001b[1;32min\u001b[0m \u001b[0mcorp_code\u001b[0m \u001b[1;32melse\u001b[0m \u001b[1;34m'fnlttSinglAcnt.json'\u001b[0m\u001b[1;33m\u001b[0m\u001b[1;33m\u001b[0m\u001b[0m\n\u001b[0m\u001b[0;32m     22\u001b[0m \u001b[1;33m\u001b[0m\u001b[0m\n\u001b[0;32m     23\u001b[0m     params = {\n",
      "\u001b[1;31mTypeError\u001b[0m: argument of type 'NoneType' is not iterable"
     ]
    }
   ],
   "source": [
    "finance_QQ_v2('삼성화재',2018,2020,'3Q')"
   ]
  },
  {
   "cell_type": "code",
   "execution_count": null,
   "metadata": {},
   "outputs": [],
   "source": []
  },
  {
   "cell_type": "code",
   "execution_count": null,
   "metadata": {},
   "outputs": [],
   "source": []
  },
  {
   "cell_type": "code",
   "execution_count": null,
   "metadata": {},
   "outputs": [],
   "source": []
  },
  {
   "cell_type": "markdown",
   "metadata": {},
   "source": [
    "### Problems\n",
    "\n",
    "* 삼성전자 - 2015년의 재무제표가 분명 dart에는 있는데 func로 안 불러진다..\n",
    "* LG전자처럼 분기순이익(not 당기순이익) 처럼 용어가 다른 부분이 있다..\n",
    "* 재무제표 구조가 달라지는거에 대비할 필요가 있겠다.."
   ]
  },
  {
   "cell_type": "code",
   "execution_count": 161,
   "metadata": {},
   "outputs": [
    {
     "ename": "TypeError",
     "evalue": "object of type 'NoneType' has no len()",
     "output_type": "error",
     "traceback": [
      "\u001b[1;31m---------------------------------------------------------------------------\u001b[0m",
      "\u001b[1;31mTypeError\u001b[0m                                 Traceback (most recent call last)",
      "\u001b[1;32m<ipython-input-161-26f89eedebc4>\u001b[0m in \u001b[0;36m<module>\u001b[1;34m\u001b[0m\n\u001b[0;32m      2\u001b[0m \u001b[1;31m#fs_cfs = fs[fs['fs_div'].str.contains('CFS')]\u001b[0m\u001b[1;33m\u001b[0m\u001b[1;33m\u001b[0m\u001b[1;33m\u001b[0m\u001b[0m\n\u001b[0;32m      3\u001b[0m \u001b[1;31m#        reprt_code : '11013' = 1분기보고서, '11012' = 반기보고서, '11014' = 3분기보고서, '11011' = 사업보고서\u001b[0m\u001b[1;33m\u001b[0m\u001b[1;33m\u001b[0m\u001b[1;33m\u001b[0m\u001b[0m\n\u001b[1;32m----> 4\u001b[1;33m \u001b[0mfs_all\u001b[0m \u001b[1;33m=\u001b[0m \u001b[0mdart\u001b[0m\u001b[1;33m.\u001b[0m\u001b[0mfinstate_all\u001b[0m\u001b[1;33m(\u001b[0m\u001b[1;34m'삼성전자'\u001b[0m\u001b[1;33m,\u001b[0m\u001b[1;36m2015\u001b[0m\u001b[1;33m,\u001b[0m\u001b[0mreprt_code\u001b[0m\u001b[1;33m=\u001b[0m\u001b[1;34m'11014'\u001b[0m\u001b[1;33m)\u001b[0m\u001b[1;33m\u001b[0m\u001b[1;33m\u001b[0m\u001b[0m\n\u001b[0m",
      "\u001b[1;32mc:\\python\\python36\\lib\\site-packages\\OpenDartReader\\dart.py\u001b[0m in \u001b[0;36mfinstate_all\u001b[1;34m(self, corp, bsns_year, reprt_code, fs_div)\u001b[0m\n\u001b[0;32m     93\u001b[0m         \u001b[0mcorp_code\u001b[0m \u001b[1;33m=\u001b[0m \u001b[0mself\u001b[0m\u001b[1;33m.\u001b[0m\u001b[0mfind_corp_code\u001b[0m\u001b[1;33m(\u001b[0m\u001b[0mcorp\u001b[0m\u001b[1;33m)\u001b[0m\u001b[1;33m\u001b[0m\u001b[1;33m\u001b[0m\u001b[0m\n\u001b[0;32m     94\u001b[0m         \u001b[0mdf\u001b[0m \u001b[1;33m=\u001b[0m \u001b[0mdart_finstate\u001b[0m\u001b[1;33m.\u001b[0m\u001b[0mfinstate_all\u001b[0m\u001b[1;33m(\u001b[0m\u001b[0mself\u001b[0m\u001b[1;33m.\u001b[0m\u001b[0mapi_key\u001b[0m\u001b[1;33m,\u001b[0m \u001b[0mcorp_code\u001b[0m\u001b[1;33m,\u001b[0m \u001b[0mbsns_year\u001b[0m\u001b[1;33m,\u001b[0m \u001b[0mreprt_code\u001b[0m\u001b[1;33m=\u001b[0m\u001b[0mreprt_code\u001b[0m\u001b[1;33m,\u001b[0m \u001b[0mfs_div\u001b[0m\u001b[1;33m=\u001b[0m\u001b[0mfs_div\u001b[0m\u001b[1;33m)\u001b[0m\u001b[1;33m\u001b[0m\u001b[1;33m\u001b[0m\u001b[0m\n\u001b[1;32m---> 95\u001b[1;33m         \u001b[1;32mif\u001b[0m \u001b[0mlen\u001b[0m\u001b[1;33m(\u001b[0m\u001b[0mdf\u001b[0m\u001b[1;33m)\u001b[0m\u001b[1;33m:\u001b[0m\u001b[1;33m\u001b[0m\u001b[1;33m\u001b[0m\u001b[0m\n\u001b[0m\u001b[0;32m     96\u001b[0m             \u001b[1;32mreturn\u001b[0m \u001b[0mdf\u001b[0m\u001b[1;33m\u001b[0m\u001b[1;33m\u001b[0m\u001b[0m\n\u001b[0;32m     97\u001b[0m         \u001b[1;32mreturn\u001b[0m \u001b[0mdart_finstate\u001b[0m\u001b[1;33m.\u001b[0m\u001b[0mfinstate_all\u001b[0m\u001b[1;33m(\u001b[0m\u001b[0mself\u001b[0m\u001b[1;33m.\u001b[0m\u001b[0mapi_key\u001b[0m\u001b[1;33m,\u001b[0m \u001b[0mcorp_code\u001b[0m\u001b[1;33m,\u001b[0m \u001b[0mbsns_year\u001b[0m\u001b[1;33m,\u001b[0m \u001b[0mreprt_code\u001b[0m\u001b[1;33m=\u001b[0m\u001b[0mreprt_code\u001b[0m\u001b[1;33m,\u001b[0m \u001b[0mfs_div\u001b[0m\u001b[1;33m=\u001b[0m\u001b[1;34m'OFS'\u001b[0m\u001b[1;33m)\u001b[0m\u001b[1;33m\u001b[0m\u001b[1;33m\u001b[0m\u001b[0m\n",
      "\u001b[1;31mTypeError\u001b[0m: object of type 'NoneType' has no len()"
     ]
    }
   ],
   "source": [
    "fs = dart.finstate('삼성전자', 2015, reprt_code='11014') # 재무제표(전체)\n",
    "#fs_cfs = fs[fs['fs_div'].str.contains('CFS')]\n",
    "#        reprt_code : '11013' = 1분기보고서, '11012' = 반기보고서, '11014' = 3분기보고서, '11011' = 사업보고서\n",
    "fs_all = dart.finstate_all('삼성전자',2015,reprt_code='11014')"
   ]
  },
  {
   "cell_type": "code",
   "execution_count": 159,
   "metadata": {},
   "outputs": [],
   "source": [
    "fs"
   ]
  },
  {
   "cell_type": "code",
   "execution_count": 136,
   "metadata": {},
   "outputs": [
    {
     "ename": "TypeError",
     "evalue": "'NoneType' object is not subscriptable",
     "output_type": "error",
     "traceback": [
      "\u001b[1;31m---------------------------------------------------------------------------\u001b[0m",
      "\u001b[1;31mTypeError\u001b[0m                                 Traceback (most recent call last)",
      "\u001b[1;32m<ipython-input-136-ee15e42d29dc>\u001b[0m in \u001b[0;36m<module>\u001b[1;34m\u001b[0m\n\u001b[1;32m----> 1\u001b[1;33m \u001b[0mfs\u001b[0m\u001b[1;33m[\u001b[0m\u001b[0mfs\u001b[0m\u001b[1;33m[\u001b[0m\u001b[1;34m'fs_div'\u001b[0m\u001b[1;33m]\u001b[0m\u001b[1;33m.\u001b[0m\u001b[0mstr\u001b[0m\u001b[1;33m.\u001b[0m\u001b[0mcontains\u001b[0m\u001b[1;33m(\u001b[0m\u001b[1;34m'CFS'\u001b[0m\u001b[1;33m)\u001b[0m\u001b[1;33m]\u001b[0m\u001b[1;33m\u001b[0m\u001b[1;33m\u001b[0m\u001b[0m\n\u001b[0m",
      "\u001b[1;31mTypeError\u001b[0m: 'NoneType' object is not subscriptable"
     ]
    }
   ],
   "source": [
    "fs[fs['fs_div'].str.contains('CFS')]"
   ]
  },
  {
   "cell_type": "code",
   "execution_count": 151,
   "metadata": {},
   "outputs": [],
   "source": [
    "fs_all = dart.finstate_all('LG전자', 2017, reprt_code='11014')"
   ]
  },
  {
   "cell_type": "code",
   "execution_count": 162,
   "metadata": {},
   "outputs": [],
   "source": [
    "dv = dart.report('삼성전자', '배당', 2015, '11013')"
   ]
  },
  {
   "cell_type": "code",
   "execution_count": 163,
   "metadata": {},
   "outputs": [],
   "source": [
    "dv"
   ]
  },
  {
   "cell_type": "code",
   "execution_count": 166,
   "metadata": {},
   "outputs": [
    {
     "data": {
      "text/plain": [
       "1"
      ]
     },
     "execution_count": 166,
     "metadata": {},
     "output_type": "execute_result"
    }
   ],
   "source": [
    "cursor.execute('select * from company_info where company=\"삼성전자\";')"
   ]
  },
  {
   "cell_type": "code",
   "execution_count": 167,
   "metadata": {},
   "outputs": [
    {
     "data": {
      "text/plain": [
       "('005930', '삼성전자', datetime.date(2021, 1, 6))"
      ]
     },
     "execution_count": 167,
     "metadata": {},
     "output_type": "execute_result"
    }
   ],
   "source": [
    "cursor.fetchone()"
   ]
  },
  {
   "cell_type": "code",
   "execution_count": 168,
   "metadata": {},
   "outputs": [
    {
     "data": {
      "text/plain": [
       "1"
      ]
     },
     "execution_count": 168,
     "metadata": {},
     "output_type": "execute_result"
    }
   ],
   "source": [
    "cursor.execute(\"select min(DATE) from daily_price where code='005930';\")"
   ]
  },
  {
   "cell_type": "code",
   "execution_count": 169,
   "metadata": {},
   "outputs": [
    {
     "data": {
      "text/plain": [
       "(datetime.date(2016, 12, 8),)"
      ]
     },
     "execution_count": 169,
     "metadata": {},
     "output_type": "execute_result"
    }
   ],
   "source": [
    "cursor.fetchone()"
   ]
  },
  {
   "cell_type": "code",
   "execution_count": 208,
   "metadata": {},
   "outputs": [
    {
     "data": {
      "text/plain": [
       "2411"
      ]
     },
     "execution_count": 208,
     "metadata": {},
     "output_type": "execute_result"
    }
   ],
   "source": [
    "cursor.execute(\"select company from company_info;\")"
   ]
  },
  {
   "cell_type": "code",
   "execution_count": 209,
   "metadata": {},
   "outputs": [],
   "source": [
    "tt = cursor.fetchall()"
   ]
  },
  {
   "cell_type": "code",
   "execution_count": 211,
   "metadata": {},
   "outputs": [],
   "source": [
    "comp_ls = []\n",
    "for i in range(len(tt)):\n",
    "    comp_ls.append(tt[i][0])"
   ]
  },
  {
   "cell_type": "code",
   "execution_count": 212,
   "metadata": {},
   "outputs": [
    {
     "data": {
      "text/plain": [
       "['동화약품', 'KR모터스', '경방', '메리츠화재', '삼양홀딩스']"
      ]
     },
     "execution_count": 212,
     "metadata": {},
     "output_type": "execute_result"
    }
   ],
   "source": [
    "comp_ls[:5]"
   ]
  },
  {
   "cell_type": "code",
   "execution_count": 213,
   "metadata": {},
   "outputs": [
    {
     "ename": "TypeError",
     "evalue": "'NoneType' object is not subscriptable",
     "output_type": "error",
     "traceback": [
      "\u001b[1;31m---------------------------------------------------------------------------\u001b[0m",
      "\u001b[1;31mTypeError\u001b[0m                                 Traceback (most recent call last)",
      "\u001b[1;32m<ipython-input-213-24304fb2645c>\u001b[0m in \u001b[0;36m<module>\u001b[1;34m\u001b[0m\n\u001b[1;32m----> 1\u001b[1;33m \u001b[0mfinance_QQ_v2\u001b[0m\u001b[1;33m(\u001b[0m\u001b[1;34m'메리츠화재'\u001b[0m\u001b[1;33m,\u001b[0m\u001b[1;36m2017\u001b[0m\u001b[1;33m,\u001b[0m\u001b[1;36m2020\u001b[0m\u001b[1;33m,\u001b[0m\u001b[1;34m'3Q'\u001b[0m\u001b[1;33m)\u001b[0m\u001b[1;33m\u001b[0m\u001b[1;33m\u001b[0m\u001b[0m\n\u001b[0m",
      "\u001b[1;32m<ipython-input-193-0a18bdf5cf8a>\u001b[0m in \u001b[0;36mfinance_QQ_v2\u001b[1;34m(company, From, To, byUnit)\u001b[0m\n\u001b[0;32m     23\u001b[0m         \u001b[0mreprt_code\u001b[0m \u001b[1;33m:\u001b[0m \u001b[1;34m'11013'\u001b[0m \u001b[1;33m=\u001b[0m \u001b[1;36m1\u001b[0m\u001b[0m분기보고서\u001b[0m\u001b[1;33m,\u001b[0m \u001b[1;34m'11012'\u001b[0m \u001b[1;33m=\u001b[0m \u001b[0m반기보고서\u001b[0m\u001b[1;33m,\u001b[0m \u001b[1;34m'11014'\u001b[0m \u001b[1;33m=\u001b[0m \u001b[1;36m3\u001b[0m\u001b[0m분기보고서\u001b[0m\u001b[1;33m,\u001b[0m \u001b[1;34m'11011'\u001b[0m \u001b[1;33m=\u001b[0m \u001b[0m사업보고서\u001b[0m\u001b[1;33m\u001b[0m\u001b[1;33m\u001b[0m\u001b[0m\n\u001b[0;32m     24\u001b[0m         \"\"\"\n\u001b[1;32m---> 25\u001b[1;33m         \u001b[0mfs_cfs\u001b[0m \u001b[1;33m=\u001b[0m \u001b[0mfs\u001b[0m\u001b[1;33m[\u001b[0m\u001b[0mfs\u001b[0m\u001b[1;33m[\u001b[0m\u001b[1;34m'fs_div'\u001b[0m\u001b[1;33m]\u001b[0m\u001b[1;33m.\u001b[0m\u001b[0mstr\u001b[0m\u001b[1;33m.\u001b[0m\u001b[0mcontains\u001b[0m\u001b[1;33m(\u001b[0m\u001b[1;34m'CFS'\u001b[0m\u001b[1;33m)\u001b[0m\u001b[1;33m]\u001b[0m \u001b[1;31m# 재무제표(전체) > 연결\u001b[0m\u001b[1;33m\u001b[0m\u001b[1;33m\u001b[0m\u001b[0m\n\u001b[0m\u001b[0;32m     26\u001b[0m         \u001b[0mfs_is\u001b[0m \u001b[1;33m=\u001b[0m \u001b[0mfs_cfs\u001b[0m\u001b[1;33m[\u001b[0m\u001b[0mfs_cfs\u001b[0m\u001b[1;33m[\u001b[0m\u001b[1;34m'sj_div'\u001b[0m\u001b[1;33m]\u001b[0m\u001b[1;33m.\u001b[0m\u001b[0mstr\u001b[0m\u001b[1;33m.\u001b[0m\u001b[0mcontains\u001b[0m\u001b[1;33m(\u001b[0m\u001b[1;34m'IS'\u001b[0m\u001b[1;33m)\u001b[0m\u001b[1;33m]\u001b[0m \u001b[1;31m# 재무제표(전체) > 손익계산서\u001b[0m\u001b[1;33m\u001b[0m\u001b[1;33m\u001b[0m\u001b[0m\n\u001b[0;32m     27\u001b[0m         \u001b[0mfs_bs\u001b[0m \u001b[1;33m=\u001b[0m \u001b[0mfs_cfs\u001b[0m\u001b[1;33m[\u001b[0m\u001b[0mfs_cfs\u001b[0m\u001b[1;33m[\u001b[0m\u001b[1;34m'sj_div'\u001b[0m\u001b[1;33m]\u001b[0m\u001b[1;33m.\u001b[0m\u001b[0mstr\u001b[0m\u001b[1;33m.\u001b[0m\u001b[0mcontains\u001b[0m\u001b[1;33m(\u001b[0m\u001b[1;34m'BS'\u001b[0m\u001b[1;33m)\u001b[0m\u001b[1;33m]\u001b[0m \u001b[1;31m# 재무제표(전체) > 재무제표\u001b[0m\u001b[1;33m\u001b[0m\u001b[1;33m\u001b[0m\u001b[0m\n",
      "\u001b[1;31mTypeError\u001b[0m: 'NoneType' object is not subscriptable"
     ]
    }
   ],
   "source": [
    "finance_QQ_v2('메리츠화재',2017,2020,'3Q')"
   ]
  },
  {
   "cell_type": "code",
   "execution_count": 217,
   "metadata": {},
   "outputs": [],
   "source": [
    "fs = dart.finstate('메리츠화재',2019,'11014')"
   ]
  },
  {
   "cell_type": "code",
   "execution_count": 218,
   "metadata": {},
   "outputs": [],
   "source": [
    "fs"
   ]
  },
  {
   "cell_type": "code",
   "execution_count": 229,
   "metadata": {},
   "outputs": [
    {
     "data": {
      "text/html": [
       "<div>\n",
       "<style scoped>\n",
       "    .dataframe tbody tr th:only-of-type {\n",
       "        vertical-align: middle;\n",
       "    }\n",
       "\n",
       "    .dataframe tbody tr th {\n",
       "        vertical-align: top;\n",
       "    }\n",
       "\n",
       "    .dataframe thead th {\n",
       "        text-align: right;\n",
       "    }\n",
       "</style>\n",
       "<table border=\"1\" class=\"dataframe\">\n",
       "  <thead>\n",
       "    <tr style=\"text-align: right;\">\n",
       "      <th></th>\n",
       "      <th>rcept_no</th>\n",
       "      <th>corp_cls</th>\n",
       "      <th>corp_code</th>\n",
       "      <th>corp_name</th>\n",
       "      <th>se</th>\n",
       "      <th>thstrm</th>\n",
       "      <th>frmtrm</th>\n",
       "      <th>lwfr</th>\n",
       "      <th>stock_knd</th>\n",
       "    </tr>\n",
       "  </thead>\n",
       "  <tbody>\n",
       "    <tr>\n",
       "      <th>0</th>\n",
       "      <td>20160516002923</td>\n",
       "      <td>Y</td>\n",
       "      <td>00117744</td>\n",
       "      <td>메리츠화재</td>\n",
       "      <td>주당액면가액(원)</td>\n",
       "      <td>500</td>\n",
       "      <td>500</td>\n",
       "      <td>500</td>\n",
       "      <td>NaN</td>\n",
       "    </tr>\n",
       "    <tr>\n",
       "      <th>1</th>\n",
       "      <td>20160516002923</td>\n",
       "      <td>Y</td>\n",
       "      <td>00117744</td>\n",
       "      <td>메리츠화재</td>\n",
       "      <td>(연결)당기순이익(백만원)</td>\n",
       "      <td>168,517</td>\n",
       "      <td>114,549</td>\n",
       "      <td>132,649</td>\n",
       "      <td>NaN</td>\n",
       "    </tr>\n",
       "    <tr>\n",
       "      <th>2</th>\n",
       "      <td>20160516002923</td>\n",
       "      <td>Y</td>\n",
       "      <td>00117744</td>\n",
       "      <td>메리츠화재</td>\n",
       "      <td>주당순이익(원)</td>\n",
       "      <td>1,600</td>\n",
       "      <td>1,128</td>\n",
       "      <td>1,312</td>\n",
       "      <td>NaN</td>\n",
       "    </tr>\n",
       "    <tr>\n",
       "      <th>3</th>\n",
       "      <td>20160516002923</td>\n",
       "      <td>Y</td>\n",
       "      <td>00117744</td>\n",
       "      <td>메리츠화재</td>\n",
       "      <td>현금배당금총액(백만원)</td>\n",
       "      <td>60,168</td>\n",
       "      <td>39,960</td>\n",
       "      <td>32,155</td>\n",
       "      <td>NaN</td>\n",
       "    </tr>\n",
       "    <tr>\n",
       "      <th>4</th>\n",
       "      <td>20160516002923</td>\n",
       "      <td>Y</td>\n",
       "      <td>00117744</td>\n",
       "      <td>메리츠화재</td>\n",
       "      <td>주식배당금총액(백만원)</td>\n",
       "      <td>-</td>\n",
       "      <td>-</td>\n",
       "      <td>-</td>\n",
       "      <td>NaN</td>\n",
       "    </tr>\n",
       "    <tr>\n",
       "      <th>5</th>\n",
       "      <td>20160516002923</td>\n",
       "      <td>Y</td>\n",
       "      <td>00117744</td>\n",
       "      <td>메리츠화재</td>\n",
       "      <td>(연결)현금배당성향(%)</td>\n",
       "      <td>35.70</td>\n",
       "      <td>34.90</td>\n",
       "      <td>24.20</td>\n",
       "      <td>NaN</td>\n",
       "    </tr>\n",
       "    <tr>\n",
       "      <th>6</th>\n",
       "      <td>20160516002923</td>\n",
       "      <td>Y</td>\n",
       "      <td>00117744</td>\n",
       "      <td>메리츠화재</td>\n",
       "      <td>현금배당수익률(%)</td>\n",
       "      <td>3.60</td>\n",
       "      <td>3.10</td>\n",
       "      <td>2.10</td>\n",
       "      <td>보통주</td>\n",
       "    </tr>\n",
       "    <tr>\n",
       "      <th>7</th>\n",
       "      <td>20160516002923</td>\n",
       "      <td>Y</td>\n",
       "      <td>00117744</td>\n",
       "      <td>메리츠화재</td>\n",
       "      <td>현금배당수익률(%)</td>\n",
       "      <td>-</td>\n",
       "      <td>-</td>\n",
       "      <td>-</td>\n",
       "      <td>NaN</td>\n",
       "    </tr>\n",
       "    <tr>\n",
       "      <th>8</th>\n",
       "      <td>20160516002923</td>\n",
       "      <td>Y</td>\n",
       "      <td>00117744</td>\n",
       "      <td>메리츠화재</td>\n",
       "      <td>주식배당수익률(%)</td>\n",
       "      <td>-</td>\n",
       "      <td>-</td>\n",
       "      <td>-</td>\n",
       "      <td>보통주</td>\n",
       "    </tr>\n",
       "    <tr>\n",
       "      <th>9</th>\n",
       "      <td>20160516002923</td>\n",
       "      <td>Y</td>\n",
       "      <td>00117744</td>\n",
       "      <td>메리츠화재</td>\n",
       "      <td>주식배당수익률(%)</td>\n",
       "      <td>-</td>\n",
       "      <td>-</td>\n",
       "      <td>-</td>\n",
       "      <td>NaN</td>\n",
       "    </tr>\n",
       "    <tr>\n",
       "      <th>10</th>\n",
       "      <td>20160516002923</td>\n",
       "      <td>Y</td>\n",
       "      <td>00117744</td>\n",
       "      <td>메리츠화재</td>\n",
       "      <td>주당 현금배당금(원)</td>\n",
       "      <td>570</td>\n",
       "      <td>380</td>\n",
       "      <td>320</td>\n",
       "      <td>보통주</td>\n",
       "    </tr>\n",
       "    <tr>\n",
       "      <th>11</th>\n",
       "      <td>20160516002923</td>\n",
       "      <td>Y</td>\n",
       "      <td>00117744</td>\n",
       "      <td>메리츠화재</td>\n",
       "      <td>주당 현금배당금(원)</td>\n",
       "      <td>-</td>\n",
       "      <td>-</td>\n",
       "      <td>-</td>\n",
       "      <td>NaN</td>\n",
       "    </tr>\n",
       "    <tr>\n",
       "      <th>12</th>\n",
       "      <td>20160516002923</td>\n",
       "      <td>Y</td>\n",
       "      <td>00117744</td>\n",
       "      <td>메리츠화재</td>\n",
       "      <td>주당 주식배당(주)</td>\n",
       "      <td>-</td>\n",
       "      <td>-</td>\n",
       "      <td>-</td>\n",
       "      <td>보통주</td>\n",
       "    </tr>\n",
       "    <tr>\n",
       "      <th>13</th>\n",
       "      <td>20160516002923</td>\n",
       "      <td>Y</td>\n",
       "      <td>00117744</td>\n",
       "      <td>메리츠화재</td>\n",
       "      <td>주당 주식배당(주)</td>\n",
       "      <td>-</td>\n",
       "      <td>-</td>\n",
       "      <td>-</td>\n",
       "      <td>NaN</td>\n",
       "    </tr>\n",
       "  </tbody>\n",
       "</table>\n",
       "</div>"
      ],
      "text/plain": [
       "          rcept_no corp_cls corp_code corp_name              se   thstrm  \\\n",
       "0   20160516002923        Y  00117744     메리츠화재       주당액면가액(원)      500   \n",
       "1   20160516002923        Y  00117744     메리츠화재  (연결)당기순이익(백만원)  168,517   \n",
       "2   20160516002923        Y  00117744     메리츠화재        주당순이익(원)    1,600   \n",
       "3   20160516002923        Y  00117744     메리츠화재    현금배당금총액(백만원)   60,168   \n",
       "4   20160516002923        Y  00117744     메리츠화재    주식배당금총액(백만원)        -   \n",
       "5   20160516002923        Y  00117744     메리츠화재   (연결)현금배당성향(%)    35.70   \n",
       "6   20160516002923        Y  00117744     메리츠화재      현금배당수익률(%)     3.60   \n",
       "7   20160516002923        Y  00117744     메리츠화재      현금배당수익률(%)        -   \n",
       "8   20160516002923        Y  00117744     메리츠화재      주식배당수익률(%)        -   \n",
       "9   20160516002923        Y  00117744     메리츠화재      주식배당수익률(%)        -   \n",
       "10  20160516002923        Y  00117744     메리츠화재     주당 현금배당금(원)      570   \n",
       "11  20160516002923        Y  00117744     메리츠화재     주당 현금배당금(원)        -   \n",
       "12  20160516002923        Y  00117744     메리츠화재      주당 주식배당(주)        -   \n",
       "13  20160516002923        Y  00117744     메리츠화재      주당 주식배당(주)        -   \n",
       "\n",
       "     frmtrm     lwfr stock_knd  \n",
       "0       500      500       NaN  \n",
       "1   114,549  132,649       NaN  \n",
       "2     1,128    1,312       NaN  \n",
       "3    39,960   32,155       NaN  \n",
       "4         -        -       NaN  \n",
       "5     34.90    24.20       NaN  \n",
       "6      3.10     2.10       보통주  \n",
       "7         -        -       NaN  \n",
       "8         -        -       보통주  \n",
       "9         -        -       NaN  \n",
       "10      380      320       보통주  \n",
       "11        -        -       NaN  \n",
       "12        -        -       보통주  \n",
       "13        -        -       NaN  "
      ]
     },
     "execution_count": 229,
     "metadata": {},
     "output_type": "execute_result"
    }
   ],
   "source": [
    "dart.report('메리츠화재','배당',2016,'11013')"
   ]
  },
  {
   "cell_type": "code",
   "execution_count": 230,
   "metadata": {},
   "outputs": [],
   "source": [
    "dart.finstate('메리츠화재',2016,'11013')"
   ]
  },
  {
   "cell_type": "code",
   "execution_count": null,
   "metadata": {},
   "outputs": [],
   "source": []
  },
  {
   "cell_type": "code",
   "execution_count": null,
   "metadata": {},
   "outputs": [],
   "source": []
  },
  {
   "cell_type": "code",
   "execution_count": null,
   "metadata": {},
   "outputs": [],
   "source": []
  },
  {
   "cell_type": "code",
   "execution_count": 177,
   "metadata": {},
   "outputs": [],
   "source": [
    "fs = dart.finstate('SK하이닉스', 2019, reprt_code='11014') # 재무제표(전체)\n",
    "#        reprt_code : '11013' = 1분기보고서, '11012' = 반기보고서, '11014' = 3분기보고서, '11011' = 사업보고서\n",
    "fs_all = dart.finstate_all('SK하이닉스',2019,reprt_code='11014')"
   ]
  },
  {
   "cell_type": "code",
   "execution_count": 190,
   "metadata": {},
   "outputs": [],
   "source": [
    "dvv = dart.report('SK하이닉스','배당',2020,'11013')"
   ]
  },
  {
   "cell_type": "code",
   "execution_count": 191,
   "metadata": {},
   "outputs": [
    {
     "ename": "ValueError",
     "evalue": "invalid literal for int() with base 10: '-'",
     "output_type": "error",
     "traceback": [
      "\u001b[1;31m---------------------------------------------------------------------------\u001b[0m",
      "\u001b[1;31mValueError\u001b[0m                                Traceback (most recent call last)",
      "\u001b[1;32m<ipython-input-191-c6111990cf81>\u001b[0m in \u001b[0;36m<module>\u001b[1;34m\u001b[0m\n\u001b[1;32m----> 1\u001b[1;33m \u001b[0mint\u001b[0m\u001b[1;33m(\u001b[0m\u001b[0mdvv\u001b[0m\u001b[1;33m[\u001b[0m\u001b[0mdvv\u001b[0m\u001b[1;33m[\u001b[0m\u001b[1;34m'se'\u001b[0m\u001b[1;33m]\u001b[0m\u001b[1;33m.\u001b[0m\u001b[0mstr\u001b[0m\u001b[1;33m.\u001b[0m\u001b[0mcontains\u001b[0m\u001b[1;33m(\u001b[0m\u001b[1;34m'주당순이익'\u001b[0m\u001b[1;33m)\u001b[0m\u001b[1;33m]\u001b[0m\u001b[1;33m[\u001b[0m\u001b[1;33m[\u001b[0m\u001b[1;34m'thstrm'\u001b[0m\u001b[1;33m]\u001b[0m\u001b[1;33m]\u001b[0m\u001b[1;33m.\u001b[0m\u001b[0miloc\u001b[0m\u001b[1;33m[\u001b[0m\u001b[1;36m0\u001b[0m\u001b[1;33m,\u001b[0m\u001b[1;36m0\u001b[0m\u001b[1;33m]\u001b[0m\u001b[1;33m.\u001b[0m\u001b[0mreplace\u001b[0m\u001b[1;33m(\u001b[0m\u001b[1;34m','\u001b[0m\u001b[1;33m,\u001b[0m\u001b[1;34m''\u001b[0m\u001b[1;33m)\u001b[0m\u001b[1;33m.\u001b[0m\u001b[0mstrip\u001b[0m\u001b[1;33m(\u001b[0m\u001b[1;33m)\u001b[0m\u001b[1;33m)\u001b[0m\u001b[1;33m\u001b[0m\u001b[1;33m\u001b[0m\u001b[0m\n\u001b[0m",
      "\u001b[1;31mValueError\u001b[0m: invalid literal for int() with base 10: '-'"
     ]
    }
   ],
   "source": [
    "int(dvv[dvv['se'].str.contains('주당순이익')][['thstrm']].iloc[0,0].replace(',','').strip())"
   ]
  },
  {
   "cell_type": "code",
   "execution_count": 192,
   "metadata": {},
   "outputs": [
    {
     "data": {
      "text/html": [
       "<div>\n",
       "<style scoped>\n",
       "    .dataframe tbody tr th:only-of-type {\n",
       "        vertical-align: middle;\n",
       "    }\n",
       "\n",
       "    .dataframe tbody tr th {\n",
       "        vertical-align: top;\n",
       "    }\n",
       "\n",
       "    .dataframe thead th {\n",
       "        text-align: right;\n",
       "    }\n",
       "</style>\n",
       "<table border=\"1\" class=\"dataframe\">\n",
       "  <thead>\n",
       "    <tr style=\"text-align: right;\">\n",
       "      <th></th>\n",
       "      <th>rcept_no</th>\n",
       "      <th>corp_cls</th>\n",
       "      <th>corp_code</th>\n",
       "      <th>corp_name</th>\n",
       "      <th>se</th>\n",
       "      <th>thstrm</th>\n",
       "      <th>frmtrm</th>\n",
       "      <th>lwfr</th>\n",
       "    </tr>\n",
       "  </thead>\n",
       "  <tbody>\n",
       "    <tr>\n",
       "      <th>3</th>\n",
       "      <td>20200515002346</td>\n",
       "      <td>Y</td>\n",
       "      <td>00164779</td>\n",
       "      <td>SK하이닉스</td>\n",
       "      <td>(연결)주당순이익(원)</td>\n",
       "      <td>-</td>\n",
       "      <td>-</td>\n",
       "      <td>-</td>\n",
       "    </tr>\n",
       "  </tbody>\n",
       "</table>\n",
       "</div>"
      ],
      "text/plain": [
       "         rcept_no corp_cls corp_code corp_name            se thstrm frmtrm  \\\n",
       "3  20200515002346        Y  00164779    SK하이닉스  (연결)주당순이익(원)      -      -   \n",
       "\n",
       "  lwfr  \n",
       "3    -  "
      ]
     },
     "execution_count": 192,
     "metadata": {},
     "output_type": "execute_result"
    }
   ],
   "source": [
    "dvv[dvv['se'].str.contains('주당순이익')]"
   ]
  },
  {
   "cell_type": "code",
   "execution_count": null,
   "metadata": {},
   "outputs": [],
   "source": []
  },
  {
   "cell_type": "code",
   "execution_count": null,
   "metadata": {},
   "outputs": [],
   "source": []
  },
  {
   "cell_type": "code",
   "execution_count": null,
   "metadata": {},
   "outputs": [],
   "source": []
  }
 ],
 "metadata": {
  "kernelspec": {
   "display_name": "Python 3",
   "language": "python",
   "name": "python3"
  },
  "language_info": {
   "codemirror_mode": {
    "name": "ipython",
    "version": 3
   },
   "file_extension": ".py",
   "mimetype": "text/x-python",
   "name": "python",
   "nbconvert_exporter": "python",
   "pygments_lexer": "ipython3",
   "version": "3.6.8"
  }
 },
 "nbformat": 4,
 "nbformat_minor": 4
}
