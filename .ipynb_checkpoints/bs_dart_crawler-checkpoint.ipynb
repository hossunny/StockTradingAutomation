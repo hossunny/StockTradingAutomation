{
 "cells": [
  {
   "cell_type": "code",
   "execution_count": 1,
   "metadata": {},
   "outputs": [],
   "source": [
    "import logging, os, pickle\n",
    "import requests, glob\n",
    "from datetime import datetime\n",
    "from bs4 import BeautifulSoup\n",
    "from datetime import datetime\n",
    "import pandas as pd\n",
    "import time\n",
    "from datetime import date\n",
    "import urllib.request\n",
    "from selenium.webdriver import Chrome\n",
    "import json, re, sys, h5py\n",
    "from selenium.webdriver.chrome.options import Options\n",
    "from selenium.webdriver.common.keys import Keys\n",
    "import datetime as dt\n",
    "import pymysql\n",
    "import matplotlib.pyplot as plt\n",
    "from selenium.webdriver.support.ui import WebDriverWait\n",
    "from selenium.webdriver.support import expected_conditions as EC\n",
    "from selenium.webdriver.common.by import By\n",
    "from pykrx import stock\n",
    "import shutil\n",
    "import pyautogui"
   ]
  },
  {
   "cell_type": "code",
   "execution_count": 2,
   "metadata": {},
   "outputs": [],
   "source": [
    "url = \"http://dart.fss.or.kr/dsaf001/main.do?rcpNo=20201116001248\"\n",
    "res = requests.get(url)\n",
    "res.raise_for_status()"
   ]
  },
  {
   "cell_type": "code",
   "execution_count": 4,
   "metadata": {
    "collapsed": true,
    "jupyter": {
     "outputs_hidden": true
    }
   },
   "outputs": [
    {
     "data": {
      "text/plain": [
       "'\\n\\n\\n<!DOCTYPE HTML PUBLIC \"-//W3C//DTD HTML 4.01 Transitional//EN\" \"http://www.w3.org/TR/html4/loose.dtd\">\\n<html>\\n<head>\\n<title>\\n삼성전자/분기보고서/2020.11.16\\n</title>\\n<meta http-equiv=\"X-UA-Compatible\" content=\"IE=EmulateIE8\" >\\n<meta http-equiv=\"Content-Type\" content=\"text/html; charset=utf-8\" >\\n<style type=\"text/css\">\\n    .x-window-dlg .ext-mb-download {\\n        background:transparent url(images/download.gif) no-repeat top left;\\n        height:46px;\\n    }\\n</style>\\n<link rel=\"stylesheet\" type=\"text/css\" href=\"/css/viewer.css\" charset=\"utf-8\">\\n<script type=\"text/javascript\" src=\"/js/prototype.js\"></script>\\n<script type=\"text/javascript\" src=\"/js/jquery/jquery-all.js\"></script>\\n\\n<!-- 2014.03.11 ext 3.4 -->\\n<!--[if lte IE 8]><link rel=\"stylesheet\" type=\"text/css\" href=\"/js/ext-viewer/resources/css/ext-all-ie8.css\" ><![endif]-->\\n<!--[if (gte IE 9)|!(IE)]><!--><link rel=\"stylesheet\" type=\"text/css\" href=\"/js/ext-viewer/resources/css/ext-all.css\" ><!--<![endif]-->\\n<script type=\"text/javascript\" src=\"/js/ext-viewer/adapter/ext/ext-base.js\"></script>\\n<script type=\"text/javascript\" src=\"/js/ext-viewer/ext-all.js\"></script>\\n\\n<!-- application css -->\\n<link rel=\"stylesheet\" href=\"/css/report_c.css\" type=\"text/css\" media=\"screen\">\\n<link rel=\"stylesheet\" type=\"text/css\" href=\"/css/viewer/report_dart.css\" charset=\"utf-8\">\\n<link rel=\"stylesheet\" type=\"text/css\" href=\"/css/viewer/report_pop.css\" charset=\"utf-8\">\\n\\n<!-- x-xeries js libraries  -->\\n<script type=\"text/javascript\" src=\"/js/xjs.js\"></script>\\n<script type=\"text/javascript\" src=\"/js/dart/build/ds-all-min.js\"></script>\\n<script type=\"text/javascript\" src=\"/js/viewer/popup.js\"></script>\\n\\n<script type=\"text/javascript\" src=\"/js/idart/idart.js\"></script><!-- idart용 -->\\n<script type=\"text/javascript\">\\n\\nvar winTestNotice = null;\\t// xwindow object\\nvar divTestNotice = \"divTestNoticeWin\";\\t// ajax 수신 div\\n$j(document).ready(function() {\\n\\tinitPage();\\n\\n\\tinitScroll();\\n\\t$j(window).resize(function(){\\n\\t\\t$j(\"#center-panel > div > div\").resize(resizeFrame);\\n\\t\\tresizeFrame();\\n\\t}).resize();\\n});\\n\\n\\nvar resizeFrame = function() {\\n\\tw\\t= parseInt($j(\"#center-panel > div > div\").css(\"width\"));\\n\\th\\t= parseInt($j(\"#center-panel > div > div\").css(\"height\"));\\n\\t//$j(\"#ifrm\").css(\"width\", (w - 12) + \"px\");\\n\\t\\n\\t\\t\\n\\t\\n\\t$j(\"#ifrm\").css(\"height\", h + \"px\");\\n\\t$j(\"#mobileScroll\").css(\"height\", h + \"px\");\\n};\\n\\nvar west;\\n\\n//모바일(ios)에서 본문내용 스크롤 추가\\nfunction initScroll() {\\n\\tvar iosKeywords = new Array(\"iPhone\",\"iPod\",\"iPad\");\\n\\tfor(var i=0; i<iosKeywords.length; i++){\\n\\t\\tif(navigator.userAgent.indexOf(iosKeywords[i]) > -1) {\\n\\t\\t\\t$j(\"#mobileScroll\").css(\"overflow\",\"auto\");\\n\\t\\t\\t$j(\"#mobileScroll\").css(\"-webkit-overflow-scrolling\",\"touch\");\\n\\t\\t\\t$j(\"#mobileScroll\").css(\"width\",\"100%\");\\n\\t\\t}\\n\\t}\\n}\\n\\nfunction initPage() {\\n\\n\\tinitCorpInfo();\\t// 기업개황팝업 초기화\\n\\n\\tExt.BLANK_IMAGE_URL = \"/js/extjs/resources/images/default/s.gif\";\\n\\n\\tExt.state.Manager.setProvider(new Ext.state.CookieProvider());\\n\\n\\tvar north = new Ext.BoxComponent({\\n\\t    region:\\'north\\',\\n\\t    el: \\'north\\',\\n\\t    height:74\\n\\t});\\n\\n\\tvar Tree = Ext.tree;\\n\\n\\tvar treeRoot = new Tree.TreeNode({\\n\\t\\ttext: \"전체\",\\n\\t\\tid: \"root\",\\n\\t\\thref: \"javascript: viewDoc(\\'20201116001248\\', \\'7549051\\', null, null, null, \\'dart3.xsd\\')\"\\n\\t});\\n\\n\\twest = new Tree.TreePanel({\\n\\t\\tid:\"west-panel\",\\n\\t\\ttitle:\"문서목차\",\\n\\t\\tregion:\"west\",\\n\\t\\tsplit:true,\\n\\t\\tautoScroll:true,\\n\\t\\twidth: 200,\\n\\t\\tminSize: 175,\\n\\t\\tmaxSize: 400,\\n\\t\\tcollapsible: true,\\n\\t\\tcollapsed: false,\\n\\t\\tmargins:\"5 0 5 5\",\\n\\t\\tanimate:false,\\n\\t\\tuseArrows:false,\\n\\t\\tloader: new Tree.TreeLoader(),\\n\\t\\tenableDD:false,\\n\\t\\tcontainerScroll: true,\\n\\t\\tchecked: false,\\n\\t\\trootVisible: false,\\n\\t\\ttitleCollapse: false\\n\\t});\\n\\n\\tvar cnt = 0;\\n\\n\\t\\n\\t\\n\\t\\t// 1\\n\\t\\ttreeNode1 = new Tree.TreeNode({\\n\\t\\t\\ttext: \"분 기 보 고 서\",\\n\\t\\t\\tid: \"1\",\\n\\t\\t\\tcls: \"text\",\\n\\t\\t\\tlisteners: {\\n\\t\\t\\t\\tclick: function() {viewDoc(\\'20201116001248\\', \\'7549051\\', \\'1\\', \\'670\\', \\'4090\\', \\'dart3.xsd\\');}\\n\\t\\t\\t}\\n\\t\\t});\\n\\t\\tcnt++;\\n\\t\\t\\n\\t\\ttreeRoot.appendChild(treeNode1);\\n\\t\\t\\n\\t\\t\\t\\n\\t\\t\\t\\n\\t\\t\\n\\t\\n\\t\\t// 2\\n\\t\\ttreeNode1 = new Tree.TreeNode({\\n\\t\\t\\ttext: \"【 대표이사 등의 확인 】\",\\n\\t\\t\\tid: \"2\",\\n\\t\\t\\tcls: \"text\",\\n\\t\\t\\tlisteners: {\\n\\t\\t\\t\\tclick: function() {viewDoc(\\'20201116001248\\', \\'7549051\\', \\'2\\', \\'12797\\', \\'456\\', \\'dart3.xsd\\');}\\n\\t\\t\\t}\\n\\t\\t});\\n\\t\\tcnt++;\\n\\t\\t\\n\\t\\ttreeRoot.appendChild(treeNode1);\\n\\t\\t\\n\\t\\n\\t\\t// 3\\n\\t\\ttreeNode1 = new Tree.TreeNode({\\n\\t\\t\\ttext: \"I. 회사의 개요\",\\n\\t\\t\\tid: \"3\",\\n\\t\\t\\tcls: \"text\",\\n\\t\\t\\tlisteners: {\\n\\t\\t\\t\\tclick: function() {viewDoc(\\'20201116001248\\', \\'7549051\\', \\'3\\', \\'13257\\', \\'343055\\', \\'dart3.xsd\\');}\\n\\t\\t\\t}\\n\\t\\t});\\n\\t\\tcnt++;\\n\\t\\t\\n\\t\\ttreeNode2 = new Tree.TreeNode({\\n\\t\\t\\ttext: \"1. 회사의 개요\",\\n\\t\\t\\tid: \"4\",\\n\\t\\t\\tcls: \"text\",\\n\\t\\t\\tlisteners: {\\n\\t\\t\\t\\tclick: function() {viewDoc(\\'20201116001248\\', \\'7549051\\', \\'4\\', \\'13356\\', \\'239281\\', \\'dart3.xsd\\');}\\n\\t\\t\\t}\\n\\t\\t});\\n\\t\\tcnt++;\\n\\t\\t\\t\\n\\t\\ttreeNode1.appendChild(treeNode2);\\n\\t\\t\\n\\t\\ttreeNode2 = new Tree.TreeNode({\\n\\t\\t\\ttext: \"2. 회사의 연혁\",\\n\\t\\t\\tid: \"5\",\\n\\t\\t\\tcls: \"text\",\\n\\t\\t\\tlisteners: {\\n\\t\\t\\t\\tclick: function() {viewDoc(\\'20201116001248\\', \\'7549051\\', \\'5\\', \\'252641\\', \\'15964\\', \\'dart3.xsd\\');}\\n\\t\\t\\t}\\n\\t\\t});\\n\\t\\tcnt++;\\n\\t\\t\\t\\n\\t\\ttreeNode1.appendChild(treeNode2);\\n\\t\\t\\n\\t\\ttreeNode2 = new Tree.TreeNode({\\n\\t\\t\\ttext: \"3. 자본금 변동사항\",\\n\\t\\t\\tid: \"6\",\\n\\t\\t\\tcls: \"text\",\\n\\t\\t\\tlisteners: {\\n\\t\\t\\t\\tclick: function() {viewDoc(\\'20201116001248\\', \\'7549051\\', \\'6\\', \\'268609\\', \\'3817\\', \\'dart3.xsd\\');}\\n\\t\\t\\t}\\n\\t\\t});\\n\\t\\tcnt++;\\n\\t\\t\\t\\n\\t\\ttreeNode1.appendChild(treeNode2);\\n\\t\\t\\n\\t\\ttreeNode2 = new Tree.TreeNode({\\n\\t\\t\\ttext: \"4. 주식의 총수 등\",\\n\\t\\t\\tid: \"7\",\\n\\t\\t\\tcls: \"text\",\\n\\t\\t\\tlisteners: {\\n\\t\\t\\t\\tclick: function() {viewDoc(\\'20201116001248\\', \\'7549051\\', \\'7\\', \\'272430\\', \\'62327\\', \\'dart3.xsd\\');}\\n\\t\\t\\t}\\n\\t\\t});\\n\\t\\tcnt++;\\n\\t\\t\\t\\n\\t\\ttreeNode1.appendChild(treeNode2);\\n\\t\\t\\n\\t\\ttreeNode2 = new Tree.TreeNode({\\n\\t\\t\\ttext: \"5. 의결권 현황\",\\n\\t\\t\\tid: \"8\",\\n\\t\\t\\tcls: \"text\",\\n\\t\\t\\tlisteners: {\\n\\t\\t\\t\\tclick: function() {viewDoc(\\'20201116001248\\', \\'7549051\\', \\'8\\', \\'334761\\', \\'7784\\', \\'dart3.xsd\\');}\\n\\t\\t\\t}\\n\\t\\t});\\n\\t\\tcnt++;\\n\\t\\t\\t\\n\\t\\ttreeNode1.appendChild(treeNode2);\\n\\t\\t\\n\\t\\ttreeNode2 = new Tree.TreeNode({\\n\\t\\t\\ttext: \"6. 배당에 관한 사항 등\",\\n\\t\\t\\tid: \"9\",\\n\\t\\t\\tcls: \"text\",\\n\\t\\t\\tlisteners: {\\n\\t\\t\\t\\tclick: function() {viewDoc(\\'20201116001248\\', \\'7549051\\', \\'9\\', \\'342549\\', \\'13749\\', \\'dart3.xsd\\');}\\n\\t\\t\\t}\\n\\t\\t});\\n\\t\\tcnt++;\\n\\t\\t\\t\\n\\t\\ttreeNode1.appendChild(treeNode2);\\n\\t\\t\\n\\t\\ttreeRoot.appendChild(treeNode1);\\n\\t\\t\\n\\t\\n\\t\\t// 4\\n\\t\\ttreeNode1 = new Tree.TreeNode({\\n\\t\\t\\ttext: \"II. 사업의 내용\",\\n\\t\\t\\tid: \"10\",\\n\\t\\t\\tcls: \"text\",\\n\\t\\t\\tlisteners: {\\n\\t\\t\\t\\tclick: function() {viewDoc(\\'20201116001248\\', \\'7549051\\', \\'10\\', \\'356316\\', \\'262043\\', \\'dart3.xsd\\');}\\n\\t\\t\\t}\\n\\t\\t});\\n\\t\\tcnt++;\\n\\t\\t\\n\\t\\ttreeRoot.appendChild(treeNode1);\\n\\t\\t\\n\\t\\n\\t\\t// 5\\n\\t\\ttreeNode1 = new Tree.TreeNode({\\n\\t\\t\\ttext: \"III. 재무에 관한 사항\",\\n\\t\\t\\tid: \"11\",\\n\\t\\t\\tcls: \"text\",\\n\\t\\t\\tlisteners: {\\n\\t\\t\\t\\tclick: function() {viewDoc(\\'20201116001248\\', \\'7549051\\', \\'11\\', \\'618363\\', \\'1092399\\', \\'dart3.xsd\\');}\\n\\t\\t\\t}\\n\\t\\t});\\n\\t\\tcnt++;\\n\\t\\t\\n\\t\\ttreeNode2 = new Tree.TreeNode({\\n\\t\\t\\ttext: \"1. 요약재무정보\",\\n\\t\\t\\tid: \"12\",\\n\\t\\t\\tcls: \"text\",\\n\\t\\t\\tlisteners: {\\n\\t\\t\\t\\tclick: function() {viewDoc(\\'20201116001248\\', \\'7549051\\', \\'12\\', \\'618490\\', \\'21671\\', \\'dart3.xsd\\');}\\n\\t\\t\\t}\\n\\t\\t});\\n\\t\\tcnt++;\\n\\t\\t\\t\\n\\t\\ttreeNode1.appendChild(treeNode2);\\n\\t\\t\\n\\t\\ttreeNode2 = new Tree.TreeNode({\\n\\t\\t\\ttext: \"2. 연결재무제표\",\\n\\t\\t\\tid: \"13\",\\n\\t\\t\\tcls: \"text\",\\n\\t\\t\\tlisteners: {\\n\\t\\t\\t\\tclick: function() {viewDoc(\\'20201116001248\\', \\'7549051\\', \\'13\\', \\'640406\\', \\'83173\\', \\'dart3.xsd\\');}\\n\\t\\t\\t}\\n\\t\\t});\\n\\t\\tcnt++;\\n\\t\\t\\t\\n\\t\\ttreeNode1.appendChild(treeNode2);\\n\\t\\t\\n\\t\\ttreeNode2 = new Tree.TreeNode({\\n\\t\\t\\ttext: \"3. 연결재무제표 주석\",\\n\\t\\t\\tid: \"14\",\\n\\t\\t\\tcls: \"text\",\\n\\t\\t\\tlisteners: {\\n\\t\\t\\t\\tclick: function() {viewDoc(\\'20201116001248\\', \\'7549051\\', \\'14\\', \\'723583\\', \\'385270\\', \\'dart3.xsd\\');}\\n\\t\\t\\t}\\n\\t\\t});\\n\\t\\tcnt++;\\n\\t\\t\\t\\n\\t\\ttreeNode1.appendChild(treeNode2);\\n\\t\\t\\n\\t\\ttreeNode2 = new Tree.TreeNode({\\n\\t\\t\\ttext: \"4. 재무제표\",\\n\\t\\t\\tid: \"15\",\\n\\t\\t\\tcls: \"text\",\\n\\t\\t\\tlisteners: {\\n\\t\\t\\t\\tclick: function() {viewDoc(\\'20201116001248\\', \\'7549051\\', \\'15\\', \\'1108857\\', \\'61409\\', \\'dart3.xsd\\');}\\n\\t\\t\\t}\\n\\t\\t});\\n\\t\\tcnt++;\\n\\t\\t\\t\\n\\t\\ttreeNode1.appendChild(treeNode2);\\n\\t\\t\\n\\t\\ttreeNode2 = new Tree.TreeNode({\\n\\t\\t\\ttext: \"5. 재무제표 주석\",\\n\\t\\t\\tid: \"16\",\\n\\t\\t\\tcls: \"text\",\\n\\t\\t\\tlisteners: {\\n\\t\\t\\t\\tclick: function() {viewDoc(\\'20201116001248\\', \\'7549051\\', \\'16\\', \\'1170270\\', \\'301398\\', \\'dart3.xsd\\');}\\n\\t\\t\\t}\\n\\t\\t});\\n\\t\\tcnt++;\\n\\t\\t\\t\\n\\t\\ttreeNode1.appendChild(treeNode2);\\n\\t\\t\\n\\t\\ttreeNode2 = new Tree.TreeNode({\\n\\t\\t\\ttext: \"6. 기타 재무에 관한 사항\",\\n\\t\\t\\tid: \"17\",\\n\\t\\t\\tcls: \"text\",\\n\\t\\t\\tlisteners: {\\n\\t\\t\\t\\tclick: function() {viewDoc(\\'20201116001248\\', \\'7549051\\', \\'17\\', \\'1471698\\', \\'239050\\', \\'dart3.xsd\\');}\\n\\t\\t\\t}\\n\\t\\t});\\n\\t\\tcnt++;\\n\\t\\t\\t\\n\\t\\ttreeNode1.appendChild(treeNode2);\\n\\t\\t\\n\\t\\ttreeRoot.appendChild(treeNode1);\\n\\t\\t\\n\\t\\n\\t\\t// 6\\n\\t\\ttreeNode1 = new Tree.TreeNode({\\n\\t\\t\\ttext: \"IV. 이사의 경영진단 및 분석의견\",\\n\\t\\t\\tid: \"18\",\\n\\t\\t\\tcls: \"text\",\\n\\t\\t\\tlisteners: {\\n\\t\\t\\t\\tclick: function() {viewDoc(\\'20201116001248\\', \\'7549051\\', \\'18\\', \\'1710766\\', \\'310\\', \\'dart3.xsd\\');}\\n\\t\\t\\t}\\n\\t\\t});\\n\\t\\tcnt++;\\n\\t\\t\\n\\t\\ttreeRoot.appendChild(treeNode1);\\n\\t\\t\\n\\t\\n\\t\\t// 7\\n\\t\\ttreeNode1 = new Tree.TreeNode({\\n\\t\\t\\ttext: \"V. 감사인의 감사의견 등\",\\n\\t\\t\\tid: \"19\",\\n\\t\\t\\tcls: \"text\",\\n\\t\\t\\tlisteners: {\\n\\t\\t\\t\\tclick: function() {viewDoc(\\'20201116001248\\', \\'7549051\\', \\'19\\', \\'1711080\\', \\'40021\\', \\'dart3.xsd\\');}\\n\\t\\t\\t}\\n\\t\\t});\\n\\t\\tcnt++;\\n\\t\\t\\n\\t\\ttreeRoot.appendChild(treeNode1);\\n\\t\\t\\n\\t\\n\\t\\t// 8\\n\\t\\ttreeNode1 = new Tree.TreeNode({\\n\\t\\t\\ttext: \"VI. 이사회 등 회사의 기관에 관한 사항\",\\n\\t\\t\\tid: \"20\",\\n\\t\\t\\tcls: \"text\",\\n\\t\\t\\tlisteners: {\\n\\t\\t\\t\\tclick: function() {viewDoc(\\'20201116001248\\', \\'7549051\\', \\'20\\', \\'1751105\\', \\'149713\\', \\'dart3.xsd\\');}\\n\\t\\t\\t}\\n\\t\\t});\\n\\t\\tcnt++;\\n\\t\\t\\n\\t\\ttreeNode2 = new Tree.TreeNode({\\n\\t\\t\\ttext: \"1. 이사회에 관한 사항\",\\n\\t\\t\\tid: \"21\",\\n\\t\\t\\tcls: \"text\",\\n\\t\\t\\tlisteners: {\\n\\t\\t\\t\\tclick: function() {viewDoc(\\'20201116001248\\', \\'7549051\\', \\'21\\', \\'1751218\\', \\'105316\\', \\'dart3.xsd\\');}\\n\\t\\t\\t}\\n\\t\\t});\\n\\t\\tcnt++;\\n\\t\\t\\t\\n\\t\\ttreeNode1.appendChild(treeNode2);\\n\\t\\t\\n\\t\\ttreeNode2 = new Tree.TreeNode({\\n\\t\\t\\ttext: \"2. 감사제도에 관한 사항\",\\n\\t\\t\\tid: \"22\",\\n\\t\\t\\tcls: \"text\",\\n\\t\\t\\tlisteners: {\\n\\t\\t\\t\\tclick: function() {viewDoc(\\'20201116001248\\', \\'7549051\\', \\'22\\', \\'1856538\\', \\'42763\\', \\'dart3.xsd\\');}\\n\\t\\t\\t}\\n\\t\\t});\\n\\t\\tcnt++;\\n\\t\\t\\t\\n\\t\\ttreeNode1.appendChild(treeNode2);\\n\\t\\t\\n\\t\\ttreeNode2 = new Tree.TreeNode({\\n\\t\\t\\ttext: \"3. 주주의 의결권 행사에 관한 사항\",\\n\\t\\t\\tid: \"23\",\\n\\t\\t\\tcls: \"text\",\\n\\t\\t\\tlisteners: {\\n\\t\\t\\t\\tclick: function() {viewDoc(\\'20201116001248\\', \\'7549051\\', \\'23\\', \\'1899305\\', \\'1499\\', \\'dart3.xsd\\');}\\n\\t\\t\\t}\\n\\t\\t});\\n\\t\\tcnt++;\\n\\t\\t\\t\\n\\t\\ttreeNode1.appendChild(treeNode2);\\n\\t\\t\\n\\t\\ttreeRoot.appendChild(treeNode1);\\n\\t\\t\\n\\t\\n\\t\\t// 9\\n\\t\\ttreeNode1 = new Tree.TreeNode({\\n\\t\\t\\ttext: \"VII. 주주에 관한 사항\",\\n\\t\\t\\tid: \"24\",\\n\\t\\t\\tcls: \"text\",\\n\\t\\t\\tlisteners: {\\n\\t\\t\\t\\tclick: function() {viewDoc(\\'20201116001248\\', \\'7549051\\', \\'24\\', \\'1900822\\', \\'63724\\', \\'dart3.xsd\\');}\\n\\t\\t\\t}\\n\\t\\t});\\n\\t\\tcnt++;\\n\\t\\t\\n\\t\\ttreeRoot.appendChild(treeNode1);\\n\\t\\t\\n\\t\\n\\t\\t// 10\\n\\t\\ttreeNode1 = new Tree.TreeNode({\\n\\t\\t\\ttext: \"VIII. 임원 및 직원 등에 관한 사항\",\\n\\t\\t\\tid: \"25\",\\n\\t\\t\\tcls: \"text\",\\n\\t\\t\\tlisteners: {\\n\\t\\t\\t\\tclick: function() {viewDoc(\\'20201116001248\\', \\'7549051\\', \\'25\\', \\'1964550\\', \\'819809\\', \\'dart3.xsd\\');}\\n\\t\\t\\t}\\n\\t\\t});\\n\\t\\tcnt++;\\n\\t\\t\\n\\t\\ttreeNode2 = new Tree.TreeNode({\\n\\t\\t\\ttext: \"1. 임원 및 직원 등의 현황\",\\n\\t\\t\\tid: \"26\",\\n\\t\\t\\tcls: \"text\",\\n\\t\\t\\tlisteners: {\\n\\t\\t\\t\\tclick: function() {viewDoc(\\'20201116001248\\', \\'7549051\\', \\'26\\', \\'1964662\\', \\'801298\\', \\'dart3.xsd\\');}\\n\\t\\t\\t}\\n\\t\\t});\\n\\t\\tcnt++;\\n\\t\\t\\t\\n\\t\\ttreeNode1.appendChild(treeNode2);\\n\\t\\t\\n\\t\\ttreeNode2 = new Tree.TreeNode({\\n\\t\\t\\ttext: \"2. 임원의 보수 등\",\\n\\t\\t\\tid: \"27\",\\n\\t\\t\\tcls: \"text\",\\n\\t\\t\\tlisteners: {\\n\\t\\t\\t\\tclick: function() {viewDoc(\\'20201116001248\\', \\'7549051\\', \\'27\\', \\'2765964\\', \\'18381\\', \\'dart3.xsd\\');}\\n\\t\\t\\t}\\n\\t\\t});\\n\\t\\tcnt++;\\n\\t\\t\\t\\n\\t\\ttreeNode1.appendChild(treeNode2);\\n\\t\\t\\n\\t\\ttreeRoot.appendChild(treeNode1);\\n\\t\\t\\n\\t\\n\\t\\t// 11\\n\\t\\ttreeNode1 = new Tree.TreeNode({\\n\\t\\t\\ttext: \"IX. 계열회사 등에 관한 사항\",\\n\\t\\t\\tid: \"28\",\\n\\t\\t\\tcls: \"text\",\\n\\t\\t\\tlisteners: {\\n\\t\\t\\t\\tclick: function() {viewDoc(\\'20201116001248\\', \\'7549051\\', \\'28\\', \\'2784363\\', \\'519741\\', \\'dart3.xsd\\');}\\n\\t\\t\\t}\\n\\t\\t});\\n\\t\\tcnt++;\\n\\t\\t\\n\\t\\ttreeRoot.appendChild(treeNode1);\\n\\t\\t\\n\\t\\n\\t\\t// 12\\n\\t\\ttreeNode1 = new Tree.TreeNode({\\n\\t\\t\\ttext: \"X. 이해관계자와의 거래내용\",\\n\\t\\t\\tid: \"29\",\\n\\t\\t\\tcls: \"text\",\\n\\t\\t\\tlisteners: {\\n\\t\\t\\t\\tclick: function() {viewDoc(\\'20201116001248\\', \\'7549051\\', \\'29\\', \\'3304108\\', \\'58697\\', \\'dart3.xsd\\');}\\n\\t\\t\\t}\\n\\t\\t});\\n\\t\\tcnt++;\\n\\t\\t\\n\\t\\ttreeRoot.appendChild(treeNode1);\\n\\t\\t\\n\\t\\n\\t\\t// 13\\n\\t\\ttreeNode1 = new Tree.TreeNode({\\n\\t\\t\\ttext: \"XI. 그 밖에 투자자 보호를 위하여 필요한 사항\",\\n\\t\\t\\tid: \"30\",\\n\\t\\t\\tcls: \"text\",\\n\\t\\t\\tlisteners: {\\n\\t\\t\\t\\tclick: function() {viewDoc(\\'20201116001248\\', \\'7549051\\', \\'30\\', \\'3362809\\', \\'96801\\', \\'dart3.xsd\\');}\\n\\t\\t\\t}\\n\\t\\t});\\n\\t\\tcnt++;\\n\\t\\t\\n\\t\\ttreeRoot.appendChild(treeNode1);\\n\\t\\t\\n\\t\\n\\t\\t// 14\\n\\t\\ttreeNode1 = new Tree.TreeNode({\\n\\t\\t\\ttext: \"【 전문가의 확인 】\",\\n\\t\\t\\tid: \"31\",\\n\\t\\t\\tcls: \"text\",\\n\\t\\t\\tlisteners: {\\n\\t\\t\\t\\tclick: function() {viewDoc(\\'20201116001248\\', \\'7549051\\', \\'31\\', \\'3459614\\', \\'346\\', \\'dart3.xsd\\');}\\n\\t\\t\\t}\\n\\t\\t});\\n\\t\\tcnt++;\\n\\t\\t\\n\\t\\ttreeNode2 = new Tree.TreeNode({\\n\\t\\t\\ttext: \"1. 전문가의 확인\",\\n\\t\\t\\tid: \"32\",\\n\\t\\t\\tcls: \"text\",\\n\\t\\t\\tlisteners: {\\n\\t\\t\\t\\tclick: function() {viewDoc(\\'20201116001248\\', \\'7549051\\', \\'32\\', \\'3459715\\', \\'112\\', \\'dart3.xsd\\');}\\n\\t\\t\\t}\\n\\t\\t});\\n\\t\\tcnt++;\\n\\t\\t\\t\\n\\t\\ttreeNode1.appendChild(treeNode2);\\n\\t\\t\\n\\t\\ttreeNode2 = new Tree.TreeNode({\\n\\t\\t\\ttext: \"2. 전문가와의 이해관계\",\\n\\t\\t\\tid: \"33\",\\n\\t\\t\\tcls: \"text\",\\n\\t\\t\\tlisteners: {\\n\\t\\t\\t\\tclick: function() {viewDoc(\\'20201116001248\\', \\'7549051\\', \\'33\\', \\'3459831\\', \\'115\\', \\'dart3.xsd\\');}\\n\\t\\t\\t}\\n\\t\\t});\\n\\t\\tcnt++;\\n\\t\\t\\t\\n\\t\\ttreeNode1.appendChild(treeNode2);\\n\\t\\t\\n\\t\\ttreeRoot.appendChild(treeNode1);\\n\\t\\t\\n\\t\\n\\n\\twest.setRootNode(treeRoot);\\n\\n\\tvar viewport = new Ext.Viewport({\\n\\t     layout:\\'border\\',\\n\\t     items:[\\n\\t     \\tnorth,\\n\\t     \\twest,\\n\\t     \\tnew Ext.Panel({\\n\\t             region:\\'center\\',\\n\\t             id:\\'center-panel\\',\\n\\t             margins:\\'5 5 5 5\\',\\n\\t             autoScroll:false,\\n\\t             items: [{\\n\\t                 contentEl: \\'center\\',\\n\\t                 border:false,\\n\\t                 autoScroll:false\\n\\t             }]\\n\\t         })\\n\\t      ]\\n\\t });\\n\\n\\n\\n\\tif (cnt > 200) {\\n\\t\\ttreeRoot.expand();\\n\\t} else {\\n\\t\\twest.expandAll();\\n\\t}\\n\\n\\t $j(\"#center-panel > div > div\").resize(resizeFrame);\\n\\t resizeFrame();\\n\\n\\n\\t\\n\\t\\n\\t\\tviewDoc(\\'20201116001248\\', \\'7549051\\', \\'1\\', \\'670\\', \\'4090\\', \\'dart3.xsd\\');\\n\\t\\n\\t\\n\\n\\n\\n\\n//팝업 순서\\n//1.정정 관련 보고서\\n//2.핵심투자 관련 보고서\\n\\n\\n\\t\\n\\t\\n\\t\\n\\t\\n\\t\\n\\n\\nalertInvestNotice(\\'20201116001248\\', \\'7549051\\', \\'20201116001119\\', \\'0\\', \\'11013\\' ,\\'dart3.xsd\\');\\nalertSmallPublicOffering(\\'N\\');\\n\\n\\n\\n\\n\\n\\n\\twindow.focus();\\n\\n\\ttry {\\n\\t\\topener.loadHistoryContents();\\n\\t} catch (e) {\\n\\t\\t;\\n\\t}\\n}\\n\\nvar currentDocValues = {rcpNo: \"\", dcmNo: \"\", eleId: \"\", offset: \"\", length: \"\", dtd: \"\"};\\n\\nfunction replaceHtml(el, html) {\\n\\tvar oldEl = (typeof el === \"string\" ? document.getElementById(el) : el);\\n\\t/*@cc_on // Pure innerHTML is slightly faster in IE\\n\\t\\toldEl.innerHTML = html;\\n\\t\\treturn oldEl;\\n\\t@*/\\n\\tvar newEl = oldEl.cloneNode(false);\\n\\tnewEl.innerHTML = html;\\n\\toldEl.parentNode.replaceChild(newEl, oldEl);\\n\\t/* Since we just removed the old element from the DOM, return a reference\\n\\tto the new element, which can be used to restore variable references. */\\n\\treturn newEl;\\n};\\n\\nfunction viewDoc(rcpNo, dcmNo, eleId, offset, length, dtd) {\\n\\tcurrentDocValues.rcpNo = rcpNo;\\n\\tcurrentDocValues.dcmNo = dcmNo;\\n\\tcurrentDocValues.eleId = eleId;\\n\\tcurrentDocValues.offset = offset;\\n\\tcurrentDocValues.length = length;\\n\\tcurrentDocValues.dtd = dtd;\\n\\tvar params = \"\";\\n\\tparams += \"?rcpNo=\" + rcpNo;\\n\\tparams += \"&dcmNo=\" + dcmNo;\\n\\tif (eleId != null)\\n\\t\\tparams += \"&eleId=\" + eleId;\\n\\tif (offset != null)\\n\\t\\tparams += \"&offset=\" + offset;\\n\\tif (length != null)\\n\\t\\tparams += \"&length=\" + length;\\n\\tparams += \"&dtd=\" + dtd;\\n\\tdocument.getElementById(\"ifrm\").src = \"/report/viewer.do\" + params;\\n}\\n\\nfunction printDoc() {\\n\\tifrm.focus();\\n\\twindow.print();\\n}\\n\\nfunction reloadDoc() {\\n\\tviewDoc(currentDocValues.rcpNo, currentDocValues.dcmNo, currentDocValues.eleId, currentDocValues.offset, currentDocValues.length, currentDocValues.dtd);\\n}\\n\\nfunction changeDoc(val) {\\n//\\twindow.location.replace(\"/dsaf001/main.do?\" + val);\\n//\\talert(\"/dsaf001/main.do?\" + val);\\n\\tdocument.fmove.action=\"/dsaf001/main.do?\" + val;\\n\\tdocument.fmove.submit();\\n}\\n\\nfunction changeFamily(val) {\\n\\tif (val==\"null\") return;\\n\\tchangeDoc(val);\\n\\t$j(\"#att\").val(\"null\");\\n\\t$j(\"#ref\").val(\"null\");\\n}\\n\\nfunction changeRef(val) {\\n\\tif (val==\"null\") return;\\n\\tchangeDoc(val);\\n\\t$j(\"#att\").val(\"null\");\\n\\t$j(\"#family\").val(\"null\");\\n}\\n\\nfunction changeAtt(val) {\\n\\tif (val==\"null\") return;\\n\\tchangeDoc(val);\\n\\t$j(\"#ref\").val(\"null\");\\n\\t$j(\"#family\").val(\"null\");\\n}\\n\\n/**\\n * PDF 다운로드 : 서비스 중지 메시지 보이기\\n */\\nfunction openPdfDownload(rcpNo, dcmNo) {\\n\\t \\n\\t\\t\\n\\t\\tvar size = getOpenSize(530, 480);\\n\\t\\tvar url = \"/pdf/download/main.do?rcp_no=\" + rcpNo + \"&dcm_no=\" + dcmNo;\\n\\t\\tvar win = window.open( url, \\'DOWNLOAD\\', \\'\\'+size+\\', resizable=no, status=no, scrollbars=yes\\');\\n\\t\\tif(win == null){\\n\\t\\t\\talert(\"팝업차단을 해제해주세요.\");\\n\\t\\t}else{\\n\\t\\t\\twin.focus();\\n\\t\\t}\\n\\t\\t\\n\\t\\t\\n\\t\\n}\\n\\n/**\\n * 사용자가 \\'예\\'를 선택했을 때 최종문서로 이동한다.\\n */\\nfunction confirmFinalDoc(bnt){\\n\\n\\tvar rcp_no = \"\" ;\\n\\tif(bnt==\\'yes\\'){\\n\\t\\t\\n\\t\\t\\t\\n\\t\\t\\t\\tif(rcp_no == \"\"){\\n\\t\\t\\t\\t\\trcp_no = 20201116001248;\\n\\t\\t\\t\\t}\\n\\t\\t\\t\\n\\t\\t\\n\\t\\tchangeFamily(\"rcpNo=\"+rcp_no);\\n\\t}\\n}\\n\\nfunction scrapFeed(cik) {\\n    var rssValue = \"\";\\n    if(cik == \"today\"){\\n    \\trssValue = \"http://dart.fss.or.kr/api/todayRSS.xml\";\\n    }\\n    else{\\n    \\trssValue = \"http://dart.fss.or.kr/api/companyRSS.xml?crpCd=\" + cik;\\n    }\\n\\n    if(window.clipboardData){  // IE처리\\n    \\tif (window.clipboardData.setData(\"Text\", rssValue)) {\\n        \\talert(\\'클립보드에 복사되었습니다\\');\\n    \\t}\\n    }\\n    else {                     // 비IE 처리\\n    \\twindow.prompt (\"Ctrl+C를 눌러 클립보드로 복사하세요\", rssValue);\\n    }\\n}\\n\\n\\t</script>\\n</head>\\n\\t<body class=\"viewer\">\\n\\t\\t<form name=\"fmove\"  method=\"post\" action=\"\">\\n\\t\\t<input type=\"submit\" style=\"display:none\" name=\"goAction\" />\\n\\t\\t</form>\\n\\t\\t<div id=\"north\" class=\"header\" style=\"width:1024px;\"> <!--  -->\\n\\t\\t\\t <div class=\"view_tit\">\\n\\t\\t\\t\\t <p class=\"view_logo\">\\n\\t\\t\\t\\t \\t<img src=\"/images/common/viewer_logo.gif\" alt=\"DART\" />\\n\\t\\t\\t \\t</p>\\n\\t             <p> <!--  class=\"viewTitle\" -->\\n\\t\\t\\t\\t\\t\\t<!-- 회사명 표시  : 시장구분 이미지 : 회사명 : IR연결 아이콘-->\\n\\t\\t\\t\\t\\t\\n\\t\\t\\t\\t\\t\\t\\n\\t\\t\\t\\t\\t\\t\\t<img src=\"/images/pop/ico_kospi.gif\"  alt=\"코스피\" />\\n\\t\\t\\t\\t\\t\\t\\n\\t\\t\\t\\t\\t\\t\\n\\t\\t\\t\\t\\t\\t\\n\\t\\t\\t\\t\\t\\t\\n\\t\\t\\t\\t\\t\\n\\t\\t\\t\\t\\t\\n\\t\\t\\t\\t\\t\\n\\t\\t\\t\\t\\t\\t\\t\\t\\n\\t\\t\\t\\t\\t  <a href=\"#companyview\" style=\"cursor:pointer;\" title=\"삼성전자\" onclick=\"openCorpInfo(\\'00126380\\');return false;\">삼성전자</a><!-- 스타일 수정필요.  -->\\n\\n             \\t </p>\\n\\t        </div>\\n\\t\\t\\t<div class=\"view_search\">\\n\\t\\t\\t\\t\\t\\t<!-- 본문선택 -->\\n\\t\\t\\t\\t<!-- <form method=\"\" action=\"\"> -->\\n\\t\\t\\t\\t<fieldset>\\n                <legend>공시뷰어 검색</legend>\\n                <p>\\n\\t\\t\\t\\t\\t\\n\\t\\t\\t\\t\\t\\t<label for=\"family\">본문</label>\\n\\t\\t\\t\\t\\t\\t<select id=\"family\" onchange=\"changeFamily(this.value)\">\\n\\t\\t\\t\\t\\t\\t\\t<option value=\"null\">\\n\\t\\t\\t\\t\\t\\t\\t\\t+본문선택+\\n\\t\\t\\t\\t\\t\\t\\t</option>\\n\\t\\t\\t\\t\\t\\t\\t\\n\\t\\t\\t\\t\\t\\t\\t\\t\\n\\t\\t\\t\\t\\t\\t\\t\\t<option value=\"rcpNo=20201116001248\" selected title=\"분기보고서\">\\n\\t\\t\\t\\t\\t\\t\\t\\t\\t\\n\\t\\t\\t\\t\\t\\t\\t\\t\\t\\t2020.11.16&nbsp;\\n\\t\\t\\t\\t\\t\\t\\t\\t\\t\\n\\t\\t\\t\\t\\t\\t\\t\\t\\t\\n\\t\\t\\t\\t\\t\\t\\t\\t\\t분기보고서\\n\\t\\t\\t\\t\\t\\t\\t\\t</option>\\n\\t\\t\\t\\t\\t\\t\\t\\n\\t\\t\\t\\t\\t\\t</select>\\n\\t\\t\\t\\t\\t\\n\\n\\t\\t\\t\\t\\t\\n\\t\\t\\t\\t</p>\\n\\t\\t\\t\\t<p class=\"f_none\">\\n\\t\\t\\t\\t\\t\\t<!-- 첨부문서 -->\\n\\t\\t\\t\\t\\t\\t<label for=\"att\">첨부</label>\\n\\t\\t\\t\\t\\t\\t<select id=\"att\" class=\"with\" onchange=\"changeAtt(this.value)\">\\n\\t\\t\\t\\t\\t\\t\\t<option value=\"null\">\\n\\t\\t\\t\\t\\t\\t\\t\\t+첨부선택+\\n\\t\\t\\t\\t\\t\\t\\t</option>\\n\\t\\t\\t\\t\\t\\t\\t\\n\\t\\t\\t\\t\\t\\t\\t\\t\\n\\t\\t\\t\\t\\t\\t\\t\\t<option value=\"rcpNo=20201116001248&amp;dcmNo=7549053\" >\\n\\t\\t\\t\\t\\t\\t\\t\\t\\t\\n\\t\\t\\t\\t\\t\\t\\t\\t\\t2020.11.16&nbsp;\\n\\t\\t\\t\\t\\t\\t\\t\\t\\t\\n\\t\\t\\t\\t\\t\\t\\t\\t\\t\\t\\n\\t\\t\\t\\t\\t\\t\\t\\t\\t\\t\\n\\t\\t\\t\\t\\t\\t\\t\\t\\t\\n\\t\\t\\t\\t\\t\\t\\t\\t\\t분기검토보고서\\n\\t\\t\\t\\t\\t\\t\\t\\t</option>\\n\\t\\t\\t\\t\\t\\t\\t\\n\\t\\t\\t\\t\\t\\t\\t\\t\\n\\t\\t\\t\\t\\t\\t\\t\\t<option value=\"rcpNo=20201116001248&amp;dcmNo=7549054\" >\\n\\t\\t\\t\\t\\t\\t\\t\\t\\t\\n\\t\\t\\t\\t\\t\\t\\t\\t\\t2020.11.16&nbsp;\\n\\t\\t\\t\\t\\t\\t\\t\\t\\t\\n\\t\\t\\t\\t\\t\\t\\t\\t\\t\\t\\n\\t\\t\\t\\t\\t\\t\\t\\t\\t\\t\\n\\t\\t\\t\\t\\t\\t\\t\\t\\t\\n\\t\\t\\t\\t\\t\\t\\t\\t\\t분기연결검토보고서\\n\\t\\t\\t\\t\\t\\t\\t\\t</option>\\n\\t\\t\\t\\t\\t\\t\\t\\n\\t\\t\\t\\t\\t\\t</select>\\n\\t\\t\\t\\t</p>\\n\\t\\t\\t</fieldset>\\n\\t\\t\\t<!-- </form> -->\\n\\t\\t\\t<ul><!-- 버튼 : 이미지보기, 다운로드, 인쇄, 검색결과로  -->\\n\\t\\t\\t\\t\\n\\t\\t\\t\\t<li>\\n\\t\\t\\t\\t\\t<a href=\"#download\" onclick=\"openPdfDownload(\\'20201116001248\\', \\'7549051\\'); return false;\" ><img src=\"/images/common/viewer_down.gif\" style=\"cursor:pointer;\" alt=\"다운로드\" title=\"다운로드\" /></a>\\n\\t\\t\\t\\t</li>\\n\\t\\t\\t\\t\\n\\t\\t\\t\\t<li>\\n\\t\\t\\t\\t\\t<a href=\"#priter\" onclick=\"printDoc(); return false;\"><img  src=\"/images/common/viewer_print.gif\" style=\"cursor:pointer;\" title=\"인쇄\" alt=\"인쇄\" /></a>\\n\\t\\t\\t\\t</li>\\n\\n\\t\\t\\t\\t<li>\\n\\t\\t\\t\\t\\t<a href=\"#close\" onclick=\"window.close();\"><img  src=\"/images/common/viewer_result.gif\" style=\"cursor:pointer;\" title=\"검색결과로\" alt=\"검색결과로\" /></a>\\n\\t\\t\\t\\t</li>\\n\\t\\t\\t</ul>\\n\\t\\t</div>\\n\\t</div><!-- end of header -->\\n\\t<div id=\"center\">\\n\\t\\t\\n\\t\\t<div id=\"mobileScroll\">\\n\\t\\t\\t<iframe id=\"ifrm\" frameborder=\"0\" scrolling=\"auto\" style=\"width: 100%;margin: 0; padding: 0\" title=\"tailFrame\"></iframe>\\n\\t\\t</div>\\n\\t</div>\\n\\t<div id=\"pdfStopMsg\" style=\"position: absolute; left: -1000px; top: -1000px; visibility: hidden;\"></div>\\n\\n\\t\\n<script type=\"text/javascript\">\\nfunction openReportViewerEng(rcpNo, dcmNo){\\n\\tvar url = \"/dsbh001/main.do?rcpNo=\" + rcpNo;\\n\\tif (dcmNo) {\\n\\t\\t//<![CDATA[\\n\\t\\turl += \"&dcmNo=\" + dcmNo;\\n\\t\\t//]]>\\n\\t}\\n\\n\\tvar size = getOpenSize(1024, 768);\\n\\twindow.open(url, rcpNo, size+\",resizable=yes\");\\n\\t$j(\"#r_\"+rcpNo).css(\"color\",\"#cd0093\");\\n}\\n\\nvar win_num = 1;\\nfunction openReportViewer(rcpNo, dcmNo){\\n\\tvar url = \"/dsaf001/main.do?rcpNo=\" + rcpNo;\\n\\tif (dcmNo) {\\n\\t\\t//<![CDATA[\\n\\t\\turl += \"&dcmNo=\" + dcmNo;\\n\\t\\t//]]>\\n\\t}\\n\\n\\tvar size = getOpenSize(1024, 768);\\n\\twindow.open(url, rcpNo+win_num, size+\",resizable=yes\");\\n\\twin_num++;\\n\\tif (dcmNo) {\\n\\t\\t$j(\"#r_\"+rcpNo+dcmNo).css(\"color\",\"#cd0093\");\\n\\t}else{\\n\\t\\t$j(\"#r_\"+rcpNo).css(\"color\",\"#cd0093\");\\n\\t}\\n}\\n\\n/*\\n * 통합검색용 문서뷰어 팝업 호출\\n * nrseo 2010. 10. 20\\n * 2016.09.30 jsp에 직접 명시 하여 미사용(DSAB007A.jsp)\\n * - a:visited 미작동으로 인한 조치\\n */\\nfunction openReportViewerKeyword(rcpNo, dcmNo, keyword){\\n\\tvar url = \"/dsaf001/main.do?rcpNo=\" + rcpNo;\\n\\tif (dcmNo) {\\n\\t\\t//<![CDATA[\\n\\t\\turl += \"&dcmNo=\" + dcmNo;\\n\\t\\t//]]>\\n\\t}\\n\\t//<![CDATA[\\n\\turl += \"&keyword=\" + encodeURIComponent(keyword);\\n\\t//]]>\\n\\n\\tvar size = getOpenSize(1024, 768);\\n\\twindow.open(url, rcpNo+win_num, size+\",resizable=yes\");\\n\\twin_num++;\\n\\tif (dcmNo) {\\n\\t\\t$j(\"#r_\"+rcpNo+dcmNo).css(\"color\",\"#cd0093\");\\n\\t}else{\\n\\t\\t$j(\"#r_\"+rcpNo).css(\"color\",\"#cd0093\");\\n\\t}\\n}\\n\\n/*\\n * 메인화면 전용\\n */\\nfunction openReportViewerMain(rcpNo, dcmNo){\\n\\tvar url = \"/dsaf001/main.do?rcpNo=\" + rcpNo;\\n\\tif (dcmNo) {\\n\\t\\t//<![CDATA[\\n\\t\\turl += \"&dcmNo=\" + dcmNo;\\n\\t\\t//]]>\\n\\t}\\n\\n\\tvar size = getOpenSize(1024, 768);\\n\\twindow.open(url, rcpNo+win_num, size+\",resizable=yes\");\\n\\twin_num++;\\n}\\n\\nfunction openXbrlViewer(rcpNo, dcmNo){\\n\\tvar url = \"/dsbh002/main.do?rcpNo=\" + rcpNo;\\n\\tif (dcmNo) {\\n\\t\\t//<![CDATA[\\n\\t\\turl += \"&dcmNo=\" + dcmNo;\\n\\t\\t//]]>\\n\\t}\\n\\n\\tvar size = getOpenSize(1024, 768);\\n\\twindow.open(url, rcpNo+win_num, size+\",resizable=yes\");\\n\\twin_num++;\\n\\t/* j(\"#r_\"+rcpNo)가\\n\\t   ie8,9,11에서 클릭시 css변경 미처리로 위치 변경\\n\\t   ie10 버전에서 미작동으로 본문에 직접 반영(DSBD001A.jsp, DSBD002A.jsp)\\t */\\n\\t//$j(\"#r_\"+rcpNo).css(\"color\",\"#cd0093\");\\n}\\n\\nfunction openHelp(menu) {\\n\\tvar url = \"/guide/main.jsp\";\\n\\tif (menu) {\\n\\t\\turl += \"?menu=\" + menu;\\n\\t}\\n\\tvar size = getOpenSize(800, 760);\\n\\tvar win = window.open(url, \"DartGuide\", size + \",resizable=0,scrollbars=0\");\\n\\tif (win == null) {\\n\\t\\talert(\"팝업차단을 해제하시기 바랍니다.\");\\n\\t} else {\\n\\t\\twin.focus();\\n\\t}\\n}\\n\\n</script>\\n<form name=\"reportForm\" method=\"post\" action=\"/dsaf001/main.do\">\\n\\t<input type=\"hidden\" name=\"rcpNo\" />\\n\\t<input type=\"hidden\" name=\"dcmNo\" />\\n\\t<input type=\"hidden\" name=\"keyword\" />\\n\\t<input type=\"submit\" style=\"display:none;\" />\\n</form>\\n\\n</body>\\n</html>\\n'"
      ]
     },
     "execution_count": 4,
     "metadata": {},
     "output_type": "execute_result"
    }
   ],
   "source": [
    "res.text"
   ]
  },
  {
   "cell_type": "code",
   "execution_count": 6,
   "metadata": {},
   "outputs": [],
   "source": [
    "soup = BeautifulSoup(res.text, \"html\")"
   ]
  },
  {
   "cell_type": "code",
   "execution_count": null,
   "metadata": {},
   "outputs": [],
   "source": [
    "soup"
   ]
  },
  {
   "cell_type": "code",
   "execution_count": 8,
   "metadata": {},
   "outputs": [],
   "source": [
    "driver_path = \"C:/Users/Bae Kyungmo/OneDrive/Desktop/WC_basic/chromedriver.exe\"\n",
    "browser = Chrome(driver_path)"
   ]
  },
  {
   "cell_type": "code",
   "execution_count": 9,
   "metadata": {},
   "outputs": [],
   "source": [
    "browser.get(url)"
   ]
  },
  {
   "cell_type": "code",
   "execution_count": 11,
   "metadata": {},
   "outputs": [],
   "source": [
    "browser.find_elements_by_xpath('//*[@id=\"ext-gen10\"]/div/li[5]/ul/li[2]/div/a/span')[0].click()"
   ]
  },
  {
   "cell_type": "code",
   "execution_count": 20,
   "metadata": {},
   "outputs": [],
   "source": [
    "browser.switch_to.frame(browser.find_element_by_id('ifrm'))"
   ]
  },
  {
   "cell_type": "code",
   "execution_count": 21,
   "metadata": {},
   "outputs": [],
   "source": [
    "html = BeautifulSoup(browser.page_source, 'html.parser')"
   ]
  },
  {
   "cell_type": "code",
   "execution_count": 36,
   "metadata": {},
   "outputs": [
    {
     "data": {
      "text/plain": [
       "<tr>\n",
       "<td height=\"20\" width=\"288\">\n",
       "<p>　　단기상각후원가금융자산</p>\n",
       "</td>\n",
       "<td align=\"RIGHT\" height=\"20\" width=\"163\">\n",
       "<p>1,684,068</p>\n",
       "</td>\n",
       "<td align=\"RIGHT\" height=\"20\" width=\"162\">\n",
       "<p>3,914,216</p>\n",
       "</td>\n",
       "</tr>"
      ]
     },
     "execution_count": 36,
     "metadata": {},
     "output_type": "execute_result"
    }
   ],
   "source": [
    "html.find_all('table')[1].find_all('tr')[5]"
   ]
  },
  {
   "cell_type": "code",
   "execution_count": 53,
   "metadata": {},
   "outputs": [
    {
     "data": {
      "text/plain": [
       "'\\n\\n\\u3000이자의 지급\\n\\n\\n(296,614)\\n\\n\\n(439,802)\\n\\n'"
      ]
     },
     "execution_count": 53,
     "metadata": {},
     "output_type": "execute_result"
    }
   ],
   "source": [
    "html.find_all('table')[9].find_all('tr')[7].text"
   ]
  },
  {
   "cell_type": "markdown",
   "metadata": {},
   "source": [
    "---"
   ]
  },
  {
   "cell_type": "markdown",
   "metadata": {},
   "source": [
    "### 뭐야 뭐야 가능하겠는데???"
   ]
  },
  {
   "cell_type": "code",
   "execution_count": 54,
   "metadata": {},
   "outputs": [],
   "source": [
    "driver_path = \"C:/Users/Bae Kyungmo/OneDrive/Desktop/WC_basic/chromedriver.exe\"\n",
    "browser = Chrome(driver_path)\n",
    "url = 'http://dart.fss.or.kr/dsaf001/main.do?rcpNo=20150817001266'\n",
    "browser.get(url)\n",
    "browser.find_elements_by_xpath('//*[@id=\"ext-gen10\"]/div/li[5]/ul/li[2]/div/a/span')[0].click()"
   ]
  },
  {
   "cell_type": "code",
   "execution_count": 55,
   "metadata": {},
   "outputs": [
    {
     "ename": "IndexError",
     "evalue": "list index out of range",
     "output_type": "error",
     "traceback": [
      "\u001b[1;31m---------------------------------------------------------------------------\u001b[0m",
      "\u001b[1;31mIndexError\u001b[0m                                Traceback (most recent call last)",
      "\u001b[1;32m<ipython-input-55-80adbb17e14a>\u001b[0m in \u001b[0;36m<module>\u001b[1;34m\u001b[0m\n\u001b[0;32m      1\u001b[0m \u001b[0mbrowser\u001b[0m\u001b[1;33m.\u001b[0m\u001b[0mswitch_to\u001b[0m\u001b[1;33m.\u001b[0m\u001b[0mframe\u001b[0m\u001b[1;33m(\u001b[0m\u001b[0mbrowser\u001b[0m\u001b[1;33m.\u001b[0m\u001b[0mfind_element_by_id\u001b[0m\u001b[1;33m(\u001b[0m\u001b[1;34m'ifrm'\u001b[0m\u001b[1;33m)\u001b[0m\u001b[1;33m)\u001b[0m\u001b[1;33m\u001b[0m\u001b[1;33m\u001b[0m\u001b[0m\n\u001b[0;32m      2\u001b[0m \u001b[0mhtml\u001b[0m \u001b[1;33m=\u001b[0m \u001b[0mBeautifulSoup\u001b[0m\u001b[1;33m(\u001b[0m\u001b[0mbrowser\u001b[0m\u001b[1;33m.\u001b[0m\u001b[0mpage_source\u001b[0m\u001b[1;33m,\u001b[0m \u001b[1;34m'html.parser'\u001b[0m\u001b[1;33m)\u001b[0m\u001b[1;33m\u001b[0m\u001b[1;33m\u001b[0m\u001b[0m\n\u001b[1;32m----> 3\u001b[1;33m \u001b[0mhtml\u001b[0m\u001b[1;33m.\u001b[0m\u001b[0mfind_all\u001b[0m\u001b[1;33m(\u001b[0m\u001b[1;34m'table'\u001b[0m\u001b[1;33m)\u001b[0m\u001b[1;33m[\u001b[0m\u001b[1;36m9\u001b[0m\u001b[1;33m]\u001b[0m\u001b[1;33m.\u001b[0m\u001b[0mfind_all\u001b[0m\u001b[1;33m(\u001b[0m\u001b[1;34m'tr'\u001b[0m\u001b[1;33m)\u001b[0m\u001b[1;33m[\u001b[0m\u001b[1;36m7\u001b[0m\u001b[1;33m]\u001b[0m\u001b[1;33m.\u001b[0m\u001b[0mtext\u001b[0m\u001b[1;33m\u001b[0m\u001b[1;33m\u001b[0m\u001b[0m\n\u001b[0m",
      "\u001b[1;31mIndexError\u001b[0m: list index out of range"
     ]
    }
   ],
   "source": [
    "browser.switch_to.frame(browser.find_element_by_id('ifrm'))\n",
    "html = BeautifulSoup(browser.page_source, 'html.parser')\n"
   ]
  },
  {
   "cell_type": "code",
   "execution_count": 64,
   "metadata": {},
   "outputs": [
    {
     "data": {
      "text/plain": [
       "'\\nⅡ. 금융자산 \\n 5, 6, 11, 27\\n\\n\\u3000\\n11,068,810,805,864 \\n\\n10,387,243,904,846 \\n'"
      ]
     },
     "execution_count": 64,
     "metadata": {},
     "output_type": "execute_result"
    }
   ],
   "source": [
    "#html.find_all('table')[9].find_all('tr')[7].text\n",
    "html.find_all('table')[2].find_all('tr')[3].text"
   ]
  },
  {
   "cell_type": "code",
   "execution_count": null,
   "metadata": {},
   "outputs": [],
   "source": []
  }
 ],
 "metadata": {
  "kernelspec": {
   "display_name": "Python 3",
   "language": "python",
   "name": "python3"
  },
  "language_info": {
   "codemirror_mode": {
    "name": "ipython",
    "version": 3
   },
   "file_extension": ".py",
   "mimetype": "text/x-python",
   "name": "python",
   "nbconvert_exporter": "python",
   "pygments_lexer": "ipython3",
   "version": "3.8.5"
  }
 },
 "nbformat": 4,
 "nbformat_minor": 4
}
