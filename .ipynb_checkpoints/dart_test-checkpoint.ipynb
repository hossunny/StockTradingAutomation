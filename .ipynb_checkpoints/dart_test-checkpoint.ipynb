{
 "cells": [
  {
   "cell_type": "code",
   "execution_count": 2,
   "metadata": {},
   "outputs": [],
   "source": [
    "#Importing requests to read json later...\n",
    "import requests\n",
    "import pandas as pd\n",
    "#Need to import lxml in order to get the xpath of a dcm_no \n",
    "from lxml import html\n",
    "#Just in case we need RegEx...\n",
    "import re\n",
    "\n",
    "%load_ext autoreload\n",
    "%autoreload 2\n",
    "\n",
    "from utils import *\n",
    "\n",
    "from subprocess import call\n",
    "\n",
    "from fake_useragent import UserAgent"
   ]
  },
  {
   "cell_type": "code",
   "execution_count": 2,
   "metadata": {},
   "outputs": [
    {
     "ename": "FileNotFoundError",
     "evalue": "[Errno 2] No such file or directory: 'api_key.txt'",
     "output_type": "error",
     "traceback": [
      "\u001b[1;31m---------------------------------------------------------------------------\u001b[0m",
      "\u001b[1;31mFileNotFoundError\u001b[0m                         Traceback (most recent call last)",
      "\u001b[1;32m<ipython-input-2-c34725c285ce>\u001b[0m in \u001b[0;36m<module>\u001b[1;34m\u001b[0m\n\u001b[1;32m----> 1\u001b[1;33m \u001b[1;32mwith\u001b[0m \u001b[0mopen\u001b[0m\u001b[1;33m(\u001b[0m\u001b[1;34m'api_key.txt'\u001b[0m\u001b[1;33m,\u001b[0m\u001b[1;34m'r'\u001b[0m\u001b[1;33m)\u001b[0m \u001b[1;32mas\u001b[0m \u001b[0mf\u001b[0m\u001b[1;33m:\u001b[0m\u001b[1;33m\u001b[0m\u001b[1;33m\u001b[0m\u001b[0m\n\u001b[0m\u001b[0;32m      2\u001b[0m     \u001b[0mAPI_KEY\u001b[0m \u001b[1;33m=\u001b[0m \u001b[0mf\u001b[0m\u001b[1;33m.\u001b[0m\u001b[0mread\u001b[0m\u001b[1;33m(\u001b[0m\u001b[1;33m)\u001b[0m\u001b[1;33m\u001b[0m\u001b[1;33m\u001b[0m\u001b[0m\n",
      "\u001b[1;31mFileNotFoundError\u001b[0m: [Errno 2] No such file or directory: 'api_key.txt'"
     ]
    }
   ],
   "source": [
    "with open('api_key.txt','r') as f:\n",
    "    API_KEY = f.read()"
   ]
  },
  {
   "cell_type": "code",
   "execution_count": 3,
   "metadata": {},
   "outputs": [],
   "source": [
    "API_KEY = '34498c52b5674a6014154edbaa30d2739f265da7'"
   ]
  },
  {
   "cell_type": "code",
   "execution_count": 8,
   "metadata": {},
   "outputs": [],
   "source": [
    "company_codes = pd.read_excel('상장법인목록.xlsx',converters={'종목코드':str})"
   ]
  },
  {
   "cell_type": "code",
   "execution_count": 10,
   "metadata": {},
   "outputs": [
    {
     "name": "stdin",
     "output_type": "stream",
     "text": [
      "Please write company name here | 회사명을 입력해주세요:  삼성전자\n"
     ]
    }
   ],
   "source": [
    "name_input = input('Please write company name here | 회사명을 입력해주세요: ')"
   ]
  },
  {
   "cell_type": "code",
   "execution_count": 11,
   "metadata": {},
   "outputs": [
    {
     "name": "stdout",
     "output_type": "stream",
     "text": [
      "Company name | 회사명: 삼성전자\n",
      "Company code | 종목코드: 5930\n"
     ]
    }
   ],
   "source": [
    "while len(company_codes[company_codes.회사명 ==  name_input]) == 0:\n",
    "    print('The company name entered does not exist. | 해당 이름의 회사명이 존재하지 않습니다. \\nPlease find below for suggestions and re-type the company name | 아래 회사명 중 하나를 찾으시나요? 다시 입력해주세요.\\n')\n",
    "    for row in company_codes.회사명:\n",
    "        if row.find(name_input) != -1:\n",
    "            print(row)\n",
    "    name_input = input()\n",
    "code = company_codes[company_codes.회사명 == name_input].종목코드.iloc[0]\n",
    "print(\"Company name | 회사명: \"+name_input+\"\\nCompany code | 종목코드: \"+code)"
   ]
  },
  {
   "cell_type": "code",
   "execution_count": 12,
   "metadata": {},
   "outputs": [],
   "source": [
    "start_date = '19560101'\n",
    "#Document type: Annual report (사업보고서)\n",
    "bsn_tp = 'A001'"
   ]
  },
  {
   "cell_type": "code",
   "execution_count": 15,
   "metadata": {},
   "outputs": [],
   "source": [
    "code = '{:06d}'.format(int(code))"
   ]
  },
  {
   "cell_type": "code",
   "execution_count": 16,
   "metadata": {},
   "outputs": [
    {
     "data": {
      "text/plain": [
       "'005930'"
      ]
     },
     "execution_count": 16,
     "metadata": {},
     "output_type": "execute_result"
    }
   ],
   "source": [
    "code"
   ]
  },
  {
   "cell_type": "code",
   "execution_count": 17,
   "metadata": {},
   "outputs": [],
   "source": [
    "url = \"http://dart.fss.or.kr/api/search.json?auth=\"+API_KEY+\"&crp_cd=\"+code+\"&start_dt=\"+start_date+\"&bsn_tp=\"+bsn_tp+\"&fin_rpt=Y&page_set=100\""
   ]
  },
  {
   "cell_type": "code",
   "execution_count": 23,
   "metadata": {},
   "outputs": [
    {
     "data": {
      "text/plain": [
       "'http://dart.fss.or.kr/api/search.json?auth=34498c52b5674a6014154edbaa30d2739f265da7&crp_cd=005930&start_dt=19560101&bsn_tp=A001&fin_rpt=Y&page_set=100'"
      ]
     },
     "execution_count": 23,
     "metadata": {},
     "output_type": "execute_result"
    }
   ],
   "source": [
    "url"
   ]
  },
  {
   "cell_type": "code",
   "execution_count": 18,
   "metadata": {},
   "outputs": [],
   "source": [
    "ua = UserAgent()\n",
    "headers = {'User-Agent':ua.chrome}"
   ]
  },
  {
   "cell_type": "code",
   "execution_count": 19,
   "metadata": {},
   "outputs": [
    {
     "ename": "JSONDecodeError",
     "evalue": "Expecting value: line 1 column 1 (char 0)",
     "output_type": "error",
     "traceback": [
      "\u001b[1;31m---------------------------------------------------------------------------\u001b[0m",
      "\u001b[1;31mJSONDecodeError\u001b[0m                           Traceback (most recent call last)",
      "\u001b[1;32m<ipython-input-19-b5bf572c0c27>\u001b[0m in \u001b[0;36m<module>\u001b[1;34m\u001b[0m\n\u001b[1;32m----> 1\u001b[1;33m \u001b[0ma\u001b[0m \u001b[1;33m=\u001b[0m \u001b[0mrequests\u001b[0m\u001b[1;33m.\u001b[0m\u001b[0mget\u001b[0m\u001b[1;33m(\u001b[0m\u001b[0murl\u001b[0m\u001b[1;33m,\u001b[0m\u001b[0mheaders\u001b[0m\u001b[1;33m=\u001b[0m\u001b[0mheaders\u001b[0m\u001b[1;33m)\u001b[0m\u001b[1;33m.\u001b[0m\u001b[0mjson\u001b[0m\u001b[1;33m(\u001b[0m\u001b[1;33m)\u001b[0m\u001b[1;33m\u001b[0m\u001b[1;33m\u001b[0m\u001b[0m\n\u001b[0m",
      "\u001b[1;32mC:\\anaconda3\\lib\\site-packages\\requests\\models.py\u001b[0m in \u001b[0;36mjson\u001b[1;34m(self, **kwargs)\u001b[0m\n\u001b[0;32m    896\u001b[0m                     \u001b[1;31m# used.\u001b[0m\u001b[1;33m\u001b[0m\u001b[1;33m\u001b[0m\u001b[1;33m\u001b[0m\u001b[0m\n\u001b[0;32m    897\u001b[0m                     \u001b[1;32mpass\u001b[0m\u001b[1;33m\u001b[0m\u001b[1;33m\u001b[0m\u001b[0m\n\u001b[1;32m--> 898\u001b[1;33m         \u001b[1;32mreturn\u001b[0m \u001b[0mcomplexjson\u001b[0m\u001b[1;33m.\u001b[0m\u001b[0mloads\u001b[0m\u001b[1;33m(\u001b[0m\u001b[0mself\u001b[0m\u001b[1;33m.\u001b[0m\u001b[0mtext\u001b[0m\u001b[1;33m,\u001b[0m \u001b[1;33m**\u001b[0m\u001b[0mkwargs\u001b[0m\u001b[1;33m)\u001b[0m\u001b[1;33m\u001b[0m\u001b[1;33m\u001b[0m\u001b[0m\n\u001b[0m\u001b[0;32m    899\u001b[0m \u001b[1;33m\u001b[0m\u001b[0m\n\u001b[0;32m    900\u001b[0m     \u001b[1;33m@\u001b[0m\u001b[0mproperty\u001b[0m\u001b[1;33m\u001b[0m\u001b[1;33m\u001b[0m\u001b[0m\n",
      "\u001b[1;32mC:\\anaconda3\\lib\\json\\__init__.py\u001b[0m in \u001b[0;36mloads\u001b[1;34m(s, cls, object_hook, parse_float, parse_int, parse_constant, object_pairs_hook, **kw)\u001b[0m\n\u001b[0;32m    355\u001b[0m             \u001b[0mparse_int\u001b[0m \u001b[1;32mis\u001b[0m \u001b[1;32mNone\u001b[0m \u001b[1;32mand\u001b[0m \u001b[0mparse_float\u001b[0m \u001b[1;32mis\u001b[0m \u001b[1;32mNone\u001b[0m \u001b[1;32mand\u001b[0m\u001b[1;33m\u001b[0m\u001b[1;33m\u001b[0m\u001b[0m\n\u001b[0;32m    356\u001b[0m             parse_constant is None and object_pairs_hook is None and not kw):\n\u001b[1;32m--> 357\u001b[1;33m         \u001b[1;32mreturn\u001b[0m \u001b[0m_default_decoder\u001b[0m\u001b[1;33m.\u001b[0m\u001b[0mdecode\u001b[0m\u001b[1;33m(\u001b[0m\u001b[0ms\u001b[0m\u001b[1;33m)\u001b[0m\u001b[1;33m\u001b[0m\u001b[1;33m\u001b[0m\u001b[0m\n\u001b[0m\u001b[0;32m    358\u001b[0m     \u001b[1;32mif\u001b[0m \u001b[0mcls\u001b[0m \u001b[1;32mis\u001b[0m \u001b[1;32mNone\u001b[0m\u001b[1;33m:\u001b[0m\u001b[1;33m\u001b[0m\u001b[1;33m\u001b[0m\u001b[0m\n\u001b[0;32m    359\u001b[0m         \u001b[0mcls\u001b[0m \u001b[1;33m=\u001b[0m \u001b[0mJSONDecoder\u001b[0m\u001b[1;33m\u001b[0m\u001b[1;33m\u001b[0m\u001b[0m\n",
      "\u001b[1;32mC:\\anaconda3\\lib\\json\\decoder.py\u001b[0m in \u001b[0;36mdecode\u001b[1;34m(self, s, _w)\u001b[0m\n\u001b[0;32m    335\u001b[0m \u001b[1;33m\u001b[0m\u001b[0m\n\u001b[0;32m    336\u001b[0m         \"\"\"\n\u001b[1;32m--> 337\u001b[1;33m         \u001b[0mobj\u001b[0m\u001b[1;33m,\u001b[0m \u001b[0mend\u001b[0m \u001b[1;33m=\u001b[0m \u001b[0mself\u001b[0m\u001b[1;33m.\u001b[0m\u001b[0mraw_decode\u001b[0m\u001b[1;33m(\u001b[0m\u001b[0ms\u001b[0m\u001b[1;33m,\u001b[0m \u001b[0midx\u001b[0m\u001b[1;33m=\u001b[0m\u001b[0m_w\u001b[0m\u001b[1;33m(\u001b[0m\u001b[0ms\u001b[0m\u001b[1;33m,\u001b[0m \u001b[1;36m0\u001b[0m\u001b[1;33m)\u001b[0m\u001b[1;33m.\u001b[0m\u001b[0mend\u001b[0m\u001b[1;33m(\u001b[0m\u001b[1;33m)\u001b[0m\u001b[1;33m)\u001b[0m\u001b[1;33m\u001b[0m\u001b[1;33m\u001b[0m\u001b[0m\n\u001b[0m\u001b[0;32m    338\u001b[0m         \u001b[0mend\u001b[0m \u001b[1;33m=\u001b[0m \u001b[0m_w\u001b[0m\u001b[1;33m(\u001b[0m\u001b[0ms\u001b[0m\u001b[1;33m,\u001b[0m \u001b[0mend\u001b[0m\u001b[1;33m)\u001b[0m\u001b[1;33m.\u001b[0m\u001b[0mend\u001b[0m\u001b[1;33m(\u001b[0m\u001b[1;33m)\u001b[0m\u001b[1;33m\u001b[0m\u001b[1;33m\u001b[0m\u001b[0m\n\u001b[0;32m    339\u001b[0m         \u001b[1;32mif\u001b[0m \u001b[0mend\u001b[0m \u001b[1;33m!=\u001b[0m \u001b[0mlen\u001b[0m\u001b[1;33m(\u001b[0m\u001b[0ms\u001b[0m\u001b[1;33m)\u001b[0m\u001b[1;33m:\u001b[0m\u001b[1;33m\u001b[0m\u001b[1;33m\u001b[0m\u001b[0m\n",
      "\u001b[1;32mC:\\anaconda3\\lib\\json\\decoder.py\u001b[0m in \u001b[0;36mraw_decode\u001b[1;34m(self, s, idx)\u001b[0m\n\u001b[0;32m    353\u001b[0m             \u001b[0mobj\u001b[0m\u001b[1;33m,\u001b[0m \u001b[0mend\u001b[0m \u001b[1;33m=\u001b[0m \u001b[0mself\u001b[0m\u001b[1;33m.\u001b[0m\u001b[0mscan_once\u001b[0m\u001b[1;33m(\u001b[0m\u001b[0ms\u001b[0m\u001b[1;33m,\u001b[0m \u001b[0midx\u001b[0m\u001b[1;33m)\u001b[0m\u001b[1;33m\u001b[0m\u001b[1;33m\u001b[0m\u001b[0m\n\u001b[0;32m    354\u001b[0m         \u001b[1;32mexcept\u001b[0m \u001b[0mStopIteration\u001b[0m \u001b[1;32mas\u001b[0m \u001b[0merr\u001b[0m\u001b[1;33m:\u001b[0m\u001b[1;33m\u001b[0m\u001b[1;33m\u001b[0m\u001b[0m\n\u001b[1;32m--> 355\u001b[1;33m             \u001b[1;32mraise\u001b[0m \u001b[0mJSONDecodeError\u001b[0m\u001b[1;33m(\u001b[0m\u001b[1;34m\"Expecting value\"\u001b[0m\u001b[1;33m,\u001b[0m \u001b[0ms\u001b[0m\u001b[1;33m,\u001b[0m \u001b[0merr\u001b[0m\u001b[1;33m.\u001b[0m\u001b[0mvalue\u001b[0m\u001b[1;33m)\u001b[0m \u001b[1;32mfrom\u001b[0m \u001b[1;32mNone\u001b[0m\u001b[1;33m\u001b[0m\u001b[1;33m\u001b[0m\u001b[0m\n\u001b[0m\u001b[0;32m    356\u001b[0m         \u001b[1;32mreturn\u001b[0m \u001b[0mobj\u001b[0m\u001b[1;33m,\u001b[0m \u001b[0mend\u001b[0m\u001b[1;33m\u001b[0m\u001b[1;33m\u001b[0m\u001b[0m\n",
      "\u001b[1;31mJSONDecodeError\u001b[0m: Expecting value: line 1 column 1 (char 0)"
     ]
    }
   ],
   "source": [
    "a = requests.get(url,headers=headers).json()"
   ]
  },
  {
   "cell_type": "code",
   "execution_count": 20,
   "metadata": {},
   "outputs": [
    {
     "ename": "NameError",
     "evalue": "name 'a' is not defined",
     "output_type": "error",
     "traceback": [
      "\u001b[1;31m---------------------------------------------------------------------------\u001b[0m",
      "\u001b[1;31mNameError\u001b[0m                                 Traceback (most recent call last)",
      "\u001b[1;32m<ipython-input-20-3ee861586ec6>\u001b[0m in \u001b[0;36m<module>\u001b[1;34m\u001b[0m\n\u001b[0;32m      1\u001b[0m \u001b[0murldict\u001b[0m \u001b[1;33m=\u001b[0m \u001b[1;33m{\u001b[0m\u001b[1;33m}\u001b[0m\u001b[1;33m\u001b[0m\u001b[1;33m\u001b[0m\u001b[0m\n\u001b[1;32m----> 2\u001b[1;33m \u001b[1;32mfor\u001b[0m \u001b[0mrow\u001b[0m \u001b[1;32min\u001b[0m \u001b[0ma\u001b[0m\u001b[1;33m[\u001b[0m\u001b[1;34m'list'\u001b[0m\u001b[1;33m]\u001b[0m\u001b[1;33m:\u001b[0m\u001b[1;33m\u001b[0m\u001b[1;33m\u001b[0m\u001b[0m\n\u001b[0m\u001b[0;32m      3\u001b[0m     \u001b[0murl2\u001b[0m \u001b[1;33m=\u001b[0m \u001b[1;34m\"http://dart.fss.or.kr/dsaf001/main.do?rcpNo=\"\u001b[0m\u001b[1;33m\u001b[0m\u001b[1;33m\u001b[0m\u001b[0m\n\u001b[0;32m      4\u001b[0m     \u001b[0mname\u001b[0m \u001b[1;33m=\u001b[0m \u001b[0mrow\u001b[0m\u001b[1;33m[\u001b[0m\u001b[1;34m'rpt_nm'\u001b[0m\u001b[1;33m]\u001b[0m\u001b[1;33m\u001b[0m\u001b[1;33m\u001b[0m\u001b[0m\n\u001b[0;32m      5\u001b[0m     \u001b[1;31m#Getting rid of the pre-amble that's irrelevant\u001b[0m\u001b[1;33m\u001b[0m\u001b[1;33m\u001b[0m\u001b[1;33m\u001b[0m\u001b[0m\n",
      "\u001b[1;31mNameError\u001b[0m: name 'a' is not defined"
     ]
    }
   ],
   "source": [
    "urldict = {}\n",
    "for row in a['list']:\n",
    "    url2 = \"http://dart.fss.or.kr/dsaf001/main.do?rcpNo=\"\n",
    "    name = row['rpt_nm']\n",
    "    #Getting rid of the pre-amble that's irrelevant\n",
    "    #[기재정정] [첨부추가] [첨부정정] 등 앞에 붙은 것을 제거해봅시다\n",
    "    if name.find('[') != -1:\n",
    "        name = name.split(']')[1]\n",
    "    urldict[name] = url2+row['rcp_no']\n",
    "    print(name+\": \"+url2+row['rcp_no'])"
   ]
  },
  {
   "cell_type": "code",
   "execution_count": null,
   "metadata": {},
   "outputs": [],
   "source": []
  },
  {
   "cell_type": "markdown",
   "metadata": {},
   "source": [
    "---"
   ]
  },
  {
   "cell_type": "code",
   "execution_count": 1,
   "metadata": {},
   "outputs": [],
   "source": [
    "from urllib.request import urlopen\n",
    "from bs4 import BeautifulSoup\n",
    "from selenium import webdriver\n",
    "from selenium.webdriver.common.keys import Keys\n",
    "import pandas as pd\n",
    "import time"
   ]
  },
  {
   "cell_type": "code",
   "execution_count": 24,
   "metadata": {},
   "outputs": [],
   "source": [
    "href = 'http://dart.fss.or.kr/dsaf001/main.do?rcpNo=20100331001680'"
   ]
  },
  {
   "cell_type": "code",
   "execution_count": 32,
   "metadata": {},
   "outputs": [],
   "source": [
    "html = urlopen(href) # 반기보고서 url\n",
    "\n",
    "# 반기보고서 url로 반기보고서 html 호출\n",
    "bsobjt = BeautifulSoup(html,\"html.parser\") \n",
    "\n",
    "# main url을 통해 html 호출하여 파싱 \n",
    "body = str(bsobjt.find('head'))\n",
    "body = body.split('요약재무정보\",')[0] # input2\n",
    "body = body.split('cnt++')[0]\n",
    "body = body.split('viewDoc(')[1]\n",
    "body = body.split(')')[0]\n",
    "body = body.split(', ')\n",
    "body = [body[i][1:-1] for i in range(len(body))]\n",
    "\n",
    "# 요약재무정보 url 생성\n",
    "url_final = 'http://dart.fss.or.kr/report/viewer.do?rcpNo=' + body[0] + '&dcmNo=' + body[1] + '&eleId=' + body[2] + '&offset=' + body[3] +'&length=' + body[4] + '&dtd=dart3.xsd'\n",
    "\n",
    "# 요약재무정보 html 가지고 오기\n",
    "html_final = urlopen(url_final)\n",
    "bsobjt_final = BeautifulSoup(html_final,\"html.parser\")\n",
    "\n",
    "\n",
    "# html 파싱을 통해 표 생성\n",
    "ls_bf = bsobjt_final.findAll('tr')\n",
    "_df_rlt = pd.DataFrame(columns = ['gubun','year_1','year_2','year_3'])\n",
    "for i in ls_bf:\n",
    "    _ls = []\n",
    "    for j in i.findAll('td'):\n",
    "        str_j = str(j)\n",
    "        str_j = str_j.replace('[', '')\n",
    "        str_j = str_j.replace(']', '')\n",
    "        str_j = str_j.replace('\\xa0ㆍ', '')\n",
    "        if str_j.split('<')==3:\n",
    "            _ls = _ls + ''\n",
    "        else:\n",
    "            _ls = _ls + [str_j.split('<')[1].split('>')[1]]\n",
    "    if len(_ls) !=4:\n",
    "        pass\n",
    "    else :\n",
    "        _df_rlt = _df_rlt.append(pd.DataFrame(data = [_ls] , columns = ['gubun','year_1','year_2','year_3']))\n",
    "_df_rlt.reset_index(drop=True,inplace=True)"
   ]
  },
  {
   "cell_type": "code",
   "execution_count": 34,
   "metadata": {},
   "outputs": [
    {
     "data": {
      "text/plain": [
       "'http://dart.fss.or.kr/report/viewer.do?rcpNo=20100331001680&dcmNo=2591647&eleId=ul&offset=ul&length=ul&dtd=dart3.xsd'"
      ]
     },
     "execution_count": 34,
     "metadata": {},
     "output_type": "execute_result"
    }
   ],
   "source": [
    "url_final"
   ]
  },
  {
   "cell_type": "code",
   "execution_count": null,
   "metadata": {},
   "outputs": [],
   "source": []
  },
  {
   "cell_type": "code",
   "execution_count": 35,
   "metadata": {},
   "outputs": [],
   "source": [
    "aa = 'http://dart.fss.or.kr/report/viewer.do?rcpNo=20180402005019&dcmNo=6060273&eleId=13&offset=642452&length=115790&dtd=dart3.xsd'"
   ]
  },
  {
   "cell_type": "code",
   "execution_count": 43,
   "metadata": {},
   "outputs": [],
   "source": [
    "html = urlopen(aa) # 반기보고서 url\n",
    "\n",
    "# 반기보고서 url로 반기보고서 html 호출\n",
    "bsobjt = BeautifulSoup(html,\"html.parser\") "
   ]
  },
  {
   "cell_type": "code",
   "execution_count": 57,
   "metadata": {},
   "outputs": [
    {
     "data": {
      "text/plain": [
       "<tr>\n",
       "<td height=\"20\" width=\"285\">\n",
       "<p>　자산총계</p>\n",
       "</td>\n",
       "<td align=\"RIGHT\" height=\"20\" width=\"124\">\n",
       "<p>301,752,090</p>\n",
       "</td>\n",
       "<td align=\"RIGHT\" height=\"20\" width=\"150\">\n",
       "<p>262,174,324</p>\n",
       "</td>\n",
       "<td align=\"RIGHT\" height=\"20\" width=\"150\">\n",
       "<p>242,179,521</p>\n",
       "</td>\n",
       "</tr>"
      ]
     },
     "execution_count": 57,
     "metadata": {},
     "output_type": "execute_result"
    }
   ],
   "source": [
    "bsobjt.find_all('tr')[28]"
   ]
  },
  {
   "cell_type": "code",
   "execution_count": 58,
   "metadata": {},
   "outputs": [
    {
     "data": {
      "text/plain": [
       "False"
      ]
     },
     "execution_count": 58,
     "metadata": {},
     "output_type": "execute_result"
    }
   ],
   "source": [
    "'자산총계' in bsobjt.find_all('tr')[28]"
   ]
  },
  {
   "cell_type": "code",
   "execution_count": 61,
   "metadata": {},
   "outputs": [
    {
     "data": {
      "text/plain": [
       "True"
      ]
     },
     "execution_count": 61,
     "metadata": {},
     "output_type": "execute_result"
    }
   ],
   "source": [
    "'자산총계' in bsobjt.find_all('tr')[28].text"
   ]
  },
  {
   "cell_type": "code",
   "execution_count": 62,
   "metadata": {},
   "outputs": [
    {
     "data": {
      "text/plain": [
       "220"
      ]
     },
     "execution_count": 62,
     "metadata": {},
     "output_type": "execute_result"
    }
   ],
   "source": [
    "len(bsobjt.find_all('tr'))"
   ]
  },
  {
   "cell_type": "code",
   "execution_count": 65,
   "metadata": {},
   "outputs": [
    {
     "name": "stdout",
     "output_type": "stream",
     "text": [
      "180 \n",
      "\n",
      "영업활동 현금흐름\n",
      "\n",
      "\n",
      "62,162,041\n",
      "\n",
      "\n",
      "47,385,644\n",
      "\n",
      "\n",
      "40,061,761\n",
      "\n",
      "\n"
     ]
    }
   ],
   "source": [
    "for i in range(len(bsobjt.find_all('tr'))):\n",
    "    if '영업활동 현금흐름' in bsobjt.find_all('tr')[i].text:\n",
    "        print(i, bsobjt.find_all('tr')[i].text)"
   ]
  },
  {
   "cell_type": "code",
   "execution_count": 69,
   "metadata": {},
   "outputs": [
    {
     "data": {
      "text/plain": [
       "'\\n\\n영업활동 현금흐름\\n\\n\\n62,162,041\\n\\n\\n47,385,644\\n\\n\\n40,061,761\\n\\n'"
      ]
     },
     "execution_count": 69,
     "metadata": {},
     "output_type": "execute_result"
    }
   ],
   "source": [
    "bsobjt.find_all('tr')[180].text"
   ]
  },
  {
   "cell_type": "markdown",
   "metadata": {},
   "source": [
    "### 이것만 가져올 수 있으면 가능한거 아닌가..?"
   ]
  },
  {
   "cell_type": "code",
   "execution_count": null,
   "metadata": {},
   "outputs": [],
   "source": []
  },
  {
   "cell_type": "markdown",
   "metadata": {},
   "source": [
    "---"
   ]
  },
  {
   "cell_type": "code",
   "execution_count": 10,
   "metadata": {},
   "outputs": [
    {
     "name": "stdin",
     "output_type": "stream",
     "text": [
      "기업종목코드 6자리 :  005930\n"
     ]
    }
   ],
   "source": [
    "#from bs4 import BeautifulSoup                            # for html parser\n",
    "from urllib.request import urlopen                       # for html request/respone\n",
    "import pandas as pd                                      # for DataFrame\n",
    "from html_table_parser import parser_functions as parser # for parsing\n",
    "\n",
    "#API_KEY = \"\"     # API 이용에 필요한 인증번호\n",
    "COMPANY_CODE = input(\"기업종목코드 6자리 : \")"
   ]
  },
  {
   "cell_type": "code",
   "execution_count": 20,
   "metadata": {},
   "outputs": [],
   "source": [
    "def searching_report() :                    \n",
    "    SEARCH_URL = \"http://dart.fss.or.kr/api/search.xml?auth=\" + API_KEY + \"&crp_cd=\" + COMPANY_CODE\n",
    "    SEARCH_URL = SEARCH_URL + \"&start_dt=19990101&bsn_tp=A001&fin_rpt=Y\"    #검색날짜 범위 / 사업보고서 / 최종보고서만\n",
    "    XML_RESULT = BeautifulSoup(urlopen(SEARCH_URL).read(), 'html.parser')\n",
    "    print(XML_RESULT)\n",
    "    #XML_RESULT = BeautifulSoup(urlopen(SEARCH_URL).read(), 'html5lib')\n",
    "    \n",
    "    find_list = XML_RESULT.findAll(\"list\")  # list태그를 모두 탐색\n",
    "    data = pd.DataFrame()                   # 데이터를 저장할 프레임 선언\n",
    "    for t in find_list :                    # 나열번호, 기업명, 기업번호, 보고서명, 보고서번호, 제출인,  접수일자, 비고\n",
    "        temp = pd.DataFrame(([[t.crp_cls.string, t.crp_nm.string, t.crp_cd.string, t.rpt_nm.string,\n",
    "                t.rcp_no.string, t.flr_nm.string, t.rcp_dt.string, t.rmk.string]]),\n",
    "                columns = [\"crp_cls\", \"crp_nm\", \"crp_cd\", \"rpt_nm\", \"rcp_no\", \"flr_nm\", \"rcp_dt\", \"rmk\"])\n",
    "        data = pd.concat([data, temp])\n",
    "    \n",
    "    if len(data) < 1 :                      # 검색 결과가 없을 시.\n",
    "        return None\n",
    "\n",
    "    del data['crp_cls']\n",
    "    del data['crp_cd']                      # 나열번호, 기업번호 제거 (불필요)\n",
    "    data = data.reset_index(drop=True)\n",
    "\n",
    "    return data"
   ]
  },
  {
   "cell_type": "code",
   "execution_count": 21,
   "metadata": {},
   "outputs": [
    {
     "name": "stdout",
     "output_type": "stream",
     "text": [
      "<meta content=\"0;url=http://dart.fss.or.kr/html/error1.htm\" http-equiv=\"refresh\">\n",
      "</meta>\n"
     ]
    }
   ],
   "source": [
    "searching_report()"
   ]
  },
  {
   "cell_type": "code",
   "execution_count": null,
   "metadata": {},
   "outputs": [],
   "source": []
  },
  {
   "cell_type": "code",
   "execution_count": null,
   "metadata": {},
   "outputs": [],
   "source": []
  },
  {
   "cell_type": "code",
   "execution_count": 6,
   "metadata": {},
   "outputs": [],
   "source": [
    "def fs_page() :\n",
    "    data = searching_report()\n",
    "    if len(data) < 1 :\n",
    "        print(\"!!!! 실패 : 사업보고서 검색 결과 없음.\")\n",
    "        return 0\n",
    "\n",
    "    document_count = 0\n",
    "\n",
    "    for i in range(len(data)) :\n",
    "        MAIN_URL = \"http://dart.fss.or.kr/dsaf001/main.do?rcpNo=\" + data['rcp_no'][document_count]\n",
    "        link_flag = 1\n",
    "        indi_flag = 1\n",
    "\n",
    "        page = BeautifulSoup(urlopen(MAIN_URL).read(), 'html.parser')\n",
    "        #page = BeautifulSoup(urlopen(MAIN_URL).read(), 'html5lib')\n",
    "        \n",
    "        body = str(page.find('head'))\n",
    "### 최근에 작성된 사업보고서들이 접근했을 때 동작을 성공할 수 있는 영역\n",
    "        if len(body.split('연결재무제표\",')) <= 1 :             # 연결재무제표 탐색 시작\n",
    "            if len(body.split('연 결 재 무 제 표\",')) >=2 : \n",
    "                body = body.split('연 결 재 무 제 표\",')[1]     # \"연 결 재 무 제 표\" 로 발견\n",
    "                link_page_1 = '연결재무제표'\n",
    "            else :                                             # 실패시 경고 문구\n",
    "                print(\"!!!! 실패 : \" + data['rpt_nm'][document_count] + \" / '연결재무제표' 페이지 탐색 실패함.\")\n",
    "                link_flag = 0         #연결 재무제표 없음\n",
    "        else :\n",
    "            body = body.split('연결재무제표\",')[1]              # \"연결재무제표\" 로 발견\n",
    "            link_page_1 = '연결재무제표'\n",
    "        \n",
    "        indi_body = body        \n",
    "        if len(indi_body.split('재무제표\",')) <= 1:             # 개별재무제표 탐색 시작\n",
    "            if len(indi_body.split('재 무 제 표\",')) >= 2:\n",
    "                indi_body = indi_body.split('재 무 제 표\",')[1] # \"재 무 제 표\" 로 발견\n",
    "                indi_page_1 = '재무제표'\n",
    "            else :                                             # 실패시 경고 문구\n",
    "                print(\"!!!! 실패 : \" + data['rpt_nm'][document_count] + \" / '재무제표' 페이지 탐색 실패함.\")\n",
    "                indi_flag = 0           #개별 재무제표 없음\n",
    "        else :\n",
    "            indi_body = indi_body.split('재무제표\",')[1]        # \"재무제표\" 로 발견\n",
    "            indi_page_1 = '재무제표'\n",
    "\n",
    "### 오래전에 작성된 사업보고서들이 상기 영역에서 실패 후 접근했을 때 동작을 성공할 수 있는 영역\n",
    "        if(link_flag == 0 and indi_flag == 0) :                       # 만약 오래된 사업보고서임이 판별 된 경우\n",
    "            old_body = body\n",
    "            if len(old_body.split('재무제표 등\",')) <= 1 :             # 오래된 사업보고서 재무제표 탐색 시작\n",
    "                if len(old_body.split('재 무 제 표 등\",')) >=2 : \n",
    "                    old_body = old_body.split('재 무 제 표 등\",')[1]   # \"재 무 제 표 등\" 으로 발견\n",
    "                    old_page_1 = '재무제표 등'\n",
    "                else :                                                # 실패시 경고 문구\n",
    "                    print(\"!!!! 실패 : \" + data['rpt_nm'][document_count] + \" / '재무제표 등' 페이지 탐색 실패함.\")\n",
    "                    continue                                     ###### 다음 사업보고서로 강제 이동\n",
    "            else :\n",
    "                old_body = old_body.split('재무제표 등\",')[1]          # \"재무제표 등\" 으로 발견\n",
    "                old_page_1 = '재무제표 등'\n",
    "        \n",
    "            old_table(old_body, data, document_count, old_page_1)     # 오래된 사업보고서용 함수 호출\n",
    "            document_count += 1\n",
    "            continue                                             ###### 다음 사업보고서로 강제 이동\n",
    "\n",
    "        if(link_flag == 1) : fs_table(body, data, document_count, link_page_1)      # 연결 재무제표가 있으면\n",
    "        if(indi_flag == 1) : fs_table(indi_body, data, document_count, indi_page_1) # 개별 재무제표가 있으면\n",
    "        document_count += 1\n",
    "\n",
    "    return"
   ]
  },
  {
   "cell_type": "code",
   "execution_count": 7,
   "metadata": {},
   "outputs": [],
   "source": [
    "def fs_table(body, data, document_count, page_1) :\n",
    "    body = body.split('cnt++')[0].split('viewDoc(')[1].split(')')[0].split(', ')\n",
    "    body = [body[i][1:-1] for i in range(len(body))]       # 찾아낸 재무제표 페이지로 이동하기 위한 url구성 번호 파싱\n",
    "    VIEWER_URL = \"http://dart.fss.or.kr/report/viewer.do?rcpNo=\" + body[0] \\\n",
    "                + '&dcmNo=' + body[1] + '&eleId=' + body[2] + '&offset=' + body[3] \\\n",
    "                + '&length=' + body[4] + '&dtd=dart3.xsd'\n",
    "\n",
    "    table_attribute = BeautifulSoup(urlopen(VIEWER_URL).read(), 'html.parser')\n",
    "    table_attribute = table_attribute.find('table') # 가장 먼저 등장하는 table태그 기준 가져오기\n",
    "    pt = parser.make2d(table_attribute)             # list로 변환저장 - 과정에서 다른 불필요한 태그들 자동 제거\n",
    "    table_attribute = pd.DataFrame(pt)              # DataFrame으로 변환하여 다시저장\n",
    "    \n",
    "    table_attribute = table_attribute.applymap(lambda x: x.replace('\\xa0','').replace('\\xa9','')) #인코딩을 위해 공백을 의미하는 특수문자열 제거\n",
    "    table_attribute.to_csv('C:\\\\Users\\\\admin\\\\Desktop\\\\Test_Result\\\\' + data['crp_nm'][0] + \"(\" + COMPANY_CODE\n",
    "                + \") \" + data['rpt_nm'][document_count] +'.csv', encoding='cp949', header=False, index=False, mode='a')\n",
    "                #header를 통해 column명 표기X, index를 통해 row명 표기X, mode w로 파일 덮어쓰기식 생성\n",
    "\n",
    "    page = BeautifulSoup(urlopen(VIEWER_URL).read(), 'html.parser')\n",
    "    if len(str(page.find('body')).split('재 무 상 태 표')) == 1 :   # 재무상태표 탐색 시작\n",
    "        if len(str(page.find('body')).split('재무상태표')) <= 1 :   # 재무상태표를 찾아내지 못한다면 프로그램 종료\n",
    "            print(\"!!!! 실패 : \" + data['rpt_nm'][document_count] + \" / \" + page_1 + \" / \" + \"재무상태표 탐색 실패.\")\n",
    "            return\n",
    "        else :\n",
    "            body = str(page.find('body')).split('재무상태표')[1]    # \"재무상태표\" 로 발견\n",
    "            page_2 = '재무상태표'\n",
    "    else : \n",
    "        body = str(page.find('body')).split('재 무 상 태 표')[1]    # \"재 무 상 태 표\" 로 발견\n",
    "        page_2 = '재무상태표'\n",
    "    \n",
    "    body = BeautifulSoup(body, 'html.parser')                       # 찾아낸 재무상태표를 읽어내기 위해 파싱\n",
    "    print(\"탐색 성공 : \" + data['rpt_nm'][document_count] + \" / \" + page_1 + \" / \" + page_2)\n",
    "    table = body.find_all('table')  # table 태그 탐색\n",
    "    if len(table) <= 1 :            # 탐색 실패시 프로그램 종료\n",
    "        print(\"!!!! 실패 : \" + data['rpt_nm'][document_count] + \" / \" + page_1 + \" / \" + page_2 + \" - 재무상태표 파싱 실패.\")\n",
    "        return\n",
    "\n",
    "    p = parser.make2d(table[0])    \n",
    "    table = pd.DataFrame(p[1:], columns = p[0])\n",
    "    table.to_csv('C:\\\\Users\\\\admin\\\\Desktop\\\\Test_Result\\\\' + data['crp_nm'][0] + \"(\" + COMPANY_CODE\n",
    "                + \") \" + data['rpt_nm'][document_count] +'.csv', encoding='cp949', index=False, mode='a')\n",
    "                #index를 통해 row명 표기X, mode a로 파일 이어쓰기식 열기\n",
    "    return"
   ]
  },
  {
   "cell_type": "code",
   "execution_count": 8,
   "metadata": {},
   "outputs": [],
   "source": [
    "def old_table(body, data, document_count, page_1) :\n",
    "    body = body.split('cnt++')[0].split('viewDoc(')[1].split(')')[0].split(', ')\n",
    "    body = [body[i][1:-1] for i in range(len(body))]       # 찾아낸 재무제표 페이지로 이동하기 위한 url구성 번호 파싱\n",
    "    VIEWER_URL = \"http://dart.fss.or.kr/report/viewer.do?rcpNo=\" + body[0] \\\n",
    "                + '&dcmNo=' + body[1] + '&eleId=' + body[2] + '&offset=' + body[3] \\\n",
    "                + '&length=' + body[4] + '&dtd=dart3.xsd'\n",
    "\n",
    "    # table_attribute = BeautifulSoup(urlopen(VIEWER_URL).read(), 'html.parser')\n",
    "    # table_attribute = table_attribute.find('table') # 가장 먼저 등장하는 table태그 기준 가져오기\n",
    "    # pt = parser.make2d(table_attribute)             # list로 변환저장 - 과정에서 다른 불필요한 태그들 자동 제거\n",
    "    # table_attribute = pd.DataFrame(pt)              # DataFrame으로 변환하여 다시저장\n",
    "    \n",
    "    # table_attribute = table_attribute.applymap(lambda x: x.replace('\\xa0','').replace('\\xa9','')) #인코딩을 위해 공백을 의미하는 특수문자열 제거\n",
    "    # table_attribute.to_csv('C:\\\\Users\\\\admin\\\\Desktop\\\\Test_Result\\\\' + data['crp_nm'][0] + \"(\" + COMPANY_CODE\n",
    "    #             + \") \" + data['rpt_nm'][document_count] +'.csv', encoding='cp949', header=False, index=False, mode='a')\n",
    "    #             #header를 통해 column명 표기X, index를 통해 row명 표기X, mode w로 파일 덮어쓰기식 생성\n",
    "    link_flag = 1\n",
    "    page = BeautifulSoup(urlopen(VIEWER_URL).read(), 'html.parser')\n",
    "    if len(str(page.find('body')).split('연 결 재 무 상 태 표')) == 1 :   # 연결재무상태표\n",
    "        if len(str(page.find('body')).split('연결 재무상태표')) <= 1 :   # 재무상태표를 찾아내지 못한다면 프로그램 종료\n",
    "            if len(str(page.find('body')).split('연결재무상태표')) <= 1 :\n",
    "                print(\"!!!! 실패 : \" + data['rpt_nm'][document_count] + \" / \" + page_1 + \" / \" + \"연결재무상태표 탐색 실패.\")\n",
    "                link_flag = 0\n",
    "            else :\n",
    "                body = str(page.find('body')).split('연결재무상태표')[1]    # \"재무상태표\" 로 발견\n",
    "                page_2 = '연결재무상태표'\n",
    "        else :\n",
    "            body = str(page.find('body')).split('연결 재무상태표')[1]    # \"재무상태표\" 로 발견\n",
    "            page_2 = '연결재무상태표'\n",
    "    else : \n",
    "        body = str(page.find('body')).split('연 결 재 무 상 태 표')[1]    # \"재 무 상 태 표\" 로 발견\n",
    "        page_2 = '연결재무상태표'\n",
    "    \n",
    "    # if (link_flag == 1) :\n",
    "    #     indi_body = body\n",
    "\n",
    "    #재무상태표(대차대조표)\n",
    "    #대차대조표\n",
    "    #대 차 대 조 표\n",
    "    #재무상태표(\n",
    "\n",
    "    body = BeautifulSoup(body, 'html.parser')                       # 찾아낸 재무상태표를 읽어내기 위해 파싱\n",
    "    table = body.find_all('table')  # table 태그 탐색\n",
    "    print(table)\n",
    "    return\n",
    "    if len(table) <= 1 :            # 탐색 실패시 프로그램 종료\n",
    "        print(\"!!!! 실패 : \" + data['rpt_nm'][document_count] + \" / \" + page_1 + \" / \" + page_2 + \" - 재무상태표 파싱 실패.\")\n",
    "        return\n",
    "\n",
    "    print(\"탐색 성공 : \" + data['rpt_nm'][document_count] + \" / \" + page_1 + \" / \" + page_2)\n",
    "    p = parser.make2d(table[0])    \n",
    "    table = pd.DataFrame(p[1:], columns = p[0])\n",
    "    table.to_csv('C:\\\\Users\\\\admin\\\\Desktop\\\\Test_Result\\\\' + data['crp_nm'][0] + \"(\" + COMPANY_CODE\n",
    "                + \") \" + data['rpt_nm'][document_count] +'.csv', encoding='cp949', index=False, mode='a')\n",
    "                #index를 통해 row명 표기X, mode a로 파일 이어쓰기식 열기\n",
    "    return"
   ]
  },
  {
   "cell_type": "code",
   "execution_count": 11,
   "metadata": {},
   "outputs": [
    {
     "ename": "TypeError",
     "evalue": "object of type 'NoneType' has no len()",
     "output_type": "error",
     "traceback": [
      "\u001b[1;31m---------------------------------------------------------------------------\u001b[0m",
      "\u001b[1;31mTypeError\u001b[0m                                 Traceback (most recent call last)",
      "\u001b[1;32m<ipython-input-11-f9c8437330b1>\u001b[0m in \u001b[0;36m<module>\u001b[1;34m\u001b[0m\n\u001b[1;32m----> 1\u001b[1;33m \u001b[0mprint\u001b[0m\u001b[1;33m(\u001b[0m\u001b[0mfs_page\u001b[0m\u001b[1;33m(\u001b[0m\u001b[1;33m)\u001b[0m\u001b[1;33m)\u001b[0m          \u001b[1;31m# for testing.\u001b[0m\u001b[1;33m\u001b[0m\u001b[1;33m\u001b[0m\u001b[0m\n\u001b[0m",
      "\u001b[1;32m<ipython-input-6-aa5abc714f24>\u001b[0m in \u001b[0;36mfs_page\u001b[1;34m()\u001b[0m\n\u001b[0;32m      1\u001b[0m \u001b[1;32mdef\u001b[0m \u001b[0mfs_page\u001b[0m\u001b[1;33m(\u001b[0m\u001b[1;33m)\u001b[0m \u001b[1;33m:\u001b[0m\u001b[1;33m\u001b[0m\u001b[1;33m\u001b[0m\u001b[0m\n\u001b[0;32m      2\u001b[0m     \u001b[0mdata\u001b[0m \u001b[1;33m=\u001b[0m \u001b[0msearching_report\u001b[0m\u001b[1;33m(\u001b[0m\u001b[1;33m)\u001b[0m\u001b[1;33m\u001b[0m\u001b[1;33m\u001b[0m\u001b[0m\n\u001b[1;32m----> 3\u001b[1;33m     \u001b[1;32mif\u001b[0m \u001b[0mlen\u001b[0m\u001b[1;33m(\u001b[0m\u001b[0mdata\u001b[0m\u001b[1;33m)\u001b[0m \u001b[1;33m<\u001b[0m \u001b[1;36m1\u001b[0m \u001b[1;33m:\u001b[0m\u001b[1;33m\u001b[0m\u001b[1;33m\u001b[0m\u001b[0m\n\u001b[0m\u001b[0;32m      4\u001b[0m         \u001b[0mprint\u001b[0m\u001b[1;33m(\u001b[0m\u001b[1;34m\"!!!! 실패 : 사업보고서 검색 결과 없음.\"\u001b[0m\u001b[1;33m)\u001b[0m\u001b[1;33m\u001b[0m\u001b[1;33m\u001b[0m\u001b[0m\n\u001b[0;32m      5\u001b[0m         \u001b[1;32mreturn\u001b[0m \u001b[1;36m0\u001b[0m\u001b[1;33m\u001b[0m\u001b[1;33m\u001b[0m\u001b[0m\n",
      "\u001b[1;31mTypeError\u001b[0m: object of type 'NoneType' has no len()"
     ]
    }
   ],
   "source": [
    "print(fs_page())          # for testing."
   ]
  },
  {
   "cell_type": "code",
   "execution_count": null,
   "metadata": {},
   "outputs": [],
   "source": []
  },
  {
   "cell_type": "code",
   "execution_count": 13,
   "metadata": {},
   "outputs": [],
   "source": [
    "#from urllib.request import urlopen    # for html request/respone\n",
    "##from bs4 import BeautifulSoup\n",
    "#import pandas as pd\n",
    "#import os\n",
    "#from selenium import webdriver\n",
    "\n",
    "def download_files():\n",
    "    XML_RESULT = BeautifulSoup(urlopen(\"https://opendart.fss.or.kr/disclosureinfo/fnltt/dwld/main.do\").read(), 'html.parser')\n",
    "    down_option = XML_RESULT.find_all('a', onclick=())\n",
    "    print(lambda x: \"Y\" if \"\\'FY\\',\" in x else \"No.\\n\", down_option)"
   ]
  },
  {
   "cell_type": "code",
   "execution_count": 14,
   "metadata": {},
   "outputs": [
    {
     "name": "stdout",
     "output_type": "stream",
     "text": [
      "<function download_files.<locals>.<lambda> at 0x000001C6E816E670> [<a href=\"/\"><img alt=\"오픈다트 로고\" src=\"/images/logo.png\"/></a>, <a href=\"/uat/uia/egovLoginUsr.do\">LOGIN</a>, <a href=\"/sitemap/main.do\">SITE MAP</a>, <a href=\"javascript:toSNS('F','000')\" title=\"페이스북 바로가기(새창열림)\"><img alt=\"페이스북 바로가기\" src=\"/images/gnb_sns_01.png\"/></a>, <a href=\"javascript:toSNS('T','000')\" title=\"트위터 바로가기(새창열림)\"><img alt=\"트위터 바로가기\" src=\"/images/gnb_sns_02.png\"/></a>, <a href=\"javascript:toSNS('B','000')\" title=\"블로그 바로가기(새창열림)\"><img alt=\"블로그 바로가기\" src=\"/images/gnb_sns_03.png\"/></a>, <a href=\"/intro/main.do\">오픈API 소개</a>, <a href=\"/intro/main.do\">오픈API 소개</a>, <a href=\"/intro/infoApiList.do\">오픈API 서비스 소개</a>, <a href=\"/intro/terms.do\">이용약관</a>, <a href=\"/intro/confirm.do\">개인정보 수집이용동의</a>, <a href=\"/mng/userApiKeyListView.do\">인증키 신청/관리</a>, <a href=\"/uss/umt/EgovMberInsertView.do\">인증키 신청</a>, <a href=\"/mng/userApiKeyListView.do\">인증키 관리</a>, <a href=\"/mng/apiUsageStatusView.do\">오픈API 이용현황</a>, <a href=\"/guide/main.do?apiGrpCd=DS001\">개발가이드</a>, <a href=\"/guide/main.do?apiGrpCd=DS001\">공시정보</a>, <a href=\"/guide/main.do?apiGrpCd=DS002\">사업보고서 주요정보</a>, <a href=\"/guide/main.do?apiGrpCd=DS003\">상장기업 재무정보</a>, <a href=\"/guide/main.do?apiGrpCd=DS004\">지분공시 종합정보</a>, <a href=\"/disclosureinfo/biz/main.do\">공시정보 활용마당</a>, <a href=\"/disclosureinfo/biz/main.do\">사업보고서 주요정보조회</a>, <a href=\"/disclosureinfo/fnltt/singl/main.do\">재무정보조회</a>, <a href=\"/disclosureinfo/fnltt/dwld/main.do\">재무정보일괄다운로드</a>, <a href=\"/disclosureinfo/qota/main.do\">지분공시 종합정보조회</a>, <a href=\"/cop/bbs/selectArticleList.do?bbsId=B0000000000000000001\">소통창구</a>, <a href=\"/cop/bbs/selectArticleList.do?bbsId=B0000000000000000001\">공지사항</a>, <a href=\"/cop/bbs/selectArticleList.do?bbsId=B0000000000000000002\">FAQ </a>, <a href=\"/cop/bbs/selectArticleList.do?bbsId=B0000000000000000003\">Q&amp;A;</a>, <a href=\"/cop/bbs/selectArticleList.do?bbsId=B0000000000000000004\">변동내역알림</a>, <a href=\"/mng/selectUserInfoView.do\">마이페이지</a>, <a href=\"/mng/selectUserInfoView.do\">사용자 정보조회</a>, <a href=\"/mng/changeUserPwView.do\">비밀번호 변경</a>, <a href=\"/mng/signOutUserView.do\">탈퇴하기</a>, <a href=\"/\"><img alt=\"다트 로고\" src=\"/images/mobile/logo.png\"/></a>, <a href=\"#none\" id=\"m_menu\"><img alt=\"메뉴\" src=\"/images/mobile/top_menu.png\"/></a>, <a href=\"javascript: void(0);\">오픈API 소개</a>, <a href=\"/intro/main.do\">오픈API 소개</a>, <a href=\"/intro/terms.do\">이용약관</a>, <a href=\"/intro/confirm.do\">개인정보 수집이용동의</a>, <a href=\"javascript: void(0);\">인증키 신청/관리</a>, <a href=\"/uss/umt/EgovMberInsertView.do\">인증키 신청</a>, <a href=\"/mng/userApiKeyListView.do\">인증키 관리</a>, <a href=\"/mng/apiUsageStatusView.do\">오픈API 이용현황</a>, <a href=\"javascript: void(0);\">개발가이드</a>, <a href=\"/guide/main.do?apiGrpCd=DS001\">공시정보</a>, <a href=\"/guide/main.do?apiGrpCd=DS002\">사업보고서 주요정보</a>, <a href=\"/guide/main.do?apiGrpCd=DS003\">상장기업 재무정보</a>, <a href=\"/guide/main.do?apiGrpCd=DS004\">지분공시 종합정보</a>, <a href=\"javascript: void(0);\">공시정보 활용마당</a>, <a href=\"/disclosureinfo/biz/main.do\">사업보고서 주요정보조회</a>, <a href=\"javascript: void(0);\">재무정보조회</a>, <a href=\"/disclosureinfo/fnltt/singl/main.do\">단일회사 재무제표 조회</a>, <a href=\"/disclosureinfo/fnltt/singlacnt/main.do\">단일회사 주요계정 조회</a>, <a href=\"/disclosureinfo/fnltt/cmpnyacnt/main.do\">회사간 주요계정 비교</a>, <a href=\"/disclosureinfo/fnltt/xbrl/main.do\">XBRL재무제표 원문 내려받기</a>, <a href=\"/disclosureinfo/fnltt/dwld/main.do\">재무정보일괄다운로드</a>, <a href=\"/disclosureinfo/qota/main.do\">지분공시 종합정보조회</a>, <a href=\"javascript: void(0);\">소통창구</a>, <a href=\"/cop/bbs/selectArticleList.do?bbsId=B0000000000000000001\">공지사항</a>, <a href=\"/cop/bbs/selectArticleList.do?bbsId=B0000000000000000002\">FAQ </a>, <a href=\"/cop/bbs/selectArticleList.do?bbsId=B0000000000000000003\">Q&amp;A;</a>, <a href=\"/cop/bbs/selectArticleList.do?bbsId=B0000000000000000004\">변동내역알림</a>, <a href=\"javascript: void(0);\">마이페이지</a>, <a href=\"/mng/selectUserInfoView.do\">사용자 정보조회</a>, <a href=\"/mng/changeUserPwView.do\">비밀번호 변경</a>, <a href=\"/mng/signOutUserView.do\">탈퇴하기</a>, <a href=\"javascript:toSNS('F','000')\" title=\"전자공시시스템 페이스북 바로가기(새창열림)\"><img alt=\"페이스북 바로가기\" src=\"/images/mobile/gnb_sns_01.png\"/></a>, <a href=\"javascript:toSNS('T','000')\" title=\"전자공시시스템 트위터 바로가기(새창열림)\"><img alt=\"트위터 바로가기\" src=\"/images/mobile/gnb_sns_02.png\"/></a>, <a href=\"javascript:toSNS('B','000')\" title=\"전자공시시스템 블로그 바로가기(새창열림)\"><img alt=\"블로그 바로가기\" src=\"/images/mobile/gnb_sns_03.png\"/></a>, <a href=\"/disclosureinfo/biz/main.do\">사업보고서 주요정보조회</a>, <a class=\"on\" href=\"/disclosureinfo/fnltt/singl/main.do\">재무정보조회</a>, <a href=\"/disclosureinfo/fnltt/singl/main.do\">단일회사 재무제표 조회</a>, <a href=\"/disclosureinfo/fnltt/singlacnt/main.do\">단일회사 주요계정 조회</a>, <a href=\"/disclosureinfo/fnltt/cmpnyacnt/main.do\">회사간 주요계정 비교</a>, <a href=\"/disclosureinfo/fnltt/xbrl/main.do\">XBRL 재무제표 원문 내려받기</a>, <a href=\"/disclosureinfo/fnltt/dwld/main.do\">재무정보 일괄다운로드</a>, <a href=\"/disclosureinfo/qota/main.do\">지분공시 종합정보조회</a>, <a href=\"http://dart.fss.or.kr\" target=\"_blank\"><img alt=\"전자공시시스템 바로가기\" src=\"/images/footer_banner_09.png\"/></a>, <a href=\"http://www.fsc.go.kr\" target=\"_blank\"><img alt=\"금융위원회 바로가기\" src=\"/images/footer_banner_02.png\"/></a>, <a href=\"http://www.ftc.go.kr\" target=\"_blank\"><img alt=\"공정거래위원회 바로가기\" src=\"/images/footer_banner_03.png\"/></a>, <a href=\"http://law.fss.or.kr\" target=\"_blank\"><img alt=\"금융감독법규 바로가기\" src=\"/images/footer_banner_04.png\"/></a>, <a href=\"http://www.fss.or.kr/fss/scop/main.jsp\" target=\"_blank\"><img alt=\"인터넷증권 범죄신고 바로가기\" src=\"/images/footer_banner_05.png\"/></a>, <a href=\"https://1398.acrc.go.kr/hpg/req/hpgPssStep1.do\" target=\"_blank\"><img alt=\"복지보조금 부정신고 바로가기\" src=\"/images/footer_banner_06.png\"/></a>, <a href=\"http://www.fss.or.kr/fss/kr/acro/participate/public_interest_info.jsp\" target=\"_blank\"><img alt=\"금융감독원공익신고 바로가기\" src=\"/images/footer_banner_07.png\"/></a>, <a href=\"http://www.fss.or.kr/fss/kr/info/privacy/privacy.jsp\" target=\"_blank\"><img alt=\"개인정보처리방침 바로가기\" src=\"/images/footer_banner_08.png\"/></a>, <a href=\"http://www.fss.or.kr/fss/kr/main.html\" target=\"_blank\"><img alt=\"금융감독원 바로가기\" src=\"/images/footer_logo.png\"/></a>, <a href=\"tel:0231455114\">02)3145-5114</a>, <a href=\"tel:1332\">1332</a>, <a href=\"tel:1332\">1332</a>]\n"
     ]
    }
   ],
   "source": [
    "download_files()"
   ]
  },
  {
   "cell_type": "code",
   "execution_count": 18,
   "metadata": {},
   "outputs": [
    {
     "name": "stdout",
     "output_type": "stream",
     "text": [
      "모든 TXT to TSV 변환이 완료되었습니다!\n"
     ]
    }
   ],
   "source": [
    "def main() :\n",
    "    #download_files() 사실상 버려진 함수\n",
    "\n",
    "    CWD = os.getcwd()               # 현재 디렉토리 위치 잡기\n",
    "    file_list = os.listdir(CWD)    # 현재 Python이 실행된 디렉토리 내부 파일들 가져오기\n",
    "    dir_list = []\n",
    "    for file in file_list :         # 현재 파일목록 탐색\n",
    "        if \"BS\" in file or \"PL\" in file :   # 이름에 BS 또는 PL이 포함되는 경우\n",
    "            if os.path.isdir(file) :        # BS 또는 PL에, 디렉토리인 경우\n",
    "                dir_list.append(file)       # dir_list 에 추가\n",
    "\n",
    "    for dir in dir_list :                   # dir_list 탐색\n",
    "        fa_file_list = []                   # fa_file_list 초기화\n",
    "        file_list = os.listdir(dir)         # dir 경로 내부 파일들 가져오기\n",
    "\n",
    "        for file in file_list :             # dir 파일 목록 탐색\n",
    "            if \"사업보고서\" in file :       # 이름에 사업보고서가 포함된 경우\n",
    "                fa_file_list.append(file)   # fa_file_list 에 추가\n",
    "        for fa_file in fa_file_list :       # fa_file_list 탐색\n",
    "            TSV_TABLE = pd.read_csv(dir + \"\\\\\" + fa_file, sep=\"\\t\", encoding=\"cp949\") #한글 인코딩, 탭단위 구분으로 읽어오기\n",
    "            TSV_TABLE.rename(columns={\"재무제표종류\":\"결산연도\"}, inplace=True) # 재무제표종류 컬럼을 결산연도로 변경\n",
    "            TSV_TABLE.rename(columns={\"항목코드\":\"LEVEL\"}, inplace=True)       # 항목코드 컬럼을 LEVEL로 변경\n",
    "            TSV_TABLE.insert(loc=11, column=\"총계구분\", value='')              # 총계구분 컬럼 추가\n",
    "            del TSV_TABLE[\"업종\"], TSV_TABLE[\"업종명\"], TSV_TABLE[\"결산기준일\"], TSV_TABLE[\"시장구분\"]  \n",
    "                                # 업종, 업종명, 결산기준일, 시장구분 컬럼 제거\n",
    "            for del_unnamed in TSV_TABLE.columns :          # 공백으로 채워진 컬럼 제거\n",
    "                if \"Unnamed:\" in del_unnamed : del TSV_TABLE[del_unnamed]\n",
    "\n",
    "            TSV_TABLE[\"결산연도\"] = fa_file[0:4]    # 결산연도 컬럼 값 채우기\n",
    "            TSV_TABLE[\"LEVEL\"] = list(map(lambda x: len(x) - len(x.lstrip()), TSV_TABLE[\"항목명\"])) # LEVEL컬럼 값 채우기\n",
    "            TSV_TABLE[\"총계구분\"] = list(map(lambda x: \"Y\" if \"총계\" in x else \"N\", TSV_TABLE[\"항목명\"])) #총계구분 컬럼 값 채우기   \n",
    "            \n",
    "            TSV_TABLE.to_csv(\"TSV___\"+ fa_file.split('.')[0] + '.tsv', index=False, sep=\"\\t\")   # .tsv 파일로 저장\n",
    "            TSV_TABLE.to_csv(\"TXT___\"+ fa_file.split('.')[0] + '.txt', index=False, sep=\"\\t\")   # .txt 파일로 저장\n",
    "            print(fa_file.split('.')[0] + \"\\t파일 변환 완료\")   # 파일 당 성공여부 출력\n",
    "\n",
    "main()\n",
    "print(\"모든 TXT to TSV 변환이 완료되었습니다!\") # 프로그램 정상종료 출력                "
   ]
  },
  {
   "cell_type": "code",
   "execution_count": 17,
   "metadata": {},
   "outputs": [],
   "source": [
    "import os"
   ]
  },
  {
   "cell_type": "markdown",
   "metadata": {},
   "source": [
    "---"
   ]
  },
  {
   "cell_type": "markdown",
   "metadata": {},
   "source": [
    "http://dart.fss.or.kr/report/viewer.do?rcpNo=20200330003851&dcmNo=7202455&eleId=13&offset=629645&length=115706&dtd=dart3.xsd"
   ]
  },
  {
   "cell_type": "markdown",
   "metadata": {},
   "source": [
    "http://dart.fss.or.kr/report/viewer.do?rcpNo=20190401004781&dcmNo=6616741&eleId=13&offset=625579&length=120141&dtd=dart3.xsd"
   ]
  },
  {
   "cell_type": "markdown",
   "metadata": {},
   "source": [
    "http://dart.fss.or.kr/report/viewer.do?rcpNo=20200330004441&dcmNo=7206202&eleId=13&offset=372010&length=92933&dtd=dart3.xsd"
   ]
  },
  {
   "cell_type": "markdown",
   "metadata": {},
   "source": [
    "http://dart.fss.or.kr/report/viewer.do?rcpNo=20180402005019&dcmNo=6060273&eleId=13&offset=642452&length=115790&dtd=dart3.xsd"
   ]
  },
  {
   "cell_type": "code",
   "execution_count": null,
   "metadata": {},
   "outputs": [],
   "source": []
  },
  {
   "cell_type": "code",
   "execution_count": 22,
   "metadata": {},
   "outputs": [],
   "source": [
    "#auth_key=\"Type your own key\" #authority key\n",
    "company_code=\"005930\" #company code\n",
    "start_date=\"1990101\"\n",
    "\n",
    "#STEP 3\n",
    "url = \"http://dart.fss.or.kr/api/search.xml?auth=\"+API_KEY+\"&crp_cd=\"+company_code+\"&start_dt=\"+start_date+\"&bsn_tp=A001&bsn_tp=A002&bsn_tp=A003\"\n"
   ]
  },
  {
   "cell_type": "code",
   "execution_count": 23,
   "metadata": {},
   "outputs": [
    {
     "data": {
      "text/plain": [
       "'http://dart.fss.or.kr/api/search.xml?auth=34498c52b5674a6014154edbaa30d2739f265da7&crp_cd=005930&start_dt=1990101&bsn_tp=A001&bsn_tp=A002&bsn_tp=A003'"
      ]
     },
     "execution_count": 23,
     "metadata": {},
     "output_type": "execute_result"
    }
   ],
   "source": [
    "url"
   ]
  },
  {
   "cell_type": "code",
   "execution_count": null,
   "metadata": {},
   "outputs": [],
   "source": [
    "#auth_key=\"Type your own key\" #authority key\n",
    "company_code=\"005930\" #company code\n",
    "start_date=\"1990101\"\n",
    "\n",
    "#STEP 3\n",
    "url = \"http://dart.fss.or.kr/api/search.xml?auth=\"+API_KEY+\"&crp_cd=\"+company_code+\"&start_dt=\"+start_date+\"&bsn_tp=A001&bsn_tp=A002&bsn_tp=A003\"\n",
    "\n",
    "#STEP 4\n",
    "resultXML=urlopen(url)  #this is for response of XML\n",
    "result=resultXML.read() #Using read method\n",
    "\n",
    "#STEP 5\n",
    "xmlsoup=BeautifulSoup(result,'html.parser')\n",
    "\n",
    "#STEP 6\n",
    "data = pd.DataFrame()\n",
    "\n",
    "te=xmlsoup.findAll(\"list\")"
   ]
  },
  {
   "cell_type": "code",
   "execution_count": null,
   "metadata": {},
   "outputs": [],
   "source": []
  },
  {
   "cell_type": "code",
   "execution_count": 28,
   "metadata": {},
   "outputs": [],
   "source": [
    "import OpenDartReader\n",
    "\n",
    "# ==== 0. 객체 생성 ====\n",
    "# 객체 생성 (API KEY 지정) \n",
    "#api_key = 'a81e18ac719d1e1e4ec2899ef25a737ab6cbb4c7'\n",
    "\n",
    "dart = OpenDartReader(API_KEY) \n"
   ]
  },
  {
   "cell_type": "code",
   "execution_count": 29,
   "metadata": {},
   "outputs": [
    {
     "data": {
      "text/html": [
       "<div>\n",
       "<style scoped>\n",
       "    .dataframe tbody tr th:only-of-type {\n",
       "        vertical-align: middle;\n",
       "    }\n",
       "\n",
       "    .dataframe tbody tr th {\n",
       "        vertical-align: top;\n",
       "    }\n",
       "\n",
       "    .dataframe thead th {\n",
       "        text-align: right;\n",
       "    }\n",
       "</style>\n",
       "<table border=\"1\" class=\"dataframe\">\n",
       "  <thead>\n",
       "    <tr style=\"text-align: right;\">\n",
       "      <th></th>\n",
       "      <th>corp_code</th>\n",
       "      <th>corp_name</th>\n",
       "      <th>stock_code</th>\n",
       "      <th>corp_cls</th>\n",
       "      <th>report_nm</th>\n",
       "      <th>rcept_no</th>\n",
       "      <th>flr_nm</th>\n",
       "      <th>rcept_dt</th>\n",
       "      <th>rm</th>\n",
       "    </tr>\n",
       "  </thead>\n",
       "  <tbody>\n",
       "    <tr>\n",
       "      <th>0</th>\n",
       "      <td>00126380</td>\n",
       "      <td>삼성전자</td>\n",
       "      <td>005930</td>\n",
       "      <td>Y</td>\n",
       "      <td>임원ㆍ주요주주특정증권등소유상황보고서</td>\n",
       "      <td>20210203000461</td>\n",
       "      <td>안규리</td>\n",
       "      <td>20210203</td>\n",
       "      <td></td>\n",
       "    </tr>\n",
       "    <tr>\n",
       "      <th>1</th>\n",
       "      <td>00126380</td>\n",
       "      <td>삼성전자</td>\n",
       "      <td>005930</td>\n",
       "      <td>Y</td>\n",
       "      <td>임원ㆍ주요주주특정증권등소유상황보고서</td>\n",
       "      <td>20210203000324</td>\n",
       "      <td>국민연금공단</td>\n",
       "      <td>20210203</td>\n",
       "      <td></td>\n",
       "    </tr>\n",
       "    <tr>\n",
       "      <th>2</th>\n",
       "      <td>00126380</td>\n",
       "      <td>삼성전자</td>\n",
       "      <td>005930</td>\n",
       "      <td>Y</td>\n",
       "      <td>임원ㆍ주요주주특정증권등소유상황보고서</td>\n",
       "      <td>20210202000037</td>\n",
       "      <td>정진민</td>\n",
       "      <td>20210202</td>\n",
       "      <td></td>\n",
       "    </tr>\n",
       "    <tr>\n",
       "      <th>3</th>\n",
       "      <td>00126380</td>\n",
       "      <td>삼성전자</td>\n",
       "      <td>005930</td>\n",
       "      <td>Y</td>\n",
       "      <td>임원ㆍ주요주주특정증권등소유상황보고서</td>\n",
       "      <td>20210128000335</td>\n",
       "      <td>이창수</td>\n",
       "      <td>20210128</td>\n",
       "      <td></td>\n",
       "    </tr>\n",
       "    <tr>\n",
       "      <th>4</th>\n",
       "      <td>00126380</td>\n",
       "      <td>삼성전자</td>\n",
       "      <td>005930</td>\n",
       "      <td>Y</td>\n",
       "      <td>매출액또는손익구조30%(대규모법인은15%)이상변경</td>\n",
       "      <td>20210128800077</td>\n",
       "      <td>삼성전자</td>\n",
       "      <td>20210128</td>\n",
       "      <td>유</td>\n",
       "    </tr>\n",
       "    <tr>\n",
       "      <th>...</th>\n",
       "      <td>...</td>\n",
       "      <td>...</td>\n",
       "      <td>...</td>\n",
       "      <td>...</td>\n",
       "      <td>...</td>\n",
       "      <td>...</td>\n",
       "      <td>...</td>\n",
       "      <td>...</td>\n",
       "      <td>...</td>\n",
       "    </tr>\n",
       "    <tr>\n",
       "      <th>45</th>\n",
       "      <td>00126380</td>\n",
       "      <td>삼성전자</td>\n",
       "      <td>005930</td>\n",
       "      <td>Y</td>\n",
       "      <td>채무보증(담보제공포함)</td>\n",
       "      <td>20000404000429</td>\n",
       "      <td>삼성전자</td>\n",
       "      <td>20000404</td>\n",
       "      <td></td>\n",
       "    </tr>\n",
       "    <tr>\n",
       "      <th>46</th>\n",
       "      <td>00126380</td>\n",
       "      <td>삼성전자</td>\n",
       "      <td>005930</td>\n",
       "      <td>Y</td>\n",
       "      <td>최대주주등을위한금전의대여</td>\n",
       "      <td>20000401000031</td>\n",
       "      <td>삼성전자</td>\n",
       "      <td>20000401</td>\n",
       "      <td></td>\n",
       "    </tr>\n",
       "    <tr>\n",
       "      <th>47</th>\n",
       "      <td>00126380</td>\n",
       "      <td>삼성전자</td>\n",
       "      <td>005930</td>\n",
       "      <td>Y</td>\n",
       "      <td>감사보고서 (1999.12)</td>\n",
       "      <td>20000320000124</td>\n",
       "      <td>삼일회계법인</td>\n",
       "      <td>20000320</td>\n",
       "      <td></td>\n",
       "    </tr>\n",
       "    <tr>\n",
       "      <th>48</th>\n",
       "      <td>00126380</td>\n",
       "      <td>삼성전자</td>\n",
       "      <td>005930</td>\n",
       "      <td>Y</td>\n",
       "      <td>[기재정정]반기보고서 (1999.06)</td>\n",
       "      <td>19990824000003</td>\n",
       "      <td>삼성전자</td>\n",
       "      <td>19990824</td>\n",
       "      <td></td>\n",
       "    </tr>\n",
       "    <tr>\n",
       "      <th>49</th>\n",
       "      <td>00126380</td>\n",
       "      <td>삼성전자</td>\n",
       "      <td>005930</td>\n",
       "      <td>Y</td>\n",
       "      <td>[기재정정]사업보고서 (1998.12)</td>\n",
       "      <td>19990626000007</td>\n",
       "      <td>삼성전자</td>\n",
       "      <td>19990626</td>\n",
       "      <td>연</td>\n",
       "    </tr>\n",
       "  </tbody>\n",
       "</table>\n",
       "<p>5250 rows × 9 columns</p>\n",
       "</div>"
      ],
      "text/plain": [
       "   corp_code corp_name stock_code corp_cls                    report_nm  \\\n",
       "0   00126380      삼성전자     005930        Y          임원ㆍ주요주주특정증권등소유상황보고서   \n",
       "1   00126380      삼성전자     005930        Y          임원ㆍ주요주주특정증권등소유상황보고서   \n",
       "2   00126380      삼성전자     005930        Y          임원ㆍ주요주주특정증권등소유상황보고서   \n",
       "3   00126380      삼성전자     005930        Y          임원ㆍ주요주주특정증권등소유상황보고서   \n",
       "4   00126380      삼성전자     005930        Y  매출액또는손익구조30%(대규모법인은15%)이상변경   \n",
       "..       ...       ...        ...      ...                          ...   \n",
       "45  00126380      삼성전자     005930        Y                 채무보증(담보제공포함)   \n",
       "46  00126380      삼성전자     005930        Y                최대주주등을위한금전의대여   \n",
       "47  00126380      삼성전자     005930        Y              감사보고서 (1999.12)   \n",
       "48  00126380      삼성전자     005930        Y        [기재정정]반기보고서 (1999.06)   \n",
       "49  00126380      삼성전자     005930        Y        [기재정정]사업보고서 (1998.12)   \n",
       "\n",
       "          rcept_no  flr_nm  rcept_dt rm  \n",
       "0   20210203000461     안규리  20210203     \n",
       "1   20210203000324  국민연금공단  20210203     \n",
       "2   20210202000037     정진민  20210202     \n",
       "3   20210128000335     이창수  20210128     \n",
       "4   20210128800077    삼성전자  20210128  유  \n",
       "..             ...     ...       ... ..  \n",
       "45  20000404000429    삼성전자  20000404     \n",
       "46  20000401000031    삼성전자  20000401     \n",
       "47  20000320000124  삼일회계법인  20000320     \n",
       "48  19990824000003    삼성전자  19990824     \n",
       "49  19990626000007    삼성전자  19990626  연  \n",
       "\n",
       "[5250 rows x 9 columns]"
      ]
     },
     "execution_count": 29,
     "metadata": {},
     "output_type": "execute_result"
    }
   ],
   "source": [
    "# 삼성전자 상장이후 모든 공시 목록 (5,142 건+)\n",
    "dart.list('005930', start='1900') "
   ]
  },
  {
   "cell_type": "code",
   "execution_count": null,
   "metadata": {},
   "outputs": [],
   "source": []
  },
  {
   "cell_type": "code",
   "execution_count": null,
   "metadata": {},
   "outputs": [],
   "source": []
  },
  {
   "cell_type": "code",
   "execution_count": null,
   "metadata": {},
   "outputs": [],
   "source": [
    "\n",
    "\n",
    "\n",
    "# == 1. 공시정보 검색 ==\n",
    "# 삼성전자 2019-07-01 하루 동안 공시 목록 (날짜에 다양한 포맷이 가능합니다)\n",
    "dart.list('005930', end='2019-7-1')\n",
    "\n",
    "# 삼성전자 상장이후 모든 공시 목록 (5,142 건+)\n",
    "dart.list('005930', start='1900') \n",
    "\n",
    "# 삼성전자 2010-01-01 ~ 2019-12-31 모든 공시 목록 (2,676 건)\n",
    "dart.list('005930', start='2010-01-01', end='2019-12-31') \n",
    "\n",
    "# 삼성전자 1999-01-01 이후 모든 정기보고서\n",
    "dart.list('005930', start='1999-01-01', kind='A', final=False)\n",
    "\n",
    "# 삼성전자 1999년~2019년 모든 정기보고서(최종보고서)\n",
    "dart.list('005930', start='1999-01-01', end='2019-12-31', kind='A') \n",
    "\n",
    "\n",
    "# 2020-07-01 하루동안 모든 공시목록\n",
    "dart.list(end='20200701')\n",
    "\n",
    "# 2020-01-01 ~ 2020-01-10 모든 회사의 모든 공시목록 (4,209 건)\n",
    "dart.list(start='2020-01-01', end='2020-01-10')\n",
    "\n",
    "# 2020-01-01 ~ 2020-01-10 모든 회사의 모든 공시목록 (정정된 공시포함) (4,876 건)\n",
    "dart.list(start='2020-01-01', end='2020-01-10', final=False)\n",
    "\n",
    "# 2020-07-01 부터 현재까지 모든 회사의 정기보고서\n",
    "dart.list(start='2020-07-01', kind='A')\n",
    "\n",
    "# 2019-01-01 ~ 2019-03-31 모든 회사의 정기보고서 (961건)\n",
    "dart.list(start='20190101', end='20190331', kind='A')\n",
    "\n",
    "# 기업의 개황정보\n",
    "dart.company('005930')\n",
    "\n",
    "# 회사명에 삼성전자가 포함된 회사들에 대한 개황정보\n",
    "dart.company_by_name('삼성전자')\n",
    "\n",
    "# 삼성전자 사업보고서 (2018.12) 원문 텍스트\n",
    "xml_text = dart.document('20190401004781')\n",
    "\n",
    "\n",
    "# ==== 2. 사업보고서 ====\n",
    "# 삼성전자(005930), 배당관련 사항, 2018년\n",
    "dart.report('005930', '배당', 2018) \n",
    "\n",
    "# 서울반도체(046890), 최대주주 관한 사항, 2018년\n",
    "dart.report('046890', '최대주주', 2018) \n",
    "\n",
    "# 서울반도체(046890), 임원 관한 사항, 2018년\n",
    "dart.report('046890', '임원', 2018) \n",
    "\n",
    "# 삼성바이오로직스(207940), 2019년, 소액주주에 관한 사항\n",
    "dart.report('207940', '소액주주', '2019')\n",
    "\n",
    "\n",
    "# ==== 3. 상장기업 재무정보 ====\n",
    "# 삼성전자 2018 재무제표 \n",
    "dart.finstate('삼성전자', 2018) # 사업보고서\n",
    "\n",
    "# 삼성전자 2018Q1 재무제표\n",
    "dart.finstate('삼성전자', 2018, reprt_code='11013')\n",
    "\n",
    "# 여러종목 한번에\n",
    "dart.finstate('00126380,00164779,00164742', 2018)\n",
    "dart.finstate('005930, 000660, 005380', 2018)\n",
    "dart.finstate('삼성전자, SK하이닉스, 현대자동차', 2018)\n",
    "\n",
    "# 단일기업 전체 재무제표 (삼성전자 2018 전체 재무제표)\n",
    "dart.finstate_all('005930', 2018)\n",
    "\n",
    "# 재무제표 XBRL 원본 파일 저장 (삼성전자 2018 사업보고서)\n",
    "dart.finstate_xml('20190401004781', save_as='삼성전자_2018_사업보고서_XBRL.zip')\n",
    "\n",
    "# XBRL 표준계정과목체계(계정과목)\n",
    "dart.xbrl_taxonomy('BS1')\n",
    "\n",
    "\n",
    "# ==== 4. 지분공시 ====\n",
    "# 대량보유 상황보고 (종목코드, 종목명, 고유번호 모두 지정 가능)\n",
    "dart.major_shareholders('삼성전자')\n",
    "\n",
    "# 임원ㆍ주요주주 소유보고 (종목코드, 종목명, 고유번호 모두 지정 가능)\n",
    "dart.major_shareholders_exec('005930')\n",
    "\n",
    "\n",
    "# ==== 5. 확장 기능 ====\n",
    "# 지정한 날짜의 공시목록 전체 (시간 정보 포함)\n",
    "dart.list_date_ex('2020-01-03')\n",
    "\n",
    "# 개별 문서 제목과 URL\n",
    "rcp_no = '20190401004781' # 삼성전자 2018년 사업보고서\n",
    "dart.sub_docs(rcp_no)\n",
    "\n",
    "# 제목이 잘 매치되는 순서로 소트\n",
    "dart.sub_docs('20190401004781', match='사업의 내용')\n",
    "\n",
    "# 첨부 문서 제목과 URL\n",
    "dart.attach_doc_list(rcp_no)\n",
    "\n",
    "# 제목이 잘 매치되는 순서로 소트\n",
    "dart.attach_doc_list(rcp_no, match='감사보고서')\n",
    "\n",
    "# 첨부 파일 제목과 URL\n",
    "dart.attach_file_list(rcp_no)"
   ]
  },
  {
   "cell_type": "code",
   "execution_count": null,
   "metadata": {},
   "outputs": [],
   "source": []
  },
  {
   "cell_type": "code",
   "execution_count": 37,
   "metadata": {},
   "outputs": [],
   "source": [
    "import dart_fss as dart"
   ]
  },
  {
   "cell_type": "code",
   "execution_count": 38,
   "metadata": {},
   "outputs": [
    {
     "data": {
      "text/plain": [
       "'34498c52b5674a6014154edbaa30d2739f265da7'"
      ]
     },
     "execution_count": 38,
     "metadata": {},
     "output_type": "execute_result"
    }
   ],
   "source": [
    "dart.set_api_key(api_key=API_KEY)"
   ]
  },
  {
   "cell_type": "code",
   "execution_count": 39,
   "metadata": {},
   "outputs": [
    {
     "data": {
      "application/vnd.jupyter.widget-view+json": {
       "model_id": "75b382be25c34a798049cc2586855033",
       "version_major": 2,
       "version_minor": 0
      },
      "text/plain": [
       "Output()"
      ]
     },
     "metadata": {},
     "output_type": "display_data"
    },
    {
     "data": {
      "application/vnd.jupyter.widget-view+json": {
       "model_id": "6ab9e6e4cf0f405aafa7aa20d1220ba4",
       "version_major": 2,
       "version_minor": 0
      },
      "text/plain": [
       "Output()"
      ]
     },
     "metadata": {},
     "output_type": "display_data"
    },
    {
     "data": {
      "application/vnd.jupyter.widget-view+json": {
       "model_id": "48869a0575db46759b540364869dc461",
       "version_major": 2,
       "version_minor": 0
      },
      "text/plain": [
       "Output()"
      ]
     },
     "metadata": {},
     "output_type": "display_data"
    }
   ],
   "source": [
    "corp_list = dart.get_corp_list()"
   ]
  },
  {
   "cell_type": "code",
   "execution_count": 67,
   "metadata": {},
   "outputs": [
    {
     "name": "stdout",
     "output_type": "stream",
     "text": [
      "Wall time: 46.6 ms\n"
     ]
    }
   ],
   "source": [
    "%%time\n",
    "silicon = corp_list.find_by_corp_name('실리콘웍스',exactly=True)[0]"
   ]
  },
  {
   "cell_type": "code",
   "execution_count": 69,
   "metadata": {},
   "outputs": [
    {
     "data": {
      "application/vnd.jupyter.widget-view+json": {
       "model_id": "d48f0b949c3e467d9f4e94edbe54ba0c",
       "version_major": 2,
       "version_minor": 0
      },
      "text/plain": [
       "HBox(children=(HTML(value='Annual reports'), FloatProgress(value=0.0, max=10.0), HTML(value='')))"
      ]
     },
     "metadata": {},
     "output_type": "display_data"
    },
    {
     "name": "stdout",
     "output_type": "stream",
     "text": [
      "\n",
      "Wall time: 1min 51s\n"
     ]
    }
   ],
   "source": [
    "%%time\n",
    "silicon_fs = silicon.extract_fs(bgn_de='20090101')"
   ]
  },
  {
   "cell_type": "code",
   "execution_count": 72,
   "metadata": {},
   "outputs": [
    {
     "data": {
      "text/html": [
       "<div>\n",
       "<style scoped>\n",
       "    .dataframe tbody tr th:only-of-type {\n",
       "        vertical-align: middle;\n",
       "    }\n",
       "\n",
       "    .dataframe tbody tr th {\n",
       "        vertical-align: top;\n",
       "    }\n",
       "\n",
       "    .dataframe thead tr th {\n",
       "        text-align: left;\n",
       "    }\n",
       "</style>\n",
       "<table border=\"1\" class=\"dataframe\">\n",
       "  <thead>\n",
       "    <tr>\n",
       "      <th></th>\n",
       "      <th colspan=\"7\" halign=\"left\">[D210000] Statement of financial position, current/non-current - Consolidated financial statements (Unit: KRW)</th>\n",
       "      <th>20191231</th>\n",
       "      <th>20181231</th>\n",
       "      <th>20171231</th>\n",
       "      <th>20161231</th>\n",
       "      <th>20151231</th>\n",
       "      <th>20141231</th>\n",
       "      <th>20131231</th>\n",
       "      <th>20121231</th>\n",
       "      <th>20111231</th>\n",
       "      <th>20101231</th>\n",
       "      <th>20091231</th>\n",
       "    </tr>\n",
       "    <tr>\n",
       "      <th></th>\n",
       "      <th>concept_id</th>\n",
       "      <th>label_ko</th>\n",
       "      <th>label_en</th>\n",
       "      <th>class0</th>\n",
       "      <th>class1</th>\n",
       "      <th>class2</th>\n",
       "      <th>class3</th>\n",
       "      <th>(연결재무제표,)</th>\n",
       "      <th>(연결재무제표,)</th>\n",
       "      <th>(연결재무제표,)</th>\n",
       "      <th>(연결재무제표,)</th>\n",
       "      <th>(연결재무제표,)</th>\n",
       "      <th>(연결재무제표,)</th>\n",
       "      <th>(연결재무제표,)</th>\n",
       "      <th>(연결재무제표,)</th>\n",
       "      <th>(연결재무제표,)</th>\n",
       "      <th>(연결재무제표,)</th>\n",
       "      <th>(연결재무제표,)</th>\n",
       "    </tr>\n",
       "  </thead>\n",
       "  <tbody>\n",
       "    <tr>\n",
       "      <th>0</th>\n",
       "      <td>ifrs-full_CurrentAssets</td>\n",
       "      <td>유동자산</td>\n",
       "      <td>Current assets</td>\n",
       "      <td>재무상태표 [abstract]</td>\n",
       "      <td>자산 [abstract]</td>\n",
       "      <td>유동자산</td>\n",
       "      <td>None</td>\n",
       "      <td>519,232,824,508.0</td>\n",
       "      <td>508,162,893,203.0</td>\n",
       "      <td>497,749,253,911.0</td>\n",
       "      <td>440,498,706,729.0</td>\n",
       "      <td>412,540,990,526.0</td>\n",
       "      <td>336,622,734,729.0</td>\n",
       "      <td>305,353,454,239.0</td>\n",
       "      <td>300,990,901,088.0</td>\n",
       "      <td>244,383,504,758.0</td>\n",
       "      <td>221,417,692,746.0</td>\n",
       "      <td>107,236,704,599.0</td>\n",
       "    </tr>\n",
       "  </tbody>\n",
       "</table>\n",
       "</div>"
      ],
      "text/plain": [
       "  [D210000] Statement of financial position, current/non-current - Consolidated financial statements (Unit: KRW)  \\\n",
       "                                                                                                      concept_id   \n",
       "0                            ifrs-full_CurrentAssets                                                               \n",
       "\n",
       "                                                                           \\\n",
       "  label_ko        label_en            class0         class1 class2 class3   \n",
       "0     유동자산  Current assets  재무상태표 [abstract]  자산 [abstract]   유동자산   None   \n",
       "\n",
       "           20191231          20181231          20171231          20161231  \\\n",
       "          (연결재무제표,)         (연결재무제표,)         (연결재무제표,)         (연결재무제표,)   \n",
       "0 519,232,824,508.0 508,162,893,203.0 497,749,253,911.0 440,498,706,729.0   \n",
       "\n",
       "           20151231          20141231          20131231          20121231  \\\n",
       "          (연결재무제표,)         (연결재무제표,)         (연결재무제표,)         (연결재무제표,)   \n",
       "0 412,540,990,526.0 336,622,734,729.0 305,353,454,239.0 300,990,901,088.0   \n",
       "\n",
       "           20111231          20101231          20091231  \n",
       "          (연결재무제표,)         (연결재무제표,)         (연결재무제표,)  \n",
       "0 244,383,504,758.0 221,417,692,746.0 107,236,704,599.0  "
      ]
     },
     "execution_count": 72,
     "metadata": {},
     "output_type": "execute_result"
    }
   ],
   "source": [
    "silicon_fs[0].head(1)"
   ]
  },
  {
   "cell_type": "code",
   "execution_count": null,
   "metadata": {},
   "outputs": [],
   "source": []
  },
  {
   "cell_type": "code",
   "execution_count": 41,
   "metadata": {},
   "outputs": [],
   "source": [
    "samsung = corp_list.find_by_corp_name('삼성전자', exactly=True)[0]"
   ]
  },
  {
   "cell_type": "code",
   "execution_count": 43,
   "metadata": {},
   "outputs": [
    {
     "data": {
      "application/vnd.jupyter.widget-view+json": {
       "model_id": "a02f3bf1efe147c4b40feb51154e3775",
       "version_major": 2,
       "version_minor": 0
      },
      "text/plain": [
       "HBox(children=(HTML(value='Annual reports'), FloatProgress(value=0.0, max=9.0), HTML(value='')))"
      ]
     },
     "metadata": {},
     "output_type": "display_data"
    },
    {
     "name": "stdout",
     "output_type": "stream",
     "text": [
      "\n"
     ]
    }
   ],
   "source": [
    "fs = samsung.extract_fs(bgn_de='20120101')"
   ]
  },
  {
   "cell_type": "code",
   "execution_count": 45,
   "metadata": {},
   "outputs": [
    {
     "data": {
      "text/plain": [
       "4"
      ]
     },
     "execution_count": 45,
     "metadata": {},
     "output_type": "execute_result"
    }
   ],
   "source": [
    "len(fs)"
   ]
  },
  {
   "cell_type": "code",
   "execution_count": 47,
   "metadata": {},
   "outputs": [
    {
     "data": {
      "text/plain": [
       "(55, 19)"
      ]
     },
     "execution_count": 47,
     "metadata": {},
     "output_type": "execute_result"
    }
   ],
   "source": [
    "fs[0].shape"
   ]
  },
  {
   "cell_type": "code",
   "execution_count": 49,
   "metadata": {},
   "outputs": [
    {
     "data": {
      "text/html": [
       "<div>\n",
       "<style scoped>\n",
       "    .dataframe tbody tr th:only-of-type {\n",
       "        vertical-align: middle;\n",
       "    }\n",
       "\n",
       "    .dataframe tbody tr th {\n",
       "        vertical-align: top;\n",
       "    }\n",
       "\n",
       "    .dataframe thead tr th {\n",
       "        text-align: left;\n",
       "    }\n",
       "</style>\n",
       "<table border=\"1\" class=\"dataframe\">\n",
       "  <thead>\n",
       "    <tr>\n",
       "      <th></th>\n",
       "      <th colspan=\"8\" halign=\"left\">[D210000] Statement of financial position, current/non-current - Consolidated financial statements (Unit: KRW)</th>\n",
       "      <th>20191231</th>\n",
       "      <th>20181231</th>\n",
       "      <th>20171231</th>\n",
       "      <th>20161231</th>\n",
       "      <th>20151231</th>\n",
       "      <th>20141231</th>\n",
       "      <th>20131231</th>\n",
       "      <th>20121231</th>\n",
       "      <th>20111231</th>\n",
       "      <th>20101231</th>\n",
       "      <th>20091231</th>\n",
       "    </tr>\n",
       "    <tr>\n",
       "      <th></th>\n",
       "      <th>concept_id</th>\n",
       "      <th>label_ko</th>\n",
       "      <th>label_en</th>\n",
       "      <th>class0</th>\n",
       "      <th>class1</th>\n",
       "      <th>class2</th>\n",
       "      <th>class3</th>\n",
       "      <th>class4</th>\n",
       "      <th>(연결재무제표,)</th>\n",
       "      <th>(연결재무제표,)</th>\n",
       "      <th>(연결재무제표,)</th>\n",
       "      <th>(연결재무제표,)</th>\n",
       "      <th>(연결재무제표,)</th>\n",
       "      <th>(연결재무제표,)</th>\n",
       "      <th>(연결재무제표,)</th>\n",
       "      <th>(연결재무제표,)</th>\n",
       "      <th>(연결재무제표,)</th>\n",
       "      <th>(연결재무제표,)</th>\n",
       "      <th>(연결재무제표,)</th>\n",
       "    </tr>\n",
       "  </thead>\n",
       "  <tbody>\n",
       "    <tr>\n",
       "      <th>0</th>\n",
       "      <td>ifrs-full_CurrentAssets</td>\n",
       "      <td>유동자산</td>\n",
       "      <td>Current assets</td>\n",
       "      <td>재무상태표 [abstract]</td>\n",
       "      <td>자산 [abstract]</td>\n",
       "      <td>유동자산</td>\n",
       "      <td>None</td>\n",
       "      <td>None</td>\n",
       "      <td>181,385,260,000,000.0</td>\n",
       "      <td>174,697,424,000,000.0</td>\n",
       "      <td>146,982,464,000,000.0</td>\n",
       "      <td>141,429,704,000,000.0</td>\n",
       "      <td>124,814,725,000,000.0</td>\n",
       "      <td>115,146,026,000,000.0</td>\n",
       "      <td>110,760,271,000,000.0</td>\n",
       "      <td>87,269,017,000,000.0</td>\n",
       "      <td>71,502,063,000,000.0</td>\n",
       "      <td>61,402,589,000,000.0</td>\n",
       "      <td>54,211,297,000,000.0</td>\n",
       "    </tr>\n",
       "    <tr>\n",
       "      <th>1</th>\n",
       "      <td>ifrs-full_CashAndCashEquivalents</td>\n",
       "      <td>현금및현금성자산</td>\n",
       "      <td>Cash and cash equivalents</td>\n",
       "      <td>재무상태표 [abstract]</td>\n",
       "      <td>자산 [abstract]</td>\n",
       "      <td>유동자산</td>\n",
       "      <td>현금및현금성자산</td>\n",
       "      <td>None</td>\n",
       "      <td>26,885,999,000,000.0</td>\n",
       "      <td>30,340,505,000,000.0</td>\n",
       "      <td>30,545,130,000,000.0</td>\n",
       "      <td>32,111,442,000,000.0</td>\n",
       "      <td>22,636,744,000,000.0</td>\n",
       "      <td>16,840,766,000,000.0</td>\n",
       "      <td>16,284,780,000,000.0</td>\n",
       "      <td>18,791,460,000,000.0</td>\n",
       "      <td>14,691,761,000,000.0</td>\n",
       "      <td>9,791,419,000,000.0</td>\n",
       "      <td>10,149,930,000,000.0</td>\n",
       "    </tr>\n",
       "    <tr>\n",
       "      <th>2</th>\n",
       "      <td>dart_ShortTermDepositsNotClassifiedAsCashEquiv...</td>\n",
       "      <td>단기금융상품</td>\n",
       "      <td>Short-term financial instruments</td>\n",
       "      <td>재무상태표 [abstract]</td>\n",
       "      <td>자산 [abstract]</td>\n",
       "      <td>유동자산</td>\n",
       "      <td>단기금융상품</td>\n",
       "      <td>None</td>\n",
       "      <td>76,252,052,000,000.0</td>\n",
       "      <td>65,893,797,000,000.0</td>\n",
       "      <td>49,447,696,000,000.0</td>\n",
       "      <td>52,432,411,000,000.0</td>\n",
       "      <td>44,228,800,000,000.0</td>\n",
       "      <td>41,689,776,000,000.0</td>\n",
       "      <td>36,722,702,000,000.0</td>\n",
       "      <td>17,397,937,000,000.0</td>\n",
       "      <td>11,529,905,000,000.0</td>\n",
       "      <td>11,529,392,000,000.0</td>\n",
       "      <td>8,629,113,000,000.0</td>\n",
       "    </tr>\n",
       "  </tbody>\n",
       "</table>\n",
       "</div>"
      ],
      "text/plain": [
       "  [D210000] Statement of financial position, current/non-current - Consolidated financial statements (Unit: KRW)  \\\n",
       "                                                                                                      concept_id   \n",
       "0                            ifrs-full_CurrentAssets                                                               \n",
       "1                   ifrs-full_CashAndCashEquivalents                                                               \n",
       "2  dart_ShortTermDepositsNotClassifiedAsCashEquiv...                                                               \n",
       "\n",
       "                                                                 \\\n",
       "   label_ko                          label_en            class0   \n",
       "0      유동자산                    Current assets  재무상태표 [abstract]   \n",
       "1  현금및현금성자산         Cash and cash equivalents  재무상태표 [abstract]   \n",
       "2    단기금융상품  Short-term financial instruments  재무상태표 [abstract]   \n",
       "\n",
       "                                                      20191231  \\\n",
       "          class1 class2    class3 class4             (연결재무제표,)   \n",
       "0  자산 [abstract]   유동자산      None   None 181,385,260,000,000.0   \n",
       "1  자산 [abstract]   유동자산  현금및현금성자산   None  26,885,999,000,000.0   \n",
       "2  자산 [abstract]   유동자산    단기금융상품   None  76,252,052,000,000.0   \n",
       "\n",
       "               20181231              20171231              20161231  \\\n",
       "              (연결재무제표,)             (연결재무제표,)             (연결재무제표,)   \n",
       "0 174,697,424,000,000.0 146,982,464,000,000.0 141,429,704,000,000.0   \n",
       "1  30,340,505,000,000.0  30,545,130,000,000.0  32,111,442,000,000.0   \n",
       "2  65,893,797,000,000.0  49,447,696,000,000.0  52,432,411,000,000.0   \n",
       "\n",
       "               20151231              20141231              20131231  \\\n",
       "              (연결재무제표,)             (연결재무제표,)             (연결재무제표,)   \n",
       "0 124,814,725,000,000.0 115,146,026,000,000.0 110,760,271,000,000.0   \n",
       "1  22,636,744,000,000.0  16,840,766,000,000.0  16,284,780,000,000.0   \n",
       "2  44,228,800,000,000.0  41,689,776,000,000.0  36,722,702,000,000.0   \n",
       "\n",
       "              20121231             20111231             20101231  \\\n",
       "             (연결재무제표,)            (연결재무제표,)            (연결재무제표,)   \n",
       "0 87,269,017,000,000.0 71,502,063,000,000.0 61,402,589,000,000.0   \n",
       "1 18,791,460,000,000.0 14,691,761,000,000.0  9,791,419,000,000.0   \n",
       "2 17,397,937,000,000.0 11,529,905,000,000.0 11,529,392,000,000.0   \n",
       "\n",
       "              20091231  \n",
       "             (연결재무제표,)  \n",
       "0 54,211,297,000,000.0  \n",
       "1 10,149,930,000,000.0  \n",
       "2  8,629,113,000,000.0  "
      ]
     },
     "execution_count": 49,
     "metadata": {},
     "output_type": "execute_result"
    }
   ],
   "source": [
    "fs[0].head(3)"
   ]
  },
  {
   "cell_type": "code",
   "execution_count": 59,
   "metadata": {},
   "outputs": [
    {
     "data": {
      "text/plain": [
       "('20091231', ('연결재무제표',))"
      ]
     },
     "execution_count": 59,
     "metadata": {},
     "output_type": "execute_result"
    }
   ],
   "source": [
    "fs[0].columns[-1]"
   ]
  },
  {
   "cell_type": "code",
   "execution_count": 63,
   "metadata": {},
   "outputs": [
    {
     "data": {
      "text/html": [
       "<div>\n",
       "<style scoped>\n",
       "    .dataframe tbody tr th:only-of-type {\n",
       "        vertical-align: middle;\n",
       "    }\n",
       "\n",
       "    .dataframe tbody tr th {\n",
       "        vertical-align: top;\n",
       "    }\n",
       "\n",
       "    .dataframe thead tr th {\n",
       "        text-align: left;\n",
       "    }\n",
       "</style>\n",
       "<table border=\"1\" class=\"dataframe\">\n",
       "  <thead>\n",
       "    <tr>\n",
       "      <th></th>\n",
       "      <th colspan=\"6\" halign=\"left\">[D310000] Income statement, by function of expense - Consolidated financial statements (Unit: KRW)</th>\n",
       "      <th>20190101-20191231</th>\n",
       "      <th>20180101-20181231</th>\n",
       "      <th>20170101-20171231</th>\n",
       "      <th>20160101-20161231</th>\n",
       "      <th>20150101-20151231</th>\n",
       "      <th>20140101-20141231</th>\n",
       "      <th>20130101-20131231</th>\n",
       "      <th>20120101-20121231</th>\n",
       "      <th>20110101-20111231</th>\n",
       "      <th>20100101-20101231</th>\n",
       "      <th>20090101-20091231</th>\n",
       "    </tr>\n",
       "    <tr>\n",
       "      <th></th>\n",
       "      <th>concept_id</th>\n",
       "      <th>label_ko</th>\n",
       "      <th>label_en</th>\n",
       "      <th>class0</th>\n",
       "      <th>class1</th>\n",
       "      <th>class2</th>\n",
       "      <th>(연결재무제표,)</th>\n",
       "      <th>(연결재무제표,)</th>\n",
       "      <th>(연결재무제표,)</th>\n",
       "      <th>(연결재무제표,)</th>\n",
       "      <th>(연결재무제표,)</th>\n",
       "      <th>(연결재무제표,)</th>\n",
       "      <th>(연결재무제표,)</th>\n",
       "      <th>(연결재무제표,)</th>\n",
       "      <th>(연결재무제표,)</th>\n",
       "      <th>(연결재무제표,)</th>\n",
       "      <th>(연결재무제표,)</th>\n",
       "    </tr>\n",
       "  </thead>\n",
       "  <tbody>\n",
       "    <tr>\n",
       "      <th>0</th>\n",
       "      <td>ifrs-full_Revenue</td>\n",
       "      <td>수익(매출액)</td>\n",
       "      <td>Revenue(Sales)</td>\n",
       "      <td>손익계산서 [abstract]</td>\n",
       "      <td>수익(매출액)</td>\n",
       "      <td>None</td>\n",
       "      <td>230,400,881,000,000.0</td>\n",
       "      <td>243,771,415,000,000.0</td>\n",
       "      <td>239,575,376,000,000.0</td>\n",
       "      <td>201,866,745,000,000.0</td>\n",
       "      <td>200,653,482,000,000.0</td>\n",
       "      <td>206,205,987,000,000.0</td>\n",
       "      <td>228,692,667,000,000.0</td>\n",
       "      <td>201,103,613,000,000.0</td>\n",
       "      <td>165,001,771,000,000.0</td>\n",
       "      <td>154,630,328,000,000.0</td>\n",
       "      <td>136,323,670,000,000.0</td>\n",
       "    </tr>\n",
       "  </tbody>\n",
       "</table>\n",
       "</div>"
      ],
      "text/plain": [
       "  [D310000] Income statement, by function of expense - Consolidated financial statements (Unit: KRW)  \\\n",
       "                                                                                          concept_id   \n",
       "0                                  ifrs-full_Revenue                                                   \n",
       "\n",
       "                                                              \\\n",
       "  label_ko        label_en            class0   class1 class2   \n",
       "0  수익(매출액)  Revenue(Sales)  손익계산서 [abstract]  수익(매출액)   None   \n",
       "\n",
       "      20190101-20191231     20180101-20181231     20170101-20171231  \\\n",
       "              (연결재무제표,)             (연결재무제표,)             (연결재무제표,)   \n",
       "0 230,400,881,000,000.0 243,771,415,000,000.0 239,575,376,000,000.0   \n",
       "\n",
       "      20160101-20161231     20150101-20151231     20140101-20141231  \\\n",
       "              (연결재무제표,)             (연결재무제표,)             (연결재무제표,)   \n",
       "0 201,866,745,000,000.0 200,653,482,000,000.0 206,205,987,000,000.0   \n",
       "\n",
       "      20130101-20131231     20120101-20121231     20110101-20111231  \\\n",
       "              (연결재무제표,)             (연결재무제표,)             (연결재무제표,)   \n",
       "0 228,692,667,000,000.0 201,103,613,000,000.0 165,001,771,000,000.0   \n",
       "\n",
       "      20100101-20101231     20090101-20091231  \n",
       "              (연결재무제표,)             (연결재무제표,)  \n",
       "0 154,630,328,000,000.0 136,323,670,000,000.0  "
      ]
     },
     "execution_count": 63,
     "metadata": {},
     "output_type": "execute_result"
    }
   ],
   "source": [
    "fs[1].head(1)"
   ]
  },
  {
   "cell_type": "code",
   "execution_count": 64,
   "metadata": {},
   "outputs": [
    {
     "data": {
      "text/html": [
       "<div>\n",
       "<style scoped>\n",
       "    .dataframe tbody tr th:only-of-type {\n",
       "        vertical-align: middle;\n",
       "    }\n",
       "\n",
       "    .dataframe tbody tr th {\n",
       "        vertical-align: top;\n",
       "    }\n",
       "\n",
       "    .dataframe thead tr th {\n",
       "        text-align: left;\n",
       "    }\n",
       "</style>\n",
       "<table border=\"1\" class=\"dataframe\">\n",
       "  <thead>\n",
       "    <tr>\n",
       "      <th></th>\n",
       "      <th colspan=\"7\" halign=\"left\">[D410000] Statement of comprehensive income - Consolidated financial statements (Unit: KRW)</th>\n",
       "      <th>20190101-20191231</th>\n",
       "      <th>20180101-20181231</th>\n",
       "      <th>20170101-20171231</th>\n",
       "      <th>20160101-20161231</th>\n",
       "      <th>20150101-20151231</th>\n",
       "      <th>20140101-20141231</th>\n",
       "      <th>20130101-20131231</th>\n",
       "      <th>20120101-20121231</th>\n",
       "      <th>20110101-20111231</th>\n",
       "      <th>20100101-20101231</th>\n",
       "      <th>20090101-20091231</th>\n",
       "    </tr>\n",
       "    <tr>\n",
       "      <th></th>\n",
       "      <th>concept_id</th>\n",
       "      <th>label_ko</th>\n",
       "      <th>label_en</th>\n",
       "      <th>class0</th>\n",
       "      <th>class1</th>\n",
       "      <th>class2</th>\n",
       "      <th>class3</th>\n",
       "      <th>(연결재무제표,)</th>\n",
       "      <th>(연결재무제표,)</th>\n",
       "      <th>(연결재무제표,)</th>\n",
       "      <th>(연결재무제표,)</th>\n",
       "      <th>(연결재무제표,)</th>\n",
       "      <th>(연결재무제표,)</th>\n",
       "      <th>(연결재무제표,)</th>\n",
       "      <th>(연결재무제표,)</th>\n",
       "      <th>(연결재무제표,)</th>\n",
       "      <th>(연결재무제표,)</th>\n",
       "      <th>(연결재무제표,)</th>\n",
       "    </tr>\n",
       "  </thead>\n",
       "  <tbody>\n",
       "    <tr>\n",
       "      <th>0</th>\n",
       "      <td>ifrs-full_ProfitLoss</td>\n",
       "      <td>당기순이익(손실)</td>\n",
       "      <td>Profit (loss)</td>\n",
       "      <td>포괄손익계산서 [abstract]</td>\n",
       "      <td>당기순이익(손실)</td>\n",
       "      <td>None</td>\n",
       "      <td>None</td>\n",
       "      <td>21,738,865,000,000.0</td>\n",
       "      <td>44,344,857,000,000.0</td>\n",
       "      <td>42,186,747,000,000.0</td>\n",
       "      <td>22,726,092,000,000.0</td>\n",
       "      <td>19,060,144,000,000.0</td>\n",
       "      <td>23,394,358,000,000.0</td>\n",
       "      <td>30,474,764,000,000.0</td>\n",
       "      <td>23,845,285,000,000.0</td>\n",
       "      <td>13,759,043,000,000.0</td>\n",
       "      <td>16,182,356,000,000.0</td>\n",
       "      <td>9,760,550,000,000.0</td>\n",
       "    </tr>\n",
       "  </tbody>\n",
       "</table>\n",
       "</div>"
      ],
      "text/plain": [
       "  [D410000] Statement of comprehensive income - Consolidated financial statements (Unit: KRW)  \\\n",
       "                                                                                   concept_id   \n",
       "0                               ifrs-full_ProfitLoss                                            \n",
       "\n",
       "                                                                          \\\n",
       "    label_ko       label_en              class0     class1 class2 class3   \n",
       "0  당기순이익(손실)  Profit (loss)  포괄손익계산서 [abstract]  당기순이익(손실)   None   None   \n",
       "\n",
       "     20190101-20191231    20180101-20181231    20170101-20171231  \\\n",
       "             (연결재무제표,)            (연결재무제표,)            (연결재무제표,)   \n",
       "0 21,738,865,000,000.0 44,344,857,000,000.0 42,186,747,000,000.0   \n",
       "\n",
       "     20160101-20161231    20150101-20151231    20140101-20141231  \\\n",
       "             (연결재무제표,)            (연결재무제표,)            (연결재무제표,)   \n",
       "0 22,726,092,000,000.0 19,060,144,000,000.0 23,394,358,000,000.0   \n",
       "\n",
       "     20130101-20131231    20120101-20121231    20110101-20111231  \\\n",
       "             (연결재무제표,)            (연결재무제표,)            (연결재무제표,)   \n",
       "0 30,474,764,000,000.0 23,845,285,000,000.0 13,759,043,000,000.0   \n",
       "\n",
       "     20100101-20101231   20090101-20091231  \n",
       "             (연결재무제표,)           (연결재무제표,)  \n",
       "0 16,182,356,000,000.0 9,760,550,000,000.0  "
      ]
     },
     "execution_count": 64,
     "metadata": {},
     "output_type": "execute_result"
    }
   ],
   "source": [
    "fs[2].head(1)"
   ]
  },
  {
   "cell_type": "code",
   "execution_count": 65,
   "metadata": {},
   "outputs": [
    {
     "data": {
      "text/html": [
       "<div>\n",
       "<style scoped>\n",
       "    .dataframe tbody tr th:only-of-type {\n",
       "        vertical-align: middle;\n",
       "    }\n",
       "\n",
       "    .dataframe tbody tr th {\n",
       "        vertical-align: top;\n",
       "    }\n",
       "\n",
       "    .dataframe thead tr th {\n",
       "        text-align: left;\n",
       "    }\n",
       "</style>\n",
       "<table border=\"1\" class=\"dataframe\">\n",
       "  <thead>\n",
       "    <tr>\n",
       "      <th></th>\n",
       "      <th colspan=\"7\" halign=\"left\">[D520000] Statement of cash flows, indirect method - Consolidated financial statements (Unit: KRW)</th>\n",
       "      <th>20190101-20191231</th>\n",
       "      <th>20180101-20181231</th>\n",
       "      <th>20170101-20171231</th>\n",
       "      <th>20160101-20161231</th>\n",
       "      <th>20150101-20151231</th>\n",
       "      <th>20140101-20141231</th>\n",
       "      <th>20130101-20131231</th>\n",
       "      <th>20120101-20121231</th>\n",
       "      <th>20110101-20111231</th>\n",
       "      <th>20100101-20101231</th>\n",
       "      <th>20090101-20091231</th>\n",
       "    </tr>\n",
       "    <tr>\n",
       "      <th></th>\n",
       "      <th>concept_id</th>\n",
       "      <th>label_ko</th>\n",
       "      <th>label_en</th>\n",
       "      <th>class0</th>\n",
       "      <th>class1</th>\n",
       "      <th>class2</th>\n",
       "      <th>class3</th>\n",
       "      <th>(연결재무제표,)</th>\n",
       "      <th>(연결재무제표,)</th>\n",
       "      <th>(연결재무제표,)</th>\n",
       "      <th>(연결재무제표,)</th>\n",
       "      <th>(연결재무제표,)</th>\n",
       "      <th>(연결재무제표,)</th>\n",
       "      <th>(연결재무제표,)</th>\n",
       "      <th>(연결재무제표,)</th>\n",
       "      <th>(연결재무제표,)</th>\n",
       "      <th>(연결재무제표,)</th>\n",
       "      <th>(연결재무제표,)</th>\n",
       "    </tr>\n",
       "  </thead>\n",
       "  <tbody>\n",
       "    <tr>\n",
       "      <th>0</th>\n",
       "      <td>ifrs-full_CashFlowsFromUsedInOperatingActivities</td>\n",
       "      <td>영업활동 현금흐름</td>\n",
       "      <td>Cash flows from (used in) operating activities</td>\n",
       "      <td>현금흐름표 [abstract]</td>\n",
       "      <td>영업활동 현금흐름</td>\n",
       "      <td>None</td>\n",
       "      <td>None</td>\n",
       "      <td>45,382,915,000,000.0</td>\n",
       "      <td>67,031,863,000,000.0</td>\n",
       "      <td>62,162,041,000,000.0</td>\n",
       "      <td>47,385,644,000,000.0</td>\n",
       "      <td>40,061,761,000,000.0</td>\n",
       "      <td>36,975,389,000,000.0</td>\n",
       "      <td>46,707,440,000,000.0</td>\n",
       "      <td>37,972,809,000,000.0</td>\n",
       "      <td>22,917,901,000,000.0</td>\n",
       "      <td>23,826,779,000,000.0</td>\n",
       "      <td>18,522,468,000,000.0</td>\n",
       "    </tr>\n",
       "  </tbody>\n",
       "</table>\n",
       "</div>"
      ],
      "text/plain": [
       "  [D520000] Statement of cash flows, indirect method - Consolidated financial statements (Unit: KRW)  \\\n",
       "                                                                                          concept_id   \n",
       "0   ifrs-full_CashFlowsFromUsedInOperatingActivities                                                   \n",
       "\n",
       "                                                              \\\n",
       "    label_ko                                        label_en   \n",
       "0  영업활동 현금흐름  Cash flows from (used in) operating activities   \n",
       "\n",
       "                                                20190101-20191231  \\\n",
       "             class0     class1 class2 class3            (연결재무제표,)   \n",
       "0  현금흐름표 [abstract]  영업활동 현금흐름   None   None 45,382,915,000,000.0   \n",
       "\n",
       "     20180101-20181231    20170101-20171231    20160101-20161231  \\\n",
       "             (연결재무제표,)            (연결재무제표,)            (연결재무제표,)   \n",
       "0 67,031,863,000,000.0 62,162,041,000,000.0 47,385,644,000,000.0   \n",
       "\n",
       "     20150101-20151231    20140101-20141231    20130101-20131231  \\\n",
       "             (연결재무제표,)            (연결재무제표,)            (연결재무제표,)   \n",
       "0 40,061,761,000,000.0 36,975,389,000,000.0 46,707,440,000,000.0   \n",
       "\n",
       "     20120101-20121231    20110101-20111231    20100101-20101231  \\\n",
       "             (연결재무제표,)            (연결재무제표,)            (연결재무제표,)   \n",
       "0 37,972,809,000,000.0 22,917,901,000,000.0 23,826,779,000,000.0   \n",
       "\n",
       "     20090101-20091231  \n",
       "             (연결재무제표,)  \n",
       "0 18,522,468,000,000.0  "
      ]
     },
     "execution_count": 65,
     "metadata": {},
     "output_type": "execute_result"
    }
   ],
   "source": [
    "fs[3].head(1)"
   ]
  },
  {
   "cell_type": "code",
   "execution_count": null,
   "metadata": {},
   "outputs": [],
   "source": []
  },
  {
   "cell_type": "code",
   "execution_count": null,
   "metadata": {},
   "outputs": [],
   "source": []
  },
  {
   "cell_type": "code",
   "execution_count": null,
   "metadata": {},
   "outputs": [],
   "source": []
  },
  {
   "cell_type": "code",
   "execution_count": null,
   "metadata": {},
   "outputs": [],
   "source": [
    "\n",
    "# DART 에 공시된 회사 리스트 불러오기\n",
    "corp_list = dart.get_corp_list()\n",
    "\n",
    "# 삼성전자 검색\n",
    "samsung = corp_list.find_by_corp_name('삼성전자', exactly=True)[0]\n",
    "\n",
    "# 2012년부터 연간 연결재무제표 불러오기\n",
    "fs = samsung.extract_fs(bgn_de='20120101')\n",
    "\n",
    "# 재무제표 검색 결과를 엑셀파일로 저장 ( 기본저장위치: 실행폴더/fsdata )\n",
    "fs.save()"
   ]
  },
  {
   "cell_type": "code",
   "execution_count": null,
   "metadata": {},
   "outputs": [],
   "source": []
  },
  {
   "cell_type": "code",
   "execution_count": 74,
   "metadata": {},
   "outputs": [],
   "source": [
    "import glob"
   ]
  },
  {
   "cell_type": "code",
   "execution_count": 75,
   "metadata": {},
   "outputs": [
    {
     "data": {
      "text/plain": [
       "['../FinState\\\\DeepSearch-메리츠화재_IFRS_연결_연간-20210205-112138.xlsx',\n",
       " '../FinState\\\\DeepSearch-삼성전자_IFRS_연결_연간-20210205-111631.xlsx']"
      ]
     },
     "execution_count": 75,
     "metadata": {},
     "output_type": "execute_result"
    }
   ],
   "source": [
    "glob.glob(\"../FinState/*\")"
   ]
  },
  {
   "cell_type": "code",
   "execution_count": 101,
   "metadata": {},
   "outputs": [],
   "source": [
    "ww = pd.read_excel(\"../FinState/DeepSearch-삼성전자_IFRS_연결_연간-20210205-111631.xlsx\",sheet_name=2)"
   ]
  },
  {
   "cell_type": "code",
   "execution_count": 81,
   "metadata": {},
   "outputs": [],
   "source": [
    "qq = pd.read_excel(\"../FinState/DeepSearch-메리츠화재_IFRS_연결_연간-20210205-112138.xlsx\",sheet_name=2)"
   ]
  },
  {
   "cell_type": "code",
   "execution_count": 108,
   "metadata": {
    "collapsed": true,
    "jupyter": {
     "outputs_hidden": true
    }
   },
   "outputs": [
    {
     "data": {
      "text/html": [
       "<div>\n",
       "<style scoped>\n",
       "    .dataframe tbody tr th:only-of-type {\n",
       "        vertical-align: middle;\n",
       "    }\n",
       "\n",
       "    .dataframe tbody tr th {\n",
       "        vertical-align: top;\n",
       "    }\n",
       "\n",
       "    .dataframe thead th {\n",
       "        text-align: right;\n",
       "    }\n",
       "</style>\n",
       "<table border=\"1\" class=\"dataframe\">\n",
       "  <thead>\n",
       "    <tr style=\"text-align: right;\">\n",
       "      <th></th>\n",
       "      <th>date</th>\n",
       "      <th>symbol</th>\n",
       "      <th>entity_name</th>\n",
       "      <th>type_id</th>\n",
       "      <th>report_id</th>\n",
       "      <th>account_id</th>\n",
       "      <th>name_ko</th>\n",
       "      <th>value</th>\n",
       "    </tr>\n",
       "  </thead>\n",
       "  <tbody>\n",
       "    <tr>\n",
       "      <th>182</th>\n",
       "      <td>1996-12-31</td>\n",
       "      <td>KRX:005930</td>\n",
       "      <td>삼성전자</td>\n",
       "      <td>K</td>\n",
       "      <td>12</td>\n",
       "      <td>1100</td>\n",
       "      <td>총수익</td>\n",
       "      <td>19,877,739,175,000.0</td>\n",
       "    </tr>\n",
       "    <tr>\n",
       "      <th>745</th>\n",
       "      <td>1997-12-31</td>\n",
       "      <td>KRX:005930</td>\n",
       "      <td>삼성전자</td>\n",
       "      <td>K</td>\n",
       "      <td>12</td>\n",
       "      <td>1100</td>\n",
       "      <td>총수익</td>\n",
       "      <td>22,682,015,966,000.0</td>\n",
       "    </tr>\n",
       "    <tr>\n",
       "      <th>1290</th>\n",
       "      <td>1998-12-31</td>\n",
       "      <td>KRX:005930</td>\n",
       "      <td>삼성전자</td>\n",
       "      <td>K</td>\n",
       "      <td>12</td>\n",
       "      <td>1100</td>\n",
       "      <td>총수익</td>\n",
       "      <td>25,772,311,281,000.0</td>\n",
       "    </tr>\n",
       "    <tr>\n",
       "      <th>1857</th>\n",
       "      <td>1999-12-31</td>\n",
       "      <td>KRX:005930</td>\n",
       "      <td>삼성전자</td>\n",
       "      <td>K</td>\n",
       "      <td>12</td>\n",
       "      <td>1100</td>\n",
       "      <td>총수익</td>\n",
       "      <td>32,087,714,365,000.0</td>\n",
       "    </tr>\n",
       "    <tr>\n",
       "      <th>2452</th>\n",
       "      <td>2000-12-31</td>\n",
       "      <td>KRX:005930</td>\n",
       "      <td>삼성전자</td>\n",
       "      <td>K</td>\n",
       "      <td>12</td>\n",
       "      <td>1100</td>\n",
       "      <td>총수익</td>\n",
       "      <td>43,527,806,399,000.0</td>\n",
       "    </tr>\n",
       "    <tr>\n",
       "      <th>3060</th>\n",
       "      <td>2001-12-31</td>\n",
       "      <td>KRX:005930</td>\n",
       "      <td>삼성전자</td>\n",
       "      <td>K</td>\n",
       "      <td>12</td>\n",
       "      <td>1100</td>\n",
       "      <td>총수익</td>\n",
       "      <td>46,443,767,990,000.0</td>\n",
       "    </tr>\n",
       "    <tr>\n",
       "      <th>3668</th>\n",
       "      <td>2002-12-31</td>\n",
       "      <td>KRX:005930</td>\n",
       "      <td>삼성전자</td>\n",
       "      <td>K</td>\n",
       "      <td>12</td>\n",
       "      <td>1100</td>\n",
       "      <td>총수익</td>\n",
       "      <td>58,504,801,000,000.0</td>\n",
       "    </tr>\n",
       "    <tr>\n",
       "      <th>4264</th>\n",
       "      <td>2003-12-31</td>\n",
       "      <td>KRX:005930</td>\n",
       "      <td>삼성전자</td>\n",
       "      <td>K</td>\n",
       "      <td>12</td>\n",
       "      <td>1100</td>\n",
       "      <td>총수익</td>\n",
       "      <td>64,817,456,000,000.0</td>\n",
       "    </tr>\n",
       "    <tr>\n",
       "      <th>4856</th>\n",
       "      <td>2004-12-31</td>\n",
       "      <td>KRX:005930</td>\n",
       "      <td>삼성전자</td>\n",
       "      <td>K</td>\n",
       "      <td>12</td>\n",
       "      <td>1100</td>\n",
       "      <td>총수익</td>\n",
       "      <td>81,963,009,000,000.0</td>\n",
       "    </tr>\n",
       "    <tr>\n",
       "      <th>5431</th>\n",
       "      <td>2005-12-31</td>\n",
       "      <td>KRX:005930</td>\n",
       "      <td>삼성전자</td>\n",
       "      <td>K</td>\n",
       "      <td>12</td>\n",
       "      <td>1100</td>\n",
       "      <td>총수익</td>\n",
       "      <td>80,629,510,000,000.0</td>\n",
       "    </tr>\n",
       "    <tr>\n",
       "      <th>6007</th>\n",
       "      <td>2006-12-31</td>\n",
       "      <td>KRX:005930</td>\n",
       "      <td>삼성전자</td>\n",
       "      <td>K</td>\n",
       "      <td>12</td>\n",
       "      <td>1100</td>\n",
       "      <td>총수익</td>\n",
       "      <td>85,834,604,000,000.0</td>\n",
       "    </tr>\n",
       "    <tr>\n",
       "      <th>6598</th>\n",
       "      <td>2007-12-31</td>\n",
       "      <td>KRX:005930</td>\n",
       "      <td>삼성전자</td>\n",
       "      <td>K</td>\n",
       "      <td>12</td>\n",
       "      <td>1100</td>\n",
       "      <td>총수익</td>\n",
       "      <td>98,507,817,000,000.0</td>\n",
       "    </tr>\n",
       "    <tr>\n",
       "      <th>7160</th>\n",
       "      <td>2008-12-31</td>\n",
       "      <td>KRX:005930</td>\n",
       "      <td>삼성전자</td>\n",
       "      <td>K</td>\n",
       "      <td>12</td>\n",
       "      <td>1100</td>\n",
       "      <td>총수익</td>\n",
       "      <td>121,294,319,000,000.0</td>\n",
       "    </tr>\n",
       "    <tr>\n",
       "      <th>7677</th>\n",
       "      <td>2009-12-31</td>\n",
       "      <td>KRX:005930</td>\n",
       "      <td>삼성전자</td>\n",
       "      <td>K</td>\n",
       "      <td>12</td>\n",
       "      <td>1100</td>\n",
       "      <td>총수익</td>\n",
       "      <td>136,323,670,000,000.0</td>\n",
       "    </tr>\n",
       "    <tr>\n",
       "      <th>8199</th>\n",
       "      <td>2010-12-31</td>\n",
       "      <td>KRX:005930</td>\n",
       "      <td>삼성전자</td>\n",
       "      <td>K</td>\n",
       "      <td>12</td>\n",
       "      <td>1100</td>\n",
       "      <td>총수익</td>\n",
       "      <td>154,630,328,000,000.0</td>\n",
       "    </tr>\n",
       "    <tr>\n",
       "      <th>8719</th>\n",
       "      <td>2011-12-31</td>\n",
       "      <td>KRX:005930</td>\n",
       "      <td>삼성전자</td>\n",
       "      <td>K</td>\n",
       "      <td>12</td>\n",
       "      <td>1100</td>\n",
       "      <td>총수익</td>\n",
       "      <td>165,001,771,000,000.0</td>\n",
       "    </tr>\n",
       "    <tr>\n",
       "      <th>9238</th>\n",
       "      <td>2012-12-31</td>\n",
       "      <td>KRX:005930</td>\n",
       "      <td>삼성전자</td>\n",
       "      <td>K</td>\n",
       "      <td>12</td>\n",
       "      <td>1100</td>\n",
       "      <td>총수익</td>\n",
       "      <td>201,103,613,000,000.0</td>\n",
       "    </tr>\n",
       "    <tr>\n",
       "      <th>9748</th>\n",
       "      <td>2013-12-31</td>\n",
       "      <td>KRX:005930</td>\n",
       "      <td>삼성전자</td>\n",
       "      <td>K</td>\n",
       "      <td>12</td>\n",
       "      <td>1100</td>\n",
       "      <td>총수익</td>\n",
       "      <td>228,692,667,000,000.0</td>\n",
       "    </tr>\n",
       "    <tr>\n",
       "      <th>10268</th>\n",
       "      <td>2014-12-31</td>\n",
       "      <td>KRX:005930</td>\n",
       "      <td>삼성전자</td>\n",
       "      <td>K</td>\n",
       "      <td>12</td>\n",
       "      <td>1100</td>\n",
       "      <td>총수익</td>\n",
       "      <td>206,205,987,000,000.0</td>\n",
       "    </tr>\n",
       "    <tr>\n",
       "      <th>10782</th>\n",
       "      <td>2015-12-31</td>\n",
       "      <td>KRX:005930</td>\n",
       "      <td>삼성전자</td>\n",
       "      <td>K</td>\n",
       "      <td>12</td>\n",
       "      <td>1100</td>\n",
       "      <td>총수익</td>\n",
       "      <td>200,653,482,000,000.0</td>\n",
       "    </tr>\n",
       "    <tr>\n",
       "      <th>11299</th>\n",
       "      <td>2016-12-31</td>\n",
       "      <td>KRX:005930</td>\n",
       "      <td>삼성전자</td>\n",
       "      <td>K</td>\n",
       "      <td>12</td>\n",
       "      <td>1100</td>\n",
       "      <td>총수익</td>\n",
       "      <td>201,866,745,000,000.0</td>\n",
       "    </tr>\n",
       "    <tr>\n",
       "      <th>11836</th>\n",
       "      <td>2017-12-31</td>\n",
       "      <td>KRX:005930</td>\n",
       "      <td>삼성전자</td>\n",
       "      <td>K</td>\n",
       "      <td>12</td>\n",
       "      <td>1100</td>\n",
       "      <td>총수익</td>\n",
       "      <td>239,575,376,000,000.0</td>\n",
       "    </tr>\n",
       "    <tr>\n",
       "      <th>12377</th>\n",
       "      <td>2018-12-31</td>\n",
       "      <td>KRX:005930</td>\n",
       "      <td>삼성전자</td>\n",
       "      <td>K</td>\n",
       "      <td>12</td>\n",
       "      <td>1100</td>\n",
       "      <td>총수익</td>\n",
       "      <td>243,771,415,000,000.0</td>\n",
       "    </tr>\n",
       "    <tr>\n",
       "      <th>12905</th>\n",
       "      <td>2019-12-31</td>\n",
       "      <td>KRX:005930</td>\n",
       "      <td>삼성전자</td>\n",
       "      <td>K</td>\n",
       "      <td>12</td>\n",
       "      <td>1100</td>\n",
       "      <td>총수익</td>\n",
       "      <td>230,400,881,000,000.0</td>\n",
       "    </tr>\n",
       "  </tbody>\n",
       "</table>\n",
       "</div>"
      ],
      "text/plain": [
       "             date      symbol entity_name type_id  report_id  account_id  \\\n",
       "182    1996-12-31  KRX:005930        삼성전자       K         12        1100   \n",
       "745    1997-12-31  KRX:005930        삼성전자       K         12        1100   \n",
       "1290   1998-12-31  KRX:005930        삼성전자       K         12        1100   \n",
       "1857   1999-12-31  KRX:005930        삼성전자       K         12        1100   \n",
       "2452   2000-12-31  KRX:005930        삼성전자       K         12        1100   \n",
       "3060   2001-12-31  KRX:005930        삼성전자       K         12        1100   \n",
       "3668   2002-12-31  KRX:005930        삼성전자       K         12        1100   \n",
       "4264   2003-12-31  KRX:005930        삼성전자       K         12        1100   \n",
       "4856   2004-12-31  KRX:005930        삼성전자       K         12        1100   \n",
       "5431   2005-12-31  KRX:005930        삼성전자       K         12        1100   \n",
       "6007   2006-12-31  KRX:005930        삼성전자       K         12        1100   \n",
       "6598   2007-12-31  KRX:005930        삼성전자       K         12        1100   \n",
       "7160   2008-12-31  KRX:005930        삼성전자       K         12        1100   \n",
       "7677   2009-12-31  KRX:005930        삼성전자       K         12        1100   \n",
       "8199   2010-12-31  KRX:005930        삼성전자       K         12        1100   \n",
       "8719   2011-12-31  KRX:005930        삼성전자       K         12        1100   \n",
       "9238   2012-12-31  KRX:005930        삼성전자       K         12        1100   \n",
       "9748   2013-12-31  KRX:005930        삼성전자       K         12        1100   \n",
       "10268  2014-12-31  KRX:005930        삼성전자       K         12        1100   \n",
       "10782  2015-12-31  KRX:005930        삼성전자       K         12        1100   \n",
       "11299  2016-12-31  KRX:005930        삼성전자       K         12        1100   \n",
       "11836  2017-12-31  KRX:005930        삼성전자       K         12        1100   \n",
       "12377  2018-12-31  KRX:005930        삼성전자       K         12        1100   \n",
       "12905  2019-12-31  KRX:005930        삼성전자       K         12        1100   \n",
       "\n",
       "      name_ko                 value  \n",
       "182       총수익  19,877,739,175,000.0  \n",
       "745       총수익  22,682,015,966,000.0  \n",
       "1290      총수익  25,772,311,281,000.0  \n",
       "1857      총수익  32,087,714,365,000.0  \n",
       "2452      총수익  43,527,806,399,000.0  \n",
       "3060      총수익  46,443,767,990,000.0  \n",
       "3668      총수익  58,504,801,000,000.0  \n",
       "4264      총수익  64,817,456,000,000.0  \n",
       "4856      총수익  81,963,009,000,000.0  \n",
       "5431      총수익  80,629,510,000,000.0  \n",
       "6007      총수익  85,834,604,000,000.0  \n",
       "6598      총수익  98,507,817,000,000.0  \n",
       "7160      총수익 121,294,319,000,000.0  \n",
       "7677      총수익 136,323,670,000,000.0  \n",
       "8199      총수익 154,630,328,000,000.0  \n",
       "8719      총수익 165,001,771,000,000.0  \n",
       "9238      총수익 201,103,613,000,000.0  \n",
       "9748      총수익 228,692,667,000,000.0  \n",
       "10268     총수익 206,205,987,000,000.0  \n",
       "10782     총수익 200,653,482,000,000.0  \n",
       "11299     총수익 201,866,745,000,000.0  \n",
       "11836     총수익 239,575,376,000,000.0  \n",
       "12377     총수익 243,771,415,000,000.0  \n",
       "12905     총수익 230,400,881,000,000.0  "
      ]
     },
     "execution_count": 108,
     "metadata": {},
     "output_type": "execute_result"
    }
   ],
   "source": [
    "ww[lambda x : x['name_ko']=='총수익']"
   ]
  },
  {
   "cell_type": "code",
   "execution_count": 105,
   "metadata": {},
   "outputs": [
    {
     "data": {
      "text/plain": [
       "{'EBITDA대매출액',\n",
       " 'EBIT대매출액(세전이익)',\n",
       " '금융비용/매출액비율',\n",
       " '매출액법인세비용차감전순이익율',\n",
       " '매출액순이익율',\n",
       " '매출액영업이익율',\n",
       " '매출액증가율',\n",
       " '매출액총이익율',\n",
       " '차입금/매출액비율'}"
      ]
     },
     "execution_count": 105,
     "metadata": {},
     "output_type": "execute_result"
    }
   ],
   "source": [
    "set(ww[ww['name_ko'].str.contains('매출액')]['name_ko'].values)"
   ]
  },
  {
   "cell_type": "code",
   "execution_count": null,
   "metadata": {},
   "outputs": [],
   "source": [
    "qq[lambda]"
   ]
  },
  {
   "cell_type": "code",
   "execution_count": 112,
   "metadata": {},
   "outputs": [
    {
     "data": {
      "text/html": [
       "<div>\n",
       "<style scoped>\n",
       "    .dataframe tbody tr th:only-of-type {\n",
       "        vertical-align: middle;\n",
       "    }\n",
       "\n",
       "    .dataframe tbody tr th {\n",
       "        vertical-align: top;\n",
       "    }\n",
       "\n",
       "    .dataframe thead th {\n",
       "        text-align: right;\n",
       "    }\n",
       "</style>\n",
       "<table border=\"1\" class=\"dataframe\">\n",
       "  <thead>\n",
       "    <tr style=\"text-align: right;\">\n",
       "      <th></th>\n",
       "      <th>date</th>\n",
       "      <th>symbol</th>\n",
       "      <th>entity_name</th>\n",
       "      <th>type_id</th>\n",
       "      <th>report_id</th>\n",
       "      <th>account_id</th>\n",
       "      <th>name_ko</th>\n",
       "      <th>value</th>\n",
       "    </tr>\n",
       "  </thead>\n",
       "  <tbody>\n",
       "    <tr>\n",
       "      <th>310</th>\n",
       "      <td>2009-03-31</td>\n",
       "      <td>KRX:000060</td>\n",
       "      <td>메리츠화재</td>\n",
       "      <td>K</td>\n",
       "      <td>D2</td>\n",
       "      <td>9110</td>\n",
       "      <td>수익</td>\n",
       "      <td>80,514,721,000.0</td>\n",
       "    </tr>\n",
       "    <tr>\n",
       "      <th>818</th>\n",
       "      <td>2010-03-31</td>\n",
       "      <td>KRX:000060</td>\n",
       "      <td>메리츠화재</td>\n",
       "      <td>K</td>\n",
       "      <td>D2</td>\n",
       "      <td>9110</td>\n",
       "      <td>수익</td>\n",
       "      <td>75,500,329,000.0</td>\n",
       "    </tr>\n",
       "    <tr>\n",
       "      <th>1332</th>\n",
       "      <td>2011-03-31</td>\n",
       "      <td>KRX:000060</td>\n",
       "      <td>메리츠화재</td>\n",
       "      <td>K</td>\n",
       "      <td>D2</td>\n",
       "      <td>9110</td>\n",
       "      <td>수익</td>\n",
       "      <td>25,022,766,000.0</td>\n",
       "    </tr>\n",
       "    <tr>\n",
       "      <th>1868</th>\n",
       "      <td>2012-03-31</td>\n",
       "      <td>KRX:000060</td>\n",
       "      <td>메리츠화재</td>\n",
       "      <td>K</td>\n",
       "      <td>D2</td>\n",
       "      <td>9110</td>\n",
       "      <td>수익</td>\n",
       "      <td>12,140,639,000.0</td>\n",
       "    </tr>\n",
       "    <tr>\n",
       "      <th>2423</th>\n",
       "      <td>2013-03-31</td>\n",
       "      <td>KRX:000060</td>\n",
       "      <td>메리츠화재</td>\n",
       "      <td>K</td>\n",
       "      <td>D2</td>\n",
       "      <td>9110</td>\n",
       "      <td>수익</td>\n",
       "      <td>17,402,284,000.0</td>\n",
       "    </tr>\n",
       "    <tr>\n",
       "      <th>2948</th>\n",
       "      <td>2013-12-31</td>\n",
       "      <td>KRX:000060</td>\n",
       "      <td>메리츠화재</td>\n",
       "      <td>K</td>\n",
       "      <td>D2</td>\n",
       "      <td>9110</td>\n",
       "      <td>수익</td>\n",
       "      <td>2,534,000,000.0</td>\n",
       "    </tr>\n",
       "    <tr>\n",
       "      <th>3449</th>\n",
       "      <td>2014-12-31</td>\n",
       "      <td>KRX:000060</td>\n",
       "      <td>메리츠화재</td>\n",
       "      <td>K</td>\n",
       "      <td>D2</td>\n",
       "      <td>9110</td>\n",
       "      <td>수익</td>\n",
       "      <td>38,000,000.0</td>\n",
       "    </tr>\n",
       "  </tbody>\n",
       "</table>\n",
       "</div>"
      ],
      "text/plain": [
       "            date      symbol entity_name type_id report_id  account_id  \\\n",
       "310   2009-03-31  KRX:000060       메리츠화재       K        D2        9110   \n",
       "818   2010-03-31  KRX:000060       메리츠화재       K        D2        9110   \n",
       "1332  2011-03-31  KRX:000060       메리츠화재       K        D2        9110   \n",
       "1868  2012-03-31  KRX:000060       메리츠화재       K        D2        9110   \n",
       "2423  2013-03-31  KRX:000060       메리츠화재       K        D2        9110   \n",
       "2948  2013-12-31  KRX:000060       메리츠화재       K        D2        9110   \n",
       "3449  2014-12-31  KRX:000060       메리츠화재       K        D2        9110   \n",
       "\n",
       "     name_ko            value  \n",
       "310       수익 80,514,721,000.0  \n",
       "818       수익 75,500,329,000.0  \n",
       "1332      수익 25,022,766,000.0  \n",
       "1868      수익 12,140,639,000.0  \n",
       "2423      수익 17,402,284,000.0  \n",
       "2948      수익  2,534,000,000.0  \n",
       "3449      수익     38,000,000.0  "
      ]
     },
     "execution_count": 112,
     "metadata": {},
     "output_type": "execute_result"
    }
   ],
   "source": [
    "qq[lambda x : x['name_ko']=='수익']"
   ]
  },
  {
   "cell_type": "code",
   "execution_count": null,
   "metadata": {},
   "outputs": [],
   "source": []
  },
  {
   "cell_type": "code",
   "execution_count": null,
   "metadata": {},
   "outputs": [],
   "source": []
  },
  {
   "cell_type": "code",
   "execution_count": null,
   "metadata": {},
   "outputs": [],
   "source": []
  },
  {
   "cell_type": "code",
   "execution_count": null,
   "metadata": {},
   "outputs": [],
   "source": []
  },
  {
   "cell_type": "code",
   "execution_count": null,
   "metadata": {},
   "outputs": [],
   "source": []
  }
 ],
 "metadata": {
  "kernelspec": {
   "display_name": "Python 3",
   "language": "python",
   "name": "python3"
  },
  "language_info": {
   "codemirror_mode": {
    "name": "ipython",
    "version": 3
   },
   "file_extension": ".py",
   "mimetype": "text/x-python",
   "name": "python",
   "nbconvert_exporter": "python",
   "pygments_lexer": "ipython3",
   "version": "3.8.5"
  }
 },
 "nbformat": 4,
 "nbformat_minor": 4
}
