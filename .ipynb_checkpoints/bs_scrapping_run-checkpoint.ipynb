{
 "cells": [
  {
   "cell_type": "markdown",
   "metadata": {},
   "source": [
    "# BS scrapping test"
   ]
  },
  {
   "cell_type": "markdown",
   "metadata": {},
   "source": [
    "* https://shinminyong.tistory.com/15"
   ]
  },
  {
   "cell_type": "code",
   "execution_count": 1,
   "metadata": {},
   "outputs": [],
   "source": [
    "import logging, os, pickle\n",
    "import requests, glob\n",
    "from datetime import datetime\n",
    "from bs4 import BeautifulSoup\n",
    "from datetime import datetime\n",
    "import pandas as pd\n",
    "import time\n",
    "from datetime import date\n",
    "import urllib.request\n",
    "from selenium.webdriver import Chrome\n",
    "import json, re, sys, h5py\n",
    "from selenium.webdriver.chrome.options import Options\n",
    "from selenium.webdriver.common.keys import Keys\n",
    "import datetime as dt\n",
    "import pymysql\n",
    "import matplotlib.pyplot as plt\n",
    "from selenium.webdriver.support.ui import WebDriverWait\n",
    "from selenium.webdriver.support import expected_conditions as EC\n",
    "from selenium.webdriver.common.by import By\n",
    "from pykrx import stock\n",
    "import shutil\n",
    "import pyautogui"
   ]
  },
  {
   "cell_type": "code",
   "execution_count": 2,
   "metadata": {},
   "outputs": [
    {
     "data": {
      "text/plain": [
       "'3.8.5 (default, Sep  3 2020, 21:29:08) [MSC v.1916 64 bit (AMD64)]'"
      ]
     },
     "execution_count": 2,
     "metadata": {},
     "output_type": "execute_result"
    }
   ],
   "source": [
    "sys.version"
   ]
  },
  {
   "cell_type": "code",
   "execution_count": 65,
   "metadata": {},
   "outputs": [],
   "source": [
    "connection = pymysql.connect(host='localhost',port=3306, db='INVESTAR',user='root',passwd='tlqkfdk2',autocommit=True)\n",
    "cursor = connection.cursor()\n",
    "#comps = pd.read_sql(\"SELECT * FROM company_info\",connection)"
   ]
  },
  {
   "cell_type": "code",
   "execution_count": 27,
   "metadata": {},
   "outputs": [
    {
     "data": {
      "text/plain": [
       "327"
      ]
     },
     "execution_count": 27,
     "metadata": {},
     "output_type": "execute_result"
    }
   ],
   "source": [
    "cursor.execute(\"SELECT DISTINCT CODE FROM daily_price WHERE adjprice IS NULL\")"
   ]
  },
  {
   "cell_type": "code",
   "execution_count": 28,
   "metadata": {},
   "outputs": [],
   "source": [
    "nv = cursor.fetchall()\n",
    "[x[0] for x in nv]"
   ]
  },
  {
   "cell_type": "code",
   "execution_count": 35,
   "metadata": {},
   "outputs": [
    {
     "data": {
      "text/plain": [
       "['013890', '037030', '253840']"
      ]
     },
     "execution_count": 35,
     "metadata": {},
     "output_type": "execute_result"
    }
   ],
   "source": [
    "[x[0] for x in nv][:3]"
   ]
  },
  {
   "cell_type": "code",
   "execution_count": 23,
   "metadata": {},
   "outputs": [
    {
     "data": {
      "text/plain": [
       "2000"
      ]
     },
     "execution_count": 23,
     "metadata": {},
     "output_type": "execute_result"
    }
   ],
   "source": [
    "cursor.execute(\"SELECT * FROM DAILY_PRICE WHERE ADJPRICE>=0;\")"
   ]
  },
  {
   "cell_type": "code",
   "execution_count": 24,
   "metadata": {},
   "outputs": [
    {
     "data": {
      "text/plain": [
       "('000020', datetime.date(2016, 12, 8), 7620, 7620, 7450, 7480, 10, 37690, 7480)"
      ]
     },
     "execution_count": 24,
     "metadata": {},
     "output_type": "execute_result"
    }
   ],
   "source": [
    "cursor.fetchone()"
   ]
  },
  {
   "cell_type": "code",
   "execution_count": 66,
   "metadata": {},
   "outputs": [
    {
     "data": {
      "text/plain": [
       "2411"
      ]
     },
     "execution_count": 66,
     "metadata": {},
     "output_type": "execute_result"
    }
   ],
   "source": [
    "cursor.execute(\"SELECT * FROM COMPANY_INFO;\")"
   ]
  },
  {
   "cell_type": "code",
   "execution_count": 67,
   "metadata": {},
   "outputs": [],
   "source": [
    "ls = cursor.fetchall()"
   ]
  },
  {
   "cell_type": "code",
   "execution_count": 68,
   "metadata": {},
   "outputs": [],
   "source": [
    "ls_code = []\n",
    "ls_comp = []\n",
    "for e in range(len(ls)):\n",
    "    ls_code.append(ls[e][0])\n",
    "    ls_comp.append(ls[e][1])"
   ]
  },
  {
   "cell_type": "markdown",
   "metadata": {},
   "source": [
    "##### 일단 모든 종목은 다 있네 네이버 금융에"
   ]
  },
  {
   "cell_type": "markdown",
   "metadata": {},
   "source": [
    "### WTD\n",
    "\n",
    "1) all finance bs data\n",
    "2) + evitda\n",
    "3) 시가총액\n",
    "4) 수정종가는...? 어디랬지"
   ]
  },
  {
   "cell_type": "markdown",
   "metadata": {},
   "source": [
    "### WTD : 일단 성공!\n",
    "\n",
    "1) Annaul, Quarter 2개 구현\n",
    "\n",
    "2) h5로 파일 만들고 파일명으로 접근해서 loader를 만들기\n",
    "\n",
    "3) last_update_date로 update하는 방식 -> 주식가격 그 쪽도 그렇게 하자\n",
    "\n",
    "4) loader에서 YoY, QoQ도 구현\n",
    "\n",
    "5) 시간을 걸어야겠네 너무 빨라서 못 긁는 경우가 있어;;\n",
    "\n",
    "https://shinminyong.tistory.com/15"
   ]
  },
  {
   "cell_type": "markdown",
   "metadata": {},
   "source": [
    "### WTD : 일단 성공!\n",
    "\n",
    "2) h5로 파일 만들고 파일명으로 접근해서 loader를 만들기\n",
    "\n",
    "3) last_update_date로 update하는 방식 -> 주식가격 그 쪽도 그렇게 하자\n",
    "\n",
    "4) loader에서 YoY, QoQ도 구현\n",
    "\n",
    "5) 처음에만..?시간을 걸어야겠네 너무 빨라서 못 긁는 경우가 있어;;\n",
    "\n",
    "https://shinminyong.tistory.com/15"
   ]
  },
  {
   "cell_type": "code",
   "execution_count": 2,
   "metadata": {},
   "outputs": [],
   "source": [
    "class BSCrawler:\n",
    "    def __init__(self, argv):\n",
    "        \"\"\"Naver Finance : Financial Summary Crawler\"\"\"\n",
    "        self.driver_path = \"C:/Users/Bae Kyungmo/OneDrive/Desktop/WC_basic/chromedriver.exe\"\n",
    "        #self.update_date = datetime.today().strftime('%Y-%m-%d')\n",
    "        self.update_date = '2021-01-11'\n",
    "        self.conn = pymysql.connect(host='localhost',user='root',\n",
    "                                   password='tlqkfdk2',db='INVESTAR',charset='utf8')\n",
    "        self.logger = logging.getLogger()\n",
    "        self.logger.setLevel(logging.INFO)\n",
    "        formatter = logging.Formatter('%(asctime)s - %(name)s - %(levelname)s - %(message)s')\n",
    "        stream_handler = logging.StreamHandler()\n",
    "        stream_handler.setFormatter(formatter)\n",
    "        self.logger.addHandler(stream_handler)\n",
    "        file_handler = logging.FileHandler('BSCrawling.log')\n",
    "        file_handler.setFormatter(formatter)\n",
    "        self.logger.addHandler(file_handler)\n",
    "        self.logger.info('=======================================================================')\n",
    "        self.logger.info(f'Starting BSCrawler -> date : {self.update_date}')\n",
    "        \n",
    "        with self.conn.cursor() as curs:\n",
    "            sql_load = \"\"\"\n",
    "            SELECT CODE, COMPANY FROM COMPANY_INFO\n",
    "            \"\"\"\n",
    "            curs.execute(sql_load)\n",
    "            comps_ls = curs.fetchall()\n",
    "            self.codes = [str(e[0]) for e in comps_ls]\n",
    "            self.comps = [str(e[1]) for e in comps_ls]\n",
    "            \n",
    "        self.conn.commit() # May not be needed..        \n",
    "        self.url = 'https://finance.naver.com/item/coinfo.nhn?code={}&target=finsum_more'\n",
    "        \n",
    "    def __del__(self):\n",
    "        \"\"\"Disconnecting MariaDB\"\"\"\n",
    "        self.conn.close()\n",
    "        \n",
    "    def DataExistChecker(self, df, n=3):\n",
    "        \"\"\"At least three of items should be checked.\"\"\"\n",
    "        pointer=0\n",
    "        for i in range(n):\n",
    "            for idx, col in enumerate(df.columns):\n",
    "                if df.iloc[i,idx] == 0.0 or df.iloc[i,idx] == -1.0:\n",
    "                    pointer = idx\n",
    "                    break\n",
    "        return df.columns[pointer]\n",
    "\n",
    "    def EmptyChecker(self, df, cds):\n",
    "        if df.shape[0] == 0 or df.shape[1] == 0:\n",
    "            raise ValueError(\"There is no info in this dataframe!! : {}\".format(cds))\n",
    "    \n",
    "    def DataValidation(self, values):\n",
    "        flag = False\n",
    "        cnt = 0\n",
    "        for i in range(len(values)):\n",
    "            for j in range(len(values[i])):\n",
    "                if values[i][j] != 0.0:\n",
    "                    flag = True\n",
    "                    cnt += 1\n",
    "        return flag, cnt\n",
    "    \n",
    "    def DelistingChecker(self, ndays=30):\n",
    "        dels_comps = []\n",
    "        for cd in self.codes:\n",
    "            sql = f\"SELECT DATE FROM DAILY_PRICE WHERE CODE = '{cd}';\"\n",
    "            temp_dates = list(pd.read_sql(sql, self.conn)['DATE'])\n",
    "            temp_dates = [str(dt) for dt in temp_dates]\n",
    "            temp_dates = [date(int(dt[:4]),int(dt[5:7]),int(dt[8:])) for dt in temp_dates]\n",
    "            diff_day = 0\n",
    "            for idx in range(len(temp_dates)):\n",
    "                if idx != len(temp_dates)-1:\n",
    "                    diff_day = (temp_dates[idx+1] - temp_dates[idx]).days\n",
    "                    if diff_day >= ndays :\n",
    "                        dels_comps.append((cd,temp_dates[idx],temp_dates[idx+1]))\n",
    "        return dels_comps\n",
    "    \n",
    "    def StockSplitChecker(self, pwrs=2):\n",
    "        stsplt_comps = [] # 액면 분할\n",
    "        revsplt_comps = [] # 액면 병합\n",
    "        for cd in self.codes:\n",
    "            if cd in ['013890','037030']:#self.DelistingChecker(30):\n",
    "                continue\n",
    "            sql = f\"SELECT DATE, CLOSE FROM DAILY_PRICE WHERE CODE = '{cd}';\"\n",
    "            tmp_df = pd.read_sql(sql,self.conn)\n",
    "            tmp_df.index = list(tmp_df['DATE'])\n",
    "            tmp_df.drop(['DATE'], axis=1, inplace=True)\n",
    "            tmp_df.sort_index(inplace=True)\n",
    "            tmp_prices = list(tmp_df['CLOSE'])\n",
    "            for idx in range(len(tmp_prices)):\n",
    "                if idx != len(tmp_prices)-1:\n",
    "                    if tmp_prices[idx+1] >= tmp_prices[idx]*pwrs :\n",
    "                        revsplt_comps.append((cd,tmp_df.index[idx],tmp_prices[idx],tmp_df.index[idx+1],tmp_prices[idx+1]))\n",
    "                    elif tmp_prices[idx+1] <= float(tmp_prices[idx]) / pwrs :\n",
    "                        stsplt_comps.append((cd,tmp_df.index[idx],tmp_prices[idx],tmp_df.index[idx+1],tmp_prices[idx+1]))\n",
    "        return stsplt_comps, revsplt_comps\n",
    "            \n",
    "            \n",
    "    def UpdateDataInfo(self, unit='Annual'):\n",
    "        # unit : Annual / Quarter\n",
    "        try:\n",
    "            with open('./updateinfo_{}.pickle'.format(unit),'rb') as fr:\n",
    "                self.updateinfo = pickle.load(fr)\n",
    "        except:\n",
    "                self.updateinfo = {} \n",
    "        self.logger.info(f'Updating data existence and its corresponding update info. -> date : {self.update_date}')\n",
    "        nocoinfo=[]\n",
    "        yescoinfo=[]\n",
    "        sub_dict={}\n",
    "        for cd in self.codes :\n",
    "            try :\n",
    "                if os.path.isfile(glob.glob('./FullCache/{}/*{}*'.format(unit,cd))[0]):\n",
    "                    yescoinfo.append(cd)\n",
    "                else :\n",
    "                    nocoinfo.append(cd)\n",
    "            except :\n",
    "                nocoinfo.append(cd)\n",
    "        \"\"\" N : No CoInfo / Y : Yes CoInfo / U : Update Notice\"\"\"\n",
    "        sub_dict['N'] = nocoinfo\n",
    "        sub_dict['Y'] = yescoinfo\n",
    "        new_info = []\n",
    "        if len(self.updateinfo.keys()) == 0 :\n",
    "            sub_dict['U'] = new_info\n",
    "        else :\n",
    "            prev_date = sorted(list(self.updateinfo.keys()))[-1]\n",
    "            prev_Y = self.updateinfo[prev_date]['Y']\n",
    "            prev_N = self.updateinfo[prev_date]['N']\n",
    "            diff_Y = list(set(prev_Y) - set(yescoinfo))\n",
    "            self.logger.info('diff_Y list : {}'.format(diff_Y))\n",
    "            if len(diff_Y) != 0 :\n",
    "                diff_Y = ['-'+e for e in diff_Y]\n",
    "            diff_N = list(set(prev_N) - set(nocoinfo))\n",
    "            self.logger.info('diff_N list : {}'.format(diff_Y))\n",
    "            if len(diff_N) != 0 :\n",
    "                for e in diff_N:\n",
    "                    if e in yescoinfo :\n",
    "                        new_info.append('+'+e)\n",
    "            new_info = diff_Y + new_info\n",
    "        sub_dict['U'] = new_info\n",
    "        self.updateinfo[self.update_date] = sub_dict\n",
    "        with open('./updateinfo_{}.pickle'.format(unit),'wb') as fw:\n",
    "            pickle.dump(self.updateinfo, fw) \n",
    "        self.logger.info('Updating UpdateInfo Dictionary is done.')\n",
    "        \n",
    "    def Crawler(self):\n",
    "        browser = Chrome(self.driver_path)\n",
    "        for idx, cds in enumerate(self.codes):\n",
    "            try: \n",
    "                if os.path.isfile(glob.glob('./FullCache/Annual/*{}*'.format(cds))[0]):\n",
    "                    continue\n",
    "            except :\n",
    "                pass\n",
    "            print(\"Crawling *Annual* Financial Summary of *{}*...\".format(self.comps[idx]+'-'+cds))\n",
    "            url = self.url.format(cds)\n",
    "            requests.get(url).raise_for_status()\n",
    "            browser.get(url)\n",
    "            time.sleep(2)\n",
    "            try :\n",
    "                browser.switch_to.frame(browser.find_element_by_id('coinfo_cp'))\n",
    "                WebDriverWait(browser, 2).until(EC.element_to_be_clickable((By.XPATH,'//*[@id=\"cns_Tab21\"]')))\n",
    "            except :\n",
    "                self.logger.error(f'There is no *coinfo_cp* about this company -> {self.comps[idx]+\"-\"+cds}')\n",
    "                continue\n",
    "            browser.find_elements_by_xpath('//*[@id=\"cns_Tab21\"]')[0].click()\n",
    "            html = BeautifulSoup(browser.page_source, 'html.parser')\n",
    "            html_Y = html.find('table',{'class':'gHead01 all-width','summary':'주요재무정보를 제공합니다.'}) \n",
    "            html_tmp = html_Y.find('thead').find_all('tr')[1].find_all('th',attrs={\"class\":re.compile(\"^r03c\")})\n",
    "            dates = [''.join(re.findall('[0-9/]',html_tmp[i].text)).replace('/','-') for i in range(len(html_tmp))]\n",
    "            dates = ['None'+str(idx) if e=='' else e for idx, e in enumerate(dates)]\n",
    "            html_tmp = html_Y.find('tbody').find_all('tr')\n",
    "            cols = []\n",
    "            for i in range(len(html_tmp)):\n",
    "                if '\\xa0' in html_tmp[i].find('th').text:\n",
    "                    item = re.sub('\\xa0','',html_tmp[i].find('th').text)\n",
    "                else:\n",
    "                    item = html_tmp[i].find('th').text\n",
    "                cols.append(item)\n",
    "            values = []\n",
    "            for i in range(len(html_tmp)):\n",
    "                tmp = html_tmp[i].find_all('td')\n",
    "                value_tmp = []\n",
    "                for j in range(len(tmp)):\n",
    "                    try :\n",
    "                        if tmp[j].text == '':\n",
    "                            value_tmp.append(0.0)\n",
    "                        else:\n",
    "                            value_tmp.append(float(tmp[j].text.replace(',','')))\n",
    "                    except :\n",
    "                        value_tmp.append(-1.0)\n",
    "\n",
    "                values.append(value_tmp)\n",
    "            flag, valid_nb = self.DataValidation(values)\n",
    "            if flag and valid_nb >= 10 :\n",
    "                pass\n",
    "            else :\n",
    "                self.logger.error(f'Not enough *coinfo_cp* about this company -> {self.comps[idx]+\"-\"+cds}')\n",
    "                continue\n",
    "            df = pd.DataFrame(data=values, columns=dates, index=cols)\n",
    "            self.EmptyChecker(df, cds)\n",
    "            #last_info_date = self.DataExistChecker(df)\n",
    "            df.to_hdf(f'./FullCache/Annual/fs_annual_{cds}_{self.update_date}.h5',key=cds,mode='w')\n",
    "            \n",
    "            print(\"Crawling *Quarter* Financial Summary of *{}*...\".format(self.comps[idx]+'-'+cds))\n",
    "            WebDriverWait(browser, 1).until(EC.element_to_be_clickable((By.XPATH,'//*[@id=\"cns_Tab22\"]')))\n",
    "            browser.find_elements_by_xpath('//*[@id=\"cns_Tab22\"]')[0].click()\n",
    "            html = BeautifulSoup(browser.page_source, 'html.parser')\n",
    "            html_Y = html.find('table',{'class':'gHead01 all-width','summary':'주요재무정보를 제공합니다.'}) \n",
    "            html_tmp = html_Y.find('thead').find_all('tr')[1].find_all('th',attrs={\"class\":re.compile(\"^r03c\")})\n",
    "            dates = [''.join(re.findall('[0-9/]',html_tmp[i].text)).replace('/','-') for i in range(len(html_tmp))]\n",
    "            dates = ['None'+str(idx) if e=='' else e for idx, e in enumerate(dates)]\n",
    "            html_tmp = html_Y.find('tbody').find_all('tr')\n",
    "            cols = []\n",
    "            for i in range(len(html_tmp)):\n",
    "                if '\\xa0' in html_tmp[i].find('th').text:\n",
    "                    item = re.sub('\\xa0','',html_tmp[i].find('th').text)\n",
    "                else:\n",
    "                    item = html_tmp[i].find('th').text\n",
    "                cols.append(item)\n",
    "            values = []\n",
    "            for i in range(len(html_tmp)):\n",
    "                tmp = html_tmp[i].find_all('td')\n",
    "                value_tmp = []\n",
    "                for j in range(len(tmp)):\n",
    "                    try :\n",
    "                        if tmp[j].text == '':\n",
    "                            value_tmp.append(-999.9)\n",
    "                        else:\n",
    "                            value_tmp.append(float(tmp[j].text.replace(',','')))\n",
    "                    except :\n",
    "                        value_tmp.append(-999.9)\n",
    "\n",
    "                values.append(value_tmp)\n",
    "            flag, valid_nb = self.DataValidation(values)\n",
    "            if flag and valid_nb >= 10 :\n",
    "                pass\n",
    "            else :\n",
    "                self.logger.error(f'Not enough *coinfo_cp* about this company -> {self.comps[idx]+\"-\"+cds}')\n",
    "                continue\n",
    "            df = pd.DataFrame(data=values, columns=dates, index=cols)\n",
    "            self.EmptyChecker(df, cds)\n",
    "            #last_info_date = self.DataExistChecker(df)\n",
    "            df.to_hdf(f'./FullCache/Quarter/fs_quarter_{cds}_{self.update_date}.h5',key=cds,mode='w')\n",
    "        \n",
    "        self.logger.info(f'Cache generation is well done. : {self.update_date}')\n",
    "        self.logger.info('=======================================================================')        \n",
    "        return \"Cache generation is well done.\" "
   ]
  },
  {
   "cell_type": "code",
   "execution_count": 3,
   "metadata": {},
   "outputs": [
    {
     "name": "stderr",
     "output_type": "stream",
     "text": [
      "2021-01-13 01:44:09,243 - root - INFO - =======================================================================\n",
      "2021-01-13 01:44:09,248 - root - INFO - Starting BSCrawler -> date : 2021-01-11\n"
     ]
    },
    {
     "name": "stdout",
     "output_type": "stream",
     "text": [
      "Wall time: 58.5 ms\n"
     ]
    }
   ],
   "source": [
    "%%time\n",
    "bb = BSCrawler('full')"
   ]
  },
  {
   "cell_type": "code",
   "execution_count": 77,
   "metadata": {},
   "outputs": [
    {
     "name": "stdout",
     "output_type": "stream",
     "text": [
      "Wall time: 38.3 s\n"
     ]
    }
   ],
   "source": [
    "%%time\n",
    "sps,rvs = bb.StockSplitChecker(2.5)"
   ]
  },
  {
   "cell_type": "code",
   "execution_count": 80,
   "metadata": {},
   "outputs": [
    {
     "data": {
      "text/plain": [
       "(138, 82)"
      ]
     },
     "execution_count": 80,
     "metadata": {},
     "output_type": "execute_result"
    }
   ],
   "source": [
    "len(sps), len(rvs)"
   ]
  },
  {
   "cell_type": "code",
   "execution_count": 85,
   "metadata": {},
   "outputs": [
    {
     "name": "stdout",
     "output_type": "stream",
     "text": [
      "Wall time: 40.4 s\n"
     ]
    }
   ],
   "source": [
    "%%time\n",
    "sps,rvs = bb.StockSplitChecker(2)"
   ]
  },
  {
   "cell_type": "code",
   "execution_count": 87,
   "metadata": {},
   "outputs": [
    {
     "data": {
      "text/plain": [
       "(215, 100)"
      ]
     },
     "execution_count": 87,
     "metadata": {},
     "output_type": "execute_result"
    }
   ],
   "source": [
    "len(sps), len(rvs)"
   ]
  },
  {
   "cell_type": "code",
   "execution_count": 3,
   "metadata": {},
   "outputs": [],
   "source": [
    "from pykrx import stock"
   ]
  },
  {
   "cell_type": "code",
   "execution_count": 89,
   "metadata": {},
   "outputs": [
    {
     "data": {
      "text/plain": [
       "('000100', datetime.date(2020, 4, 7), 224500, datetime.date(2020, 4, 8), 46550)"
      ]
     },
     "execution_count": 89,
     "metadata": {},
     "output_type": "execute_result"
    }
   ],
   "source": [
    "sps[0]"
   ]
  },
  {
   "cell_type": "code",
   "execution_count": 90,
   "metadata": {},
   "outputs": [
    {
     "data": {
      "text/html": [
       "<div>\n",
       "<style scoped>\n",
       "    .dataframe tbody tr th:only-of-type {\n",
       "        vertical-align: middle;\n",
       "    }\n",
       "\n",
       "    .dataframe tbody tr th {\n",
       "        vertical-align: top;\n",
       "    }\n",
       "\n",
       "    .dataframe thead th {\n",
       "        text-align: right;\n",
       "    }\n",
       "</style>\n",
       "<table border=\"1\" class=\"dataframe\">\n",
       "  <thead>\n",
       "    <tr style=\"text-align: right;\">\n",
       "      <th></th>\n",
       "      <th>시가</th>\n",
       "      <th>고가</th>\n",
       "      <th>저가</th>\n",
       "      <th>종가</th>\n",
       "      <th>거래량</th>\n",
       "    </tr>\n",
       "    <tr>\n",
       "      <th>날짜</th>\n",
       "      <th></th>\n",
       "      <th></th>\n",
       "      <th></th>\n",
       "      <th></th>\n",
       "      <th></th>\n",
       "    </tr>\n",
       "  </thead>\n",
       "  <tbody>\n",
       "    <tr>\n",
       "      <th>2020-04-01</th>\n",
       "      <td>44783</td>\n",
       "      <td>46984</td>\n",
       "      <td>42774</td>\n",
       "      <td>42966</td>\n",
       "      <td>195574</td>\n",
       "    </tr>\n",
       "    <tr>\n",
       "      <th>2020-04-02</th>\n",
       "      <td>42965</td>\n",
       "      <td>43826</td>\n",
       "      <td>41530</td>\n",
       "      <td>42966</td>\n",
       "      <td>71427</td>\n",
       "    </tr>\n",
       "    <tr>\n",
       "      <th>2020-04-03</th>\n",
       "      <td>0</td>\n",
       "      <td>0</td>\n",
       "      <td>0</td>\n",
       "      <td>42966</td>\n",
       "      <td>0</td>\n",
       "    </tr>\n",
       "    <tr>\n",
       "      <th>2020-04-06</th>\n",
       "      <td>0</td>\n",
       "      <td>0</td>\n",
       "      <td>0</td>\n",
       "      <td>42966</td>\n",
       "      <td>0</td>\n",
       "    </tr>\n",
       "    <tr>\n",
       "      <th>2020-04-07</th>\n",
       "      <td>0</td>\n",
       "      <td>0</td>\n",
       "      <td>0</td>\n",
       "      <td>42966</td>\n",
       "      <td>0</td>\n",
       "    </tr>\n",
       "    <tr>\n",
       "      <th>2020-04-08</th>\n",
       "      <td>48802</td>\n",
       "      <td>50621</td>\n",
       "      <td>44544</td>\n",
       "      <td>44545</td>\n",
       "      <td>2612972</td>\n",
       "    </tr>\n",
       "    <tr>\n",
       "      <th>2020-04-09</th>\n",
       "      <td>45788</td>\n",
       "      <td>48324</td>\n",
       "      <td>45214</td>\n",
       "      <td>46889</td>\n",
       "      <td>1819258</td>\n",
       "    </tr>\n",
       "    <tr>\n",
       "      <th>2020-04-10</th>\n",
       "      <td>47845</td>\n",
       "      <td>47845</td>\n",
       "      <td>45645</td>\n",
       "      <td>46458</td>\n",
       "      <td>712604</td>\n",
       "    </tr>\n",
       "  </tbody>\n",
       "</table>\n",
       "</div>"
      ],
      "text/plain": [
       "               시가     고가     저가     종가      거래량\n",
       "날짜                                             \n",
       "2020-04-01  44783  46984  42774  42966   195574\n",
       "2020-04-02  42965  43826  41530  42966    71427\n",
       "2020-04-03      0      0      0  42966        0\n",
       "2020-04-06      0      0      0  42966        0\n",
       "2020-04-07      0      0      0  42966        0\n",
       "2020-04-08  48802  50621  44544  44545  2612972\n",
       "2020-04-09  45788  48324  45214  46889  1819258\n",
       "2020-04-10  47845  47845  45645  46458   712604"
      ]
     },
     "execution_count": 90,
     "metadata": {},
     "output_type": "execute_result"
    }
   ],
   "source": [
    "stock.get_market_ohlcv_by_date('20200401','20200410','000100',adjusted=True)"
   ]
  },
  {
   "cell_type": "code",
   "execution_count": 7,
   "metadata": {},
   "outputs": [],
   "source": [
    "tdf = stock.get_market_fundamental_by_date(\"20180301\", \"20210320\", '005930', 'y')"
   ]
  },
  {
   "cell_type": "code",
   "execution_count": 8,
   "metadata": {},
   "outputs": [
    {
     "data": {
      "text/html": [
       "<div>\n",
       "<style scoped>\n",
       "    .dataframe tbody tr th:only-of-type {\n",
       "        vertical-align: middle;\n",
       "    }\n",
       "\n",
       "    .dataframe tbody tr th {\n",
       "        vertical-align: top;\n",
       "    }\n",
       "\n",
       "    .dataframe thead th {\n",
       "        text-align: right;\n",
       "    }\n",
       "</style>\n",
       "<table border=\"1\" class=\"dataframe\">\n",
       "  <thead>\n",
       "    <tr style=\"text-align: right;\">\n",
       "      <th></th>\n",
       "      <th>DIV</th>\n",
       "      <th>BPS</th>\n",
       "      <th>PER</th>\n",
       "      <th>EPS</th>\n",
       "      <th>PBR</th>\n",
       "    </tr>\n",
       "    <tr>\n",
       "      <th>날짜</th>\n",
       "      <th></th>\n",
       "      <th></th>\n",
       "      <th></th>\n",
       "      <th></th>\n",
       "      <th></th>\n",
       "    </tr>\n",
       "  </thead>\n",
       "  <tbody>\n",
       "    <tr>\n",
       "      <th>2018-12-31</th>\n",
       "      <td>1.24</td>\n",
       "      <td>1156530</td>\n",
       "      <td>14.57</td>\n",
       "      <td>157967</td>\n",
       "      <td>1.990073</td>\n",
       "    </tr>\n",
       "    <tr>\n",
       "      <th>2019-12-31</th>\n",
       "      <td>2.19</td>\n",
       "      <td>28126</td>\n",
       "      <td>6.46</td>\n",
       "      <td>5997</td>\n",
       "      <td>1.377395</td>\n",
       "    </tr>\n",
       "    <tr>\n",
       "      <th>2020-12-31</th>\n",
       "      <td>2.57</td>\n",
       "      <td>35342</td>\n",
       "      <td>8.54</td>\n",
       "      <td>6461</td>\n",
       "      <td>1.561229</td>\n",
       "    </tr>\n",
       "    <tr>\n",
       "      <th>2021-12-31</th>\n",
       "      <td>1.71</td>\n",
       "      <td>37528</td>\n",
       "      <td>26.22</td>\n",
       "      <td>3166</td>\n",
       "      <td>2.212016</td>\n",
       "    </tr>\n",
       "  </tbody>\n",
       "</table>\n",
       "</div>"
      ],
      "text/plain": [
       "             DIV      BPS    PER     EPS       PBR\n",
       "날짜                                                \n",
       "2018-12-31  1.24  1156530  14.57  157967  1.990073\n",
       "2019-12-31  2.19    28126   6.46    5997  1.377395\n",
       "2020-12-31  2.57    35342   8.54    6461  1.561229\n",
       "2021-12-31  1.71    37528  26.22    3166  2.212016"
      ]
     },
     "execution_count": 8,
     "metadata": {},
     "output_type": "execute_result"
    }
   ],
   "source": [
    "tdf"
   ]
  },
  {
   "cell_type": "code",
   "execution_count": null,
   "metadata": {},
   "outputs": [],
   "source": []
  },
  {
   "cell_type": "markdown",
   "metadata": {},
   "source": [
    "---"
   ]
  },
  {
   "cell_type": "markdown",
   "metadata": {},
   "source": [
    "#### Debugging Crawler"
   ]
  },
  {
   "cell_type": "code",
   "execution_count": 38,
   "metadata": {},
   "outputs": [],
   "source": [
    "driver_path = \"C:/Users/Bae Kyungmo/OneDrive/Desktop/WC_basic/chromedriver.exe\"\n",
    "browser = Chrome(driver_path)\n",
    "url = 'https://finance.naver.com/item/coinfo.nhn?code={}&target=finsum_more'.format('005930')\n",
    "browser.get(url)\n",
    "browser.switch_to.frame(browser.find_element_by_id('coinfo_cp'))\n",
    "time.sleep(1)\n",
    "browser.find_elements_by_xpath('//*[@id=\"cns_Tab21\"]')[0].click()"
   ]
  },
  {
   "cell_type": "code",
   "execution_count": 39,
   "metadata": {},
   "outputs": [],
   "source": [
    "html = BeautifulSoup(browser.page_source, 'html.parser')\n",
    "html_Y = html.find('table',{'class':'gHead01 all-width','summary':'주요재무정보를 제공합니다.'}) "
   ]
  },
  {
   "cell_type": "code",
   "execution_count": 40,
   "metadata": {},
   "outputs": [],
   "source": [
    "html_tmp = html_Y.find('thead').find_all('tr')[1].find_all('th',attrs={\"class\":re.compile(\"^r03c\")})"
   ]
  },
  {
   "cell_type": "code",
   "execution_count": 51,
   "metadata": {},
   "outputs": [
    {
     "data": {
      "text/plain": [
       "True"
      ]
     },
     "execution_count": 51,
     "metadata": {},
     "output_type": "execute_result"
    }
   ],
   "source": [
    "html_Y.find('thead').find_all('tr')[0].find('th',attrs={'class':'bg r01c02 endLine line-bottom'}).text == '연간'"
   ]
  },
  {
   "cell_type": "code",
   "execution_count": 52,
   "metadata": {},
   "outputs": [],
   "source": [
    "browser.find_elements_by_xpath('//*[@id=\"cns_Tab22\"]')[0].click()"
   ]
  },
  {
   "cell_type": "code",
   "execution_count": 56,
   "metadata": {},
   "outputs": [],
   "source": [
    "qhtml = BeautifulSoup(browser.page_source, 'html.parser')\n",
    "qhtml_Y = qhtml.find('table',{'class':'gHead01 all-width','summary':'주요재무정보를 제공합니다.'}) "
   ]
  },
  {
   "cell_type": "code",
   "execution_count": 59,
   "metadata": {},
   "outputs": [
    {
     "data": {
      "text/plain": [
       "True"
      ]
     },
     "execution_count": 59,
     "metadata": {},
     "output_type": "execute_result"
    }
   ],
   "source": [
    "qhtml_Y.find('thead').find_all('tr')[0].find('th',attrs={'class':'bg r01c02 endLine line-bottom'}).text == '분기'"
   ]
  },
  {
   "cell_type": "code",
   "execution_count": 58,
   "metadata": {
    "collapsed": true,
    "jupyter": {
     "outputs_hidden": true
    }
   },
   "outputs": [
    {
     "data": {
      "text/plain": [
       "<table class=\"gHead01 all-width\" summary=\"주요재무정보를 제공합니다.\">\n",
       "<caption class=\"blind\">주요재무정보</caption>\n",
       "<thead>\n",
       "<tr>\n",
       "<th class=\"r03c00 bg\" rowspan=\"2\" style=\"width:125px\">주요재무정보</th>\n",
       "<th class=\"bg r01c02 endLine line-bottom\" colspan=\"8\">분기</th>\n",
       "</tr>\n",
       "<tr>\n",
       "<th class=\"r03c01 bg\">\n",
       "\t\t\t\t\t\t\t\t\t2019/09\n",
       "\t\t\t\t\t\t\t\t\t<br/>\n",
       "<span class=\"span-sub\">(IFRS연결)</span>\n",
       "</th>\n",
       "<th class=\"r03c02 bg\">\n",
       "\t\t\t\t\t\t\t\t\t2019/12\n",
       "\t\t\t\t\t\t\t\t\t<br/>\n",
       "<span class=\"span-sub\">(IFRS연결)</span>\n",
       "</th>\n",
       "<th class=\"r03c03 bg\">\n",
       "\t\t\t\t\t\t\t\t\t2020/03\n",
       "\t\t\t\t\t\t\t\t\t<br/>\n",
       "<span class=\"span-sub\">(IFRS연결)</span>\n",
       "</th>\n",
       "<th class=\"r03c04 bg\">\n",
       "\t\t\t\t\t\t\t\t\t2020/06\n",
       "\t\t\t\t\t\t\t\t\t<br/>\n",
       "<span class=\"span-sub\">(IFRS연결)</span>\n",
       "</th>\n",
       "<th class=\"r03c05 bg\">\n",
       "\t\t\t\t\t\t\t\t\t2020/09\n",
       "\t\t\t\t\t\t\t\t\t<br/>\n",
       "<span class=\"span-sub\">(IFRS연결)</span>\n",
       "</th>\n",
       "<th class=\"r03c06 bg\">\n",
       "\t\t\t\t\t\t\t\t\t2020/12(E)\n",
       "\t\t\t\t\t\t\t\t\t<br/>\n",
       "<span class=\"span-sub\">(IFRS연결)</span>\n",
       "</th>\n",
       "<th class=\"r03c07 bg\">\n",
       "\t\t\t\t\t\t\t\t\t2021/03(E)\n",
       "\t\t\t\t\t\t\t\t\t<br/>\n",
       "<span class=\"span-sub\">(IFRS연결)</span>\n",
       "</th>\n",
       "<th class=\"r03c08 bg endLine\">\n",
       "\t\t\t\t\t\t\t\t\t2021/06(E)\n",
       "\t\t\t\t\t\t\t\t\t<br/>\n",
       "<span class=\"span-sub\">(IFRS연결)</span>\n",
       "</th></tr></thead><tbody>\n",
       "<tr>\n",
       "<th class=\"bg txt title\">매출액</th>\n",
       "<td class=\"num line\"><span class=\"cBk\">620,035</span></td>\n",
       "<td class=\"num line\"><span class=\"cBk\">598,848</span></td>\n",
       "<td class=\"num line\"><span class=\"cBk\">553,252</span></td>\n",
       "<td class=\"num line\"><span class=\"cBk\">529,661</span></td>\n",
       "<td class=\"num line\"><span class=\"cBk\">669,642</span></td>\n",
       "<td class=\"num bgE line\"><span class=\"cBk\">618,949</span></td>\n",
       "<td class=\"num bgE line\"><span class=\"cBk\">584,281</span></td>\n",
       "<td class=\"num bgE noline-right\"><span class=\"cBk\">599,086</span></td>\n",
       "</tr>\n",
       "<tr>\n",
       "<th class=\"bg txt title\">영업이익</th>\n",
       "<td class=\"num line\"><span class=\"cBk\">77,779</span></td>\n",
       "<td class=\"num line\"><span class=\"cBk\">71,603</span></td>\n",
       "<td class=\"num line\"><span class=\"cBk\">64,473</span></td>\n",
       "<td class=\"num line\"><span class=\"cBk\">81,463</span></td>\n",
       "<td class=\"num line\"><span class=\"cBk\">123,532</span></td>\n",
       "<td class=\"num bgE line\"><span class=\"cBk\">97,440</span></td>\n",
       "<td class=\"num bgE line\"><span class=\"cBk\">85,656</span></td>\n",
       "<td class=\"num bgE noline-right\"><span class=\"cBk\">98,583</span></td>\n",
       "</tr>\n",
       "<tr>\n",
       "<th class=\"bg txt title\">영업이익(발표기준)</th>\n",
       "<td class=\"num line\"><span class=\"cBk\">77,779</span></td>\n",
       "<td class=\"num line\"><span class=\"cBk\">71,603</span></td>\n",
       "<td class=\"num line\"><span class=\"cBk\">64,473</span></td>\n",
       "<td class=\"num line\"><span class=\"cBk\">81,463</span></td>\n",
       "<td class=\"num line\"><span class=\"cBk\">123,532</span></td>\n",
       "<td class=\"num bgE line\"></td>\n",
       "<td class=\"num bgE line\"></td>\n",
       "<td class=\"num bgE noline-right\"></td>\n",
       "</tr>\n",
       "<tr>\n",
       "<th class=\"bg txt title\">세전계속사업이익</th>\n",
       "<td class=\"num line\"><span class=\"cBk\">86,207</span></td>\n",
       "<td class=\"num line\"><span class=\"cBk\">77,191</span></td>\n",
       "<td class=\"num line\"><span class=\"cBk\">67,569</span></td>\n",
       "<td class=\"num line\"><span class=\"cBk\">77,697</span></td>\n",
       "<td class=\"num line\"><span class=\"cBk\">128,441</span></td>\n",
       "<td class=\"num bgE line\"><span class=\"cBk\">105,179</span></td>\n",
       "<td class=\"num bgE line\"><span class=\"cBk\">99,536</span></td>\n",
       "<td class=\"num bgE noline-right\"><span class=\"cBk\">110,297</span></td>\n",
       "</tr>\n",
       "<tr>\n",
       "<th class=\"bg txt title\">당기순이익</th>\n",
       "<td class=\"num line\"><span class=\"cBk\">62,877</span></td>\n",
       "<td class=\"num line\"><span class=\"cBk\">52,270</span></td>\n",
       "<td class=\"num line\"><span class=\"cBk\">48,849</span></td>\n",
       "<td class=\"num line\"><span class=\"cBk\">55,551</span></td>\n",
       "<td class=\"num line\"><span class=\"cBk\">93,607</span></td>\n",
       "<td class=\"num bgE line\"><span class=\"cBk\">76,182</span></td>\n",
       "<td class=\"num bgE line\"><span class=\"cBk\">63,558</span></td>\n",
       "<td class=\"num bgE noline-right\"><span class=\"cBk\">71,140</span></td>\n",
       "</tr>\n",
       "<tr>\n",
       "<th class=\"bg txt title\">  당기순이익(지배)</th>\n",
       "<td class=\"num line\"><span class=\"cBk\">61,050</span></td>\n",
       "<td class=\"num line\"><span class=\"cBk\">52,280</span></td>\n",
       "<td class=\"num line\"><span class=\"cBk\">48,896</span></td>\n",
       "<td class=\"num line\"><span class=\"cBk\">54,890</span></td>\n",
       "<td class=\"num line\"><span class=\"cBk\">92,668</span></td>\n",
       "<td class=\"num bgE line\"><span class=\"cBk\">71,443</span></td>\n",
       "<td class=\"num bgE line\"><span class=\"cBk\">69,318</span></td>\n",
       "<td class=\"num bgE noline-right\"><span class=\"cBk\">79,782</span></td>\n",
       "</tr>\n",
       "<tr>\n",
       "<th class=\"bg txt title\">  당기순이익(비지배)</th>\n",
       "<td class=\"num line\"><span class=\"cBk\">1,826</span></td>\n",
       "<td class=\"num line\"><span class=\"cUp\">-10</span></td>\n",
       "<td class=\"num line\"><span class=\"cUp\">-47</span></td>\n",
       "<td class=\"num line\"><span class=\"cBk\">661</span></td>\n",
       "<td class=\"num line\"><span class=\"cBk\">939</span></td>\n",
       "<td class=\"num bgE line\"></td>\n",
       "<td class=\"num bgE line\"></td>\n",
       "<td class=\"num bgE noline-right\"></td>\n",
       "</tr>\n",
       "<tr>\n",
       "<th class=\"bg txt title\">자산총계</th>\n",
       "<td class=\"num line\"><span class=\"cBk\">3,533,860</span></td>\n",
       "<td class=\"num line\"><span class=\"cBk\">3,525,645</span></td>\n",
       "<td class=\"num line\"><span class=\"cBk\">3,574,575</span></td>\n",
       "<td class=\"num line\"><span class=\"cBk\">3,579,595</span></td>\n",
       "<td class=\"num line\"><span class=\"cBk\">3,757,887</span></td>\n",
       "<td class=\"num bgE line\"><span class=\"cBk\">3,751,658</span></td>\n",
       "<td class=\"num bgE line\"></td>\n",
       "<td class=\"num bgE noline-right\"></td>\n",
       "</tr>\n",
       "<tr>\n",
       "<th class=\"bg txt title\">부채총계</th>\n",
       "<td class=\"num line\"><span class=\"cBk\">899,437</span></td>\n",
       "<td class=\"num line\"><span class=\"cBk\">896,841</span></td>\n",
       "<td class=\"num line\"><span class=\"cBk\">910,698</span></td>\n",
       "<td class=\"num line\"><span class=\"cBk\">881,517</span></td>\n",
       "<td class=\"num line\"><span class=\"cBk\">996,526</span></td>\n",
       "<td class=\"num bgE line\"><span class=\"cBk\">936,084</span></td>\n",
       "<td class=\"num bgE line\"></td>\n",
       "<td class=\"num bgE noline-right\"></td>\n",
       "</tr>\n",
       "<tr>\n",
       "<th class=\"bg txt title\">자본총계</th>\n",
       "<td class=\"num line\"><span class=\"cBk\">2,634,422</span></td>\n",
       "<td class=\"num line\"><span class=\"cBk\">2,628,804</span></td>\n",
       "<td class=\"num line\"><span class=\"cBk\">2,663,877</span></td>\n",
       "<td class=\"num line\"><span class=\"cBk\">2,698,078</span></td>\n",
       "<td class=\"num line\"><span class=\"cBk\">2,761,362</span></td>\n",
       "<td class=\"num bgE line\"><span class=\"cBk\">2,815,779</span></td>\n",
       "<td class=\"num bgE line\"></td>\n",
       "<td class=\"num bgE noline-right\"></td>\n",
       "</tr>\n",
       "<tr>\n",
       "<th class=\"bg txt title\">  자본총계(지배)</th>\n",
       "<td class=\"num line\"><span class=\"cBk\">2,554,034</span></td>\n",
       "<td class=\"num line\"><span class=\"cBk\">2,549,155</span></td>\n",
       "<td class=\"num line\"><span class=\"cBk\">2,584,818</span></td>\n",
       "<td class=\"num line\"><span class=\"cBk\">2,617,454</span></td>\n",
       "<td class=\"num line\"><span class=\"cBk\">2,679,421</span></td>\n",
       "<td class=\"num bgE line\"><span class=\"cBk\">2,732,840</span></td>\n",
       "<td class=\"num bgE line\"></td>\n",
       "<td class=\"num bgE noline-right\"></td>\n",
       "</tr>\n",
       "<tr>\n",
       "<th class=\"bg txt title\">  자본총계(비지배)</th>\n",
       "<td class=\"num line\"><span class=\"cBk\">80,388</span></td>\n",
       "<td class=\"num line\"><span class=\"cBk\">79,649</span></td>\n",
       "<td class=\"num line\"><span class=\"cBk\">79,060</span></td>\n",
       "<td class=\"num line\"><span class=\"cBk\">80,625</span></td>\n",
       "<td class=\"num line\"><span class=\"cBk\">81,940</span></td>\n",
       "<td class=\"num bgE line\"></td>\n",
       "<td class=\"num bgE line\"></td>\n",
       "<td class=\"num bgE noline-right\"></td>\n",
       "</tr>\n",
       "<tr>\n",
       "<th class=\"bg txt title\">자본금</th>\n",
       "<td class=\"num line\"><span class=\"cBk\">8,975</span></td>\n",
       "<td class=\"num line\"><span class=\"cBk\">8,975</span></td>\n",
       "<td class=\"num line\"><span class=\"cBk\">8,975</span></td>\n",
       "<td class=\"num line\"><span class=\"cBk\">8,975</span></td>\n",
       "<td class=\"num line\"><span class=\"cBk\">8,975</span></td>\n",
       "<td class=\"num bgE line\"><span class=\"cBk\">8,979</span></td>\n",
       "<td class=\"num bgE line\"></td>\n",
       "<td class=\"num bgE noline-right\"></td>\n",
       "</tr>\n",
       "<tr>\n",
       "<th class=\"bg txt title\">영업활동현금흐름</th>\n",
       "<td class=\"num line\"><span class=\"cBk\">138,266</span></td>\n",
       "<td class=\"num line\"><span class=\"cBk\">197,171</span></td>\n",
       "<td class=\"num line\"><span class=\"cBk\">118,299</span></td>\n",
       "<td class=\"num line\"><span class=\"cBk\">147,982</span></td>\n",
       "<td class=\"num line\"><span class=\"cBk\">141,444</span></td>\n",
       "<td class=\"num bgE line\"></td>\n",
       "<td class=\"num bgE line\"></td>\n",
       "<td class=\"num bgE noline-right\"></td>\n",
       "</tr>\n",
       "<tr>\n",
       "<th class=\"bg txt title\">투자활동현금흐름</th>\n",
       "<td class=\"num line\"><span class=\"cUp\">-129,336</span></td>\n",
       "<td class=\"num line\"><span class=\"cUp\">-184,860</span></td>\n",
       "<td class=\"num line\"><span class=\"cUp\">-85,292</span></td>\n",
       "<td class=\"num line\"><span class=\"cUp\">-24,115</span></td>\n",
       "<td class=\"num line\"><span class=\"cUp\">-239,889</span></td>\n",
       "<td class=\"num bgE line\"></td>\n",
       "<td class=\"num bgE line\"></td>\n",
       "<td class=\"num bgE noline-right\"></td>\n",
       "</tr>\n",
       "<tr>\n",
       "<th class=\"bg txt title\">재무활동현금흐름</th>\n",
       "<td class=\"num line\"><span class=\"cUp\">-22,033</span></td>\n",
       "<td class=\"num line\"><span class=\"cUp\">-4,051</span></td>\n",
       "<td class=\"num line\"><span class=\"cUp\">-29,736</span></td>\n",
       "<td class=\"num line\"><span class=\"cUp\">-38,591</span></td>\n",
       "<td class=\"num line\"><span class=\"cBk\">4,994</span></td>\n",
       "<td class=\"num bgE line\"></td>\n",
       "<td class=\"num bgE line\"></td>\n",
       "<td class=\"num bgE noline-right\"></td>\n",
       "</tr>\n",
       "<tr>\n",
       "<th class=\"bg txt title\">CAPEX</th>\n",
       "<td class=\"num line\"><span class=\"cBk\">67,979</span></td>\n",
       "<td class=\"num line\"><span class=\"cBk\">78,848</span></td>\n",
       "<td class=\"num line\"><span class=\"cBk\">85,643</span></td>\n",
       "<td class=\"num line\"><span class=\"cBk\">98,778</span></td>\n",
       "<td class=\"num line\"><span class=\"cBk\">85,372</span></td>\n",
       "<td class=\"num bgE line\"></td>\n",
       "<td class=\"num bgE line\"></td>\n",
       "<td class=\"num bgE noline-right\"></td>\n",
       "</tr>\n",
       "<tr>\n",
       "<th class=\"bg txt title\">FCF</th>\n",
       "<td class=\"num line\"><span class=\"cBk\">70,287</span></td>\n",
       "<td class=\"num line\"><span class=\"cBk\">118,323</span></td>\n",
       "<td class=\"num line\"><span class=\"cBk\">32,656</span></td>\n",
       "<td class=\"num line\"><span class=\"cBk\">49,204</span></td>\n",
       "<td class=\"num line\"><span class=\"cBk\">56,072</span></td>\n",
       "<td class=\"num bgE line\"></td>\n",
       "<td class=\"num bgE line\"></td>\n",
       "<td class=\"num bgE noline-right\"></td>\n",
       "</tr>\n",
       "<tr>\n",
       "<th class=\"bg txt title\">이자발생부채</th>\n",
       "<td class=\"num line\"><span class=\"cBk\">161,333</span></td>\n",
       "<td class=\"num line\"><span class=\"cBk\">184,120</span></td>\n",
       "<td class=\"num line\"><span class=\"cBk\">156,652</span></td>\n",
       "<td class=\"num line\"><span class=\"cBk\">166,848</span></td>\n",
       "<td class=\"num line\"><span class=\"cBk\">196,265</span></td>\n",
       "<td class=\"num bgE line\"></td>\n",
       "<td class=\"num bgE line\"></td>\n",
       "<td class=\"num bgE noline-right\"></td>\n",
       "</tr>\n",
       "<tr>\n",
       "<th class=\"bg txt title\">영업이익률</th>\n",
       "<td class=\"num line\"><span class=\"cBk\">12.54</span></td>\n",
       "<td class=\"num line\"><span class=\"cBk\">11.96</span></td>\n",
       "<td class=\"num line\"><span class=\"cBk\">11.65</span></td>\n",
       "<td class=\"num line\"><span class=\"cBk\">15.38</span></td>\n",
       "<td class=\"num line\"><span class=\"cBk\">18.45</span></td>\n",
       "<td class=\"num bgE line\"><span class=\"cBk\">15.74</span></td>\n",
       "<td class=\"num bgE line\"><span class=\"cBk\">14.66</span></td>\n",
       "<td class=\"num bgE noline-right\"><span class=\"cBk\">16.46</span></td>\n",
       "</tr>\n",
       "<tr>\n",
       "<th class=\"bg txt title\">순이익률</th>\n",
       "<td class=\"num line\"><span class=\"cBk\">10.14</span></td>\n",
       "<td class=\"num line\"><span class=\"cBk\">8.73</span></td>\n",
       "<td class=\"num line\"><span class=\"cBk\">8.83</span></td>\n",
       "<td class=\"num line\"><span class=\"cBk\">10.49</span></td>\n",
       "<td class=\"num line\"><span class=\"cBk\">13.98</span></td>\n",
       "<td class=\"num bgE line\"><span class=\"cBk\">12.31</span></td>\n",
       "<td class=\"num bgE line\"><span class=\"cBk\">10.88</span></td>\n",
       "<td class=\"num bgE noline-right\"><span class=\"cBk\">11.88</span></td>\n",
       "</tr>\n",
       "<tr>\n",
       "<th class=\"bg txt title\">ROE(%)</th>\n",
       "<td class=\"num line\"><span class=\"cBk\">10.05</span></td>\n",
       "<td class=\"num line\"><span class=\"cBk\">8.69</span></td>\n",
       "<td class=\"num line\"><span class=\"cBk\">8.45</span></td>\n",
       "<td class=\"num line\"><span class=\"cBk\">8.49</span></td>\n",
       "<td class=\"num line\"><span class=\"cBk\">9.51</span></td>\n",
       "<td class=\"num bgE line\"></td>\n",
       "<td class=\"num bgE line\"></td>\n",
       "<td class=\"num bgE noline-right\"></td>\n",
       "</tr>\n",
       "<tr>\n",
       "<th class=\"bg txt title\">ROA(%)</th>\n",
       "<td class=\"num line\"><span class=\"cBk\">7.23</span></td>\n",
       "<td class=\"num line\"><span class=\"cBk\">6.28</span></td>\n",
       "<td class=\"num line\"><span class=\"cBk\">6.14</span></td>\n",
       "<td class=\"num line\"><span class=\"cBk\">6.26</span></td>\n",
       "<td class=\"num line\"><span class=\"cBk\">6.87</span></td>\n",
       "<td class=\"num bgE line\"></td>\n",
       "<td class=\"num bgE line\"></td>\n",
       "<td class=\"num bgE noline-right\"></td>\n",
       "</tr>\n",
       "<tr>\n",
       "<th class=\"bg txt title\">부채비율</th>\n",
       "<td class=\"num line\"><span class=\"cBk\">34.14</span></td>\n",
       "<td class=\"num line\"><span class=\"cBk\">34.12</span></td>\n",
       "<td class=\"num line\"><span class=\"cBk\">34.19</span></td>\n",
       "<td class=\"num line\"><span class=\"cBk\">32.67</span></td>\n",
       "<td class=\"num line\"><span class=\"cBk\">36.09</span></td>\n",
       "<td class=\"num bgE line\"><span class=\"cBk\">33.24</span></td>\n",
       "<td class=\"num bgE line\"></td>\n",
       "<td class=\"num bgE noline-right\"></td>\n",
       "</tr>\n",
       "<tr>\n",
       "<th class=\"bg txt title\">자본유보율</th>\n",
       "<td class=\"num line\"><span class=\"cBk\">28,541.64</span></td>\n",
       "<td class=\"num line\"><span class=\"cBk\">28,856.02</span></td>\n",
       "<td class=\"num line\"><span class=\"cBk\">29,134.12</span></td>\n",
       "<td class=\"num line\"><span class=\"cBk\">29,477.97</span></td>\n",
       "<td class=\"num line\"><span class=\"cBk\">30,242.29</span></td>\n",
       "<td class=\"num bgE line\"></td>\n",
       "<td class=\"num bgE line\"></td>\n",
       "<td class=\"num bgE noline-right\"></td>\n",
       "</tr>\n",
       "<tr>\n",
       "<th class=\"bg txt title\">EPS(원)</th>\n",
       "<td class=\"num line\"><span class=\"cBk\">899</span></td>\n",
       "<td class=\"num line\"><span class=\"cBk\">770</span></td>\n",
       "<td class=\"num line\"><span class=\"cBk\">720</span></td>\n",
       "<td class=\"num line\"><span class=\"cBk\">808</span></td>\n",
       "<td class=\"num line\"><span class=\"cBk\">1,364</span></td>\n",
       "<td class=\"num bgE line\"><span class=\"cBk\">1,052</span></td>\n",
       "<td class=\"num bgE line\"><span class=\"cBk\">1,020</span></td>\n",
       "<td class=\"num bgE noline-right\"><span class=\"cBk\">1,175</span></td>\n",
       "</tr>\n",
       "<tr>\n",
       "<th class=\"bg txt title\">PER(배)</th>\n",
       "<td class=\"num line\"><span class=\"cBk\">13.73</span></td>\n",
       "<td class=\"num line\"><span class=\"cBk\">17.63</span></td>\n",
       "<td class=\"num line\"><span class=\"cBk\">15.24</span></td>\n",
       "<td class=\"num line\"><span class=\"cBk\">16.52</span></td>\n",
       "<td class=\"num line\"><span class=\"cBk\">15.89</span></td>\n",
       "<td class=\"num bgE line\"></td>\n",
       "<td class=\"num bgE line\"></td>\n",
       "<td class=\"num bgE noline-right\"></td>\n",
       "</tr>\n",
       "<tr>\n",
       "<th class=\"bg txt title\">BPS(원)</th>\n",
       "<td class=\"num line\"><span class=\"cBk\">37,600</span></td>\n",
       "<td class=\"num line\"><span class=\"cBk\">37,528</span></td>\n",
       "<td class=\"num line\"><span class=\"cBk\">38,053</span></td>\n",
       "<td class=\"num line\"><span class=\"cBk\">38,534</span></td>\n",
       "<td class=\"num line\"><span class=\"cBk\">39,446</span></td>\n",
       "<td class=\"num bgE line\"><span class=\"cBk\">40,232</span></td>\n",
       "<td class=\"num bgE line\"></td>\n",
       "<td class=\"num bgE noline-right\"></td>\n",
       "</tr>\n",
       "<tr>\n",
       "<th class=\"bg txt title\">PBR(배)</th>\n",
       "<td class=\"num line\"><span class=\"cBk\">1.30</span></td>\n",
       "<td class=\"num line\"><span class=\"cBk\">1.49</span></td>\n",
       "<td class=\"num line\"><span class=\"cBk\">1.25</span></td>\n",
       "<td class=\"num line\"><span class=\"cBk\">1.37</span></td>\n",
       "<td class=\"num line\"><span class=\"cBk\">1.48</span></td>\n",
       "<td class=\"num bgE line\"><span class=\"cBk\">2.01</span></td>\n",
       "<td class=\"num bgE line\"></td>\n",
       "<td class=\"num bgE noline-right\"></td>\n",
       "</tr>\n",
       "<tr>\n",
       "<th class=\"bg txt title\">현금DPS(원)</th>\n",
       "<td class=\"num line\"><span class=\"cBk\">354</span></td>\n",
       "<td class=\"num line\"><span class=\"cBk\">354</span></td>\n",
       "<td class=\"num line\"><span class=\"cBk\">354</span></td>\n",
       "<td class=\"num line\"><span class=\"cBk\">354</span></td>\n",
       "<td class=\"num line\"><span class=\"cBk\">354</span></td>\n",
       "<td class=\"num bgE line\"></td>\n",
       "<td class=\"num bgE line\"></td>\n",
       "<td class=\"num bgE noline-right\"></td>\n",
       "</tr>\n",
       "<tr>\n",
       "<th class=\"bg txt title\">현금배당수익률</th>\n",
       "<td class=\"num line\"></td>\n",
       "<td class=\"num line\"></td>\n",
       "<td class=\"num line\"></td>\n",
       "<td class=\"num line\"></td>\n",
       "<td class=\"num line\"></td>\n",
       "<td class=\"num bgE line\"></td>\n",
       "<td class=\"num bgE line\"></td>\n",
       "<td class=\"num bgE noline-right\"></td>\n",
       "</tr>\n",
       "<tr>\n",
       "<th class=\"bg txt title\">현금배당성향(%)</th>\n",
       "<td class=\"num line\"><span class=\"cBk\">39.39</span></td>\n",
       "<td class=\"num line\"><span class=\"cBk\">46.01</span></td>\n",
       "<td class=\"num line\"><span class=\"cBk\">49.18</span></td>\n",
       "<td class=\"num line\"><span class=\"cBk\">43.81</span></td>\n",
       "<td class=\"num line\"><span class=\"cBk\">25.95</span></td>\n",
       "<td class=\"num bgE line\"></td>\n",
       "<td class=\"num bgE line\"></td>\n",
       "<td class=\"num bgE noline-right\"></td>\n",
       "</tr>\n",
       "<tr>\n",
       "<th class=\"bg txt title line-bottom\">발행주식수(보통주)</th>\n",
       "<td class=\"num line line-bottom\"><span class=\"cBk\">5,969,782,550</span></td>\n",
       "<td class=\"num line line-bottom\"><span class=\"cBk\">5,969,782,550</span></td>\n",
       "<td class=\"num line line-bottom\"><span class=\"cBk\">5,969,782,550</span></td>\n",
       "<td class=\"num line line-bottom\"><span class=\"cBk\">5,969,782,550</span></td>\n",
       "<td class=\"num line line-bottom\"><span class=\"cBk\">5,969,782,550</span></td>\n",
       "<td class=\"num bgE line line-bottom\"></td>\n",
       "<td class=\"num bgE line line-bottom\"></td>\n",
       "<td class=\"num bgE noline-right line-bottom\"></td>\n",
       "</tr>\n",
       "</tbody></table>"
      ]
     },
     "execution_count": 58,
     "metadata": {},
     "output_type": "execute_result"
    }
   ],
   "source": [
    "qhtml_Y"
   ]
  },
  {
   "cell_type": "code",
   "execution_count": null,
   "metadata": {},
   "outputs": [],
   "source": []
  },
  {
   "cell_type": "code",
   "execution_count": null,
   "metadata": {},
   "outputs": [],
   "source": [
    "html = BeautifulSoup(browser.page_source, 'html.parser')\n",
    "html_Y = html.find('table',{'class':'gHead01 all-width','summary':'주요재무정보를 제공합니다.'}) \n",
    "html_tmp = html_Y.find('thead').find_all('tr')[1].find_all('th',attrs={\"class\":re.compile(\"^r03c\")})\n",
    "dates = [''.join(re.findall('[0-9/]',html_tmp[i].text)).replace('/','-') for i in range(len(html_tmp))]\n",
    "dates = ['None'+str(idx) if e=='' else e for idx, e in enumerate(dates)]\n",
    "html_tmp = html_Y.find('tbody').find_all('tr')"
   ]
  },
  {
   "cell_type": "code",
   "execution_count": null,
   "metadata": {},
   "outputs": [],
   "source": []
  },
  {
   "cell_type": "code",
   "execution_count": null,
   "metadata": {},
   "outputs": [],
   "source": []
  },
  {
   "cell_type": "code",
   "execution_count": null,
   "metadata": {},
   "outputs": [],
   "source": []
  },
  {
   "cell_type": "code",
   "execution_count": 40,
   "metadata": {},
   "outputs": [],
   "source": [
    "class BSCrawler:\n",
    "    def __init__(self, argv):\n",
    "        \"\"\"Naver Finance : Financial Summary Crawler\"\"\"\n",
    "        self.driver_path = \"C:/Users/Bae Kyungmo/OneDrive/Desktop/WC_basic/chromedriver.exe\"\n",
    "        self.update_date = datetime.today().strftime('%Y-%m-%d')\n",
    "        #self.update_date = '2021-01-11'\n",
    "        self.conn = pymysql.connect(host='localhost',user='root',\n",
    "                                   password='tlqkfdk2',db='INVESTAR',charset='utf8')\n",
    "        self.logger = logging.getLogger()\n",
    "        self.logger.setLevel(logging.INFO)\n",
    "        formatter = logging.Formatter('%(asctime)s - %(name)s - %(levelname)s - %(message)s')\n",
    "        stream_handler = logging.StreamHandler()\n",
    "        stream_handler.setFormatter(formatter)\n",
    "        self.logger.addHandler(stream_handler)\n",
    "        file_handler = logging.FileHandler('BSCrawling.log')\n",
    "        file_handler.setFormatter(formatter)\n",
    "        self.logger.addHandler(file_handler)\n",
    "        self.logger.info('=======================================================================')\n",
    "        self.logger.info(f'Starting BSCrawler -> date : {self.update_date}')\n",
    "        \n",
    "        with self.conn.cursor() as curs:\n",
    "            sql_load = \"\"\"\n",
    "            SELECT CODE, COMPANY FROM COMPANY_INFO\n",
    "            \"\"\"\n",
    "            curs.execute(sql_load)\n",
    "            comps_ls = curs.fetchall()\n",
    "            self.codes = [str(e[0]) for e in comps_ls]\n",
    "            self.comps = [str(e[1]) for e in comps_ls]\n",
    "            \n",
    "        self.conn.commit() # May not be needed..        \n",
    "        self.url = 'https://finance.naver.com/item/coinfo.nhn?code={}&target=finsum_more'\n",
    "        \n",
    "    def __del__(self):\n",
    "        \"\"\"Disconnecting MariaDB\"\"\"\n",
    "        self.conn.close()\n",
    "        \n",
    "    def DataExistChecker(self, df, n=3):\n",
    "        \"\"\"At least three of items should be checked.\"\"\"\n",
    "        pointer=0\n",
    "        for i in range(n):\n",
    "            for idx, col in enumerate(df.columns):\n",
    "                if df.iloc[i,idx] == 0.0 or df.iloc[i,idx] == -1.0:\n",
    "                    pointer = idx\n",
    "                    break\n",
    "        return df.columns[pointer]\n",
    "\n",
    "    def EmptyChecker(self, df, cds):\n",
    "        if df.shape[0] == 0 or df.shape[1] == 0:\n",
    "            raise ValueError(\"There is no info in this dataframe!! : {}\".format(cds))\n",
    "    \n",
    "    def DataValidation(self, values):\n",
    "        flag = False\n",
    "        cnt = 0\n",
    "        for i in range(len(values)):\n",
    "            for j in range(len(values[i])):\n",
    "                if values[i][j] != 0.0:\n",
    "                    flag = True\n",
    "                    cnt += 1\n",
    "        return flag, cnt\n",
    "    \n",
    "    def DelistingChecker(self, ndays=30):\n",
    "        dels_comps = []\n",
    "        for cd in self.codes:\n",
    "            sql = f\"SELECT DATE FROM DAILY_PRICE WHERE CODE = '{cd}';\"\n",
    "            temp_dates = list(pd.read_sql(sql, self.conn)['DATE'])\n",
    "            temp_dates = [str(dt) for dt in temp_dates]\n",
    "            temp_dates = [date(int(dt[:4]),int(dt[5:7]),int(dt[8:])) for dt in temp_dates]\n",
    "            diff_day = 0\n",
    "            for idx in range(len(temp_dates)):\n",
    "                if idx != len(temp_dates)-1:\n",
    "                    diff_day = (temp_dates[idx+1] - temp_dates[idx]).days\n",
    "                    if diff_day >= ndays :\n",
    "                        dels_comps.append((cd,temp_dates[idx],temp_dates[idx+1]))\n",
    "        return dels_comps\n",
    "    \n",
    "    def StockSplitChecker(self, pwrs=2):\n",
    "        stsplt_comps = [] # 액면 분할\n",
    "        revsplt_comps = [] # 액면 병합\n",
    "        for cd in self.codes:\n",
    "            if cd in ['013890','037030']:#self.DelistingChecker(30):\n",
    "                continue\n",
    "            sql = f\"SELECT DATE, CLOSE FROM DAILY_PRICE WHERE CODE = '{cd}';\"\n",
    "            tmp_df = pd.read_sql(sql,self.conn)\n",
    "            tmp_df.index = list(tmp_df['DATE'])\n",
    "            tmp_df.drop(['DATE'], axis=1, inplace=True)\n",
    "            tmp_df.sort_index(inplace=True)\n",
    "            tmp_prices = list(tmp_df['CLOSE'])\n",
    "            for idx in range(len(tmp_prices)):\n",
    "                if idx != len(tmp_prices)-1:\n",
    "                    if tmp_prices[idx+1] >= tmp_prices[idx]*pwrs :\n",
    "                        revsplt_comps.append((cd,tmp_df.index[idx],tmp_prices[idx],tmp_df.index[idx+1],tmp_prices[idx+1]))\n",
    "                    elif tmp_prices[idx+1] <= float(tmp_prices[idx]) / pwrs :\n",
    "                        stsplt_comps.append((cd,tmp_df.index[idx],tmp_prices[idx],tmp_df.index[idx+1],tmp_prices[idx+1]))\n",
    "        return stsplt_comps, revsplt_comps\n",
    "            \n",
    "            \n",
    "    def UpdateDataInfo(self, unit='Annual'):\n",
    "        # unit : Annual / Quarter\n",
    "        try:\n",
    "            with open('./updateinfo_{}.pickle'.format(unit),'rb') as fr:\n",
    "                self.updateinfo = pickle.load(fr)\n",
    "        except:\n",
    "                self.updateinfo = {} \n",
    "        self.logger.info(f'Updating data existence and its corresponding update info. -> date : {self.update_date}')\n",
    "        nocoinfo=[]\n",
    "        yescoinfo=[]\n",
    "        sub_dict={}\n",
    "        for cd in self.codes :\n",
    "            try :\n",
    "                if os.path.isfile(glob.glob('./FullCache/{}/*{}*'.format(unit,cd))[0]):\n",
    "                    yescoinfo.append(cd)\n",
    "                else :\n",
    "                    nocoinfo.append(cd)\n",
    "            except :\n",
    "                nocoinfo.append(cd)\n",
    "        \"\"\" N : No CoInfo / Y : Yes CoInfo / U : Update Notice\"\"\"\n",
    "        sub_dict['N'] = nocoinfo\n",
    "        sub_dict['Y'] = yescoinfo\n",
    "        new_info = []\n",
    "        if len(self.updateinfo.keys()) == 0 :\n",
    "            sub_dict['U'] = new_info\n",
    "        else :\n",
    "            prev_date = sorted(list(self.updateinfo.keys()))[-1]\n",
    "            prev_Y = self.updateinfo[prev_date]['Y']\n",
    "            prev_N = self.updateinfo[prev_date]['N']\n",
    "            diff_Y = list(set(prev_Y) - set(yescoinfo))\n",
    "            self.logger.info('diff_Y list : {}'.format(diff_Y))\n",
    "            if len(diff_Y) != 0 :\n",
    "                diff_Y = ['-'+e for e in diff_Y]\n",
    "            diff_N = list(set(prev_N) - set(nocoinfo))\n",
    "            self.logger.info('diff_N list : {}'.format(diff_Y))\n",
    "            if len(diff_N) != 0 :\n",
    "                for e in diff_N:\n",
    "                    if e in yescoinfo :\n",
    "                        new_info.append('+'+e)\n",
    "            new_info = diff_Y + new_info\n",
    "        sub_dict['U'] = new_info\n",
    "        self.updateinfo[self.update_date] = sub_dict\n",
    "        with open('./updateinfo_{}.pickle'.format(unit),'wb') as fw:\n",
    "            pickle.dump(self.updateinfo, fw) \n",
    "        self.logger.info('Updating UpdateInfo Dictionary is done.')\n",
    "        \n",
    "    def TimeInverter(self, dt, hyphen=False):\n",
    "        Y = str(dt.year)\n",
    "        M = '0'+str(dt.month) if int(dt.month)<10 else str(dt.month)\n",
    "        D = '0'+str(dt.day) if int(dt.day)<10 else str(dt.day)\n",
    "        if hyphen :\n",
    "            return Y+'-'+M+'-'+D\n",
    "        else :\n",
    "            return Y+M+D\n",
    "    \n",
    "    def AdjPriceMerge(self):\n",
    "        self.logger.info('Merging AdjPrice from krx with my DB.')\n",
    "        errors=[]\n",
    "        cursor = self.conn.cursor()\n",
    "        cursor.execute(\"SELECT DISTINCT CODE FROM daily_price WHERE adjprice IS NULL\")\n",
    "        nulls = cursor.fetchall()\n",
    "        nulls = [x[0] for x in nulls]\n",
    "        for cd in nulls : #self.codes :\n",
    "            try :\n",
    "                \"\"\"\n",
    "                try_sql = f\"select count(*) from daily_price where code='{cd}' and adjprice>0\"\n",
    "                if cursor.execute(try_sql) == 0 :\n",
    "                    pass\n",
    "                else :\n",
    "                    if cursor.execute(f\"select count(*) from daily_price where code='{cd}' and adjprice>0\") < cursor.execute(f\"select count(*) from daily_price where code='{cd}'\"):\n",
    "                        pass\n",
    "                    else :\n",
    "                        continue\n",
    "                \"\"\"\n",
    "                sql = f\"select min(date), max(date) from daily_price where code='{cd}'\"\n",
    "                cursor.execute(sql)\n",
    "                rst = cursor.fetchone()\n",
    "                min_date, max_date = rst[0], rst[1]\n",
    "                try :\n",
    "                    min_date = self.TimeInverter(min_date)\n",
    "                    max_date = self.TimeInverter(max_date)\n",
    "                except :\n",
    "                    raise ValueError(\"timeinverting failed\")\n",
    "                tmp_df = stock.get_market_ohlcv_by_date(min_date, max_date, cd, adjusted=True)\n",
    "                adj_values = tmp_df['종가'].values\n",
    "                dt_values = tmp_df.index\n",
    "                dt_values = [self.TimeInverter(dt, hyphen=True) for dt in dt_values]\n",
    "                for idx, adjp in enumerate(adj_values):\n",
    "                    try :\n",
    "                        if cursor.execute(f\"select * from daily_price where adjprice>0 and code='{cd}' and date='{dt_values[idx]}'\") == 0 :\n",
    "                            update_sql = f\"update daily_price set adjprice = {int(adjp)} where code = '{cd}' and date = '{dt_values[idx]}'\"\n",
    "                            cursor.execute(update_sql)\n",
    "                        else :\n",
    "                            continue\n",
    "                    except :\n",
    "                        self.logger.error('Merging is failed. : {}'.format((cd, dt_values[idx], int(adjp))))\n",
    "                        errors.append((cd,dt_values[idx],int(adjp)))\n",
    "                        raise ValueError(\"Exception is occured by merging adjprice error. Check the log.\")\n",
    "                self.conn.commit()\n",
    "            except :\n",
    "                errors.append(cd+'T-error')\n",
    "        \"\"\" Genuine None Values -> null to -999 value insertion. \"\"\"\n",
    "        cursor.execute(\"SELECT DISTINCT CODE FROM daily_price WHERE adjprice IS NULL\")\n",
    "        nulls = cursor.fetchall()\n",
    "        nulls = [x[0] for x in nulls]\n",
    "        for cd in nulls :\n",
    "            cursor.execute(f\"update daily_price set adjprice=-999 where code='{cd}' and adjprice is null\")\n",
    "        self.conn.commit()\n",
    "        self.logger.info(\"Merging Adjprice is well done.\")\n",
    "        return errors\n",
    "    \n",
    "    def Crawler(self):\n",
    "        browser = Chrome(self.driver_path)\n",
    "        wrongthing=[]\n",
    "        for idx, cds in enumerate(self.codes):\n",
    "            try: \n",
    "                if os.path.isfile(glob.glob('./FullCache/Annual/*{}*'.format(cds))[0]):\n",
    "                    continue\n",
    "            except :\n",
    "                pass\n",
    "            print(\"Crawling *Annual* Financial Summary of *{}*...\".format(self.comps[idx]+'-'+cds))\n",
    "            url = self.url.format(cds)\n",
    "            requests.get(url).raise_for_status()\n",
    "            browser.get(url)\n",
    "            time.sleep(1)\n",
    "            try :\n",
    "                browser.switch_to.frame(browser.find_element_by_id('coinfo_cp'))\n",
    "                WebDriverWait(browser, 2).until(EC.element_to_be_clickable((By.XPATH,'//*[@id=\"cns_Tab21\"]')))\n",
    "            except :\n",
    "                self.logger.error(f'There is no *coinfo_cp* about this company -> {self.comps[idx]+\"-\"+cds}')\n",
    "                continue\n",
    "            browser.find_elements_by_xpath('//*[@id=\"cns_Tab21\"]')[0].click()\n",
    "            html = BeautifulSoup(browser.page_source, 'html.parser')\n",
    "            html_Y = html.find('table',{'class':'gHead01 all-width','summary':'주요재무정보를 제공합니다.'})\n",
    "            \n",
    "            if html_Y.find('thead').find_all('tr')[0].find('th',attrs={'class':'bg r01c02 endLine line-bottom'}).text != '연간':\n",
    "                wrongthing.append(str(cds)+'Y')\n",
    "                print(\"WRONG!!!!!! YYYY\")\n",
    "            \n",
    "            html_tmp = html_Y.find('thead').find_all('tr')[1].find_all('th',attrs={\"class\":re.compile(\"^r03c\")})\n",
    "            dates = [''.join(re.findall('[0-9/]',html_tmp[i].text)).replace('/','-') for i in range(len(html_tmp))]\n",
    "            dates = ['None'+str(idx) if e=='' else e for idx, e in enumerate(dates)]\n",
    "            html_tmp = html_Y.find('tbody').find_all('tr')\n",
    "            cols = []\n",
    "            for i in range(len(html_tmp)):\n",
    "                if '\\xa0' in html_tmp[i].find('th').text:\n",
    "                    item = re.sub('\\xa0','',html_tmp[i].find('th').text)\n",
    "                else:\n",
    "                    item = html_tmp[i].find('th').text\n",
    "                cols.append(item)\n",
    "            values = []\n",
    "            for i in range(len(html_tmp)):\n",
    "                tmp = html_tmp[i].find_all('td')\n",
    "                value_tmp = []\n",
    "                for j in range(len(tmp)):\n",
    "                    try :\n",
    "                        if tmp[j].text == '':\n",
    "                            value_tmp.append(-999.9)\n",
    "                        else:\n",
    "                            value_tmp.append(float(tmp[j].text.replace(',','')))\n",
    "                    except :\n",
    "                        value_tmp.append(-999.9)\n",
    "\n",
    "                values.append(value_tmp)\n",
    "            flag, valid_nb = self.DataValidation(values)\n",
    "            if flag and valid_nb >= 10 :\n",
    "                pass\n",
    "            else :\n",
    "                self.logger.error(f'Not enough *coinfo_cp* about this company -> {self.comps[idx]+\"-\"+cds}')\n",
    "                continue\n",
    "            df = pd.DataFrame(data=values, columns=dates, index=cols)\n",
    "            self.EmptyChecker(df, cds)\n",
    "            #last_info_date = self.DataExistChecker(df)\n",
    "            df.to_hdf(f'./FullCache/Annual/fs_annual_{cds}_{self.update_date}.h5',key=cds,mode='w')\n",
    "            \n",
    "            \n",
    "            print(\"Crawling *Quarter* Financial Summary of *{}*...\".format(self.comps[idx]+'-'+cds))\n",
    "            time.sleep(1)\n",
    "            WebDriverWait(browser, 1).until(EC.element_to_be_clickable((By.XPATH,'//*[@id=\"cns_Tab22\"]')))\n",
    "            browser.find_elements_by_xpath('//*[@id=\"cns_Tab22\"]')[0].click()\n",
    "            qhtml = BeautifulSoup(browser.page_source, 'html.parser')\n",
    "            qhtml_Q = qhtml.find('table',{'class':'gHead01 all-width','summary':'주요재무정보를 제공합니다.'}) \n",
    "            \n",
    "            if qhtml_Q.find('thead').find_all('tr')[0].find('th',attrs={'class':'bg r01c02 endLine line-bottom'}).text != '분기':\n",
    "                wrongthing.append(str(cds)+'Q')\n",
    "                print(\"WRONG!!!!!! QQQQ\")\n",
    "            \n",
    "            html_tmp = qhtml_Q.find('thead').find_all('tr')[1].find_all('th',attrs={\"class\":re.compile(\"^r03c\")})\n",
    "            dates = [''.join(re.findall('[0-9/]',html_tmp[i].text)).replace('/','-') for i in range(len(html_tmp))]\n",
    "            dates = ['None'+str(idx) if e=='' else e for idx, e in enumerate(dates)]\n",
    "            html_tmp = qhtml_Q.find('tbody').find_all('tr')\n",
    "            cols = []\n",
    "            for i in range(len(html_tmp)):\n",
    "                if '\\xa0' in html_tmp[i].find('th').text:\n",
    "                    item = re.sub('\\xa0','',html_tmp[i].find('th').text)\n",
    "                else:\n",
    "                    item = html_tmp[i].find('th').text\n",
    "                cols.append(item)\n",
    "            values = []\n",
    "            for i in range(len(html_tmp)):\n",
    "                tmp = html_tmp[i].find_all('td')\n",
    "                value_tmp = []\n",
    "                for j in range(len(tmp)):\n",
    "                    try :\n",
    "                        if tmp[j].text == '':\n",
    "                            value_tmp.append(-999.9)\n",
    "                        else:\n",
    "                            value_tmp.append(float(tmp[j].text.replace(',','')))\n",
    "                    except :\n",
    "                        value_tmp.append(-999.9)\n",
    "\n",
    "                values.append(value_tmp)\n",
    "            flag, valid_nb = self.DataValidation(values)\n",
    "            if flag and valid_nb >= 10 :\n",
    "                pass\n",
    "            else :\n",
    "                self.logger.error(f'Not enough *coinfo_cp* about this company -> {self.comps[idx]+\"-\"+cds}')\n",
    "                continue\n",
    "            qdf = pd.DataFrame(data=values, columns=dates, index=cols)\n",
    "            self.EmptyChecker(qdf, cds)\n",
    "            #last_info_date = self.DataExistChecker(df)\n",
    "            qdf.to_hdf(f'./FullCache/Quarter/fs_quarter_{cds}_{self.update_date}.h5',key=cds,mode='w')\n",
    "        \n",
    "        self.logger.info(f'Cache generation is well done. : {self.update_date}')\n",
    "        self.logger.info('=======================================================================')        \n",
    "        return wrongthing#\"Cache generation is well done.\""
   ]
  },
  {
   "cell_type": "code",
   "execution_count": 41,
   "metadata": {},
   "outputs": [
    {
     "name": "stderr",
     "output_type": "stream",
     "text": [
      "2021-01-13 10:37:44,969 - root - INFO - =======================================================================\n",
      "2021-01-13 10:37:44,969 - root - INFO - =======================================================================\n",
      "2021-01-13 10:37:44,969 - root - INFO - =======================================================================\n",
      "2021-01-13 10:37:44,969 - root - INFO - =======================================================================\n",
      "2021-01-13 10:37:44,969 - root - INFO - =======================================================================\n",
      "2021-01-13 10:37:44,969 - root - INFO - =======================================================================\n",
      "2021-01-13 10:37:44,978 - root - INFO - Starting BSCrawler -> date : 2021-01-13\n",
      "2021-01-13 10:37:44,978 - root - INFO - Starting BSCrawler -> date : 2021-01-13\n",
      "2021-01-13 10:37:44,978 - root - INFO - Starting BSCrawler -> date : 2021-01-13\n",
      "2021-01-13 10:37:44,978 - root - INFO - Starting BSCrawler -> date : 2021-01-13\n",
      "2021-01-13 10:37:44,978 - root - INFO - Starting BSCrawler -> date : 2021-01-13\n",
      "2021-01-13 10:37:44,978 - root - INFO - Starting BSCrawler -> date : 2021-01-13\n"
     ]
    }
   ],
   "source": [
    "bb = BSCrawler('full')"
   ]
  },
  {
   "cell_type": "code",
   "execution_count": 42,
   "metadata": {},
   "outputs": [
    {
     "name": "stderr",
     "output_type": "stream",
     "text": [
      "2021-01-13 10:37:45,382 - root - INFO - Merging AdjPrice from krx with my DB.\n",
      "2021-01-13 10:37:45,382 - root - INFO - Merging AdjPrice from krx with my DB.\n",
      "2021-01-13 10:37:45,382 - root - INFO - Merging AdjPrice from krx with my DB.\n",
      "2021-01-13 10:37:45,382 - root - INFO - Merging AdjPrice from krx with my DB.\n",
      "2021-01-13 10:37:45,382 - root - INFO - Merging AdjPrice from krx with my DB.\n",
      "2021-01-13 10:37:45,382 - root - INFO - Merging AdjPrice from krx with my DB.\n",
      "2021-01-13 10:39:48,028 - root - INFO - Merging Adjprice is well done.\n",
      "2021-01-13 10:39:48,028 - root - INFO - Merging Adjprice is well done.\n",
      "2021-01-13 10:39:48,028 - root - INFO - Merging Adjprice is well done.\n",
      "2021-01-13 10:39:48,028 - root - INFO - Merging Adjprice is well done.\n",
      "2021-01-13 10:39:48,028 - root - INFO - Merging Adjprice is well done.\n",
      "2021-01-13 10:39:48,028 - root - INFO - Merging Adjprice is well done.\n"
     ]
    },
    {
     "name": "stdout",
     "output_type": "stream",
     "text": [
      "Wall time: 2min 2s\n"
     ]
    }
   ],
   "source": [
    "%%time\n",
    "errs, terrs = bb.AdjPriceMerge()"
   ]
  },
  {
   "cell_type": "code",
   "execution_count": 81,
   "metadata": {},
   "outputs": [],
   "source": [
    "tmp_df = stock.get_market_ohlcv_by_date('20040317', '20180829', '037030', adjusted=True)"
   ]
  },
  {
   "cell_type": "markdown",
   "metadata": {},
   "source": [
    "실패한것들만 모아서 따로 해줘야겠는데.."
   ]
  },
  {
   "cell_type": "markdown",
   "metadata": {},
   "source": [
    "아예없는것들은 어쩔수 없고"
   ]
  },
  {
   "cell_type": "markdown",
   "metadata": {},
   "source": [
    "근데 왜 실패하지?"
   ]
  },
  {
   "cell_type": "markdown",
   "metadata": {},
   "source": [
    "** 이미 update되어 있는 거는 제외하는 sql 문..."
   ]
  },
  {
   "cell_type": "markdown",
   "metadata": {},
   "source": [
    "REF\n",
    "* https://todo-wr-sth.tistory.com/10?category=903874 : 주가수익률은 정규분포를 따르나?\n",
    "\n",
    "* https://byor.tistory.com/13?category=779188 : ETF PCA 테스트\n",
    "\n",
    "<수정종가 크롤링>\n",
    "\n",
    "* http://henryquant.blogspot.com/2018/11/r.html\n",
    "\n",
    "* https://blog.naver.com/PostView.nhn?blogId=myisiq999&logNo=221850414486\n",
    "\n",
    "* "
   ]
  },
  {
   "cell_type": "code",
   "execution_count": null,
   "metadata": {},
   "outputs": [],
   "source": []
  },
  {
   "cell_type": "markdown",
   "metadata": {},
   "source": [
    "---"
   ]
  },
  {
   "cell_type": "markdown",
   "metadata": {},
   "source": [
    "### Failed List Complement"
   ]
  },
  {
   "cell_type": "code",
   "execution_count": 114,
   "metadata": {},
   "outputs": [],
   "source": [
    "with open('./failedlist.pickle','rb') as fr:\n",
    "    fls = pickle.load(fr)"
   ]
  },
  {
   "cell_type": "code",
   "execution_count": 116,
   "metadata": {},
   "outputs": [],
   "source": [
    "y_fls=[]\n",
    "q_fls=[]\n",
    "for e in fls:\n",
    "    if e[-1] == 'Y':\n",
    "        y_fls.append(e[:-1])\n",
    "    else :\n",
    "        q_fls.append(e[:-1])"
   ]
  },
  {
   "cell_type": "code",
   "execution_count": 117,
   "metadata": {},
   "outputs": [
    {
     "data": {
      "text/plain": [
       "(464, 25)"
      ]
     },
     "execution_count": 117,
     "metadata": {},
     "output_type": "execute_result"
    }
   ],
   "source": [
    "len(y_fls),len(q_fls)"
   ]
  },
  {
   "cell_type": "code",
   "execution_count": 123,
   "metadata": {},
   "outputs": [
    {
     "data": {
      "text/plain": [
       "'001270'"
      ]
     },
     "execution_count": 123,
     "metadata": {},
     "output_type": "execute_result"
    }
   ],
   "source": [
    "y_fls[0]"
   ]
  },
  {
   "cell_type": "code",
   "execution_count": 124,
   "metadata": {},
   "outputs": [],
   "source": [
    "w1 = pd.read_hdf(\"./FullCache/Annual/fs_annual_001270_2021-01-12.h5\")\n",
    "w2 = pd.read_hdf(\"./FullCache/Quarter/fs_quarter_001270_2021-01-12.h5\")"
   ]
  },
  {
   "cell_type": "code",
   "execution_count": 125,
   "metadata": {
    "collapsed": true,
    "jupyter": {
     "outputs_hidden": true
    }
   },
   "outputs": [
    {
     "data": {
      "text/html": [
       "<div>\n",
       "<style scoped>\n",
       "    .dataframe tbody tr th:only-of-type {\n",
       "        vertical-align: middle;\n",
       "    }\n",
       "\n",
       "    .dataframe tbody tr th {\n",
       "        vertical-align: top;\n",
       "    }\n",
       "\n",
       "    .dataframe thead th {\n",
       "        text-align: right;\n",
       "    }\n",
       "</style>\n",
       "<table border=\"1\" class=\"dataframe\">\n",
       "  <thead>\n",
       "    <tr style=\"text-align: right;\">\n",
       "      <th></th>\n",
       "      <th>2019-09</th>\n",
       "      <th>2019-12</th>\n",
       "      <th>2020-03</th>\n",
       "      <th>2020-06</th>\n",
       "      <th>2020-09</th>\n",
       "      <th>2020-12</th>\n",
       "      <th>2021-03</th>\n",
       "      <th>2021-06</th>\n",
       "    </tr>\n",
       "  </thead>\n",
       "  <tbody>\n",
       "    <tr>\n",
       "      <th>매출액</th>\n",
       "      <td>2026.00</td>\n",
       "      <td>1387.00</td>\n",
       "      <td>3141.00</td>\n",
       "      <td>1808.00</td>\n",
       "      <td>1921.00</td>\n",
       "      <td>-999.9</td>\n",
       "      <td>-999.9</td>\n",
       "      <td>-999.9</td>\n",
       "    </tr>\n",
       "    <tr>\n",
       "      <th>영업이익</th>\n",
       "      <td>83.00</td>\n",
       "      <td>60.00</td>\n",
       "      <td>155.00</td>\n",
       "      <td>197.00</td>\n",
       "      <td>235.00</td>\n",
       "      <td>-999.9</td>\n",
       "      <td>-999.9</td>\n",
       "      <td>-999.9</td>\n",
       "    </tr>\n",
       "    <tr>\n",
       "      <th>영업이익(발표기준)</th>\n",
       "      <td>83.00</td>\n",
       "      <td>60.00</td>\n",
       "      <td>155.00</td>\n",
       "      <td>197.00</td>\n",
       "      <td>235.00</td>\n",
       "      <td>-999.9</td>\n",
       "      <td>-999.9</td>\n",
       "      <td>-999.9</td>\n",
       "    </tr>\n",
       "    <tr>\n",
       "      <th>세전계속사업이익</th>\n",
       "      <td>87.00</td>\n",
       "      <td>62.00</td>\n",
       "      <td>150.00</td>\n",
       "      <td>211.00</td>\n",
       "      <td>254.00</td>\n",
       "      <td>-999.9</td>\n",
       "      <td>-999.9</td>\n",
       "      <td>-999.9</td>\n",
       "    </tr>\n",
       "    <tr>\n",
       "      <th>당기순이익</th>\n",
       "      <td>58.00</td>\n",
       "      <td>43.00</td>\n",
       "      <td>110.00</td>\n",
       "      <td>160.00</td>\n",
       "      <td>191.00</td>\n",
       "      <td>-999.9</td>\n",
       "      <td>-999.9</td>\n",
       "      <td>-999.9</td>\n",
       "    </tr>\n",
       "    <tr>\n",
       "      <th>당기순이익(지배)</th>\n",
       "      <td>60.00</td>\n",
       "      <td>42.00</td>\n",
       "      <td>112.00</td>\n",
       "      <td>157.00</td>\n",
       "      <td>189.00</td>\n",
       "      <td>-999.9</td>\n",
       "      <td>-999.9</td>\n",
       "      <td>-999.9</td>\n",
       "    </tr>\n",
       "    <tr>\n",
       "      <th>당기순이익(비지배)</th>\n",
       "      <td>-2.00</td>\n",
       "      <td>1.00</td>\n",
       "      <td>-2.00</td>\n",
       "      <td>3.00</td>\n",
       "      <td>2.00</td>\n",
       "      <td>-999.9</td>\n",
       "      <td>-999.9</td>\n",
       "      <td>-999.9</td>\n",
       "    </tr>\n",
       "    <tr>\n",
       "      <th>자산총계</th>\n",
       "      <td>44058.00</td>\n",
       "      <td>14813.00</td>\n",
       "      <td>43152.00</td>\n",
       "      <td>53094.00</td>\n",
       "      <td>45501.00</td>\n",
       "      <td>-999.9</td>\n",
       "      <td>-999.9</td>\n",
       "      <td>-999.9</td>\n",
       "    </tr>\n",
       "    <tr>\n",
       "      <th>부채총계</th>\n",
       "      <td>39216.00</td>\n",
       "      <td>9953.00</td>\n",
       "      <td>38363.00</td>\n",
       "      <td>47997.00</td>\n",
       "      <td>40155.00</td>\n",
       "      <td>-999.9</td>\n",
       "      <td>-999.9</td>\n",
       "      <td>-999.9</td>\n",
       "    </tr>\n",
       "    <tr>\n",
       "      <th>자본총계</th>\n",
       "      <td>4842.00</td>\n",
       "      <td>4860.00</td>\n",
       "      <td>4790.00</td>\n",
       "      <td>5097.00</td>\n",
       "      <td>5346.00</td>\n",
       "      <td>-999.9</td>\n",
       "      <td>-999.9</td>\n",
       "      <td>-999.9</td>\n",
       "    </tr>\n",
       "    <tr>\n",
       "      <th>자본총계(지배)</th>\n",
       "      <td>4834.00</td>\n",
       "      <td>4853.00</td>\n",
       "      <td>4772.00</td>\n",
       "      <td>5078.00</td>\n",
       "      <td>5324.00</td>\n",
       "      <td>-999.9</td>\n",
       "      <td>-999.9</td>\n",
       "      <td>-999.9</td>\n",
       "    </tr>\n",
       "    <tr>\n",
       "      <th>자본총계(비지배)</th>\n",
       "      <td>-999.90</td>\n",
       "      <td>-999.90</td>\n",
       "      <td>18.00</td>\n",
       "      <td>19.00</td>\n",
       "      <td>22.00</td>\n",
       "      <td>-999.9</td>\n",
       "      <td>-999.9</td>\n",
       "      <td>-999.9</td>\n",
       "    </tr>\n",
       "    <tr>\n",
       "      <th>자본금</th>\n",
       "      <td>668.00</td>\n",
       "      <td>668.00</td>\n",
       "      <td>668.00</td>\n",
       "      <td>668.00</td>\n",
       "      <td>668.00</td>\n",
       "      <td>-999.9</td>\n",
       "      <td>-999.9</td>\n",
       "      <td>-999.9</td>\n",
       "    </tr>\n",
       "    <tr>\n",
       "      <th>영업활동현금흐름</th>\n",
       "      <td>4913.00</td>\n",
       "      <td>11131.00</td>\n",
       "      <td>-12488.00</td>\n",
       "      <td>-1357.00</td>\n",
       "      <td>-2377.00</td>\n",
       "      <td>-999.9</td>\n",
       "      <td>-999.9</td>\n",
       "      <td>-999.9</td>\n",
       "    </tr>\n",
       "    <tr>\n",
       "      <th>투자활동현금흐름</th>\n",
       "      <td>-24.00</td>\n",
       "      <td>-5.00</td>\n",
       "      <td>52.00</td>\n",
       "      <td>-4.00</td>\n",
       "      <td>-4.00</td>\n",
       "      <td>-999.9</td>\n",
       "      <td>-999.9</td>\n",
       "      <td>-999.9</td>\n",
       "    </tr>\n",
       "    <tr>\n",
       "      <th>재무활동현금흐름</th>\n",
       "      <td>-5131.00</td>\n",
       "      <td>-16287.00</td>\n",
       "      <td>16383.00</td>\n",
       "      <td>1637.00</td>\n",
       "      <td>2180.00</td>\n",
       "      <td>-999.9</td>\n",
       "      <td>-999.9</td>\n",
       "      <td>-999.9</td>\n",
       "    </tr>\n",
       "    <tr>\n",
       "      <th>CAPEX</th>\n",
       "      <td>2.00</td>\n",
       "      <td>3.00</td>\n",
       "      <td>4.00</td>\n",
       "      <td>2.00</td>\n",
       "      <td>0.00</td>\n",
       "      <td>-999.9</td>\n",
       "      <td>-999.9</td>\n",
       "      <td>-999.9</td>\n",
       "    </tr>\n",
       "    <tr>\n",
       "      <th>FCF</th>\n",
       "      <td>-999.90</td>\n",
       "      <td>-999.90</td>\n",
       "      <td>-999.90</td>\n",
       "      <td>-999.90</td>\n",
       "      <td>-999.90</td>\n",
       "      <td>-999.9</td>\n",
       "      <td>-999.9</td>\n",
       "      <td>-999.9</td>\n",
       "    </tr>\n",
       "    <tr>\n",
       "      <th>이자발생부채</th>\n",
       "      <td>7832.00</td>\n",
       "      <td>2599.00</td>\n",
       "      <td>5806.00</td>\n",
       "      <td>4918.00</td>\n",
       "      <td>5770.00</td>\n",
       "      <td>-999.9</td>\n",
       "      <td>-999.9</td>\n",
       "      <td>-999.9</td>\n",
       "    </tr>\n",
       "    <tr>\n",
       "      <th>영업이익률</th>\n",
       "      <td>4.08</td>\n",
       "      <td>4.31</td>\n",
       "      <td>4.94</td>\n",
       "      <td>10.87</td>\n",
       "      <td>12.21</td>\n",
       "      <td>-999.9</td>\n",
       "      <td>-999.9</td>\n",
       "      <td>-999.9</td>\n",
       "    </tr>\n",
       "    <tr>\n",
       "      <th>순이익률</th>\n",
       "      <td>2.88</td>\n",
       "      <td>3.09</td>\n",
       "      <td>3.51</td>\n",
       "      <td>8.82</td>\n",
       "      <td>9.93</td>\n",
       "      <td>-999.9</td>\n",
       "      <td>-999.9</td>\n",
       "      <td>-999.9</td>\n",
       "    </tr>\n",
       "    <tr>\n",
       "      <th>ROE(%)</th>\n",
       "      <td>5.14</td>\n",
       "      <td>5.80</td>\n",
       "      <td>6.38</td>\n",
       "      <td>7.50</td>\n",
       "      <td>9.85</td>\n",
       "      <td>-999.9</td>\n",
       "      <td>-999.9</td>\n",
       "      <td>-999.9</td>\n",
       "    </tr>\n",
       "    <tr>\n",
       "      <th>ROA(%)</th>\n",
       "      <td>0.55</td>\n",
       "      <td>1.88</td>\n",
       "      <td>0.68</td>\n",
       "      <td>0.72</td>\n",
       "      <td>1.12</td>\n",
       "      <td>-999.9</td>\n",
       "      <td>-999.9</td>\n",
       "      <td>-999.9</td>\n",
       "    </tr>\n",
       "    <tr>\n",
       "      <th>부채비율</th>\n",
       "      <td>809.91</td>\n",
       "      <td>204.80</td>\n",
       "      <td>800.93</td>\n",
       "      <td>941.69</td>\n",
       "      <td>751.13</td>\n",
       "      <td>-999.9</td>\n",
       "      <td>-999.9</td>\n",
       "      <td>-999.9</td>\n",
       "    </tr>\n",
       "    <tr>\n",
       "      <th>자본유보율</th>\n",
       "      <td>711.82</td>\n",
       "      <td>714.47</td>\n",
       "      <td>703.99</td>\n",
       "      <td>749.95</td>\n",
       "      <td>787.20</td>\n",
       "      <td>-999.9</td>\n",
       "      <td>-999.9</td>\n",
       "      <td>-999.9</td>\n",
       "    </tr>\n",
       "    <tr>\n",
       "      <th>EPS(원)</th>\n",
       "      <td>450.00</td>\n",
       "      <td>315.00</td>\n",
       "      <td>841.00</td>\n",
       "      <td>1174.00</td>\n",
       "      <td>1411.00</td>\n",
       "      <td>-999.9</td>\n",
       "      <td>-999.9</td>\n",
       "      <td>-999.9</td>\n",
       "    </tr>\n",
       "    <tr>\n",
       "      <th>PER(배)</th>\n",
       "      <td>11.09</td>\n",
       "      <td>10.14</td>\n",
       "      <td>7.20</td>\n",
       "      <td>6.62</td>\n",
       "      <td>5.45</td>\n",
       "      <td>-999.9</td>\n",
       "      <td>-999.9</td>\n",
       "      <td>-999.9</td>\n",
       "    </tr>\n",
       "    <tr>\n",
       "      <th>BPS(원)</th>\n",
       "      <td>54302.00</td>\n",
       "      <td>54507.00</td>\n",
       "      <td>53600.00</td>\n",
       "      <td>57033.00</td>\n",
       "      <td>59797.00</td>\n",
       "      <td>-999.9</td>\n",
       "      <td>-999.9</td>\n",
       "      <td>-999.9</td>\n",
       "    </tr>\n",
       "    <tr>\n",
       "      <th>PBR(배)</th>\n",
       "      <td>0.37</td>\n",
       "      <td>0.38</td>\n",
       "      <td>0.30</td>\n",
       "      <td>0.32</td>\n",
       "      <td>0.34</td>\n",
       "      <td>-999.9</td>\n",
       "      <td>-999.9</td>\n",
       "      <td>-999.9</td>\n",
       "    </tr>\n",
       "    <tr>\n",
       "      <th>현금DPS(원)</th>\n",
       "      <td>0.00</td>\n",
       "      <td>1200.00</td>\n",
       "      <td>-999.90</td>\n",
       "      <td>-999.90</td>\n",
       "      <td>-999.90</td>\n",
       "      <td>-999.9</td>\n",
       "      <td>-999.9</td>\n",
       "      <td>-999.9</td>\n",
       "    </tr>\n",
       "    <tr>\n",
       "      <th>현금배당수익률</th>\n",
       "      <td>-999.90</td>\n",
       "      <td>-999.90</td>\n",
       "      <td>-999.90</td>\n",
       "      <td>-999.90</td>\n",
       "      <td>-999.90</td>\n",
       "      <td>-999.9</td>\n",
       "      <td>-999.9</td>\n",
       "      <td>-999.9</td>\n",
       "    </tr>\n",
       "    <tr>\n",
       "      <th>현금배당성향(%)</th>\n",
       "      <td>0.00</td>\n",
       "      <td>257.22</td>\n",
       "      <td>0.00</td>\n",
       "      <td>0.00</td>\n",
       "      <td>0.00</td>\n",
       "      <td>-999.9</td>\n",
       "      <td>-999.9</td>\n",
       "      <td>-999.9</td>\n",
       "    </tr>\n",
       "    <tr>\n",
       "      <th>발행주식수(보통주)</th>\n",
       "      <td>10369886.00</td>\n",
       "      <td>10369886.00</td>\n",
       "      <td>10369886.00</td>\n",
       "      <td>10369886.00</td>\n",
       "      <td>10369886.00</td>\n",
       "      <td>-999.9</td>\n",
       "      <td>-999.9</td>\n",
       "      <td>-999.9</td>\n",
       "    </tr>\n",
       "  </tbody>\n",
       "</table>\n",
       "</div>"
      ],
      "text/plain": [
       "                2019-09      2019-12      2020-03      2020-06      2020-09  \\\n",
       "매출액             2026.00      1387.00      3141.00      1808.00      1921.00   \n",
       "영업이익              83.00        60.00       155.00       197.00       235.00   \n",
       "영업이익(발표기준)        83.00        60.00       155.00       197.00       235.00   \n",
       "세전계속사업이익          87.00        62.00       150.00       211.00       254.00   \n",
       "당기순이익             58.00        43.00       110.00       160.00       191.00   \n",
       "당기순이익(지배)         60.00        42.00       112.00       157.00       189.00   \n",
       "당기순이익(비지배)        -2.00         1.00        -2.00         3.00         2.00   \n",
       "자산총계           44058.00     14813.00     43152.00     53094.00     45501.00   \n",
       "부채총계           39216.00      9953.00     38363.00     47997.00     40155.00   \n",
       "자본총계            4842.00      4860.00      4790.00      5097.00      5346.00   \n",
       "자본총계(지배)        4834.00      4853.00      4772.00      5078.00      5324.00   \n",
       "자본총계(비지배)       -999.90      -999.90        18.00        19.00        22.00   \n",
       "자본금              668.00       668.00       668.00       668.00       668.00   \n",
       "영업활동현금흐름        4913.00     11131.00    -12488.00     -1357.00     -2377.00   \n",
       "투자활동현금흐름         -24.00        -5.00        52.00        -4.00        -4.00   \n",
       "재무활동현금흐름       -5131.00    -16287.00     16383.00      1637.00      2180.00   \n",
       "CAPEX              2.00         3.00         4.00         2.00         0.00   \n",
       "FCF             -999.90      -999.90      -999.90      -999.90      -999.90   \n",
       "이자발생부채          7832.00      2599.00      5806.00      4918.00      5770.00   \n",
       "영업이익률              4.08         4.31         4.94        10.87        12.21   \n",
       "순이익률               2.88         3.09         3.51         8.82         9.93   \n",
       "ROE(%)             5.14         5.80         6.38         7.50         9.85   \n",
       "ROA(%)             0.55         1.88         0.68         0.72         1.12   \n",
       "부채비율             809.91       204.80       800.93       941.69       751.13   \n",
       "자본유보율            711.82       714.47       703.99       749.95       787.20   \n",
       "EPS(원)           450.00       315.00       841.00      1174.00      1411.00   \n",
       "PER(배)            11.09        10.14         7.20         6.62         5.45   \n",
       "BPS(원)         54302.00     54507.00     53600.00     57033.00     59797.00   \n",
       "PBR(배)             0.37         0.38         0.30         0.32         0.34   \n",
       "현금DPS(원)           0.00      1200.00      -999.90      -999.90      -999.90   \n",
       "현금배당수익률         -999.90      -999.90      -999.90      -999.90      -999.90   \n",
       "현금배당성향(%)          0.00       257.22         0.00         0.00         0.00   \n",
       "발행주식수(보통주)  10369886.00  10369886.00  10369886.00  10369886.00  10369886.00   \n",
       "\n",
       "            2020-12  2021-03  2021-06  \n",
       "매출액          -999.9   -999.9   -999.9  \n",
       "영업이익         -999.9   -999.9   -999.9  \n",
       "영업이익(발표기준)   -999.9   -999.9   -999.9  \n",
       "세전계속사업이익     -999.9   -999.9   -999.9  \n",
       "당기순이익        -999.9   -999.9   -999.9  \n",
       "당기순이익(지배)    -999.9   -999.9   -999.9  \n",
       "당기순이익(비지배)   -999.9   -999.9   -999.9  \n",
       "자산총계         -999.9   -999.9   -999.9  \n",
       "부채총계         -999.9   -999.9   -999.9  \n",
       "자본총계         -999.9   -999.9   -999.9  \n",
       "자본총계(지배)     -999.9   -999.9   -999.9  \n",
       "자본총계(비지배)    -999.9   -999.9   -999.9  \n",
       "자본금          -999.9   -999.9   -999.9  \n",
       "영업활동현금흐름     -999.9   -999.9   -999.9  \n",
       "투자활동현금흐름     -999.9   -999.9   -999.9  \n",
       "재무활동현금흐름     -999.9   -999.9   -999.9  \n",
       "CAPEX        -999.9   -999.9   -999.9  \n",
       "FCF          -999.9   -999.9   -999.9  \n",
       "이자발생부채       -999.9   -999.9   -999.9  \n",
       "영업이익률        -999.9   -999.9   -999.9  \n",
       "순이익률         -999.9   -999.9   -999.9  \n",
       "ROE(%)       -999.9   -999.9   -999.9  \n",
       "ROA(%)       -999.9   -999.9   -999.9  \n",
       "부채비율         -999.9   -999.9   -999.9  \n",
       "자본유보율        -999.9   -999.9   -999.9  \n",
       "EPS(원)       -999.9   -999.9   -999.9  \n",
       "PER(배)       -999.9   -999.9   -999.9  \n",
       "BPS(원)       -999.9   -999.9   -999.9  \n",
       "PBR(배)       -999.9   -999.9   -999.9  \n",
       "현금DPS(원)     -999.9   -999.9   -999.9  \n",
       "현금배당수익률      -999.9   -999.9   -999.9  \n",
       "현금배당성향(%)    -999.9   -999.9   -999.9  \n",
       "발행주식수(보통주)   -999.9   -999.9   -999.9  "
      ]
     },
     "execution_count": 125,
     "metadata": {},
     "output_type": "execute_result"
    }
   ],
   "source": [
    "w1"
   ]
  },
  {
   "cell_type": "code",
   "execution_count": 133,
   "metadata": {},
   "outputs": [],
   "source": [
    "class BSCrawler:\n",
    "    def __init__(self, argv):\n",
    "        \"\"\"Naver Finance : Financial Summary Crawler\"\"\"\n",
    "        self.driver_path = \"C:/Users/Bae Kyungmo/OneDrive/Desktop/WC_basic/chromedriver.exe\"\n",
    "        self.update_date = datetime.today().strftime('%Y-%m-%d')\n",
    "        #self.update_date = '2021-01-11'\n",
    "        self.conn = pymysql.connect(host='localhost',user='root',\n",
    "                                   password='tlqkfdk2',db='INVESTAR',charset='utf8')\n",
    "        self.logger = logging.getLogger()\n",
    "        self.logger.setLevel(logging.INFO)\n",
    "        formatter = logging.Formatter('%(asctime)s - %(name)s - %(levelname)s - %(message)s')\n",
    "        stream_handler = logging.StreamHandler()\n",
    "        stream_handler.setFormatter(formatter)\n",
    "        self.logger.addHandler(stream_handler)\n",
    "        file_handler = logging.FileHandler('BSCrawling.log')\n",
    "        file_handler.setFormatter(formatter)\n",
    "        self.logger.addHandler(file_handler)\n",
    "        self.logger.info('=======================================================================')\n",
    "        self.logger.info(f'Starting BSCrawler -> date : {self.update_date}')\n",
    "        \n",
    "        with self.conn.cursor() as curs:\n",
    "            sql_load = \"\"\"\n",
    "            SELECT CODE, COMPANY FROM COMPANY_INFO\n",
    "            \"\"\"\n",
    "            curs.execute(sql_load)\n",
    "            comps_ls = curs.fetchall()\n",
    "            self.codes = [str(e[0]) for e in comps_ls]\n",
    "            self.comps = [str(e[1]) for e in comps_ls]\n",
    "            \n",
    "        self.conn.commit() # May not be needed..        \n",
    "        self.url = 'https://finance.naver.com/item/coinfo.nhn?code={}&target=finsum_more'\n",
    "        \n",
    "    def __del__(self):\n",
    "        \"\"\"Disconnecting MariaDB\"\"\"\n",
    "        self.conn.close()\n",
    "        \n",
    "    def DataExistChecker(self, df, n=3):\n",
    "        \"\"\"At least three of items should be checked.\"\"\"\n",
    "        pointer=0\n",
    "        for i in range(n):\n",
    "            for idx, col in enumerate(df.columns):\n",
    "                if df.iloc[i,idx] == 0.0 or df.iloc[i,idx] == -1.0:\n",
    "                    pointer = idx\n",
    "                    break\n",
    "        return df.columns[pointer]\n",
    "\n",
    "    def EmptyChecker(self, df, cds):\n",
    "        if df.shape[0] == 0 or df.shape[1] == 0:\n",
    "            raise ValueError(\"There is no info in this dataframe!! : {}\".format(cds))\n",
    "    \n",
    "    def DataValidation(self, values):\n",
    "        flag = False\n",
    "        cnt = 0\n",
    "        for i in range(len(values)):\n",
    "            for j in range(len(values[i])):\n",
    "                if values[i][j] != 0.0:\n",
    "                    flag = True\n",
    "                    cnt += 1\n",
    "        return flag, cnt\n",
    "    \n",
    "    def DelistingChecker(self, ndays=30):\n",
    "        dels_comps = []\n",
    "        for cd in self.codes:\n",
    "            sql = f\"SELECT DATE FROM DAILY_PRICE WHERE CODE = '{cd}';\"\n",
    "            temp_dates = list(pd.read_sql(sql, self.conn)['DATE'])\n",
    "            temp_dates = [str(dt) for dt in temp_dates]\n",
    "            temp_dates = [date(int(dt[:4]),int(dt[5:7]),int(dt[8:])) for dt in temp_dates]\n",
    "            diff_day = 0\n",
    "            for idx in range(len(temp_dates)):\n",
    "                if idx != len(temp_dates)-1:\n",
    "                    diff_day = (temp_dates[idx+1] - temp_dates[idx]).days\n",
    "                    if diff_day >= ndays :\n",
    "                        dels_comps.append((cd,temp_dates[idx],temp_dates[idx+1]))\n",
    "        return dels_comps\n",
    "    \n",
    "    def StockSplitChecker(self, pwrs=2):\n",
    "        stsplt_comps = [] # 액면 분할\n",
    "        revsplt_comps = [] # 액면 병합\n",
    "        for cd in self.codes:\n",
    "            if cd in ['013890','037030']:#self.DelistingChecker(30):\n",
    "                continue\n",
    "            sql = f\"SELECT DATE, CLOSE FROM DAILY_PRICE WHERE CODE = '{cd}';\"\n",
    "            tmp_df = pd.read_sql(sql,self.conn)\n",
    "            tmp_df.index = list(tmp_df['DATE'])\n",
    "            tmp_df.drop(['DATE'], axis=1, inplace=True)\n",
    "            tmp_df.sort_index(inplace=True)\n",
    "            tmp_prices = list(tmp_df['CLOSE'])\n",
    "            for idx in range(len(tmp_prices)):\n",
    "                if idx != len(tmp_prices)-1:\n",
    "                    if tmp_prices[idx+1] >= tmp_prices[idx]*pwrs :\n",
    "                        revsplt_comps.append((cd,tmp_df.index[idx],tmp_prices[idx],tmp_df.index[idx+1],tmp_prices[idx+1]))\n",
    "                    elif tmp_prices[idx+1] <= float(tmp_prices[idx]) / pwrs :\n",
    "                        stsplt_comps.append((cd,tmp_df.index[idx],tmp_prices[idx],tmp_df.index[idx+1],tmp_prices[idx+1]))\n",
    "        return stsplt_comps, revsplt_comps\n",
    "            \n",
    "            \n",
    "    def UpdateDataInfo(self, unit='Annual'):\n",
    "        # unit : Annual / Quarter\n",
    "        try:\n",
    "            with open('./updateinfo_{}.pickle'.format(unit),'rb') as fr:\n",
    "                self.updateinfo = pickle.load(fr)\n",
    "        except:\n",
    "                self.updateinfo = {} \n",
    "        self.logger.info(f'Updating data existence and its corresponding update info. -> date : {self.update_date}')\n",
    "        nocoinfo=[]\n",
    "        yescoinfo=[]\n",
    "        sub_dict={}\n",
    "        for cd in self.codes :\n",
    "            try :\n",
    "                if os.path.isfile(glob.glob('./FullCache/{}/*{}*'.format(unit,cd))[0]):\n",
    "                    yescoinfo.append(cd)\n",
    "                else :\n",
    "                    nocoinfo.append(cd)\n",
    "            except :\n",
    "                nocoinfo.append(cd)\n",
    "        \"\"\" N : No CoInfo / Y : Yes CoInfo / U : Update Notice\"\"\"\n",
    "        sub_dict['N'] = nocoinfo\n",
    "        sub_dict['Y'] = yescoinfo\n",
    "        new_info = []\n",
    "        if len(self.updateinfo.keys()) == 0 :\n",
    "            sub_dict['U'] = new_info\n",
    "        else :\n",
    "            prev_date = sorted(list(self.updateinfo.keys()))[-1]\n",
    "            prev_Y = self.updateinfo[prev_date]['Y']\n",
    "            prev_N = self.updateinfo[prev_date]['N']\n",
    "            diff_Y = list(set(prev_Y) - set(yescoinfo))\n",
    "            self.logger.info('diff_Y list : {}'.format(diff_Y))\n",
    "            if len(diff_Y) != 0 :\n",
    "                diff_Y = ['-'+e for e in diff_Y]\n",
    "            diff_N = list(set(prev_N) - set(nocoinfo))\n",
    "            self.logger.info('diff_N list : {}'.format(diff_Y))\n",
    "            if len(diff_N) != 0 :\n",
    "                for e in diff_N:\n",
    "                    if e in yescoinfo :\n",
    "                        new_info.append('+'+e)\n",
    "            new_info = diff_Y + new_info\n",
    "        sub_dict['U'] = new_info\n",
    "        self.updateinfo[self.update_date] = sub_dict\n",
    "        with open('./updateinfo_{}.pickle'.format(unit),'wb') as fw:\n",
    "            pickle.dump(self.updateinfo, fw) \n",
    "        self.logger.info('Updating UpdateInfo Dictionary is done.')\n",
    "        \n",
    "    def TimeInverter(self, dt, hyphen=False):\n",
    "        Y = str(dt.year)\n",
    "        M = '0'+str(dt.month) if int(dt.month)<10 else str(dt.month)\n",
    "        D = '0'+str(dt.day) if int(dt.day)<10 else str(dt.day)\n",
    "        if hyphen :\n",
    "            return Y+'-'+M+'-'+D\n",
    "        else :\n",
    "            return Y+M+D\n",
    "    \n",
    "    def AdjPriceMerge(self):\n",
    "        self.logger.info('Merging AdjPrice from krx with my DB.')\n",
    "        errors=[]\n",
    "        cursor = self.conn.cursor()\n",
    "        cursor.execute(\"SELECT DISTINCT CODE FROM daily_price WHERE adjprice IS NULL\")\n",
    "        nulls = cursor.fetchall()\n",
    "        nulls = [x[0] for x in nulls]\n",
    "        for cd in nulls : #self.codes :\n",
    "            try :\n",
    "                \"\"\"\n",
    "                try_sql = f\"select count(*) from daily_price where code='{cd}' and adjprice>0\"\n",
    "                if cursor.execute(try_sql) == 0 :\n",
    "                    pass\n",
    "                else :\n",
    "                    if cursor.execute(f\"select count(*) from daily_price where code='{cd}' and adjprice>0\") < cursor.execute(f\"select count(*) from daily_price where code='{cd}'\"):\n",
    "                        pass\n",
    "                    else :\n",
    "                        continue\n",
    "                \"\"\"\n",
    "                sql = f\"select min(date), max(date) from daily_price where code='{cd}'\"\n",
    "                cursor.execute(sql)\n",
    "                rst = cursor.fetchone()\n",
    "                min_date, max_date = rst[0], rst[1]\n",
    "                try :\n",
    "                    min_date = self.TimeInverter(min_date)\n",
    "                    max_date = self.TimeInverter(max_date)\n",
    "                except :\n",
    "                    raise ValueError(\"timeinverting failed\")\n",
    "                tmp_df = stock.get_market_ohlcv_by_date(min_date, max_date, cd, adjusted=True)\n",
    "                adj_values = tmp_df['종가'].values\n",
    "                dt_values = tmp_df.index\n",
    "                dt_values = [self.TimeInverter(dt, hyphen=True) for dt in dt_values]\n",
    "                for idx, adjp in enumerate(adj_values):\n",
    "                    try :\n",
    "                        if cursor.execute(f\"select * from daily_price where adjprice>0 and code='{cd}' and date='{dt_values[idx]}'\") == 0 :\n",
    "                            update_sql = f\"update daily_price set adjprice = {int(adjp)} where code = '{cd}' and date = '{dt_values[idx]}'\"\n",
    "                            cursor.execute(update_sql)\n",
    "                        else :\n",
    "                            continue\n",
    "                    except :\n",
    "                        self.logger.error('Merging is failed. : {}'.format((cd, dt_values[idx], int(adjp))))\n",
    "                        errors.append((cd,dt_values[idx],int(adjp)))\n",
    "                        raise ValueError(\"Exception is occured by merging adjprice error. Check the log.\")\n",
    "                self.conn.commit()\n",
    "            except :\n",
    "                errors.append(cd+'T-error')\n",
    "        \"\"\" Genuine None Values -> null to -999 value insertion. \"\"\"\n",
    "        cursor.execute(\"SELECT DISTINCT CODE FROM daily_price WHERE adjprice IS NULL\")\n",
    "        nulls = cursor.fetchall()\n",
    "        nulls = [x[0] for x in nulls]\n",
    "        for cd in nulls :\n",
    "            cursor.execute(f\"update daily_price set adjprice=-999 where code='{cd}' and adjprice is null\")\n",
    "        self.conn.commit()\n",
    "        self.logger.info(\"Merging Adjprice is well done.\")\n",
    "        return errors\n",
    "    \n",
    "    def Crawler_Partial(self, ls):\n",
    "        browser = Chrome(self.driver_path)\n",
    "        wrongthing=[]\n",
    "        for idx, cds in enumerate(ls):\n",
    "            try: \n",
    "                if os.path.isfile(glob.glob('./FullCache/Quarter/*{}*{}*'.format(cds,self.update_date))[0]):\n",
    "                    continue\n",
    "            except :\n",
    "                pass\n",
    "            #print(\"Crawling *Annual* Financial Summary of *{}*...\".format(self.comps[idx]+'-'+cds))\n",
    "            url = self.url.format(cds)\n",
    "            requests.get(url).raise_for_status()\n",
    "            browser.get(url)\n",
    "            time.sleep(1)\n",
    "            \"\"\"\n",
    "            try :\n",
    "                browser.switch_to.frame(browser.find_element_by_id('coinfo_cp'))\n",
    "                WebDriverWait(browser, 2).until(EC.element_to_be_clickable((By.XPATH,'//*[@id=\"cns_Tab21\"]')))\n",
    "            except :\n",
    "                self.logger.error(f'There is no *coinfo_cp* about this company -> {self.comps[idx]+\"-\"+cds}')\n",
    "                continue\n",
    "            browser.find_elements_by_xpath('//*[@id=\"cns_Tab21\"]')[0].click()\n",
    "            html = BeautifulSoup(browser.page_source, 'html.parser')\n",
    "            html_Y = html.find('table',{'class':'gHead01 all-width','summary':'주요재무정보를 제공합니다.'})\n",
    "            \n",
    "            if html_Y.find('thead').find_all('tr')[0].find('th',attrs={'class':'bg r01c02 endLine line-bottom'}).text != '연간':\n",
    "                wrongthing.append(str(cds)+'Y')\n",
    "                print(\"WRONG!!!!!! YYYY\")\n",
    "            \n",
    "            html_tmp = html_Y.find('thead').find_all('tr')[1].find_all('th',attrs={\"class\":re.compile(\"^r03c\")})\n",
    "            dates = [''.join(re.findall('[0-9/]',html_tmp[i].text)).replace('/','-') for i in range(len(html_tmp))]\n",
    "            dates = ['None'+str(idx) if e=='' else e for idx, e in enumerate(dates)]\n",
    "            html_tmp = html_Y.find('tbody').find_all('tr')\n",
    "            cols = []\n",
    "            for i in range(len(html_tmp)):\n",
    "                if '\\xa0' in html_tmp[i].find('th').text:\n",
    "                    item = re.sub('\\xa0','',html_tmp[i].find('th').text)\n",
    "                else:\n",
    "                    item = html_tmp[i].find('th').text\n",
    "                cols.append(item)\n",
    "            values = []\n",
    "            for i in range(len(html_tmp)):\n",
    "                tmp = html_tmp[i].find_all('td')\n",
    "                value_tmp = []\n",
    "                for j in range(len(tmp)):\n",
    "                    try :\n",
    "                        if tmp[j].text == '':\n",
    "                            value_tmp.append(-999.9)\n",
    "                        else:\n",
    "                            value_tmp.append(float(tmp[j].text.replace(',','')))\n",
    "                    except :\n",
    "                        value_tmp.append(-999.9)\n",
    "\n",
    "                values.append(value_tmp)\n",
    "            flag, valid_nb = self.DataValidation(values)\n",
    "            if flag and valid_nb >= 10 :\n",
    "                pass\n",
    "            else :\n",
    "                self.logger.error(f'Not enough *coinfo_cp* about this company -> {self.comps[idx]+\"-\"+cds}')\n",
    "                continue\n",
    "            df = pd.DataFrame(data=values, columns=dates, index=cols)\n",
    "            self.EmptyChecker(df, cds)\n",
    "            #last_info_date = self.DataExistChecker(df)\n",
    "            df.to_hdf(f'./FullCache/Annual/fs_annual_{cds}_{self.update_date}.h5',key=cds,mode='w')\n",
    "            \"\"\"\n",
    "            \n",
    "            print(\"Crawling *Quarter* Financial Summary of *{}*...\".format(self.comps[idx]+'-'+cds))\n",
    "            time.sleep(1)\n",
    "            try :\n",
    "                browser.switch_to.frame(browser.find_element_by_id('coinfo_cp'))\n",
    "                WebDriverWait(browser, 2).until(EC.element_to_be_clickable((By.XPATH,'//*[@id=\"cns_Tab22\"]')))\n",
    "            except :\n",
    "                self.logger.error(f'There is no *coinfo_cp* about this company -> {self.comps[idx]+\"-\"+cds}')\n",
    "                continue\n",
    "            browser.find_elements_by_xpath('//*[@id=\"cns_Tab22\"]')[0].click()\n",
    "            qhtml = BeautifulSoup(browser.page_source, 'html.parser')\n",
    "            qhtml_Q = qhtml.find('table',{'class':'gHead01 all-width','summary':'주요재무정보를 제공합니다.'}) \n",
    "            \n",
    "            if qhtml_Q.find('thead').find_all('tr')[0].find('th',attrs={'class':'bg r01c02 endLine line-bottom'}).text != '분기':\n",
    "                wrongthing.append(str(cds)+'Q')\n",
    "                print(\"WRONG!!!!!! QQQQ\")\n",
    "            \n",
    "            html_tmp = qhtml_Q.find('thead').find_all('tr')[1].find_all('th',attrs={\"class\":re.compile(\"^r03c\")})\n",
    "            dates = [''.join(re.findall('[0-9/]',html_tmp[i].text)).replace('/','-') for i in range(len(html_tmp))]\n",
    "            dates = ['None'+str(idx) if e=='' else e for idx, e in enumerate(dates)]\n",
    "            html_tmp = qhtml_Q.find('tbody').find_all('tr')\n",
    "            cols = []\n",
    "            for i in range(len(html_tmp)):\n",
    "                if '\\xa0' in html_tmp[i].find('th').text:\n",
    "                    item = re.sub('\\xa0','',html_tmp[i].find('th').text)\n",
    "                else:\n",
    "                    item = html_tmp[i].find('th').text\n",
    "                cols.append(item)\n",
    "            values = []\n",
    "            for i in range(len(html_tmp)):\n",
    "                tmp = html_tmp[i].find_all('td')\n",
    "                value_tmp = []\n",
    "                for j in range(len(tmp)):\n",
    "                    try :\n",
    "                        if tmp[j].text == '':\n",
    "                            value_tmp.append(-999.9)\n",
    "                        else:\n",
    "                            value_tmp.append(float(tmp[j].text.replace(',','')))\n",
    "                    except :\n",
    "                        value_tmp.append(-999.9)\n",
    "\n",
    "                values.append(value_tmp)\n",
    "            flag, valid_nb = self.DataValidation(values)\n",
    "            if flag and valid_nb >= 10 :\n",
    "                pass\n",
    "            else :\n",
    "                self.logger.error(f'Not enough *coinfo_cp* about this company -> {self.comps[idx]+\"-\"+cds}')\n",
    "                continue\n",
    "            qdf = pd.DataFrame(data=values, columns=dates, index=cols)\n",
    "            self.EmptyChecker(qdf, cds)\n",
    "            #last_info_date = self.DataExistChecker(df)\n",
    "            qdf.to_hdf(f'./FullCache/Quarter/fs_quarter_{cds}_{self.update_date}.h5',key=cds,mode='w')\n",
    "            \n",
    "        \n",
    "        self.logger.info(f'Cache generation is well done. : {self.update_date}')\n",
    "        self.logger.info('=======================================================================')        \n",
    "        return wrongthing#\"Cache generation is well done.\""
   ]
  },
  {
   "cell_type": "code",
   "execution_count": 134,
   "metadata": {},
   "outputs": [
    {
     "name": "stderr",
     "output_type": "stream",
     "text": [
      "2021-01-13 15:33:08,245 - root - INFO - =======================================================================\n",
      "2021-01-13 15:33:08,245 - root - INFO - =======================================================================\n",
      "2021-01-13 15:33:08,245 - root - INFO - =======================================================================\n",
      "2021-01-13 15:33:08,245 - root - INFO - =======================================================================\n",
      "2021-01-13 15:33:08,245 - root - INFO - =======================================================================\n",
      "2021-01-13 15:33:08,245 - root - INFO - =======================================================================\n",
      "2021-01-13 15:33:08,245 - root - INFO - =======================================================================\n",
      "2021-01-13 15:33:08,245 - root - INFO - =======================================================================\n",
      "2021-01-13 15:33:08,256 - root - INFO - Starting BSCrawler -> date : 2021-01-13\n",
      "2021-01-13 15:33:08,256 - root - INFO - Starting BSCrawler -> date : 2021-01-13\n",
      "2021-01-13 15:33:08,256 - root - INFO - Starting BSCrawler -> date : 2021-01-13\n",
      "2021-01-13 15:33:08,256 - root - INFO - Starting BSCrawler -> date : 2021-01-13\n",
      "2021-01-13 15:33:08,256 - root - INFO - Starting BSCrawler -> date : 2021-01-13\n",
      "2021-01-13 15:33:08,256 - root - INFO - Starting BSCrawler -> date : 2021-01-13\n",
      "2021-01-13 15:33:08,256 - root - INFO - Starting BSCrawler -> date : 2021-01-13\n",
      "2021-01-13 15:33:08,256 - root - INFO - Starting BSCrawler -> date : 2021-01-13\n"
     ]
    }
   ],
   "source": [
    "bb = BSCrawler('full')"
   ]
  },
  {
   "cell_type": "code",
   "execution_count": 131,
   "metadata": {
    "collapsed": true,
    "jupyter": {
     "outputs_hidden": true
    }
   },
   "outputs": [
    {
     "name": "stdout",
     "output_type": "stream",
     "text": [
      "Crawling *Annual* Financial Summary of *동화약품-001270*...\n"
     ]
    },
    {
     "name": "stderr",
     "output_type": "stream",
     "text": [
      "C:\\anaconda3\\lib\\site-packages\\tables\\path.py:155: NaturalNameWarning: object name is not a valid Python identifier: '001270'; it does not match the pattern ``^[a-zA-Z_][a-zA-Z0-9_]*$``; you will not be able to use natural naming to access this object; using ``getattr()`` will still work, though\n",
      "  check_attribute_name(name)\n"
     ]
    },
    {
     "name": "stdout",
     "output_type": "stream",
     "text": [
      "Crawling *Annual* Financial Summary of *KR모터스-001290*...\n"
     ]
    },
    {
     "name": "stderr",
     "output_type": "stream",
     "text": [
      "C:\\anaconda3\\lib\\site-packages\\tables\\path.py:155: NaturalNameWarning: object name is not a valid Python identifier: '001290'; it does not match the pattern ``^[a-zA-Z_][a-zA-Z0-9_]*$``; you will not be able to use natural naming to access this object; using ``getattr()`` will still work, though\n",
      "  check_attribute_name(name)\n"
     ]
    },
    {
     "name": "stdout",
     "output_type": "stream",
     "text": [
      "Crawling *Annual* Financial Summary of *경방-001340*...\n"
     ]
    },
    {
     "name": "stderr",
     "output_type": "stream",
     "text": [
      "C:\\anaconda3\\lib\\site-packages\\tables\\path.py:155: NaturalNameWarning: object name is not a valid Python identifier: '001340'; it does not match the pattern ``^[a-zA-Z_][a-zA-Z0-9_]*$``; you will not be able to use natural naming to access this object; using ``getattr()`` will still work, though\n",
      "  check_attribute_name(name)\n"
     ]
    },
    {
     "name": "stdout",
     "output_type": "stream",
     "text": [
      "Crawling *Annual* Financial Summary of *메리츠화재-001360*...\n"
     ]
    },
    {
     "name": "stderr",
     "output_type": "stream",
     "text": [
      "C:\\anaconda3\\lib\\site-packages\\tables\\path.py:155: NaturalNameWarning: object name is not a valid Python identifier: '001360'; it does not match the pattern ``^[a-zA-Z_][a-zA-Z0-9_]*$``; you will not be able to use natural naming to access this object; using ``getattr()`` will still work, though\n",
      "  check_attribute_name(name)\n"
     ]
    },
    {
     "name": "stdout",
     "output_type": "stream",
     "text": [
      "Crawling *Annual* Financial Summary of *삼양홀딩스-001380*...\n"
     ]
    },
    {
     "name": "stderr",
     "output_type": "stream",
     "text": [
      "C:\\anaconda3\\lib\\site-packages\\tables\\path.py:155: NaturalNameWarning: object name is not a valid Python identifier: '001380'; it does not match the pattern ``^[a-zA-Z_][a-zA-Z0-9_]*$``; you will not be able to use natural naming to access this object; using ``getattr()`` will still work, though\n",
      "  check_attribute_name(name)\n"
     ]
    },
    {
     "name": "stdout",
     "output_type": "stream",
     "text": [
      "Crawling *Annual* Financial Summary of *하이트진로-001390*...\n"
     ]
    },
    {
     "name": "stderr",
     "output_type": "stream",
     "text": [
      "C:\\anaconda3\\lib\\site-packages\\tables\\path.py:155: NaturalNameWarning: object name is not a valid Python identifier: '001390'; it does not match the pattern ``^[a-zA-Z_][a-zA-Z0-9_]*$``; you will not be able to use natural naming to access this object; using ``getattr()`` will still work, though\n",
      "  check_attribute_name(name)\n"
     ]
    },
    {
     "name": "stdout",
     "output_type": "stream",
     "text": [
      "Crawling *Annual* Financial Summary of *유한양행-001420*...\n"
     ]
    },
    {
     "name": "stderr",
     "output_type": "stream",
     "text": [
      "C:\\anaconda3\\lib\\site-packages\\tables\\path.py:155: NaturalNameWarning: object name is not a valid Python identifier: '001420'; it does not match the pattern ``^[a-zA-Z_][a-zA-Z0-9_]*$``; you will not be able to use natural naming to access this object; using ``getattr()`` will still work, though\n",
      "  check_attribute_name(name)\n"
     ]
    },
    {
     "name": "stdout",
     "output_type": "stream",
     "text": [
      "Crawling *Annual* Financial Summary of *CJ대한통운-001430*...\n"
     ]
    },
    {
     "name": "stderr",
     "output_type": "stream",
     "text": [
      "C:\\anaconda3\\lib\\site-packages\\tables\\path.py:155: NaturalNameWarning: object name is not a valid Python identifier: '001430'; it does not match the pattern ``^[a-zA-Z_][a-zA-Z0-9_]*$``; you will not be able to use natural naming to access this object; using ``getattr()`` will still work, though\n",
      "  check_attribute_name(name)\n"
     ]
    },
    {
     "name": "stdout",
     "output_type": "stream",
     "text": [
      "Crawling *Annual* Financial Summary of *하이트진로홀딩스-001440*...\n"
     ]
    },
    {
     "name": "stderr",
     "output_type": "stream",
     "text": [
      "C:\\anaconda3\\lib\\site-packages\\tables\\path.py:155: NaturalNameWarning: object name is not a valid Python identifier: '001440'; it does not match the pattern ``^[a-zA-Z_][a-zA-Z0-9_]*$``; you will not be able to use natural naming to access this object; using ``getattr()`` will still work, though\n",
      "  check_attribute_name(name)\n"
     ]
    },
    {
     "name": "stdout",
     "output_type": "stream",
     "text": [
      "Crawling *Annual* Financial Summary of *두산-001450*...\n"
     ]
    },
    {
     "name": "stderr",
     "output_type": "stream",
     "text": [
      "C:\\anaconda3\\lib\\site-packages\\tables\\path.py:155: NaturalNameWarning: object name is not a valid Python identifier: '001450'; it does not match the pattern ``^[a-zA-Z_][a-zA-Z0-9_]*$``; you will not be able to use natural naming to access this object; using ``getattr()`` will still work, though\n",
      "  check_attribute_name(name)\n"
     ]
    },
    {
     "name": "stdout",
     "output_type": "stream",
     "text": [
      "Crawling *Annual* Financial Summary of *성창기업지주-001460*...\n"
     ]
    },
    {
     "name": "stderr",
     "output_type": "stream",
     "text": [
      "C:\\anaconda3\\lib\\site-packages\\tables\\path.py:155: NaturalNameWarning: object name is not a valid Python identifier: '001460'; it does not match the pattern ``^[a-zA-Z_][a-zA-Z0-9_]*$``; you will not be able to use natural naming to access this object; using ``getattr()`` will still work, though\n",
      "  check_attribute_name(name)\n"
     ]
    },
    {
     "name": "stdout",
     "output_type": "stream",
     "text": [
      "Crawling *Annual* Financial Summary of *대림산업-001470*...\n"
     ]
    },
    {
     "name": "stderr",
     "output_type": "stream",
     "text": [
      "C:\\anaconda3\\lib\\site-packages\\tables\\path.py:155: NaturalNameWarning: object name is not a valid Python identifier: '001470'; it does not match the pattern ``^[a-zA-Z_][a-zA-Z0-9_]*$``; you will not be able to use natural naming to access this object; using ``getattr()`` will still work, though\n",
      "  check_attribute_name(name)\n"
     ]
    },
    {
     "name": "stdout",
     "output_type": "stream",
     "text": [
      "Crawling *Annual* Financial Summary of *유유제약-001500*...\n"
     ]
    },
    {
     "name": "stderr",
     "output_type": "stream",
     "text": [
      "C:\\anaconda3\\lib\\site-packages\\tables\\path.py:155: NaturalNameWarning: object name is not a valid Python identifier: '001500'; it does not match the pattern ``^[a-zA-Z_][a-zA-Z0-9_]*$``; you will not be able to use natural naming to access this object; using ``getattr()`` will still work, though\n",
      "  check_attribute_name(name)\n"
     ]
    },
    {
     "name": "stdout",
     "output_type": "stream",
     "text": [
      "Crawling *Annual* Financial Summary of *일동홀딩스-001510*...\n"
     ]
    },
    {
     "name": "stderr",
     "output_type": "stream",
     "text": [
      "C:\\anaconda3\\lib\\site-packages\\tables\\path.py:155: NaturalNameWarning: object name is not a valid Python identifier: '001510'; it does not match the pattern ``^[a-zA-Z_][a-zA-Z0-9_]*$``; you will not be able to use natural naming to access this object; using ``getattr()`` will still work, though\n",
      "  check_attribute_name(name)\n"
     ]
    },
    {
     "name": "stdout",
     "output_type": "stream",
     "text": [
      "Crawling *Annual* Financial Summary of *한국테크놀로지그룹-001520*...\n"
     ]
    },
    {
     "name": "stderr",
     "output_type": "stream",
     "text": [
      "C:\\anaconda3\\lib\\site-packages\\tables\\path.py:155: NaturalNameWarning: object name is not a valid Python identifier: '001520'; it does not match the pattern ``^[a-zA-Z_][a-zA-Z0-9_]*$``; you will not be able to use natural naming to access this object; using ``getattr()`` will still work, though\n",
      "  check_attribute_name(name)\n"
     ]
    },
    {
     "name": "stdout",
     "output_type": "stream",
     "text": [
      "Crawling *Annual* Financial Summary of *삼천당제약-001530*...\n"
     ]
    },
    {
     "name": "stderr",
     "output_type": "stream",
     "text": [
      "C:\\anaconda3\\lib\\site-packages\\tables\\path.py:155: NaturalNameWarning: object name is not a valid Python identifier: '001530'; it does not match the pattern ``^[a-zA-Z_][a-zA-Z0-9_]*$``; you will not be able to use natural naming to access this object; using ``getattr()`` will still work, though\n",
      "  check_attribute_name(name)\n"
     ]
    },
    {
     "name": "stdout",
     "output_type": "stream",
     "text": [
      "Crawling *Annual* Financial Summary of *기아자동차-001540*...\n"
     ]
    },
    {
     "name": "stderr",
     "output_type": "stream",
     "text": [
      "C:\\anaconda3\\lib\\site-packages\\tables\\path.py:155: NaturalNameWarning: object name is not a valid Python identifier: '001540'; it does not match the pattern ``^[a-zA-Z_][a-zA-Z0-9_]*$``; you will not be able to use natural naming to access this object; using ``getattr()`` will still work, though\n",
      "  check_attribute_name(name)\n"
     ]
    },
    {
     "name": "stdout",
     "output_type": "stream",
     "text": [
      "Crawling *Annual* Financial Summary of *대유플러스-001550*...\n"
     ]
    },
    {
     "name": "stderr",
     "output_type": "stream",
     "text": [
      "C:\\anaconda3\\lib\\site-packages\\tables\\path.py:155: NaturalNameWarning: object name is not a valid Python identifier: '001550'; it does not match the pattern ``^[a-zA-Z_][a-zA-Z0-9_]*$``; you will not be able to use natural naming to access this object; using ``getattr()`` will still work, though\n",
      "  check_attribute_name(name)\n"
     ]
    },
    {
     "name": "stdout",
     "output_type": "stream",
     "text": [
      "Crawling *Annual* Financial Summary of *노루홀딩스-001560*...\n"
     ]
    },
    {
     "name": "stderr",
     "output_type": "stream",
     "text": [
      "C:\\anaconda3\\lib\\site-packages\\tables\\path.py:155: NaturalNameWarning: object name is not a valid Python identifier: '001560'; it does not match the pattern ``^[a-zA-Z_][a-zA-Z0-9_]*$``; you will not be able to use natural naming to access this object; using ``getattr()`` will still work, though\n",
      "  check_attribute_name(name)\n"
     ]
    },
    {
     "name": "stdout",
     "output_type": "stream",
     "text": [
      "Crawling *Annual* Financial Summary of *한화손해보험-001570*...\n"
     ]
    },
    {
     "name": "stderr",
     "output_type": "stream",
     "text": [
      "C:\\anaconda3\\lib\\site-packages\\tables\\path.py:155: NaturalNameWarning: object name is not a valid Python identifier: '001570'; it does not match the pattern ``^[a-zA-Z_][a-zA-Z0-9_]*$``; you will not be able to use natural naming to access this object; using ``getattr()`` will still work, though\n",
      "  check_attribute_name(name)\n"
     ]
    },
    {
     "name": "stdout",
     "output_type": "stream",
     "text": [
      "Crawling *Annual* Financial Summary of *삼화페인트공업-001620*...\n"
     ]
    },
    {
     "name": "stderr",
     "output_type": "stream",
     "text": [
      "C:\\anaconda3\\lib\\site-packages\\tables\\path.py:155: NaturalNameWarning: object name is not a valid Python identifier: '001620'; it does not match the pattern ``^[a-zA-Z_][a-zA-Z0-9_]*$``; you will not be able to use natural naming to access this object; using ``getattr()`` will still work, though\n",
      "  check_attribute_name(name)\n"
     ]
    },
    {
     "name": "stdout",
     "output_type": "stream",
     "text": [
      "Crawling *Annual* Financial Summary of *롯데손해보험-001630*...\n"
     ]
    },
    {
     "name": "stderr",
     "output_type": "stream",
     "text": [
      "C:\\anaconda3\\lib\\site-packages\\tables\\path.py:155: NaturalNameWarning: object name is not a valid Python identifier: '001630'; it does not match the pattern ``^[a-zA-Z_][a-zA-Z0-9_]*$``; you will not be able to use natural naming to access this object; using ``getattr()`` will still work, though\n",
      "  check_attribute_name(name)\n"
     ]
    },
    {
     "name": "stdout",
     "output_type": "stream",
     "text": [
      "Crawling *Annual* Financial Summary of *대원강업-001680*...\n"
     ]
    },
    {
     "name": "stderr",
     "output_type": "stream",
     "text": [
      "C:\\anaconda3\\lib\\site-packages\\tables\\path.py:155: NaturalNameWarning: object name is not a valid Python identifier: '001680'; it does not match the pattern ``^[a-zA-Z_][a-zA-Z0-9_]*$``; you will not be able to use natural naming to access this object; using ``getattr()`` will still work, though\n",
      "  check_attribute_name(name)\n"
     ]
    },
    {
     "name": "stdout",
     "output_type": "stream",
     "text": [
      "Crawling *Annual* Financial Summary of *중앙에너비스-001720*...\n"
     ]
    },
    {
     "name": "stderr",
     "output_type": "stream",
     "text": [
      "C:\\anaconda3\\lib\\site-packages\\tables\\path.py:155: NaturalNameWarning: object name is not a valid Python identifier: '001720'; it does not match the pattern ``^[a-zA-Z_][a-zA-Z0-9_]*$``; you will not be able to use natural naming to access this object; using ``getattr()`` will still work, though\n",
      "  check_attribute_name(name)\n"
     ]
    },
    {
     "name": "stdout",
     "output_type": "stream",
     "text": [
      "Crawling *Annual* Financial Summary of *조선내화-001770*...\n"
     ]
    },
    {
     "name": "stderr",
     "output_type": "stream",
     "text": [
      "C:\\anaconda3\\lib\\site-packages\\tables\\path.py:155: NaturalNameWarning: object name is not a valid Python identifier: '001770'; it does not match the pattern ``^[a-zA-Z_][a-zA-Z0-9_]*$``; you will not be able to use natural naming to access this object; using ``getattr()`` will still work, though\n",
      "  check_attribute_name(name)\n"
     ]
    },
    {
     "name": "stdout",
     "output_type": "stream",
     "text": [
      "Crawling *Annual* Financial Summary of *대동공업-001780*...\n"
     ]
    },
    {
     "name": "stderr",
     "output_type": "stream",
     "text": [
      "C:\\anaconda3\\lib\\site-packages\\tables\\path.py:155: NaturalNameWarning: object name is not a valid Python identifier: '001780'; it does not match the pattern ``^[a-zA-Z_][a-zA-Z0-9_]*$``; you will not be able to use natural naming to access this object; using ``getattr()`` will still work, though\n",
      "  check_attribute_name(name)\n"
     ]
    },
    {
     "name": "stdout",
     "output_type": "stream",
     "text": [
      "Crawling *Annual* Financial Summary of *가온전선-001790*...\n"
     ]
    },
    {
     "name": "stderr",
     "output_type": "stream",
     "text": [
      "C:\\anaconda3\\lib\\site-packages\\tables\\path.py:155: NaturalNameWarning: object name is not a valid Python identifier: '001790'; it does not match the pattern ``^[a-zA-Z_][a-zA-Z0-9_]*$``; you will not be able to use natural naming to access this object; using ``getattr()`` will still work, though\n",
      "  check_attribute_name(name)\n"
     ]
    },
    {
     "name": "stdout",
     "output_type": "stream",
     "text": [
      "Crawling *Annual* Financial Summary of *삼일제약-001800*...\n"
     ]
    },
    {
     "name": "stderr",
     "output_type": "stream",
     "text": [
      "C:\\anaconda3\\lib\\site-packages\\tables\\path.py:155: NaturalNameWarning: object name is not a valid Python identifier: '001800'; it does not match the pattern ``^[a-zA-Z_][a-zA-Z0-9_]*$``; you will not be able to use natural naming to access this object; using ``getattr()`` will still work, though\n",
      "  check_attribute_name(name)\n"
     ]
    },
    {
     "name": "stdout",
     "output_type": "stream",
     "text": [
      "Crawling *Annual* Financial Summary of *흥국화재-001810*...\n"
     ]
    },
    {
     "name": "stderr",
     "output_type": "stream",
     "text": [
      "C:\\anaconda3\\lib\\site-packages\\tables\\path.py:155: NaturalNameWarning: object name is not a valid Python identifier: '001810'; it does not match the pattern ``^[a-zA-Z_][a-zA-Z0-9_]*$``; you will not be able to use natural naming to access this object; using ``getattr()`` will still work, though\n",
      "  check_attribute_name(name)\n"
     ]
    },
    {
     "name": "stdout",
     "output_type": "stream",
     "text": [
      "Crawling *Annual* Financial Summary of *CS홀딩스-001820*...\n"
     ]
    },
    {
     "name": "stderr",
     "output_type": "stream",
     "text": [
      "C:\\anaconda3\\lib\\site-packages\\tables\\path.py:155: NaturalNameWarning: object name is not a valid Python identifier: '001820'; it does not match the pattern ``^[a-zA-Z_][a-zA-Z0-9_]*$``; you will not be able to use natural naming to access this object; using ``getattr()`` will still work, though\n",
      "  check_attribute_name(name)\n"
     ]
    },
    {
     "name": "stdout",
     "output_type": "stream",
     "text": [
      "Crawling *Annual* Financial Summary of *동아쏘시오홀딩스-196700*...\n"
     ]
    },
    {
     "name": "stderr",
     "output_type": "stream",
     "text": [
      "C:\\anaconda3\\lib\\site-packages\\tables\\path.py:155: NaturalNameWarning: object name is not a valid Python identifier: '196700'; it does not match the pattern ``^[a-zA-Z_][a-zA-Z0-9_]*$``; you will not be able to use natural naming to access this object; using ``getattr()`` will still work, though\n",
      "  check_attribute_name(name)\n"
     ]
    },
    {
     "name": "stdout",
     "output_type": "stream",
     "text": [
      "Crawling *Annual* Financial Summary of *천일고속-197140*...\n"
     ]
    },
    {
     "name": "stderr",
     "output_type": "stream",
     "text": [
      "C:\\anaconda3\\lib\\site-packages\\tables\\path.py:155: NaturalNameWarning: object name is not a valid Python identifier: '197140'; it does not match the pattern ``^[a-zA-Z_][a-zA-Z0-9_]*$``; you will not be able to use natural naming to access this object; using ``getattr()`` will still work, though\n",
      "  check_attribute_name(name)\n"
     ]
    },
    {
     "name": "stdout",
     "output_type": "stream",
     "text": [
      "Crawling *Annual* Financial Summary of *SK하이닉스-198080*...\n"
     ]
    },
    {
     "name": "stderr",
     "output_type": "stream",
     "text": [
      "C:\\anaconda3\\lib\\site-packages\\tables\\path.py:155: NaturalNameWarning: object name is not a valid Python identifier: '198080'; it does not match the pattern ``^[a-zA-Z_][a-zA-Z0-9_]*$``; you will not be able to use natural naming to access this object; using ``getattr()`` will still work, though\n",
      "  check_attribute_name(name)\n"
     ]
    },
    {
     "name": "stdout",
     "output_type": "stream",
     "text": [
      "Crawling *Annual* Financial Summary of *영풍-211270*...\n"
     ]
    },
    {
     "name": "stderr",
     "output_type": "stream",
     "text": [
      "C:\\anaconda3\\lib\\site-packages\\tables\\path.py:155: NaturalNameWarning: object name is not a valid Python identifier: '211270'; it does not match the pattern ``^[a-zA-Z_][a-zA-Z0-9_]*$``; you will not be able to use natural naming to access this object; using ``getattr()`` will still work, though\n",
      "  check_attribute_name(name)\n"
     ]
    },
    {
     "name": "stdout",
     "output_type": "stream",
     "text": [
      "Crawling *Annual* Financial Summary of *LS네트웍스-212560*...\n"
     ]
    },
    {
     "name": "stderr",
     "output_type": "stream",
     "text": [
      "C:\\anaconda3\\lib\\site-packages\\tables\\path.py:155: NaturalNameWarning: object name is not a valid Python identifier: '212560'; it does not match the pattern ``^[a-zA-Z_][a-zA-Z0-9_]*$``; you will not be able to use natural naming to access this object; using ``getattr()`` will still work, though\n",
      "  check_attribute_name(name)\n"
     ]
    },
    {
     "name": "stdout",
     "output_type": "stream",
     "text": [
      "Crawling *Annual* Financial Summary of *유수홀딩스-213090*...\n"
     ]
    },
    {
     "name": "stderr",
     "output_type": "stream",
     "text": [
      "C:\\anaconda3\\lib\\site-packages\\tables\\path.py:155: NaturalNameWarning: object name is not a valid Python identifier: '213090'; it does not match the pattern ``^[a-zA-Z_][a-zA-Z0-9_]*$``; you will not be able to use natural naming to access this object; using ``getattr()`` will still work, though\n",
      "  check_attribute_name(name)\n"
     ]
    },
    {
     "name": "stdout",
     "output_type": "stream",
     "text": [
      "Crawling *Annual* Financial Summary of *현대건설-213420*...\n"
     ]
    },
    {
     "name": "stderr",
     "output_type": "stream",
     "text": [
      "C:\\anaconda3\\lib\\site-packages\\tables\\path.py:155: NaturalNameWarning: object name is not a valid Python identifier: '213420'; it does not match the pattern ``^[a-zA-Z_][a-zA-Z0-9_]*$``; you will not be able to use natural naming to access this object; using ``getattr()`` will still work, though\n",
      "  check_attribute_name(name)\n"
     ]
    },
    {
     "name": "stdout",
     "output_type": "stream",
     "text": [
      "Crawling *Annual* Financial Summary of *이화산업-213500*...\n"
     ]
    },
    {
     "name": "stderr",
     "output_type": "stream",
     "text": [
      "C:\\anaconda3\\lib\\site-packages\\tables\\path.py:155: NaturalNameWarning: object name is not a valid Python identifier: '213500'; it does not match the pattern ``^[a-zA-Z_][a-zA-Z0-9_]*$``; you will not be able to use natural naming to access this object; using ``getattr()`` will still work, though\n",
      "  check_attribute_name(name)\n"
     ]
    },
    {
     "name": "stdout",
     "output_type": "stream",
     "text": [
      "Crawling *Annual* Financial Summary of *삼성화재해상보험-214150*...\n"
     ]
    },
    {
     "name": "stderr",
     "output_type": "stream",
     "text": [
      "C:\\anaconda3\\lib\\site-packages\\tables\\path.py:155: NaturalNameWarning: object name is not a valid Python identifier: '214150'; it does not match the pattern ``^[a-zA-Z_][a-zA-Z0-9_]*$``; you will not be able to use natural naming to access this object; using ``getattr()`` will still work, though\n",
      "  check_attribute_name(name)\n"
     ]
    },
    {
     "name": "stdout",
     "output_type": "stream",
     "text": [
      "Crawling *Annual* Financial Summary of *화천기공-214180*...\n"
     ]
    },
    {
     "name": "stderr",
     "output_type": "stream",
     "text": [
      "C:\\anaconda3\\lib\\site-packages\\tables\\path.py:155: NaturalNameWarning: object name is not a valid Python identifier: '214180'; it does not match the pattern ``^[a-zA-Z_][a-zA-Z0-9_]*$``; you will not be able to use natural naming to access this object; using ``getattr()`` will still work, though\n",
      "  check_attribute_name(name)\n"
     ]
    },
    {
     "name": "stdout",
     "output_type": "stream",
     "text": [
      "Crawling *Annual* Financial Summary of *강남제비스코-214260*...\n"
     ]
    },
    {
     "name": "stderr",
     "output_type": "stream",
     "text": [
      "C:\\anaconda3\\lib\\site-packages\\tables\\path.py:155: NaturalNameWarning: object name is not a valid Python identifier: '214260'; it does not match the pattern ``^[a-zA-Z_][a-zA-Z0-9_]*$``; you will not be able to use natural naming to access this object; using ``getattr()`` will still work, though\n",
      "  check_attribute_name(name)\n"
     ]
    },
    {
     "name": "stdout",
     "output_type": "stream",
     "text": [
      "Crawling *Annual* Financial Summary of *한화-214270*...\n"
     ]
    },
    {
     "name": "stderr",
     "output_type": "stream",
     "text": [
      "C:\\anaconda3\\lib\\site-packages\\tables\\path.py:155: NaturalNameWarning: object name is not a valid Python identifier: '214270'; it does not match the pattern ``^[a-zA-Z_][a-zA-Z0-9_]*$``; you will not be able to use natural naming to access this object; using ``getattr()`` will still work, though\n",
      "  check_attribute_name(name)\n"
     ]
    },
    {
     "name": "stdout",
     "output_type": "stream",
     "text": [
      "Crawling *Annual* Financial Summary of *보해양조-214310*...\n"
     ]
    },
    {
     "name": "stderr",
     "output_type": "stream",
     "text": [
      "C:\\anaconda3\\lib\\site-packages\\tables\\path.py:155: NaturalNameWarning: object name is not a valid Python identifier: '214310'; it does not match the pattern ``^[a-zA-Z_][a-zA-Z0-9_]*$``; you will not be able to use natural naming to access this object; using ``getattr()`` will still work, though\n",
      "  check_attribute_name(name)\n"
     ]
    },
    {
     "name": "stdout",
     "output_type": "stream",
     "text": [
      "Crawling *Annual* Financial Summary of *유니온-214320*...\n"
     ]
    },
    {
     "name": "stderr",
     "output_type": "stream",
     "text": [
      "C:\\anaconda3\\lib\\site-packages\\tables\\path.py:155: NaturalNameWarning: object name is not a valid Python identifier: '214320'; it does not match the pattern ``^[a-zA-Z_][a-zA-Z0-9_]*$``; you will not be able to use natural naming to access this object; using ``getattr()`` will still work, though\n",
      "  check_attribute_name(name)\n"
     ]
    },
    {
     "name": "stdout",
     "output_type": "stream",
     "text": [
      "Crawling *Annual* Financial Summary of *전방-214330*...\n"
     ]
    },
    {
     "name": "stderr",
     "output_type": "stream",
     "text": [
      "C:\\anaconda3\\lib\\site-packages\\tables\\path.py:155: NaturalNameWarning: object name is not a valid Python identifier: '214330'; it does not match the pattern ``^[a-zA-Z_][a-zA-Z0-9_]*$``; you will not be able to use natural naming to access this object; using ``getattr()`` will still work, though\n",
      "  check_attribute_name(name)\n"
     ]
    },
    {
     "name": "stdout",
     "output_type": "stream",
     "text": [
      "Crawling *Annual* Financial Summary of *한국주철관공업-214370*...\n"
     ]
    },
    {
     "name": "stderr",
     "output_type": "stream",
     "text": [
      "C:\\anaconda3\\lib\\site-packages\\tables\\path.py:155: NaturalNameWarning: object name is not a valid Python identifier: '214370'; it does not match the pattern ``^[a-zA-Z_][a-zA-Z0-9_]*$``; you will not be able to use natural naming to access this object; using ``getattr()`` will still work, though\n",
      "  check_attribute_name(name)\n"
     ]
    },
    {
     "name": "stdout",
     "output_type": "stream",
     "text": [
      "Crawling *Annual* Financial Summary of *DB하이텍-214390*...\n"
     ]
    },
    {
     "name": "stderr",
     "output_type": "stream",
     "text": [
      "C:\\anaconda3\\lib\\site-packages\\tables\\path.py:155: NaturalNameWarning: object name is not a valid Python identifier: '214390'; it does not match the pattern ``^[a-zA-Z_][a-zA-Z0-9_]*$``; you will not be able to use natural naming to access this object; using ``getattr()`` will still work, though\n",
      "  check_attribute_name(name)\n"
     ]
    },
    {
     "name": "stdout",
     "output_type": "stream",
     "text": [
      "Crawling *Annual* Financial Summary of *신라섬유-214420*...\n"
     ]
    },
    {
     "name": "stderr",
     "output_type": "stream",
     "text": [
      "C:\\anaconda3\\lib\\site-packages\\tables\\path.py:155: NaturalNameWarning: object name is not a valid Python identifier: '214420'; it does not match the pattern ``^[a-zA-Z_][a-zA-Z0-9_]*$``; you will not be able to use natural naming to access this object; using ``getattr()`` will still work, though\n",
      "  check_attribute_name(name)\n"
     ]
    },
    {
     "name": "stdout",
     "output_type": "stream",
     "text": [
      "Crawling *Annual* Financial Summary of *페이퍼코리아-214430*...\n"
     ]
    },
    {
     "name": "stderr",
     "output_type": "stream",
     "text": [
      "C:\\anaconda3\\lib\\site-packages\\tables\\path.py:155: NaturalNameWarning: object name is not a valid Python identifier: '214430'; it does not match the pattern ``^[a-zA-Z_][a-zA-Z0-9_]*$``; you will not be able to use natural naming to access this object; using ``getattr()`` will still work, though\n",
      "  check_attribute_name(name)\n"
     ]
    },
    {
     "name": "stdout",
     "output_type": "stream",
     "text": [
      "Crawling *Annual* Financial Summary of *CJ-214450*...\n"
     ]
    },
    {
     "name": "stderr",
     "output_type": "stream",
     "text": [
      "C:\\anaconda3\\lib\\site-packages\\tables\\path.py:155: NaturalNameWarning: object name is not a valid Python identifier: '214450'; it does not match the pattern ``^[a-zA-Z_][a-zA-Z0-9_]*$``; you will not be able to use natural naming to access this object; using ``getattr()`` will still work, though\n",
      "  check_attribute_name(name)\n"
     ]
    },
    {
     "name": "stdout",
     "output_type": "stream",
     "text": [
      "Crawling *Annual* Financial Summary of *JW중외제약-214610*...\n"
     ]
    },
    {
     "name": "stderr",
     "output_type": "stream",
     "text": [
      "C:\\anaconda3\\lib\\site-packages\\tables\\path.py:155: NaturalNameWarning: object name is not a valid Python identifier: '214610'; it does not match the pattern ``^[a-zA-Z_][a-zA-Z0-9_]*$``; you will not be able to use natural naming to access this object; using ``getattr()`` will still work, though\n",
      "  check_attribute_name(name)\n"
     ]
    },
    {
     "name": "stdout",
     "output_type": "stream",
     "text": [
      "Crawling *Annual* Financial Summary of *대한방직-214680*...\n"
     ]
    },
    {
     "name": "stderr",
     "output_type": "stream",
     "text": [
      "C:\\anaconda3\\lib\\site-packages\\tables\\path.py:155: NaturalNameWarning: object name is not a valid Python identifier: '214680'; it does not match the pattern ``^[a-zA-Z_][a-zA-Z0-9_]*$``; you will not be able to use natural naming to access this object; using ``getattr()`` will still work, though\n",
      "  check_attribute_name(name)\n"
     ]
    },
    {
     "name": "stdout",
     "output_type": "stream",
     "text": [
      "Crawling *Annual* Financial Summary of *만호제강-214870*...\n"
     ]
    },
    {
     "name": "stderr",
     "output_type": "stream",
     "text": [
      "C:\\anaconda3\\lib\\site-packages\\tables\\path.py:155: NaturalNameWarning: object name is not a valid Python identifier: '214870'; it does not match the pattern ``^[a-zA-Z_][a-zA-Z0-9_]*$``; you will not be able to use natural naming to access this object; using ``getattr()`` will still work, though\n",
      "  check_attribute_name(name)\n"
     ]
    },
    {
     "name": "stdout",
     "output_type": "stream",
     "text": [
      "Crawling *Annual* Financial Summary of *LG상사-215000*...\n"
     ]
    },
    {
     "name": "stderr",
     "output_type": "stream",
     "text": [
      "C:\\anaconda3\\lib\\site-packages\\tables\\path.py:155: NaturalNameWarning: object name is not a valid Python identifier: '215000'; it does not match the pattern ``^[a-zA-Z_][a-zA-Z0-9_]*$``; you will not be able to use natural naming to access this object; using ``getattr()`` will still work, though\n",
      "  check_attribute_name(name)\n"
     ]
    },
    {
     "name": "stdout",
     "output_type": "stream",
     "text": [
      "Crawling *Annual* Financial Summary of *대한제분-215090*...\n"
     ]
    },
    {
     "name": "stderr",
     "output_type": "stream",
     "text": [
      "C:\\anaconda3\\lib\\site-packages\\tables\\path.py:155: NaturalNameWarning: object name is not a valid Python identifier: '215090'; it does not match the pattern ``^[a-zA-Z_][a-zA-Z0-9_]*$``; you will not be able to use natural naming to access this object; using ``getattr()`` will still work, though\n",
      "  check_attribute_name(name)\n"
     ]
    },
    {
     "name": "stdout",
     "output_type": "stream",
     "text": [
      "Crawling *Annual* Financial Summary of *국보-215100*...\n"
     ]
    },
    {
     "name": "stderr",
     "output_type": "stream",
     "text": [
      "C:\\anaconda3\\lib\\site-packages\\tables\\path.py:155: NaturalNameWarning: object name is not a valid Python identifier: '215100'; it does not match the pattern ``^[a-zA-Z_][a-zA-Z0-9_]*$``; you will not be able to use natural naming to access this object; using ``getattr()`` will still work, though\n",
      "  check_attribute_name(name)\n"
     ]
    },
    {
     "name": "stdout",
     "output_type": "stream",
     "text": [
      "Crawling *Annual* Financial Summary of *유진증권-215200*...\n"
     ]
    },
    {
     "name": "stderr",
     "output_type": "stream",
     "text": [
      "C:\\anaconda3\\lib\\site-packages\\tables\\path.py:155: NaturalNameWarning: object name is not a valid Python identifier: '215200'; it does not match the pattern ``^[a-zA-Z_][a-zA-Z0-9_]*$``; you will not be able to use natural naming to access this object; using ``getattr()`` will still work, though\n",
      "  check_attribute_name(name)\n"
     ]
    },
    {
     "name": "stdout",
     "output_type": "stream",
     "text": [
      "Crawling *Annual* Financial Summary of *금호전기-215360*...\n"
     ]
    },
    {
     "name": "stderr",
     "output_type": "stream",
     "text": [
      "C:\\anaconda3\\lib\\site-packages\\tables\\path.py:155: NaturalNameWarning: object name is not a valid Python identifier: '215360'; it does not match the pattern ``^[a-zA-Z_][a-zA-Z0-9_]*$``; you will not be able to use natural naming to access this object; using ``getattr()`` will still work, though\n",
      "  check_attribute_name(name)\n"
     ]
    },
    {
     "name": "stdout",
     "output_type": "stream",
     "text": [
      "Crawling *Annual* Financial Summary of *동국제강-215380*...\n"
     ]
    },
    {
     "name": "stderr",
     "output_type": "stream",
     "text": [
      "C:\\anaconda3\\lib\\site-packages\\tables\\path.py:155: NaturalNameWarning: object name is not a valid Python identifier: '215380'; it does not match the pattern ``^[a-zA-Z_][a-zA-Z0-9_]*$``; you will not be able to use natural naming to access this object; using ``getattr()`` will still work, though\n",
      "  check_attribute_name(name)\n"
     ]
    },
    {
     "name": "stdout",
     "output_type": "stream",
     "text": [
      "Crawling *Annual* Financial Summary of *GS글로벌-215480*...\n"
     ]
    },
    {
     "name": "stderr",
     "output_type": "stream",
     "text": [
      "C:\\anaconda3\\lib\\site-packages\\tables\\path.py:155: NaturalNameWarning: object name is not a valid Python identifier: '215480'; it does not match the pattern ``^[a-zA-Z_][a-zA-Z0-9_]*$``; you will not be able to use natural naming to access this object; using ``getattr()`` will still work, though\n",
      "  check_attribute_name(name)\n"
     ]
    },
    {
     "name": "stdout",
     "output_type": "stream",
     "text": [
      "Crawling *Annual* Financial Summary of *남광토건-215600*...\n"
     ]
    },
    {
     "name": "stderr",
     "output_type": "stream",
     "text": [
      "C:\\anaconda3\\lib\\site-packages\\tables\\path.py:155: NaturalNameWarning: object name is not a valid Python identifier: '215600'; it does not match the pattern ``^[a-zA-Z_][a-zA-Z0-9_]*$``; you will not be able to use natural naming to access this object; using ``getattr()`` will still work, though\n",
      "  check_attribute_name(name)\n"
     ]
    },
    {
     "name": "stdout",
     "output_type": "stream",
     "text": [
      "Crawling *Annual* Financial Summary of *부국증권-215790*...\n"
     ]
    },
    {
     "name": "stderr",
     "output_type": "stream",
     "text": [
      "C:\\anaconda3\\lib\\site-packages\\tables\\path.py:155: NaturalNameWarning: object name is not a valid Python identifier: '215790'; it does not match the pattern ``^[a-zA-Z_][a-zA-Z0-9_]*$``; you will not be able to use natural naming to access this object; using ``getattr()`` will still work, though\n",
      "  check_attribute_name(name)\n"
     ]
    },
    {
     "name": "stdout",
     "output_type": "stream",
     "text": [
      "Crawling *Annual* Financial Summary of *상상인증권-216050*...\n"
     ]
    },
    {
     "name": "stderr",
     "output_type": "stream",
     "text": [
      "C:\\anaconda3\\lib\\site-packages\\tables\\path.py:155: NaturalNameWarning: object name is not a valid Python identifier: '216050'; it does not match the pattern ``^[a-zA-Z_][a-zA-Z0-9_]*$``; you will not be able to use natural naming to access this object; using ``getattr()`` will still work, though\n",
      "  check_attribute_name(name)\n"
     ]
    },
    {
     "name": "stdout",
     "output_type": "stream",
     "text": [
      "Crawling *Annual* Financial Summary of *백광산업-216080*...\n"
     ]
    },
    {
     "name": "stderr",
     "output_type": "stream",
     "text": [
      "C:\\anaconda3\\lib\\site-packages\\tables\\path.py:155: NaturalNameWarning: object name is not a valid Python identifier: '216080'; it does not match the pattern ``^[a-zA-Z_][a-zA-Z0-9_]*$``; you will not be able to use natural naming to access this object; using ``getattr()`` will still work, though\n",
      "  check_attribute_name(name)\n"
     ]
    },
    {
     "name": "stdout",
     "output_type": "stream",
     "text": [
      "Crawling *Annual* Financial Summary of *삼성제약-217190*...\n"
     ]
    },
    {
     "name": "stderr",
     "output_type": "stream",
     "text": [
      "C:\\anaconda3\\lib\\site-packages\\tables\\path.py:155: NaturalNameWarning: object name is not a valid Python identifier: '217190'; it does not match the pattern ``^[a-zA-Z_][a-zA-Z0-9_]*$``; you will not be able to use natural naming to access this object; using ``getattr()`` will still work, though\n",
      "  check_attribute_name(name)\n"
     ]
    },
    {
     "name": "stdout",
     "output_type": "stream",
     "text": [
      "Crawling *Annual* Financial Summary of *SG충방-217270*...\n"
     ]
    },
    {
     "name": "stderr",
     "output_type": "stream",
     "text": [
      "C:\\anaconda3\\lib\\site-packages\\tables\\path.py:155: NaturalNameWarning: object name is not a valid Python identifier: '217270'; it does not match the pattern ``^[a-zA-Z_][a-zA-Z0-9_]*$``; you will not be able to use natural naming to access this object; using ``getattr()`` will still work, though\n",
      "  check_attribute_name(name)\n"
     ]
    },
    {
     "name": "stdout",
     "output_type": "stream",
     "text": [
      "Crawling *Annual* Financial Summary of *KG케미칼-217330*...\n"
     ]
    },
    {
     "name": "stderr",
     "output_type": "stream",
     "text": [
      "C:\\anaconda3\\lib\\site-packages\\tables\\path.py:155: NaturalNameWarning: object name is not a valid Python identifier: '217330'; it does not match the pattern ``^[a-zA-Z_][a-zA-Z0-9_]*$``; you will not be able to use natural naming to access this object; using ``getattr()`` will still work, though\n",
      "  check_attribute_name(name)\n"
     ]
    },
    {
     "name": "stdout",
     "output_type": "stream",
     "text": [
      "Crawling *Annual* Financial Summary of *태원물산-217480*...\n"
     ]
    },
    {
     "name": "stderr",
     "output_type": "stream",
     "text": [
      "C:\\anaconda3\\lib\\site-packages\\tables\\path.py:155: NaturalNameWarning: object name is not a valid Python identifier: '217480'; it does not match the pattern ``^[a-zA-Z_][a-zA-Z0-9_]*$``; you will not be able to use natural naming to access this object; using ``getattr()`` will still work, though\n",
      "  check_attribute_name(name)\n"
     ]
    },
    {
     "name": "stdout",
     "output_type": "stream",
     "text": [
      "Crawling *Annual* Financial Summary of *세아베스틸-217500*...\n"
     ]
    },
    {
     "name": "stderr",
     "output_type": "stream",
     "text": [
      "C:\\anaconda3\\lib\\site-packages\\tables\\path.py:155: NaturalNameWarning: object name is not a valid Python identifier: '217500'; it does not match the pattern ``^[a-zA-Z_][a-zA-Z0-9_]*$``; you will not be able to use natural naming to access this object; using ``getattr()`` will still work, though\n",
      "  check_attribute_name(name)\n"
     ]
    },
    {
     "name": "stdout",
     "output_type": "stream",
     "text": [
      "Crawling *Annual* Financial Summary of *대한전선-217600*...\n"
     ]
    },
    {
     "name": "stderr",
     "output_type": "stream",
     "text": [
      "C:\\anaconda3\\lib\\site-packages\\tables\\path.py:155: NaturalNameWarning: object name is not a valid Python identifier: '217600'; it does not match the pattern ``^[a-zA-Z_][a-zA-Z0-9_]*$``; you will not be able to use natural naming to access this object; using ``getattr()`` will still work, though\n",
      "  check_attribute_name(name)\n"
     ]
    },
    {
     "name": "stdout",
     "output_type": "stream",
     "text": [
      "Crawling *Annual* Financial Summary of *현대해상-217620*...\n"
     ]
    },
    {
     "name": "stderr",
     "output_type": "stream",
     "text": [
      "C:\\anaconda3\\lib\\site-packages\\tables\\path.py:155: NaturalNameWarning: object name is not a valid Python identifier: '217620'; it does not match the pattern ``^[a-zA-Z_][a-zA-Z0-9_]*$``; you will not be able to use natural naming to access this object; using ``getattr()`` will still work, though\n",
      "  check_attribute_name(name)\n"
     ]
    },
    {
     "name": "stdout",
     "output_type": "stream",
     "text": [
      "Crawling *Annual* Financial Summary of *BYC-217730*...\n"
     ]
    },
    {
     "name": "stderr",
     "output_type": "stream",
     "text": [
      "C:\\anaconda3\\lib\\site-packages\\tables\\path.py:155: NaturalNameWarning: object name is not a valid Python identifier: '217730'; it does not match the pattern ``^[a-zA-Z_][a-zA-Z0-9_]*$``; you will not be able to use natural naming to access this object; using ``getattr()`` will still work, though\n",
      "  check_attribute_name(name)\n"
     ]
    },
    {
     "name": "stdout",
     "output_type": "stream",
     "text": [
      "Crawling *Annual* Financial Summary of *삼부토건-217820*...\n"
     ]
    },
    {
     "name": "stderr",
     "output_type": "stream",
     "text": [
      "C:\\anaconda3\\lib\\site-packages\\tables\\path.py:155: NaturalNameWarning: object name is not a valid Python identifier: '217820'; it does not match the pattern ``^[a-zA-Z_][a-zA-Z0-9_]*$``; you will not be able to use natural naming to access this object; using ``getattr()`` will still work, though\n",
      "  check_attribute_name(name)\n"
     ]
    },
    {
     "name": "stdout",
     "output_type": "stream",
     "text": [
      "Crawling *Annual* Financial Summary of *현대차증권-218150*...\n"
     ]
    },
    {
     "name": "stderr",
     "output_type": "stream",
     "text": [
      "C:\\anaconda3\\lib\\site-packages\\tables\\path.py:155: NaturalNameWarning: object name is not a valid Python identifier: '218150'; it does not match the pattern ``^[a-zA-Z_][a-zA-Z0-9_]*$``; you will not be able to use natural naming to access this object; using ``getattr()`` will still work, though\n",
      "  check_attribute_name(name)\n"
     ]
    },
    {
     "name": "stdout",
     "output_type": "stream",
     "text": [
      "Crawling *Annual* Financial Summary of *SK증권-218410*...\n"
     ]
    },
    {
     "name": "stderr",
     "output_type": "stream",
     "text": [
      "C:\\anaconda3\\lib\\site-packages\\tables\\path.py:155: NaturalNameWarning: object name is not a valid Python identifier: '218410'; it does not match the pattern ``^[a-zA-Z_][a-zA-Z0-9_]*$``; you will not be able to use natural naming to access this object; using ``getattr()`` will still work, though\n",
      "  check_attribute_name(name)\n"
     ]
    },
    {
     "name": "stdout",
     "output_type": "stream",
     "text": [
      "Crawling *Annual* Financial Summary of *동양-219130*...\n"
     ]
    },
    {
     "name": "stderr",
     "output_type": "stream",
     "text": [
      "C:\\anaconda3\\lib\\site-packages\\tables\\path.py:155: NaturalNameWarning: object name is not a valid Python identifier: '219130'; it does not match the pattern ``^[a-zA-Z_][a-zA-Z0-9_]*$``; you will not be able to use natural naming to access this object; using ``getattr()`` will still work, though\n",
      "  check_attribute_name(name)\n"
     ]
    },
    {
     "name": "stdout",
     "output_type": "stream",
     "text": [
      "Crawling *Annual* Financial Summary of *디아이동일-219420*...\n"
     ]
    },
    {
     "name": "stderr",
     "output_type": "stream",
     "text": [
      "C:\\anaconda3\\lib\\site-packages\\tables\\path.py:155: NaturalNameWarning: object name is not a valid Python identifier: '219420'; it does not match the pattern ``^[a-zA-Z_][a-zA-Z0-9_]*$``; you will not be able to use natural naming to access this object; using ``getattr()`` will still work, though\n",
      "  check_attribute_name(name)\n"
     ]
    },
    {
     "name": "stdout",
     "output_type": "stream",
     "text": [
      "Crawling *Annual* Financial Summary of *안국약품-219550*...\n"
     ]
    },
    {
     "name": "stderr",
     "output_type": "stream",
     "text": [
      "C:\\anaconda3\\lib\\site-packages\\tables\\path.py:155: NaturalNameWarning: object name is not a valid Python identifier: '219550'; it does not match the pattern ``^[a-zA-Z_][a-zA-Z0-9_]*$``; you will not be able to use natural naming to access this object; using ``getattr()`` will still work, though\n",
      "  check_attribute_name(name)\n"
     ]
    },
    {
     "name": "stdout",
     "output_type": "stream",
     "text": [
      "Crawling *Annual* Financial Summary of *조비-219750*...\n"
     ]
    },
    {
     "name": "stderr",
     "output_type": "stream",
     "text": [
      "C:\\anaconda3\\lib\\site-packages\\tables\\path.py:155: NaturalNameWarning: object name is not a valid Python identifier: '219750'; it does not match the pattern ``^[a-zA-Z_][a-zA-Z0-9_]*$``; you will not be able to use natural naming to access this object; using ``getattr()`` will still work, though\n",
      "  check_attribute_name(name)\n"
     ]
    },
    {
     "name": "stdout",
     "output_type": "stream",
     "text": [
      "Crawling *Annual* Financial Summary of *제일연마-220100*...\n"
     ]
    },
    {
     "name": "stderr",
     "output_type": "stream",
     "text": [
      "C:\\anaconda3\\lib\\site-packages\\tables\\path.py:155: NaturalNameWarning: object name is not a valid Python identifier: '220100'; it does not match the pattern ``^[a-zA-Z_][a-zA-Z0-9_]*$``; you will not be able to use natural naming to access this object; using ``getattr()`` will still work, though\n",
      "  check_attribute_name(name)\n"
     ]
    },
    {
     "name": "stdout",
     "output_type": "stream",
     "text": [
      "Crawling *Annual* Financial Summary of *금양-220180*...\n"
     ]
    },
    {
     "name": "stderr",
     "output_type": "stream",
     "text": [
      "C:\\anaconda3\\lib\\site-packages\\tables\\path.py:155: NaturalNameWarning: object name is not a valid Python identifier: '220180'; it does not match the pattern ``^[a-zA-Z_][a-zA-Z0-9_]*$``; you will not be able to use natural naming to access this object; using ``getattr()`` will still work, though\n",
      "  check_attribute_name(name)\n"
     ]
    },
    {
     "name": "stdout",
     "output_type": "stream",
     "text": [
      "Crawling *Annual* Financial Summary of *케이비아이동국실업-220260*...\n"
     ]
    },
    {
     "name": "stderr",
     "output_type": "stream",
     "text": [
      "C:\\anaconda3\\lib\\site-packages\\tables\\path.py:155: NaturalNameWarning: object name is not a valid Python identifier: '220260'; it does not match the pattern ``^[a-zA-Z_][a-zA-Z0-9_]*$``; you will not be able to use natural naming to access this object; using ``getattr()`` will still work, though\n",
      "  check_attribute_name(name)\n"
     ]
    },
    {
     "name": "stdout",
     "output_type": "stream",
     "text": [
      "Crawling *Annual* Financial Summary of *종근당홀딩스-220630*...\n"
     ]
    },
    {
     "name": "stderr",
     "output_type": "stream",
     "text": [
      "C:\\anaconda3\\lib\\site-packages\\tables\\path.py:155: NaturalNameWarning: object name is not a valid Python identifier: '220630'; it does not match the pattern ``^[a-zA-Z_][a-zA-Z0-9_]*$``; you will not be able to use natural naming to access this object; using ``getattr()`` will still work, though\n",
      "  check_attribute_name(name)\n"
     ]
    },
    {
     "name": "stdout",
     "output_type": "stream",
     "text": [
      "Crawling *Annual* Financial Summary of *대상-221610*...\n"
     ]
    },
    {
     "name": "stderr",
     "output_type": "stream",
     "text": [
      "C:\\anaconda3\\lib\\site-packages\\tables\\path.py:155: NaturalNameWarning: object name is not a valid Python identifier: '221610'; it does not match the pattern ``^[a-zA-Z_][a-zA-Z0-9_]*$``; you will not be able to use natural naming to access this object; using ``getattr()`` will still work, though\n",
      "  check_attribute_name(name)\n"
     ]
    },
    {
     "name": "stdout",
     "output_type": "stream",
     "text": [
      "Crawling *Annual* Financial Summary of *신영증권-221840*...\n"
     ]
    },
    {
     "name": "stderr",
     "output_type": "stream",
     "text": [
      "C:\\anaconda3\\lib\\site-packages\\tables\\path.py:155: NaturalNameWarning: object name is not a valid Python identifier: '221840'; it does not match the pattern ``^[a-zA-Z_][a-zA-Z0-9_]*$``; you will not be able to use natural naming to access this object; using ``getattr()`` will still work, though\n",
      "  check_attribute_name(name)\n"
     ]
    },
    {
     "name": "stdout",
     "output_type": "stream",
     "text": [
      "Crawling *Annual* Financial Summary of *SK네트웍스-221980*...\n"
     ]
    },
    {
     "name": "stderr",
     "output_type": "stream",
     "text": [
      "C:\\anaconda3\\lib\\site-packages\\tables\\path.py:155: NaturalNameWarning: object name is not a valid Python identifier: '221980'; it does not match the pattern ``^[a-zA-Z_][a-zA-Z0-9_]*$``; you will not be able to use natural naming to access this object; using ``getattr()`` will still work, though\n",
      "  check_attribute_name(name)\n"
     ]
    },
    {
     "name": "stdout",
     "output_type": "stream",
     "text": [
      "Crawling *Annual* Financial Summary of *한양증권-222040*...\n"
     ]
    },
    {
     "name": "stderr",
     "output_type": "stream",
     "text": [
      "C:\\anaconda3\\lib\\site-packages\\tables\\path.py:155: NaturalNameWarning: object name is not a valid Python identifier: '222040'; it does not match the pattern ``^[a-zA-Z_][a-zA-Z0-9_]*$``; you will not be able to use natural naming to access this object; using ``getattr()`` will still work, though\n",
      "  check_attribute_name(name)\n"
     ]
    },
    {
     "name": "stdout",
     "output_type": "stream",
     "text": [
      "Crawling *Annual* Financial Summary of *신화실업-222080*...\n"
     ]
    },
    {
     "name": "stderr",
     "output_type": "stream",
     "text": [
      "C:\\anaconda3\\lib\\site-packages\\tables\\path.py:155: NaturalNameWarning: object name is not a valid Python identifier: '222080'; it does not match the pattern ``^[a-zA-Z_][a-zA-Z0-9_]*$``; you will not be able to use natural naming to access this object; using ``getattr()`` will still work, though\n",
      "  check_attribute_name(name)\n"
     ]
    },
    {
     "name": "stdout",
     "output_type": "stream",
     "text": [
      "Crawling *Annual* Financial Summary of *알루코-222110*...\n"
     ]
    },
    {
     "name": "stderr",
     "output_type": "stream",
     "text": [
      "C:\\anaconda3\\lib\\site-packages\\tables\\path.py:155: NaturalNameWarning: object name is not a valid Python identifier: '222110'; it does not match the pattern ``^[a-zA-Z_][a-zA-Z0-9_]*$``; you will not be able to use natural naming to access this object; using ``getattr()`` will still work, though\n",
      "  check_attribute_name(name)\n"
     ]
    },
    {
     "name": "stdout",
     "output_type": "stream",
     "text": [
      "Crawling *Annual* Financial Summary of *대한제당-222420*...\n"
     ]
    },
    {
     "name": "stderr",
     "output_type": "stream",
     "text": [
      "C:\\anaconda3\\lib\\site-packages\\tables\\path.py:155: NaturalNameWarning: object name is not a valid Python identifier: '222420'; it does not match the pattern ``^[a-zA-Z_][a-zA-Z0-9_]*$``; you will not be able to use natural naming to access this object; using ``getattr()`` will still work, though\n",
      "  check_attribute_name(name)\n"
     ]
    },
    {
     "name": "stdout",
     "output_type": "stream",
     "text": [
      "Crawling *Annual* Financial Summary of *오리온홀딩스-222800*...\n"
     ]
    },
    {
     "name": "stderr",
     "output_type": "stream",
     "text": [
      "C:\\anaconda3\\lib\\site-packages\\tables\\path.py:155: NaturalNameWarning: object name is not a valid Python identifier: '222800'; it does not match the pattern ``^[a-zA-Z_][a-zA-Z0-9_]*$``; you will not be able to use natural naming to access this object; using ``getattr()`` will still work, though\n",
      "  check_attribute_name(name)\n"
     ]
    },
    {
     "name": "stdout",
     "output_type": "stream",
     "text": [
      "Crawling *Annual* Financial Summary of *무림SP-222810*...\n"
     ]
    },
    {
     "name": "stderr",
     "output_type": "stream",
     "text": [
      "C:\\anaconda3\\lib\\site-packages\\tables\\path.py:155: NaturalNameWarning: object name is not a valid Python identifier: '222810'; it does not match the pattern ``^[a-zA-Z_][a-zA-Z0-9_]*$``; you will not be able to use natural naming to access this object; using ``getattr()`` will still work, though\n",
      "  check_attribute_name(name)\n"
     ]
    },
    {
     "name": "stdout",
     "output_type": "stream",
     "text": [
      "Crawling *Annual* Financial Summary of *삼화콘덴서공업-222980*...\n"
     ]
    },
    {
     "name": "stderr",
     "output_type": "stream",
     "text": [
      "C:\\anaconda3\\lib\\site-packages\\tables\\path.py:155: NaturalNameWarning: object name is not a valid Python identifier: '222980'; it does not match the pattern ``^[a-zA-Z_][a-zA-Z0-9_]*$``; you will not be able to use natural naming to access this object; using ``getattr()`` will still work, though\n",
      "  check_attribute_name(name)\n"
     ]
    },
    {
     "name": "stdout",
     "output_type": "stream",
     "text": [
      "Crawling *Annual* Financial Summary of *이화공영-223250*...\n"
     ]
    },
    {
     "name": "stderr",
     "output_type": "stream",
     "text": [
      "C:\\anaconda3\\lib\\site-packages\\tables\\path.py:155: NaturalNameWarning: object name is not a valid Python identifier: '223250'; it does not match the pattern ``^[a-zA-Z_][a-zA-Z0-9_]*$``; you will not be able to use natural naming to access this object; using ``getattr()`` will still work, though\n",
      "  check_attribute_name(name)\n"
     ]
    },
    {
     "name": "stdout",
     "output_type": "stream",
     "text": [
      "Crawling *Annual* Financial Summary of *대림건설-223310*...\n"
     ]
    },
    {
     "name": "stderr",
     "output_type": "stream",
     "text": [
      "C:\\anaconda3\\lib\\site-packages\\tables\\path.py:155: NaturalNameWarning: object name is not a valid Python identifier: '223310'; it does not match the pattern ``^[a-zA-Z_][a-zA-Z0-9_]*$``; you will not be able to use natural naming to access this object; using ``getattr()`` will still work, though\n",
      "  check_attribute_name(name)\n"
     ]
    },
    {
     "name": "stdout",
     "output_type": "stream",
     "text": [
      "Crawling *Annual* Financial Summary of *KISCO홀딩스-224060*...\n"
     ]
    },
    {
     "name": "stderr",
     "output_type": "stream",
     "text": [
      "C:\\anaconda3\\lib\\site-packages\\tables\\path.py:155: NaturalNameWarning: object name is not a valid Python identifier: '224060'; it does not match the pattern ``^[a-zA-Z_][a-zA-Z0-9_]*$``; you will not be able to use natural naming to access this object; using ``getattr()`` will still work, though\n",
      "  check_attribute_name(name)\n"
     ]
    },
    {
     "name": "stdout",
     "output_type": "stream",
     "text": [
      "Crawling *Annual* Financial Summary of *코오롱-224110*...\n"
     ]
    },
    {
     "name": "stderr",
     "output_type": "stream",
     "text": [
      "C:\\anaconda3\\lib\\site-packages\\tables\\path.py:155: NaturalNameWarning: object name is not a valid Python identifier: '224110'; it does not match the pattern ``^[a-zA-Z_][a-zA-Z0-9_]*$``; you will not be able to use natural naming to access this object; using ``getattr()`` will still work, though\n",
      "  check_attribute_name(name)\n"
     ]
    },
    {
     "name": "stdout",
     "output_type": "stream",
     "text": [
      "Crawling *Annual* Financial Summary of *아세아-225190*...\n"
     ]
    },
    {
     "name": "stderr",
     "output_type": "stream",
     "text": [
      "C:\\anaconda3\\lib\\site-packages\\tables\\path.py:155: NaturalNameWarning: object name is not a valid Python identifier: '225190'; it does not match the pattern ``^[a-zA-Z_][a-zA-Z0-9_]*$``; you will not be able to use natural naming to access this object; using ``getattr()`` will still work, though\n",
      "  check_attribute_name(name)\n"
     ]
    },
    {
     "name": "stdout",
     "output_type": "stream",
     "text": [
      "Crawling *Annual* Financial Summary of *비비안-225220*...\n"
     ]
    },
    {
     "name": "stderr",
     "output_type": "stream",
     "text": [
      "C:\\anaconda3\\lib\\site-packages\\tables\\path.py:155: NaturalNameWarning: object name is not a valid Python identifier: '225220'; it does not match the pattern ``^[a-zA-Z_][a-zA-Z0-9_]*$``; you will not be able to use natural naming to access this object; using ``getattr()`` will still work, though\n",
      "  check_attribute_name(name)\n"
     ]
    },
    {
     "name": "stdout",
     "output_type": "stream",
     "text": [
      "Crawling *Annual* Financial Summary of *경농-225330*...\n"
     ]
    },
    {
     "name": "stderr",
     "output_type": "stream",
     "text": [
      "C:\\anaconda3\\lib\\site-packages\\tables\\path.py:155: NaturalNameWarning: object name is not a valid Python identifier: '225330'; it does not match the pattern ``^[a-zA-Z_][a-zA-Z0-9_]*$``; you will not be able to use natural naming to access this object; using ``getattr()`` will still work, though\n",
      "  check_attribute_name(name)\n"
     ]
    },
    {
     "name": "stdout",
     "output_type": "stream",
     "text": [
      "Crawling *Annual* Financial Summary of *고려산업-225430*...\n"
     ]
    },
    {
     "name": "stderr",
     "output_type": "stream",
     "text": [
      "C:\\anaconda3\\lib\\site-packages\\tables\\path.py:155: NaturalNameWarning: object name is not a valid Python identifier: '225430'; it does not match the pattern ``^[a-zA-Z_][a-zA-Z0-9_]*$``; you will not be able to use natural naming to access this object; using ``getattr()`` will still work, though\n",
      "  check_attribute_name(name)\n"
     ]
    },
    {
     "name": "stdout",
     "output_type": "stream",
     "text": [
      "Crawling *Annual* Financial Summary of *도화엔지니어링-225530*...\n"
     ]
    },
    {
     "name": "stderr",
     "output_type": "stream",
     "text": [
      "C:\\anaconda3\\lib\\site-packages\\tables\\path.py:155: NaturalNameWarning: object name is not a valid Python identifier: '225530'; it does not match the pattern ``^[a-zA-Z_][a-zA-Z0-9_]*$``; you will not be able to use natural naming to access this object; using ``getattr()`` will still work, though\n",
      "  check_attribute_name(name)\n"
     ]
    },
    {
     "name": "stdout",
     "output_type": "stream",
     "text": [
      "Crawling *Annual* Financial Summary of *삼양통상-225570*...\n"
     ]
    },
    {
     "name": "stderr",
     "output_type": "stream",
     "text": [
      "C:\\anaconda3\\lib\\site-packages\\tables\\path.py:155: NaturalNameWarning: object name is not a valid Python identifier: '225570'; it does not match the pattern ``^[a-zA-Z_][a-zA-Z0-9_]*$``; you will not be able to use natural naming to access this object; using ``getattr()`` will still work, though\n",
      "  check_attribute_name(name)\n"
     ]
    },
    {
     "name": "stdout",
     "output_type": "stream",
     "text": [
      "Crawling *Annual* Financial Summary of *한국수출포장공업-225590*...\n"
     ]
    },
    {
     "name": "stderr",
     "output_type": "stream",
     "text": [
      "C:\\anaconda3\\lib\\site-packages\\tables\\path.py:155: NaturalNameWarning: object name is not a valid Python identifier: '225590'; it does not match the pattern ``^[a-zA-Z_][a-zA-Z0-9_]*$``; you will not be able to use natural naming to access this object; using ``getattr()`` will still work, though\n",
      "  check_attribute_name(name)\n"
     ]
    },
    {
     "name": "stdout",
     "output_type": "stream",
     "text": [
      "Crawling *Annual* Financial Summary of *동성제약-226320*...\n"
     ]
    },
    {
     "name": "stderr",
     "output_type": "stream",
     "text": [
      "C:\\anaconda3\\lib\\site-packages\\tables\\path.py:155: NaturalNameWarning: object name is not a valid Python identifier: '226320'; it does not match the pattern ``^[a-zA-Z_][a-zA-Z0-9_]*$``; you will not be able to use natural naming to access this object; using ``getattr()`` will still work, though\n",
      "  check_attribute_name(name)\n"
     ]
    },
    {
     "name": "stdout",
     "output_type": "stream",
     "text": [
      "Crawling *Annual* Financial Summary of *한일철강-226330*...\n"
     ]
    },
    {
     "name": "stderr",
     "output_type": "stream",
     "text": [
      "C:\\anaconda3\\lib\\site-packages\\tables\\path.py:155: NaturalNameWarning: object name is not a valid Python identifier: '226330'; it does not match the pattern ``^[a-zA-Z_][a-zA-Z0-9_]*$``; you will not be able to use natural naming to access this object; using ``getattr()`` will still work, though\n",
      "  check_attribute_name(name)\n"
     ]
    },
    {
     "name": "stdout",
     "output_type": "stream",
     "text": [
      "Crawling *Annual* Financial Summary of *피에스텍-226340*...\n"
     ]
    },
    {
     "name": "stderr",
     "output_type": "stream",
     "text": [
      "C:\\anaconda3\\lib\\site-packages\\tables\\path.py:155: NaturalNameWarning: object name is not a valid Python identifier: '226340'; it does not match the pattern ``^[a-zA-Z_][a-zA-Z0-9_]*$``; you will not be able to use natural naming to access this object; using ``getattr()`` will still work, though\n",
      "  check_attribute_name(name)\n"
     ]
    },
    {
     "name": "stdout",
     "output_type": "stream",
     "text": [
      "Crawling *Annual* Financial Summary of *고려제강-226350*...\n"
     ]
    },
    {
     "name": "stderr",
     "output_type": "stream",
     "text": [
      "C:\\anaconda3\\lib\\site-packages\\tables\\path.py:155: NaturalNameWarning: object name is not a valid Python identifier: '226350'; it does not match the pattern ``^[a-zA-Z_][a-zA-Z0-9_]*$``; you will not be able to use natural naming to access this object; using ``getattr()`` will still work, though\n",
      "  check_attribute_name(name)\n"
     ]
    },
    {
     "name": "stdout",
     "output_type": "stream",
     "text": [
      "Crawling *Annual* Financial Summary of *롯데푸드-226360*...\n"
     ]
    },
    {
     "name": "stderr",
     "output_type": "stream",
     "text": [
      "C:\\anaconda3\\lib\\site-packages\\tables\\path.py:155: NaturalNameWarning: object name is not a valid Python identifier: '226360'; it does not match the pattern ``^[a-zA-Z_][a-zA-Z0-9_]*$``; you will not be able to use natural naming to access this object; using ``getattr()`` will still work, though\n",
      "  check_attribute_name(name)\n"
     ]
    },
    {
     "name": "stdout",
     "output_type": "stream",
     "text": [
      "Crawling *Annual* Financial Summary of *삼일기업공사-226400*...\n"
     ]
    },
    {
     "name": "stderr",
     "output_type": "stream",
     "text": [
      "C:\\anaconda3\\lib\\site-packages\\tables\\path.py:155: NaturalNameWarning: object name is not a valid Python identifier: '226400'; it does not match the pattern ``^[a-zA-Z_][a-zA-Z0-9_]*$``; you will not be able to use natural naming to access this object; using ``getattr()`` will still work, though\n",
      "  check_attribute_name(name)\n"
     ]
    },
    {
     "name": "stdout",
     "output_type": "stream",
     "text": [
      "Crawling *Annual* Financial Summary of *아세아제지-226440*...\n"
     ]
    },
    {
     "name": "stderr",
     "output_type": "stream",
     "text": [
      "C:\\anaconda3\\lib\\site-packages\\tables\\path.py:155: NaturalNameWarning: object name is not a valid Python identifier: '226440'; it does not match the pattern ``^[a-zA-Z_][a-zA-Z0-9_]*$``; you will not be able to use natural naming to access this object; using ``getattr()`` will still work, though\n",
      "  check_attribute_name(name)\n"
     ]
    },
    {
     "name": "stdout",
     "output_type": "stream",
     "text": [
      "Crawling *Annual* Financial Summary of *한진-226950*...\n"
     ]
    },
    {
     "name": "stderr",
     "output_type": "stream",
     "text": [
      "C:\\anaconda3\\lib\\site-packages\\tables\\path.py:155: NaturalNameWarning: object name is not a valid Python identifier: '226950'; it does not match the pattern ``^[a-zA-Z_][a-zA-Z0-9_]*$``; you will not be able to use natural naming to access this object; using ``getattr()`` will still work, though\n",
      "  check_attribute_name(name)\n"
     ]
    },
    {
     "name": "stdout",
     "output_type": "stream",
     "text": [
      "Crawling *Annual* Financial Summary of *넥센타이어-227100*...\n"
     ]
    },
    {
     "name": "stderr",
     "output_type": "stream",
     "text": [
      "C:\\anaconda3\\lib\\site-packages\\tables\\path.py:155: NaturalNameWarning: object name is not a valid Python identifier: '227100'; it does not match the pattern ``^[a-zA-Z_][a-zA-Z0-9_]*$``; you will not be able to use natural naming to access this object; using ``getattr()`` will still work, though\n",
      "  check_attribute_name(name)\n"
     ]
    },
    {
     "name": "stdout",
     "output_type": "stream",
     "text": [
      "Crawling *Annual* Financial Summary of *SH에너지화학-227610*...\n"
     ]
    },
    {
     "name": "stderr",
     "output_type": "stream",
     "text": [
      "C:\\anaconda3\\lib\\site-packages\\tables\\path.py:155: NaturalNameWarning: object name is not a valid Python identifier: '227610'; it does not match the pattern ``^[a-zA-Z_][a-zA-Z0-9_]*$``; you will not be able to use natural naming to access this object; using ``getattr()`` will still work, though\n",
      "  check_attribute_name(name)\n"
     ]
    },
    {
     "name": "stdout",
     "output_type": "stream",
     "text": [
      "Crawling *Annual* Financial Summary of *케이씨씨-227840*...\n"
     ]
    },
    {
     "name": "stderr",
     "output_type": "stream",
     "text": [
      "C:\\anaconda3\\lib\\site-packages\\tables\\path.py:155: NaturalNameWarning: object name is not a valid Python identifier: '227840'; it does not match the pattern ``^[a-zA-Z_][a-zA-Z0-9_]*$``; you will not be able to use natural naming to access this object; using ``getattr()`` will still work, though\n",
      "  check_attribute_name(name)\n"
     ]
    },
    {
     "name": "stdout",
     "output_type": "stream",
     "text": [
      "Crawling *Annual* Financial Summary of *한독-227950*...\n"
     ]
    },
    {
     "name": "stderr",
     "output_type": "stream",
     "text": [
      "C:\\anaconda3\\lib\\site-packages\\tables\\path.py:155: NaturalNameWarning: object name is not a valid Python identifier: '227950'; it does not match the pattern ``^[a-zA-Z_][a-zA-Z0-9_]*$``; you will not be able to use natural naming to access this object; using ``getattr()`` will still work, though\n",
      "  check_attribute_name(name)\n"
     ]
    },
    {
     "name": "stdout",
     "output_type": "stream",
     "text": [
      "Crawling *Annual* Financial Summary of *범양건영-228340*...\n"
     ]
    },
    {
     "name": "stderr",
     "output_type": "stream",
     "text": [
      "C:\\anaconda3\\lib\\site-packages\\tables\\path.py:155: NaturalNameWarning: object name is not a valid Python identifier: '228340'; it does not match the pattern ``^[a-zA-Z_][a-zA-Z0-9_]*$``; you will not be able to use natural naming to access this object; using ``getattr()`` will still work, though\n",
      "  check_attribute_name(name)\n"
     ]
    },
    {
     "name": "stdout",
     "output_type": "stream",
     "text": [
      "Crawling *Annual* Financial Summary of *세기상사-228670*...\n"
     ]
    },
    {
     "name": "stderr",
     "output_type": "stream",
     "text": [
      "C:\\anaconda3\\lib\\site-packages\\tables\\path.py:155: NaturalNameWarning: object name is not a valid Python identifier: '228670'; it does not match the pattern ``^[a-zA-Z_][a-zA-Z0-9_]*$``; you will not be able to use natural naming to access this object; using ``getattr()`` will still work, though\n",
      "  check_attribute_name(name)\n"
     ]
    },
    {
     "name": "stdout",
     "output_type": "stream",
     "text": [
      "Crawling *Annual* Financial Summary of *삼익악기-228760*...\n"
     ]
    },
    {
     "name": "stderr",
     "output_type": "stream",
     "text": [
      "C:\\anaconda3\\lib\\site-packages\\tables\\path.py:155: NaturalNameWarning: object name is not a valid Python identifier: '228760'; it does not match the pattern ``^[a-zA-Z_][a-zA-Z0-9_]*$``; you will not be able to use natural naming to access this object; using ``getattr()`` will still work, though\n",
      "  check_attribute_name(name)\n"
     ]
    },
    {
     "name": "stdout",
     "output_type": "stream",
     "text": [
      "Crawling *Annual* Financial Summary of *화성산업-228850*...\n"
     ]
    },
    {
     "name": "stderr",
     "output_type": "stream",
     "text": [
      "C:\\anaconda3\\lib\\site-packages\\tables\\path.py:155: NaturalNameWarning: object name is not a valid Python identifier: '228850'; it does not match the pattern ``^[a-zA-Z_][a-zA-Z0-9_]*$``; you will not be able to use natural naming to access this object; using ``getattr()`` will still work, though\n",
      "  check_attribute_name(name)\n"
     ]
    },
    {
     "name": "stdout",
     "output_type": "stream",
     "text": [
      "Crawling *Annual* Financial Summary of *조흥-229000*...\n"
     ]
    },
    {
     "name": "stderr",
     "output_type": "stream",
     "text": [
      "C:\\anaconda3\\lib\\site-packages\\tables\\path.py:155: NaturalNameWarning: object name is not a valid Python identifier: '229000'; it does not match the pattern ``^[a-zA-Z_][a-zA-Z0-9_]*$``; you will not be able to use natural naming to access this object; using ``getattr()`` will still work, though\n",
      "  check_attribute_name(name)\n"
     ]
    },
    {
     "name": "stdout",
     "output_type": "stream",
     "text": [
      "Crawling *Annual* Financial Summary of *제일파마홀딩스-229640*...\n"
     ]
    },
    {
     "name": "stderr",
     "output_type": "stream",
     "text": [
      "C:\\anaconda3\\lib\\site-packages\\tables\\path.py:155: NaturalNameWarning: object name is not a valid Python identifier: '229640'; it does not match the pattern ``^[a-zA-Z_][a-zA-Z0-9_]*$``; you will not be able to use natural naming to access this object; using ``getattr()`` will still work, though\n",
      "  check_attribute_name(name)\n"
     ]
    },
    {
     "name": "stdout",
     "output_type": "stream",
     "text": [
      "Crawling *Annual* Financial Summary of *오리엔트바이오-230240*...\n"
     ]
    },
    {
     "name": "stderr",
     "output_type": "stream",
     "text": [
      "C:\\anaconda3\\lib\\site-packages\\tables\\path.py:155: NaturalNameWarning: object name is not a valid Python identifier: '230240'; it does not match the pattern ``^[a-zA-Z_][a-zA-Z0-9_]*$``; you will not be able to use natural naming to access this object; using ``getattr()`` will still work, though\n",
      "  check_attribute_name(name)\n"
     ]
    },
    {
     "name": "stdout",
     "output_type": "stream",
     "text": [
      "Crawling *Annual* Financial Summary of *한탑-230360*...\n"
     ]
    },
    {
     "name": "stderr",
     "output_type": "stream",
     "text": [
      "C:\\anaconda3\\lib\\site-packages\\tables\\path.py:155: NaturalNameWarning: object name is not a valid Python identifier: '230360'; it does not match the pattern ``^[a-zA-Z_][a-zA-Z0-9_]*$``; you will not be able to use natural naming to access this object; using ``getattr()`` will still work, though\n",
      "  check_attribute_name(name)\n"
     ]
    },
    {
     "name": "stdout",
     "output_type": "stream",
     "text": [
      "Crawling *Annual* Financial Summary of *동일제강-230980*...\n"
     ]
    },
    {
     "name": "stderr",
     "output_type": "stream",
     "text": [
      "C:\\anaconda3\\lib\\site-packages\\tables\\path.py:155: NaturalNameWarning: object name is not a valid Python identifier: '230980'; it does not match the pattern ``^[a-zA-Z_][a-zA-Z0-9_]*$``; you will not be able to use natural naming to access this object; using ``getattr()`` will still work, though\n",
      "  check_attribute_name(name)\n"
     ]
    },
    {
     "name": "stdout",
     "output_type": "stream",
     "text": [
      "Crawling *Annual* Financial Summary of *신일전자-232140*...\n"
     ]
    },
    {
     "name": "stderr",
     "output_type": "stream",
     "text": [
      "C:\\anaconda3\\lib\\site-packages\\tables\\path.py:155: NaturalNameWarning: object name is not a valid Python identifier: '232140'; it does not match the pattern ``^[a-zA-Z_][a-zA-Z0-9_]*$``; you will not be able to use natural naming to access this object; using ``getattr()`` will still work, though\n",
      "  check_attribute_name(name)\n"
     ]
    },
    {
     "name": "stdout",
     "output_type": "stream",
     "text": [
      "Crawling *Annual* Financial Summary of *TCC스틸-234080*...\n"
     ]
    },
    {
     "name": "stderr",
     "output_type": "stream",
     "text": [
      "C:\\anaconda3\\lib\\site-packages\\tables\\path.py:155: NaturalNameWarning: object name is not a valid Python identifier: '234080'; it does not match the pattern ``^[a-zA-Z_][a-zA-Z0-9_]*$``; you will not be able to use natural naming to access this object; using ``getattr()`` will still work, though\n",
      "  check_attribute_name(name)\n"
     ]
    },
    {
     "name": "stdout",
     "output_type": "stream",
     "text": [
      "Crawling *Annual* Financial Summary of *국제약품-234100*...\n"
     ]
    },
    {
     "name": "stderr",
     "output_type": "stream",
     "text": [
      "C:\\anaconda3\\lib\\site-packages\\tables\\path.py:155: NaturalNameWarning: object name is not a valid Python identifier: '234100'; it does not match the pattern ``^[a-zA-Z_][a-zA-Z0-9_]*$``; you will not be able to use natural naming to access this object; using ``getattr()`` will still work, though\n",
      "  check_attribute_name(name)\n"
     ]
    },
    {
     "name": "stdout",
     "output_type": "stream",
     "text": [
      "Crawling *Annual* Financial Summary of *보락-234300*...\n"
     ]
    },
    {
     "name": "stderr",
     "output_type": "stream",
     "text": [
      "C:\\anaconda3\\lib\\site-packages\\tables\\path.py:155: NaturalNameWarning: object name is not a valid Python identifier: '234300'; it does not match the pattern ``^[a-zA-Z_][a-zA-Z0-9_]*$``; you will not be able to use natural naming to access this object; using ``getattr()`` will still work, though\n",
      "  check_attribute_name(name)\n"
     ]
    },
    {
     "name": "stdout",
     "output_type": "stream",
     "text": [
      "Crawling *Annual* Financial Summary of *진흥기업-234340*...\n"
     ]
    },
    {
     "name": "stderr",
     "output_type": "stream",
     "text": [
      "C:\\anaconda3\\lib\\site-packages\\tables\\path.py:155: NaturalNameWarning: object name is not a valid Python identifier: '234340'; it does not match the pattern ``^[a-zA-Z_][a-zA-Z0-9_]*$``; you will not be able to use natural naming to access this object; using ``getattr()`` will still work, though\n",
      "  check_attribute_name(name)\n"
     ]
    },
    {
     "name": "stdout",
     "output_type": "stream",
     "text": [
      "Crawling *Annual* Financial Summary of *아모레퍼시픽그룹-234690*...\n"
     ]
    },
    {
     "name": "stderr",
     "output_type": "stream",
     "text": [
      "C:\\anaconda3\\lib\\site-packages\\tables\\path.py:155: NaturalNameWarning: object name is not a valid Python identifier: '234690'; it does not match the pattern ``^[a-zA-Z_][a-zA-Z0-9_]*$``; you will not be able to use natural naming to access this object; using ``getattr()`` will still work, though\n",
      "  check_attribute_name(name)\n"
     ]
    },
    {
     "name": "stdout",
     "output_type": "stream",
     "text": [
      "Crawling *Annual* Financial Summary of *신신제약-234920*...\n"
     ]
    },
    {
     "name": "stderr",
     "output_type": "stream",
     "text": [
      "C:\\anaconda3\\lib\\site-packages\\tables\\path.py:155: NaturalNameWarning: object name is not a valid Python identifier: '234920'; it does not match the pattern ``^[a-zA-Z_][a-zA-Z0-9_]*$``; you will not be able to use natural naming to access this object; using ``getattr()`` will still work, though\n",
      "  check_attribute_name(name)\n"
     ]
    },
    {
     "name": "stdout",
     "output_type": "stream",
     "text": [
      "Crawling *Annual* Financial Summary of *삼영무역-235980*...\n"
     ]
    },
    {
     "name": "stderr",
     "output_type": "stream",
     "text": [
      "C:\\anaconda3\\lib\\site-packages\\tables\\path.py:155: NaturalNameWarning: object name is not a valid Python identifier: '235980'; it does not match the pattern ``^[a-zA-Z_][a-zA-Z0-9_]*$``; you will not be able to use natural naming to access this object; using ``getattr()`` will still work, though\n",
      "  check_attribute_name(name)\n"
     ]
    },
    {
     "name": "stdout",
     "output_type": "stream",
     "text": [
      "Crawling *Annual* Financial Summary of *선창산업-236200*...\n"
     ]
    },
    {
     "name": "stderr",
     "output_type": "stream",
     "text": [
      "C:\\anaconda3\\lib\\site-packages\\tables\\path.py:155: NaturalNameWarning: object name is not a valid Python identifier: '236200'; it does not match the pattern ``^[a-zA-Z_][a-zA-Z0-9_]*$``; you will not be able to use natural naming to access this object; using ``getattr()`` will still work, though\n",
      "  check_attribute_name(name)\n"
     ]
    },
    {
     "name": "stdout",
     "output_type": "stream",
     "text": [
      "Crawling *Annual* Financial Summary of *미원상사-237690*...\n"
     ]
    },
    {
     "name": "stderr",
     "output_type": "stream",
     "text": [
      "C:\\anaconda3\\lib\\site-packages\\tables\\path.py:155: NaturalNameWarning: object name is not a valid Python identifier: '237690'; it does not match the pattern ``^[a-zA-Z_][a-zA-Z0-9_]*$``; you will not be able to use natural naming to access this object; using ``getattr()`` will still work, though\n",
      "  check_attribute_name(name)\n"
     ]
    },
    {
     "name": "stdout",
     "output_type": "stream",
     "text": [
      "Crawling *Annual* Financial Summary of *신풍제지-237750*...\n"
     ]
    },
    {
     "name": "stderr",
     "output_type": "stream",
     "text": [
      "C:\\anaconda3\\lib\\site-packages\\tables\\path.py:155: NaturalNameWarning: object name is not a valid Python identifier: '237750'; it does not match the pattern ``^[a-zA-Z_][a-zA-Z0-9_]*$``; you will not be able to use natural naming to access this object; using ``getattr()`` will still work, though\n",
      "  check_attribute_name(name)\n"
     ]
    },
    {
     "name": "stdout",
     "output_type": "stream",
     "text": [
      "Crawling *Annual* Financial Summary of *대유에이텍-237820*...\n"
     ]
    },
    {
     "name": "stderr",
     "output_type": "stream",
     "text": [
      "C:\\anaconda3\\lib\\site-packages\\tables\\path.py:155: NaturalNameWarning: object name is not a valid Python identifier: '237820'; it does not match the pattern ``^[a-zA-Z_][a-zA-Z0-9_]*$``; you will not be able to use natural naming to access this object; using ``getattr()`` will still work, though\n",
      "  check_attribute_name(name)\n"
     ]
    },
    {
     "name": "stdout",
     "output_type": "stream",
     "text": [
      "Crawling *Annual* Financial Summary of *동양물산기업-237880*...\n"
     ]
    },
    {
     "name": "stderr",
     "output_type": "stream",
     "text": [
      "C:\\anaconda3\\lib\\site-packages\\tables\\path.py:155: NaturalNameWarning: object name is not a valid Python identifier: '237880'; it does not match the pattern ``^[a-zA-Z_][a-zA-Z0-9_]*$``; you will not be able to use natural naming to access this object; using ``getattr()`` will still work, though\n",
      "  check_attribute_name(name)\n"
     ]
    },
    {
     "name": "stdout",
     "output_type": "stream",
     "text": [
      "Crawling *Annual* Financial Summary of *유성기업-238090*...\n"
     ]
    },
    {
     "name": "stderr",
     "output_type": "stream",
     "text": [
      "C:\\anaconda3\\lib\\site-packages\\tables\\path.py:155: NaturalNameWarning: object name is not a valid Python identifier: '238090'; it does not match the pattern ``^[a-zA-Z_][a-zA-Z0-9_]*$``; you will not be able to use natural naming to access this object; using ``getattr()`` will still work, though\n",
      "  check_attribute_name(name)\n"
     ]
    },
    {
     "name": "stdout",
     "output_type": "stream",
     "text": [
      "Crawling *Annual* Financial Summary of *한국쉘석유-238120*...\n"
     ]
    },
    {
     "name": "stderr",
     "output_type": "stream",
     "text": [
      "C:\\anaconda3\\lib\\site-packages\\tables\\path.py:155: NaturalNameWarning: object name is not a valid Python identifier: '238120'; it does not match the pattern ``^[a-zA-Z_][a-zA-Z0-9_]*$``; you will not be able to use natural naming to access this object; using ``getattr()`` will still work, though\n",
      "  check_attribute_name(name)\n"
     ]
    },
    {
     "name": "stdout",
     "output_type": "stream",
     "text": [
      "Crawling *Annual* Financial Summary of *금호산업-238200*...\n"
     ]
    },
    {
     "name": "stderr",
     "output_type": "stream",
     "text": [
      "C:\\anaconda3\\lib\\site-packages\\tables\\path.py:155: NaturalNameWarning: object name is not a valid Python identifier: '238200'; it does not match the pattern ``^[a-zA-Z_][a-zA-Z0-9_]*$``; you will not be able to use natural naming to access this object; using ``getattr()`` will still work, though\n",
      "  check_attribute_name(name)\n"
     ]
    },
    {
     "name": "stdout",
     "output_type": "stream",
     "text": [
      "Crawling *Annual* Financial Summary of *부광약품-238490*...\n"
     ]
    },
    {
     "name": "stderr",
     "output_type": "stream",
     "text": [
      "C:\\anaconda3\\lib\\site-packages\\tables\\path.py:155: NaturalNameWarning: object name is not a valid Python identifier: '238490'; it does not match the pattern ``^[a-zA-Z_][a-zA-Z0-9_]*$``; you will not be able to use natural naming to access this object; using ``getattr()`` will still work, though\n",
      "  check_attribute_name(name)\n"
     ]
    },
    {
     "name": "stdout",
     "output_type": "stream",
     "text": [
      "Crawling *Annual* Financial Summary of *혜인-239340*...\n"
     ]
    },
    {
     "name": "stderr",
     "output_type": "stream",
     "text": [
      "C:\\anaconda3\\lib\\site-packages\\tables\\path.py:155: NaturalNameWarning: object name is not a valid Python identifier: '239340'; it does not match the pattern ``^[a-zA-Z_][a-zA-Z0-9_]*$``; you will not be able to use natural naming to access this object; using ``getattr()`` will still work, though\n",
      "  check_attribute_name(name)\n"
     ]
    },
    {
     "name": "stdout",
     "output_type": "stream",
     "text": [
      "Crawling *Annual* Financial Summary of *세아제강지주-239610*...\n"
     ]
    },
    {
     "name": "stderr",
     "output_type": "stream",
     "text": [
      "C:\\anaconda3\\lib\\site-packages\\tables\\path.py:155: NaturalNameWarning: object name is not a valid Python identifier: '239610'; it does not match the pattern ``^[a-zA-Z_][a-zA-Z0-9_]*$``; you will not be able to use natural naming to access this object; using ``getattr()`` will still work, though\n",
      "  check_attribute_name(name)\n"
     ]
    },
    {
     "name": "stdout",
     "output_type": "stream",
     "text": [
      "Crawling *Annual* Financial Summary of *에이프로젠제약-240810*...\n",
      "Crawling *Annual* Financial Summary of *코오롱글로벌-241520*...\n"
     ]
    },
    {
     "name": "stderr",
     "output_type": "stream",
     "text": [
      "C:\\anaconda3\\lib\\site-packages\\tables\\path.py:155: NaturalNameWarning: object name is not a valid Python identifier: '240810'; it does not match the pattern ``^[a-zA-Z_][a-zA-Z0-9_]*$``; you will not be able to use natural naming to access this object; using ``getattr()`` will still work, though\n",
      "  check_attribute_name(name)\n",
      "C:\\anaconda3\\lib\\site-packages\\tables\\path.py:155: NaturalNameWarning: object name is not a valid Python identifier: '241520'; it does not match the pattern ``^[a-zA-Z_][a-zA-Z0-9_]*$``; you will not be able to use natural naming to access this object; using ``getattr()`` will still work, though\n",
      "  check_attribute_name(name)\n"
     ]
    },
    {
     "name": "stdout",
     "output_type": "stream",
     "text": [
      "Crawling *Annual* Financial Summary of *성보화학-241560*...\n"
     ]
    },
    {
     "name": "stderr",
     "output_type": "stream",
     "text": [
      "C:\\anaconda3\\lib\\site-packages\\tables\\path.py:155: NaturalNameWarning: object name is not a valid Python identifier: '241560'; it does not match the pattern ``^[a-zA-Z_][a-zA-Z0-9_]*$``; you will not be able to use natural naming to access this object; using ``getattr()`` will still work, though\n",
      "  check_attribute_name(name)\n"
     ]
    },
    {
     "name": "stdout",
     "output_type": "stream",
     "text": [
      "Crawling *Annual* Financial Summary of *대웅-241590*...\n"
     ]
    },
    {
     "name": "stderr",
     "output_type": "stream",
     "text": [
      "C:\\anaconda3\\lib\\site-packages\\tables\\path.py:155: NaturalNameWarning: object name is not a valid Python identifier: '241590'; it does not match the pattern ``^[a-zA-Z_][a-zA-Z0-9_]*$``; you will not be able to use natural naming to access this object; using ``getattr()`` will still work, though\n",
      "  check_attribute_name(name)\n"
     ]
    },
    {
     "name": "stdout",
     "output_type": "stream",
     "text": [
      "Crawling *Annual* Financial Summary of *선광-241690*...\n"
     ]
    },
    {
     "name": "stderr",
     "output_type": "stream",
     "text": [
      "C:\\anaconda3\\lib\\site-packages\\tables\\path.py:155: NaturalNameWarning: object name is not a valid Python identifier: '241690'; it does not match the pattern ``^[a-zA-Z_][a-zA-Z0-9_]*$``; you will not be able to use natural naming to access this object; using ``getattr()`` will still work, though\n",
      "  check_attribute_name(name)\n"
     ]
    },
    {
     "name": "stdout",
     "output_type": "stream",
     "text": [
      "Crawling *Annual* Financial Summary of *일성신약-241710*...\n"
     ]
    },
    {
     "name": "stderr",
     "output_type": "stream",
     "text": [
      "C:\\anaconda3\\lib\\site-packages\\tables\\path.py:155: NaturalNameWarning: object name is not a valid Python identifier: '241710'; it does not match the pattern ``^[a-zA-Z_][a-zA-Z0-9_]*$``; you will not be able to use natural naming to access this object; using ``getattr()`` will still work, though\n",
      "  check_attribute_name(name)\n"
     ]
    },
    {
     "name": "stdout",
     "output_type": "stream",
     "text": [
      "Crawling *Annual* Financial Summary of *디아이-241770*...\n"
     ]
    },
    {
     "name": "stderr",
     "output_type": "stream",
     "text": [
      "C:\\anaconda3\\lib\\site-packages\\tables\\path.py:155: NaturalNameWarning: object name is not a valid Python identifier: '241770'; it does not match the pattern ``^[a-zA-Z_][a-zA-Z0-9_]*$``; you will not be able to use natural naming to access this object; using ``getattr()`` will still work, though\n",
      "  check_attribute_name(name)\n"
     ]
    },
    {
     "name": "stdout",
     "output_type": "stream",
     "text": [
      "Crawling *Annual* Financial Summary of *일신방직-241790*...\n"
     ]
    },
    {
     "name": "stderr",
     "output_type": "stream",
     "text": [
      "C:\\anaconda3\\lib\\site-packages\\tables\\path.py:155: NaturalNameWarning: object name is not a valid Python identifier: '241790'; it does not match the pattern ``^[a-zA-Z_][a-zA-Z0-9_]*$``; you will not be able to use natural naming to access this object; using ``getattr()`` will still work, though\n",
      "  check_attribute_name(name)\n"
     ]
    },
    {
     "name": "stdout",
     "output_type": "stream",
     "text": [
      "Crawling *Annual* Financial Summary of *대원제약-241820*...\n"
     ]
    },
    {
     "name": "stderr",
     "output_type": "stream",
     "text": [
      "C:\\anaconda3\\lib\\site-packages\\tables\\path.py:155: NaturalNameWarning: object name is not a valid Python identifier: '241820'; it does not match the pattern ``^[a-zA-Z_][a-zA-Z0-9_]*$``; you will not be able to use natural naming to access this object; using ``getattr()`` will still work, though\n",
      "  check_attribute_name(name)\n"
     ]
    },
    {
     "name": "stdout",
     "output_type": "stream",
     "text": [
      "Crawling *Annual* Financial Summary of *삼양식품-241840*...\n"
     ]
    },
    {
     "name": "stderr",
     "output_type": "stream",
     "text": [
      "C:\\anaconda3\\lib\\site-packages\\tables\\path.py:155: NaturalNameWarning: object name is not a valid Python identifier: '241840'; it does not match the pattern ``^[a-zA-Z_][a-zA-Z0-9_]*$``; you will not be able to use natural naming to access this object; using ``getattr()`` will still work, though\n",
      "  check_attribute_name(name)\n"
     ]
    },
    {
     "name": "stdout",
     "output_type": "stream",
     "text": [
      "Crawling *Annual* Financial Summary of *태광산업-242040*...\n"
     ]
    },
    {
     "name": "stderr",
     "output_type": "stream",
     "text": [
      "C:\\anaconda3\\lib\\site-packages\\tables\\path.py:155: NaturalNameWarning: object name is not a valid Python identifier: '242040'; it does not match the pattern ``^[a-zA-Z_][a-zA-Z0-9_]*$``; you will not be able to use natural naming to access this object; using ``getattr()`` will still work, though\n",
      "  check_attribute_name(name)\n"
     ]
    },
    {
     "name": "stdout",
     "output_type": "stream",
     "text": [
      "Crawling *Annual* Financial Summary of *흥아해운-243070*...\n"
     ]
    },
    {
     "name": "stderr",
     "output_type": "stream",
     "text": [
      "C:\\anaconda3\\lib\\site-packages\\tables\\path.py:155: NaturalNameWarning: object name is not a valid Python identifier: '243070'; it does not match the pattern ``^[a-zA-Z_][a-zA-Z0-9_]*$``; you will not be able to use natural naming to access this object; using ``getattr()`` will still work, though\n",
      "  check_attribute_name(name)\n"
     ]
    },
    {
     "name": "stdout",
     "output_type": "stream",
     "text": [
      "Crawling *Annual* Financial Summary of *한일홀딩스-243840*...\n"
     ]
    },
    {
     "name": "stderr",
     "output_type": "stream",
     "text": [
      "C:\\anaconda3\\lib\\site-packages\\tables\\path.py:155: NaturalNameWarning: object name is not a valid Python identifier: '243840'; it does not match the pattern ``^[a-zA-Z_][a-zA-Z0-9_]*$``; you will not be able to use natural naming to access this object; using ``getattr()`` will still work, though\n",
      "  check_attribute_name(name)\n"
     ]
    },
    {
     "name": "stdout",
     "output_type": "stream",
     "text": [
      "Crawling *Annual* Financial Summary of *대주산업-244460*...\n"
     ]
    },
    {
     "name": "stderr",
     "output_type": "stream",
     "text": [
      "C:\\anaconda3\\lib\\site-packages\\tables\\path.py:155: NaturalNameWarning: object name is not a valid Python identifier: '244460'; it does not match the pattern ``^[a-zA-Z_][a-zA-Z0-9_]*$``; you will not be able to use natural naming to access this object; using ``getattr()`` will still work, though\n",
      "  check_attribute_name(name)\n"
     ]
    },
    {
     "name": "stdout",
     "output_type": "stream",
     "text": [
      "Crawling *Annual* Financial Summary of *한국화장품제조-244920*...\n"
     ]
    },
    {
     "name": "stderr",
     "output_type": "stream",
     "text": [
      "C:\\anaconda3\\lib\\site-packages\\tables\\path.py:155: NaturalNameWarning: object name is not a valid Python identifier: '244920'; it does not match the pattern ``^[a-zA-Z_][a-zA-Z0-9_]*$``; you will not be able to use natural naming to access this object; using ``getattr()`` will still work, though\n",
      "  check_attribute_name(name)\n"
     ]
    },
    {
     "name": "stdout",
     "output_type": "stream",
     "text": [
      "Crawling *Annual* Financial Summary of *하림지주-245620*...\n"
     ]
    },
    {
     "name": "stderr",
     "output_type": "stream",
     "text": [
      "C:\\anaconda3\\lib\\site-packages\\tables\\path.py:155: NaturalNameWarning: object name is not a valid Python identifier: '245620'; it does not match the pattern ``^[a-zA-Z_][a-zA-Z0-9_]*$``; you will not be able to use natural naming to access this object; using ``getattr()`` will still work, though\n",
      "  check_attribute_name(name)\n"
     ]
    },
    {
     "name": "stdout",
     "output_type": "stream",
     "text": [
      "Crawling *Annual* Financial Summary of *쌍용양회공업-246690*...\n"
     ]
    },
    {
     "name": "stderr",
     "output_type": "stream",
     "text": [
      "C:\\anaconda3\\lib\\site-packages\\tables\\path.py:155: NaturalNameWarning: object name is not a valid Python identifier: '246690'; it does not match the pattern ``^[a-zA-Z_][a-zA-Z0-9_]*$``; you will not be able to use natural naming to access this object; using ``getattr()`` will still work, though\n",
      "  check_attribute_name(name)\n"
     ]
    },
    {
     "name": "stdout",
     "output_type": "stream",
     "text": [
      "Crawling *Annual* Financial Summary of *유화증권-246710*...\n"
     ]
    },
    {
     "name": "stderr",
     "output_type": "stream",
     "text": [
      "C:\\anaconda3\\lib\\site-packages\\tables\\path.py:155: NaturalNameWarning: object name is not a valid Python identifier: '246710'; it does not match the pattern ``^[a-zA-Z_][a-zA-Z0-9_]*$``; you will not be able to use natural naming to access this object; using ``getattr()`` will still work, though\n",
      "  check_attribute_name(name)\n"
     ]
    },
    {
     "name": "stdout",
     "output_type": "stream",
     "text": [
      "Crawling *Annual* Financial Summary of *유안타증권-246720*...\n"
     ]
    },
    {
     "name": "stderr",
     "output_type": "stream",
     "text": [
      "C:\\anaconda3\\lib\\site-packages\\tables\\path.py:155: NaturalNameWarning: object name is not a valid Python identifier: '246720'; it does not match the pattern ``^[a-zA-Z_][a-zA-Z0-9_]*$``; you will not be able to use natural naming to access this object; using ``getattr()`` will still work, though\n",
      "  check_attribute_name(name)\n"
     ]
    },
    {
     "name": "stdout",
     "output_type": "stream",
     "text": [
      "Crawling *Annual* Financial Summary of *한진중공업홀딩스-246960*...\n"
     ]
    },
    {
     "name": "stderr",
     "output_type": "stream",
     "text": [
      "C:\\anaconda3\\lib\\site-packages\\tables\\path.py:155: NaturalNameWarning: object name is not a valid Python identifier: '246960'; it does not match the pattern ``^[a-zA-Z_][a-zA-Z0-9_]*$``; you will not be able to use natural naming to access this object; using ``getattr()`` will still work, though\n",
      "  check_attribute_name(name)\n"
     ]
    },
    {
     "name": "stdout",
     "output_type": "stream",
     "text": [
      "Crawling *Annual* Financial Summary of *대한항공-247540*...\n"
     ]
    },
    {
     "name": "stderr",
     "output_type": "stream",
     "text": [
      "C:\\anaconda3\\lib\\site-packages\\tables\\path.py:155: NaturalNameWarning: object name is not a valid Python identifier: '247540'; it does not match the pattern ``^[a-zA-Z_][a-zA-Z0-9_]*$``; you will not be able to use natural naming to access this object; using ``getattr()`` will still work, though\n",
      "  check_attribute_name(name)\n"
     ]
    },
    {
     "name": "stdout",
     "output_type": "stream",
     "text": [
      "Crawling *Annual* Financial Summary of *영진약품-248170*...\n"
     ]
    },
    {
     "name": "stderr",
     "output_type": "stream",
     "text": [
      "C:\\anaconda3\\lib\\site-packages\\tables\\path.py:155: NaturalNameWarning: object name is not a valid Python identifier: '248170'; it does not match the pattern ``^[a-zA-Z_][a-zA-Z0-9_]*$``; you will not be able to use natural naming to access this object; using ``getattr()`` will still work, though\n",
      "  check_attribute_name(name)\n"
     ]
    },
    {
     "name": "stdout",
     "output_type": "stream",
     "text": [
      "Crawling *Annual* Financial Summary of *한화투자증권-249420*...\n"
     ]
    },
    {
     "name": "stderr",
     "output_type": "stream",
     "text": [
      "C:\\anaconda3\\lib\\site-packages\\tables\\path.py:155: NaturalNameWarning: object name is not a valid Python identifier: '249420'; it does not match the pattern ``^[a-zA-Z_][a-zA-Z0-9_]*$``; you will not be able to use natural naming to access this object; using ``getattr()`` will still work, though\n",
      "  check_attribute_name(name)\n"
     ]
    },
    {
     "name": "stdout",
     "output_type": "stream",
     "text": [
      "Crawling *Annual* Financial Summary of *대신증권-250000*...\n"
     ]
    },
    {
     "name": "stderr",
     "output_type": "stream",
     "text": [
      "C:\\anaconda3\\lib\\site-packages\\tables\\path.py:155: NaturalNameWarning: object name is not a valid Python identifier: '250000'; it does not match the pattern ``^[a-zA-Z_][a-zA-Z0-9_]*$``; you will not be able to use natural naming to access this object; using ``getattr()`` will still work, though\n",
      "  check_attribute_name(name)\n"
     ]
    },
    {
     "name": "stdout",
     "output_type": "stream",
     "text": [
      "Crawling *Annual* Financial Summary of *LG-250060*...\n"
     ]
    },
    {
     "name": "stderr",
     "output_type": "stream",
     "text": [
      "C:\\anaconda3\\lib\\site-packages\\tables\\path.py:155: NaturalNameWarning: object name is not a valid Python identifier: '250060'; it does not match the pattern ``^[a-zA-Z_][a-zA-Z0-9_]*$``; you will not be able to use natural naming to access this object; using ``getattr()`` will still work, though\n",
      "  check_attribute_name(name)\n"
     ]
    },
    {
     "name": "stdout",
     "output_type": "stream",
     "text": [
      "Crawling *Annual* Financial Summary of *아이에이치큐-250930*...\n"
     ]
    },
    {
     "name": "stderr",
     "output_type": "stream",
     "text": [
      "C:\\anaconda3\\lib\\site-packages\\tables\\path.py:155: NaturalNameWarning: object name is not a valid Python identifier: '250930'; it does not match the pattern ``^[a-zA-Z_][a-zA-Z0-9_]*$``; you will not be able to use natural naming to access this object; using ``getattr()`` will still work, though\n",
      "  check_attribute_name(name)\n"
     ]
    },
    {
     "name": "stdout",
     "output_type": "stream",
     "text": [
      "Crawling *Annual* Financial Summary of *S&T중공업-251270*...\n"
     ]
    },
    {
     "name": "stderr",
     "output_type": "stream",
     "text": [
      "C:\\anaconda3\\lib\\site-packages\\tables\\path.py:155: NaturalNameWarning: object name is not a valid Python identifier: '251270'; it does not match the pattern ``^[a-zA-Z_][a-zA-Z0-9_]*$``; you will not be able to use natural naming to access this object; using ``getattr()`` will still work, though\n",
      "  check_attribute_name(name)\n"
     ]
    },
    {
     "name": "stdout",
     "output_type": "stream",
     "text": [
      "Crawling *Annual* Financial Summary of *넥스트사이언스-251370*...\n"
     ]
    },
    {
     "name": "stderr",
     "output_type": "stream",
     "text": [
      "C:\\anaconda3\\lib\\site-packages\\tables\\path.py:155: NaturalNameWarning: object name is not a valid Python identifier: '251370'; it does not match the pattern ``^[a-zA-Z_][a-zA-Z0-9_]*$``; you will not be able to use natural naming to access this object; using ``getattr()`` will still work, though\n",
      "  check_attribute_name(name)\n"
     ]
    },
    {
     "name": "stdout",
     "output_type": "stream",
     "text": [
      "Crawling *Annual* Financial Summary of *방림-251630*...\n"
     ]
    },
    {
     "name": "stderr",
     "output_type": "stream",
     "text": [
      "C:\\anaconda3\\lib\\site-packages\\tables\\path.py:155: NaturalNameWarning: object name is not a valid Python identifier: '251630'; it does not match the pattern ``^[a-zA-Z_][a-zA-Z0-9_]*$``; you will not be able to use natural naming to access this object; using ``getattr()`` will still work, though\n",
      "  check_attribute_name(name)\n"
     ]
    },
    {
     "name": "stdout",
     "output_type": "stream",
     "text": [
      "Crawling *Annual* Financial Summary of *쌍용자동차-251970*...\n"
     ]
    },
    {
     "name": "stderr",
     "output_type": "stream",
     "text": [
      "C:\\anaconda3\\lib\\site-packages\\tables\\path.py:155: NaturalNameWarning: object name is not a valid Python identifier: '251970'; it does not match the pattern ``^[a-zA-Z_][a-zA-Z0-9_]*$``; you will not be able to use natural naming to access this object; using ``getattr()`` will still work, though\n",
      "  check_attribute_name(name)\n"
     ]
    },
    {
     "name": "stdout",
     "output_type": "stream",
     "text": [
      "Crawling *Annual* Financial Summary of *미창석유공업-252500*...\n"
     ]
    },
    {
     "name": "stderr",
     "output_type": "stream",
     "text": [
      "C:\\anaconda3\\lib\\site-packages\\tables\\path.py:155: NaturalNameWarning: object name is not a valid Python identifier: '252500'; it does not match the pattern ``^[a-zA-Z_][a-zA-Z0-9_]*$``; you will not be able to use natural naming to access this object; using ``getattr()`` will still work, though\n",
      "  check_attribute_name(name)\n"
     ]
    },
    {
     "name": "stdout",
     "output_type": "stream",
     "text": [
      "Crawling *Annual* Financial Summary of *포스코케미칼-253450*...\n"
     ]
    },
    {
     "name": "stderr",
     "output_type": "stream",
     "text": [
      "C:\\anaconda3\\lib\\site-packages\\tables\\path.py:155: NaturalNameWarning: object name is not a valid Python identifier: '253450'; it does not match the pattern ``^[a-zA-Z_][a-zA-Z0-9_]*$``; you will not be able to use natural naming to access this object; using ``getattr()`` will still work, though\n",
      "  check_attribute_name(name)\n"
     ]
    },
    {
     "name": "stdout",
     "output_type": "stream",
     "text": [
      "Crawling *Annual* Financial Summary of *한성기업-253590*...\n"
     ]
    },
    {
     "name": "stderr",
     "output_type": "stream",
     "text": [
      "C:\\anaconda3\\lib\\site-packages\\tables\\path.py:155: NaturalNameWarning: object name is not a valid Python identifier: '253590'; it does not match the pattern ``^[a-zA-Z_][a-zA-Z0-9_]*$``; you will not be able to use natural naming to access this object; using ``getattr()`` will still work, though\n",
      "  check_attribute_name(name)\n"
     ]
    },
    {
     "name": "stdout",
     "output_type": "stream",
     "text": [
      "Crawling *Annual* Financial Summary of *코리안리-253840*...\n"
     ]
    },
    {
     "name": "stderr",
     "output_type": "stream",
     "text": [
      "C:\\anaconda3\\lib\\site-packages\\tables\\path.py:155: NaturalNameWarning: object name is not a valid Python identifier: '253840'; it does not match the pattern ``^[a-zA-Z_][a-zA-Z0-9_]*$``; you will not be able to use natural naming to access this object; using ``getattr()`` will still work, though\n",
      "  check_attribute_name(name)\n"
     ]
    },
    {
     "name": "stdout",
     "output_type": "stream",
     "text": [
      "Crawling *Annual* Financial Summary of *삼영화학공업-254120*...\n"
     ]
    },
    {
     "name": "stderr",
     "output_type": "stream",
     "text": [
      "C:\\anaconda3\\lib\\site-packages\\tables\\path.py:155: NaturalNameWarning: object name is not a valid Python identifier: '254120'; it does not match the pattern ``^[a-zA-Z_][a-zA-Z0-9_]*$``; you will not be able to use natural naming to access this object; using ``getattr()`` will still work, though\n",
      "  check_attribute_name(name)\n"
     ]
    },
    {
     "name": "stdout",
     "output_type": "stream",
     "text": [
      "Crawling *Annual* Financial Summary of *진양산업-255220*...\n"
     ]
    },
    {
     "name": "stderr",
     "output_type": "stream",
     "text": [
      "C:\\anaconda3\\lib\\site-packages\\tables\\path.py:155: NaturalNameWarning: object name is not a valid Python identifier: '255220'; it does not match the pattern ``^[a-zA-Z_][a-zA-Z0-9_]*$``; you will not be able to use natural naming to access this object; using ``getattr()`` will still work, though\n",
      "  check_attribute_name(name)\n"
     ]
    },
    {
     "name": "stdout",
     "output_type": "stream",
     "text": [
      "Crawling *Annual* Financial Summary of *에이스침대-255440*...\n"
     ]
    },
    {
     "name": "stderr",
     "output_type": "stream",
     "text": [
      "C:\\anaconda3\\lib\\site-packages\\tables\\path.py:155: NaturalNameWarning: object name is not a valid Python identifier: '255440'; it does not match the pattern ``^[a-zA-Z_][a-zA-Z0-9_]*$``; you will not be able to use natural naming to access this object; using ``getattr()`` will still work, though\n",
      "  check_attribute_name(name)\n"
     ]
    },
    {
     "name": "stdout",
     "output_type": "stream",
     "text": [
      "Crawling *Annual* Financial Summary of *대한화섬-256150*...\n"
     ]
    },
    {
     "name": "stderr",
     "output_type": "stream",
     "text": [
      "C:\\anaconda3\\lib\\site-packages\\tables\\path.py:155: NaturalNameWarning: object name is not a valid Python identifier: '256150'; it does not match the pattern ``^[a-zA-Z_][a-zA-Z0-9_]*$``; you will not be able to use natural naming to access this object; using ``getattr()`` will still work, though\n",
      "  check_attribute_name(name)\n"
     ]
    },
    {
     "name": "stdout",
     "output_type": "stream",
     "text": [
      "Crawling *Annual* Financial Summary of *보령제약-256630*...\n"
     ]
    },
    {
     "name": "stderr",
     "output_type": "stream",
     "text": [
      "C:\\anaconda3\\lib\\site-packages\\tables\\path.py:155: NaturalNameWarning: object name is not a valid Python identifier: '256630'; it does not match the pattern ``^[a-zA-Z_][a-zA-Z0-9_]*$``; you will not be able to use natural naming to access this object; using ``getattr()`` will still work, though\n",
      "  check_attribute_name(name)\n"
     ]
    },
    {
     "name": "stdout",
     "output_type": "stream",
     "text": [
      "Crawling *Annual* Financial Summary of *남양유업-256840*...\n"
     ]
    },
    {
     "name": "stderr",
     "output_type": "stream",
     "text": [
      "C:\\anaconda3\\lib\\site-packages\\tables\\path.py:155: NaturalNameWarning: object name is not a valid Python identifier: '256840'; it does not match the pattern ``^[a-zA-Z_][a-zA-Z0-9_]*$``; you will not be able to use natural naming to access this object; using ``getattr()`` will still work, though\n",
      "  check_attribute_name(name)\n"
     ]
    },
    {
     "name": "stdout",
     "output_type": "stream",
     "text": [
      "Crawling *Annual* Financial Summary of *사조대림-256940*...\n"
     ]
    },
    {
     "name": "stderr",
     "output_type": "stream",
     "text": [
      "C:\\anaconda3\\lib\\site-packages\\tables\\path.py:155: NaturalNameWarning: object name is not a valid Python identifier: '256940'; it does not match the pattern ``^[a-zA-Z_][a-zA-Z0-9_]*$``; you will not be able to use natural naming to access this object; using ``getattr()`` will still work, though\n",
      "  check_attribute_name(name)\n"
     ]
    },
    {
     "name": "stdout",
     "output_type": "stream",
     "text": [
      "Crawling *Annual* Financial Summary of *롯데정밀화학-257370*...\n"
     ]
    },
    {
     "name": "stderr",
     "output_type": "stream",
     "text": [
      "C:\\anaconda3\\lib\\site-packages\\tables\\path.py:155: NaturalNameWarning: object name is not a valid Python identifier: '257370'; it does not match the pattern ``^[a-zA-Z_][a-zA-Z0-9_]*$``; you will not be able to use natural naming to access this object; using ``getattr()`` will still work, though\n",
      "  check_attribute_name(name)\n"
     ]
    },
    {
     "name": "stdout",
     "output_type": "stream",
     "text": [
      "Crawling *Annual* Financial Summary of *현대제철-258610*...\n"
     ]
    },
    {
     "name": "stderr",
     "output_type": "stream",
     "text": [
      "C:\\anaconda3\\lib\\site-packages\\tables\\path.py:155: NaturalNameWarning: object name is not a valid Python identifier: '258610'; it does not match the pattern ``^[a-zA-Z_][a-zA-Z0-9_]*$``; you will not be able to use natural naming to access this object; using ``getattr()`` will still work, though\n",
      "  check_attribute_name(name)\n"
     ]
    },
    {
     "name": "stdout",
     "output_type": "stream",
     "text": [
      "Crawling *Annual* Financial Summary of *SG세계물산-258790*...\n"
     ]
    },
    {
     "name": "stderr",
     "output_type": "stream",
     "text": [
      "C:\\anaconda3\\lib\\site-packages\\tables\\path.py:155: NaturalNameWarning: object name is not a valid Python identifier: '258790'; it does not match the pattern ``^[a-zA-Z_][a-zA-Z0-9_]*$``; you will not be able to use natural naming to access this object; using ``getattr()`` will still work, though\n",
      "  check_attribute_name(name)\n"
     ]
    },
    {
     "name": "stdout",
     "output_type": "stream",
     "text": [
      "Crawling *Annual* Financial Summary of *신흥-258830*...\n"
     ]
    },
    {
     "name": "stderr",
     "output_type": "stream",
     "text": [
      "C:\\anaconda3\\lib\\site-packages\\tables\\path.py:155: NaturalNameWarning: object name is not a valid Python identifier: '258830'; it does not match the pattern ``^[a-zA-Z_][a-zA-Z0-9_]*$``; you will not be able to use natural naming to access this object; using ``getattr()`` will still work, though\n",
      "  check_attribute_name(name)\n"
     ]
    },
    {
     "name": "stdout",
     "output_type": "stream",
     "text": [
      "Crawling *Annual* Financial Summary of *한국석유공업-259630*...\n"
     ]
    },
    {
     "name": "stderr",
     "output_type": "stream",
     "text": [
      "C:\\anaconda3\\lib\\site-packages\\tables\\path.py:155: NaturalNameWarning: object name is not a valid Python identifier: '259630'; it does not match the pattern ``^[a-zA-Z_][a-zA-Z0-9_]*$``; you will not be able to use natural naming to access this object; using ``getattr()`` will still work, though\n",
      "  check_attribute_name(name)\n"
     ]
    },
    {
     "name": "stdout",
     "output_type": "stream",
     "text": [
      "Crawling *Annual* Financial Summary of *태양금속공업-260660*...\n"
     ]
    },
    {
     "name": "stderr",
     "output_type": "stream",
     "text": [
      "C:\\anaconda3\\lib\\site-packages\\tables\\path.py:155: NaturalNameWarning: object name is not a valid Python identifier: '260660'; it does not match the pattern ``^[a-zA-Z_][a-zA-Z0-9_]*$``; you will not be able to use natural naming to access this object; using ``getattr()`` will still work, though\n",
      "  check_attribute_name(name)\n"
     ]
    },
    {
     "name": "stdout",
     "output_type": "stream",
     "text": [
      "Crawling *Annual* Financial Summary of *동방-260930*...\n"
     ]
    },
    {
     "name": "stderr",
     "output_type": "stream",
     "text": [
      "C:\\anaconda3\\lib\\site-packages\\tables\\path.py:155: NaturalNameWarning: object name is not a valid Python identifier: '260930'; it does not match the pattern ``^[a-zA-Z_][a-zA-Z0-9_]*$``; you will not be able to use natural naming to access this object; using ``getattr()`` will still work, though\n",
      "  check_attribute_name(name)\n"
     ]
    },
    {
     "name": "stdout",
     "output_type": "stream",
     "text": [
      "Crawling *Annual* Financial Summary of *한솔홀딩스-261200*...\n"
     ]
    },
    {
     "name": "stderr",
     "output_type": "stream",
     "text": [
      "C:\\anaconda3\\lib\\site-packages\\tables\\path.py:155: NaturalNameWarning: object name is not a valid Python identifier: '261200'; it does not match the pattern ``^[a-zA-Z_][a-zA-Z0-9_]*$``; you will not be able to use natural naming to access this object; using ``getattr()`` will still work, though\n",
      "  check_attribute_name(name)\n"
     ]
    },
    {
     "name": "stdout",
     "output_type": "stream",
     "text": [
      "Crawling *Annual* Financial Summary of *신세계-262260*...\n"
     ]
    },
    {
     "name": "stderr",
     "output_type": "stream",
     "text": [
      "C:\\anaconda3\\lib\\site-packages\\tables\\path.py:155: NaturalNameWarning: object name is not a valid Python identifier: '262260'; it does not match the pattern ``^[a-zA-Z_][a-zA-Z0-9_]*$``; you will not be able to use natural naming to access this object; using ``getattr()`` will still work, though\n",
      "  check_attribute_name(name)\n"
     ]
    },
    {
     "name": "stdout",
     "output_type": "stream",
     "text": [
      "Crawling *Annual* Financial Summary of *엔피씨-263020*...\n"
     ]
    },
    {
     "name": "stderr",
     "output_type": "stream",
     "text": [
      "C:\\anaconda3\\lib\\site-packages\\tables\\path.py:155: NaturalNameWarning: object name is not a valid Python identifier: '263020'; it does not match the pattern ``^[a-zA-Z_][a-zA-Z0-9_]*$``; you will not be able to use natural naming to access this object; using ``getattr()`` will still work, though\n",
      "  check_attribute_name(name)\n"
     ]
    },
    {
     "name": "stdout",
     "output_type": "stream",
     "text": [
      "Crawling *Annual* Financial Summary of *남성-263050*...\n"
     ]
    },
    {
     "name": "stderr",
     "output_type": "stream",
     "text": [
      "C:\\anaconda3\\lib\\site-packages\\tables\\path.py:155: NaturalNameWarning: object name is not a valid Python identifier: '263050'; it does not match the pattern ``^[a-zA-Z_][a-zA-Z0-9_]*$``; you will not be able to use natural naming to access this object; using ``getattr()`` will still work, though\n",
      "  check_attribute_name(name)\n"
     ]
    },
    {
     "name": "stdout",
     "output_type": "stream",
     "text": [
      "Crawling *Annual* Financial Summary of *현대약품-263540*...\n"
     ]
    },
    {
     "name": "stderr",
     "output_type": "stream",
     "text": [
      "C:\\anaconda3\\lib\\site-packages\\tables\\path.py:155: NaturalNameWarning: object name is not a valid Python identifier: '263540'; it does not match the pattern ``^[a-zA-Z_][a-zA-Z0-9_]*$``; you will not be able to use natural naming to access this object; using ``getattr()`` will still work, though\n",
      "  check_attribute_name(name)\n"
     ]
    },
    {
     "name": "stdout",
     "output_type": "stream",
     "text": [
      "Crawling *Annual* Financial Summary of *세방-263600*...\n"
     ]
    },
    {
     "name": "stderr",
     "output_type": "stream",
     "text": [
      "C:\\anaconda3\\lib\\site-packages\\tables\\path.py:155: NaturalNameWarning: object name is not a valid Python identifier: '263600'; it does not match the pattern ``^[a-zA-Z_][a-zA-Z0-9_]*$``; you will not be able to use natural naming to access this object; using ``getattr()`` will still work, though\n",
      "  check_attribute_name(name)\n"
     ]
    },
    {
     "name": "stdout",
     "output_type": "stream",
     "text": [
      "Crawling *Annual* Financial Summary of *농심-263690*...\n"
     ]
    },
    {
     "name": "stderr",
     "output_type": "stream",
     "text": [
      "C:\\anaconda3\\lib\\site-packages\\tables\\path.py:155: NaturalNameWarning: object name is not a valid Python identifier: '263690'; it does not match the pattern ``^[a-zA-Z_][a-zA-Z0-9_]*$``; you will not be able to use natural naming to access this object; using ``getattr()`` will still work, though\n",
      "  check_attribute_name(name)\n"
     ]
    },
    {
     "name": "stdout",
     "output_type": "stream",
     "text": [
      "Crawling *Annual* Financial Summary of *삼익THK-263700*...\n"
     ]
    },
    {
     "name": "stderr",
     "output_type": "stream",
     "text": [
      "C:\\anaconda3\\lib\\site-packages\\tables\\path.py:155: NaturalNameWarning: object name is not a valid Python identifier: '263700'; it does not match the pattern ``^[a-zA-Z_][a-zA-Z0-9_]*$``; you will not be able to use natural naming to access this object; using ``getattr()`` will still work, though\n",
      "  check_attribute_name(name)\n"
     ]
    },
    {
     "name": "stdout",
     "output_type": "stream",
     "text": [
      "Crawling *Annual* Financial Summary of *서울식품공업-263720*...\n"
     ]
    },
    {
     "name": "stderr",
     "output_type": "stream",
     "text": [
      "C:\\anaconda3\\lib\\site-packages\\tables\\path.py:155: NaturalNameWarning: object name is not a valid Python identifier: '263720'; it does not match the pattern ``^[a-zA-Z_][a-zA-Z0-9_]*$``; you will not be able to use natural naming to access this object; using ``getattr()`` will still work, though\n",
      "  check_attribute_name(name)\n"
     ]
    },
    {
     "name": "stdout",
     "output_type": "stream",
     "text": [
      "Crawling *Annual* Financial Summary of *송원산업-263750*...\n"
     ]
    },
    {
     "name": "stderr",
     "output_type": "stream",
     "text": [
      "C:\\anaconda3\\lib\\site-packages\\tables\\path.py:155: NaturalNameWarning: object name is not a valid Python identifier: '263750'; it does not match the pattern ``^[a-zA-Z_][a-zA-Z0-9_]*$``; you will not be able to use natural naming to access this object; using ``getattr()`` will still work, though\n",
      "  check_attribute_name(name)\n"
     ]
    },
    {
     "name": "stdout",
     "output_type": "stream",
     "text": [
      "Crawling *Annual* Financial Summary of *삼일씨엔에스-263770*...\n"
     ]
    },
    {
     "name": "stderr",
     "output_type": "stream",
     "text": [
      "C:\\anaconda3\\lib\\site-packages\\tables\\path.py:155: NaturalNameWarning: object name is not a valid Python identifier: '263770'; it does not match the pattern ``^[a-zA-Z_][a-zA-Z0-9_]*$``; you will not be able to use natural naming to access this object; using ``getattr()`` will still work, though\n",
      "  check_attribute_name(name)\n"
     ]
    },
    {
     "name": "stdout",
     "output_type": "stream",
     "text": [
      "Crawling *Annual* Financial Summary of *삼화왕관-263800*...\n"
     ]
    },
    {
     "name": "stderr",
     "output_type": "stream",
     "text": [
      "C:\\anaconda3\\lib\\site-packages\\tables\\path.py:155: NaturalNameWarning: object name is not a valid Python identifier: '263800'; it does not match the pattern ``^[a-zA-Z_][a-zA-Z0-9_]*$``; you will not be able to use natural naming to access this object; using ``getattr()`` will still work, though\n",
      "  check_attribute_name(name)\n"
     ]
    },
    {
     "name": "stdout",
     "output_type": "stream",
     "text": [
      "Crawling *Annual* Financial Summary of *세방전지-263810*...\n"
     ]
    },
    {
     "name": "stderr",
     "output_type": "stream",
     "text": [
      "C:\\anaconda3\\lib\\site-packages\\tables\\path.py:155: NaturalNameWarning: object name is not a valid Python identifier: '263810'; it does not match the pattern ``^[a-zA-Z_][a-zA-Z0-9_]*$``; you will not be able to use natural naming to access this object; using ``getattr()`` will still work, though\n",
      "  check_attribute_name(name)\n"
     ]
    },
    {
     "name": "stdout",
     "output_type": "stream",
     "text": [
      "Crawling *Annual* Financial Summary of *깨끗한나라-263860*...\n"
     ]
    },
    {
     "name": "stderr",
     "output_type": "stream",
     "text": [
      "C:\\anaconda3\\lib\\site-packages\\tables\\path.py:155: NaturalNameWarning: object name is not a valid Python identifier: '263860'; it does not match the pattern ``^[a-zA-Z_][a-zA-Z0-9_]*$``; you will not be able to use natural naming to access this object; using ``getattr()`` will still work, though\n",
      "  check_attribute_name(name)\n"
     ]
    },
    {
     "name": "stdout",
     "output_type": "stream",
     "text": [
      "Crawling *Annual* Financial Summary of *현대비앤지스틸-263920*...\n"
     ]
    },
    {
     "name": "stderr",
     "output_type": "stream",
     "text": [
      "C:\\anaconda3\\lib\\site-packages\\tables\\path.py:155: NaturalNameWarning: object name is not a valid Python identifier: '263920'; it does not match the pattern ``^[a-zA-Z_][a-zA-Z0-9_]*$``; you will not be able to use natural naming to access this object; using ``getattr()`` will still work, though\n",
      "  check_attribute_name(name)\n"
     ]
    },
    {
     "name": "stdout",
     "output_type": "stream",
     "text": [
      "Crawling *Annual* Financial Summary of *한국가구-264450*...\n"
     ]
    },
    {
     "name": "stderr",
     "output_type": "stream",
     "text": [
      "C:\\anaconda3\\lib\\site-packages\\tables\\path.py:155: NaturalNameWarning: object name is not a valid Python identifier: '264450'; it does not match the pattern ``^[a-zA-Z_][a-zA-Z0-9_]*$``; you will not be able to use natural naming to access this object; using ``getattr()`` will still work, though\n",
      "  check_attribute_name(name)\n"
     ]
    },
    {
     "name": "stdout",
     "output_type": "stream",
     "text": [
      "Crawling *Annual* Financial Summary of *창해에탄올-264660*...\n"
     ]
    },
    {
     "name": "stderr",
     "output_type": "stream",
     "text": [
      "C:\\anaconda3\\lib\\site-packages\\tables\\path.py:155: NaturalNameWarning: object name is not a valid Python identifier: '264660'; it does not match the pattern ``^[a-zA-Z_][a-zA-Z0-9_]*$``; you will not be able to use natural naming to access this object; using ``getattr()`` will still work, though\n",
      "  check_attribute_name(name)\n"
     ]
    },
    {
     "name": "stdout",
     "output_type": "stream",
     "text": [
      "Crawling *Annual* Financial Summary of *삼천리-264850*...\n"
     ]
    },
    {
     "name": "stderr",
     "output_type": "stream",
     "text": [
      "C:\\anaconda3\\lib\\site-packages\\tables\\path.py:155: NaturalNameWarning: object name is not a valid Python identifier: '264850'; it does not match the pattern ``^[a-zA-Z_][a-zA-Z0-9_]*$``; you will not be able to use natural naming to access this object; using ``getattr()`` will still work, though\n",
      "  check_attribute_name(name)\n"
     ]
    },
    {
     "name": "stdout",
     "output_type": "stream",
     "text": [
      "Crawling *Annual* Financial Summary of *조광피혁-264900*...\n"
     ]
    },
    {
     "name": "stderr",
     "output_type": "stream",
     "text": [
      "C:\\anaconda3\\lib\\site-packages\\tables\\path.py:155: NaturalNameWarning: object name is not a valid Python identifier: '264900'; it does not match the pattern ``^[a-zA-Z_][a-zA-Z0-9_]*$``; you will not be able to use natural naming to access this object; using ``getattr()`` will still work, though\n",
      "  check_attribute_name(name)\n"
     ]
    },
    {
     "name": "stdout",
     "output_type": "stream",
     "text": [
      "Crawling *Annual* Financial Summary of *한솔테크닉스-265520*...\n"
     ]
    },
    {
     "name": "stderr",
     "output_type": "stream",
     "text": [
      "C:\\anaconda3\\lib\\site-packages\\tables\\path.py:155: NaturalNameWarning: object name is not a valid Python identifier: '265520'; it does not match the pattern ``^[a-zA-Z_][a-zA-Z0-9_]*$``; you will not be able to use natural naming to access this object; using ``getattr()`` will still work, though\n",
      "  check_attribute_name(name)\n"
     ]
    },
    {
     "name": "stdout",
     "output_type": "stream",
     "text": [
      "Crawling *Annual* Financial Summary of *우리들제약-265560*...\n"
     ]
    },
    {
     "name": "stderr",
     "output_type": "stream",
     "text": [
      "C:\\anaconda3\\lib\\site-packages\\tables\\path.py:155: NaturalNameWarning: object name is not a valid Python identifier: '265560'; it does not match the pattern ``^[a-zA-Z_][a-zA-Z0-9_]*$``; you will not be able to use natural naming to access this object; using ``getattr()`` will still work, though\n",
      "  check_attribute_name(name)\n"
     ]
    },
    {
     "name": "stdout",
     "output_type": "stream",
     "text": [
      "Crawling *Annual* Financial Summary of *써니전자-265740*...\n"
     ]
    },
    {
     "name": "stderr",
     "output_type": "stream",
     "text": [
      "C:\\anaconda3\\lib\\site-packages\\tables\\path.py:155: NaturalNameWarning: object name is not a valid Python identifier: '265740'; it does not match the pattern ``^[a-zA-Z_][a-zA-Z0-9_]*$``; you will not be able to use natural naming to access this object; using ``getattr()`` will still work, though\n",
      "  check_attribute_name(name)\n"
     ]
    },
    {
     "name": "stdout",
     "output_type": "stream",
     "text": [
      "Crawling *Annual* Financial Summary of *대륙제관-267250*...\n"
     ]
    },
    {
     "name": "stderr",
     "output_type": "stream",
     "text": [
      "C:\\anaconda3\\lib\\site-packages\\tables\\path.py:155: NaturalNameWarning: object name is not a valid Python identifier: '267250'; it does not match the pattern ``^[a-zA-Z_][a-zA-Z0-9_]*$``; you will not be able to use natural naming to access this object; using ``getattr()`` will still work, though\n",
      "  check_attribute_name(name)\n"
     ]
    },
    {
     "name": "stdout",
     "output_type": "stream",
     "text": [
      "Crawling *Annual* Financial Summary of *효성-267260*...\n"
     ]
    },
    {
     "name": "stderr",
     "output_type": "stream",
     "text": [
      "C:\\anaconda3\\lib\\site-packages\\tables\\path.py:155: NaturalNameWarning: object name is not a valid Python identifier: '267260'; it does not match the pattern ``^[a-zA-Z_][a-zA-Z0-9_]*$``; you will not be able to use natural naming to access this object; using ``getattr()`` will still work, though\n",
      "  check_attribute_name(name)\n"
     ]
    },
    {
     "name": "stdout",
     "output_type": "stream",
     "text": [
      "Crawling *Annual* Financial Summary of *덕성-267270*...\n"
     ]
    },
    {
     "name": "stderr",
     "output_type": "stream",
     "text": [
      "C:\\anaconda3\\lib\\site-packages\\tables\\path.py:155: NaturalNameWarning: object name is not a valid Python identifier: '267270'; it does not match the pattern ``^[a-zA-Z_][a-zA-Z0-9_]*$``; you will not be able to use natural naming to access this object; using ``getattr()`` will still work, though\n",
      "  check_attribute_name(name)\n"
     ]
    },
    {
     "name": "stdout",
     "output_type": "stream",
     "text": [
      "Crawling *Annual* Financial Summary of *DRB동일-267290*...\n"
     ]
    },
    {
     "name": "stderr",
     "output_type": "stream",
     "text": [
      "C:\\anaconda3\\lib\\site-packages\\tables\\path.py:155: NaturalNameWarning: object name is not a valid Python identifier: '267290'; it does not match the pattern ``^[a-zA-Z_][a-zA-Z0-9_]*$``; you will not be able to use natural naming to access this object; using ``getattr()`` will still work, though\n",
      "  check_attribute_name(name)\n"
     ]
    },
    {
     "name": "stdout",
     "output_type": "stream",
     "text": [
      "Crawling *Annual* Financial Summary of *티웨이홀딩스-267320*...\n"
     ]
    },
    {
     "name": "stderr",
     "output_type": "stream",
     "text": [
      "C:\\anaconda3\\lib\\site-packages\\tables\\path.py:155: NaturalNameWarning: object name is not a valid Python identifier: '267320'; it does not match the pattern ``^[a-zA-Z_][a-zA-Z0-9_]*$``; you will not be able to use natural naming to access this object; using ``getattr()`` will still work, though\n",
      "  check_attribute_name(name)\n"
     ]
    },
    {
     "name": "stdout",
     "output_type": "stream",
     "text": [
      "Crawling *Annual* Financial Summary of *동일산업-267790*...\n"
     ]
    },
    {
     "name": "stderr",
     "output_type": "stream",
     "text": [
      "C:\\anaconda3\\lib\\site-packages\\tables\\path.py:155: NaturalNameWarning: object name is not a valid Python identifier: '267790'; it does not match the pattern ``^[a-zA-Z_][a-zA-Z0-9_]*$``; you will not be able to use natural naming to access this object; using ``getattr()`` will still work, though\n",
      "  check_attribute_name(name)\n"
     ]
    },
    {
     "name": "stdout",
     "output_type": "stream",
     "text": [
      "Crawling *Annual* Financial Summary of *조광페인트-267850*...\n"
     ]
    },
    {
     "name": "stderr",
     "output_type": "stream",
     "text": [
      "C:\\anaconda3\\lib\\site-packages\\tables\\path.py:155: NaturalNameWarning: object name is not a valid Python identifier: '267850'; it does not match the pattern ``^[a-zA-Z_][a-zA-Z0-9_]*$``; you will not be able to use natural naming to access this object; using ``getattr()`` will still work, though\n",
      "  check_attribute_name(name)\n"
     ]
    },
    {
     "name": "stdout",
     "output_type": "stream",
     "text": [
      "Crawling *Annual* Financial Summary of *씨아이테크-267980*...\n"
     ]
    },
    {
     "name": "stderr",
     "output_type": "stream",
     "text": [
      "C:\\anaconda3\\lib\\site-packages\\tables\\path.py:155: NaturalNameWarning: object name is not a valid Python identifier: '267980'; it does not match the pattern ``^[a-zA-Z_][a-zA-Z0-9_]*$``; you will not be able to use natural naming to access this object; using ``getattr()`` will still work, though\n",
      "  check_attribute_name(name)\n"
     ]
    },
    {
     "name": "stdout",
     "output_type": "stream",
     "text": [
      "Crawling *Annual* Financial Summary of *한신공영-268280*...\n"
     ]
    },
    {
     "name": "stderr",
     "output_type": "stream",
     "text": [
      "C:\\anaconda3\\lib\\site-packages\\tables\\path.py:155: NaturalNameWarning: object name is not a valid Python identifier: '268280'; it does not match the pattern ``^[a-zA-Z_][a-zA-Z0-9_]*$``; you will not be able to use natural naming to access this object; using ``getattr()`` will still work, though\n",
      "  check_attribute_name(name)\n"
     ]
    },
    {
     "name": "stdout",
     "output_type": "stream",
     "text": [
      "Crawling *Annual* Financial Summary of *신라교역-268600*...\n"
     ]
    },
    {
     "name": "stderr",
     "output_type": "stream",
     "text": [
      "C:\\anaconda3\\lib\\site-packages\\tables\\path.py:155: NaturalNameWarning: object name is not a valid Python identifier: '268600'; it does not match the pattern ``^[a-zA-Z_][a-zA-Z0-9_]*$``; you will not be able to use natural naming to access this object; using ``getattr()`` will still work, though\n",
      "  check_attribute_name(name)\n"
     ]
    },
    {
     "name": "stdout",
     "output_type": "stream",
     "text": [
      "Crawling *Annual* Financial Summary of *성신양회-269620*...\n"
     ]
    },
    {
     "name": "stderr",
     "output_type": "stream",
     "text": [
      "C:\\anaconda3\\lib\\site-packages\\tables\\path.py:155: NaturalNameWarning: object name is not a valid Python identifier: '269620'; it does not match the pattern ``^[a-zA-Z_][a-zA-Z0-9_]*$``; you will not be able to use natural naming to access this object; using ``getattr()`` will still work, though\n",
      "  check_attribute_name(name)\n"
     ]
    },
    {
     "name": "stdout",
     "output_type": "stream",
     "text": [
      "Crawling *Annual* Financial Summary of *롯데지주-270520*...\n"
     ]
    },
    {
     "name": "stderr",
     "output_type": "stream",
     "text": [
      "C:\\anaconda3\\lib\\site-packages\\tables\\path.py:155: NaturalNameWarning: object name is not a valid Python identifier: '270520'; it does not match the pattern ``^[a-zA-Z_][a-zA-Z0-9_]*$``; you will not be able to use natural naming to access this object; using ``getattr()`` will still work, though\n",
      "  check_attribute_name(name)\n"
     ]
    },
    {
     "name": "stdout",
     "output_type": "stream",
     "text": [
      "Crawling *Annual* Financial Summary of *휴스틸-270870*...\n"
     ]
    },
    {
     "name": "stderr",
     "output_type": "stream",
     "text": [
      "C:\\anaconda3\\lib\\site-packages\\tables\\path.py:155: NaturalNameWarning: object name is not a valid Python identifier: '270870'; it does not match the pattern ``^[a-zA-Z_][a-zA-Z0-9_]*$``; you will not be able to use natural naming to access this object; using ``getattr()`` will still work, though\n",
      "  check_attribute_name(name)\n"
     ]
    },
    {
     "name": "stdout",
     "output_type": "stream",
     "text": [
      "Crawling *Annual* Financial Summary of *부산주공-271560*...\n"
     ]
    },
    {
     "name": "stderr",
     "output_type": "stream",
     "text": [
      "C:\\anaconda3\\lib\\site-packages\\tables\\path.py:155: NaturalNameWarning: object name is not a valid Python identifier: '271560'; it does not match the pattern ``^[a-zA-Z_][a-zA-Z0-9_]*$``; you will not be able to use natural naming to access this object; using ``getattr()`` will still work, though\n",
      "  check_attribute_name(name)\n"
     ]
    },
    {
     "name": "stdout",
     "output_type": "stream",
     "text": [
      "Crawling *Annual* Financial Summary of *코스모신소재-271980*...\n"
     ]
    },
    {
     "name": "stderr",
     "output_type": "stream",
     "text": [
      "C:\\anaconda3\\lib\\site-packages\\tables\\path.py:155: NaturalNameWarning: object name is not a valid Python identifier: '271980'; it does not match the pattern ``^[a-zA-Z_][a-zA-Z0-9_]*$``; you will not be able to use natural naming to access this object; using ``getattr()`` will still work, though\n",
      "  check_attribute_name(name)\n"
     ]
    },
    {
     "name": "stdout",
     "output_type": "stream",
     "text": [
      "Crawling *Annual* Financial Summary of *SGC에너지-272110*...\n"
     ]
    },
    {
     "name": "stderr",
     "output_type": "stream",
     "text": [
      "C:\\anaconda3\\lib\\site-packages\\tables\\path.py:155: NaturalNameWarning: object name is not a valid Python identifier: '272110'; it does not match the pattern ``^[a-zA-Z_][a-zA-Z0-9_]*$``; you will not be able to use natural naming to access this object; using ``getattr()`` will still work, though\n",
      "  check_attribute_name(name)\n"
     ]
    },
    {
     "name": "stdout",
     "output_type": "stream",
     "text": [
      "Crawling *Annual* Financial Summary of *한창-272210*...\n"
     ]
    },
    {
     "name": "stderr",
     "output_type": "stream",
     "text": [
      "C:\\anaconda3\\lib\\site-packages\\tables\\path.py:155: NaturalNameWarning: object name is not a valid Python identifier: '272210'; it does not match the pattern ``^[a-zA-Z_][a-zA-Z0-9_]*$``; you will not be able to use natural naming to access this object; using ``getattr()`` will still work, though\n",
      "  check_attribute_name(name)\n"
     ]
    },
    {
     "name": "stdout",
     "output_type": "stream",
     "text": [
      "Crawling *Annual* Financial Summary of *동국산업-272290*...\n"
     ]
    },
    {
     "name": "stderr",
     "output_type": "stream",
     "text": [
      "C:\\anaconda3\\lib\\site-packages\\tables\\path.py:155: NaturalNameWarning: object name is not a valid Python identifier: '272290'; it does not match the pattern ``^[a-zA-Z_][a-zA-Z0-9_]*$``; you will not be able to use natural naming to access this object; using ``getattr()`` will still work, though\n",
      "  check_attribute_name(name)\n"
     ]
    },
    {
     "name": "stdout",
     "output_type": "stream",
     "text": [
      "Crawling *Annual* Financial Summary of *빙그레-272450*...\n"
     ]
    },
    {
     "name": "stderr",
     "output_type": "stream",
     "text": [
      "C:\\anaconda3\\lib\\site-packages\\tables\\path.py:155: NaturalNameWarning: object name is not a valid Python identifier: '272450'; it does not match the pattern ``^[a-zA-Z_][a-zA-Z0-9_]*$``; you will not be able to use natural naming to access this object; using ``getattr()`` will still work, though\n",
      "  check_attribute_name(name)\n"
     ]
    },
    {
     "name": "stdout",
     "output_type": "stream",
     "text": [
      "Crawling *Annual* Financial Summary of *동성화학-272550*...\n"
     ]
    },
    {
     "name": "stderr",
     "output_type": "stream",
     "text": [
      "C:\\anaconda3\\lib\\site-packages\\tables\\path.py:155: NaturalNameWarning: object name is not a valid Python identifier: '272550'; it does not match the pattern ``^[a-zA-Z_][a-zA-Z0-9_]*$``; you will not be able to use natural naming to access this object; using ``getattr()`` will still work, though\n",
      "  check_attribute_name(name)\n"
     ]
    },
    {
     "name": "stdout",
     "output_type": "stream",
     "text": [
      "Crawling *Annual* Financial Summary of *녹십자홀딩스-273060*...\n"
     ]
    },
    {
     "name": "stderr",
     "output_type": "stream",
     "text": [
      "C:\\anaconda3\\lib\\site-packages\\tables\\path.py:155: NaturalNameWarning: object name is not a valid Python identifier: '273060'; it does not match the pattern ``^[a-zA-Z_][a-zA-Z0-9_]*$``; you will not be able to use natural naming to access this object; using ``getattr()`` will still work, though\n",
      "  check_attribute_name(name)\n"
     ]
    },
    {
     "name": "stdout",
     "output_type": "stream",
     "text": [
      "Crawling *Annual* Financial Summary of *동진쎄미켐-274090*...\n"
     ]
    },
    {
     "name": "stderr",
     "output_type": "stream",
     "text": [
      "C:\\anaconda3\\lib\\site-packages\\tables\\path.py:155: NaturalNameWarning: object name is not a valid Python identifier: '274090'; it does not match the pattern ``^[a-zA-Z_][a-zA-Z0-9_]*$``; you will not be able to use natural naming to access this object; using ``getattr()`` will still work, though\n",
      "  check_attribute_name(name)\n"
     ]
    },
    {
     "name": "stdout",
     "output_type": "stream",
     "text": [
      "Crawling *Annual* Financial Summary of *롯데칠성음료-275630*...\n"
     ]
    },
    {
     "name": "stderr",
     "output_type": "stream",
     "text": [
      "C:\\anaconda3\\lib\\site-packages\\tables\\path.py:155: NaturalNameWarning: object name is not a valid Python identifier: '275630'; it does not match the pattern ``^[a-zA-Z_][a-zA-Z0-9_]*$``; you will not be able to use natural naming to access this object; using ``getattr()`` will still work, though\n",
      "  check_attribute_name(name)\n"
     ]
    },
    {
     "name": "stdout",
     "output_type": "stream",
     "text": [
      "Crawling *Annual* Financial Summary of *국동-277070*...\n"
     ]
    },
    {
     "name": "stderr",
     "output_type": "stream",
     "text": [
      "C:\\anaconda3\\lib\\site-packages\\tables\\path.py:155: NaturalNameWarning: object name is not a valid Python identifier: '277070'; it does not match the pattern ``^[a-zA-Z_][a-zA-Z0-9_]*$``; you will not be able to use natural naming to access this object; using ``getattr()`` will still work, though\n",
      "  check_attribute_name(name)\n"
     ]
    },
    {
     "name": "stdout",
     "output_type": "stream",
     "text": [
      "Crawling *Annual* Financial Summary of *모나미-277410*...\n"
     ]
    },
    {
     "name": "stderr",
     "output_type": "stream",
     "text": [
      "C:\\anaconda3\\lib\\site-packages\\tables\\path.py:155: NaturalNameWarning: object name is not a valid Python identifier: '277410'; it does not match the pattern ``^[a-zA-Z_][a-zA-Z0-9_]*$``; you will not be able to use natural naming to access this object; using ``getattr()`` will still work, though\n",
      "  check_attribute_name(name)\n"
     ]
    },
    {
     "name": "stdout",
     "output_type": "stream",
     "text": [
      "Crawling *Annual* Financial Summary of *현대자동차-277880*...\n"
     ]
    },
    {
     "name": "stderr",
     "output_type": "stream",
     "text": [
      "C:\\anaconda3\\lib\\site-packages\\tables\\path.py:155: NaturalNameWarning: object name is not a valid Python identifier: '277880'; it does not match the pattern ``^[a-zA-Z_][a-zA-Z0-9_]*$``; you will not be able to use natural naming to access this object; using ``getattr()`` will still work, though\n",
      "  check_attribute_name(name)\n"
     ]
    },
    {
     "name": "stdout",
     "output_type": "stream",
     "text": [
      "Crawling *Annual* Financial Summary of *신성통상-278280*...\n"
     ]
    },
    {
     "name": "stderr",
     "output_type": "stream",
     "text": [
      "C:\\anaconda3\\lib\\site-packages\\tables\\path.py:155: NaturalNameWarning: object name is not a valid Python identifier: '278280'; it does not match the pattern ``^[a-zA-Z_][a-zA-Z0-9_]*$``; you will not be able to use natural naming to access this object; using ``getattr()`` will still work, though\n",
      "  check_attribute_name(name)\n"
     ]
    },
    {
     "name": "stdout",
     "output_type": "stream",
     "text": [
      "Crawling *Annual* Financial Summary of *코스모화학-278650*...\n"
     ]
    },
    {
     "name": "stderr",
     "output_type": "stream",
     "text": [
      "C:\\anaconda3\\lib\\site-packages\\tables\\path.py:155: NaturalNameWarning: object name is not a valid Python identifier: '278650'; it does not match the pattern ``^[a-zA-Z_][a-zA-Z0-9_]*$``; you will not be able to use natural naming to access this object; using ``getattr()`` will still work, though\n",
      "  check_attribute_name(name)\n"
     ]
    },
    {
     "name": "stdout",
     "output_type": "stream",
     "text": [
      "Crawling *Annual* Financial Summary of *한국공항-279600*...\n"
     ]
    },
    {
     "name": "stderr",
     "output_type": "stream",
     "text": [
      "C:\\anaconda3\\lib\\site-packages\\tables\\path.py:155: NaturalNameWarning: object name is not a valid Python identifier: '279600'; it does not match the pattern ``^[a-zA-Z_][a-zA-Z0-9_]*$``; you will not be able to use natural naming to access this object; using ``getattr()`` will still work, though\n",
      "  check_attribute_name(name)\n"
     ]
    },
    {
     "name": "stdout",
     "output_type": "stream",
     "text": [
      "Crawling *Annual* Financial Summary of *현대그린푸드-280360*...\n"
     ]
    },
    {
     "name": "stderr",
     "output_type": "stream",
     "text": [
      "C:\\anaconda3\\lib\\site-packages\\tables\\path.py:155: NaturalNameWarning: object name is not a valid Python identifier: '280360'; it does not match the pattern ``^[a-zA-Z_][a-zA-Z0-9_]*$``; you will not be able to use natural naming to access this object; using ``getattr()`` will still work, though\n",
      "  check_attribute_name(name)\n"
     ]
    },
    {
     "name": "stdout",
     "output_type": "stream",
     "text": [
      "Crawling *Annual* Financial Summary of *포스코-281740*...\n"
     ]
    },
    {
     "name": "stderr",
     "output_type": "stream",
     "text": [
      "C:\\anaconda3\\lib\\site-packages\\tables\\path.py:155: NaturalNameWarning: object name is not a valid Python identifier: '281740'; it does not match the pattern ``^[a-zA-Z_][a-zA-Z0-9_]*$``; you will not be able to use natural naming to access this object; using ``getattr()`` will still work, though\n",
      "  check_attribute_name(name)\n"
     ]
    },
    {
     "name": "stdout",
     "output_type": "stream",
     "text": [
      "Crawling *Annual* Financial Summary of *삼진제약-281820*...\n"
     ]
    },
    {
     "name": "stderr",
     "output_type": "stream",
     "text": [
      "C:\\anaconda3\\lib\\site-packages\\tables\\path.py:155: NaturalNameWarning: object name is not a valid Python identifier: '281820'; it does not match the pattern ``^[a-zA-Z_][a-zA-Z0-9_]*$``; you will not be able to use natural naming to access this object; using ``getattr()`` will still work, though\n",
      "  check_attribute_name(name)\n"
     ]
    },
    {
     "name": "stdout",
     "output_type": "stream",
     "text": [
      "Crawling *Annual* Financial Summary of *SPC삼립-282330*...\n"
     ]
    },
    {
     "name": "stderr",
     "output_type": "stream",
     "text": [
      "C:\\anaconda3\\lib\\site-packages\\tables\\path.py:155: NaturalNameWarning: object name is not a valid Python identifier: '282330'; it does not match the pattern ``^[a-zA-Z_][a-zA-Z0-9_]*$``; you will not be able to use natural naming to access this object; using ``getattr()`` will still work, though\n",
      "  check_attribute_name(name)\n"
     ]
    },
    {
     "name": "stdout",
     "output_type": "stream",
     "text": [
      "Crawling *Annual* Financial Summary of *푸드웰-282690*...\n"
     ]
    },
    {
     "name": "stderr",
     "output_type": "stream",
     "text": [
      "C:\\anaconda3\\lib\\site-packages\\tables\\path.py:155: NaturalNameWarning: object name is not a valid Python identifier: '282690'; it does not match the pattern ``^[a-zA-Z_][a-zA-Z0-9_]*$``; you will not be able to use natural naming to access this object; using ``getattr()`` will still work, though\n",
      "  check_attribute_name(name)\n"
     ]
    },
    {
     "name": "stdout",
     "output_type": "stream",
     "text": [
      "Crawling *Annual* Financial Summary of *삼영전자공업-282880*...\n"
     ]
    },
    {
     "name": "stderr",
     "output_type": "stream",
     "text": [
      "C:\\anaconda3\\lib\\site-packages\\tables\\path.py:155: NaturalNameWarning: object name is not a valid Python identifier: '282880'; it does not match the pattern ``^[a-zA-Z_][a-zA-Z0-9_]*$``; you will not be able to use natural naming to access this object; using ``getattr()`` will still work, though\n",
      "  check_attribute_name(name)\n"
     ]
    },
    {
     "name": "stdout",
     "output_type": "stream",
     "text": [
      "Crawling *Annual* Financial Summary of *파미셀-284620*...\n"
     ]
    },
    {
     "name": "stderr",
     "output_type": "stream",
     "text": [
      "C:\\anaconda3\\lib\\site-packages\\tables\\path.py:155: NaturalNameWarning: object name is not a valid Python identifier: '284620'; it does not match the pattern ``^[a-zA-Z_][a-zA-Z0-9_]*$``; you will not be able to use natural naming to access this object; using ``getattr()`` will still work, though\n",
      "  check_attribute_name(name)\n"
     ]
    },
    {
     "name": "stdout",
     "output_type": "stream",
     "text": [
      "Crawling *Annual* Financial Summary of *대원산업-284740*...\n"
     ]
    },
    {
     "name": "stderr",
     "output_type": "stream",
     "text": [
      "C:\\anaconda3\\lib\\site-packages\\tables\\path.py:155: NaturalNameWarning: object name is not a valid Python identifier: '284740'; it does not match the pattern ``^[a-zA-Z_][a-zA-Z0-9_]*$``; you will not be able to use natural naming to access this object; using ``getattr()`` will still work, though\n",
      "  check_attribute_name(name)\n"
     ]
    },
    {
     "name": "stdout",
     "output_type": "stream",
     "text": [
      "Crawling *Annual* Financial Summary of *넥센-285130*...\n"
     ]
    },
    {
     "name": "stderr",
     "output_type": "stream",
     "text": [
      "C:\\anaconda3\\lib\\site-packages\\tables\\path.py:155: NaturalNameWarning: object name is not a valid Python identifier: '285130'; it does not match the pattern ``^[a-zA-Z_][a-zA-Z0-9_]*$``; you will not be able to use natural naming to access this object; using ``getattr()`` will still work, though\n",
      "  check_attribute_name(name)\n"
     ]
    },
    {
     "name": "stdout",
     "output_type": "stream",
     "text": [
      "Crawling *Annual* Financial Summary of *크라운해태홀딩스-285490*...\n"
     ]
    },
    {
     "name": "stderr",
     "output_type": "stream",
     "text": [
      "C:\\anaconda3\\lib\\site-packages\\tables\\path.py:155: NaturalNameWarning: object name is not a valid Python identifier: '285490'; it does not match the pattern ``^[a-zA-Z_][a-zA-Z0-9_]*$``; you will not be able to use natural naming to access this object; using ``getattr()`` will still work, though\n",
      "  check_attribute_name(name)\n"
     ]
    },
    {
     "name": "stdout",
     "output_type": "stream",
     "text": [
      "Crawling *Annual* Financial Summary of *대림비앤코-286750*...\n"
     ]
    },
    {
     "name": "stderr",
     "output_type": "stream",
     "text": [
      "C:\\anaconda3\\lib\\site-packages\\tables\\path.py:155: NaturalNameWarning: object name is not a valid Python identifier: '286750'; it does not match the pattern ``^[a-zA-Z_][a-zA-Z0-9_]*$``; you will not be able to use natural naming to access this object; using ``getattr()`` will still work, though\n",
      "  check_attribute_name(name)\n"
     ]
    },
    {
     "name": "stdout",
     "output_type": "stream",
     "text": [
      "Crawling *Annual* Financial Summary of *신영와코루-286940*...\n"
     ]
    },
    {
     "name": "stderr",
     "output_type": "stream",
     "text": [
      "C:\\anaconda3\\lib\\site-packages\\tables\\path.py:155: NaturalNameWarning: object name is not a valid Python identifier: '286940'; it does not match the pattern ``^[a-zA-Z_][a-zA-Z0-9_]*$``; you will not be able to use natural naming to access this object; using ``getattr()`` will still work, though\n",
      "  check_attribute_name(name)\n"
     ]
    },
    {
     "name": "stdout",
     "output_type": "stream",
     "text": [
      "Crawling *Annual* Financial Summary of *풍산홀딩스-287410*...\n"
     ]
    },
    {
     "name": "stderr",
     "output_type": "stream",
     "text": [
      "C:\\anaconda3\\lib\\site-packages\\tables\\path.py:155: NaturalNameWarning: object name is not a valid Python identifier: '287410'; it does not match the pattern ``^[a-zA-Z_][a-zA-Z0-9_]*$``; you will not be able to use natural naming to access this object; using ``getattr()`` will still work, though\n",
      "  check_attribute_name(name)\n"
     ]
    },
    {
     "name": "stdout",
     "output_type": "stream",
     "text": [
      "Crawling *Annual* Financial Summary of *원림-288330*...\n"
     ]
    },
    {
     "name": "stderr",
     "output_type": "stream",
     "text": [
      "C:\\anaconda3\\lib\\site-packages\\tables\\path.py:155: NaturalNameWarning: object name is not a valid Python identifier: '288330'; it does not match the pattern ``^[a-zA-Z_][a-zA-Z0-9_]*$``; you will not be able to use natural naming to access this object; using ``getattr()`` will still work, though\n",
      "  check_attribute_name(name)\n"
     ]
    },
    {
     "name": "stdout",
     "output_type": "stream",
     "text": [
      "Crawling *Annual* Financial Summary of *DB손해보험-288620*...\n"
     ]
    },
    {
     "name": "stderr",
     "output_type": "stream",
     "text": [
      "C:\\anaconda3\\lib\\site-packages\\tables\\path.py:155: NaturalNameWarning: object name is not a valid Python identifier: '288620'; it does not match the pattern ``^[a-zA-Z_][a-zA-Z0-9_]*$``; you will not be able to use natural naming to access this object; using ``getattr()`` will still work, though\n",
      "  check_attribute_name(name)\n"
     ]
    },
    {
     "name": "stdout",
     "output_type": "stream",
     "text": [
      "Crawling *Annual* Financial Summary of *에스엘-289010*...\n"
     ]
    },
    {
     "name": "stderr",
     "output_type": "stream",
     "text": [
      "C:\\anaconda3\\lib\\site-packages\\tables\\path.py:155: NaturalNameWarning: object name is not a valid Python identifier: '289010'; it does not match the pattern ``^[a-zA-Z_][a-zA-Z0-9_]*$``; you will not be able to use natural naming to access this object; using ``getattr()`` will still work, though\n",
      "  check_attribute_name(name)\n"
     ]
    },
    {
     "name": "stdout",
     "output_type": "stream",
     "text": [
      "Crawling *Annual* Financial Summary of *한일사료-289080*...\n"
     ]
    },
    {
     "name": "stderr",
     "output_type": "stream",
     "text": [
      "C:\\anaconda3\\lib\\site-packages\\tables\\path.py:155: NaturalNameWarning: object name is not a valid Python identifier: '289080'; it does not match the pattern ``^[a-zA-Z_][a-zA-Z0-9_]*$``; you will not be able to use natural naming to access this object; using ``getattr()`` will still work, though\n",
      "  check_attribute_name(name)\n"
     ]
    },
    {
     "name": "stdout",
     "output_type": "stream",
     "text": [
      "Crawling *Annual* Financial Summary of *휴니드테크놀러지스-290120*...\n"
     ]
    },
    {
     "name": "stderr",
     "output_type": "stream",
     "text": [
      "C:\\anaconda3\\lib\\site-packages\\tables\\path.py:155: NaturalNameWarning: object name is not a valid Python identifier: '290120'; it does not match the pattern ``^[a-zA-Z_][a-zA-Z0-9_]*$``; you will not be able to use natural naming to access this object; using ``getattr()`` will still work, though\n",
      "  check_attribute_name(name)\n"
     ]
    },
    {
     "name": "stdout",
     "output_type": "stream",
     "text": [
      "Crawling *Annual* Financial Summary of *대한해운-290270*...\n"
     ]
    },
    {
     "name": "stderr",
     "output_type": "stream",
     "text": [
      "C:\\anaconda3\\lib\\site-packages\\tables\\path.py:155: NaturalNameWarning: object name is not a valid Python identifier: '290270'; it does not match the pattern ``^[a-zA-Z_][a-zA-Z0-9_]*$``; you will not be able to use natural naming to access this object; using ``getattr()`` will still work, though\n",
      "  check_attribute_name(name)\n"
     ]
    },
    {
     "name": "stdout",
     "output_type": "stream",
     "text": [
      "Crawling *Annual* Financial Summary of *삼성전자-290380*...\n"
     ]
    },
    {
     "name": "stderr",
     "output_type": "stream",
     "text": [
      "C:\\anaconda3\\lib\\site-packages\\tables\\path.py:155: NaturalNameWarning: object name is not a valid Python identifier: '290380'; it does not match the pattern ``^[a-zA-Z_][a-zA-Z0-9_]*$``; you will not be able to use natural naming to access this object; using ``getattr()`` will still work, though\n",
      "  check_attribute_name(name)\n"
     ]
    },
    {
     "name": "stdout",
     "output_type": "stream",
     "text": [
      "Crawling *Annual* Financial Summary of *NH투자증권-290510*...\n"
     ]
    },
    {
     "name": "stderr",
     "output_type": "stream",
     "text": [
      "C:\\anaconda3\\lib\\site-packages\\tables\\path.py:155: NaturalNameWarning: object name is not a valid Python identifier: '290510'; it does not match the pattern ``^[a-zA-Z_][a-zA-Z0-9_]*$``; you will not be able to use natural naming to access this object; using ``getattr()`` will still work, though\n",
      "  check_attribute_name(name)\n"
     ]
    },
    {
     "name": "stdout",
     "output_type": "stream",
     "text": [
      "Crawling *Annual* Financial Summary of *이수화학-290520*...\n"
     ]
    },
    {
     "name": "stderr",
     "output_type": "stream",
     "text": [
      "C:\\anaconda3\\lib\\site-packages\\tables\\path.py:155: NaturalNameWarning: object name is not a valid Python identifier: '290520'; it does not match the pattern ``^[a-zA-Z_][a-zA-Z0-9_]*$``; you will not be able to use natural naming to access this object; using ``getattr()`` will still work, though\n",
      "  check_attribute_name(name)\n"
     ]
    },
    {
     "name": "stdout",
     "output_type": "stream",
     "text": [
      "Crawling *Annual* Financial Summary of *동부건설-290550*...\n"
     ]
    },
    {
     "name": "stderr",
     "output_type": "stream",
     "text": [
      "C:\\anaconda3\\lib\\site-packages\\tables\\path.py:155: NaturalNameWarning: object name is not a valid Python identifier: '290550'; it does not match the pattern ``^[a-zA-Z_][a-zA-Z0-9_]*$``; you will not be able to use natural naming to access this object; using ``getattr()`` will still work, though\n",
      "  check_attribute_name(name)\n"
     ]
    },
    {
     "name": "stdout",
     "output_type": "stream",
     "text": [
      "Crawling *Annual* Financial Summary of *매일홀딩스-290650*...\n"
     ]
    },
    {
     "name": "stderr",
     "output_type": "stream",
     "text": [
      "C:\\anaconda3\\lib\\site-packages\\tables\\path.py:155: NaturalNameWarning: object name is not a valid Python identifier: '290650'; it does not match the pattern ``^[a-zA-Z_][a-zA-Z0-9_]*$``; you will not be able to use natural naming to access this object; using ``getattr()`` will still work, though\n",
      "  check_attribute_name(name)\n"
     ]
    },
    {
     "name": "stdout",
     "output_type": "stream",
     "text": [
      "Crawling *Annual* Financial Summary of *동원산업-290660*...\n"
     ]
    },
    {
     "name": "stderr",
     "output_type": "stream",
     "text": [
      "C:\\anaconda3\\lib\\site-packages\\tables\\path.py:155: NaturalNameWarning: object name is not a valid Python identifier: '290660'; it does not match the pattern ``^[a-zA-Z_][a-zA-Z0-9_]*$``; you will not be able to use natural naming to access this object; using ``getattr()`` will still work, though\n",
      "  check_attribute_name(name)\n"
     ]
    },
    {
     "name": "stdout",
     "output_type": "stream",
     "text": [
      "Crawling *Annual* Financial Summary of *국영지앤엠-290670*...\n"
     ]
    },
    {
     "name": "stderr",
     "output_type": "stream",
     "text": [
      "C:\\anaconda3\\lib\\site-packages\\tables\\path.py:155: NaturalNameWarning: object name is not a valid Python identifier: '290670'; it does not match the pattern ``^[a-zA-Z_][a-zA-Z0-9_]*$``; you will not be able to use natural naming to access this object; using ``getattr()`` will still work, though\n",
      "  check_attribute_name(name)\n"
     ]
    },
    {
     "name": "stdout",
     "output_type": "stream",
     "text": [
      "Crawling *Annual* Financial Summary of *화승인더스트리-290690*...\n"
     ]
    },
    {
     "name": "stderr",
     "output_type": "stream",
     "text": [
      "C:\\anaconda3\\lib\\site-packages\\tables\\path.py:155: NaturalNameWarning: object name is not a valid Python identifier: '290690'; it does not match the pattern ``^[a-zA-Z_][a-zA-Z0-9_]*$``; you will not be able to use natural naming to access this object; using ``getattr()`` will still work, though\n",
      "  check_attribute_name(name)\n"
     ]
    },
    {
     "name": "stdout",
     "output_type": "stream",
     "text": [
      "Crawling *Annual* Financial Summary of *사조오양-290720*...\n"
     ]
    },
    {
     "name": "stderr",
     "output_type": "stream",
     "text": [
      "C:\\anaconda3\\lib\\site-packages\\tables\\path.py:155: NaturalNameWarning: object name is not a valid Python identifier: '290720'; it does not match the pattern ``^[a-zA-Z_][a-zA-Z0-9_]*$``; you will not be able to use natural naming to access this object; using ``getattr()`` will still work, though\n",
      "  check_attribute_name(name)\n"
     ]
    },
    {
     "name": "stdout",
     "output_type": "stream",
     "text": [
      "Crawling *Annual* Financial Summary of *삼아알미늄-290740*...\n"
     ]
    },
    {
     "name": "stderr",
     "output_type": "stream",
     "text": [
      "C:\\anaconda3\\lib\\site-packages\\tables\\path.py:155: NaturalNameWarning: object name is not a valid Python identifier: '290740'; it does not match the pattern ``^[a-zA-Z_][a-zA-Z0-9_]*$``; you will not be able to use natural naming to access this object; using ``getattr()`` will still work, though\n",
      "  check_attribute_name(name)\n"
     ]
    },
    {
     "name": "stdout",
     "output_type": "stream",
     "text": [
      "Crawling *Annual* Financial Summary of *SK디스커버리-291210*...\n"
     ]
    },
    {
     "name": "stderr",
     "output_type": "stream",
     "text": [
      "C:\\anaconda3\\lib\\site-packages\\tables\\path.py:155: NaturalNameWarning: object name is not a valid Python identifier: '291210'; it does not match the pattern ``^[a-zA-Z_][a-zA-Z0-9_]*$``; you will not be able to use natural naming to access this object; using ``getattr()`` will still work, though\n",
      "  check_attribute_name(name)\n"
     ]
    },
    {
     "name": "stdout",
     "output_type": "stream",
     "text": [
      "Crawling *Annual* Financial Summary of *피제이전자-291230*...\n"
     ]
    },
    {
     "name": "stderr",
     "output_type": "stream",
     "text": [
      "C:\\anaconda3\\lib\\site-packages\\tables\\path.py:155: NaturalNameWarning: object name is not a valid Python identifier: '291230'; it does not match the pattern ``^[a-zA-Z_][a-zA-Z0-9_]*$``; you will not be able to use natural naming to access this object; using ``getattr()`` will still work, though\n",
      "  check_attribute_name(name)\n"
     ]
    },
    {
     "name": "stdout",
     "output_type": "stream",
     "text": [
      "Crawling *Annual* Financial Summary of *한국전자홀딩스-291650*...\n"
     ]
    },
    {
     "name": "stderr",
     "output_type": "stream",
     "text": [
      "C:\\anaconda3\\lib\\site-packages\\tables\\path.py:155: NaturalNameWarning: object name is not a valid Python identifier: '291650'; it does not match the pattern ``^[a-zA-Z_][a-zA-Z0-9_]*$``; you will not be able to use natural naming to access this object; using ``getattr()`` will still work, though\n",
      "  check_attribute_name(name)\n"
     ]
    },
    {
     "name": "stdout",
     "output_type": "stream",
     "text": [
      "Crawling *Annual* Financial Summary of *제주은행-293480*...\n"
     ]
    },
    {
     "name": "stderr",
     "output_type": "stream",
     "text": [
      "C:\\anaconda3\\lib\\site-packages\\tables\\path.py:155: NaturalNameWarning: object name is not a valid Python identifier: '293480'; it does not match the pattern ``^[a-zA-Z_][a-zA-Z0-9_]*$``; you will not be able to use natural naming to access this object; using ``getattr()`` will still work, though\n",
      "  check_attribute_name(name)\n"
     ]
    },
    {
     "name": "stdout",
     "output_type": "stream",
     "text": [
      "Crawling *Annual* Financial Summary of *LS-293490*...\n"
     ]
    },
    {
     "name": "stderr",
     "output_type": "stream",
     "text": [
      "C:\\anaconda3\\lib\\site-packages\\tables\\path.py:155: NaturalNameWarning: object name is not a valid Python identifier: '293490'; it does not match the pattern ``^[a-zA-Z_][a-zA-Z0-9_]*$``; you will not be able to use natural naming to access this object; using ``getattr()`` will still work, though\n",
      "  check_attribute_name(name)\n"
     ]
    },
    {
     "name": "stdout",
     "output_type": "stream",
     "text": [
      "Crawling *Annual* Financial Summary of *녹십자-293580*...\n"
     ]
    },
    {
     "name": "stderr",
     "output_type": "stream",
     "text": [
      "C:\\anaconda3\\lib\\site-packages\\tables\\path.py:155: NaturalNameWarning: object name is not a valid Python identifier: '293580'; it does not match the pattern ``^[a-zA-Z_][a-zA-Z0-9_]*$``; you will not be able to use natural naming to access this object; using ``getattr()`` will still work, though\n",
      "  check_attribute_name(name)\n"
     ]
    },
    {
     "name": "stdout",
     "output_type": "stream",
     "text": [
      "Crawling *Annual* Financial Summary of *대원전선-293780*...\n"
     ]
    },
    {
     "name": "stderr",
     "output_type": "stream",
     "text": [
      "C:\\anaconda3\\lib\\site-packages\\tables\\path.py:155: NaturalNameWarning: object name is not a valid Python identifier: '293780'; it does not match the pattern ``^[a-zA-Z_][a-zA-Z0-9_]*$``; you will not be able to use natural naming to access this object; using ``getattr()`` will still work, though\n",
      "  check_attribute_name(name)\n"
     ]
    },
    {
     "name": "stdout",
     "output_type": "stream",
     "text": [
      "Crawling *Annual* Financial Summary of *GS건설-293940*...\n"
     ]
    },
    {
     "name": "stderr",
     "output_type": "stream",
     "text": [
      "C:\\anaconda3\\lib\\site-packages\\tables\\path.py:155: NaturalNameWarning: object name is not a valid Python identifier: '293940'; it does not match the pattern ``^[a-zA-Z_][a-zA-Z0-9_]*$``; you will not be able to use natural naming to access this object; using ``getattr()`` will still work, though\n",
      "  check_attribute_name(name)\n"
     ]
    },
    {
     "name": "stdout",
     "output_type": "stream",
     "text": [
      "Crawling *Annual* Financial Summary of *대구백화점-294090*...\n"
     ]
    },
    {
     "name": "stderr",
     "output_type": "stream",
     "text": [
      "C:\\anaconda3\\lib\\site-packages\\tables\\path.py:155: NaturalNameWarning: object name is not a valid Python identifier: '294090'; it does not match the pattern ``^[a-zA-Z_][a-zA-Z0-9_]*$``; you will not be able to use natural naming to access this object; using ``getattr()`` will still work, though\n",
      "  check_attribute_name(name)\n"
     ]
    },
    {
     "name": "stdout",
     "output_type": "stream",
     "text": [
      "Crawling *Annual* Financial Summary of *카프로-294140*...\n"
     ]
    },
    {
     "name": "stderr",
     "output_type": "stream",
     "text": [
      "C:\\anaconda3\\lib\\site-packages\\tables\\path.py:155: NaturalNameWarning: object name is not a valid Python identifier: '294140'; it does not match the pattern ``^[a-zA-Z_][a-zA-Z0-9_]*$``; you will not be able to use natural naming to access this object; using ``getattr()`` will still work, though\n",
      "  check_attribute_name(name)\n"
     ]
    },
    {
     "name": "stdout",
     "output_type": "stream",
     "text": [
      "Crawling *Annual* Financial Summary of *한일현대시멘트-294630*...\n"
     ]
    },
    {
     "name": "stderr",
     "output_type": "stream",
     "text": [
      "C:\\anaconda3\\lib\\site-packages\\tables\\path.py:155: NaturalNameWarning: object name is not a valid Python identifier: '294630'; it does not match the pattern ``^[a-zA-Z_][a-zA-Z0-9_]*$``; you will not be able to use natural naming to access this object; using ``getattr()`` will still work, though\n",
      "  check_attribute_name(name)\n"
     ]
    },
    {
     "name": "stdout",
     "output_type": "stream",
     "text": [
      "Crawling *Annual* Financial Summary of *삼성SDI-294870*...\n"
     ]
    },
    {
     "name": "stderr",
     "output_type": "stream",
     "text": [
      "C:\\anaconda3\\lib\\site-packages\\tables\\path.py:155: NaturalNameWarning: object name is not a valid Python identifier: '294870'; it does not match the pattern ``^[a-zA-Z_][a-zA-Z0-9_]*$``; you will not be able to use natural naming to access this object; using ``getattr()`` will still work, though\n",
      "  check_attribute_name(name)\n"
     ]
    },
    {
     "name": "stdout",
     "output_type": "stream",
     "text": [
      "Crawling *Annual* Financial Summary of *인스코비-297090*...\n"
     ]
    },
    {
     "name": "stderr",
     "output_type": "stream",
     "text": [
      "C:\\anaconda3\\lib\\site-packages\\tables\\path.py:155: NaturalNameWarning: object name is not a valid Python identifier: '297090'; it does not match the pattern ``^[a-zA-Z_][a-zA-Z0-9_]*$``; you will not be able to use natural naming to access this object; using ``getattr()`` will still work, though\n",
      "  check_attribute_name(name)\n"
     ]
    },
    {
     "name": "stdout",
     "output_type": "stream",
     "text": [
      "Crawling *Annual* Financial Summary of *대림통상-297570*...\n"
     ]
    },
    {
     "name": "stderr",
     "output_type": "stream",
     "text": [
      "C:\\anaconda3\\lib\\site-packages\\tables\\path.py:155: NaturalNameWarning: object name is not a valid Python identifier: '297570'; it does not match the pattern ``^[a-zA-Z_][a-zA-Z0-9_]*$``; you will not be able to use natural naming to access this object; using ``getattr()`` will still work, though\n",
      "  check_attribute_name(name)\n"
     ]
    },
    {
     "name": "stdout",
     "output_type": "stream",
     "text": [
      "Crawling *Annual* Financial Summary of *대양제지-297890*...\n"
     ]
    },
    {
     "name": "stderr",
     "output_type": "stream",
     "text": [
      "C:\\anaconda3\\lib\\site-packages\\tables\\path.py:155: NaturalNameWarning: object name is not a valid Python identifier: '297890'; it does not match the pattern ``^[a-zA-Z_][a-zA-Z0-9_]*$``; you will not be able to use natural naming to access this object; using ``getattr()`` will still work, though\n",
      "  check_attribute_name(name)\n"
     ]
    },
    {
     "name": "stdout",
     "output_type": "stream",
     "text": [
      "Crawling *Annual* Financial Summary of *동구바이오제약-298000*...\n"
     ]
    },
    {
     "name": "stderr",
     "output_type": "stream",
     "text": [
      "C:\\anaconda3\\lib\\site-packages\\tables\\path.py:155: NaturalNameWarning: object name is not a valid Python identifier: '298000'; it does not match the pattern ``^[a-zA-Z_][a-zA-Z0-9_]*$``; you will not be able to use natural naming to access this object; using ``getattr()`` will still work, though\n",
      "  check_attribute_name(name)\n"
     ]
    },
    {
     "name": "stdout",
     "output_type": "stream",
     "text": [
      "Crawling *Annual* Financial Summary of *대한유화-298020*...\n"
     ]
    },
    {
     "name": "stderr",
     "output_type": "stream",
     "text": [
      "C:\\anaconda3\\lib\\site-packages\\tables\\path.py:155: NaturalNameWarning: object name is not a valid Python identifier: '298020'; it does not match the pattern ``^[a-zA-Z_][a-zA-Z0-9_]*$``; you will not be able to use natural naming to access this object; using ``getattr()`` will still work, though\n",
      "  check_attribute_name(name)\n"
     ]
    },
    {
     "name": "stdout",
     "output_type": "stream",
     "text": [
      "Crawling *Annual* Financial Summary of *삼성공조-298040*...\n"
     ]
    },
    {
     "name": "stderr",
     "output_type": "stream",
     "text": [
      "C:\\anaconda3\\lib\\site-packages\\tables\\path.py:155: NaturalNameWarning: object name is not a valid Python identifier: '298040'; it does not match the pattern ``^[a-zA-Z_][a-zA-Z0-9_]*$``; you will not be able to use natural naming to access this object; using ``getattr()`` will still work, though\n",
      "  check_attribute_name(name)\n"
     ]
    },
    {
     "name": "stdout",
     "output_type": "stream",
     "text": [
      "Crawling *Annual* Financial Summary of *서부T&D-298050*...\n"
     ]
    },
    {
     "name": "stderr",
     "output_type": "stream",
     "text": [
      "C:\\anaconda3\\lib\\site-packages\\tables\\path.py:155: NaturalNameWarning: object name is not a valid Python identifier: '298050'; it does not match the pattern ``^[a-zA-Z_][a-zA-Z0-9_]*$``; you will not be able to use natural naming to access this object; using ``getattr()`` will still work, though\n",
      "  check_attribute_name(name)\n"
     ]
    },
    {
     "name": "stdout",
     "output_type": "stream",
     "text": [
      "Crawling *Annual* Financial Summary of *영풍제지-298060*...\n"
     ]
    },
    {
     "name": "stderr",
     "output_type": "stream",
     "text": [
      "C:\\anaconda3\\lib\\site-packages\\tables\\path.py:155: NaturalNameWarning: object name is not a valid Python identifier: '298060'; it does not match the pattern ``^[a-zA-Z_][a-zA-Z0-9_]*$``; you will not be able to use natural naming to access this object; using ``getattr()`` will still work, though\n",
      "  check_attribute_name(name)\n"
     ]
    },
    {
     "name": "stdout",
     "output_type": "stream",
     "text": [
      "Crawling *Annual* Financial Summary of *미래에셋대우-298380*...\n"
     ]
    },
    {
     "name": "stderr",
     "output_type": "stream",
     "text": [
      "C:\\anaconda3\\lib\\site-packages\\tables\\path.py:155: NaturalNameWarning: object name is not a valid Python identifier: '298380'; it does not match the pattern ``^[a-zA-Z_][a-zA-Z0-9_]*$``; you will not be able to use natural naming to access this object; using ``getattr()`` will still work, though\n",
      "  check_attribute_name(name)\n"
     ]
    },
    {
     "name": "stdout",
     "output_type": "stream",
     "text": [
      "Crawling *Annual* Financial Summary of *AK홀딩스-298540*...\n"
     ]
    },
    {
     "name": "stderr",
     "output_type": "stream",
     "text": [
      "C:\\anaconda3\\lib\\site-packages\\tables\\path.py:155: NaturalNameWarning: object name is not a valid Python identifier: '298540'; it does not match the pattern ``^[a-zA-Z_][a-zA-Z0-9_]*$``; you will not be able to use natural naming to access this object; using ``getattr()`` will still work, though\n",
      "  check_attribute_name(name)\n"
     ]
    },
    {
     "name": "stdout",
     "output_type": "stream",
     "text": [
      "Crawling *Annual* Financial Summary of *신송홀딩스-298690*...\n"
     ]
    },
    {
     "name": "stderr",
     "output_type": "stream",
     "text": [
      "C:\\anaconda3\\lib\\site-packages\\tables\\path.py:155: NaturalNameWarning: object name is not a valid Python identifier: '298690'; it does not match the pattern ``^[a-zA-Z_][a-zA-Z0-9_]*$``; you will not be able to use natural naming to access this object; using ``getattr()`` will still work, though\n",
      "  check_attribute_name(name)\n"
     ]
    },
    {
     "name": "stdout",
     "output_type": "stream",
     "text": [
      "Crawling *Annual* Financial Summary of *태경케미컬-299030*...\n"
     ]
    },
    {
     "name": "stderr",
     "output_type": "stream",
     "text": [
      "C:\\anaconda3\\lib\\site-packages\\tables\\path.py:155: NaturalNameWarning: object name is not a valid Python identifier: '299030'; it does not match the pattern ``^[a-zA-Z_][a-zA-Z0-9_]*$``; you will not be able to use natural naming to access this object; using ``getattr()`` will still work, though\n",
      "  check_attribute_name(name)\n"
     ]
    },
    {
     "name": "stdout",
     "output_type": "stream",
     "text": [
      "Crawling *Annual* Financial Summary of *보성파워텍-299170*...\n"
     ]
    },
    {
     "name": "stderr",
     "output_type": "stream",
     "text": [
      "C:\\anaconda3\\lib\\site-packages\\tables\\path.py:155: NaturalNameWarning: object name is not a valid Python identifier: '299170'; it does not match the pattern ``^[a-zA-Z_][a-zA-Z0-9_]*$``; you will not be able to use natural naming to access this object; using ``getattr()`` will still work, though\n",
      "  check_attribute_name(name)\n"
     ]
    },
    {
     "name": "stdout",
     "output_type": "stream",
     "text": [
      "Crawling *Annual* Financial Summary of *모헨즈-299660*...\n"
     ]
    },
    {
     "name": "stderr",
     "output_type": "stream",
     "text": [
      "C:\\anaconda3\\lib\\site-packages\\tables\\path.py:155: NaturalNameWarning: object name is not a valid Python identifier: '299660'; it does not match the pattern ``^[a-zA-Z_][a-zA-Z0-9_]*$``; you will not be able to use natural naming to access this object; using ``getattr()`` will still work, though\n",
      "  check_attribute_name(name)\n"
     ]
    },
    {
     "name": "stdout",
     "output_type": "stream",
     "text": [
      "Crawling *Annual* Financial Summary of *우성사료-299900*...\n"
     ]
    },
    {
     "name": "stderr",
     "output_type": "stream",
     "text": [
      "C:\\anaconda3\\lib\\site-packages\\tables\\path.py:155: NaturalNameWarning: object name is not a valid Python identifier: '299900'; it does not match the pattern ``^[a-zA-Z_][a-zA-Z0-9_]*$``; you will not be able to use natural naming to access this object; using ``getattr()`` will still work, though\n",
      "  check_attribute_name(name)\n"
     ]
    },
    {
     "name": "stdout",
     "output_type": "stream",
     "text": [
      "Crawling *Annual* Financial Summary of *GS리테일-299910*...\n"
     ]
    },
    {
     "name": "stderr",
     "output_type": "stream",
     "text": [
      "C:\\anaconda3\\lib\\site-packages\\tables\\path.py:155: NaturalNameWarning: object name is not a valid Python identifier: '299910'; it does not match the pattern ``^[a-zA-Z_][a-zA-Z0-9_]*$``; you will not be able to use natural naming to access this object; using ``getattr()`` will still work, though\n",
      "  check_attribute_name(name)\n"
     ]
    },
    {
     "name": "stdout",
     "output_type": "stream",
     "text": [
      "Crawling *Annual* Financial Summary of *일신석재-300080*...\n"
     ]
    },
    {
     "name": "stderr",
     "output_type": "stream",
     "text": [
      "C:\\anaconda3\\lib\\site-packages\\tables\\path.py:155: NaturalNameWarning: object name is not a valid Python identifier: '300080'; it does not match the pattern ``^[a-zA-Z_][a-zA-Z0-9_]*$``; you will not be able to use natural naming to access this object; using ``getattr()`` will still work, though\n",
      "  check_attribute_name(name)\n"
     ]
    },
    {
     "name": "stdout",
     "output_type": "stream",
     "text": [
      "Crawling *Annual* Financial Summary of *미래아이앤지-300120*...\n"
     ]
    },
    {
     "name": "stderr",
     "output_type": "stream",
     "text": [
      "C:\\anaconda3\\lib\\site-packages\\tables\\path.py:155: NaturalNameWarning: object name is not a valid Python identifier: '300120'; it does not match the pattern ``^[a-zA-Z_][a-zA-Z0-9_]*$``; you will not be able to use natural naming to access this object; using ``getattr()`` will still work, though\n",
      "  check_attribute_name(name)\n"
     ]
    },
    {
     "name": "stdout",
     "output_type": "stream",
     "text": [
      "Crawling *Annual* Financial Summary of *사조산업-300720*...\n"
     ]
    },
    {
     "name": "stderr",
     "output_type": "stream",
     "text": [
      "C:\\anaconda3\\lib\\site-packages\\tables\\path.py:155: NaturalNameWarning: object name is not a valid Python identifier: '300720'; it does not match the pattern ``^[a-zA-Z_][a-zA-Z0-9_]*$``; you will not be able to use natural naming to access this object; using ``getattr()`` will still work, though\n",
      "  check_attribute_name(name)\n"
     ]
    },
    {
     "name": "stdout",
     "output_type": "stream",
     "text": [
      "Crawling *Annual* Financial Summary of *벽산-301300*...\n"
     ]
    },
    {
     "name": "stderr",
     "output_type": "stream",
     "text": [
      "C:\\anaconda3\\lib\\site-packages\\tables\\path.py:155: NaturalNameWarning: object name is not a valid Python identifier: '301300'; it does not match the pattern ``^[a-zA-Z_][a-zA-Z0-9_]*$``; you will not be able to use natural naming to access this object; using ``getattr()`` will still work, though\n",
      "  check_attribute_name(name)\n"
     ]
    },
    {
     "name": "stdout",
     "output_type": "stream",
     "text": [
      "Crawling *Annual* Financial Summary of *한국특수형강-302430*...\n"
     ]
    },
    {
     "name": "stderr",
     "output_type": "stream",
     "text": [
      "C:\\anaconda3\\lib\\site-packages\\tables\\path.py:155: NaturalNameWarning: object name is not a valid Python identifier: '302430'; it does not match the pattern ``^[a-zA-Z_][a-zA-Z0-9_]*$``; you will not be able to use natural naming to access this object; using ``getattr()`` will still work, though\n",
      "  check_attribute_name(name)\n"
     ]
    },
    {
     "name": "stdout",
     "output_type": "stream",
     "text": [
      "Crawling *Annual* Financial Summary of *오뚜기-302550*...\n"
     ]
    },
    {
     "name": "stderr",
     "output_type": "stream",
     "text": [
      "C:\\anaconda3\\lib\\site-packages\\tables\\path.py:155: NaturalNameWarning: object name is not a valid Python identifier: '302550'; it does not match the pattern ``^[a-zA-Z_][a-zA-Z0-9_]*$``; you will not be able to use natural naming to access this object; using ``getattr()`` will still work, though\n",
      "  check_attribute_name(name)\n"
     ]
    },
    {
     "name": "stdout",
     "output_type": "stream",
     "text": [
      "Crawling *Annual* Financial Summary of *푸른저축은행-303030*...\n"
     ]
    },
    {
     "name": "stderr",
     "output_type": "stream",
     "text": [
      "C:\\anaconda3\\lib\\site-packages\\tables\\path.py:155: NaturalNameWarning: object name is not a valid Python identifier: '303030'; it does not match the pattern ``^[a-zA-Z_][a-zA-Z0-9_]*$``; you will not be able to use natural naming to access this object; using ``getattr()`` will still work, though\n",
      "  check_attribute_name(name)\n"
     ]
    },
    {
     "name": "stdout",
     "output_type": "stream",
     "text": [
      "Crawling *Annual* Financial Summary of *디티알오토모티브-304100*...\n"
     ]
    },
    {
     "name": "stderr",
     "output_type": "stream",
     "text": [
      "C:\\anaconda3\\lib\\site-packages\\tables\\path.py:155: NaturalNameWarning: object name is not a valid Python identifier: '304100'; it does not match the pattern ``^[a-zA-Z_][a-zA-Z0-9_]*$``; you will not be able to use natural naming to access this object; using ``getattr()`` will still work, though\n",
      "  check_attribute_name(name)\n"
     ]
    },
    {
     "name": "stdout",
     "output_type": "stream",
     "text": [
      "Crawling *Annual* Financial Summary of *진양제약-304840*...\n"
     ]
    },
    {
     "name": "stderr",
     "output_type": "stream",
     "text": [
      "C:\\anaconda3\\lib\\site-packages\\tables\\path.py:155: NaturalNameWarning: object name is not a valid Python identifier: '304840'; it does not match the pattern ``^[a-zA-Z_][a-zA-Z0-9_]*$``; you will not be able to use natural naming to access this object; using ``getattr()`` will still work, though\n",
      "  check_attribute_name(name)\n"
     ]
    },
    {
     "name": "stdout",
     "output_type": "stream",
     "text": [
      "Crawling *Annual* Financial Summary of *네이처셀-305090*...\n"
     ]
    },
    {
     "name": "stderr",
     "output_type": "stream",
     "text": [
      "C:\\anaconda3\\lib\\site-packages\\tables\\path.py:155: NaturalNameWarning: object name is not a valid Python identifier: '305090'; it does not match the pattern ``^[a-zA-Z_][a-zA-Z0-9_]*$``; you will not be able to use natural naming to access this object; using ``getattr()`` will still work, though\n",
      "  check_attribute_name(name)\n"
     ]
    },
    {
     "name": "stdout",
     "output_type": "stream",
     "text": [
      "Crawling *Annual* Financial Summary of *에이프로젠 KIC-306040*...\n"
     ]
    },
    {
     "name": "stderr",
     "output_type": "stream",
     "text": [
      "C:\\anaconda3\\lib\\site-packages\\tables\\path.py:155: NaturalNameWarning: object name is not a valid Python identifier: '306040'; it does not match the pattern ``^[a-zA-Z_][a-zA-Z0-9_]*$``; you will not be able to use natural naming to access this object; using ``getattr()`` will still work, though\n",
      "  check_attribute_name(name)\n"
     ]
    },
    {
     "name": "stdout",
     "output_type": "stream",
     "text": [
      "Crawling *Annual* Financial Summary of *영신금속-306200*...\n"
     ]
    },
    {
     "name": "stderr",
     "output_type": "stream",
     "text": [
      "C:\\anaconda3\\lib\\site-packages\\tables\\path.py:155: NaturalNameWarning: object name is not a valid Python identifier: '306200'; it does not match the pattern ``^[a-zA-Z_][a-zA-Z0-9_]*$``; you will not be able to use natural naming to access this object; using ``getattr()`` will still work, though\n",
      "  check_attribute_name(name)\n"
     ]
    },
    {
     "name": "stdout",
     "output_type": "stream",
     "text": [
      "Crawling *Annual* Financial Summary of *샘표-306620*...\n"
     ]
    },
    {
     "name": "stderr",
     "output_type": "stream",
     "text": [
      "C:\\anaconda3\\lib\\site-packages\\tables\\path.py:155: NaturalNameWarning: object name is not a valid Python identifier: '306620'; it does not match the pattern ``^[a-zA-Z_][a-zA-Z0-9_]*$``; you will not be able to use natural naming to access this object; using ``getattr()`` will still work, though\n",
      "  check_attribute_name(name)\n"
     ]
    },
    {
     "name": "stdout",
     "output_type": "stream",
     "text": [
      "Crawling *Annual* Financial Summary of *일양약품-307070*...\n"
     ]
    },
    {
     "name": "stderr",
     "output_type": "stream",
     "text": [
      "C:\\anaconda3\\lib\\site-packages\\tables\\path.py:155: NaturalNameWarning: object name is not a valid Python identifier: '307070'; it does not match the pattern ``^[a-zA-Z_][a-zA-Z0-9_]*$``; you will not be able to use natural naming to access this object; using ``getattr()`` will still work, though\n",
      "  check_attribute_name(name)\n"
     ]
    },
    {
     "name": "stdout",
     "output_type": "stream",
     "text": [
      "Crawling *Annual* Financial Summary of *동방아그로-307160*...\n"
     ]
    },
    {
     "name": "stderr",
     "output_type": "stream",
     "text": [
      "C:\\anaconda3\\lib\\site-packages\\tables\\path.py:155: NaturalNameWarning: object name is not a valid Python identifier: '307160'; it does not match the pattern ``^[a-zA-Z_][a-zA-Z0-9_]*$``; you will not be able to use natural naming to access this object; using ``getattr()`` will still work, though\n",
      "  check_attribute_name(name)\n"
     ]
    },
    {
     "name": "stdout",
     "output_type": "stream",
     "text": [
      "Crawling *Annual* Financial Summary of *선도전기-307180*...\n"
     ]
    },
    {
     "name": "stderr",
     "output_type": "stream",
     "text": [
      "C:\\anaconda3\\lib\\site-packages\\tables\\path.py:155: NaturalNameWarning: object name is not a valid Python identifier: '307180'; it does not match the pattern ``^[a-zA-Z_][a-zA-Z0-9_]*$``; you will not be able to use natural naming to access this object; using ``getattr()`` will still work, though\n",
      "  check_attribute_name(name)\n"
     ]
    },
    {
     "name": "stdout",
     "output_type": "stream",
     "text": [
      "Crawling *Annual* Financial Summary of *폴루스바이오팜-307280*...\n"
     ]
    },
    {
     "name": "stderr",
     "output_type": "stream",
     "text": [
      "C:\\anaconda3\\lib\\site-packages\\tables\\path.py:155: NaturalNameWarning: object name is not a valid Python identifier: '307280'; it does not match the pattern ``^[a-zA-Z_][a-zA-Z0-9_]*$``; you will not be able to use natural naming to access this object; using ``getattr()`` will still work, though\n",
      "  check_attribute_name(name)\n"
     ]
    },
    {
     "name": "stdout",
     "output_type": "stream",
     "text": [
      "Crawling *Annual* Financial Summary of *이수페타시스-307750*...\n"
     ]
    },
    {
     "name": "stderr",
     "output_type": "stream",
     "text": [
      "C:\\anaconda3\\lib\\site-packages\\tables\\path.py:155: NaturalNameWarning: object name is not a valid Python identifier: '307750'; it does not match the pattern ``^[a-zA-Z_][a-zA-Z0-9_]*$``; you will not be able to use natural naming to access this object; using ``getattr()`` will still work, though\n",
      "  check_attribute_name(name)\n"
     ]
    },
    {
     "name": "stdout",
     "output_type": "stream",
     "text": [
      "Crawling *Annual* Financial Summary of *대원-307870*...\n"
     ]
    },
    {
     "name": "stderr",
     "output_type": "stream",
     "text": [
      "C:\\anaconda3\\lib\\site-packages\\tables\\path.py:155: NaturalNameWarning: object name is not a valid Python identifier: '307870'; it does not match the pattern ``^[a-zA-Z_][a-zA-Z0-9_]*$``; you will not be able to use natural naming to access this object; using ``getattr()`` will still work, though\n",
      "  check_attribute_name(name)\n"
     ]
    },
    {
     "name": "stdout",
     "output_type": "stream",
     "text": [
      "Crawling *Annual* Financial Summary of *국도화학-307930*...\n"
     ]
    },
    {
     "name": "stderr",
     "output_type": "stream",
     "text": [
      "C:\\anaconda3\\lib\\site-packages\\tables\\path.py:155: NaturalNameWarning: object name is not a valid Python identifier: '307930'; it does not match the pattern ``^[a-zA-Z_][a-zA-Z0-9_]*$``; you will not be able to use natural naming to access this object; using ``getattr()`` will still work, though\n",
      "  check_attribute_name(name)\n"
     ]
    },
    {
     "name": "stdout",
     "output_type": "stream",
     "text": [
      "Crawling *Annual* Financial Summary of *F&F-307950*...\n"
     ]
    },
    {
     "name": "stderr",
     "output_type": "stream",
     "text": [
      "C:\\anaconda3\\lib\\site-packages\\tables\\path.py:155: NaturalNameWarning: object name is not a valid Python identifier: '307950'; it does not match the pattern ``^[a-zA-Z_][a-zA-Z0-9_]*$``; you will not be able to use natural naming to access this object; using ``getattr()`` will still work, though\n",
      "  check_attribute_name(name)\n"
     ]
    },
    {
     "name": "stdout",
     "output_type": "stream",
     "text": [
      "Crawling *Annual* Financial Summary of *대명소노시즌-308100*...\n"
     ]
    },
    {
     "name": "stderr",
     "output_type": "stream",
     "text": [
      "C:\\anaconda3\\lib\\site-packages\\tables\\path.py:155: NaturalNameWarning: object name is not a valid Python identifier: '308100'; it does not match the pattern ``^[a-zA-Z_][a-zA-Z0-9_]*$``; you will not be able to use natural naming to access this object; using ``getattr()`` will still work, though\n",
      "  check_attribute_name(name)\n"
     ]
    },
    {
     "name": "stdout",
     "output_type": "stream",
     "text": [
      "Crawling *Annual* Financial Summary of *한일화학-308170*...\n"
     ]
    },
    {
     "name": "stderr",
     "output_type": "stream",
     "text": [
      "C:\\anaconda3\\lib\\site-packages\\tables\\path.py:155: NaturalNameWarning: object name is not a valid Python identifier: '308170'; it does not match the pattern ``^[a-zA-Z_][a-zA-Z0-9_]*$``; you will not be able to use natural naming to access this object; using ``getattr()`` will still work, though\n",
      "  check_attribute_name(name)\n"
     ]
    },
    {
     "name": "stdout",
     "output_type": "stream",
     "text": [
      "Crawling *Annual* Financial Summary of *코리아써키트-309930*...\n"
     ]
    },
    {
     "name": "stderr",
     "output_type": "stream",
     "text": [
      "C:\\anaconda3\\lib\\site-packages\\tables\\path.py:155: NaturalNameWarning: object name is not a valid Python identifier: '309930'; it does not match the pattern ``^[a-zA-Z_][a-zA-Z0-9_]*$``; you will not be able to use natural naming to access this object; using ``getattr()`` will still work, though\n",
      "  check_attribute_name(name)\n"
     ]
    },
    {
     "name": "stdout",
     "output_type": "stream",
     "text": [
      "Crawling *Annual* Financial Summary of *에스엠코어-310200*...\n"
     ]
    },
    {
     "name": "stderr",
     "output_type": "stream",
     "text": [
      "C:\\anaconda3\\lib\\site-packages\\tables\\path.py:155: NaturalNameWarning: object name is not a valid Python identifier: '310200'; it does not match the pattern ``^[a-zA-Z_][a-zA-Z0-9_]*$``; you will not be able to use natural naming to access this object; using ``getattr()`` will still work, though\n",
      "  check_attribute_name(name)\n"
     ]
    },
    {
     "name": "stdout",
     "output_type": "stream",
     "text": [
      "Crawling *Annual* Financial Summary of *서연-310840*...\n"
     ]
    },
    {
     "name": "stderr",
     "output_type": "stream",
     "text": [
      "C:\\anaconda3\\lib\\site-packages\\tables\\path.py:155: NaturalNameWarning: object name is not a valid Python identifier: '310840'; it does not match the pattern ``^[a-zA-Z_][a-zA-Z0-9_]*$``; you will not be able to use natural naming to access this object; using ``getattr()`` will still work, though\n",
      "  check_attribute_name(name)\n"
     ]
    },
    {
     "name": "stdout",
     "output_type": "stream",
     "text": [
      "Crawling *Annual* Financial Summary of *태평양물산-310870*...\n"
     ]
    },
    {
     "name": "stderr",
     "output_type": "stream",
     "text": [
      "C:\\anaconda3\\lib\\site-packages\\tables\\path.py:155: NaturalNameWarning: object name is not a valid Python identifier: '310870'; it does not match the pattern ``^[a-zA-Z_][a-zA-Z0-9_]*$``; you will not be able to use natural naming to access this object; using ``getattr()`` will still work, though\n",
      "  check_attribute_name(name)\n"
     ]
    },
    {
     "name": "stdout",
     "output_type": "stream",
     "text": [
      "Crawling *Annual* Financial Summary of *사조동아원-311270*...\n"
     ]
    },
    {
     "name": "stderr",
     "output_type": "stream",
     "text": [
      "C:\\anaconda3\\lib\\site-packages\\tables\\path.py:155: NaturalNameWarning: object name is not a valid Python identifier: '311270'; it does not match the pattern ``^[a-zA-Z_][a-zA-Z0-9_]*$``; you will not be able to use natural naming to access this object; using ``getattr()`` will still work, though\n",
      "  check_attribute_name(name)\n"
     ]
    },
    {
     "name": "stdout",
     "output_type": "stream",
     "text": [
      "Crawling *Annual* Financial Summary of *대덕-311390*...\n"
     ]
    },
    {
     "name": "stderr",
     "output_type": "stream",
     "text": [
      "C:\\anaconda3\\lib\\site-packages\\tables\\path.py:155: NaturalNameWarning: object name is not a valid Python identifier: '311390'; it does not match the pattern ``^[a-zA-Z_][a-zA-Z0-9_]*$``; you will not be able to use natural naming to access this object; using ``getattr()`` will still work, though\n",
      "  check_attribute_name(name)\n"
     ]
    },
    {
     "name": "stdout",
     "output_type": "stream",
     "text": [
      "Crawling *Annual* Financial Summary of *대동전자-311690*...\n"
     ]
    },
    {
     "name": "stderr",
     "output_type": "stream",
     "text": [
      "C:\\anaconda3\\lib\\site-packages\\tables\\path.py:155: NaturalNameWarning: object name is not a valid Python identifier: '311690'; it does not match the pattern ``^[a-zA-Z_][a-zA-Z0-9_]*$``; you will not be able to use natural naming to access this object; using ``getattr()`` will still work, though\n",
      "  check_attribute_name(name)\n"
     ]
    },
    {
     "name": "stdout",
     "output_type": "stream",
     "text": [
      "Crawling *Annual* Financial Summary of *이건산업-312610*...\n"
     ]
    },
    {
     "name": "stderr",
     "output_type": "stream",
     "text": [
      "C:\\anaconda3\\lib\\site-packages\\tables\\path.py:155: NaturalNameWarning: object name is not a valid Python identifier: '312610'; it does not match the pattern ``^[a-zA-Z_][a-zA-Z0-9_]*$``; you will not be able to use natural naming to access this object; using ``getattr()`` will still work, though\n",
      "  check_attribute_name(name)\n"
     ]
    },
    {
     "name": "stdout",
     "output_type": "stream",
     "text": [
      "Crawling *Annual* Financial Summary of *NI스틸-313750*...\n"
     ]
    },
    {
     "name": "stderr",
     "output_type": "stream",
     "text": [
      "C:\\anaconda3\\lib\\site-packages\\tables\\path.py:155: NaturalNameWarning: object name is not a valid Python identifier: '313750'; it does not match the pattern ``^[a-zA-Z_][a-zA-Z0-9_]*$``; you will not be able to use natural naming to access this object; using ``getattr()`` will still work, though\n",
      "  check_attribute_name(name)\n"
     ]
    },
    {
     "name": "stdout",
     "output_type": "stream",
     "text": [
      "Crawling *Annual* Financial Summary of *원풍물산-313760*...\n"
     ]
    },
    {
     "name": "stderr",
     "output_type": "stream",
     "text": [
      "C:\\anaconda3\\lib\\site-packages\\tables\\path.py:155: NaturalNameWarning: object name is not a valid Python identifier: '313760'; it does not match the pattern ``^[a-zA-Z_][a-zA-Z0-9_]*$``; you will not be able to use natural naming to access this object; using ``getattr()`` will still work, though\n",
      "  check_attribute_name(name)\n"
     ]
    },
    {
     "name": "stdout",
     "output_type": "stream",
     "text": [
      "Crawling *Annual* Financial Summary of *남선알미늄-314130*...\n"
     ]
    },
    {
     "name": "stderr",
     "output_type": "stream",
     "text": [
      "C:\\anaconda3\\lib\\site-packages\\tables\\path.py:155: NaturalNameWarning: object name is not a valid Python identifier: '314130'; it does not match the pattern ``^[a-zA-Z_][a-zA-Z0-9_]*$``; you will not be able to use natural naming to access this object; using ``getattr()`` will still work, though\n",
      "  check_attribute_name(name)\n"
     ]
    },
    {
     "name": "stdout",
     "output_type": "stream",
     "text": [
      "Crawling *Annual* Financial Summary of *원풍-316140*...\n"
     ]
    },
    {
     "name": "stderr",
     "output_type": "stream",
     "text": [
      "C:\\anaconda3\\lib\\site-packages\\tables\\path.py:155: NaturalNameWarning: object name is not a valid Python identifier: '316140'; it does not match the pattern ``^[a-zA-Z_][a-zA-Z0-9_]*$``; you will not be able to use natural naming to access this object; using ``getattr()`` will still work, though\n",
      "  check_attribute_name(name)\n"
     ]
    },
    {
     "name": "stdout",
     "output_type": "stream",
     "text": [
      "Crawling *Annual* Financial Summary of *문배철강-317030*...\n"
     ]
    },
    {
     "name": "stderr",
     "output_type": "stream",
     "text": [
      "C:\\anaconda3\\lib\\site-packages\\tables\\path.py:155: NaturalNameWarning: object name is not a valid Python identifier: '317030'; it does not match the pattern ``^[a-zA-Z_][a-zA-Z0-9_]*$``; you will not be able to use natural naming to access this object; using ``getattr()`` will still work, though\n",
      "  check_attribute_name(name)\n"
     ]
    },
    {
     "name": "stdout",
     "output_type": "stream",
     "text": [
      "Crawling *Annual* Financial Summary of *부스타-317120*...\n"
     ]
    },
    {
     "name": "stderr",
     "output_type": "stream",
     "text": [
      "C:\\anaconda3\\lib\\site-packages\\tables\\path.py:155: NaturalNameWarning: object name is not a valid Python identifier: '317120'; it does not match the pattern ``^[a-zA-Z_][a-zA-Z0-9_]*$``; you will not be able to use natural naming to access this object; using ``getattr()`` will still work, though\n",
      "  check_attribute_name(name)\n"
     ]
    },
    {
     "name": "stdout",
     "output_type": "stream",
     "text": [
      "Crawling *Annual* Financial Summary of *서흥-317240*...\n"
     ]
    },
    {
     "name": "stderr",
     "output_type": "stream",
     "text": [
      "C:\\anaconda3\\lib\\site-packages\\tables\\path.py:155: NaturalNameWarning: object name is not a valid Python identifier: '317240'; it does not match the pattern ``^[a-zA-Z_][a-zA-Z0-9_]*$``; you will not be able to use natural naming to access this object; using ``getattr()`` will still work, though\n",
      "  check_attribute_name(name)\n"
     ]
    },
    {
     "name": "stdout",
     "output_type": "stream",
     "text": [
      "Crawling *Annual* Financial Summary of *일정실업-317320*...\n"
     ]
    },
    {
     "name": "stderr",
     "output_type": "stream",
     "text": [
      "C:\\anaconda3\\lib\\site-packages\\tables\\path.py:155: NaturalNameWarning: object name is not a valid Python identifier: '317320'; it does not match the pattern ``^[a-zA-Z_][a-zA-Z0-9_]*$``; you will not be able to use natural naming to access this object; using ``getattr()`` will still work, though\n",
      "  check_attribute_name(name)\n"
     ]
    },
    {
     "name": "stdout",
     "output_type": "stream",
     "text": [
      "Crawling *Annual* Financial Summary of *메리츠증권-317330*...\n"
     ]
    },
    {
     "name": "stderr",
     "output_type": "stream",
     "text": [
      "C:\\anaconda3\\lib\\site-packages\\tables\\path.py:155: NaturalNameWarning: object name is not a valid Python identifier: '317330'; it does not match the pattern ``^[a-zA-Z_][a-zA-Z0-9_]*$``; you will not be able to use natural naming to access this object; using ``getattr()`` will still work, though\n",
      "  check_attribute_name(name)\n"
     ]
    },
    {
     "name": "stdout",
     "output_type": "stream",
     "text": [
      "Crawling *Annual* Financial Summary of *윌비스-317400*...\n"
     ]
    },
    {
     "name": "stderr",
     "output_type": "stream",
     "text": [
      "C:\\anaconda3\\lib\\site-packages\\tables\\path.py:155: NaturalNameWarning: object name is not a valid Python identifier: '317400'; it does not match the pattern ``^[a-zA-Z_][a-zA-Z0-9_]*$``; you will not be able to use natural naming to access this object; using ``getattr()`` will still work, though\n",
      "  check_attribute_name(name)\n"
     ]
    },
    {
     "name": "stdout",
     "output_type": "stream",
     "text": [
      "Crawling *Annual* Financial Summary of *아남전자-317530*...\n"
     ]
    },
    {
     "name": "stderr",
     "output_type": "stream",
     "text": [
      "C:\\anaconda3\\lib\\site-packages\\tables\\path.py:155: NaturalNameWarning: object name is not a valid Python identifier: '317530'; it does not match the pattern ``^[a-zA-Z_][a-zA-Z0-9_]*$``; you will not be able to use natural naming to access this object; using ``getattr()`` will still work, though\n",
      "  check_attribute_name(name)\n"
     ]
    },
    {
     "name": "stdout",
     "output_type": "stream",
     "text": [
      "Crawling *Annual* Financial Summary of *율촌화학-317690*...\n"
     ]
    },
    {
     "name": "stderr",
     "output_type": "stream",
     "text": [
      "C:\\anaconda3\\lib\\site-packages\\tables\\path.py:155: NaturalNameWarning: object name is not a valid Python identifier: '317690'; it does not match the pattern ``^[a-zA-Z_][a-zA-Z0-9_]*$``; you will not be able to use natural naming to access this object; using ``getattr()`` will still work, though\n",
      "  check_attribute_name(name)\n"
     ]
    },
    {
     "name": "stdout",
     "output_type": "stream",
     "text": [
      "Crawling *Annual* Financial Summary of *호텔신라-317770*...\n"
     ]
    },
    {
     "name": "stderr",
     "output_type": "stream",
     "text": [
      "C:\\anaconda3\\lib\\site-packages\\tables\\path.py:155: NaturalNameWarning: object name is not a valid Python identifier: '317770'; it does not match the pattern ``^[a-zA-Z_][a-zA-Z0-9_]*$``; you will not be able to use natural naming to access this object; using ``getattr()`` will still work, though\n",
      "  check_attribute_name(name)\n"
     ]
    },
    {
     "name": "stdout",
     "output_type": "stream",
     "text": [
      "Crawling *Annual* Financial Summary of *행남사-317830*...\n"
     ]
    },
    {
     "name": "stderr",
     "output_type": "stream",
     "text": [
      "C:\\anaconda3\\lib\\site-packages\\tables\\path.py:155: NaturalNameWarning: object name is not a valid Python identifier: '317830'; it does not match the pattern ``^[a-zA-Z_][a-zA-Z0-9_]*$``; you will not be able to use natural naming to access this object; using ``getattr()`` will still work, though\n",
      "  check_attribute_name(name)\n"
     ]
    },
    {
     "name": "stdout",
     "output_type": "stream",
     "text": [
      "Crawling *Annual* Financial Summary of *대동기어-317850*...\n"
     ]
    },
    {
     "name": "stderr",
     "output_type": "stream",
     "text": [
      "C:\\anaconda3\\lib\\site-packages\\tables\\path.py:155: NaturalNameWarning: object name is not a valid Python identifier: '317850'; it does not match the pattern ``^[a-zA-Z_][a-zA-Z0-9_]*$``; you will not be able to use natural naming to access this object; using ``getattr()`` will still work, though\n",
      "  check_attribute_name(name)\n"
     ]
    },
    {
     "name": "stdout",
     "output_type": "stream",
     "text": [
      "Crawling *Annual* Financial Summary of *금비-317870*...\n"
     ]
    },
    {
     "name": "stderr",
     "output_type": "stream",
     "text": [
      "C:\\anaconda3\\lib\\site-packages\\tables\\path.py:155: NaturalNameWarning: object name is not a valid Python identifier: '317870'; it does not match the pattern ``^[a-zA-Z_][a-zA-Z0-9_]*$``; you will not be able to use natural naming to access this object; using ``getattr()`` will still work, though\n",
      "  check_attribute_name(name)\n"
     ]
    },
    {
     "name": "stdout",
     "output_type": "stream",
     "text": [
      "Crawling *Annual* Financial Summary of *한미사이언스-318000*...\n"
     ]
    },
    {
     "name": "stderr",
     "output_type": "stream",
     "text": [
      "C:\\anaconda3\\lib\\site-packages\\tables\\path.py:155: NaturalNameWarning: object name is not a valid Python identifier: '318000'; it does not match the pattern ``^[a-zA-Z_][a-zA-Z0-9_]*$``; you will not be able to use natural naming to access this object; using ``getattr()`` will still work, though\n",
      "  check_attribute_name(name)\n"
     ]
    },
    {
     "name": "stdout",
     "output_type": "stream",
     "text": [
      "Crawling *Annual* Financial Summary of *동양철관-318010*...\n"
     ]
    },
    {
     "name": "stderr",
     "output_type": "stream",
     "text": [
      "C:\\anaconda3\\lib\\site-packages\\tables\\path.py:155: NaturalNameWarning: object name is not a valid Python identifier: '318010'; it does not match the pattern ``^[a-zA-Z_][a-zA-Z0-9_]*$``; you will not be able to use natural naming to access this object; using ``getattr()`` will still work, though\n",
      "  check_attribute_name(name)\n"
     ]
    },
    {
     "name": "stdout",
     "output_type": "stream",
     "text": [
      "Crawling *Annual* Financial Summary of *케이씨티시-318020*...\n"
     ]
    },
    {
     "name": "stderr",
     "output_type": "stream",
     "text": [
      "C:\\anaconda3\\lib\\site-packages\\tables\\path.py:155: NaturalNameWarning: object name is not a valid Python identifier: '318020'; it does not match the pattern ``^[a-zA-Z_][a-zA-Z0-9_]*$``; you will not be able to use natural naming to access this object; using ``getattr()`` will still work, though\n",
      "  check_attribute_name(name)\n"
     ]
    },
    {
     "name": "stdout",
     "output_type": "stream",
     "text": [
      "Crawling *Annual* Financial Summary of *경인전자-318410*...\n"
     ]
    },
    {
     "name": "stderr",
     "output_type": "stream",
     "text": [
      "C:\\anaconda3\\lib\\site-packages\\tables\\path.py:155: NaturalNameWarning: object name is not a valid Python identifier: '318410'; it does not match the pattern ``^[a-zA-Z_][a-zA-Z0-9_]*$``; you will not be able to use natural naming to access this object; using ``getattr()`` will still work, though\n",
      "  check_attribute_name(name)\n"
     ]
    },
    {
     "name": "stdout",
     "output_type": "stream",
     "text": [
      "Crawling *Annual* Financial Summary of *삼성전기-319400*...\n"
     ]
    },
    {
     "name": "stderr",
     "output_type": "stream",
     "text": [
      "C:\\anaconda3\\lib\\site-packages\\tables\\path.py:155: NaturalNameWarning: object name is not a valid Python identifier: '319400'; it does not match the pattern ``^[a-zA-Z_][a-zA-Z0-9_]*$``; you will not be able to use natural naming to access this object; using ``getattr()`` will still work, though\n",
      "  check_attribute_name(name)\n"
     ]
    },
    {
     "name": "stdout",
     "output_type": "stream",
     "text": [
      "Crawling *Annual* Financial Summary of *SIMPAC-319660*...\n"
     ]
    },
    {
     "name": "stderr",
     "output_type": "stream",
     "text": [
      "C:\\anaconda3\\lib\\site-packages\\tables\\path.py:155: NaturalNameWarning: object name is not a valid Python identifier: '319660'; it does not match the pattern ``^[a-zA-Z_][a-zA-Z0-9_]*$``; you will not be able to use natural naming to access this object; using ``getattr()`` will still work, though\n",
      "  check_attribute_name(name)\n"
     ]
    },
    {
     "name": "stdout",
     "output_type": "stream",
     "text": [
      "Crawling *Annual* Financial Summary of *한솔로지스틱스-320000*...\n"
     ]
    },
    {
     "name": "stderr",
     "output_type": "stream",
     "text": [
      "C:\\anaconda3\\lib\\site-packages\\tables\\path.py:155: NaturalNameWarning: object name is not a valid Python identifier: '320000'; it does not match the pattern ``^[a-zA-Z_][a-zA-Z0-9_]*$``; you will not be able to use natural naming to access this object; using ``getattr()`` will still work, though\n",
      "  check_attribute_name(name)\n"
     ]
    },
    {
     "name": "stdout",
     "output_type": "stream",
     "text": [
      "Crawling *Annual* Financial Summary of *대양금속-321260*...\n"
     ]
    },
    {
     "name": "stderr",
     "output_type": "stream",
     "text": [
      "C:\\anaconda3\\lib\\site-packages\\tables\\path.py:155: NaturalNameWarning: object name is not a valid Python identifier: '321260'; it does not match the pattern ``^[a-zA-Z_][a-zA-Z0-9_]*$``; you will not be able to use natural naming to access this object; using ``getattr()`` will still work, though\n",
      "  check_attribute_name(name)\n"
     ]
    },
    {
     "name": "stdout",
     "output_type": "stream",
     "text": [
      "Crawling *Annual* Financial Summary of *무림페이퍼-321550*...\n"
     ]
    },
    {
     "name": "stderr",
     "output_type": "stream",
     "text": [
      "C:\\anaconda3\\lib\\site-packages\\tables\\path.py:155: NaturalNameWarning: object name is not a valid Python identifier: '321550'; it does not match the pattern ``^[a-zA-Z_][a-zA-Z0-9_]*$``; you will not be able to use natural naming to access this object; using ``getattr()`` will still work, though\n",
      "  check_attribute_name(name)\n"
     ]
    },
    {
     "name": "stdout",
     "output_type": "stream",
     "text": [
      "Crawling *Annual* Financial Summary of *한샘-322000*...\n"
     ]
    },
    {
     "name": "stderr",
     "output_type": "stream",
     "text": [
      "C:\\anaconda3\\lib\\site-packages\\tables\\path.py:155: NaturalNameWarning: object name is not a valid Python identifier: '322000'; it does not match the pattern ``^[a-zA-Z_][a-zA-Z0-9_]*$``; you will not be able to use natural naming to access this object; using ``getattr()`` will still work, though\n",
      "  check_attribute_name(name)\n"
     ]
    },
    {
     "name": "stdout",
     "output_type": "stream",
     "text": [
      "Crawling *Annual* Financial Summary of *신원-322180*...\n"
     ]
    },
    {
     "name": "stderr",
     "output_type": "stream",
     "text": [
      "C:\\anaconda3\\lib\\site-packages\\tables\\path.py:155: NaturalNameWarning: object name is not a valid Python identifier: '322180'; it does not match the pattern ``^[a-zA-Z_][a-zA-Z0-9_]*$``; you will not be able to use natural naming to access this object; using ``getattr()`` will still work, though\n",
      "  check_attribute_name(name)\n"
     ]
    },
    {
     "name": "stdout",
     "output_type": "stream",
     "text": [
      "Crawling *Annual* Financial Summary of *광동제약-322510*...\n"
     ]
    },
    {
     "name": "stderr",
     "output_type": "stream",
     "text": [
      "C:\\anaconda3\\lib\\site-packages\\tables\\path.py:155: NaturalNameWarning: object name is not a valid Python identifier: '322510'; it does not match the pattern ``^[a-zA-Z_][a-zA-Z0-9_]*$``; you will not be able to use natural naming to access this object; using ``getattr()`` will still work, though\n",
      "  check_attribute_name(name)\n"
     ]
    },
    {
     "name": "stdout",
     "output_type": "stream",
     "text": [
      "Crawling *Annual* Financial Summary of *삼아제약-322780*...\n"
     ]
    },
    {
     "name": "stderr",
     "output_type": "stream",
     "text": [
      "C:\\anaconda3\\lib\\site-packages\\tables\\path.py:155: NaturalNameWarning: object name is not a valid Python identifier: '322780'; it does not match the pattern ``^[a-zA-Z_][a-zA-Z0-9_]*$``; you will not be able to use natural naming to access this object; using ``getattr()`` will still work, though\n",
      "  check_attribute_name(name)\n"
     ]
    },
    {
     "name": "stdout",
     "output_type": "stream",
     "text": [
      "Crawling *Annual* Financial Summary of *참엔지니어링-323210*...\n"
     ]
    },
    {
     "name": "stderr",
     "output_type": "stream",
     "text": [
      "C:\\anaconda3\\lib\\site-packages\\tables\\path.py:155: NaturalNameWarning: object name is not a valid Python identifier: '323210'; it does not match the pattern ``^[a-zA-Z_][a-zA-Z0-9_]*$``; you will not be able to use natural naming to access this object; using ``getattr()`` will still work, though\n",
      "  check_attribute_name(name)\n"
     ]
    },
    {
     "name": "stdout",
     "output_type": "stream",
     "text": [
      "Crawling *Annual* Financial Summary of *대우부품-323230*...\n"
     ]
    },
    {
     "name": "stderr",
     "output_type": "stream",
     "text": [
      "C:\\anaconda3\\lib\\site-packages\\tables\\path.py:155: NaturalNameWarning: object name is not a valid Python identifier: '323230'; it does not match the pattern ``^[a-zA-Z_][a-zA-Z0-9_]*$``; you will not be able to use natural naming to access this object; using ``getattr()`` will still work, though\n",
      "  check_attribute_name(name)\n"
     ]
    },
    {
     "name": "stdout",
     "output_type": "stream",
     "text": [
      "Crawling *Annual* Financial Summary of *태영건설-323280*...\n"
     ]
    },
    {
     "name": "stderr",
     "output_type": "stream",
     "text": [
      "C:\\anaconda3\\lib\\site-packages\\tables\\path.py:155: NaturalNameWarning: object name is not a valid Python identifier: '323280'; it does not match the pattern ``^[a-zA-Z_][a-zA-Z0-9_]*$``; you will not be able to use natural naming to access this object; using ``getattr()`` will still work, though\n",
      "  check_attribute_name(name)\n"
     ]
    },
    {
     "name": "stdout",
     "output_type": "stream",
     "text": [
      "Crawling *Annual* Financial Summary of *한올바이오파마-323940*...\n"
     ]
    },
    {
     "name": "stderr",
     "output_type": "stream",
     "text": [
      "C:\\anaconda3\\lib\\site-packages\\tables\\path.py:155: NaturalNameWarning: object name is not a valid Python identifier: '323940'; it does not match the pattern ``^[a-zA-Z_][a-zA-Z0-9_]*$``; you will not be able to use natural naming to access this object; using ``getattr()`` will still work, though\n",
      "  check_attribute_name(name)\n"
     ]
    },
    {
     "name": "stdout",
     "output_type": "stream",
     "text": [
      "Crawling *Annual* Financial Summary of *KC그린홀딩스-323990*...\n"
     ]
    },
    {
     "name": "stderr",
     "output_type": "stream",
     "text": [
      "C:\\anaconda3\\lib\\site-packages\\tables\\path.py:155: NaturalNameWarning: object name is not a valid Python identifier: '323990'; it does not match the pattern ``^[a-zA-Z_][a-zA-Z0-9_]*$``; you will not be able to use natural naming to access this object; using ``getattr()`` will still work, though\n",
      "  check_attribute_name(name)\n"
     ]
    },
    {
     "name": "stdout",
     "output_type": "stream",
     "text": [
      "Crawling *Annual* Financial Summary of *경동나비엔-326030*...\n"
     ]
    },
    {
     "name": "stderr",
     "output_type": "stream",
     "text": [
      "C:\\anaconda3\\lib\\site-packages\\tables\\path.py:155: NaturalNameWarning: object name is not a valid Python identifier: '326030'; it does not match the pattern ``^[a-zA-Z_][a-zA-Z0-9_]*$``; you will not be able to use natural naming to access this object; using ``getattr()`` will still work, though\n",
      "  check_attribute_name(name)\n"
     ]
    },
    {
     "name": "stdout",
     "output_type": "stream",
     "text": [
      "Crawling *Annual* Financial Summary of *한창제지-327260*...\n"
     ]
    },
    {
     "name": "stderr",
     "output_type": "stream",
     "text": [
      "C:\\anaconda3\\lib\\site-packages\\tables\\path.py:155: NaturalNameWarning: object name is not a valid Python identifier: '327260'; it does not match the pattern ``^[a-zA-Z_][a-zA-Z0-9_]*$``; you will not be able to use natural naming to access this object; using ``getattr()`` will still work, though\n",
      "  check_attribute_name(name)\n"
     ]
    },
    {
     "name": "stdout",
     "output_type": "stream",
     "text": [
      "Crawling *Annual* Financial Summary of *삼화전기-328380*...\n"
     ]
    },
    {
     "name": "stderr",
     "output_type": "stream",
     "text": [
      "C:\\anaconda3\\lib\\site-packages\\tables\\path.py:155: NaturalNameWarning: object name is not a valid Python identifier: '328380'; it does not match the pattern ``^[a-zA-Z_][a-zA-Z0-9_]*$``; you will not be able to use natural naming to access this object; using ``getattr()`` will still work, though\n",
      "  check_attribute_name(name)\n"
     ]
    },
    {
     "name": "stdout",
     "output_type": "stream",
     "text": [
      "Crawling *Annual* Financial Summary of *포스코엠텍-329560*...\n"
     ]
    },
    {
     "name": "stderr",
     "output_type": "stream",
     "text": [
      "C:\\anaconda3\\lib\\site-packages\\tables\\path.py:155: NaturalNameWarning: object name is not a valid Python identifier: '329560'; it does not match the pattern ``^[a-zA-Z_][a-zA-Z0-9_]*$``; you will not be able to use natural naming to access this object; using ``getattr()`` will still work, though\n",
      "  check_attribute_name(name)\n"
     ]
    },
    {
     "name": "stdout",
     "output_type": "stream",
     "text": [
      "Crawling *Annual* Financial Summary of *한국조선해양-330350*...\n"
     ]
    },
    {
     "name": "stderr",
     "output_type": "stream",
     "text": [
      "C:\\anaconda3\\lib\\site-packages\\tables\\path.py:155: NaturalNameWarning: object name is not a valid Python identifier: '330350'; it does not match the pattern ``^[a-zA-Z_][a-zA-Z0-9_]*$``; you will not be able to use natural naming to access this object; using ``getattr()`` will still work, though\n",
      "  check_attribute_name(name)\n"
     ]
    },
    {
     "name": "stdout",
     "output_type": "stream",
     "text": [
      "Crawling *Annual* Financial Summary of *무림P&P-330590*...\n"
     ]
    },
    {
     "name": "stderr",
     "output_type": "stream",
     "text": [
      "C:\\anaconda3\\lib\\site-packages\\tables\\path.py:155: NaturalNameWarning: object name is not a valid Python identifier: '330590'; it does not match the pattern ``^[a-zA-Z_][a-zA-Z0-9_]*$``; you will not be able to use natural naming to access this object; using ``getattr()`` will still work, though\n",
      "  check_attribute_name(name)\n"
     ]
    },
    {
     "name": "stdout",
     "output_type": "stream",
     "text": [
      "Crawling *Annual* Financial Summary of *삼보산업-330860*...\n"
     ]
    },
    {
     "name": "stderr",
     "output_type": "stream",
     "text": [
      "C:\\anaconda3\\lib\\site-packages\\tables\\path.py:155: NaturalNameWarning: object name is not a valid Python identifier: '330860'; it does not match the pattern ``^[a-zA-Z_][a-zA-Z0-9_]*$``; you will not be able to use natural naming to access this object; using ``getattr()`` will still work, though\n",
      "  check_attribute_name(name)\n"
     ]
    },
    {
     "name": "stdout",
     "output_type": "stream",
     "text": [
      "Crawling *Annual* Financial Summary of *모토닉-330990*...\n"
     ]
    },
    {
     "name": "stderr",
     "output_type": "stream",
     "text": [
      "C:\\anaconda3\\lib\\site-packages\\tables\\path.py:155: NaturalNameWarning: object name is not a valid Python identifier: '330990'; it does not match the pattern ``^[a-zA-Z_][a-zA-Z0-9_]*$``; you will not be able to use natural naming to access this object; using ``getattr()`` will still work, though\n",
      "  check_attribute_name(name)\n"
     ]
    },
    {
     "name": "stdout",
     "output_type": "stream",
     "text": [
      "Crawling *Annual* Financial Summary of *코센-331380*...\n"
     ]
    },
    {
     "name": "stderr",
     "output_type": "stream",
     "text": [
      "C:\\anaconda3\\lib\\site-packages\\tables\\path.py:155: NaturalNameWarning: object name is not a valid Python identifier: '331380'; it does not match the pattern ``^[a-zA-Z_][a-zA-Z0-9_]*$``; you will not be able to use natural naming to access this object; using ``getattr()`` will still work, though\n",
      "  check_attribute_name(name)\n"
     ]
    },
    {
     "name": "stdout",
     "output_type": "stream",
     "text": [
      "Crawling *Annual* Financial Summary of *삼정펄프-331520*...\n"
     ]
    },
    {
     "name": "stderr",
     "output_type": "stream",
     "text": [
      "C:\\anaconda3\\lib\\site-packages\\tables\\path.py:155: NaturalNameWarning: object name is not a valid Python identifier: '331520'; it does not match the pattern ``^[a-zA-Z_][a-zA-Z0-9_]*$``; you will not be able to use natural naming to access this object; using ``getattr()`` will still work, though\n",
      "  check_attribute_name(name)\n"
     ]
    },
    {
     "name": "stdout",
     "output_type": "stream",
     "text": [
      "Crawling *Annual* Financial Summary of *엠에스씨-331920*...\n"
     ]
    },
    {
     "name": "stderr",
     "output_type": "stream",
     "text": [
      "C:\\anaconda3\\lib\\site-packages\\tables\\path.py:155: NaturalNameWarning: object name is not a valid Python identifier: '331920'; it does not match the pattern ``^[a-zA-Z_][a-zA-Z0-9_]*$``; you will not be able to use natural naming to access this object; using ``getattr()`` will still work, though\n",
      "  check_attribute_name(name)\n"
     ]
    },
    {
     "name": "stdout",
     "output_type": "stream",
     "text": [
      "Crawling *Annual* Financial Summary of *엔케이물산-332290*...\n"
     ]
    },
    {
     "name": "stderr",
     "output_type": "stream",
     "text": [
      "C:\\anaconda3\\lib\\site-packages\\tables\\path.py:155: NaturalNameWarning: object name is not a valid Python identifier: '332290'; it does not match the pattern ``^[a-zA-Z_][a-zA-Z0-9_]*$``; you will not be able to use natural naming to access this object; using ``getattr()`` will still work, though\n",
      "  check_attribute_name(name)\n"
     ]
    },
    {
     "name": "stdout",
     "output_type": "stream",
     "text": [
      "Crawling *Annual* Financial Summary of *한화솔루션-332370*...\n"
     ]
    },
    {
     "name": "stderr",
     "output_type": "stream",
     "text": [
      "C:\\anaconda3\\lib\\site-packages\\tables\\path.py:155: NaturalNameWarning: object name is not a valid Python identifier: '332370'; it does not match the pattern ``^[a-zA-Z_][a-zA-Z0-9_]*$``; you will not be able to use natural naming to access this object; using ``getattr()`` will still work, though\n",
      "  check_attribute_name(name)\n"
     ]
    },
    {
     "name": "stdout",
     "output_type": "stream",
     "text": [
      "Crawling *Annual* Financial Summary of *명신산업-332570*...\n"
     ]
    },
    {
     "name": "stderr",
     "output_type": "stream",
     "text": [
      "C:\\anaconda3\\lib\\site-packages\\tables\\path.py:155: NaturalNameWarning: object name is not a valid Python identifier: '332570'; it does not match the pattern ``^[a-zA-Z_][a-zA-Z0-9_]*$``; you will not be able to use natural naming to access this object; using ``getattr()`` will still work, though\n",
      "  check_attribute_name(name)\n"
     ]
    },
    {
     "name": "stdout",
     "output_type": "stream",
     "text": [
      "Crawling *Annual* Financial Summary of *영원무역홀딩스-332710*...\n"
     ]
    },
    {
     "name": "stderr",
     "output_type": "stream",
     "text": [
      "C:\\anaconda3\\lib\\site-packages\\tables\\path.py:155: NaturalNameWarning: object name is not a valid Python identifier: '332710'; it does not match the pattern ``^[a-zA-Z_][a-zA-Z0-9_]*$``; you will not be able to use natural naming to access this object; using ``getattr()`` will still work, though\n",
      "  check_attribute_name(name)\n"
     ]
    },
    {
     "name": "stdout",
     "output_type": "stream",
     "text": [
      "Crawling *Annual* Financial Summary of *한국내화-333050*...\n"
     ]
    },
    {
     "name": "stderr",
     "output_type": "stream",
     "text": [
      "C:\\anaconda3\\lib\\site-packages\\tables\\path.py:155: NaturalNameWarning: object name is not a valid Python identifier: '333050'; it does not match the pattern ``^[a-zA-Z_][a-zA-Z0-9_]*$``; you will not be able to use natural naming to access this object; using ``getattr()`` will still work, though\n",
      "  check_attribute_name(name)\n"
     ]
    },
    {
     "name": "stdout",
     "output_type": "stream",
     "text": [
      "Crawling *Annual* Financial Summary of *우리종금-333430*...\n"
     ]
    },
    {
     "name": "stderr",
     "output_type": "stream",
     "text": [
      "C:\\anaconda3\\lib\\site-packages\\tables\\path.py:155: NaturalNameWarning: object name is not a valid Python identifier: '333430'; it does not match the pattern ``^[a-zA-Z_][a-zA-Z0-9_]*$``; you will not be able to use natural naming to access this object; using ``getattr()`` will still work, though\n",
      "  check_attribute_name(name)\n"
     ]
    },
    {
     "name": "stdout",
     "output_type": "stream",
     "text": [
      "Crawling *Annual* Financial Summary of *OCI-334890*...\n"
     ]
    },
    {
     "name": "stderr",
     "output_type": "stream",
     "text": [
      "C:\\anaconda3\\lib\\site-packages\\tables\\path.py:155: NaturalNameWarning: object name is not a valid Python identifier: '334890'; it does not match the pattern ``^[a-zA-Z_][a-zA-Z0-9_]*$``; you will not be able to use natural naming to access this object; using ``getattr()`` will still work, though\n",
      "  check_attribute_name(name)\n"
     ]
    },
    {
     "name": "stdout",
     "output_type": "stream",
     "text": [
      "Crawling *Annual* Financial Summary of *한국프랜지공업-335810*...\n"
     ]
    },
    {
     "name": "stderr",
     "output_type": "stream",
     "text": [
      "C:\\anaconda3\\lib\\site-packages\\tables\\path.py:155: NaturalNameWarning: object name is not a valid Python identifier: '335810'; it does not match the pattern ``^[a-zA-Z_][a-zA-Z0-9_]*$``; you will not be able to use natural naming to access this object; using ``getattr()`` will still work, though\n",
      "  check_attribute_name(name)\n"
     ]
    },
    {
     "name": "stdout",
     "output_type": "stream",
     "text": [
      "Crawling *Annual* Financial Summary of *엘에스일렉트릭-335870*...\n"
     ]
    },
    {
     "name": "stderr",
     "output_type": "stream",
     "text": [
      "C:\\anaconda3\\lib\\site-packages\\tables\\path.py:155: NaturalNameWarning: object name is not a valid Python identifier: '335870'; it does not match the pattern ``^[a-zA-Z_][a-zA-Z0-9_]*$``; you will not be able to use natural naming to access this object; using ``getattr()`` will still work, though\n",
      "  check_attribute_name(name)\n"
     ]
    },
    {
     "name": "stdout",
     "output_type": "stream",
     "text": [
      "Crawling *Annual* Financial Summary of *고려아연-335890*...\n"
     ]
    },
    {
     "name": "stderr",
     "output_type": "stream",
     "text": [
      "C:\\anaconda3\\lib\\site-packages\\tables\\path.py:155: NaturalNameWarning: object name is not a valid Python identifier: '335890'; it does not match the pattern ``^[a-zA-Z_][a-zA-Z0-9_]*$``; you will not be able to use natural naming to access this object; using ``getattr()`` will still work, though\n",
      "  check_attribute_name(name)\n"
     ]
    },
    {
     "name": "stdout",
     "output_type": "stream",
     "text": [
      "Crawling *Annual* Financial Summary of *삼성중공업-336060*...\n"
     ]
    },
    {
     "name": "stderr",
     "output_type": "stream",
     "text": [
      "C:\\anaconda3\\lib\\site-packages\\tables\\path.py:155: NaturalNameWarning: object name is not a valid Python identifier: '336060'; it does not match the pattern ``^[a-zA-Z_][a-zA-Z0-9_]*$``; you will not be able to use natural naming to access this object; using ``getattr()`` will still work, though\n",
      "  check_attribute_name(name)\n"
     ]
    },
    {
     "name": "stdout",
     "output_type": "stream",
     "text": [
      "Crawling *Annual* Financial Summary of *대한광통신-336260*...\n"
     ]
    },
    {
     "name": "stderr",
     "output_type": "stream",
     "text": [
      "C:\\anaconda3\\lib\\site-packages\\tables\\path.py:155: NaturalNameWarning: object name is not a valid Python identifier: '336260'; it does not match the pattern ``^[a-zA-Z_][a-zA-Z0-9_]*$``; you will not be able to use natural naming to access this object; using ``getattr()`` will still work, though\n",
      "  check_attribute_name(name)\n"
     ]
    },
    {
     "name": "stdout",
     "output_type": "stream",
     "text": [
      "Crawling *Annual* Financial Summary of *흥국-336370*...\n"
     ]
    },
    {
     "name": "stderr",
     "output_type": "stream",
     "text": [
      "C:\\anaconda3\\lib\\site-packages\\tables\\path.py:155: NaturalNameWarning: object name is not a valid Python identifier: '336370'; it does not match the pattern ``^[a-zA-Z_][a-zA-Z0-9_]*$``; you will not be able to use natural naming to access this object; using ``getattr()`` will still work, though\n",
      "  check_attribute_name(name)\n"
     ]
    },
    {
     "name": "stdout",
     "output_type": "stream",
     "text": [
      "Crawling *Annual* Financial Summary of *쌍용정보통신-336570*...\n"
     ]
    },
    {
     "name": "stderr",
     "output_type": "stream",
     "text": [
      "C:\\anaconda3\\lib\\site-packages\\tables\\path.py:155: NaturalNameWarning: object name is not a valid Python identifier: '336570'; it does not match the pattern ``^[a-zA-Z_][a-zA-Z0-9_]*$``; you will not be able to use natural naming to access this object; using ``getattr()`` will still work, though\n",
      "  check_attribute_name(name)\n"
     ]
    },
    {
     "name": "stdout",
     "output_type": "stream",
     "text": [
      "Crawling *Annual* Financial Summary of *우진아이엔에스-337450*...\n"
     ]
    },
    {
     "name": "stderr",
     "output_type": "stream",
     "text": [
      "C:\\anaconda3\\lib\\site-packages\\tables\\path.py:155: NaturalNameWarning: object name is not a valid Python identifier: '337450'; it does not match the pattern ``^[a-zA-Z_][a-zA-Z0-9_]*$``; you will not be able to use natural naming to access this object; using ``getattr()`` will still work, though\n",
      "  check_attribute_name(name)\n"
     ]
    },
    {
     "name": "stdout",
     "output_type": "stream",
     "text": [
      "Crawling *Annual* Financial Summary of *한솔피엔에스-337930*...\n"
     ]
    },
    {
     "name": "stderr",
     "output_type": "stream",
     "text": [
      "C:\\anaconda3\\lib\\site-packages\\tables\\path.py:155: NaturalNameWarning: object name is not a valid Python identifier: '337930'; it does not match the pattern ``^[a-zA-Z_][a-zA-Z0-9_]*$``; you will not be able to use natural naming to access this object; using ``getattr()`` will still work, though\n",
      "  check_attribute_name(name)\n"
     ]
    },
    {
     "name": "stdout",
     "output_type": "stream",
     "text": [
      "Crawling *Annual* Financial Summary of *오리콤-338100*...\n"
     ]
    },
    {
     "name": "stderr",
     "output_type": "stream",
     "text": [
      "C:\\anaconda3\\lib\\site-packages\\tables\\path.py:155: NaturalNameWarning: object name is not a valid Python identifier: '338100'; it does not match the pattern ``^[a-zA-Z_][a-zA-Z0-9_]*$``; you will not be able to use natural naming to access this object; using ``getattr()`` will still work, though\n",
      "  check_attribute_name(name)\n"
     ]
    },
    {
     "name": "stdout",
     "output_type": "stream",
     "text": [
      "Crawling *Annual* Financial Summary of *지코-339770*...\n"
     ]
    },
    {
     "name": "stderr",
     "output_type": "stream",
     "text": [
      "C:\\anaconda3\\lib\\site-packages\\tables\\path.py:155: NaturalNameWarning: object name is not a valid Python identifier: '339770'; it does not match the pattern ``^[a-zA-Z_][a-zA-Z0-9_]*$``; you will not be able to use natural naming to access this object; using ``getattr()`` will still work, though\n",
      "  check_attribute_name(name)\n"
     ]
    },
    {
     "name": "stdout",
     "output_type": "stream",
     "text": [
      "Crawling *Annual* Financial Summary of *웰바이오텍-339950*...\n"
     ]
    },
    {
     "name": "stderr",
     "output_type": "stream",
     "text": [
      "C:\\anaconda3\\lib\\site-packages\\tables\\path.py:155: NaturalNameWarning: object name is not a valid Python identifier: '339950'; it does not match the pattern ``^[a-zA-Z_][a-zA-Z0-9_]*$``; you will not be able to use natural naming to access this object; using ``getattr()`` will still work, though\n",
      "  check_attribute_name(name)\n"
     ]
    },
    {
     "name": "stdout",
     "output_type": "stream",
     "text": [
      "Crawling *Annual* Financial Summary of *현대미포조선-340120*...\n"
     ]
    },
    {
     "name": "stderr",
     "output_type": "stream",
     "text": [
      "C:\\anaconda3\\lib\\site-packages\\tables\\path.py:155: NaturalNameWarning: object name is not a valid Python identifier: '340120'; it does not match the pattern ``^[a-zA-Z_][a-zA-Z0-9_]*$``; you will not be able to use natural naming to access this object; using ``getattr()`` will still work, though\n",
      "  check_attribute_name(name)\n"
     ]
    },
    {
     "name": "stdout",
     "output_type": "stream",
     "text": [
      "Crawling *Annual* Financial Summary of *진양폴리우레탄-340350*...\n"
     ]
    },
    {
     "name": "stderr",
     "output_type": "stream",
     "text": [
      "C:\\anaconda3\\lib\\site-packages\\tables\\path.py:155: NaturalNameWarning: object name is not a valid Python identifier: '340350'; it does not match the pattern ``^[a-zA-Z_][a-zA-Z0-9_]*$``; you will not be able to use natural naming to access this object; using ``getattr()`` will still work, though\n",
      "  check_attribute_name(name)\n"
     ]
    },
    {
     "name": "stdout",
     "output_type": "stream",
     "text": [
      "Crawling *Annual* Financial Summary of *화천기계-340360*...\n"
     ]
    },
    {
     "name": "stderr",
     "output_type": "stream",
     "text": [
      "C:\\anaconda3\\lib\\site-packages\\tables\\path.py:155: NaturalNameWarning: object name is not a valid Python identifier: '340360'; it does not match the pattern ``^[a-zA-Z_][a-zA-Z0-9_]*$``; you will not be able to use natural naming to access this object; using ``getattr()`` will still work, though\n",
      "  check_attribute_name(name)\n"
     ]
    },
    {
     "name": "stdout",
     "output_type": "stream",
     "text": [
      "Crawling *Annual* Financial Summary of *화신-340440*...\n"
     ]
    },
    {
     "name": "stderr",
     "output_type": "stream",
     "text": [
      "C:\\anaconda3\\lib\\site-packages\\tables\\path.py:155: NaturalNameWarning: object name is not a valid Python identifier: '340440'; it does not match the pattern ``^[a-zA-Z_][a-zA-Z0-9_]*$``; you will not be able to use natural naming to access this object; using ``getattr()`` will still work, though\n",
      "  check_attribute_name(name)\n"
     ]
    },
    {
     "name": "stdout",
     "output_type": "stream",
     "text": [
      "Crawling *Annual* Financial Summary of *평화홀딩스-340570*...\n"
     ]
    },
    {
     "name": "stderr",
     "output_type": "stream",
     "text": [
      "C:\\anaconda3\\lib\\site-packages\\tables\\path.py:155: NaturalNameWarning: object name is not a valid Python identifier: '340570'; it does not match the pattern ``^[a-zA-Z_][a-zA-Z0-9_]*$``; you will not be able to use natural naming to access this object; using ``getattr()`` will still work, though\n",
      "  check_attribute_name(name)\n"
     ]
    },
    {
     "name": "stdout",
     "output_type": "stream",
     "text": [
      "Crawling *Annual* Financial Summary of *아이에스동서-341160*...\n"
     ]
    },
    {
     "name": "stderr",
     "output_type": "stream",
     "text": [
      "C:\\anaconda3\\lib\\site-packages\\tables\\path.py:155: NaturalNameWarning: object name is not a valid Python identifier: '341160'; it does not match the pattern ``^[a-zA-Z_][a-zA-Z0-9_]*$``; you will not be able to use natural naming to access this object; using ``getattr()`` will still work, though\n",
      "  check_attribute_name(name)\n"
     ]
    },
    {
     "name": "stdout",
     "output_type": "stream",
     "text": [
      "Crawling *Annual* Financial Summary of *퍼스텍-342550*...\n"
     ]
    },
    {
     "name": "stderr",
     "output_type": "stream",
     "text": [
      "C:\\anaconda3\\lib\\site-packages\\tables\\path.py:155: NaturalNameWarning: object name is not a valid Python identifier: '342550'; it does not match the pattern ``^[a-zA-Z_][a-zA-Z0-9_]*$``; you will not be able to use natural naming to access this object; using ``getattr()`` will still work, though\n",
      "  check_attribute_name(name)\n"
     ]
    },
    {
     "name": "stdout",
     "output_type": "stream",
     "text": [
      "Crawling *Annual* Financial Summary of *S-Oil-343510*...\n"
     ]
    },
    {
     "name": "stderr",
     "output_type": "stream",
     "text": [
      "C:\\anaconda3\\lib\\site-packages\\tables\\path.py:155: NaturalNameWarning: object name is not a valid Python identifier: '343510'; it does not match the pattern ``^[a-zA-Z_][a-zA-Z0-9_]*$``; you will not be able to use natural naming to access this object; using ``getattr()`` will still work, though\n",
      "  check_attribute_name(name)\n"
     ]
    },
    {
     "name": "stdout",
     "output_type": "stream",
     "text": [
      "Crawling *Annual* Financial Summary of *삼호개발-344050*...\n"
     ]
    },
    {
     "name": "stderr",
     "output_type": "stream",
     "text": [
      "C:\\anaconda3\\lib\\site-packages\\tables\\path.py:155: NaturalNameWarning: object name is not a valid Python identifier: '344050'; it does not match the pattern ``^[a-zA-Z_][a-zA-Z0-9_]*$``; you will not be able to use natural naming to access this object; using ``getattr()`` will still work, though\n",
      "  check_attribute_name(name)\n"
     ]
    },
    {
     "name": "stdout",
     "output_type": "stream",
     "text": [
      "Crawling *Annual* Financial Summary of *진원생명과학-344820*...\n"
     ]
    },
    {
     "name": "stderr",
     "output_type": "stream",
     "text": [
      "C:\\anaconda3\\lib\\site-packages\\tables\\path.py:155: NaturalNameWarning: object name is not a valid Python identifier: '344820'; it does not match the pattern ``^[a-zA-Z_][a-zA-Z0-9_]*$``; you will not be able to use natural naming to access this object; using ``getattr()`` will still work, though\n",
      "  check_attribute_name(name)\n"
     ]
    },
    {
     "name": "stdout",
     "output_type": "stream",
     "text": [
      "Crawling *Annual* Financial Summary of *경동제약-347000*...\n"
     ]
    },
    {
     "name": "stderr",
     "output_type": "stream",
     "text": [
      "C:\\anaconda3\\lib\\site-packages\\tables\\path.py:155: NaturalNameWarning: object name is not a valid Python identifier: '347000'; it does not match the pattern ``^[a-zA-Z_][a-zA-Z0-9_]*$``; you will not be able to use natural naming to access this object; using ``getattr()`` will still work, though\n",
      "  check_attribute_name(name)\n"
     ]
    },
    {
     "name": "stdout",
     "output_type": "stream",
     "text": [
      "Crawling *Annual* Financial Summary of *LG이노텍-347140*...\n"
     ]
    },
    {
     "name": "stderr",
     "output_type": "stream",
     "text": [
      "C:\\anaconda3\\lib\\site-packages\\tables\\path.py:155: NaturalNameWarning: object name is not a valid Python identifier: '347140'; it does not match the pattern ``^[a-zA-Z_][a-zA-Z0-9_]*$``; you will not be able to use natural naming to access this object; using ``getattr()`` will still work, though\n",
      "  check_attribute_name(name)\n"
     ]
    },
    {
     "name": "stdout",
     "output_type": "stream",
     "text": [
      "Crawling *Annual* Financial Summary of *형지I&C-347740*...\n"
     ]
    },
    {
     "name": "stderr",
     "output_type": "stream",
     "text": [
      "C:\\anaconda3\\lib\\site-packages\\tables\\path.py:155: NaturalNameWarning: object name is not a valid Python identifier: '347740'; it does not match the pattern ``^[a-zA-Z_][a-zA-Z0-9_]*$``; you will not be able to use natural naming to access this object; using ``getattr()`` will still work, though\n",
      "  check_attribute_name(name)\n"
     ]
    },
    {
     "name": "stdout",
     "output_type": "stream",
     "text": [
      "Crawling *Annual* Financial Summary of *에넥스-347770*...\n"
     ]
    },
    {
     "name": "stderr",
     "output_type": "stream",
     "text": [
      "C:\\anaconda3\\lib\\site-packages\\tables\\path.py:155: NaturalNameWarning: object name is not a valid Python identifier: '347770'; it does not match the pattern ``^[a-zA-Z_][a-zA-Z0-9_]*$``; you will not be able to use natural naming to access this object; using ``getattr()`` will still work, though\n",
      "  check_attribute_name(name)\n"
     ]
    },
    {
     "name": "stdout",
     "output_type": "stream",
     "text": [
      "Crawling *Annual* Financial Summary of *CJ씨푸드-347860*...\n"
     ]
    },
    {
     "name": "stderr",
     "output_type": "stream",
     "text": [
      "C:\\anaconda3\\lib\\site-packages\\tables\\path.py:155: NaturalNameWarning: object name is not a valid Python identifier: '347860'; it does not match the pattern ``^[a-zA-Z_][a-zA-Z0-9_]*$``; you will not be able to use natural naming to access this object; using ``getattr()`` will still work, though\n",
      "  check_attribute_name(name)\n"
     ]
    },
    {
     "name": "stdout",
     "output_type": "stream",
     "text": [
      "Crawling *Annual* Financial Summary of *롯데케미칼-347890*...\n"
     ]
    },
    {
     "name": "stderr",
     "output_type": "stream",
     "text": [
      "C:\\anaconda3\\lib\\site-packages\\tables\\path.py:155: NaturalNameWarning: object name is not a valid Python identifier: '347890'; it does not match the pattern ``^[a-zA-Z_][a-zA-Z0-9_]*$``; you will not be able to use natural naming to access this object; using ``getattr()`` will still work, though\n",
      "  check_attribute_name(name)\n"
     ]
    },
    {
     "name": "stdout",
     "output_type": "stream",
     "text": [
      "Crawling *Annual* Financial Summary of *HMM-348150*...\n"
     ]
    },
    {
     "name": "stderr",
     "output_type": "stream",
     "text": [
      "C:\\anaconda3\\lib\\site-packages\\tables\\path.py:155: NaturalNameWarning: object name is not a valid Python identifier: '348150'; it does not match the pattern ``^[a-zA-Z_][a-zA-Z0-9_]*$``; you will not be able to use natural naming to access this object; using ``getattr()`` will still work, though\n",
      "  check_attribute_name(name)\n"
     ]
    },
    {
     "name": "stdout",
     "output_type": "stream",
     "text": [
      "Crawling *Annual* Financial Summary of *현대위아-348210*...\n"
     ]
    },
    {
     "name": "stderr",
     "output_type": "stream",
     "text": [
      "C:\\anaconda3\\lib\\site-packages\\tables\\path.py:155: NaturalNameWarning: object name is not a valid Python identifier: '348210'; it does not match the pattern ``^[a-zA-Z_][a-zA-Z0-9_]*$``; you will not be able to use natural naming to access this object; using ``getattr()`` will still work, though\n",
      "  check_attribute_name(name)\n"
     ]
    },
    {
     "name": "stdout",
     "output_type": "stream",
     "text": [
      "Crawling *Annual* Financial Summary of *삼화전자공업-348350*...\n"
     ]
    },
    {
     "name": "stderr",
     "output_type": "stream",
     "text": [
      "C:\\anaconda3\\lib\\site-packages\\tables\\path.py:155: NaturalNameWarning: object name is not a valid Python identifier: '348350'; it does not match the pattern ``^[a-zA-Z_][a-zA-Z0-9_]*$``; you will not be able to use natural naming to access this object; using ``getattr()`` will still work, though\n",
      "  check_attribute_name(name)\n"
     ]
    },
    {
     "name": "stdout",
     "output_type": "stream",
     "text": [
      "Crawling *Annual* Financial Summary of *태림포장-348950*...\n"
     ]
    },
    {
     "name": "stderr",
     "output_type": "stream",
     "text": [
      "C:\\anaconda3\\lib\\site-packages\\tables\\path.py:155: NaturalNameWarning: object name is not a valid Python identifier: '348950'; it does not match the pattern ``^[a-zA-Z_][a-zA-Z0-9_]*$``; you will not be able to use natural naming to access this object; using ``getattr()`` will still work, though\n",
      "  check_attribute_name(name)\n"
     ]
    },
    {
     "name": "stdout",
     "output_type": "stream",
     "text": [
      "Crawling *Annual* Financial Summary of *성안-349720*...\n"
     ]
    },
    {
     "name": "stderr",
     "output_type": "stream",
     "text": [
      "C:\\anaconda3\\lib\\site-packages\\tables\\path.py:155: NaturalNameWarning: object name is not a valid Python identifier: '349720'; it does not match the pattern ``^[a-zA-Z_][a-zA-Z0-9_]*$``; you will not be able to use natural naming to access this object; using ``getattr()`` will still work, though\n",
      "  check_attribute_name(name)\n"
     ]
    },
    {
     "name": "stdout",
     "output_type": "stream",
     "text": [
      "Crawling *Annual* Financial Summary of *유니크-350520*...\n"
     ]
    },
    {
     "name": "stderr",
     "output_type": "stream",
     "text": [
      "C:\\anaconda3\\lib\\site-packages\\tables\\path.py:155: NaturalNameWarning: object name is not a valid Python identifier: '350520'; it does not match the pattern ``^[a-zA-Z_][a-zA-Z0-9_]*$``; you will not be able to use natural naming to access this object; using ``getattr()`` will still work, though\n",
      "  check_attribute_name(name)\n"
     ]
    },
    {
     "name": "stdout",
     "output_type": "stream",
     "text": [
      "Crawling *Annual* Financial Summary of *유니켐-351320*...\n"
     ]
    },
    {
     "name": "stderr",
     "output_type": "stream",
     "text": [
      "C:\\anaconda3\\lib\\site-packages\\tables\\path.py:155: NaturalNameWarning: object name is not a valid Python identifier: '351320'; it does not match the pattern ``^[a-zA-Z_][a-zA-Z0-9_]*$``; you will not be able to use natural naming to access this object; using ``getattr()`` will still work, though\n",
      "  check_attribute_name(name)\n"
     ]
    },
    {
     "name": "stdout",
     "output_type": "stream",
     "text": [
      "Crawling *Annual* Financial Summary of *서한-351340*...\n"
     ]
    },
    {
     "name": "stderr",
     "output_type": "stream",
     "text": [
      "C:\\anaconda3\\lib\\site-packages\\tables\\path.py:155: NaturalNameWarning: object name is not a valid Python identifier: '351340'; it does not match the pattern ``^[a-zA-Z_][a-zA-Z0-9_]*$``; you will not be able to use natural naming to access this object; using ``getattr()`` will still work, though\n",
      "  check_attribute_name(name)\n"
     ]
    },
    {
     "name": "stdout",
     "output_type": "stream",
     "text": [
      "Crawling *Annual* Financial Summary of *부산산업-352770*...\n"
     ]
    },
    {
     "name": "stderr",
     "output_type": "stream",
     "text": [
      "C:\\anaconda3\\lib\\site-packages\\tables\\path.py:155: NaturalNameWarning: object name is not a valid Python identifier: '352770'; it does not match the pattern ``^[a-zA-Z_][a-zA-Z0-9_]*$``; you will not be able to use natural naming to access this object; using ``getattr()`` will still work, though\n",
      "  check_attribute_name(name)\n"
     ]
    },
    {
     "name": "stdout",
     "output_type": "stream",
     "text": [
      "Crawling *Annual* Financial Summary of *갤럭시아에스엠-352820*...\n"
     ]
    },
    {
     "name": "stderr",
     "output_type": "stream",
     "text": [
      "C:\\anaconda3\\lib\\site-packages\\tables\\path.py:155: NaturalNameWarning: object name is not a valid Python identifier: '352820'; it does not match the pattern ``^[a-zA-Z_][a-zA-Z0-9_]*$``; you will not be able to use natural naming to access this object; using ``getattr()`` will still work, though\n",
      "  check_attribute_name(name)\n"
     ]
    },
    {
     "name": "stdout",
     "output_type": "stream",
     "text": [
      "Crawling *Annual* Financial Summary of *한농화성-352940*...\n"
     ]
    },
    {
     "name": "stderr",
     "output_type": "stream",
     "text": [
      "C:\\anaconda3\\lib\\site-packages\\tables\\path.py:155: NaturalNameWarning: object name is not a valid Python identifier: '352940'; it does not match the pattern ``^[a-zA-Z_][a-zA-Z0-9_]*$``; you will not be able to use natural naming to access this object; using ``getattr()`` will still work, though\n",
      "  check_attribute_name(name)\n"
     ]
    },
    {
     "name": "stdout",
     "output_type": "stream",
     "text": [
      "Crawling *Annual* Financial Summary of *세보엠이씨-353060*...\n"
     ]
    },
    {
     "name": "stderr",
     "output_type": "stream",
     "text": [
      "C:\\anaconda3\\lib\\site-packages\\tables\\path.py:155: NaturalNameWarning: object name is not a valid Python identifier: '353060'; it does not match the pattern ``^[a-zA-Z_][a-zA-Z0-9_]*$``; you will not be able to use natural naming to access this object; using ``getattr()`` will still work, though\n",
      "  check_attribute_name(name)\n"
     ]
    },
    {
     "name": "stdout",
     "output_type": "stream",
     "text": [
      "Crawling *Annual* Financial Summary of *유양디앤유-353070*...\n"
     ]
    },
    {
     "name": "stderr",
     "output_type": "stream",
     "text": [
      "C:\\anaconda3\\lib\\site-packages\\tables\\path.py:155: NaturalNameWarning: object name is not a valid Python identifier: '353070'; it does not match the pattern ``^[a-zA-Z_][a-zA-Z0-9_]*$``; you will not be able to use natural naming to access this object; using ``getattr()`` will still work, though\n",
      "  check_attribute_name(name)\n"
     ]
    },
    {
     "name": "stdout",
     "output_type": "stream",
     "text": [
      "Crawling *Annual* Financial Summary of *한신기계공업-353190*...\n"
     ]
    },
    {
     "name": "stderr",
     "output_type": "stream",
     "text": [
      "C:\\anaconda3\\lib\\site-packages\\tables\\path.py:155: NaturalNameWarning: object name is not a valid Python identifier: '353190'; it does not match the pattern ``^[a-zA-Z_][a-zA-Z0-9_]*$``; you will not be able to use natural naming to access this object; using ``getattr()`` will still work, though\n",
      "  check_attribute_name(name)\n"
     ]
    },
    {
     "name": "stdout",
     "output_type": "stream",
     "text": [
      "Crawling *Annual* Financial Summary of *현대종합상사-353200*...\n"
     ]
    },
    {
     "name": "stderr",
     "output_type": "stream",
     "text": [
      "C:\\anaconda3\\lib\\site-packages\\tables\\path.py:155: NaturalNameWarning: object name is not a valid Python identifier: '353200'; it does not match the pattern ``^[a-zA-Z_][a-zA-Z0-9_]*$``; you will not be able to use natural naming to access this object; using ``getattr()`` will still work, though\n",
      "  check_attribute_name(name)\n"
     ]
    },
    {
     "name": "stdout",
     "output_type": "stream",
     "text": [
      "Crawling *Annual* Financial Summary of *금호석유화학-353490*...\n"
     ]
    },
    {
     "name": "stderr",
     "output_type": "stream",
     "text": [
      "C:\\anaconda3\\lib\\site-packages\\tables\\path.py:155: NaturalNameWarning: object name is not a valid Python identifier: '353490'; it does not match the pattern ``^[a-zA-Z_][a-zA-Z0-9_]*$``; you will not be able to use natural naming to access this object; using ``getattr()`` will still work, though\n",
      "  check_attribute_name(name)\n"
     ]
    },
    {
     "name": "stdout",
     "output_type": "stream",
     "text": [
      "Crawling *Annual* Financial Summary of *SKC-353810*...\n"
     ]
    },
    {
     "name": "stderr",
     "output_type": "stream",
     "text": [
      "C:\\anaconda3\\lib\\site-packages\\tables\\path.py:155: NaturalNameWarning: object name is not a valid Python identifier: '353810'; it does not match the pattern ``^[a-zA-Z_][a-zA-Z0-9_]*$``; you will not be able to use natural naming to access this object; using ``getattr()`` will still work, though\n",
      "  check_attribute_name(name)\n"
     ]
    },
    {
     "name": "stdout",
     "output_type": "stream",
     "text": [
      "Crawling *Annual* Financial Summary of *STX-354200*...\n"
     ]
    },
    {
     "name": "stderr",
     "output_type": "stream",
     "text": [
      "C:\\anaconda3\\lib\\site-packages\\tables\\path.py:155: NaturalNameWarning: object name is not a valid Python identifier: '354200'; it does not match the pattern ``^[a-zA-Z_][a-zA-Z0-9_]*$``; you will not be able to use natural naming to access this object; using ``getattr()`` will still work, though\n",
      "  check_attribute_name(name)\n"
     ]
    },
    {
     "name": "stdout",
     "output_type": "stream",
     "text": [
      "Crawling *Annual* Financial Summary of *신성이엔지-355150*...\n"
     ]
    },
    {
     "name": "stderr",
     "output_type": "stream",
     "text": [
      "C:\\anaconda3\\lib\\site-packages\\tables\\path.py:155: NaturalNameWarning: object name is not a valid Python identifier: '355150'; it does not match the pattern ``^[a-zA-Z_][a-zA-Z0-9_]*$``; you will not be able to use natural naming to access this object; using ``getattr()`` will still work, though\n",
      "  check_attribute_name(name)\n"
     ]
    },
    {
     "name": "stdout",
     "output_type": "stream",
     "text": [
      "Crawling *Annual* Financial Summary of *DB-356860*...\n"
     ]
    },
    {
     "name": "stderr",
     "output_type": "stream",
     "text": [
      "C:\\anaconda3\\lib\\site-packages\\tables\\path.py:155: NaturalNameWarning: object name is not a valid Python identifier: '356860'; it does not match the pattern ``^[a-zA-Z_][a-zA-Z0-9_]*$``; you will not be able to use natural naming to access this object; using ``getattr()`` will still work, though\n",
      "  check_attribute_name(name)\n"
     ]
    },
    {
     "name": "stdout",
     "output_type": "stream",
     "text": [
      "Crawling *Annual* Financial Summary of *영흥-357120*...\n"
     ]
    },
    {
     "name": "stderr",
     "output_type": "stream",
     "text": [
      "C:\\anaconda3\\lib\\site-packages\\tables\\path.py:155: NaturalNameWarning: object name is not a valid Python identifier: '357120'; it does not match the pattern ``^[a-zA-Z_][a-zA-Z0-9_]*$``; you will not be able to use natural naming to access this object; using ``getattr()`` will still work, though\n",
      "  check_attribute_name(name)\n"
     ]
    },
    {
     "name": "stdout",
     "output_type": "stream",
     "text": [
      "Crawling *Annual* Financial Summary of *키위미디어그룹-357250*...\n"
     ]
    },
    {
     "name": "stderr",
     "output_type": "stream",
     "text": [
      "C:\\anaconda3\\lib\\site-packages\\tables\\path.py:155: NaturalNameWarning: object name is not a valid Python identifier: '357250'; it does not match the pattern ``^[a-zA-Z_][a-zA-Z0-9_]*$``; you will not be able to use natural naming to access this object; using ``getattr()`` will still work, though\n",
      "  check_attribute_name(name)\n"
     ]
    },
    {
     "name": "stdout",
     "output_type": "stream",
     "text": [
      "Crawling *Annual* Financial Summary of *계양전기-357550*...\n"
     ]
    },
    {
     "name": "stderr",
     "output_type": "stream",
     "text": [
      "C:\\anaconda3\\lib\\site-packages\\tables\\path.py:155: NaturalNameWarning: object name is not a valid Python identifier: '357550'; it does not match the pattern ``^[a-zA-Z_][a-zA-Z0-9_]*$``; you will not be able to use natural naming to access this object; using ``getattr()`` will still work, though\n",
      "  check_attribute_name(name)\n"
     ]
    },
    {
     "name": "stdout",
     "output_type": "stream",
     "text": [
      "Crawling *Annual* Financial Summary of *영화금속-357780*...\n"
     ]
    },
    {
     "name": "stderr",
     "output_type": "stream",
     "text": [
      "C:\\anaconda3\\lib\\site-packages\\tables\\path.py:155: NaturalNameWarning: object name is not a valid Python identifier: '357780'; it does not match the pattern ``^[a-zA-Z_][a-zA-Z0-9_]*$``; you will not be able to use natural naming to access this object; using ``getattr()`` will still work, though\n",
      "  check_attribute_name(name)\n"
     ]
    },
    {
     "name": "stdout",
     "output_type": "stream",
     "text": [
      "Crawling *Annual* Financial Summary of *경동인베스트-359090*...\n"
     ]
    },
    {
     "name": "stderr",
     "output_type": "stream",
     "text": [
      "C:\\anaconda3\\lib\\site-packages\\tables\\path.py:155: NaturalNameWarning: object name is not a valid Python identifier: '359090'; it does not match the pattern ``^[a-zA-Z_][a-zA-Z0-9_]*$``; you will not be able to use natural naming to access this object; using ``getattr()`` will still work, though\n",
      "  check_attribute_name(name)\n"
     ]
    },
    {
     "name": "stdout",
     "output_type": "stream",
     "text": [
      "Crawling *Annual* Financial Summary of *현대모비스-363280*...\n"
     ]
    },
    {
     "name": "stderr",
     "output_type": "stream",
     "text": [
      "C:\\anaconda3\\lib\\site-packages\\tables\\path.py:155: NaturalNameWarning: object name is not a valid Python identifier: '363280'; it does not match the pattern ``^[a-zA-Z_][a-zA-Z0-9_]*$``; you will not be able to use natural naming to access this object; using ``getattr()`` will still work, though\n",
      "  check_attribute_name(name)\n"
     ]
    },
    {
     "name": "stdout",
     "output_type": "stream",
     "text": [
      "Crawling *Annual* Financial Summary of *뉴인텍-365550*...\n"
     ]
    },
    {
     "name": "stderr",
     "output_type": "stream",
     "text": [
      "C:\\anaconda3\\lib\\site-packages\\tables\\path.py:155: NaturalNameWarning: object name is not a valid Python identifier: '365550'; it does not match the pattern ``^[a-zA-Z_][a-zA-Z0-9_]*$``; you will not be able to use natural naming to access this object; using ``getattr()`` will still work, though\n",
      "  check_attribute_name(name)\n"
     ]
    },
    {
     "name": "stdout",
     "output_type": "stream",
     "text": [
      "Crawling *Annual* Financial Summary of *한화에어로스페이스-365590*...\n"
     ]
    },
    {
     "name": "stderr",
     "output_type": "stream",
     "text": [
      "C:\\anaconda3\\lib\\site-packages\\tables\\path.py:155: NaturalNameWarning: object name is not a valid Python identifier: '365590'; it does not match the pattern ``^[a-zA-Z_][a-zA-Z0-9_]*$``; you will not be able to use natural naming to access this object; using ``getattr()`` will still work, though\n",
      "  check_attribute_name(name)\n"
     ]
    },
    {
     "name": "stdout",
     "output_type": "stream",
     "text": [
      "Crawling *Annual* Financial Summary of *더존비즈온-367340*...\n"
     ]
    },
    {
     "name": "stderr",
     "output_type": "stream",
     "text": [
      "C:\\anaconda3\\lib\\site-packages\\tables\\path.py:155: NaturalNameWarning: object name is not a valid Python identifier: '367340'; it does not match the pattern ``^[a-zA-Z_][a-zA-Z0-9_]*$``; you will not be able to use natural naming to access this object; using ``getattr()`` will still work, though\n",
      "  check_attribute_name(name)\n"
     ]
    },
    {
     "name": "stdout",
     "output_type": "stream",
     "text": [
      "Crawling *Annual* Financial Summary of *센트럴인사이트-367460*...\n"
     ]
    },
    {
     "name": "stderr",
     "output_type": "stream",
     "text": [
      "C:\\anaconda3\\lib\\site-packages\\tables\\path.py:155: NaturalNameWarning: object name is not a valid Python identifier: '367460'; it does not match the pattern ``^[a-zA-Z_][a-zA-Z0-9_]*$``; you will not be able to use natural naming to access this object; using ``getattr()`` will still work, though\n",
      "  check_attribute_name(name)\n"
     ]
    },
    {
     "name": "stdout",
     "output_type": "stream",
     "text": [
      "Crawling *Annual* Financial Summary of *경인양행-369370*...\n"
     ]
    },
    {
     "name": "stderr",
     "output_type": "stream",
     "text": [
      "C:\\anaconda3\\lib\\site-packages\\tables\\path.py:155: NaturalNameWarning: object name is not a valid Python identifier: '369370'; it does not match the pattern ``^[a-zA-Z_][a-zA-Z0-9_]*$``; you will not be able to use natural naming to access this object; using ``getattr()`` will still work, though\n",
      "  check_attribute_name(name)\n"
     ]
    },
    {
     "name": "stdout",
     "output_type": "stream",
     "text": [
      "Crawling *Annual* Financial Summary of *원일특강-900070*...\n"
     ]
    },
    {
     "name": "stderr",
     "output_type": "stream",
     "text": [
      "C:\\anaconda3\\lib\\site-packages\\tables\\path.py:155: NaturalNameWarning: object name is not a valid Python identifier: '900070'; it does not match the pattern ``^[a-zA-Z_][a-zA-Z0-9_]*$``; you will not be able to use natural naming to access this object; using ``getattr()`` will still work, though\n",
      "  check_attribute_name(name)\n"
     ]
    },
    {
     "name": "stdout",
     "output_type": "stream",
     "text": [
      "Crawling *Annual* Financial Summary of *HDC-900080*...\n"
     ]
    },
    {
     "name": "stderr",
     "output_type": "stream",
     "text": [
      "C:\\anaconda3\\lib\\site-packages\\tables\\path.py:155: NaturalNameWarning: object name is not a valid Python identifier: '900080'; it does not match the pattern ``^[a-zA-Z_][a-zA-Z0-9_]*$``; you will not be able to use natural naming to access this object; using ``getattr()`` will still work, though\n",
      "  check_attribute_name(name)\n"
     ]
    },
    {
     "name": "stdout",
     "output_type": "stream",
     "text": [
      "Crawling *Annual* Financial Summary of *모나리자-900100*...\n"
     ]
    },
    {
     "name": "stderr",
     "output_type": "stream",
     "text": [
      "C:\\anaconda3\\lib\\site-packages\\tables\\path.py:155: NaturalNameWarning: object name is not a valid Python identifier: '900100'; it does not match the pattern ``^[a-zA-Z_][a-zA-Z0-9_]*$``; you will not be able to use natural naming to access this object; using ``getattr()`` will still work, though\n",
      "  check_attribute_name(name)\n"
     ]
    },
    {
     "name": "stdout",
     "output_type": "stream",
     "text": [
      "Crawling *Annual* Financial Summary of *리드코프-900110*...\n"
     ]
    },
    {
     "name": "stderr",
     "output_type": "stream",
     "text": [
      "C:\\anaconda3\\lib\\site-packages\\tables\\path.py:155: NaturalNameWarning: object name is not a valid Python identifier: '900110'; it does not match the pattern ``^[a-zA-Z_][a-zA-Z0-9_]*$``; you will not be able to use natural naming to access this object; using ``getattr()`` will still work, though\n",
      "  check_attribute_name(name)\n"
     ]
    },
    {
     "name": "stdout",
     "output_type": "stream",
     "text": [
      "Crawling *Annual* Financial Summary of *에스원-900120*...\n"
     ]
    },
    {
     "name": "stderr",
     "output_type": "stream",
     "text": [
      "C:\\anaconda3\\lib\\site-packages\\tables\\path.py:155: NaturalNameWarning: object name is not a valid Python identifier: '900120'; it does not match the pattern ``^[a-zA-Z_][a-zA-Z0-9_]*$``; you will not be able to use natural naming to access this object; using ``getattr()`` will still work, though\n",
      "  check_attribute_name(name)\n"
     ]
    },
    {
     "name": "stdout",
     "output_type": "stream",
     "text": [
      "Crawling *Annual* Financial Summary of *신일제약-900140*...\n"
     ]
    },
    {
     "name": "stderr",
     "output_type": "stream",
     "text": [
      "C:\\anaconda3\\lib\\site-packages\\tables\\path.py:155: NaturalNameWarning: object name is not a valid Python identifier: '900140'; it does not match the pattern ``^[a-zA-Z_][a-zA-Z0-9_]*$``; you will not be able to use natural naming to access this object; using ``getattr()`` will still work, though\n",
      "  check_attribute_name(name)\n"
     ]
    },
    {
     "name": "stdout",
     "output_type": "stream",
     "text": [
      "Crawling *Annual* Financial Summary of *대창-900250*...\n"
     ]
    },
    {
     "name": "stderr",
     "output_type": "stream",
     "text": [
      "C:\\anaconda3\\lib\\site-packages\\tables\\path.py:155: NaturalNameWarning: object name is not a valid Python identifier: '900250'; it does not match the pattern ``^[a-zA-Z_][a-zA-Z0-9_]*$``; you will not be able to use natural naming to access this object; using ``getattr()`` will still work, though\n",
      "  check_attribute_name(name)\n"
     ]
    },
    {
     "name": "stdout",
     "output_type": "stream",
     "text": [
      "Crawling *Annual* Financial Summary of *모베이스전자-900260*...\n"
     ]
    },
    {
     "name": "stderr",
     "output_type": "stream",
     "text": [
      "C:\\anaconda3\\lib\\site-packages\\tables\\path.py:155: NaturalNameWarning: object name is not a valid Python identifier: '900260'; it does not match the pattern ``^[a-zA-Z_][a-zA-Z0-9_]*$``; you will not be able to use natural naming to access this object; using ``getattr()`` will still work, though\n",
      "  check_attribute_name(name)\n"
     ]
    },
    {
     "name": "stdout",
     "output_type": "stream",
     "text": [
      "Crawling *Annual* Financial Summary of *세우글로벌-900270*...\n"
     ]
    },
    {
     "name": "stderr",
     "output_type": "stream",
     "text": [
      "C:\\anaconda3\\lib\\site-packages\\tables\\path.py:155: NaturalNameWarning: object name is not a valid Python identifier: '900270'; it does not match the pattern ``^[a-zA-Z_][a-zA-Z0-9_]*$``; you will not be able to use natural naming to access this object; using ``getattr()`` will still work, though\n",
      "  check_attribute_name(name)\n"
     ]
    },
    {
     "name": "stdout",
     "output_type": "stream",
     "text": [
      "Crawling *Annual* Financial Summary of *하이록코리아-900280*...\n"
     ]
    },
    {
     "name": "stderr",
     "output_type": "stream",
     "text": [
      "C:\\anaconda3\\lib\\site-packages\\tables\\path.py:155: NaturalNameWarning: object name is not a valid Python identifier: '900280'; it does not match the pattern ``^[a-zA-Z_][a-zA-Z0-9_]*$``; you will not be able to use natural naming to access this object; using ``getattr()`` will still work, though\n",
      "  check_attribute_name(name)\n"
     ]
    },
    {
     "name": "stdout",
     "output_type": "stream",
     "text": [
      "Crawling *Annual* Financial Summary of *동원개발-900290*...\n"
     ]
    },
    {
     "name": "stderr",
     "output_type": "stream",
     "text": [
      "C:\\anaconda3\\lib\\site-packages\\tables\\path.py:155: NaturalNameWarning: object name is not a valid Python identifier: '900290'; it does not match the pattern ``^[a-zA-Z_][a-zA-Z0-9_]*$``; you will not be able to use natural naming to access this object; using ``getattr()`` will still work, though\n",
      "  check_attribute_name(name)\n"
     ]
    },
    {
     "name": "stdout",
     "output_type": "stream",
     "text": [
      "Crawling *Annual* Financial Summary of *아진산업-900300*...\n"
     ]
    },
    {
     "name": "stderr",
     "output_type": "stream",
     "text": [
      "C:\\anaconda3\\lib\\site-packages\\tables\\path.py:155: NaturalNameWarning: object name is not a valid Python identifier: '900300'; it does not match the pattern ``^[a-zA-Z_][a-zA-Z0-9_]*$``; you will not be able to use natural naming to access this object; using ``getattr()`` will still work, though\n",
      "  check_attribute_name(name)\n"
     ]
    },
    {
     "name": "stdout",
     "output_type": "stream",
     "text": [
      "Crawling *Annual* Financial Summary of *일성건설-900310*...\n"
     ]
    },
    {
     "name": "stderr",
     "output_type": "stream",
     "text": [
      "C:\\anaconda3\\lib\\site-packages\\tables\\path.py:155: NaturalNameWarning: object name is not a valid Python identifier: '900310'; it does not match the pattern ``^[a-zA-Z_][a-zA-Z0-9_]*$``; you will not be able to use natural naming to access this object; using ``getattr()`` will still work, though\n",
      "  check_attribute_name(name)\n"
     ]
    },
    {
     "name": "stdout",
     "output_type": "stream",
     "text": [
      "Crawling *Annual* Financial Summary of *화승알앤에이-900340*...\n"
     ]
    },
    {
     "name": "stderr",
     "output_type": "stream",
     "text": [
      "C:\\anaconda3\\lib\\site-packages\\tables\\path.py:155: NaturalNameWarning: object name is not a valid Python identifier: '900340'; it does not match the pattern ``^[a-zA-Z_][a-zA-Z0-9_]*$``; you will not be able to use natural naming to access this object; using ``getattr()`` will still work, though\n",
      "  check_attribute_name(name)\n"
     ]
    },
    {
     "name": "stdout",
     "output_type": "stream",
     "text": [
      "Crawling *Annual* Financial Summary of *디와이-950110*...\n"
     ]
    },
    {
     "name": "stderr",
     "output_type": "stream",
     "text": [
      "C:\\anaconda3\\lib\\site-packages\\tables\\path.py:155: NaturalNameWarning: object name is not a valid Python identifier: '950110'; it does not match the pattern ``^[a-zA-Z_][a-zA-Z0-9_]*$``; you will not be able to use natural naming to access this object; using ``getattr()`` will still work, though\n",
      "  check_attribute_name(name)\n"
     ]
    },
    {
     "name": "stdout",
     "output_type": "stream",
     "text": [
      "Crawling *Annual* Financial Summary of *계룡건설산업-950130*...\n"
     ]
    },
    {
     "name": "stderr",
     "output_type": "stream",
     "text": [
      "C:\\anaconda3\\lib\\site-packages\\tables\\path.py:155: NaturalNameWarning: object name is not a valid Python identifier: '950130'; it does not match the pattern ``^[a-zA-Z_][a-zA-Z0-9_]*$``; you will not be able to use natural naming to access this object; using ``getattr()`` will still work, though\n",
      "  check_attribute_name(name)\n"
     ]
    },
    {
     "name": "stdout",
     "output_type": "stream",
     "text": [
      "Crawling *Annual* Financial Summary of *까뮤이앤씨-950140*...\n"
     ]
    },
    {
     "name": "stderr",
     "output_type": "stream",
     "text": [
      "C:\\anaconda3\\lib\\site-packages\\tables\\path.py:155: NaturalNameWarning: object name is not a valid Python identifier: '950140'; it does not match the pattern ``^[a-zA-Z_][a-zA-Z0-9_]*$``; you will not be able to use natural naming to access this object; using ``getattr()`` will still work, though\n",
      "  check_attribute_name(name)\n"
     ]
    },
    {
     "name": "stdout",
     "output_type": "stream",
     "text": [
      "Crawling *Annual* Financial Summary of *청보산업-950160*...\n"
     ]
    },
    {
     "name": "stderr",
     "output_type": "stream",
     "text": [
      "C:\\anaconda3\\lib\\site-packages\\tables\\path.py:155: NaturalNameWarning: object name is not a valid Python identifier: '950160'; it does not match the pattern ``^[a-zA-Z_][a-zA-Z0-9_]*$``; you will not be able to use natural naming to access this object; using ``getattr()`` will still work, though\n",
      "  check_attribute_name(name)\n"
     ]
    },
    {
     "name": "stdout",
     "output_type": "stream",
     "text": [
      "Crawling *Annual* Financial Summary of *스페코-950170*...\n"
     ]
    },
    {
     "name": "stderr",
     "output_type": "stream",
     "text": [
      "C:\\anaconda3\\lib\\site-packages\\tables\\path.py:155: NaturalNameWarning: object name is not a valid Python identifier: '950170'; it does not match the pattern ``^[a-zA-Z_][a-zA-Z0-9_]*$``; you will not be able to use natural naming to access this object; using ``getattr()`` will still work, though\n",
      "  check_attribute_name(name)\n"
     ]
    },
    {
     "name": "stdout",
     "output_type": "stream",
     "text": [
      "Crawling *Annual* Financial Summary of *지엠비코리아-950180*...\n"
     ]
    },
    {
     "name": "stderr",
     "output_type": "stream",
     "text": [
      "C:\\anaconda3\\lib\\site-packages\\tables\\path.py:155: NaturalNameWarning: object name is not a valid Python identifier: '950180'; it does not match the pattern ``^[a-zA-Z_][a-zA-Z0-9_]*$``; you will not be able to use natural naming to access this object; using ``getattr()`` will still work, though\n",
      "  check_attribute_name(name)\n"
     ]
    },
    {
     "name": "stdout",
     "output_type": "stream",
     "text": [
      "Crawling *Annual* Financial Summary of *지누스-950190*...\n"
     ]
    },
    {
     "name": "stderr",
     "output_type": "stream",
     "text": [
      "C:\\anaconda3\\lib\\site-packages\\tables\\path.py:155: NaturalNameWarning: object name is not a valid Python identifier: '950190'; it does not match the pattern ``^[a-zA-Z_][a-zA-Z0-9_]*$``; you will not be able to use natural naming to access this object; using ``getattr()`` will still work, though\n",
      "  check_attribute_name(name)\n"
     ]
    },
    {
     "name": "stdout",
     "output_type": "stream",
     "text": [
      "Crawling *Annual* Financial Summary of *아가방컴퍼니-950200*...\n"
     ]
    },
    {
     "name": "stderr",
     "output_type": "stream",
     "text": [
      "C:\\anaconda3\\lib\\site-packages\\tables\\path.py:155: NaturalNameWarning: object name is not a valid Python identifier: '950200'; it does not match the pattern ``^[a-zA-Z_][a-zA-Z0-9_]*$``; you will not be able to use natural naming to access this object; using ``getattr()`` will still work, though\n",
      "  check_attribute_name(name)\n",
      "2021-01-13 15:28:09,727 - root - INFO - Cache generation is well done. : 2021-01-13\n",
      "2021-01-13 15:28:09,727 - root - INFO - Cache generation is well done. : 2021-01-13\n",
      "2021-01-13 15:28:09,727 - root - INFO - Cache generation is well done. : 2021-01-13\n",
      "2021-01-13 15:28:09,727 - root - INFO - Cache generation is well done. : 2021-01-13\n",
      "2021-01-13 15:28:09,727 - root - INFO - Cache generation is well done. : 2021-01-13\n",
      "2021-01-13 15:28:09,727 - root - INFO - Cache generation is well done. : 2021-01-13\n",
      "2021-01-13 15:28:09,727 - root - INFO - Cache generation is well done. : 2021-01-13\n",
      "2021-01-13 15:28:09,737 - root - INFO - =======================================================================\n",
      "2021-01-13 15:28:09,737 - root - INFO - =======================================================================\n",
      "2021-01-13 15:28:09,737 - root - INFO - =======================================================================\n",
      "2021-01-13 15:28:09,737 - root - INFO - =======================================================================\n",
      "2021-01-13 15:28:09,737 - root - INFO - =======================================================================\n",
      "2021-01-13 15:28:09,737 - root - INFO - =======================================================================\n",
      "2021-01-13 15:28:09,737 - root - INFO - =======================================================================\n"
     ]
    },
    {
     "name": "stdout",
     "output_type": "stream",
     "text": [
      "Wall time: 19min 41s\n"
     ]
    }
   ],
   "source": [
    "%%time\n",
    "ers = bb.Crawler_Partial(y_fls)"
   ]
  },
  {
   "cell_type": "code",
   "execution_count": null,
   "metadata": {},
   "outputs": [],
   "source": []
  }
 ],
 "metadata": {
  "kernelspec": {
   "display_name": "Python 3",
   "language": "python",
   "name": "python3"
  },
  "language_info": {
   "codemirror_mode": {
    "name": "ipython",
    "version": 3
   },
   "file_extension": ".py",
   "mimetype": "text/x-python",
   "name": "python",
   "nbconvert_exporter": "python",
   "pygments_lexer": "ipython3",
   "version": "3.8.5"
  }
 },
 "nbformat": 4,
 "nbformat_minor": 4
}
