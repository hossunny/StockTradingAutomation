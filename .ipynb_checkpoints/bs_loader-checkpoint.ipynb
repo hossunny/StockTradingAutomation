{
 "cells": [
  {
   "cell_type": "markdown",
   "metadata": {},
   "source": [
    "# Balance Sheet Data Loader"
   ]
  },
  {
   "cell_type": "markdown",
   "metadata": {},
   "source": [
    "### WTD : 일단 성공!\n",
    "\n",
    "2) h5로 파일 만들고 파일명으로 접근해서 loader를 만들기\n",
    "\n",
    "3) last_update_date로 update하는 방식 -> 주식가격 그 쪽도 그렇게 하자\n",
    "\n",
    "4) loader에서 YoY, QoQ도 구현\n",
    "\n",
    "5) 처음에만..?시간을 걸어야겠네 너무 빨라서 못 긁는 경우가 있어;;\n",
    "\n",
    "6) 크롤링하다가 재무제표 없는 기업은 json파일을 만들어야 겠네.. update_date랑 리스트.\n",
    "\n",
    "### WTD\n",
    "\n",
    "1) all finance bs data\n",
    "2) + evitda\n",
    "3) 시가총액\n",
    "4) 수정종가는...? 어디랬지"
   ]
  },
  {
   "cell_type": "code",
   "execution_count": 1,
   "metadata": {},
   "outputs": [],
   "source": [
    "import os, logging, pickle\n",
    "import requests, glob\n",
    "from datetime import datetime\n",
    "from bs4 import BeautifulSoup\n",
    "from datetime import datetime\n",
    "import pandas as pd\n",
    "import time\n",
    "import urllib.request\n",
    "from selenium.webdriver import Chrome\n",
    "import json, re, sys, h5py\n",
    "from selenium.webdriver.chrome.options import Options\n",
    "from selenium.webdriver.common.keys import Keys\n",
    "import datetime as dt\n",
    "import pymysql\n",
    "import matplotlib.pyplot as plt\n",
    "from selenium.webdriver.support.ui import WebDriverWait\n",
    "from selenium.webdriver.support import expected_conditions as EC\n",
    "from selenium.webdriver.common.by import By"
   ]
  },
  {
   "cell_type": "code",
   "execution_count": 2,
   "metadata": {},
   "outputs": [],
   "source": [
    "conn = pymysql.connect(host='localhost',user='root',\n",
    "                                   password='tlqkfdk2',db='INVESTAR',charset='utf8')"
   ]
  },
  {
   "cell_type": "code",
   "execution_count": 4,
   "metadata": {},
   "outputs": [],
   "source": [
    "cn = conn.cursor()"
   ]
  },
  {
   "cell_type": "code",
   "execution_count": 9,
   "metadata": {},
   "outputs": [
    {
     "data": {
      "text/plain": [
       "1"
      ]
     },
     "execution_count": 9,
     "metadata": {},
     "output_type": "execute_result"
    }
   ],
   "source": [
    "cn.execute(\"SELECT COUNT(*) FROM finance_info_copy WHERE DATE <= '2010-12';\")"
   ]
  },
  {
   "cell_type": "code",
   "execution_count": 10,
   "metadata": {},
   "outputs": [
    {
     "data": {
      "text/plain": [
       "int"
      ]
     },
     "execution_count": 10,
     "metadata": {},
     "output_type": "execute_result"
    }
   ],
   "source": [
    "type(cn.fetchone()[0])"
   ]
  },
  {
   "cell_type": "code",
   "execution_count": 10,
   "metadata": {},
   "outputs": [
    {
     "data": {
      "text/plain": [
       "((16416,),)"
      ]
     },
     "execution_count": 10,
     "metadata": {},
     "output_type": "execute_result"
    }
   ],
   "source": [
    "cn.fetchall()"
   ]
  },
  {
   "cell_type": "code",
   "execution_count": 4,
   "metadata": {},
   "outputs": [
    {
     "data": {
      "text/plain": [
       "2411"
      ]
     },
     "execution_count": 4,
     "metadata": {},
     "output_type": "execute_result"
    }
   ],
   "source": [
    "cn.execute('select code, company from company_info;')"
   ]
  },
  {
   "cell_type": "code",
   "execution_count": 5,
   "metadata": {},
   "outputs": [],
   "source": [
    "ls = cn.fetchall()"
   ]
  },
  {
   "cell_type": "code",
   "execution_count": 6,
   "metadata": {},
   "outputs": [],
   "source": [
    "codes = [str(e[0]) for e in ls]\n",
    "comps = [str(e[0]) for e in ls]"
   ]
  },
  {
   "cell_type": "code",
   "execution_count": 101,
   "metadata": {},
   "outputs": [],
   "source": [
    "class BSLoader:\n",
    "    def __init__(self):\n",
    "        \"\"\"Naver Finance : Financial Summary Crawler\"\"\"\n",
    "        self.conn = pymysql.connect(host='localhost',user='root',\n",
    "                                   password='tlqkfdk2',db='INVESTAR',charset='utf8')\n",
    "        with self.conn.cursor() as curs:\n",
    "            sql_load = \"\"\"\n",
    "            SELECT CODE, COMPANY FROM COMPANY_INFO\n",
    "            \"\"\"\n",
    "            curs.execute(sql_load)\n",
    "            comps_ls = curs.fetchall()\n",
    "            self.codes = [str(e[0]) for e in comps_ls]\n",
    "            self.comps = [str(e[1]) for e in comps_ls]\n",
    "            \n",
    "        self.conn.commit()\n",
    "        \n",
    "        self.items = ['매출액', '영업이익', '영업이익(발표기준)', '세전계속사업이익', '당기순이익', '당기순이익(지배)', '당기순이익(비지배)', '자산총계',\n",
    "                     '부채총계', '자본총계', '자본총계(지배)', '자본총계(비지배)', '자본금', '영업활동현금흐름', '투자활동현금흐름', '재무활동현금흐름',\n",
    "                     'CAPEX', 'FCF', '이자발생부채', '영업이익률', '순이익률', 'ROE(%)', 'ROA(%)', '부채비율', '자본유보율', 'EPS(원)', 'PER(배)', 'BPS(원)',\n",
    "                     'PBR(배)', '현금DPS(원)', '현금배당수익률', '현금배당성향(%)', '발행주식수(보통주)']\n",
    "        \n",
    "    def __del__(self):\n",
    "        \"\"\"Disconnecting MariaDB\"\"\"\n",
    "        self.conn.close()\n",
    "        \n",
    "    def ShowItems(self):\n",
    "        return self.items\n",
    "    \n",
    "    def FindCodeByName(self, comp_nm):\n",
    "        idx = self.comps.index(comp_nm)\n",
    "        return self.codes[idx]\n",
    "    \n",
    "    def FindNameByCode(self, comp_code):\n",
    "        idx = self.codes.index(comp_code)\n",
    "        return self.comps[idx]\n",
    "    \n",
    "    def PriceLoader(self, start, end, code_ls, item='close'):\n",
    "        total = pd.DataFrame()\n",
    "        for cd in code_ls :\n",
    "            sql = f\"SELECT DATE, {item} FROM DAILY_PRICE WHERE CODE = '{cd}' AND DATE BETWEEN '{start}' AND '{end}';\"\n",
    "            tmp_df = pd.read_sql(sql, self.conn)\n",
    "            tmp_df.index = list(tmp_df['DATE'])\n",
    "            tmp_df.drop(['DATE'], axis=1, inplace=True)\n",
    "            tmp_df.columns = [self.FindNameByCode(str(cd))]\n",
    "            total = pd.concat([total, tmp_df], axis=1)\n",
    "        total.sort_index(inplace=True)\n",
    "        return total\n",
    "    \n",
    "    def BSLoader_v1(self, start, end, code_ls, item='EPS', unit='Annual'):\n",
    "        \"\"\" Cache를 바로 parsing해서 만드는 lv2 matrix \"\"\"\n",
    "        \"\"\" 생각해보니까 DB에 넣어도 되잖아? (CODE,DATE)를 Primary Key로 하면.. \"\"\"\n",
    "        \"\"\" 중요한 점은 이런 BS DATA는 알게 되는 날짜가 한참 뒤라는 거네.\"\"\"\n",
    "        if item not in self.items:\n",
    "            for itm in self.items :\n",
    "                if item in itm :\n",
    "                    item = itm\n",
    "        total = pd.DataFrame()\n",
    "        for cd in code_ls:\n",
    "            tmp = pd.read_hdf(glob.glob(f'./FullCache/{unit}/fs_{unit.lower()}_{cd}_*')[0], key=cd, mode='r')\n",
    "            tmp_cols = []\n",
    "            for dt in tmp.columns :\n",
    "                if dt >= start[:7] and dt <= end[:7] :\n",
    "                    tmp_cols.append(dt)\n",
    "            tmp_df = pd.DataFrame(data=tmp[tmp_cols].loc[item,:])\n",
    "            comp_nm = self.FindNameByCode(cd)\n",
    "            tmp_df.columns = [comp_nm] # list('abc') -> ['a','b','c'] || ['abc'] -> ['abc'] !!!\n",
    "            tmp_df.sort_index(ascending=True, inplace=True)\n",
    "            total = pd.concat([total, tmp_df],axis=1)\n",
    "        return total\n",
    "    "
   ]
  },
  {
   "cell_type": "code",
   "execution_count": 150,
   "metadata": {},
   "outputs": [],
   "source": [
    "loader = BSLoader()"
   ]
  },
  {
   "cell_type": "code",
   "execution_count": 174,
   "metadata": {},
   "outputs": [
    {
     "name": "stdout",
     "output_type": "stream",
     "text": [
      "Wall time: 76.4 ms\n"
     ]
    }
   ],
   "source": [
    "%%time\n",
    "ww = loader.BSLoader_v1('2019-01-01','2021-01-01',['005930','066570','013890'],'PER','Annual')"
   ]
  },
  {
   "cell_type": "code",
   "execution_count": 57,
   "metadata": {},
   "outputs": [],
   "source": [
    "def TimeInverter(dt, hyphen=False):\n",
    "    Y = str(dt.year)\n",
    "    M = '0'+str(dt.month) if int(dt.month)<10 else str(dt.month)\n",
    "    D = '0'+str(dt.day) if int(dt.day)<10 else str(dt.day)\n",
    "    if hyphen :\n",
    "        return Y+'-'+M+'-'+D\n",
    "    else :\n",
    "        return Y+M+D"
   ]
  },
  {
   "cell_type": "code",
   "execution_count": 107,
   "metadata": {},
   "outputs": [],
   "source": [
    "def AdjPriceMerge(codes,conn):\n",
    "    \n",
    "    for cd in codes :\n",
    "        sql = f\"select min(date), max(date) from daily_price where code='{cd}'\"\n",
    "        conn.execute(sql)\n",
    "        rst = conn.fetchone()\n",
    "        min_date, max_date = rst[0], rst[1]\n",
    "        min_date = TimeInverter(min_date)\n",
    "        max_date = TimeInverter(max_date)\n",
    "        tmp_df = stock.get_market_ohlcv_by_date(min_date, max_date, cd, adjusted=True)\n",
    "        adj_values = tmp_df['종가'].values\n",
    "        dt_values = tmp_df.index\n",
    "        dt_values = [TimeInverter(dt, hyphen=True) for dt in dt_values]\n",
    "        for idx, adjp in enumerate(adj_values):\n",
    "            try :\n",
    "                update_sql = f\"update daily_price set adjprice = {int(adjp)} where code = '{cd}' and date = '{dt_values[idx]}'\"\n",
    "                conn.execute(update_sql)\n",
    "            except :\n",
    "                print(dt_values[idx],adjp)\n",
    "                raise ValueError(\"what?\")\n",
    "        #conn.commit()"
   ]
  },
  {
   "cell_type": "code",
   "execution_count": 108,
   "metadata": {},
   "outputs": [
    {
     "name": "stdout",
     "output_type": "stream",
     "text": [
      "Wall time: 29.3 s\n"
     ]
    }
   ],
   "source": [
    "%%time\n",
    "AdjPriceMerge(loader.codes[:100],cn)"
   ]
  },
  {
   "cell_type": "code",
   "execution_count": 7,
   "metadata": {},
   "outputs": [],
   "source": [
    "class BSLoader:\n",
    "    def __init__(self):\n",
    "        \"\"\"Naver Finance : Financial Summary Crawler\"\"\"\n",
    "        self.conn = pymysql.connect(host='localhost',user='root',\n",
    "                                   password='tlqkfdk2',db='INVESTAR',charset='utf8')\n",
    "        with self.conn.cursor() as curs:\n",
    "            sql_load = \"\"\"\n",
    "            SELECT CODE, COMPANY FROM COMPANY_INFO\n",
    "            \"\"\"\n",
    "            curs.execute(sql_load)\n",
    "            comps_ls = curs.fetchall()\n",
    "            self.codes = [str(e[0]) for e in comps_ls]\n",
    "            self.comps = [str(e[1]) for e in comps_ls]\n",
    "            \n",
    "        self.conn.commit()\n",
    "        \n",
    "        self.items = ['매출액', '영업이익', '영업이익(발표기준)', '세전계속사업이익', '당기순이익', '당기순이익(지배)', '당기순이익(비지배)', '자산총계',\n",
    "                     '부채총계', '자본총계', '자본총계(지배)', '자본총계(비지배)', '자본금', '영업활동현금흐름', '투자활동현금흐름', '재무활동현금흐름',\n",
    "                     'CAPEX', 'FCF', '이자발생부채', '영업이익률', '순이익률', 'ROE(%)', 'ROA(%)', '부채비율', '자본유보율', 'EPS(원)', 'PER(배)', 'BPS(원)',\n",
    "                     'PBR(배)', '현금DPS(원)', '현금배당수익률', '현금배당성향(%)', '발행주식수(보통주)']\n",
    "        \n",
    "    def __del__(self):\n",
    "        \"\"\"Disconnecting MariaDB\"\"\"\n",
    "        self.conn.close()\n",
    "        \n",
    "    def ShowItems(self):\n",
    "        return self.items\n",
    "    \n",
    "    def FindCodeByName(self, comp_nm):\n",
    "        idx = self.comps.index(comp_nm)\n",
    "        return self.codes[idx]\n",
    "    \n",
    "    def FindNameByCode(self, comp_code):\n",
    "        idx = self.codes.index(comp_code)\n",
    "        return self.comps[idx]\n",
    "    \n",
    "    def PriceLoader(self, start, end, code_ls, item='close'):\n",
    "        total = pd.DataFrame()\n",
    "        for cd in code_ls :\n",
    "            sql = f\"SELECT DATE, {item} FROM DAILY_PRICE WHERE CODE = '{cd}' AND DATE BETWEEN '{start}' AND '{end}';\"\n",
    "            tmp_df = pd.read_sql(sql, self.conn)\n",
    "            tmp_df.index = list(tmp_df['DATE'])\n",
    "            tmp_df.drop(['DATE'], axis=1, inplace=True)\n",
    "            tmp_df.columns = [self.FindNameByCode(str(cd))]\n",
    "            total = pd.concat([total, tmp_df], axis=1)\n",
    "        total.sort_index(inplace=True)\n",
    "        return total\n",
    "    \n",
    "    def BSLoader_v1(self, start, end, code_ls, item='EPS', unit='Annual'):\n",
    "        \"\"\" Cache를 바로 parsing해서 만드는 lv2 matrix \"\"\"\n",
    "        \"\"\" 생각해보니까 DB에 넣어도 되잖아? (CODE,DATE)를 Primary Key로 하면.. \"\"\"\n",
    "        \"\"\" 중요한 점은 이런 BS DATA는 알게 되는 날짜가 한참 뒤라는 거네.\"\"\"\n",
    "        if item not in self.items:\n",
    "            for itm in self.items :\n",
    "                if item in itm :\n",
    "                    item = itm\n",
    "        total = pd.DataFrame()\n",
    "        for cd in code_ls:\n",
    "            tmp = pd.read_hdf(glob.glob(f'./FullCache/{unit}/fs_{unit.lower()}_{cd}_*')[0], key=cd, mode='r')\n",
    "            tmp_cols = []\n",
    "            for dt in tmp.columns :\n",
    "                if dt >= start[:7] and dt <= end[:7] :\n",
    "                    tmp_cols.append(dt)\n",
    "            tmp_df = pd.DataFrame(data=tmp[tmp_cols].loc[item,:])\n",
    "            comp_nm = self.FindNameByCode(cd)\n",
    "            tmp_df.columns = [comp_nm] # list('abc') -> ['a','b','c'] || ['abc'] -> ['abc'] !!!\n",
    "            tmp_df.sort_index(ascending=True, inplace=True)\n",
    "            total = pd.concat([total, tmp_df],axis=1)\n",
    "        return total\n",
    "    \n",
    "    def BSLoader_v2(self, start, end, code_ls, item='EPS', unit='Y', colname='name'):\n",
    "        print(\"Note that the date you requested is for the non-PIT-ness data.\")\n",
    "        if item not in self.items:\n",
    "            for itm in self.items:\n",
    "                if item in itm:\n",
    "                    item = itm\n",
    "        #cursor = self.conn.cursor()\n",
    "        total = pd.DataFrame()\n",
    "        for cd in code_ls :\n",
    "            tmp = pd.read_sql(f\"select date, value from finance_info where code='{cd}' and item='{item}' and type='{unit}' and date between '{start}' and '{end}'\",self.conn)\n",
    "            tmp.index = tmp.date.values\n",
    "            tmp.drop(['date'],axis=1,inplace=True)\n",
    "            if colname == 'name':\n",
    "                tmp.columns = [self.FindNameByCode(cd)]\n",
    "            elif colname == 'code':\n",
    "                tmp.columns = [str(cd)]\n",
    "            else :\n",
    "                raise ValueError(\"colname should be either 'name' or 'code'.\")\n",
    "            total = pd.concat([total, tmp],axis=1)\n",
    "            \n",
    "        total.sort_index(inplace=True)\n",
    "        return total"
   ]
  },
  {
   "cell_type": "code",
   "execution_count": 8,
   "metadata": {},
   "outputs": [],
   "source": [
    "ldr = BSLoader()"
   ]
  },
  {
   "cell_type": "code",
   "execution_count": 9,
   "metadata": {},
   "outputs": [
    {
     "name": "stdout",
     "output_type": "stream",
     "text": [
      "Note that the date you requested is for the non-PIT-ness data.\n"
     ]
    },
    {
     "data": {
      "text/html": [
       "<div>\n",
       "<style scoped>\n",
       "    .dataframe tbody tr th:only-of-type {\n",
       "        vertical-align: middle;\n",
       "    }\n",
       "\n",
       "    .dataframe tbody tr th {\n",
       "        vertical-align: top;\n",
       "    }\n",
       "\n",
       "    .dataframe thead th {\n",
       "        text-align: right;\n",
       "    }\n",
       "</style>\n",
       "<table border=\"1\" class=\"dataframe\">\n",
       "  <thead>\n",
       "    <tr style=\"text-align: right;\">\n",
       "      <th></th>\n",
       "      <th>삼성전자</th>\n",
       "      <th>LG전자</th>\n",
       "      <th>SK하이닉스</th>\n",
       "    </tr>\n",
       "  </thead>\n",
       "  <tbody>\n",
       "    <tr>\n",
       "      <th>2015-12</th>\n",
       "      <td>11.47</td>\n",
       "      <td>78.21</td>\n",
       "      <td>5.18</td>\n",
       "    </tr>\n",
       "    <tr>\n",
       "      <th>2016-12</th>\n",
       "      <td>13.18</td>\n",
       "      <td>121.37</td>\n",
       "      <td>11.02</td>\n",
       "    </tr>\n",
       "    <tr>\n",
       "      <th>2017-12</th>\n",
       "      <td>9.40</td>\n",
       "      <td>11.11</td>\n",
       "      <td>5.23</td>\n",
       "    </tr>\n",
       "    <tr>\n",
       "      <th>2018-12</th>\n",
       "      <td>6.42</td>\n",
       "      <td>9.08</td>\n",
       "      <td>2.83</td>\n",
       "    </tr>\n",
       "    <tr>\n",
       "      <th>2019-12</th>\n",
       "      <td>17.63</td>\n",
       "      <td>416.75</td>\n",
       "      <td>34.03</td>\n",
       "    </tr>\n",
       "    <tr>\n",
       "      <th>2020-12</th>\n",
       "      <td>20.14</td>\n",
       "      <td>12.30</td>\n",
       "      <td>26.35</td>\n",
       "    </tr>\n",
       "  </tbody>\n",
       "</table>\n",
       "</div>"
      ],
      "text/plain": [
       "          삼성전자    LG전자  SK하이닉스\n",
       "2015-12  11.47   78.21    5.18\n",
       "2016-12  13.18  121.37   11.02\n",
       "2017-12   9.40   11.11    5.23\n",
       "2018-12   6.42    9.08    2.83\n",
       "2019-12  17.63  416.75   34.03\n",
       "2020-12  20.14   12.30   26.35"
      ]
     },
     "execution_count": 9,
     "metadata": {},
     "output_type": "execute_result"
    }
   ],
   "source": [
    "ldr.BSLoader_v2('2014-01','2020-12',['005930','066570','000660'], 'PER', unit='Y', colname='name')"
   ]
  },
  {
   "cell_type": "code",
   "execution_count": null,
   "metadata": {},
   "outputs": [],
   "source": []
  },
  {
   "cell_type": "code",
   "execution_count": null,
   "metadata": {},
   "outputs": [],
   "source": []
  },
  {
   "cell_type": "code",
   "execution_count": null,
   "metadata": {},
   "outputs": [],
   "source": []
  },
  {
   "cell_type": "markdown",
   "metadata": {},
   "source": [
    "---"
   ]
  },
  {
   "cell_type": "markdown",
   "metadata": {},
   "source": [
    "### Add Sector to DB : company_info"
   ]
  },
  {
   "cell_type": "code",
   "execution_count": 16,
   "metadata": {},
   "outputs": [],
   "source": [
    "url = 'http://kind.krx.co.kr/corpgeneral/corpList.do?method='\\\n",
    "            'download&searchType=13'\n",
    "krx = pd.read_html(url, header=0)[0]"
   ]
  },
  {
   "cell_type": "code",
   "execution_count": 23,
   "metadata": {},
   "outputs": [],
   "source": [
    "krx.to_excel(\"./상장법인목록.xlsx\",index=False)"
   ]
  },
  {
   "cell_type": "code",
   "execution_count": 39,
   "metadata": {},
   "outputs": [
    {
     "name": "stdout",
     "output_type": "stream",
     "text": [
      "Wall time: 2.56 s\n"
     ]
    }
   ],
   "source": [
    "%%time\n",
    "errs = []\n",
    "for cd in codes :\n",
    "    try :\n",
    "        tmp_sector = krx[lambda x : x['종목코드']==int(cd)]['업종'].values[0]\n",
    "        #print(tmp_sector)\n",
    "        cn.execute(f\"UPDATE company_info SET sector='{tmp_sector}' where code='{cd}'\")\n",
    "        conn.commit()\n",
    "    except :\n",
    "        errs.append(cd)"
   ]
  },
  {
   "cell_type": "markdown",
   "metadata": {},
   "source": [
    "인수합병용 회사 '한국제7호스팩' 291210 code 만 none떠서 다시 수동으로 업데이트했고 끝."
   ]
  },
  {
   "cell_type": "markdown",
   "metadata": {},
   "source": [
    "---"
   ]
  },
  {
   "cell_type": "code",
   "execution_count": null,
   "metadata": {},
   "outputs": [],
   "source": []
  },
  {
   "cell_type": "code",
   "execution_count": 10,
   "metadata": {},
   "outputs": [],
   "source": [
    "ss = pd.read_hdf('./FullCache/Annual/fs_annual_005930_2021-01-12.h5')"
   ]
  },
  {
   "cell_type": "code",
   "execution_count": 12,
   "metadata": {},
   "outputs": [
    {
     "data": {
      "text/html": [
       "<div>\n",
       "<style scoped>\n",
       "    .dataframe tbody tr th:only-of-type {\n",
       "        vertical-align: middle;\n",
       "    }\n",
       "\n",
       "    .dataframe tbody tr th {\n",
       "        vertical-align: top;\n",
       "    }\n",
       "\n",
       "    .dataframe thead th {\n",
       "        text-align: right;\n",
       "    }\n",
       "</style>\n",
       "<table border=\"1\" class=\"dataframe\">\n",
       "  <thead>\n",
       "    <tr style=\"text-align: right;\">\n",
       "      <th></th>\n",
       "      <th>2016-12</th>\n",
       "    </tr>\n",
       "  </thead>\n",
       "  <tbody>\n",
       "    <tr>\n",
       "      <th>매출액</th>\n",
       "      <td>2.018667e+06</td>\n",
       "    </tr>\n",
       "    <tr>\n",
       "      <th>영업이익</th>\n",
       "      <td>2.924070e+05</td>\n",
       "    </tr>\n",
       "    <tr>\n",
       "      <th>영업이익(발표기준)</th>\n",
       "      <td>2.924070e+05</td>\n",
       "    </tr>\n",
       "    <tr>\n",
       "      <th>세전계속사업이익</th>\n",
       "      <td>3.071370e+05</td>\n",
       "    </tr>\n",
       "    <tr>\n",
       "      <th>당기순이익</th>\n",
       "      <td>2.272610e+05</td>\n",
       "    </tr>\n",
       "    <tr>\n",
       "      <th>당기순이익(지배)</th>\n",
       "      <td>2.241570e+05</td>\n",
       "    </tr>\n",
       "    <tr>\n",
       "      <th>당기순이익(비지배)</th>\n",
       "      <td>3.104000e+03</td>\n",
       "    </tr>\n",
       "    <tr>\n",
       "      <th>자산총계</th>\n",
       "      <td>2.621743e+06</td>\n",
       "    </tr>\n",
       "    <tr>\n",
       "      <th>부채총계</th>\n",
       "      <td>6.921130e+05</td>\n",
       "    </tr>\n",
       "    <tr>\n",
       "      <th>자본총계</th>\n",
       "      <td>1.929630e+06</td>\n",
       "    </tr>\n",
       "    <tr>\n",
       "      <th>자본총계(지배)</th>\n",
       "      <td>1.864243e+06</td>\n",
       "    </tr>\n",
       "    <tr>\n",
       "      <th>자본총계(비지배)</th>\n",
       "      <td>6.538700e+04</td>\n",
       "    </tr>\n",
       "    <tr>\n",
       "      <th>자본금</th>\n",
       "      <td>8.975000e+03</td>\n",
       "    </tr>\n",
       "    <tr>\n",
       "      <th>영업활동현금흐름</th>\n",
       "      <td>4.738560e+05</td>\n",
       "    </tr>\n",
       "    <tr>\n",
       "      <th>투자활동현금흐름</th>\n",
       "      <td>-2.965870e+05</td>\n",
       "    </tr>\n",
       "    <tr>\n",
       "      <th>재무활동현금흐름</th>\n",
       "      <td>-8.669500e+04</td>\n",
       "    </tr>\n",
       "    <tr>\n",
       "      <th>CAPEX</th>\n",
       "      <td>2.414300e+05</td>\n",
       "    </tr>\n",
       "    <tr>\n",
       "      <th>FCF</th>\n",
       "      <td>2.324270e+05</td>\n",
       "    </tr>\n",
       "    <tr>\n",
       "      <th>이자발생부채</th>\n",
       "      <td>1.528240e+05</td>\n",
       "    </tr>\n",
       "    <tr>\n",
       "      <th>영업이익률</th>\n",
       "      <td>1.449000e+01</td>\n",
       "    </tr>\n",
       "    <tr>\n",
       "      <th>순이익률</th>\n",
       "      <td>1.126000e+01</td>\n",
       "    </tr>\n",
       "    <tr>\n",
       "      <th>ROE(%)</th>\n",
       "      <td>1.248000e+01</td>\n",
       "    </tr>\n",
       "    <tr>\n",
       "      <th>ROA(%)</th>\n",
       "      <td>9.010000e+00</td>\n",
       "    </tr>\n",
       "    <tr>\n",
       "      <th>부채비율</th>\n",
       "      <td>3.587000e+01</td>\n",
       "    </tr>\n",
       "    <tr>\n",
       "      <th>자본유보율</th>\n",
       "      <td>2.200414e+04</td>\n",
       "    </tr>\n",
       "    <tr>\n",
       "      <th>EPS(원)</th>\n",
       "      <td>2.735000e+03</td>\n",
       "    </tr>\n",
       "    <tr>\n",
       "      <th>PER(배)</th>\n",
       "      <td>1.318000e+01</td>\n",
       "    </tr>\n",
       "    <tr>\n",
       "      <th>BPS(원)</th>\n",
       "      <td>2.663600e+04</td>\n",
       "    </tr>\n",
       "    <tr>\n",
       "      <th>PBR(배)</th>\n",
       "      <td>1.350000e+00</td>\n",
       "    </tr>\n",
       "    <tr>\n",
       "      <th>현금DPS(원)</th>\n",
       "      <td>5.700000e+02</td>\n",
       "    </tr>\n",
       "    <tr>\n",
       "      <th>현금배당수익률</th>\n",
       "      <td>1.580000e+00</td>\n",
       "    </tr>\n",
       "    <tr>\n",
       "      <th>현금배당성향(%)</th>\n",
       "      <td>1.781000e+01</td>\n",
       "    </tr>\n",
       "    <tr>\n",
       "      <th>발행주식수(보통주)</th>\n",
       "      <td>7.033967e+09</td>\n",
       "    </tr>\n",
       "  </tbody>\n",
       "</table>\n",
       "</div>"
      ],
      "text/plain": [
       "                 2016-12\n",
       "매출액         2.018667e+06\n",
       "영업이익        2.924070e+05\n",
       "영업이익(발표기준)  2.924070e+05\n",
       "세전계속사업이익    3.071370e+05\n",
       "당기순이익       2.272610e+05\n",
       "당기순이익(지배)   2.241570e+05\n",
       "당기순이익(비지배)  3.104000e+03\n",
       "자산총계        2.621743e+06\n",
       "부채총계        6.921130e+05\n",
       "자본총계        1.929630e+06\n",
       "자본총계(지배)    1.864243e+06\n",
       "자본총계(비지배)   6.538700e+04\n",
       "자본금         8.975000e+03\n",
       "영업활동현금흐름    4.738560e+05\n",
       "투자활동현금흐름   -2.965870e+05\n",
       "재무활동현금흐름   -8.669500e+04\n",
       "CAPEX       2.414300e+05\n",
       "FCF         2.324270e+05\n",
       "이자발생부채      1.528240e+05\n",
       "영업이익률       1.449000e+01\n",
       "순이익률        1.126000e+01\n",
       "ROE(%)      1.248000e+01\n",
       "ROA(%)      9.010000e+00\n",
       "부채비율        3.587000e+01\n",
       "자본유보율       2.200414e+04\n",
       "EPS(원)      2.735000e+03\n",
       "PER(배)      1.318000e+01\n",
       "BPS(원)      2.663600e+04\n",
       "PBR(배)      1.350000e+00\n",
       "현금DPS(원)    5.700000e+02\n",
       "현금배당수익률     1.580000e+00\n",
       "현금배당성향(%)   1.781000e+01\n",
       "발행주식수(보통주)  7.033967e+09"
      ]
     },
     "execution_count": 12,
     "metadata": {},
     "output_type": "execute_result"
    }
   ],
   "source": [
    "ss[['2016-12']]"
   ]
  },
  {
   "cell_type": "code",
   "execution_count": 13,
   "metadata": {},
   "outputs": [],
   "source": [
    "from pykrx import stock"
   ]
  },
  {
   "cell_type": "code",
   "execution_count": 29,
   "metadata": {},
   "outputs": [],
   "source": [
    "t = pd.read_csv(\"./FullCache/marcap/marcap-2016.csv\")"
   ]
  },
  {
   "cell_type": "code",
   "execution_count": 35,
   "metadata": {},
   "outputs": [
    {
     "data": {
      "text/html": [
       "<div>\n",
       "<style scoped>\n",
       "    .dataframe tbody tr th:only-of-type {\n",
       "        vertical-align: middle;\n",
       "    }\n",
       "\n",
       "    .dataframe tbody tr th {\n",
       "        vertical-align: top;\n",
       "    }\n",
       "\n",
       "    .dataframe thead th {\n",
       "        text-align: right;\n",
       "    }\n",
       "</style>\n",
       "<table border=\"1\" class=\"dataframe\">\n",
       "  <thead>\n",
       "    <tr style=\"text-align: right;\">\n",
       "      <th></th>\n",
       "      <th>Code</th>\n",
       "      <th>Name</th>\n",
       "      <th>Close</th>\n",
       "      <th>Changes</th>\n",
       "      <th>ChagesRatio</th>\n",
       "      <th>Volume</th>\n",
       "      <th>Amount</th>\n",
       "      <th>Open</th>\n",
       "      <th>High</th>\n",
       "      <th>Low</th>\n",
       "      <th>Marcap</th>\n",
       "      <th>MarcapRatio</th>\n",
       "      <th>Stocks</th>\n",
       "      <th>ForeignShares</th>\n",
       "      <th>ForeignRatio</th>\n",
       "      <th>Rank</th>\n",
       "      <th>Date</th>\n",
       "    </tr>\n",
       "  </thead>\n",
       "  <tbody>\n",
       "    <tr>\n",
       "      <th>535416</th>\n",
       "      <td>005930</td>\n",
       "      <td>삼성전자</td>\n",
       "      <td>1802000</td>\n",
       "      <td>14000</td>\n",
       "      <td>0.8</td>\n",
       "      <td>150329</td>\n",
       "      <td>269850552000</td>\n",
       "      <td>1771000</td>\n",
       "      <td>1802000</td>\n",
       "      <td>1770000</td>\n",
       "      <td>253504165274000</td>\n",
       "      <td>16.74</td>\n",
       "      <td>140679337</td>\n",
       "      <td>71413038.0</td>\n",
       "      <td>50.76</td>\n",
       "      <td>1</td>\n",
       "      <td>2016-12-29</td>\n",
       "    </tr>\n",
       "  </tbody>\n",
       "</table>\n",
       "</div>"
      ],
      "text/plain": [
       "          Code  Name    Close  Changes  ChagesRatio  Volume        Amount  \\\n",
       "535416  005930  삼성전자  1802000    14000          0.8  150329  269850552000   \n",
       "\n",
       "           Open     High      Low           Marcap  MarcapRatio     Stocks  \\\n",
       "535416  1771000  1802000  1770000  253504165274000        16.74  140679337   \n",
       "\n",
       "        ForeignShares  ForeignRatio  Rank        Date  \n",
       "535416     71413038.0         50.76     1  2016-12-29  "
      ]
     },
     "execution_count": 35,
     "metadata": {},
     "output_type": "execute_result"
    }
   ],
   "source": [
    "t[lambda x : x['Date']=='2016-12-29'][lambda x : x['Code']=='005930']"
   ]
  },
  {
   "cell_type": "code",
   "execution_count": 36,
   "metadata": {},
   "outputs": [],
   "source": [
    "s_marcap = 253504165274000"
   ]
  },
  {
   "cell_type": "code",
   "execution_count": 38,
   "metadata": {},
   "outputs": [
    {
     "data": {
      "text/plain": [
       "1313744.7174868982"
      ]
     },
     "execution_count": 38,
     "metadata": {},
     "output_type": "execute_result"
    }
   ],
   "source": [
    "s_marcap / 192963033.0 #PBR"
   ]
  },
  {
   "cell_type": "code",
   "execution_count": 40,
   "metadata": {},
   "outputs": [
    {
     "data": {
      "text/plain": [
       "11154762.784292169"
      ]
     },
     "execution_count": 40,
     "metadata": {},
     "output_type": "execute_result"
    }
   ],
   "source": [
    "s_marcap / 22726092.0 #PER"
   ]
  },
  {
   "cell_type": "code",
   "execution_count": 41,
   "metadata": {},
   "outputs": [
    {
     "data": {
      "text/plain": [
       "5349809.433295873"
      ]
     },
     "execution_count": 41,
     "metadata": {},
     "output_type": "execute_result"
    }
   ],
   "source": [
    "s_marcap / 47385644.0 #PCR"
   ]
  },
  {
   "cell_type": "code",
   "execution_count": 43,
   "metadata": {},
   "outputs": [
    {
     "data": {
      "text/plain": [
       "0.11777433038171617"
      ]
     },
     "execution_count": 43,
     "metadata": {},
     "output_type": "execute_result"
    }
   ],
   "source": [
    "22726092 / 192963033.0 #ROE"
   ]
  },
  {
   "cell_type": "code",
   "execution_count": null,
   "metadata": {},
   "outputs": [],
   "source": []
  },
  {
   "cell_type": "code",
   "execution_count": 2,
   "metadata": {},
   "outputs": [],
   "source": [
    "t = pd.read_csv(\"./FullCache/marcap/marcap-2010.csv\")"
   ]
  },
  {
   "cell_type": "code",
   "execution_count": 5,
   "metadata": {},
   "outputs": [
    {
     "data": {
      "text/plain": [
       "2073"
      ]
     },
     "execution_count": 5,
     "metadata": {},
     "output_type": "execute_result"
    }
   ],
   "source": [
    "len(set(t.Code.values))"
   ]
  },
  {
   "cell_type": "markdown",
   "metadata": {},
   "source": [
    "# 그냥 MarketCap은 csv에서 바로 부르자..."
   ]
  },
  {
   "cell_type": "code",
   "execution_count": 171,
   "metadata": {},
   "outputs": [],
   "source": [
    "class BSLoader:\n",
    "    def __init__(self):\n",
    "        \"\"\"Naver Finance : Financial Summary Crawler\"\"\"\n",
    "        self.conn = pymysql.connect(host='localhost',user='root',\n",
    "                                   password='tlqkfdk2',db='INVESTAR',charset='utf8')\n",
    "        with self.conn.cursor() as curs:\n",
    "            sql_load = \"\"\"\n",
    "            SELECT CODE, COMPANY FROM COMPANY_INFO\n",
    "            \"\"\"\n",
    "            curs.execute(sql_load)\n",
    "            comps_ls = curs.fetchall()\n",
    "            self.codes = [str(e[0]) for e in comps_ls]\n",
    "            self.comps = [str(e[1]) for e in comps_ls]\n",
    "            \n",
    "        self.conn.commit()\n",
    "        \n",
    "        with open(\"./TradingDates.pickle\", \"rb\") as fr:\n",
    "            self.td_days = pickle.load(fr)\n",
    "        \n",
    "        self.items = ['매출액', '영업이익', '영업이익(발표기준)', '세전계속사업이익', '당기순이익', '당기순이익(지배)', '당기순이익(비지배)', '자산총계',\n",
    "                     '부채총계', '자본총계', '자본총계(지배)', '자본총계(비지배)', '자본금', '영업활동현금흐름', '투자활동현금흐름', '재무활동현금흐름',\n",
    "                     'CAPEX', 'FCF', '이자발생부채', '영업이익률', '순이익률', 'ROE(%)', 'ROA(%)', '부채비율', '자본유보율', 'EPS(원)', 'PER(배)', 'BPS(원)',\n",
    "                     'PBR(배)', '현금DPS(원)', '현금배당수익률', '현금배당성향(%)', '발행주식수(보통주)','시가총액','상장주식수','시가총액비중(%)',\n",
    "                     'PBR','PER','PCR','POR','PSR','ROE','ROA','EPS','BPS']\n",
    "        \n",
    "    def __del__(self):\n",
    "        \"\"\"Disconnecting MariaDB\"\"\"\n",
    "        self.conn.close()\n",
    "        \n",
    "    def ShowItems(self):\n",
    "        return self.items\n",
    "    \n",
    "    def FindCodeByName(self, comp_nm):\n",
    "        idx = self.comps.index(comp_nm)\n",
    "        return self.codes[idx]\n",
    "    \n",
    "    def FindNameByCode(self, comp_code):\n",
    "        idx = self.codes.index(comp_code)\n",
    "        return self.comps[idx]\n",
    "    \n",
    "    def PriceLoader(self, start, end, code_ls, item='close'):\n",
    "        total = pd.DataFrame()\n",
    "        for cd in code_ls :\n",
    "            sql = f\"SELECT DATE, {item} FROM DAILY_PRICE WHERE CODE = '{cd}' AND DATE BETWEEN '{start}' AND '{end}';\"\n",
    "            tmp_df = pd.read_sql(sql, self.conn)\n",
    "            tmp_df.index = list(tmp_df['DATE'])\n",
    "            tmp_df.drop(['DATE'], axis=1, inplace=True)\n",
    "            tmp_df.columns = [self.FindNameByCode(str(cd))]\n",
    "            total = pd.concat([total, tmp_df], axis=1)\n",
    "        total.sort_index(inplace=True)\n",
    "        return total\n",
    "    \n",
    "    def BSLoader_v1(self, start, end, code_ls, item='EPS', unit='Annual'):\n",
    "        \"\"\" Cache를 바로 parsing해서 만드는 lv2 matrix \"\"\"\n",
    "        \"\"\" 생각해보니까 DB에 넣어도 되잖아? (CODE,DATE)를 Primary Key로 하면.. \"\"\"\n",
    "        \"\"\" 중요한 점은 이런 BS DATA는 알게 되는 날짜가 한참 뒤라는 거네.\"\"\"\n",
    "        if item not in self.items:\n",
    "            for itm in self.items :\n",
    "                if item in itm :\n",
    "                    item = itm\n",
    "        total = pd.DataFrame()\n",
    "        for cd in code_ls:\n",
    "            tmp = pd.read_hdf(glob.glob(f'./FullCache/{unit}/fs_{unit.lower()}_{cd}_*')[0], key=cd, mode='r')\n",
    "            tmp_cols = []\n",
    "            for dt in tmp.columns :\n",
    "                if dt >= start[:7] and dt <= end[:7] :\n",
    "                    tmp_cols.append(dt)\n",
    "            tmp_df = pd.DataFrame(data=tmp[tmp_cols].loc[item,:])\n",
    "            comp_nm = self.FindNameByCode(cd)\n",
    "            tmp_df.columns = [comp_nm] # list('abc') -> ['a','b','c'] || ['abc'] -> ['abc'] !!!\n",
    "            tmp_df.sort_index(ascending=True, inplace=True)\n",
    "            total = pd.concat([total, tmp_df],axis=1)\n",
    "        return total\n",
    "    \n",
    "    def BSLoader_v2(self, start, end, code_ls=None, item='EPS', unit='Y', colname='name'):\n",
    "        print(\"Note that the date you requested is for the non-PIT-ness data.\")\n",
    "        total = pd.DataFrame()\n",
    "        if item not in self.items:\n",
    "            for itm in self.items:\n",
    "                if item in itm:\n",
    "                    item = itm\n",
    "                else :\n",
    "                    raise ValueError(\"Item you requested does not exist..\")\n",
    "        #cursor = self.conn.cursor()\n",
    "        if code_ls == None:\n",
    "            code_ls = self.codes\n",
    "        for cd in code_ls :\n",
    "            tmp = pd.read_sql(f\"select date, value from finance_info_copy where code='{cd}' and itm='{item}' and type='{unit}' and date between '{start}' and '{end}'\",self.conn)\n",
    "            tmp.index = tmp.date.values\n",
    "            tmp.drop(['date'],axis=1,inplace=True)\n",
    "            if item in ['EPS','BPS']:\n",
    "                tmp['value'] = tmp['value'].map(lambda x : x * 100000000)\n",
    "            elif item in ['PBR','PER','PCR','POR','PSR']:\n",
    "                tmp['value'] = tmp['value'].map(lambda x : x / 100000000)\n",
    "            else : #ROE, ROA don't need unit scaler\n",
    "                pass\n",
    "            if colname == 'name':\n",
    "                tmp.columns = [self.FindNameByCode(cd)]\n",
    "            elif colname == 'code':\n",
    "                tmp.columns = [str(cd)]\n",
    "            else :\n",
    "                raise ValueError(\"colname should be either 'name' or 'code'.\")\n",
    "            total = pd.concat([total, tmp],axis=1)\n",
    "\n",
    "        total.sort_index(inplace=True)\n",
    "        \n",
    "        \n",
    "        \n",
    "        return total\n",
    "    \n",
    "    def BSLoader_v4(self, start, end, code_ls=None, item='EPS', unit='Y', colname='name'):\n",
    "        print(\"Note that the date you requested is for the non-PIT-ness data.\")\n",
    "        total = pd.DataFrame()\n",
    "        if item not in self.items:\n",
    "            for itm in self.items:\n",
    "                if item in itm:\n",
    "                    item = itm\n",
    "                else :\n",
    "                    raise ValueError(\"Item you requested does not exist..\")\n",
    "        #cursor = self.conn.cursor()\n",
    "        if code_ls == None:\n",
    "            code_ls = self.codes\n",
    "        \n",
    "        tmp = pd.read_sql(f\"select code, date, value from finance_info_copy where code in {tuple(code_ls)} and itm='{item}' and type='{unit}' and date between '{start}' and '{end}'\",self.conn)\n",
    "        tmp.index = tmp.date.values\n",
    "        for cd in code_ls :\n",
    "            sub = tmp[lambda x : x['code']==cd]\n",
    "            sub.drop(['code','date'],axis=1,inplace=True)\n",
    "            if item in ['EPS','BPS']:\n",
    "                sub['value'] = sub['value'].map(lambda x : x * 100000000)\n",
    "            elif item in ['PBR','PER','PCR','POR','PSR']:\n",
    "                sub['value'] = sub['value'].map(lambda x : x / 100000000)\n",
    "            else : #ROE, ROA don't need unit scaler\n",
    "                pass\n",
    "            if colname == 'name':\n",
    "                sub.columns = [self.FindNameByCode(cd)]\n",
    "            elif colname == 'code':\n",
    "                sub.columns = [str(cd)]\n",
    "            else :\n",
    "                raise ValueError(\"colname should be either 'name' or 'code'.\")\n",
    "            total = pd.concat([total, sub],axis=1)\n",
    "        total.sort_index(inplace=True)\n",
    "        \n",
    "        \n",
    "        return total"
   ]
  },
  {
   "cell_type": "code",
   "execution_count": 172,
   "metadata": {},
   "outputs": [],
   "source": [
    "ldr = BSLoader()"
   ]
  },
  {
   "cell_type": "code",
   "execution_count": 177,
   "metadata": {},
   "outputs": [
    {
     "name": "stdout",
     "output_type": "stream",
     "text": [
      "Note that the date you requested is for the non-PIT-ness data.\n",
      "Wall time: 41.4 s\n"
     ]
    }
   ],
   "source": [
    "%%time\n",
    "qwe = ldr.BSLoader_v2('2015-01-01','2021-04-01',item='PBR',unit='Y',colname='name')"
   ]
  },
  {
   "cell_type": "code",
   "execution_count": 175,
   "metadata": {},
   "outputs": [
    {
     "name": "stdout",
     "output_type": "stream",
     "text": [
      "Note that the date you requested is for the non-PIT-ness data.\n"
     ]
    },
    {
     "name": "stderr",
     "output_type": "stream",
     "text": [
      "C:\\anaconda3\\lib\\site-packages\\pandas\\core\\frame.py:4163: SettingWithCopyWarning: \n",
      "A value is trying to be set on a copy of a slice from a DataFrame\n",
      "\n",
      "See the caveats in the documentation: https://pandas.pydata.org/pandas-docs/stable/user_guide/indexing.html#returning-a-view-versus-a-copy\n",
      "  return super().drop(\n",
      "<ipython-input-171-c8cf6097377b>:132: SettingWithCopyWarning: \n",
      "A value is trying to be set on a copy of a slice from a DataFrame.\n",
      "Try using .loc[row_indexer,col_indexer] = value instead\n",
      "\n",
      "See the caveats in the documentation: https://pandas.pydata.org/pandas-docs/stable/user_guide/indexing.html#returning-a-view-versus-a-copy\n",
      "  sub['value'] = sub['value'].map(lambda x : x / 100000000)\n"
     ]
    },
    {
     "name": "stdout",
     "output_type": "stream",
     "text": [
      "Wall time: 44.2 s\n"
     ]
    }
   ],
   "source": [
    "%%time\n",
    "asd = ldr.BSLoader_v4('2015-01-01','2021-04-01',item='PBR',unit='Y',colname='name')"
   ]
  },
  {
   "cell_type": "code",
   "execution_count": null,
   "metadata": {},
   "outputs": [],
   "source": []
  },
  {
   "cell_type": "code",
   "execution_count": null,
   "metadata": {},
   "outputs": [],
   "source": []
  },
  {
   "cell_type": "code",
   "execution_count": 123,
   "metadata": {},
   "outputs": [
    {
     "name": "stdout",
     "output_type": "stream",
     "text": [
      "Note that the date you requested is for the non-PIT-ness data.\n"
     ]
    },
    {
     "data": {
      "text/html": [
       "<div>\n",
       "<style scoped>\n",
       "    .dataframe tbody tr th:only-of-type {\n",
       "        vertical-align: middle;\n",
       "    }\n",
       "\n",
       "    .dataframe tbody tr th {\n",
       "        vertical-align: top;\n",
       "    }\n",
       "\n",
       "    .dataframe thead th {\n",
       "        text-align: right;\n",
       "    }\n",
       "</style>\n",
       "<table border=\"1\" class=\"dataframe\">\n",
       "  <thead>\n",
       "    <tr style=\"text-align: right;\">\n",
       "      <th></th>\n",
       "      <th>삼성전자</th>\n",
       "      <th>NH투자증권</th>\n",
       "      <th>KR모터스</th>\n",
       "      <th>동화약품</th>\n",
       "      <th>지누스</th>\n",
       "    </tr>\n",
       "  </thead>\n",
       "  <tbody>\n",
       "    <tr>\n",
       "      <th>2015-12</th>\n",
       "      <td>1.036509</td>\n",
       "      <td>0.624597</td>\n",
       "      <td>3.288639</td>\n",
       "      <td>0.988102</td>\n",
       "      <td>NaN</td>\n",
       "    </tr>\n",
       "    <tr>\n",
       "      <th>2016-12</th>\n",
       "      <td>1.313745</td>\n",
       "      <td>0.584150</td>\n",
       "      <td>2.424238</td>\n",
       "      <td>0.896811</td>\n",
       "      <td>NaN</td>\n",
       "    </tr>\n",
       "    <tr>\n",
       "      <th>2017-12</th>\n",
       "      <td>1.533595</td>\n",
       "      <td>0.808813</td>\n",
       "      <td>1.353679</td>\n",
       "      <td>0.917251</td>\n",
       "      <td>NaN</td>\n",
       "    </tr>\n",
       "    <tr>\n",
       "      <th>2018-12</th>\n",
       "      <td>0.932503</td>\n",
       "      <td>0.726658</td>\n",
       "      <td>0.922619</td>\n",
       "      <td>0.854662</td>\n",
       "      <td>NaN</td>\n",
       "    </tr>\n",
       "    <tr>\n",
       "      <th>2019-12</th>\n",
       "      <td>1.267169</td>\n",
       "      <td>0.662802</td>\n",
       "      <td>1.501560</td>\n",
       "      <td>0.771388</td>\n",
       "      <td>3.524155</td>\n",
       "    </tr>\n",
       "  </tbody>\n",
       "</table>\n",
       "</div>"
      ],
      "text/plain": [
       "             삼성전자    NH투자증권     KR모터스      동화약품       지누스\n",
       "2015-12  1.036509  0.624597  3.288639  0.988102       NaN\n",
       "2016-12  1.313745  0.584150  2.424238  0.896811       NaN\n",
       "2017-12  1.533595  0.808813  1.353679  0.917251       NaN\n",
       "2018-12  0.932503  0.726658  0.922619  0.854662       NaN\n",
       "2019-12  1.267169  0.662802  1.501560  0.771388  3.524155"
      ]
     },
     "execution_count": 123,
     "metadata": {},
     "output_type": "execute_result"
    }
   ],
   "source": [
    "ldr.BSLoader_v2('2015-01-01','2021-04-01',['005930','005940','000040','000020','013890'],item='PBR',unit='Y',colname='name')"
   ]
  },
  {
   "cell_type": "code",
   "execution_count": null,
   "metadata": {},
   "outputs": [],
   "source": [
    "\"\"\"update test set = (select value from test where code='005930' and date='2019-03' and type='Q' and item='자본총계') / (select value from test where code='005930' and date='2019-03' and type='Q' and item='시가총액') \n",
    "                    where code='005930' and date='2019-03' and type='Q' and item='ROE(%)'\"\"\""
   ]
  },
  {
   "cell_type": "code",
   "execution_count": 133,
   "metadata": {},
   "outputs": [],
   "source": [
    "def IndexCalculator(df, conn):\n",
    "    errs = []\n",
    "    cr = conn.cursor()\n",
    "    for idx, row in df.iterrows():\n",
    "        try :\n",
    "            cd = row.code\n",
    "            dt = row.date\n",
    "            tp = row.type\n",
    "            \n",
    "            tmp_marcap = f\"select value from finance_info_copy where code='{cd}' and date='{dt}' and type='{tp}' and itm='시가총액'\"\n",
    "            cr.execute(tmp_marcap)\n",
    "            tmp_marcap = cr.fetchone()[0]\n",
    "            tmp_asset = f\"select value from finance_info_copy where code='{cd}' and date='{dt}' and type='{tp}' and itm='자산총계'\"\n",
    "            cr.execute(tmp_asset)\n",
    "            tmp_asset = cr.fetchone()[0]\n",
    "\n",
    "            tmp_netincome = f\"select value from finance_info_copy where code='{cd}' and date='{dt}' and type='{tp}' and itm='당기순이익'\"\n",
    "            cr.execute(tmp_netincome)\n",
    "            tmp_netincome = cr.fetchone()[0]\n",
    "\n",
    "            tmp_equity = f\"select value from finance_info_copy where code='{cd}' and date='{dt}' and type='{tp}' and itm='자본총계'\"\n",
    "            cr.execute(tmp_equity)\n",
    "            tmp_equity = cr.fetchone()[0]\n",
    "\n",
    "            tmp_stocks = f\"select value from finance_info_copy where code='{cd}' and date='{dt}' and type='{tp}' and itm='상장주식수'\"\n",
    "            cr.execute(tmp_stocks)\n",
    "            tmp_stocks = cr.fetchone()[0]\n",
    "\n",
    "            tmp_ocf = f\"select value from finance_info_copy where code='{cd}' and date='{dt}' and type='{tp}' and itm='영업활동현금흐름'\"\n",
    "            cr.execute(tmp_ocf)\n",
    "            tmp_ocf = cr.fetchone()[0]\n",
    "\n",
    "            tmp_profit = f\"select value from finance_info_copy where code='{cd}' and date='{dt}' and type='{tp}' and itm='영업이익'\"\n",
    "            cr.execute(tmp_profit)\n",
    "            tmp_profit = cr.fetchone()[0]\n",
    "\n",
    "            tmp_sales = f\"select value from finance_info_copy where code='{cd}' and date='{dt}' and type='{tp}' and itm='매출액'\"\n",
    "            cr.execute(tmp_sales)\n",
    "            tmp_sales = cr.fetchone()[0]\n",
    "        \n",
    "            PBR = tmp_marcap / tmp_equity if tmp_equity != 0 or tmp_equity != None else -999.9\n",
    "            PER = tmp_marcap / tmp_netincome if tmp_netincome != 0 or tmp_netincome != None else -999.9\n",
    "            PCR = tmp_marcap / tmp_ocf if tmp_ocf != 0 or tmp_ocf != None else -999.9\n",
    "            POR = tmp_marcap / tmp_profit if tmp_profit != 0 or tmp_profit != None else -999.9\n",
    "            PSR = tmp_marcap / tmp_sales if tmp_sales != 0 or tmp_sales != None else -999.9\n",
    "            ROE = tmp_netincome / tmp_equity if tmp_equity != 0 or tmp_equity != None else -999.9\n",
    "            ROA = tmp_netincome / tmp_asset if tmp_asset != 0 or tmp_asset != None else -999.9\n",
    "            EPS = tmp_netincome / tmp_stocks if tmp_stocks != 0 or tmp_stocks != None else -999.9\n",
    "            BPS = tmp_equity / tmp_stocks if tmp_stocks != 0 or tmp_stocks != None else -999.9\n",
    "            \n",
    "            sql = f\"insert into finance_info_copy values('{cd}','{dt}','PBR','{tp}',{PBR})\"\n",
    "            cr.execute(sql)\n",
    "            conn.commit()\n",
    "            #cr.close()\n",
    "            sql = f\"insert into finance_info_copy values('{cd}','{dt}','PER','{tp}',{PER})\"\n",
    "            cr.execute(sql)\n",
    "            conn.commit()\n",
    "            sql = f\"insert into finance_info_copy values('{cd}','{dt}','PCR','{tp}',{PCR})\"\n",
    "            cr.execute(sql)\n",
    "            conn.commit()\n",
    "            sql = f\"insert into finance_info_copy values('{cd}','{dt}','POR','{tp}',{POR})\"\n",
    "            cr.execute(sql)\n",
    "            conn.commit()\n",
    "            sql = f\"insert into finance_info_copy values('{cd}','{dt}','PSR','{tp}',{PSR})\"\n",
    "            cr.execute(sql)\n",
    "            conn.commit()\n",
    "            sql = f\"insert into finance_info_copy values('{cd}','{dt}','ROE','{tp}',{ROE})\"\n",
    "            cr.execute(sql)\n",
    "            conn.commit()\n",
    "            sql = f\"insert into finance_info_copy values('{cd}','{dt}','ROA','{tp}',{ROA})\"\n",
    "            cr.execute(sql)\n",
    "            conn.commit()\n",
    "            sql = f\"insert into finance_info_copy values('{cd}','{dt}','EPS','{tp}',{EPS})\"\n",
    "            cr.execute(sql)\n",
    "            conn.commit()\n",
    "            sql = f\"insert into finance_info_copy values('{cd}','{dt}','BPS','{tp}',{BPS})\"\n",
    "            cr.execute(sql)\n",
    "            conn.commit()\n",
    "            \n",
    "            if idx % 1000 == 0:\n",
    "                print('doing right! :', idx)\n",
    "        except Exception as e:\n",
    "            #print(e)\n",
    "            errs.append([e, idx, row])\n",
    "            if idx % 300 == 0 :\n",
    "                print('wrong!!! :',idx)\n",
    "    #conn.commit()\n",
    "    print(\"well done!!\")\n",
    "    return errs"
   ]
  },
  {
   "cell_type": "code",
   "execution_count": 134,
   "metadata": {
    "collapsed": true,
    "jupyter": {
     "outputs_hidden": true
    }
   },
   "outputs": [
    {
     "name": "stdout",
     "output_type": "stream",
     "text": [
      "wrong!!! : 0\n",
      "doing right! : 1000\n",
      "doing right! : 2000\n",
      "wrong!!! : 2100\n",
      "wrong!!! : 3000\n",
      "wrong!!! : 3300\n",
      "wrong!!! : 3900\n",
      "doing right! : 4000\n",
      "wrong!!! : 4200\n",
      "wrong!!! : 4500\n",
      "wrong!!! : 5400\n",
      "doing right! : 6000\n",
      "wrong!!! : 7500\n",
      "wrong!!! : 7800\n",
      "doing right! : 8000\n",
      "doing right! : 9000\n",
      "doing right! : 10000\n",
      "wrong!!! : 12000\n",
      "wrong!!! : 12600\n",
      "wrong!!! : 12900\n",
      "doing right! : 13000\n",
      "wrong!!! : 13200\n",
      "doing right! : 14000\n",
      "wrong!!! : 14100\n",
      "doing right! : 15000\n",
      "wrong!!! : 15600\n",
      "wrong!!! : 16800\n",
      "doing right! : 17000\n",
      "wrong!!! : 17400\n",
      "wrong!!! : 17700\n",
      "doing right! : 18000\n",
      "wrong!!! : 18300\n",
      "doing right! : 19000\n",
      "wrong!!! : 19200\n",
      "wrong!!! : 19800\n",
      "doing right! : 20000\n",
      "doing right! : 21000\n",
      "wrong!!! : 21300\n",
      "wrong!!! : 21900\n",
      "doing right! : 22000\n",
      "wrong!!! : 23100\n",
      "wrong!!! : 23400\n",
      "wrong!!! : 23700\n",
      "doing right! : 24000\n",
      "wrong!!! : 24300\n",
      "wrong!!! : 24600\n",
      "well done!!\n",
      "Wall time: 8min 29s\n"
     ]
    }
   ],
   "source": [
    "%%time\n",
    "\n",
    "ers = IndexCalculator(qr3, conn)"
   ]
  },
  {
   "cell_type": "code",
   "execution_count": 108,
   "metadata": {},
   "outputs": [
    {
     "name": "stdout",
     "output_type": "stream",
     "text": [
      "name 'az' is not defined\n"
     ]
    }
   ],
   "source": [
    "try :\n",
    "    print(az)\n",
    "except Exception as e:\n",
    "    print(e)"
   ]
  },
  {
   "cell_type": "markdown",
   "metadata": {},
   "source": [
    "# 따로 marcap cache를 갖고 있는게 좋겠는데..?"
   ]
  },
  {
   "cell_type": "markdown",
   "metadata": {},
   "source": [
    "https://stackoverflow.com/questions/13237623/copy-data-into-another-table\n",
    "\n",
    "https://dmsrbdi123.tistory.com/12\n"
   ]
  },
  {
   "cell_type": "code",
   "execution_count": 13,
   "metadata": {},
   "outputs": [],
   "source": [
    "tt = pd.read_sql(\"select * from finance_info_copy where itm in ('PBR','PER','PCR','POR','PSR','ROE','ROA','EPS','BPS')\",conn)"
   ]
  },
  {
   "cell_type": "code",
   "execution_count": 14,
   "metadata": {},
   "outputs": [
    {
     "data": {
      "text/plain": [
       "(159085, 5)"
      ]
     },
     "execution_count": 14,
     "metadata": {},
     "output_type": "execute_result"
    }
   ],
   "source": [
    "tt.shape"
   ]
  },
  {
   "cell_type": "code",
   "execution_count": 15,
   "metadata": {},
   "outputs": [
    {
     "data": {
      "text/html": [
       "<div>\n",
       "<style scoped>\n",
       "    .dataframe tbody tr th:only-of-type {\n",
       "        vertical-align: middle;\n",
       "    }\n",
       "\n",
       "    .dataframe tbody tr th {\n",
       "        vertical-align: top;\n",
       "    }\n",
       "\n",
       "    .dataframe thead th {\n",
       "        text-align: right;\n",
       "    }\n",
       "</style>\n",
       "<table border=\"1\" class=\"dataframe\">\n",
       "  <thead>\n",
       "    <tr style=\"text-align: right;\">\n",
       "      <th></th>\n",
       "      <th>code</th>\n",
       "      <th>date</th>\n",
       "      <th>itm</th>\n",
       "      <th>type</th>\n",
       "      <th>value</th>\n",
       "    </tr>\n",
       "  </thead>\n",
       "  <tbody>\n",
       "    <tr>\n",
       "      <th>0</th>\n",
       "      <td>000020</td>\n",
       "      <td>2015-12</td>\n",
       "      <td>BPS</td>\n",
       "      <td>Y</td>\n",
       "      <td>8.238020e-05</td>\n",
       "    </tr>\n",
       "    <tr>\n",
       "      <th>1</th>\n",
       "      <td>000020</td>\n",
       "      <td>2015-12</td>\n",
       "      <td>EPS</td>\n",
       "      <td>Y</td>\n",
       "      <td>2.004907e-06</td>\n",
       "    </tr>\n",
       "    <tr>\n",
       "      <th>2</th>\n",
       "      <td>000020</td>\n",
       "      <td>2015-12</td>\n",
       "      <td>PBR</td>\n",
       "      <td>Y</td>\n",
       "      <td>9.881015e+07</td>\n",
       "    </tr>\n",
       "    <tr>\n",
       "      <th>3</th>\n",
       "      <td>000020</td>\n",
       "      <td>2015-12</td>\n",
       "      <td>PCR</td>\n",
       "      <td>Y</td>\n",
       "      <td>1.148294e+09</td>\n",
       "    </tr>\n",
       "  </tbody>\n",
       "</table>\n",
       "</div>"
      ],
      "text/plain": [
       "     code     date  itm type         value\n",
       "0  000020  2015-12  BPS    Y  8.238020e-05\n",
       "1  000020  2015-12  EPS    Y  2.004907e-06\n",
       "2  000020  2015-12  PBR    Y  9.881015e+07\n",
       "3  000020  2015-12  PCR    Y  1.148294e+09"
      ]
     },
     "execution_count": 15,
     "metadata": {},
     "output_type": "execute_result"
    }
   ],
   "source": [
    "tt.head(4)"
   ]
  },
  {
   "cell_type": "code",
   "execution_count": 99,
   "metadata": {},
   "outputs": [
    {
     "data": {
      "text/plain": [
       "200.49070099067467"
      ]
     },
     "execution_count": 99,
     "metadata": {},
     "output_type": "execute_result"
    }
   ],
   "source": [
    "tt[lambda x : x['itm']=='EPS'].value.values[0] * 100000000"
   ]
  },
  {
   "cell_type": "code",
   "execution_count": 25,
   "metadata": {},
   "outputs": [
    {
     "data": {
      "text/html": [
       "<div>\n",
       "<style scoped>\n",
       "    .dataframe tbody tr th:only-of-type {\n",
       "        vertical-align: middle;\n",
       "    }\n",
       "\n",
       "    .dataframe tbody tr th {\n",
       "        vertical-align: top;\n",
       "    }\n",
       "\n",
       "    .dataframe thead th {\n",
       "        text-align: right;\n",
       "    }\n",
       "</style>\n",
       "<table border=\"1\" class=\"dataframe\">\n",
       "  <thead>\n",
       "    <tr style=\"text-align: right;\">\n",
       "      <th></th>\n",
       "      <th>code</th>\n",
       "      <th>date</th>\n",
       "      <th>itm</th>\n",
       "      <th>type</th>\n",
       "      <th>value</th>\n",
       "    </tr>\n",
       "  </thead>\n",
       "  <tbody>\n",
       "    <tr>\n",
       "      <th>20469</th>\n",
       "      <td>005930</td>\n",
       "      <td>2015-12</td>\n",
       "      <td>PBR</td>\n",
       "      <td>Y</td>\n",
       "      <td>1.036509e+08</td>\n",
       "    </tr>\n",
       "    <tr>\n",
       "      <th>20478</th>\n",
       "      <td>005930</td>\n",
       "      <td>2016-12</td>\n",
       "      <td>PBR</td>\n",
       "      <td>Y</td>\n",
       "      <td>1.313745e+08</td>\n",
       "    </tr>\n",
       "    <tr>\n",
       "      <th>20487</th>\n",
       "      <td>005930</td>\n",
       "      <td>2017-12</td>\n",
       "      <td>PBR</td>\n",
       "      <td>Y</td>\n",
       "      <td>1.533595e+08</td>\n",
       "    </tr>\n",
       "    <tr>\n",
       "      <th>20496</th>\n",
       "      <td>005930</td>\n",
       "      <td>2018-12</td>\n",
       "      <td>PBR</td>\n",
       "      <td>Y</td>\n",
       "      <td>9.325029e+07</td>\n",
       "    </tr>\n",
       "    <tr>\n",
       "      <th>20505</th>\n",
       "      <td>005930</td>\n",
       "      <td>2019-09</td>\n",
       "      <td>PBR</td>\n",
       "      <td>Q</td>\n",
       "      <td>1.111507e+08</td>\n",
       "    </tr>\n",
       "    <tr>\n",
       "      <th>20514</th>\n",
       "      <td>005930</td>\n",
       "      <td>2019-12</td>\n",
       "      <td>PBR</td>\n",
       "      <td>Y</td>\n",
       "      <td>1.267169e+08</td>\n",
       "    </tr>\n",
       "    <tr>\n",
       "      <th>20523</th>\n",
       "      <td>005930</td>\n",
       "      <td>2020-03</td>\n",
       "      <td>PBR</td>\n",
       "      <td>Q</td>\n",
       "      <td>1.070084e+08</td>\n",
       "    </tr>\n",
       "    <tr>\n",
       "      <th>20532</th>\n",
       "      <td>005930</td>\n",
       "      <td>2020-06</td>\n",
       "      <td>PBR</td>\n",
       "      <td>Q</td>\n",
       "      <td>1.168256e+08</td>\n",
       "    </tr>\n",
       "    <tr>\n",
       "      <th>20541</th>\n",
       "      <td>005930</td>\n",
       "      <td>2020-09</td>\n",
       "      <td>PBR</td>\n",
       "      <td>Q</td>\n",
       "      <td>1.258225e+08</td>\n",
       "    </tr>\n",
       "  </tbody>\n",
       "</table>\n",
       "</div>"
      ],
      "text/plain": [
       "         code     date  itm type         value\n",
       "20469  005930  2015-12  PBR    Y  1.036509e+08\n",
       "20478  005930  2016-12  PBR    Y  1.313745e+08\n",
       "20487  005930  2017-12  PBR    Y  1.533595e+08\n",
       "20496  005930  2018-12  PBR    Y  9.325029e+07\n",
       "20505  005930  2019-09  PBR    Q  1.111507e+08\n",
       "20514  005930  2019-12  PBR    Y  1.267169e+08\n",
       "20523  005930  2020-03  PBR    Q  1.070084e+08\n",
       "20532  005930  2020-06  PBR    Q  1.168256e+08\n",
       "20541  005930  2020-09  PBR    Q  1.258225e+08"
      ]
     },
     "execution_count": 25,
     "metadata": {},
     "output_type": "execute_result"
    }
   ],
   "source": [
    "tt[(tt.code == '005930')&(tt.itm=='PBR')]"
   ]
  },
  {
   "cell_type": "code",
   "execution_count": 27,
   "metadata": {},
   "outputs": [
    {
     "data": {
      "text/plain": [
       "1.0365093930630995"
      ]
     },
     "execution_count": 27,
     "metadata": {},
     "output_type": "execute_result"
    }
   ],
   "source": [
    "tt[(tt.code == '005930')&(tt.itm=='PBR')].loc[20469,'value'] /100000000"
   ]
  },
  {
   "cell_type": "code",
   "execution_count": 63,
   "metadata": {},
   "outputs": [
    {
     "data": {
      "text/plain": [
       "-23.77128265612648"
      ]
     },
     "execution_count": 63,
     "metadata": {},
     "output_type": "execute_result"
    }
   ],
   "source": [
    "tt[(tt.itm=='PER')&(tt.value<=3*100000000)].value.values[100]/100000000"
   ]
  },
  {
   "cell_type": "code",
   "execution_count": 33,
   "metadata": {},
   "outputs": [
    {
     "data": {
      "text/plain": [
       "1.0365093641199934"
      ]
     },
     "execution_count": 33,
     "metadata": {},
     "output_type": "execute_result"
    }
   ],
   "source": [
    "185597164620000.0 / 179059805000000"
   ]
  },
  {
   "cell_type": "code",
   "execution_count": 32,
   "metadata": {},
   "outputs": [
    {
     "data": {
      "text/plain": [
       "185597164620000.0"
      ]
     },
     "execution_count": 32,
     "metadata": {},
     "output_type": "execute_result"
    }
   ],
   "source": [
    "pd.read_sql(\"select * from finance_info_copy where code='005930' and itm='시가총액'\",conn).loc[23,'value']"
   ]
  },
  {
   "cell_type": "code",
   "execution_count": 47,
   "metadata": {},
   "outputs": [
    {
     "data": {
      "text/plain": [
       "973747066.4896827"
      ]
     },
     "execution_count": 47,
     "metadata": {},
     "output_type": "execute_result"
    }
   ],
   "source": [
    "tt[(tt.code == '005930')&(tt.itm=='PER')&(tt.date=='2015-12')].iloc[0,-1]"
   ]
  },
  {
   "cell_type": "code",
   "execution_count": 49,
   "metadata": {},
   "outputs": [
    {
     "data": {
      "text/plain": [
       "9.737448186120734"
      ]
     },
     "execution_count": 49,
     "metadata": {},
     "output_type": "execute_result"
    }
   ],
   "source": [
    "185597164620000.0 / 19060144000000"
   ]
  },
  {
   "cell_type": "code",
   "execution_count": null,
   "metadata": {},
   "outputs": [],
   "source": []
  },
  {
   "cell_type": "markdown",
   "metadata": {},
   "source": [
    "### 단위정리\n",
    "* BS data자체가 단위가 1억원 / dart-fss 기준은 백만원 부르면서 나누면 되겠네"
   ]
  },
  {
   "cell_type": "code",
   "execution_count": null,
   "metadata": {},
   "outputs": [],
   "source": []
  }
 ],
 "metadata": {
  "kernelspec": {
   "display_name": "Python 3",
   "language": "python",
   "name": "python3"
  },
  "language_info": {
   "codemirror_mode": {
    "name": "ipython",
    "version": 3
   },
   "file_extension": ".py",
   "mimetype": "text/x-python",
   "name": "python",
   "nbconvert_exporter": "python",
   "pygments_lexer": "ipython3",
   "version": "3.8.5"
  }
 },
 "nbformat": 4,
 "nbformat_minor": 4
}
