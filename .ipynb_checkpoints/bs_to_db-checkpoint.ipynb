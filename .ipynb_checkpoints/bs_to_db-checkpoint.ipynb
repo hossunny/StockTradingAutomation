{
 "cells": [
  {
   "cell_type": "code",
   "execution_count": 1,
   "metadata": {},
   "outputs": [],
   "source": [
    "import logging, os, pickle\n",
    "import requests, glob\n",
    "from datetime import datetime\n",
    "from bs4 import BeautifulSoup\n",
    "from datetime import datetime\n",
    "import pandas as pd\n",
    "import time\n",
    "from datetime import date\n",
    "import urllib.request\n",
    "from selenium.webdriver import Chrome\n",
    "import json, re, sys, h5py\n",
    "from selenium.webdriver.chrome.options import Options\n",
    "from selenium.webdriver.common.keys import Keys\n",
    "import datetime as dt\n",
    "import pymysql\n",
    "import matplotlib.pyplot as plt\n",
    "from selenium.webdriver.support.ui import WebDriverWait\n",
    "from selenium.webdriver.support import expected_conditions as EC\n",
    "from selenium.webdriver.common.by import By\n",
    "from pykrx import stock\n",
    "import shutil\n",
    "import pyautogui"
   ]
  },
  {
   "cell_type": "code",
   "execution_count": 151,
   "metadata": {},
   "outputs": [],
   "source": [
    "class BStoDB:\n",
    "    def __init__(self):\n",
    "        self.update_date = datetime.today().strftime('%Y-%m-%d')\n",
    "        self.conn = pymysql.connect(host='localhost',user='root',\n",
    "                                   password='tlqkfdk2',db='INVESTAR',charset='utf8')\n",
    "        with self.conn.cursor() as curs:\n",
    "            sql_load = \"\"\"\n",
    "            SELECT CODE, COMPANY FROM COMPANY_INFO\n",
    "            \"\"\"\n",
    "            curs.execute(sql_load)\n",
    "            comps_ls = curs.fetchall()\n",
    "            self.codes = [str(e[0]) for e in comps_ls]\n",
    "            self.comps = [str(e[1]) for e in comps_ls]\n",
    "\n",
    "        self.conn.commit() # May not be needed..        \n",
    "    \n",
    "    def __del__(self):\n",
    "        \"\"\"Disconnecting MariaDB\"\"\"\n",
    "        self.conn.close()\n",
    "\n",
    "    def BStoDBSave(self):\n",
    "        errs = []\n",
    "        cursor = self.conn.cursor()\n",
    "        with open('./NanBSList.pickle','rb') as fr:\n",
    "            nanbslist = pickle.load(fr)\n",
    "        sql = \"\"\"\n",
    "            CREATE TABLE IF NOT EXISTS finance_info (\n",
    "                code VARCHAR(20),\n",
    "                date VARCHAR(40),\n",
    "                item VARCHAR(60),\n",
    "                type VARCHAR(20),\n",
    "                value DOUBLE,\n",
    "                PRIMARY KEY (code, date, item, type))\n",
    "            \"\"\"\n",
    "        cursor.execute(sql)\n",
    "        self.conn.commit()\n",
    "        \n",
    "        for cd in self.codes :\n",
    "            try :\n",
    "                file_paths = glob.glob(f\"./FullCache/*/*{cd}*.h5\")\n",
    "                if len(file_paths) == 0 :\n",
    "                    if cd in nanbslist :\n",
    "                        continue\n",
    "                    else :\n",
    "                        errs.append(cd+'|nan')\n",
    "                        continue\n",
    "                tp = 'N'\n",
    "                for f in file_paths :\n",
    "                    if 'annual' in f :\n",
    "                        tp = 'Y'\n",
    "                    elif 'quarter' in f :\n",
    "                        tp = 'Q'\n",
    "                    else :\n",
    "                        raise ValueError(\"nontype..?\")\n",
    "                    tmp_df = pd.read_hdf(f).T\n",
    "                    items = list(tmp_df.columns)\n",
    "                    for idx, row in tmp_df.iterrows():\n",
    "                        if str(idx)[:4] == 'None':\n",
    "                            continue\n",
    "                        else :\n",
    "                            for itm in items :\n",
    "                                if len(pd.read_sql(f\"select * from finance_info where code='{cd}' and date='{idx}' and item='{itm}' and type='{tp}'\",self.conn)) == 0 :\n",
    "                                    cursor.execute(f\"INSERT INTO finance_info values('{cd}','{idx}','{itm}','{tp}',{row[itm]})\")\n",
    "                                    self.conn.commit()\n",
    "            except :\n",
    "                errs.append(cd+'|why')\n",
    "        print(\"BStoDB is done.\")\n",
    "        return errs "
   ]
  },
  {
   "cell_type": "code",
   "execution_count": 152,
   "metadata": {},
   "outputs": [],
   "source": [
    "bstodb = BStoDB()"
   ]
  },
  {
   "cell_type": "code",
   "execution_count": 153,
   "metadata": {},
   "outputs": [
    {
     "name": "stdout",
     "output_type": "stream",
     "text": [
      "BStoDB is done.\n",
      "Wall time: 1h 49min 59s\n"
     ]
    }
   ],
   "source": [
    "%%time\n",
    "ers = bstodb.BStoDBSave()"
   ]
  },
  {
   "cell_type": "code",
   "execution_count": null,
   "metadata": {},
   "outputs": [],
   "source": []
  },
  {
   "cell_type": "code",
   "execution_count": null,
   "metadata": {},
   "outputs": [],
   "source": []
  }
 ],
 "metadata": {
  "kernelspec": {
   "display_name": "Python 3",
   "language": "python",
   "name": "python3"
  },
  "language_info": {
   "codemirror_mode": {
    "name": "ipython",
    "version": 3
   },
   "file_extension": ".py",
   "mimetype": "text/x-python",
   "name": "python",
   "nbconvert_exporter": "python",
   "pygments_lexer": "ipython3",
   "version": "3.8.5"
  }
 },
 "nbformat": 4,
 "nbformat_minor": 4
}
