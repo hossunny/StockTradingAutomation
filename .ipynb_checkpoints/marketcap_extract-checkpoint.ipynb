{
 "cells": [
  {
   "cell_type": "code",
   "execution_count": 1,
   "metadata": {},
   "outputs": [],
   "source": [
    "import logging, os, pickle\n",
    "import requests, glob\n",
    "from datetime import datetime\n",
    "from bs4 import BeautifulSoup\n",
    "from datetime import datetime\n",
    "import pandas as pd\n",
    "import time\n",
    "from datetime import date\n",
    "import urllib.request\n",
    "from selenium.webdriver import Chrome\n",
    "import json, re, sys, h5py\n",
    "from selenium.webdriver.chrome.options import Options\n",
    "from selenium.webdriver.common.keys import Keys\n",
    "import datetime as dt\n",
    "import pymysql\n",
    "import matplotlib.pyplot as plt\n",
    "from selenium.webdriver.support.ui import WebDriverWait\n",
    "from selenium.webdriver.support import expected_conditions as EC\n",
    "from selenium.webdriver.common.by import By\n",
    "from pykrx import stock\n",
    "import pyautogui"
   ]
  },
  {
   "cell_type": "markdown",
   "metadata": {},
   "source": [
    "---"
   ]
  },
  {
   "cell_type": "markdown",
   "metadata": {},
   "source": [
    "### 시가 총액 = 발행주식수(보통?주) * 마지막 종가가 맞다면 pykrx krx데이터가 정확한거네... 분기별 이런건 뭔가 완화시킨듯?"
   ]
  },
  {
   "cell_type": "markdown",
   "metadata": {},
   "source": [
    "분기 ROE/ROA/PER/PBR은 직전 4개 분기 데이터로 연환산 하여 산출 <- 라고 네이버 금융에 나오긴 하네...\n",
    "\n",
    "다시 정확하게 계산해야 하나..."
   ]
  },
  {
   "cell_type": "markdown",
   "metadata": {},
   "source": [
    "1) marketcap to db (단위 억원으로 맞춰야할듯?)\n",
    "\n",
    "2) 안나와있는 지표들 다시 계산..."
   ]
  },
  {
   "cell_type": "markdown",
   "metadata": {},
   "source": [
    "Data Integrity Validation 중....\n",
    "\n",
    "애초에 naver financial summary가 맞는지부터 의심해야겠는데?  -> dart-fss랑은 일치 // krx랑은?\n",
    "\n",
    "+) krx 데이터든 뭐든 PIT가 아닌게 맞는건지?"
   ]
  },
  {
   "cell_type": "code",
   "execution_count": 95,
   "metadata": {},
   "outputs": [],
   "source": [
    "driver_path = \"C:/Users/Bae Kyungmo/OneDrive/Desktop/WC_basic/chromedriver.exe\"\n",
    "browser = Chrome(driver_path)\n",
    "browser.maximize_window()\n",
    "url = \"http://marketdata.krx.co.kr/mdi#document=040402\"\n",
    "browser.get(url)\n",
    "WebDriverWait(browser, 10).until(EC.element_to_be_clickable((By.XPATH,'//*[@id=\"schdate8f14e45fceea167a5a36dedd4bea2543\"]')))\n",
    "browser.find_elements_by_xpath('//*[@id=\"schdate8f14e45fceea167a5a36dedd4bea2543\"]')[0].click()\n",
    "for dt in ['2020-10-15','2020-10-16']:\n",
    "    pyautogui.moveTo(617, 404)\n",
    "    pyautogui.doubleClick()\n",
    "    browser.find_elements_by_xpath('//*[@id=\"schdate8f14e45fceea167a5a36dedd4bea2543\"]')[0].send_keys(dt[:4]+dt[5:7]+dt[8:])\n",
    "    pyautogui.click(834, 455,duration=2.0)\n",
    "    pyautogui.click(1266, 456,duration=2.0)\n",
    "    time.sleep(6)\n",
    "    os.rename(\"C:/Users/Bae Kyungmo/Downloads/data.csv\", \"C:/Users/Bae Kyungmo/Downloads/marcap-{}.csv\".format(dt))\n"
   ]
  },
  {
   "cell_type": "code",
   "execution_count": 22,
   "metadata": {},
   "outputs": [],
   "source": [
    "e1 = pd.read_csv(\"C:/Users/Bae Kyungmo/Downloads/marcap-2021-01-15.csv\")"
   ]
  },
  {
   "cell_type": "code",
   "execution_count": 23,
   "metadata": {},
   "outputs": [
    {
     "data": {
      "text/html": [
       "<div>\n",
       "<style scoped>\n",
       "    .dataframe tbody tr th:only-of-type {\n",
       "        vertical-align: middle;\n",
       "    }\n",
       "\n",
       "    .dataframe tbody tr th {\n",
       "        vertical-align: top;\n",
       "    }\n",
       "\n",
       "    .dataframe thead th {\n",
       "        text-align: right;\n",
       "    }\n",
       "</style>\n",
       "<table border=\"1\" class=\"dataframe\">\n",
       "  <thead>\n",
       "    <tr style=\"text-align: right;\">\n",
       "      <th></th>\n",
       "      <th>순위</th>\n",
       "      <th>종목코드</th>\n",
       "      <th>종목명</th>\n",
       "      <th>현재가</th>\n",
       "      <th>대비</th>\n",
       "      <th>등락률</th>\n",
       "      <th>거래량</th>\n",
       "      <th>거래대금</th>\n",
       "      <th>시가</th>\n",
       "      <th>고가</th>\n",
       "      <th>저가</th>\n",
       "      <th>시가총액</th>\n",
       "      <th>시가총액비중(%)</th>\n",
       "      <th>상장주식수</th>\n",
       "      <th>외국인 보유주식수</th>\n",
       "      <th>외국인 지분율(%)</th>\n",
       "      <th>총카운트</th>\n",
       "    </tr>\n",
       "  </thead>\n",
       "  <tbody>\n",
       "    <tr>\n",
       "      <th>0</th>\n",
       "      <td>1</td>\n",
       "      <td>005930</td>\n",
       "      <td>삼성전자</td>\n",
       "      <td>88,600</td>\n",
       "      <td>-1,100</td>\n",
       "      <td>-1.2</td>\n",
       "      <td>22,241,470</td>\n",
       "      <td>1,987,929,214,200</td>\n",
       "      <td>89,800</td>\n",
       "      <td>91,800</td>\n",
       "      <td>88,000</td>\n",
       "      <td>528,922,733,930,000</td>\n",
       "      <td>20.90</td>\n",
       "      <td>5,969,782,550</td>\n",
       "      <td>NaN</td>\n",
       "      <td>NaN</td>\n",
       "      <td>2530.0</td>\n",
       "    </tr>\n",
       "    <tr>\n",
       "      <th>1</th>\n",
       "      <td>2</td>\n",
       "      <td>000660</td>\n",
       "      <td>SK하이닉스</td>\n",
       "      <td>128,000</td>\n",
       "      <td>-2,500</td>\n",
       "      <td>-1.9</td>\n",
       "      <td>3,474,541</td>\n",
       "      <td>453,216,007,500</td>\n",
       "      <td>133,000</td>\n",
       "      <td>135,000</td>\n",
       "      <td>127,000</td>\n",
       "      <td>93,184,302,720,000</td>\n",
       "      <td>3.68</td>\n",
       "      <td>728,002,365</td>\n",
       "      <td>NaN</td>\n",
       "      <td>NaN</td>\n",
       "      <td>NaN</td>\n",
       "    </tr>\n",
       "    <tr>\n",
       "      <th>2</th>\n",
       "      <td>3</td>\n",
       "      <td>051910</td>\n",
       "      <td>LG화학</td>\n",
       "      <td>985,000</td>\n",
       "      <td>-25,000</td>\n",
       "      <td>-2.5</td>\n",
       "      <td>294,958</td>\n",
       "      <td>292,967,929,000</td>\n",
       "      <td>1,015,000</td>\n",
       "      <td>1,025,000</td>\n",
       "      <td>975,000</td>\n",
       "      <td>69,533,457,855,000</td>\n",
       "      <td>2.75</td>\n",
       "      <td>70,592,343</td>\n",
       "      <td>NaN</td>\n",
       "      <td>NaN</td>\n",
       "      <td>NaN</td>\n",
       "    </tr>\n",
       "    <tr>\n",
       "      <th>3</th>\n",
       "      <td>4</td>\n",
       "      <td>005935</td>\n",
       "      <td>삼성전자우</td>\n",
       "      <td>78,300</td>\n",
       "      <td>-500</td>\n",
       "      <td>-0.6</td>\n",
       "      <td>1,905,654</td>\n",
       "      <td>149,976,522,300</td>\n",
       "      <td>79,300</td>\n",
       "      <td>80,100</td>\n",
       "      <td>77,800</td>\n",
       "      <td>64,432,028,610,000</td>\n",
       "      <td>2.55</td>\n",
       "      <td>822,886,700</td>\n",
       "      <td>NaN</td>\n",
       "      <td>NaN</td>\n",
       "      <td>NaN</td>\n",
       "    </tr>\n",
       "    <tr>\n",
       "      <th>4</th>\n",
       "      <td>5</td>\n",
       "      <td>207940</td>\n",
       "      <td>삼성바이오로직스</td>\n",
       "      <td>810,000</td>\n",
       "      <td>-6,000</td>\n",
       "      <td>-0.7</td>\n",
       "      <td>72,279</td>\n",
       "      <td>58,756,998,000</td>\n",
       "      <td>820,000</td>\n",
       "      <td>824,000</td>\n",
       "      <td>806,000</td>\n",
       "      <td>53,593,650,000,000</td>\n",
       "      <td>2.12</td>\n",
       "      <td>66,165,000</td>\n",
       "      <td>NaN</td>\n",
       "      <td>NaN</td>\n",
       "      <td>NaN</td>\n",
       "    </tr>\n",
       "  </tbody>\n",
       "</table>\n",
       "</div>"
      ],
      "text/plain": [
       "   순위    종목코드       종목명      현재가       대비  등락률         거래량               거래대금  \\\n",
       "0   1  005930      삼성전자   88,600   -1,100 -1.2  22,241,470  1,987,929,214,200   \n",
       "1   2  000660    SK하이닉스  128,000   -2,500 -1.9   3,474,541    453,216,007,500   \n",
       "2   3  051910      LG화학  985,000  -25,000 -2.5     294,958    292,967,929,000   \n",
       "3   4  005935     삼성전자우   78,300     -500 -0.6   1,905,654    149,976,522,300   \n",
       "4   5  207940  삼성바이오로직스  810,000   -6,000 -0.7      72,279     58,756,998,000   \n",
       "\n",
       "          시가         고가       저가                 시가총액  시가총액비중(%)  \\\n",
       "0     89,800     91,800   88,000  528,922,733,930,000      20.90   \n",
       "1    133,000    135,000  127,000   93,184,302,720,000       3.68   \n",
       "2  1,015,000  1,025,000  975,000   69,533,457,855,000       2.75   \n",
       "3     79,300     80,100   77,800   64,432,028,610,000       2.55   \n",
       "4    820,000    824,000  806,000   53,593,650,000,000       2.12   \n",
       "\n",
       "           상장주식수  외국인 보유주식수  외국인 지분율(%)    총카운트  \n",
       "0  5,969,782,550        NaN         NaN  2530.0  \n",
       "1    728,002,365        NaN         NaN     NaN  \n",
       "2     70,592,343        NaN         NaN     NaN  \n",
       "3    822,886,700        NaN         NaN     NaN  \n",
       "4     66,165,000        NaN         NaN     NaN  "
      ]
     },
     "execution_count": 23,
     "metadata": {},
     "output_type": "execute_result"
    }
   ],
   "source": [
    "e1.head()"
   ]
  },
  {
   "cell_type": "code",
   "execution_count": 2,
   "metadata": {},
   "outputs": [],
   "source": [
    "from datetime import timedelta, date\n",
    "hld = pd.read_excel(\"./FullCache_bk/holidays_2020.xls\")\n",
    "\n",
    "def daterange(date1, date2):\n",
    "    for n in range(int ((date2 - date1).days)+1):\n",
    "        yield date1 + timedelta(n)\n",
    "\n",
    "start_dt = date(2020,10,15)\n",
    "end_dt = date(2021,1,15)\n",
    "\n",
    "total_dates = []\n",
    "weekdays = [5,6]\n",
    "for dt in daterange(start_dt, end_dt):\n",
    "    if dt.weekday() not in weekdays: \n",
    "        if dt.strftime(\"%Y-%m-%d\") not in hld.iloc[:,0].values:\n",
    "            total_dates.append(dt.strftime(\"%Y-%m-%d\"))\n",
    "        #print(dt.strftime(\"%Y-%m-%d\"))"
   ]
  },
  {
   "cell_type": "code",
   "execution_count": 5,
   "metadata": {},
   "outputs": [
    {
     "name": "stdout",
     "output_type": "stream",
     "text": [
      "Wall time: 6min 17s\n"
     ]
    }
   ],
   "source": [
    "%%time\n",
    "\n",
    "errs = []\n",
    "driver_path = \"C:/Users/Bae Kyungmo/OneDrive/Desktop/WC_basic/chromedriver.exe\"\n",
    "browser = Chrome(driver_path)\n",
    "browser.maximize_window()\n",
    "url = \"http://marketdata.krx.co.kr/mdi#document=040402\"\n",
    "browser.get(url)\n",
    "WebDriverWait(browser, 10).until(EC.element_to_be_clickable((By.XPATH,'//*[@id=\"schdate8f14e45fceea167a5a36dedd4bea2543\"]')))\n",
    "browser.find_elements_by_xpath('//*[@id=\"schdate8f14e45fceea167a5a36dedd4bea2543\"]')[0].click()\n",
    "for dt in redates:\n",
    "    try:\n",
    "        pyautogui.moveTo(617, 404)\n",
    "        pyautogui.doubleClick()\n",
    "        browser.find_elements_by_xpath('//*[@id=\"schdate8f14e45fceea167a5a36dedd4bea2543\"]')[0].send_keys(dt[:4]+dt[5:7]+dt[8:])\n",
    "        pyautogui.click(834, 455,duration=1.0)\n",
    "        time.sleep(2)\n",
    "        pyautogui.click(1266, 456,duration=1.0)\n",
    "        try :\n",
    "            for _ in range(1,20):\n",
    "                time.sleep(1)\n",
    "                try :\n",
    "                    os.rename(\"C:/Users/Bae Kyungmo/Downloads/data.csv\", \"C:/Users/Bae Kyungmo/Downloads/marcap-{}.csv\".format(dt))\n",
    "                    break\n",
    "                except :\n",
    "                    pass\n",
    "        except :\n",
    "            raise ValueError(\"what?\")\n",
    "        time.sleep(1)\n",
    "    except :\n",
    "        raise ValueError(\"fuck!!\")"
   ]
  },
  {
   "cell_type": "code",
   "execution_count": 49,
   "metadata": {},
   "outputs": [],
   "source": [
    "q.rename(columns={'종목코드':'Code','순위':'Rank','종목명':'Name','현재가':'Close','대비':'Changes','등락률':'ChagesRatio','거래량':'Volume','거래대금':'Amount',\n",
    "                 '시가':'Open','고가':'High','저가':'Low','시가총액':'Marcap','시가총액비중(%)':'MarcapRatio','상장주식수':'Stocks','외국인 보유주식수':'ForeignShares',\n",
    "                 '외국인 지분율(%)':'ForeignRatio'},inplace=True)\n",
    "#df.rename(columns = {'old_nm' : 'new_nm'), inplace = True)"
   ]
  },
  {
   "cell_type": "code",
   "execution_count": 134,
   "metadata": {},
   "outputs": [],
   "source": [
    "def trading_days(start='2009-01-01', end='2021-12-31', mode='r'):\n",
    "    if mode == 'w':\n",
    "        files = glob.glob(\"./FullCache_bk/DateParser/*\")\n",
    "        holidays = []\n",
    "        for fp in files :\n",
    "            tmp_holidays = list(pd.read_excel(fp).loc[:,'일자 및 요일'].values)\n",
    "            tmp_holidays = [dt[:10] for dt in tmp_holidays]\n",
    "            holidays += tmp_holidays\n",
    "        def daterange(date1, date2):\n",
    "            for n in range(int ((date2-date1).days)+1):\n",
    "                yield date1 + timedelta(n)\n",
    "        start_dt = date(int(start[:4]),int(start[5:7]),int(start[8:10]))\n",
    "        end_dt = date(int(end[:4]),int(end[5:7]),int(end[8:10]))\n",
    "        total_dates = []\n",
    "        weekdays = [5,6]\n",
    "        for dt in daterange(start_dt, end_dt):\n",
    "            if dt.weekday() not in weekdays:\n",
    "                if dt.strftime(\"%Y-%m-%d\") not in holidays:\n",
    "                    total_dates.append(dt.strftime(\"%Y-%m-%d\"))\n",
    "        with open(\"./TradingDates.pickle\",\"wb\") as fw :\n",
    "            pickle.dump(total_dates, fw)\n",
    "    elif mode=='r' :\n",
    "        with open(\"./TradingDates.pickle\",\"rb\") as fr :\n",
    "            total_dates = pickle.load(fr)\n",
    "    else :\n",
    "        raise ValueError(\"Which mode do you want?\")\n",
    "    return total_dates"
   ]
  },
  {
   "cell_type": "code",
   "execution_count": 136,
   "metadata": {},
   "outputs": [],
   "source": [
    "aa = trading_days(mode='r')"
   ]
  },
  {
   "cell_type": "code",
   "execution_count": 183,
   "metadata": {},
   "outputs": [],
   "source": [
    "def MissingChecker(td_dates):\n",
    "    miss_dts = []\n",
    "    allfiles = glob.glob(\"./FullCache_bk/marcap/*.csv\")\n",
    "    for fp in allfiles:\n",
    "        print(fp)\n",
    "        year = fp.split('-')[-1].split('.')[0]\n",
    "        flag_start = year+'-01-01'\n",
    "        flag_end = year+'-12-31'\n",
    "        sub_dates = []\n",
    "        for e in td_dates :\n",
    "            if e >= flag_start and e <= flag_end :\n",
    "                sub_dates.append(e)\n",
    "        if '2020-10-15' in fp :\n",
    "            break\n",
    "        tmp_dates = sorted(list(set(pd.read_csv(fp)['Date'].values)))\n",
    "        for dt in sub_dates :\n",
    "            if dt not in tmp_dates :\n",
    "                miss_dts.append(dt)\n",
    "    return miss_dts"
   ]
  },
  {
   "cell_type": "code",
   "execution_count": 184,
   "metadata": {},
   "outputs": [
    {
     "name": "stdout",
     "output_type": "stream",
     "text": [
      "./FullCache_bk/marcap\\marcap-2010.csv\n",
      "./FullCache_bk/marcap\\marcap-2011.csv\n",
      "./FullCache_bk/marcap\\marcap-2012.csv\n",
      "./FullCache_bk/marcap\\marcap-2013.csv\n",
      "./FullCache_bk/marcap\\marcap-2014.csv\n",
      "./FullCache_bk/marcap\\marcap-2015.csv\n",
      "./FullCache_bk/marcap\\marcap-2016.csv\n",
      "./FullCache_bk/marcap\\marcap-2017.csv\n",
      "./FullCache_bk/marcap\\marcap-2018.csv\n",
      "./FullCache_bk/marcap\\marcap-2019.csv\n",
      "./FullCache_bk/marcap\\marcap-2020-10-15.csv\n",
      "Wall time: 11.7 s\n"
     ]
    }
   ],
   "source": [
    "%%time\n",
    "msss = MissingChecker(aa)"
   ]
  },
  {
   "cell_type": "code",
   "execution_count": null,
   "metadata": {},
   "outputs": [],
   "source": []
  },
  {
   "cell_type": "code",
   "execution_count": null,
   "metadata": {},
   "outputs": [],
   "source": []
  },
  {
   "cell_type": "code",
   "execution_count": null,
   "metadata": {},
   "outputs": [],
   "source": []
  }
 ],
 "metadata": {
  "kernelspec": {
   "display_name": "Python 3",
   "language": "python",
   "name": "python3"
  },
  "language_info": {
   "codemirror_mode": {
    "name": "ipython",
    "version": 3
   },
   "file_extension": ".py",
   "mimetype": "text/x-python",
   "name": "python",
   "nbconvert_exporter": "python",
   "pygments_lexer": "ipython3",
   "version": "3.8.5"
  }
 },
 "nbformat": 4,
 "nbformat_minor": 4
}
