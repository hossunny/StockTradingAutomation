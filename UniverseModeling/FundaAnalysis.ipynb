{
 "cells": [
  {
   "cell_type": "markdown",
   "metadata": {},
   "source": [
    "# Fundamental-based Universe Screening\n"
   ]
  },
  {
   "cell_type": "code",
   "execution_count": 1,
   "metadata": {},
   "outputs": [],
   "source": [
    "import logging, os, pickle\n",
    "import requests, glob\n",
    "from datetime import datetime\n",
    "from bs4 import BeautifulSoup\n",
    "from datetime import datetime\n",
    "import pandas as pd\n",
    "import time\n",
    "from datetime import date\n",
    "import urllib.request\n",
    "from selenium.webdriver import Chrome\n",
    "import json, re, sys, h5py\n",
    "from selenium.webdriver.chrome.options import Options\n",
    "from selenium.webdriver.common.keys import Keys\n",
    "import datetime as dt\n",
    "import pymysql\n",
    "import matplotlib.pyplot as plt\n",
    "from selenium.webdriver.support.ui import WebDriverWait\n",
    "from selenium.webdriver.support import expected_conditions as EC\n",
    "from selenium.webdriver.common.by import By\n",
    "from pykrx import stock\n",
    "import warnings\n",
    "warnings.filterwarnings(action='ignore')\n",
    "import shutil\n",
    "from matplotlib.pyplot import cm\n",
    "import numpy as np\n",
    "import scipy.stats as stats\n",
    "from scipy import stats\n",
    "import pyautogui\n",
    "from statsmodels.tsa.stattools import coint, adfuller\n",
    "from sklearn.linear_model import LinearRegression\n",
    "import matplotlib.font_manager as fm\n",
    "import sys\n",
    "import seaborn as sns\n",
    "%matplotlib inline\n",
    "plt.rcParams['font.family'] = 'NanumSquare_ac'\n",
    "sys.path.append('C:\\\\Users\\Bae Kyungmo\\OneDrive\\Desktop\\StockTraidingAutomation\\DataModeling')\n",
    "from Loader_v2 import Loader\n",
    "ldr = Loader(pwd='tlqkfdk2')"
   ]
  },
  {
   "cell_type": "code",
   "execution_count": 117,
   "metadata": {},
   "outputs": [],
   "source": [
    "#font_list = [font.name for font in fm.fontManager.ttflist]\n",
    "# font_path = r'C:\\Users\\Bae Kyungmo\\Downloads\\Nanumsquare_ac_TTF\\Nanumsquare_ac_TTF\\NanumSquare_acR.ttf'\n",
    "# fontprop = fm.FontProperties(fname=font_path, size=15)"
   ]
  },
  {
   "cell_type": "markdown",
   "metadata": {},
   "source": [
    "---"
   ]
  },
  {
   "cell_type": "markdown",
   "metadata": {},
   "source": [
    "### Definition of a stock's 'Goodness'\n",
    "\n",
    "1) High Cumulative Return : mathematically it can be summarized as ln(P_last) - ln(P_start). <br>\n",
    "2) Geometric Mean of Return : it means how much average return would be realized. <br>\n",
    "2-1) Mean of Positive Return <br>\n",
    "3) Ratio of Positive Return : likewise hit-ratio just count the frequency of returns that go up.  <br>\n",
    "3-1) Maximum Return <br>\n",
    "4) Maximum Draw Down <br>"
   ]
  },
  {
   "cell_type": "code",
   "execution_count": 200,
   "metadata": {},
   "outputs": [],
   "source": [
    "def HCR(start, end, code_ls):\n",
    "    pr = ldr.GetPricelv2(start, end, code_ls)\n",
    "    log_pr = np.log(pr)\n",
    "    meanHCR = log_pr[log_pr.index.isin([log_pr.index[0],log_pr.index[-1]])].diff(1).iloc[-1,:].mean()\n",
    "    return meanHCR+1"
   ]
  },
  {
   "cell_type": "code",
   "execution_count": 263,
   "metadata": {},
   "outputs": [],
   "source": [
    "def MPR(start, end, code_ls):\n",
    "    pr = ldr.GetPricelv2(start, end, code_ls)\n",
    "    pr = pr.pct_change().astype(float)\n",
    "    mpr_ls = []\n",
    "    for cd in pr.columns :\n",
    "        mpr_ls.append(pr[lambda x : x[cd]>=0][cd].mean())\n",
    "    return sum(mpr_ls) / len(mpr_ls)"
   ]
  },
  {
   "cell_type": "code",
   "execution_count": null,
   "metadata": {},
   "outputs": [],
   "source": [
    "def MR(start, end, code_ls):\n",
    "    pr = ldr.GetPricelv2(start, end, code_ls)\n",
    "    pr = pr.pct_change().astype(float)\n",
    "    mr_ls = []\n",
    "    for cd in pr.columns:\n",
    "        mr_ls.append(pr[])"
   ]
  },
  {
   "cell_type": "code",
   "execution_count": 284,
   "metadata": {},
   "outputs": [
    {
     "data": {
      "text/html": [
       "<div>\n",
       "<style scoped>\n",
       "    .dataframe tbody tr th:only-of-type {\n",
       "        vertical-align: middle;\n",
       "    }\n",
       "\n",
       "    .dataframe tbody tr th {\n",
       "        vertical-align: top;\n",
       "    }\n",
       "\n",
       "    .dataframe thead th {\n",
       "        text-align: right;\n",
       "    }\n",
       "</style>\n",
       "<table border=\"1\" class=\"dataframe\">\n",
       "  <thead>\n",
       "    <tr style=\"text-align: right;\">\n",
       "      <th></th>\n",
       "      <th>005930</th>\n",
       "    </tr>\n",
       "  </thead>\n",
       "  <tbody>\n",
       "    <tr>\n",
       "      <th>count</th>\n",
       "      <td>1211.000000</td>\n",
       "    </tr>\n",
       "    <tr>\n",
       "      <th>mean</th>\n",
       "      <td>0.001100</td>\n",
       "    </tr>\n",
       "    <tr>\n",
       "      <th>std</th>\n",
       "      <td>0.017262</td>\n",
       "    </tr>\n",
       "    <tr>\n",
       "      <th>min</th>\n",
       "      <td>-0.080357</td>\n",
       "    </tr>\n",
       "    <tr>\n",
       "      <th>25%</th>\n",
       "      <td>-0.009012</td>\n",
       "    </tr>\n",
       "    <tr>\n",
       "      <th>50%</th>\n",
       "      <td>0.001086</td>\n",
       "    </tr>\n",
       "    <tr>\n",
       "      <th>75%</th>\n",
       "      <td>0.011208</td>\n",
       "    </tr>\n",
       "    <tr>\n",
       "      <th>max</th>\n",
       "      <td>0.104706</td>\n",
       "    </tr>\n",
       "  </tbody>\n",
       "</table>\n",
       "</div>"
      ],
      "text/plain": [
       "            005930\n",
       "count  1211.000000\n",
       "mean      0.001100\n",
       "std       0.017262\n",
       "min      -0.080357\n",
       "25%      -0.009012\n",
       "50%       0.001086\n",
       "75%       0.011208\n",
       "max       0.104706"
      ]
     },
     "execution_count": 284,
     "metadata": {},
     "output_type": "execute_result"
    }
   ],
   "source": [
    "qwe.pct_change().describe()"
   ]
  },
  {
   "cell_type": "code",
   "execution_count": null,
   "metadata": {},
   "outputs": [],
   "source": [
    "drop_ls = []\n",
    "for cd in log_pr.columns:\n",
    "    if len(log_pr[cd].value_counts())==1:\n",
    "        drop_ls.append(cd)\n",
    "    elif log_pr[cd].value_counts().iloc[:2].sum() >= len(log_pr[cd]) * 0.3 :\n",
    "        drop_ls.append(cd)"
   ]
  },
  {
   "cell_type": "code",
   "execution_count": null,
   "metadata": {},
   "outputs": [],
   "source": []
  },
  {
   "cell_type": "code",
   "execution_count": 279,
   "metadata": {},
   "outputs": [
    {
     "data": {
      "text/plain": [
       "<AxesSubplot:>"
      ]
     },
     "execution_count": 279,
     "metadata": {},
     "output_type": "execute_result"
    },
    {
     "data": {
      "image/png": "[encoded data removed]",
      "text/plain": [
       "<Figure size 432x288 with 1 Axes>"
      ]
     },
     "metadata": {
      "needs_background": "light"
     },
     "output_type": "display_data"
    }
   ],
   "source": [
    "qwe.pct_change().rolling(30).apply(lambda x: (x.mean() - 0.02) / x.std(), raw = True).plot()"
   ]
  },
  {
   "cell_type": "code",
   "execution_count": 280,
   "metadata": {},
   "outputs": [],
   "source": [
    "qwe = ldr.GetPricelv2('2016-04-01','2021-03-10',['005930'])"
   ]
  },
  {
   "cell_type": "code",
   "execution_count": 281,
   "metadata": {},
   "outputs": [
    {
     "data": {
      "text/plain": [
       "<AxesSubplot:>"
      ]
     },
     "execution_count": 281,
     "metadata": {},
     "output_type": "execute_result"
    },
    {
     "data": {
      "image/png": "[encoded data removed]",
      "text/plain": [
       "<Figure size 864x720 with 1 Axes>"
      ]
     },
     "metadata": {
      "needs_background": "light"
     },
     "output_type": "display_data"
    }
   ],
   "source": [
    "qwe.plot(figsize=(12,10))"
   ]
  },
  {
   "cell_type": "code",
   "execution_count": 270,
   "metadata": {},
   "outputs": [
    {
     "data": {
      "text/html": [
       "<div>\n",
       "<style scoped>\n",
       "    .dataframe tbody tr th:only-of-type {\n",
       "        vertical-align: middle;\n",
       "    }\n",
       "\n",
       "    .dataframe tbody tr th {\n",
       "        vertical-align: top;\n",
       "    }\n",
       "\n",
       "    .dataframe thead th {\n",
       "        text-align: right;\n",
       "    }\n",
       "</style>\n",
       "<table border=\"1\" class=\"dataframe\">\n",
       "  <thead>\n",
       "    <tr style=\"text-align: right;\">\n",
       "      <th></th>\n",
       "      <th>005930</th>\n",
       "    </tr>\n",
       "  </thead>\n",
       "  <tbody>\n",
       "    <tr>\n",
       "      <th>count</th>\n",
       "      <td>231.000000</td>\n",
       "    </tr>\n",
       "    <tr>\n",
       "      <th>mean</th>\n",
       "      <td>62841.125541</td>\n",
       "    </tr>\n",
       "    <tr>\n",
       "      <th>std</th>\n",
       "      <td>12699.292912</td>\n",
       "    </tr>\n",
       "    <tr>\n",
       "      <th>min</th>\n",
       "      <td>45800.000000</td>\n",
       "    </tr>\n",
       "    <tr>\n",
       "      <th>25%</th>\n",
       "      <td>53150.000000</td>\n",
       "    </tr>\n",
       "    <tr>\n",
       "      <th>50%</th>\n",
       "      <td>58600.000000</td>\n",
       "    </tr>\n",
       "    <tr>\n",
       "      <th>75%</th>\n",
       "      <td>72950.000000</td>\n",
       "    </tr>\n",
       "    <tr>\n",
       "      <th>max</th>\n",
       "      <td>91000.000000</td>\n",
       "    </tr>\n",
       "  </tbody>\n",
       "</table>\n",
       "</div>"
      ],
      "text/plain": [
       "             005930\n",
       "count    231.000000\n",
       "mean   62841.125541\n",
       "std    12699.292912\n",
       "min    45800.000000\n",
       "25%    53150.000000\n",
       "50%    58600.000000\n",
       "75%    72950.000000\n",
       "max    91000.000000"
      ]
     },
     "execution_count": 270,
     "metadata": {},
     "output_type": "execute_result"
    }
   ],
   "source": [
    "qwe.describe()"
   ]
  },
  {
   "cell_type": "code",
   "execution_count": null,
   "metadata": {},
   "outputs": [],
   "source": []
  },
  {
   "cell_type": "code",
   "execution_count": null,
   "metadata": {},
   "outputs": [],
   "source": []
  },
  {
   "cell_type": "code",
   "execution_count": null,
   "metadata": {},
   "outputs": [],
   "source": []
  },
  {
   "cell_type": "markdown",
   "metadata": {},
   "source": [
    "---"
   ]
  },
  {
   "cell_type": "markdown",
   "metadata": {},
   "source": [
    "### Phase1) Basic Funda Analysis\n",
    "\n",
    "* 주식 투자 관련 공부를 좀 해본 사람들이라면 PBR이 낮을수록 저평가된 주식으로 예후가 좋을 것이라고들 예상한다.\n",
    "* 실제로 PBR을 1 기준으로 나누어 향후 평균적인 누적수익률을 계산해보면 저PBR 그룹에서 더 예후가 좋다.\n",
    "* 그러나 Sector별로 보편적인 재무제표의 분포가 다르고 그에 따라 Median(PBR)로 그룹을 나누어 비교해보면 모든 Sector에서 그렇지 않다.\n",
    "* 이런 Simpson's Paradox 현상을 인지하고 그에 맞게 더 세분화하여 Universe를 구성하여야 투자의 정보로써 가치가 있다."
   ]
  },
  {
   "cell_type": "code",
   "execution_count": 257,
   "metadata": {},
   "outputs": [
    {
     "data": {
      "text/plain": [
       "0.5002421307506053"
      ]
     },
     "execution_count": 257,
     "metadata": {},
     "output_type": "execute_result"
    }
   ],
   "source": [
    "len(PBR2019[PBR2019['PBR']>=PBR2019['PBR'].median()]) / len(PBR2019)"
   ]
  },
  {
   "cell_type": "code",
   "execution_count": 255,
   "metadata": {},
   "outputs": [
    {
     "data": {
      "text/plain": [
       "0.5486682808716707"
      ]
     },
     "execution_count": 255,
     "metadata": {},
     "output_type": "execute_result"
    }
   ],
   "source": [
    "len(PBR2019[PBR2019['PBR']>=1]) / len(PBR2019)"
   ]
  },
  {
   "cell_type": "markdown",
   "metadata": {},
   "source": [
    "PBR이 1보다 큰 종목들은 전체에서 54%정도를 차지하고 있다."
   ]
  },
  {
   "cell_type": "code",
   "execution_count": 233,
   "metadata": {},
   "outputs": [],
   "source": [
    "def RatioCheckBySector(df,fd='PBR',byValue='one'):\n",
    "    sectors = list(set(df['sector'].values))\n",
    "    rst = pd.DataFrame(columns=['OverRatio'],index=sectors)\n",
    "    ratio = []\n",
    "    if byValue=='one':\n",
    "        byValue=1\n",
    "    elif byValue=='median':\n",
    "        byValue=df[fd].median()\n",
    "    else :\n",
    "        raise ValueError(\"Not Available\")\n",
    "    for sc in sectors:\n",
    "        sub = df[(df.sector==sc)]\n",
    "        t_nb = len(sub)\n",
    "        h_nb = len(sub[sub[fd]>=byValue])\n",
    "        rst.loc[sc,'OverRatio'] = h_nb / t_nb\n",
    "    rst['OverRatio'] = rst['OverRatio'].astype(float) \n",
    "    return rst"
   ]
  },
  {
   "cell_type": "code",
   "execution_count": 249,
   "metadata": {},
   "outputs": [
    {
     "data": {
      "text/html": [
       "<div>\n",
       "<style scoped>\n",
       "    .dataframe tbody tr th:only-of-type {\n",
       "        vertical-align: middle;\n",
       "    }\n",
       "\n",
       "    .dataframe tbody tr th {\n",
       "        vertical-align: top;\n",
       "    }\n",
       "\n",
       "    .dataframe thead th {\n",
       "        text-align: right;\n",
       "    }\n",
       "</style>\n",
       "<table border=\"1\" class=\"dataframe\">\n",
       "  <thead>\n",
       "    <tr style=\"text-align: right;\">\n",
       "      <th></th>\n",
       "      <th>OverRatio</th>\n",
       "    </tr>\n",
       "  </thead>\n",
       "  <tbody>\n",
       "    <tr>\n",
       "      <th>자동차 신품 부품 제조업</th>\n",
       "      <td>0.215909</td>\n",
       "    </tr>\n",
       "    <tr>\n",
       "      <th>신발 및 신발 부분품 제조업</th>\n",
       "      <td>1.000000</td>\n",
       "    </tr>\n",
       "    <tr>\n",
       "      <th>생활용품 도매업</th>\n",
       "      <td>0.470588</td>\n",
       "    </tr>\n",
       "    <tr>\n",
       "      <th>기타 식품 제조업</th>\n",
       "      <td>0.620690</td>\n",
       "    </tr>\n",
       "    <tr>\n",
       "      <th>의약품 제조업</th>\n",
       "      <td>0.790123</td>\n",
       "    </tr>\n",
       "  </tbody>\n",
       "</table>\n",
       "</div>"
      ],
      "text/plain": [
       "                 OverRatio\n",
       "자동차 신품 부품 제조업     0.215909\n",
       "신발 및 신발 부분품 제조업   1.000000\n",
       "생활용품 도매업          0.470588\n",
       "기타 식품 제조업         0.620690\n",
       "의약품 제조업           0.790123"
      ]
     },
     "execution_count": 249,
     "metadata": {},
     "output_type": "execute_result"
    }
   ],
   "source": [
    "RatioCheckBySector(PBR2019,'PBR','one').tail()"
   ]
  },
  {
   "cell_type": "code",
   "execution_count": 250,
   "metadata": {},
   "outputs": [
    {
     "data": {
      "text/html": [
       "<div>\n",
       "<style scoped>\n",
       "    .dataframe tbody tr th:only-of-type {\n",
       "        vertical-align: middle;\n",
       "    }\n",
       "\n",
       "    .dataframe tbody tr th {\n",
       "        vertical-align: top;\n",
       "    }\n",
       "\n",
       "    .dataframe thead th {\n",
       "        text-align: right;\n",
       "    }\n",
       "</style>\n",
       "<table border=\"1\" class=\"dataframe\">\n",
       "  <thead>\n",
       "    <tr style=\"text-align: right;\">\n",
       "      <th></th>\n",
       "      <th>OverRatio</th>\n",
       "    </tr>\n",
       "  </thead>\n",
       "  <tbody>\n",
       "    <tr>\n",
       "      <th>자동차 신품 부품 제조업</th>\n",
       "      <td>0.181818</td>\n",
       "    </tr>\n",
       "    <tr>\n",
       "      <th>신발 및 신발 부분품 제조업</th>\n",
       "      <td>1.000000</td>\n",
       "    </tr>\n",
       "    <tr>\n",
       "      <th>생활용품 도매업</th>\n",
       "      <td>0.470588</td>\n",
       "    </tr>\n",
       "    <tr>\n",
       "      <th>기타 식품 제조업</th>\n",
       "      <td>0.620690</td>\n",
       "    </tr>\n",
       "    <tr>\n",
       "      <th>의약품 제조업</th>\n",
       "      <td>0.753086</td>\n",
       "    </tr>\n",
       "  </tbody>\n",
       "</table>\n",
       "</div>"
      ],
      "text/plain": [
       "                 OverRatio\n",
       "자동차 신품 부품 제조업     0.181818\n",
       "신발 및 신발 부분품 제조업   1.000000\n",
       "생활용품 도매업          0.470588\n",
       "기타 식품 제조업         0.620690\n",
       "의약품 제조업           0.753086"
      ]
     },
     "execution_count": 250,
     "metadata": {},
     "output_type": "execute_result"
    }
   ],
   "source": [
    "RatioCheckBySector(PBR2019,'PBR','median').tail()"
   ]
  },
  {
   "cell_type": "markdown",
   "metadata": {},
   "source": [
    "PBR이 1이나 전체 PBR의 Median보다 큰 비율을 계산해보면 Sector별로 구성이 다른 것을 확인할 수 있다."
   ]
  },
  {
   "cell_type": "code",
   "execution_count": 24,
   "metadata": {},
   "outputs": [],
   "source": [
    "PBR2019 = ldr.GetFunda('2019-12',itm=['PBR'],level=2)"
   ]
  },
  {
   "cell_type": "code",
   "execution_count": 19,
   "metadata": {},
   "outputs": [],
   "source": [
    "comp = ldr.CompanyInfo()[['code','sector']]\n",
    "comp.index = comp.code\n",
    "comp.drop(['code'],axis=1,inplace=True)\n",
    "code_to_sector = comp.to_dict()['sector']"
   ]
  },
  {
   "cell_type": "code",
   "execution_count": 208,
   "metadata": {},
   "outputs": [],
   "source": [
    "whole_low = PBR2019[lambda x : x['PBR']<PBR2019['PBR'].median()].index.to_list()\n",
    "whole_high = PBR2019[lambda x : x['PBR']>=PBR2019['PBR'].median()].index.to_list()"
   ]
  },
  {
   "cell_type": "code",
   "execution_count": 221,
   "metadata": {},
   "outputs": [],
   "source": [
    "whole = pd.DataFrame(columns=['hcr_low_fd','hcr_high_fd'],index=['PBR'])\n",
    "whole['hcr_low_fd'] = [HCR('2020-04-01','2021-03-10',whole_low)]\n",
    "whole['hcr_high_fd'] = [HCR('2020-04-01','2021-03-10',whole_high)]"
   ]
  },
  {
   "cell_type": "code",
   "execution_count": 223,
   "metadata": {},
   "outputs": [
    {
     "data": {
      "text/plain": [
       "<AxesSubplot:>"
      ]
     },
     "execution_count": 223,
     "metadata": {},
     "output_type": "execute_result"
    },
    {
     "data": {
      "image/png": "[encoded data removed]",
      "text/plain": [
       "<Figure size 576x432 with 1 Axes>"
      ]
     },
     "metadata": {
      "needs_background": "light"
     },
     "output_type": "display_data"
    }
   ],
   "source": [
    "whole.plot(kind='bar', figsize=(8,6))"
   ]
  },
  {
   "cell_type": "markdown",
   "metadata": {},
   "source": [
    "이것만 보면 저PBR이 기대주가 되어 저PBR로 포트폴리오를 구성해야 할 것 같지만 한 번 Sector별로 Median 그룹별 누적수익률의 예후를 확인해보자"
   ]
  },
  {
   "cell_type": "code",
   "execution_count": 26,
   "metadata": {},
   "outputs": [],
   "source": [
    "PBR2019['sector'] = PBR2019.index.map(code_to_sector)\n",
    "PBR2019.dropna(axis=0,inplace=True)\n",
    "PBR2019['PBR'] = PBR2019['PBR'].astype(float)\n",
    "PBR2019_median = PBR2019.groupby(['sector']).median()"
   ]
  },
  {
   "cell_type": "code",
   "execution_count": 136,
   "metadata": {},
   "outputs": [],
   "source": [
    "def BarPlot(df, fd_nm='PBR', TOP_N=10):\n",
    "    TOP_N_sectors = list(ldr.CompanyInfo()['sector'].value_counts().index[:TOP_N])\n",
    "    sub = df[df.index.isin(TOP_N_sectors)]\n",
    "    idx = np.arange(len(sub.index.to_list()))\n",
    "    plt.figure(figsize=(12,10))\n",
    "    plt.bar(sub.index.to_list(), sub[fd_nm].values, color='red', alpha=0.4)\n",
    "    plt.title('Bar Plot of {} by Sector'.format(fd_nm), fontsize=18,fontproperties=fontprop)\n",
    "    plt.xlabel('SOME SECTORS', fontsize=15,fontproperties=fontprop)\n",
    "    plt.ylabel(fd_nm, fontsize=15,fontproperties=fontprop)\n",
    "    plt.xticks(idx, sub.index.to_list(), fontsize=10,fontproperties=fontprop,rotation=300)\n",
    "    plt.show()\n",
    "    return True"
   ]
  },
  {
   "cell_type": "code",
   "execution_count": 142,
   "metadata": {},
   "outputs": [
    {
     "data": {
      "image/png": "[encoded data removed]",
      "text/plain": [
       "<Figure size 864x720 with 1 Axes>"
      ]
     },
     "metadata": {
      "needs_background": "light"
     },
     "output_type": "display_data"
    },
    {
     "data": {
      "text/plain": [
       "True"
      ]
     },
     "execution_count": 142,
     "metadata": {},
     "output_type": "execute_result"
    }
   ],
   "source": [
    "BarPlot(PBR2019_median)"
   ]
  },
  {
   "cell_type": "markdown",
   "metadata": {},
   "source": [
    "일단 PBR자체에 대한 중앙값이 Sector별로 큰 차이가 난다."
   ]
  },
  {
   "cell_type": "code",
   "execution_count": 201,
   "metadata": {},
   "outputs": [],
   "source": [
    "low_fd = []\n",
    "high_fd = []\n",
    "for sc in TOP_N_sectors:\n",
    "    sc_low = PBR2019[(PBR2019.sector==sc)&(PBR2019.PBR<PBR2019_median.loc[sc,'PBR'])].index.to_list()\n",
    "    sc_high = PBR2019[(PBR2019.sector==sc)&(PBR2019.PBR>=PBR2019_median.loc[sc,'PBR'])].index.to_list()\n",
    "    hcr_low = HCR('2020-04-01','2021-03-10',sc_low)\n",
    "    hcr_high = HCR('2020-04-01','2021-03-10',sc_high)\n",
    "    low_fd.append(hcr_low)\n",
    "    high_fd.append(hcr_high)"
   ]
  },
  {
   "cell_type": "code",
   "execution_count": 202,
   "metadata": {},
   "outputs": [],
   "source": [
    "total = pd.DataFrame(index=TOP_N_sectors, columns=['hcr_low_fd','hcr_high_fd'])\n",
    "total['hcr_low_fd'] = low_fd\n",
    "total['hcr_high_fd'] = high_fd"
   ]
  },
  {
   "cell_type": "code",
   "execution_count": 203,
   "metadata": {},
   "outputs": [
    {
     "data": {
      "text/plain": [
       "<AxesSubplot:>"
      ]
     },
     "execution_count": 203,
     "metadata": {},
     "output_type": "execute_result"
    },
    {
     "data": {
      "image/png": "[encoded data removed]",
      "text/plain": [
       "<Figure size 864x720 with 1 Axes>"
      ]
     },
     "metadata": {
      "needs_background": "light"
     },
     "output_type": "display_data"
    }
   ],
   "source": [
    "total.plot(kind='bar',figsize=(12,10))"
   ]
  },
  {
   "cell_type": "markdown",
   "metadata": {},
   "source": [
    "종목들의 수가 많은 10개의 Sector에 대해서만 해봐도 '소프트웨어','의약품','금융업' 등에서는 고PBR이 저PBR보다 평균적인 누적수익률의 예후가 좋았다."
   ]
  },
  {
   "cell_type": "code",
   "execution_count": null,
   "metadata": {},
   "outputs": [],
   "source": []
  },
  {
   "cell_type": "markdown",
   "metadata": {},
   "source": [
    "---"
   ]
  },
  {
   "cell_type": "code",
   "execution_count": null,
   "metadata": {},
   "outputs": [],
   "source": [
    "def BarPlotHCR(df fd_nm='PBR', TOP_N=10):\n",
    "    low_fd = []\n",
    "    high_fd = []\n",
    "    for sc in TOP_N_sectors:\n",
    "        sc_low = PBR2019[(PBR2019.sector==sc)&(PBR2019.PBR<PBR2019_median.loc[sc,'PBR'])].index.to_list()\n",
    "        sc_high = PBR2019[(PBR2019.sector==sc)&(PBR2019.PBR>=PBR2019_median.loc[sc,'PBR'])].index.to_list()\n",
    "        hcr_low = HCR('2020-04-01','2021-03-10',sc_low)\n",
    "        hcr_high = HCR('2020-04-01','2021-03-10',sc_high)\n",
    "        low_fd.append(hcr_low)\n",
    "        high_fd.append(hcr_high)\n",
    "    total = pd.DataFrame(index=TOP_N_sectors, columns=['hcr_low_fd','hcr_high_fd'])\n",
    "    total['hcr_low_fd'] = low_fd\n",
    "    total['hcr_high_fd'] = high_fd\n",
    "    total.plot(kind='bar',figsize=(12,10))\n",
    "    return True"
   ]
  },
  {
   "cell_type": "code",
   "execution_count": null,
   "metadata": {},
   "outputs": [],
   "source": []
  }
 ],
 "metadata": {
  "kernelspec": {
   "display_name": "Python 3",
   "language": "python",
   "name": "python3"
  },
  "language_info": {
   "codemirror_mode": {
    "name": "ipython",
    "version": 3
   },
   "file_extension": ".py",
   "mimetype": "text/x-python",
   "name": "python",
   "nbconvert_exporter": "python",
   "pygments_lexer": "ipython3",
   "version": "3.8.5"
  }
 },
 "nbformat": 4,
 "nbformat_minor": 4
}
